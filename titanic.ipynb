{
 "cells": [
  {
   "cell_type": "code",
   "execution_count": 1,
   "id": "2deea6bd",
   "metadata": {
    "_cell_guid": "b1076dfc-b9ad-4769-8c92-a6c4dae69d19",
    "_uuid": "8f2839f25d086af736a60e9eeb907d3b93b6e0e5",
    "execution": {
     "iopub.execute_input": "2022-12-06T15:36:29.464802Z",
     "iopub.status.busy": "2022-12-06T15:36:29.464221Z",
     "iopub.status.idle": "2022-12-06T15:36:29.481919Z",
     "shell.execute_reply": "2022-12-06T15:36:29.480441Z"
    },
    "papermill": {
     "duration": 0.050803,
     "end_time": "2022-12-06T15:36:29.485849",
     "exception": false,
     "start_time": "2022-12-06T15:36:29.435046",
     "status": "completed"
    },
    "tags": []
   },
   "outputs": [
    {
     "name": "stdout",
     "output_type": "stream",
     "text": [
      "/kaggle/input/titanic/train.csv\n",
      "/kaggle/input/titanic/test.csv\n",
      "/kaggle/input/titanic/gender_submission.csv\n"
     ]
    }
   ],
   "source": [
    "# This Python 3 environment comes with many helpful analytics libraries installed\n",
    "# It is defined by the kaggle/python Docker image: https://github.com/kaggle/docker-python\n",
    "# For example, here's several helpful packages to load\n",
    "\n",
    "import numpy as np # linear algebra\n",
    "import pandas as pd # data processing, CSV file I/O (e.g. pd.read_csv)\n",
    "\n",
    "# Input data files are available in the read-only \"../input/\" directory\n",
    "# For example, running this (by clicking run or pressing Shift+Enter) will list all files under the input directory\n",
    "\n",
    "import os\n",
    "for dirname, _, filenames in os.walk('/kaggle/input'):\n",
    "    for filename in filenames:\n",
    "        print(os.path.join(dirname, filename))\n",
    "\n",
    "# You can write up to 20GB to the current directory (/kaggle/working/) that gets preserved as output when you create a version using \"Save & Run All\" \n",
    "# You can also write temporary files to /kaggle/temp/, but they won't be saved outside of the current session"
   ]
  },
  {
   "cell_type": "markdown",
   "id": "c6ba5ad7",
   "metadata": {
    "papermill": {
     "duration": 0.028638,
     "end_time": "2022-12-06T15:36:29.543718",
     "exception": false,
     "start_time": "2022-12-06T15:36:29.515080",
     "status": "completed"
    },
    "tags": []
   },
   "source": [
    "# Libraries"
   ]
  },
  {
   "cell_type": "code",
   "execution_count": 2,
   "id": "191167af",
   "metadata": {
    "execution": {
     "iopub.execute_input": "2022-12-06T15:36:29.593184Z",
     "iopub.status.busy": "2022-12-06T15:36:29.592719Z",
     "iopub.status.idle": "2022-12-06T15:36:39.119073Z",
     "shell.execute_reply": "2022-12-06T15:36:39.117553Z"
    },
    "papermill": {
     "duration": 9.551977,
     "end_time": "2022-12-06T15:36:39.121978",
     "exception": false,
     "start_time": "2022-12-06T15:36:29.570001",
     "status": "completed"
    },
    "tags": []
   },
   "outputs": [],
   "source": [
    "import numpy as np \n",
    "import pandas as pd \n",
    "import seaborn as sb\n",
    "import os\n",
    "import random as rand\n",
    "import matplotlib.pyplot as plt\n",
    "from sklearn.model_selection import StratifiedShuffleSplit\n",
    "import tensorflow as tf\n",
    "from tensorflow.keras.models import Model\n",
    "from tensorflow.keras.models import Sequential\n",
    "from keras.layers import Input\n",
    "from keras.layers import Dense\n",
    "from keras.layers import Flatten\n",
    "from sklearn.metrics import confusion_matrix"
   ]
  },
  {
   "cell_type": "markdown",
   "id": "85bbcb66",
   "metadata": {
    "papermill": {
     "duration": 0.021548,
     "end_time": "2022-12-06T15:36:39.174166",
     "exception": false,
     "start_time": "2022-12-06T15:36:39.152618",
     "status": "completed"
    },
    "tags": []
   },
   "source": [
    "# Data engineering"
   ]
  },
  {
   "cell_type": "code",
   "execution_count": 3,
   "id": "294eac5b",
   "metadata": {
    "execution": {
     "iopub.execute_input": "2022-12-06T15:36:39.221100Z",
     "iopub.status.busy": "2022-12-06T15:36:39.220423Z",
     "iopub.status.idle": "2022-12-06T15:36:39.493328Z",
     "shell.execute_reply": "2022-12-06T15:36:39.492423Z"
    },
    "papermill": {
     "duration": 0.297205,
     "end_time": "2022-12-06T15:36:39.495872",
     "exception": false,
     "start_time": "2022-12-06T15:36:39.198667",
     "status": "completed"
    },
    "tags": []
   },
   "outputs": [
    {
     "name": "stdout",
     "output_type": "stream",
     "text": [
      "gender_submission.csv  test.csv  train.csv\r\n"
     ]
    }
   ],
   "source": [
    "!ls ../input/titanic/"
   ]
  },
  {
   "cell_type": "code",
   "execution_count": 4,
   "id": "7ac8f03a",
   "metadata": {
    "execution": {
     "iopub.execute_input": "2022-12-06T15:36:39.540473Z",
     "iopub.status.busy": "2022-12-06T15:36:39.538944Z",
     "iopub.status.idle": "2022-12-06T15:36:39.547060Z",
     "shell.execute_reply": "2022-12-06T15:36:39.545150Z"
    },
    "papermill": {
     "duration": 0.033464,
     "end_time": "2022-12-06T15:36:39.549979",
     "exception": false,
     "start_time": "2022-12-06T15:36:39.516515",
     "status": "completed"
    },
    "tags": []
   },
   "outputs": [],
   "source": [
    "train_data_path = '../input/titanic/train.csv'\n",
    "test_data_path = '../input/titanic/test.csv'"
   ]
  },
  {
   "cell_type": "markdown",
   "id": "bb295bfb",
   "metadata": {
    "papermill": {
     "duration": 0.020663,
     "end_time": "2022-12-06T15:36:39.591667",
     "exception": false,
     "start_time": "2022-12-06T15:36:39.571004",
     "status": "completed"
    },
    "tags": []
   },
   "source": [
    "## Test data \n",
    "Explore test data "
   ]
  },
  {
   "cell_type": "code",
   "execution_count": 5,
   "id": "e18bf0fc",
   "metadata": {
    "execution": {
     "iopub.execute_input": "2022-12-06T15:36:39.639833Z",
     "iopub.status.busy": "2022-12-06T15:36:39.639134Z",
     "iopub.status.idle": "2022-12-06T15:36:39.668892Z",
     "shell.execute_reply": "2022-12-06T15:36:39.667653Z"
    },
    "papermill": {
     "duration": 0.054969,
     "end_time": "2022-12-06T15:36:39.671043",
     "exception": false,
     "start_time": "2022-12-06T15:36:39.616074",
     "status": "completed"
    },
    "tags": []
   },
   "outputs": [
    {
     "data": {
      "text/plain": [
       "Index(['PassengerId', 'Survived', 'Pclass', 'Name', 'Sex', 'Age', 'SibSp',\n",
       "       'Parch', 'Ticket', 'Fare', 'Cabin', 'Embarked'],\n",
       "      dtype='object')"
      ]
     },
     "execution_count": 5,
     "metadata": {},
     "output_type": "execute_result"
    }
   ],
   "source": [
    "titanic_train = pd.read_csv(train_data_path)\n",
    "titanic_train.columns\n",
    "\n"
   ]
  },
  {
   "cell_type": "code",
   "execution_count": 6,
   "id": "8f341e73",
   "metadata": {
    "execution": {
     "iopub.execute_input": "2022-12-06T15:36:39.715665Z",
     "iopub.status.busy": "2022-12-06T15:36:39.715050Z",
     "iopub.status.idle": "2022-12-06T15:36:39.769650Z",
     "shell.execute_reply": "2022-12-06T15:36:39.768164Z"
    },
    "papermill": {
     "duration": 0.080403,
     "end_time": "2022-12-06T15:36:39.772534",
     "exception": false,
     "start_time": "2022-12-06T15:36:39.692131",
     "status": "completed"
    },
    "tags": []
   },
   "outputs": [
    {
     "data": {
      "text/html": [
       "<div>\n",
       "<style scoped>\n",
       "    .dataframe tbody tr th:only-of-type {\n",
       "        vertical-align: middle;\n",
       "    }\n",
       "\n",
       "    .dataframe tbody tr th {\n",
       "        vertical-align: top;\n",
       "    }\n",
       "\n",
       "    .dataframe thead th {\n",
       "        text-align: right;\n",
       "    }\n",
       "</style>\n",
       "<table border=\"1\" class=\"dataframe\">\n",
       "  <thead>\n",
       "    <tr style=\"text-align: right;\">\n",
       "      <th></th>\n",
       "      <th>PassengerId</th>\n",
       "      <th>Survived</th>\n",
       "      <th>Pclass</th>\n",
       "      <th>Age</th>\n",
       "      <th>SibSp</th>\n",
       "      <th>Parch</th>\n",
       "      <th>Fare</th>\n",
       "    </tr>\n",
       "  </thead>\n",
       "  <tbody>\n",
       "    <tr>\n",
       "      <th>count</th>\n",
       "      <td>891.000000</td>\n",
       "      <td>891.000000</td>\n",
       "      <td>891.000000</td>\n",
       "      <td>714.000000</td>\n",
       "      <td>891.000000</td>\n",
       "      <td>891.000000</td>\n",
       "      <td>891.000000</td>\n",
       "    </tr>\n",
       "    <tr>\n",
       "      <th>mean</th>\n",
       "      <td>446.000000</td>\n",
       "      <td>0.383838</td>\n",
       "      <td>2.308642</td>\n",
       "      <td>29.699118</td>\n",
       "      <td>0.523008</td>\n",
       "      <td>0.381594</td>\n",
       "      <td>32.204208</td>\n",
       "    </tr>\n",
       "    <tr>\n",
       "      <th>std</th>\n",
       "      <td>257.353842</td>\n",
       "      <td>0.486592</td>\n",
       "      <td>0.836071</td>\n",
       "      <td>14.526497</td>\n",
       "      <td>1.102743</td>\n",
       "      <td>0.806057</td>\n",
       "      <td>49.693429</td>\n",
       "    </tr>\n",
       "    <tr>\n",
       "      <th>min</th>\n",
       "      <td>1.000000</td>\n",
       "      <td>0.000000</td>\n",
       "      <td>1.000000</td>\n",
       "      <td>0.420000</td>\n",
       "      <td>0.000000</td>\n",
       "      <td>0.000000</td>\n",
       "      <td>0.000000</td>\n",
       "    </tr>\n",
       "    <tr>\n",
       "      <th>25%</th>\n",
       "      <td>223.500000</td>\n",
       "      <td>0.000000</td>\n",
       "      <td>2.000000</td>\n",
       "      <td>20.125000</td>\n",
       "      <td>0.000000</td>\n",
       "      <td>0.000000</td>\n",
       "      <td>7.910400</td>\n",
       "    </tr>\n",
       "    <tr>\n",
       "      <th>50%</th>\n",
       "      <td>446.000000</td>\n",
       "      <td>0.000000</td>\n",
       "      <td>3.000000</td>\n",
       "      <td>28.000000</td>\n",
       "      <td>0.000000</td>\n",
       "      <td>0.000000</td>\n",
       "      <td>14.454200</td>\n",
       "    </tr>\n",
       "    <tr>\n",
       "      <th>75%</th>\n",
       "      <td>668.500000</td>\n",
       "      <td>1.000000</td>\n",
       "      <td>3.000000</td>\n",
       "      <td>38.000000</td>\n",
       "      <td>1.000000</td>\n",
       "      <td>0.000000</td>\n",
       "      <td>31.000000</td>\n",
       "    </tr>\n",
       "    <tr>\n",
       "      <th>max</th>\n",
       "      <td>891.000000</td>\n",
       "      <td>1.000000</td>\n",
       "      <td>3.000000</td>\n",
       "      <td>80.000000</td>\n",
       "      <td>8.000000</td>\n",
       "      <td>6.000000</td>\n",
       "      <td>512.329200</td>\n",
       "    </tr>\n",
       "  </tbody>\n",
       "</table>\n",
       "</div>"
      ],
      "text/plain": [
       "       PassengerId    Survived      Pclass         Age       SibSp  \\\n",
       "count   891.000000  891.000000  891.000000  714.000000  891.000000   \n",
       "mean    446.000000    0.383838    2.308642   29.699118    0.523008   \n",
       "std     257.353842    0.486592    0.836071   14.526497    1.102743   \n",
       "min       1.000000    0.000000    1.000000    0.420000    0.000000   \n",
       "25%     223.500000    0.000000    2.000000   20.125000    0.000000   \n",
       "50%     446.000000    0.000000    3.000000   28.000000    0.000000   \n",
       "75%     668.500000    1.000000    3.000000   38.000000    1.000000   \n",
       "max     891.000000    1.000000    3.000000   80.000000    8.000000   \n",
       "\n",
       "            Parch        Fare  \n",
       "count  891.000000  891.000000  \n",
       "mean     0.381594   32.204208  \n",
       "std      0.806057   49.693429  \n",
       "min      0.000000    0.000000  \n",
       "25%      0.000000    7.910400  \n",
       "50%      0.000000   14.454200  \n",
       "75%      0.000000   31.000000  \n",
       "max      6.000000  512.329200  "
      ]
     },
     "execution_count": 6,
     "metadata": {},
     "output_type": "execute_result"
    }
   ],
   "source": [
    "titanic_train.describe()"
   ]
  },
  {
   "cell_type": "code",
   "execution_count": 7,
   "id": "9a88ec6a",
   "metadata": {
    "execution": {
     "iopub.execute_input": "2022-12-06T15:36:39.815603Z",
     "iopub.status.busy": "2022-12-06T15:36:39.815196Z",
     "iopub.status.idle": "2022-12-06T15:36:39.831937Z",
     "shell.execute_reply": "2022-12-06T15:36:39.831027Z"
    },
    "papermill": {
     "duration": 0.042409,
     "end_time": "2022-12-06T15:36:39.835042",
     "exception": false,
     "start_time": "2022-12-06T15:36:39.792633",
     "status": "completed"
    },
    "tags": []
   },
   "outputs": [
    {
     "data": {
      "text/html": [
       "<div>\n",
       "<style scoped>\n",
       "    .dataframe tbody tr th:only-of-type {\n",
       "        vertical-align: middle;\n",
       "    }\n",
       "\n",
       "    .dataframe tbody tr th {\n",
       "        vertical-align: top;\n",
       "    }\n",
       "\n",
       "    .dataframe thead th {\n",
       "        text-align: right;\n",
       "    }\n",
       "</style>\n",
       "<table border=\"1\" class=\"dataframe\">\n",
       "  <thead>\n",
       "    <tr style=\"text-align: right;\">\n",
       "      <th></th>\n",
       "      <th>PassengerId</th>\n",
       "      <th>Survived</th>\n",
       "      <th>Pclass</th>\n",
       "      <th>Name</th>\n",
       "      <th>Sex</th>\n",
       "      <th>Age</th>\n",
       "      <th>SibSp</th>\n",
       "      <th>Parch</th>\n",
       "      <th>Ticket</th>\n",
       "      <th>Fare</th>\n",
       "      <th>Cabin</th>\n",
       "      <th>Embarked</th>\n",
       "    </tr>\n",
       "  </thead>\n",
       "  <tbody>\n",
       "    <tr>\n",
       "      <th>0</th>\n",
       "      <td>1</td>\n",
       "      <td>0</td>\n",
       "      <td>3</td>\n",
       "      <td>Braund, Mr. Owen Harris</td>\n",
       "      <td>male</td>\n",
       "      <td>22.0</td>\n",
       "      <td>1</td>\n",
       "      <td>0</td>\n",
       "      <td>A/5 21171</td>\n",
       "      <td>7.2500</td>\n",
       "      <td>NaN</td>\n",
       "      <td>S</td>\n",
       "    </tr>\n",
       "    <tr>\n",
       "      <th>1</th>\n",
       "      <td>2</td>\n",
       "      <td>1</td>\n",
       "      <td>1</td>\n",
       "      <td>Cumings, Mrs. John Bradley (Florence Briggs Th...</td>\n",
       "      <td>female</td>\n",
       "      <td>38.0</td>\n",
       "      <td>1</td>\n",
       "      <td>0</td>\n",
       "      <td>PC 17599</td>\n",
       "      <td>71.2833</td>\n",
       "      <td>C85</td>\n",
       "      <td>C</td>\n",
       "    </tr>\n",
       "    <tr>\n",
       "      <th>2</th>\n",
       "      <td>3</td>\n",
       "      <td>1</td>\n",
       "      <td>3</td>\n",
       "      <td>Heikkinen, Miss. Laina</td>\n",
       "      <td>female</td>\n",
       "      <td>26.0</td>\n",
       "      <td>0</td>\n",
       "      <td>0</td>\n",
       "      <td>STON/O2. 3101282</td>\n",
       "      <td>7.9250</td>\n",
       "      <td>NaN</td>\n",
       "      <td>S</td>\n",
       "    </tr>\n",
       "    <tr>\n",
       "      <th>3</th>\n",
       "      <td>4</td>\n",
       "      <td>1</td>\n",
       "      <td>1</td>\n",
       "      <td>Futrelle, Mrs. Jacques Heath (Lily May Peel)</td>\n",
       "      <td>female</td>\n",
       "      <td>35.0</td>\n",
       "      <td>1</td>\n",
       "      <td>0</td>\n",
       "      <td>113803</td>\n",
       "      <td>53.1000</td>\n",
       "      <td>C123</td>\n",
       "      <td>S</td>\n",
       "    </tr>\n",
       "    <tr>\n",
       "      <th>4</th>\n",
       "      <td>5</td>\n",
       "      <td>0</td>\n",
       "      <td>3</td>\n",
       "      <td>Allen, Mr. William Henry</td>\n",
       "      <td>male</td>\n",
       "      <td>35.0</td>\n",
       "      <td>0</td>\n",
       "      <td>0</td>\n",
       "      <td>373450</td>\n",
       "      <td>8.0500</td>\n",
       "      <td>NaN</td>\n",
       "      <td>S</td>\n",
       "    </tr>\n",
       "  </tbody>\n",
       "</table>\n",
       "</div>"
      ],
      "text/plain": [
       "   PassengerId  Survived  Pclass  \\\n",
       "0            1         0       3   \n",
       "1            2         1       1   \n",
       "2            3         1       3   \n",
       "3            4         1       1   \n",
       "4            5         0       3   \n",
       "\n",
       "                                                Name     Sex   Age  SibSp  \\\n",
       "0                            Braund, Mr. Owen Harris    male  22.0      1   \n",
       "1  Cumings, Mrs. John Bradley (Florence Briggs Th...  female  38.0      1   \n",
       "2                             Heikkinen, Miss. Laina  female  26.0      0   \n",
       "3       Futrelle, Mrs. Jacques Heath (Lily May Peel)  female  35.0      1   \n",
       "4                           Allen, Mr. William Henry    male  35.0      0   \n",
       "\n",
       "   Parch            Ticket     Fare Cabin Embarked  \n",
       "0      0         A/5 21171   7.2500   NaN        S  \n",
       "1      0          PC 17599  71.2833   C85        C  \n",
       "2      0  STON/O2. 3101282   7.9250   NaN        S  \n",
       "3      0            113803  53.1000  C123        S  \n",
       "4      0            373450   8.0500   NaN        S  "
      ]
     },
     "execution_count": 7,
     "metadata": {},
     "output_type": "execute_result"
    }
   ],
   "source": [
    "titanic_train.head()"
   ]
  },
  {
   "cell_type": "markdown",
   "id": "147d2ea6",
   "metadata": {
    "papermill": {
     "duration": 0.020831,
     "end_time": "2022-12-06T15:36:39.876566",
     "exception": false,
     "start_time": "2022-12-06T15:36:39.855735",
     "status": "completed"
    },
    "tags": []
   },
   "source": [
    "## Test data"
   ]
  },
  {
   "cell_type": "code",
   "execution_count": 8,
   "id": "301a4a9b",
   "metadata": {
    "execution": {
     "iopub.execute_input": "2022-12-06T15:36:39.919158Z",
     "iopub.status.busy": "2022-12-06T15:36:39.918713Z",
     "iopub.status.idle": "2022-12-06T15:36:39.935077Z",
     "shell.execute_reply": "2022-12-06T15:36:39.933334Z"
    },
    "papermill": {
     "duration": 0.042526,
     "end_time": "2022-12-06T15:36:39.939569",
     "exception": false,
     "start_time": "2022-12-06T15:36:39.897043",
     "status": "completed"
    },
    "tags": []
   },
   "outputs": [
    {
     "data": {
      "text/plain": [
       "Index(['PassengerId', 'Pclass', 'Name', 'Sex', 'Age', 'SibSp', 'Parch',\n",
       "       'Ticket', 'Fare', 'Cabin', 'Embarked'],\n",
       "      dtype='object')"
      ]
     },
     "execution_count": 8,
     "metadata": {},
     "output_type": "execute_result"
    }
   ],
   "source": [
    "titanic_test = pd.read_csv(test_data_path)\n",
    "titanic_test.columns"
   ]
  },
  {
   "cell_type": "code",
   "execution_count": 9,
   "id": "384d3dca",
   "metadata": {
    "execution": {
     "iopub.execute_input": "2022-12-06T15:36:39.987358Z",
     "iopub.status.busy": "2022-12-06T15:36:39.986868Z",
     "iopub.status.idle": "2022-12-06T15:36:40.016322Z",
     "shell.execute_reply": "2022-12-06T15:36:40.014794Z"
    },
    "papermill": {
     "duration": 0.056242,
     "end_time": "2022-12-06T15:36:40.018829",
     "exception": false,
     "start_time": "2022-12-06T15:36:39.962587",
     "status": "completed"
    },
    "tags": []
   },
   "outputs": [
    {
     "data": {
      "text/html": [
       "<div>\n",
       "<style scoped>\n",
       "    .dataframe tbody tr th:only-of-type {\n",
       "        vertical-align: middle;\n",
       "    }\n",
       "\n",
       "    .dataframe tbody tr th {\n",
       "        vertical-align: top;\n",
       "    }\n",
       "\n",
       "    .dataframe thead th {\n",
       "        text-align: right;\n",
       "    }\n",
       "</style>\n",
       "<table border=\"1\" class=\"dataframe\">\n",
       "  <thead>\n",
       "    <tr style=\"text-align: right;\">\n",
       "      <th></th>\n",
       "      <th>PassengerId</th>\n",
       "      <th>Pclass</th>\n",
       "      <th>Age</th>\n",
       "      <th>SibSp</th>\n",
       "      <th>Parch</th>\n",
       "      <th>Fare</th>\n",
       "    </tr>\n",
       "  </thead>\n",
       "  <tbody>\n",
       "    <tr>\n",
       "      <th>count</th>\n",
       "      <td>418.000000</td>\n",
       "      <td>418.000000</td>\n",
       "      <td>332.000000</td>\n",
       "      <td>418.000000</td>\n",
       "      <td>418.000000</td>\n",
       "      <td>417.000000</td>\n",
       "    </tr>\n",
       "    <tr>\n",
       "      <th>mean</th>\n",
       "      <td>1100.500000</td>\n",
       "      <td>2.265550</td>\n",
       "      <td>30.272590</td>\n",
       "      <td>0.447368</td>\n",
       "      <td>0.392344</td>\n",
       "      <td>35.627188</td>\n",
       "    </tr>\n",
       "    <tr>\n",
       "      <th>std</th>\n",
       "      <td>120.810458</td>\n",
       "      <td>0.841838</td>\n",
       "      <td>14.181209</td>\n",
       "      <td>0.896760</td>\n",
       "      <td>0.981429</td>\n",
       "      <td>55.907576</td>\n",
       "    </tr>\n",
       "    <tr>\n",
       "      <th>min</th>\n",
       "      <td>892.000000</td>\n",
       "      <td>1.000000</td>\n",
       "      <td>0.170000</td>\n",
       "      <td>0.000000</td>\n",
       "      <td>0.000000</td>\n",
       "      <td>0.000000</td>\n",
       "    </tr>\n",
       "    <tr>\n",
       "      <th>25%</th>\n",
       "      <td>996.250000</td>\n",
       "      <td>1.000000</td>\n",
       "      <td>21.000000</td>\n",
       "      <td>0.000000</td>\n",
       "      <td>0.000000</td>\n",
       "      <td>7.895800</td>\n",
       "    </tr>\n",
       "    <tr>\n",
       "      <th>50%</th>\n",
       "      <td>1100.500000</td>\n",
       "      <td>3.000000</td>\n",
       "      <td>27.000000</td>\n",
       "      <td>0.000000</td>\n",
       "      <td>0.000000</td>\n",
       "      <td>14.454200</td>\n",
       "    </tr>\n",
       "    <tr>\n",
       "      <th>75%</th>\n",
       "      <td>1204.750000</td>\n",
       "      <td>3.000000</td>\n",
       "      <td>39.000000</td>\n",
       "      <td>1.000000</td>\n",
       "      <td>0.000000</td>\n",
       "      <td>31.500000</td>\n",
       "    </tr>\n",
       "    <tr>\n",
       "      <th>max</th>\n",
       "      <td>1309.000000</td>\n",
       "      <td>3.000000</td>\n",
       "      <td>76.000000</td>\n",
       "      <td>8.000000</td>\n",
       "      <td>9.000000</td>\n",
       "      <td>512.329200</td>\n",
       "    </tr>\n",
       "  </tbody>\n",
       "</table>\n",
       "</div>"
      ],
      "text/plain": [
       "       PassengerId      Pclass         Age       SibSp       Parch        Fare\n",
       "count   418.000000  418.000000  332.000000  418.000000  418.000000  417.000000\n",
       "mean   1100.500000    2.265550   30.272590    0.447368    0.392344   35.627188\n",
       "std     120.810458    0.841838   14.181209    0.896760    0.981429   55.907576\n",
       "min     892.000000    1.000000    0.170000    0.000000    0.000000    0.000000\n",
       "25%     996.250000    1.000000   21.000000    0.000000    0.000000    7.895800\n",
       "50%    1100.500000    3.000000   27.000000    0.000000    0.000000   14.454200\n",
       "75%    1204.750000    3.000000   39.000000    1.000000    0.000000   31.500000\n",
       "max    1309.000000    3.000000   76.000000    8.000000    9.000000  512.329200"
      ]
     },
     "execution_count": 9,
     "metadata": {},
     "output_type": "execute_result"
    }
   ],
   "source": [
    "titanic_test.describe()"
   ]
  },
  {
   "cell_type": "code",
   "execution_count": 10,
   "id": "df9a76ac",
   "metadata": {
    "execution": {
     "iopub.execute_input": "2022-12-06T15:36:40.069997Z",
     "iopub.status.busy": "2022-12-06T15:36:40.069472Z",
     "iopub.status.idle": "2022-12-06T15:36:40.087808Z",
     "shell.execute_reply": "2022-12-06T15:36:40.086325Z"
    },
    "papermill": {
     "duration": 0.048894,
     "end_time": "2022-12-06T15:36:40.090677",
     "exception": false,
     "start_time": "2022-12-06T15:36:40.041783",
     "status": "completed"
    },
    "tags": []
   },
   "outputs": [
    {
     "data": {
      "text/html": [
       "<div>\n",
       "<style scoped>\n",
       "    .dataframe tbody tr th:only-of-type {\n",
       "        vertical-align: middle;\n",
       "    }\n",
       "\n",
       "    .dataframe tbody tr th {\n",
       "        vertical-align: top;\n",
       "    }\n",
       "\n",
       "    .dataframe thead th {\n",
       "        text-align: right;\n",
       "    }\n",
       "</style>\n",
       "<table border=\"1\" class=\"dataframe\">\n",
       "  <thead>\n",
       "    <tr style=\"text-align: right;\">\n",
       "      <th></th>\n",
       "      <th>PassengerId</th>\n",
       "      <th>Pclass</th>\n",
       "      <th>Name</th>\n",
       "      <th>Sex</th>\n",
       "      <th>Age</th>\n",
       "      <th>SibSp</th>\n",
       "      <th>Parch</th>\n",
       "      <th>Ticket</th>\n",
       "      <th>Fare</th>\n",
       "      <th>Cabin</th>\n",
       "      <th>Embarked</th>\n",
       "    </tr>\n",
       "  </thead>\n",
       "  <tbody>\n",
       "    <tr>\n",
       "      <th>0</th>\n",
       "      <td>892</td>\n",
       "      <td>3</td>\n",
       "      <td>Kelly, Mr. James</td>\n",
       "      <td>male</td>\n",
       "      <td>34.5</td>\n",
       "      <td>0</td>\n",
       "      <td>0</td>\n",
       "      <td>330911</td>\n",
       "      <td>7.8292</td>\n",
       "      <td>NaN</td>\n",
       "      <td>Q</td>\n",
       "    </tr>\n",
       "    <tr>\n",
       "      <th>1</th>\n",
       "      <td>893</td>\n",
       "      <td>3</td>\n",
       "      <td>Wilkes, Mrs. James (Ellen Needs)</td>\n",
       "      <td>female</td>\n",
       "      <td>47.0</td>\n",
       "      <td>1</td>\n",
       "      <td>0</td>\n",
       "      <td>363272</td>\n",
       "      <td>7.0000</td>\n",
       "      <td>NaN</td>\n",
       "      <td>S</td>\n",
       "    </tr>\n",
       "    <tr>\n",
       "      <th>2</th>\n",
       "      <td>894</td>\n",
       "      <td>2</td>\n",
       "      <td>Myles, Mr. Thomas Francis</td>\n",
       "      <td>male</td>\n",
       "      <td>62.0</td>\n",
       "      <td>0</td>\n",
       "      <td>0</td>\n",
       "      <td>240276</td>\n",
       "      <td>9.6875</td>\n",
       "      <td>NaN</td>\n",
       "      <td>Q</td>\n",
       "    </tr>\n",
       "    <tr>\n",
       "      <th>3</th>\n",
       "      <td>895</td>\n",
       "      <td>3</td>\n",
       "      <td>Wirz, Mr. Albert</td>\n",
       "      <td>male</td>\n",
       "      <td>27.0</td>\n",
       "      <td>0</td>\n",
       "      <td>0</td>\n",
       "      <td>315154</td>\n",
       "      <td>8.6625</td>\n",
       "      <td>NaN</td>\n",
       "      <td>S</td>\n",
       "    </tr>\n",
       "    <tr>\n",
       "      <th>4</th>\n",
       "      <td>896</td>\n",
       "      <td>3</td>\n",
       "      <td>Hirvonen, Mrs. Alexander (Helga E Lindqvist)</td>\n",
       "      <td>female</td>\n",
       "      <td>22.0</td>\n",
       "      <td>1</td>\n",
       "      <td>1</td>\n",
       "      <td>3101298</td>\n",
       "      <td>12.2875</td>\n",
       "      <td>NaN</td>\n",
       "      <td>S</td>\n",
       "    </tr>\n",
       "  </tbody>\n",
       "</table>\n",
       "</div>"
      ],
      "text/plain": [
       "   PassengerId  Pclass                                          Name     Sex  \\\n",
       "0          892       3                              Kelly, Mr. James    male   \n",
       "1          893       3              Wilkes, Mrs. James (Ellen Needs)  female   \n",
       "2          894       2                     Myles, Mr. Thomas Francis    male   \n",
       "3          895       3                              Wirz, Mr. Albert    male   \n",
       "4          896       3  Hirvonen, Mrs. Alexander (Helga E Lindqvist)  female   \n",
       "\n",
       "    Age  SibSp  Parch   Ticket     Fare Cabin Embarked  \n",
       "0  34.5      0      0   330911   7.8292   NaN        Q  \n",
       "1  47.0      1      0   363272   7.0000   NaN        S  \n",
       "2  62.0      0      0   240276   9.6875   NaN        Q  \n",
       "3  27.0      0      0   315154   8.6625   NaN        S  \n",
       "4  22.0      1      1  3101298  12.2875   NaN        S  "
      ]
     },
     "execution_count": 10,
     "metadata": {},
     "output_type": "execute_result"
    }
   ],
   "source": [
    "titanic_test.head()"
   ]
  },
  {
   "cell_type": "markdown",
   "id": "fb9b8faa",
   "metadata": {
    "papermill": {
     "duration": 0.025365,
     "end_time": "2022-12-06T15:36:40.137991",
     "exception": false,
     "start_time": "2022-12-06T15:36:40.112626",
     "status": "completed"
    },
    "tags": []
   },
   "source": [
    "# Data preparation"
   ]
  },
  {
   "cell_type": "markdown",
   "id": "64e00d29",
   "metadata": {
    "papermill": {
     "duration": 0.020729,
     "end_time": "2022-12-06T15:36:40.180242",
     "exception": false,
     "start_time": "2022-12-06T15:36:40.159513",
     "status": "completed"
    },
    "tags": []
   },
   "source": [
    "## Select reduce columns "
   ]
  },
  {
   "cell_type": "code",
   "execution_count": 11,
   "id": "0d1e8e71",
   "metadata": {
    "execution": {
     "iopub.execute_input": "2022-12-06T15:36:40.227487Z",
     "iopub.status.busy": "2022-12-06T15:36:40.227065Z",
     "iopub.status.idle": "2022-12-06T15:36:40.236948Z",
     "shell.execute_reply": "2022-12-06T15:36:40.235302Z"
    },
    "papermill": {
     "duration": 0.036463,
     "end_time": "2022-12-06T15:36:40.240006",
     "exception": false,
     "start_time": "2022-12-06T15:36:40.203543",
     "status": "completed"
    },
    "tags": []
   },
   "outputs": [
    {
     "data": {
      "text/plain": [
       "PassengerId      int64\n",
       "Survived         int64\n",
       "Pclass           int64\n",
       "Name            object\n",
       "Sex             object\n",
       "Age            float64\n",
       "SibSp            int64\n",
       "Parch            int64\n",
       "Ticket          object\n",
       "Fare           float64\n",
       "Cabin           object\n",
       "Embarked        object\n",
       "dtype: object"
      ]
     },
     "execution_count": 11,
     "metadata": {},
     "output_type": "execute_result"
    }
   ],
   "source": [
    "titanic_train.dtypes"
   ]
  },
  {
   "cell_type": "code",
   "execution_count": 12,
   "id": "299aebb2",
   "metadata": {
    "execution": {
     "iopub.execute_input": "2022-12-06T15:36:40.287692Z",
     "iopub.status.busy": "2022-12-06T15:36:40.287298Z",
     "iopub.status.idle": "2022-12-06T15:36:40.296109Z",
     "shell.execute_reply": "2022-12-06T15:36:40.294618Z"
    },
    "papermill": {
     "duration": 0.034442,
     "end_time": "2022-12-06T15:36:40.298796",
     "exception": false,
     "start_time": "2022-12-06T15:36:40.264354",
     "status": "completed"
    },
    "tags": []
   },
   "outputs": [
    {
     "data": {
      "text/plain": [
       "PassengerId      int64\n",
       "Pclass           int64\n",
       "Name            object\n",
       "Sex             object\n",
       "Age            float64\n",
       "SibSp            int64\n",
       "Parch            int64\n",
       "Ticket          object\n",
       "Fare           float64\n",
       "Cabin           object\n",
       "Embarked        object\n",
       "dtype: object"
      ]
     },
     "execution_count": 12,
     "metadata": {},
     "output_type": "execute_result"
    }
   ],
   "source": [
    "titanic_test.dtypes"
   ]
  },
  {
   "cell_type": "markdown",
   "id": "38b8256a",
   "metadata": {
    "papermill": {
     "duration": 0.023083,
     "end_time": "2022-12-06T15:36:40.343321",
     "exception": false,
     "start_time": "2022-12-06T15:36:40.320238",
     "status": "completed"
    },
    "tags": []
   },
   "source": [
    "I propose to keep Pclass,Sex, Age, SibSP,Parch,Ticket, Fare,Cabin, Embarked, Survived"
   ]
  },
  {
   "cell_type": "code",
   "execution_count": 13,
   "id": "d8819889",
   "metadata": {
    "execution": {
     "iopub.execute_input": "2022-12-06T15:36:40.391771Z",
     "iopub.status.busy": "2022-12-06T15:36:40.391375Z",
     "iopub.status.idle": "2022-12-06T15:36:40.411160Z",
     "shell.execute_reply": "2022-12-06T15:36:40.409490Z"
    },
    "papermill": {
     "duration": 0.04701,
     "end_time": "2022-12-06T15:36:40.414005",
     "exception": false,
     "start_time": "2022-12-06T15:36:40.366995",
     "status": "completed"
    },
    "tags": []
   },
   "outputs": [
    {
     "data": {
      "text/html": [
       "<div>\n",
       "<style scoped>\n",
       "    .dataframe tbody tr th:only-of-type {\n",
       "        vertical-align: middle;\n",
       "    }\n",
       "\n",
       "    .dataframe tbody tr th {\n",
       "        vertical-align: top;\n",
       "    }\n",
       "\n",
       "    .dataframe thead th {\n",
       "        text-align: right;\n",
       "    }\n",
       "</style>\n",
       "<table border=\"1\" class=\"dataframe\">\n",
       "  <thead>\n",
       "    <tr style=\"text-align: right;\">\n",
       "      <th></th>\n",
       "      <th>PassengerId</th>\n",
       "      <th>Pclass</th>\n",
       "      <th>Sex</th>\n",
       "      <th>Age</th>\n",
       "      <th>SibSp</th>\n",
       "      <th>Parch</th>\n",
       "      <th>Ticket</th>\n",
       "      <th>Fare</th>\n",
       "      <th>Cabin</th>\n",
       "      <th>Embarked</th>\n",
       "      <th>Survived</th>\n",
       "    </tr>\n",
       "  </thead>\n",
       "  <tbody>\n",
       "    <tr>\n",
       "      <th>0</th>\n",
       "      <td>1</td>\n",
       "      <td>3</td>\n",
       "      <td>male</td>\n",
       "      <td>22.0</td>\n",
       "      <td>1</td>\n",
       "      <td>0</td>\n",
       "      <td>A/5 21171</td>\n",
       "      <td>7.2500</td>\n",
       "      <td>NaN</td>\n",
       "      <td>S</td>\n",
       "      <td>0</td>\n",
       "    </tr>\n",
       "    <tr>\n",
       "      <th>1</th>\n",
       "      <td>2</td>\n",
       "      <td>1</td>\n",
       "      <td>female</td>\n",
       "      <td>38.0</td>\n",
       "      <td>1</td>\n",
       "      <td>0</td>\n",
       "      <td>PC 17599</td>\n",
       "      <td>71.2833</td>\n",
       "      <td>C85</td>\n",
       "      <td>C</td>\n",
       "      <td>1</td>\n",
       "    </tr>\n",
       "    <tr>\n",
       "      <th>2</th>\n",
       "      <td>3</td>\n",
       "      <td>3</td>\n",
       "      <td>female</td>\n",
       "      <td>26.0</td>\n",
       "      <td>0</td>\n",
       "      <td>0</td>\n",
       "      <td>STON/O2. 3101282</td>\n",
       "      <td>7.9250</td>\n",
       "      <td>NaN</td>\n",
       "      <td>S</td>\n",
       "      <td>1</td>\n",
       "    </tr>\n",
       "    <tr>\n",
       "      <th>3</th>\n",
       "      <td>4</td>\n",
       "      <td>1</td>\n",
       "      <td>female</td>\n",
       "      <td>35.0</td>\n",
       "      <td>1</td>\n",
       "      <td>0</td>\n",
       "      <td>113803</td>\n",
       "      <td>53.1000</td>\n",
       "      <td>C123</td>\n",
       "      <td>S</td>\n",
       "      <td>1</td>\n",
       "    </tr>\n",
       "    <tr>\n",
       "      <th>4</th>\n",
       "      <td>5</td>\n",
       "      <td>3</td>\n",
       "      <td>male</td>\n",
       "      <td>35.0</td>\n",
       "      <td>0</td>\n",
       "      <td>0</td>\n",
       "      <td>373450</td>\n",
       "      <td>8.0500</td>\n",
       "      <td>NaN</td>\n",
       "      <td>S</td>\n",
       "      <td>0</td>\n",
       "    </tr>\n",
       "  </tbody>\n",
       "</table>\n",
       "</div>"
      ],
      "text/plain": [
       "   PassengerId  Pclass     Sex   Age  SibSp  Parch            Ticket     Fare  \\\n",
       "0            1       3    male  22.0      1      0         A/5 21171   7.2500   \n",
       "1            2       1  female  38.0      1      0          PC 17599  71.2833   \n",
       "2            3       3  female  26.0      0      0  STON/O2. 3101282   7.9250   \n",
       "3            4       1  female  35.0      1      0            113803  53.1000   \n",
       "4            5       3    male  35.0      0      0            373450   8.0500   \n",
       "\n",
       "  Cabin Embarked  Survived  \n",
       "0   NaN        S         0  \n",
       "1   C85        C         1  \n",
       "2   NaN        S         1  \n",
       "3  C123        S         1  \n",
       "4   NaN        S         0  "
      ]
     },
     "execution_count": 13,
     "metadata": {},
     "output_type": "execute_result"
    }
   ],
   "source": [
    "columns_to_keep = ['PassengerId','Pclass', 'Sex',  'Age',  'SibSp', 'Parch','Ticket', 'Fare','Cabin', 'Embarked', 'Survived']\n",
    "titanic_train = titanic_train.loc[:,columns_to_keep]\n",
    "titanic_train.head()"
   ]
  },
  {
   "cell_type": "code",
   "execution_count": 14,
   "id": "b305aca9",
   "metadata": {
    "execution": {
     "iopub.execute_input": "2022-12-06T15:36:40.462938Z",
     "iopub.status.busy": "2022-12-06T15:36:40.462546Z",
     "iopub.status.idle": "2022-12-06T15:36:40.482599Z",
     "shell.execute_reply": "2022-12-06T15:36:40.480904Z"
    },
    "papermill": {
     "duration": 0.048734,
     "end_time": "2022-12-06T15:36:40.484852",
     "exception": false,
     "start_time": "2022-12-06T15:36:40.436118",
     "status": "completed"
    },
    "tags": []
   },
   "outputs": [
    {
     "data": {
      "text/html": [
       "<div>\n",
       "<style scoped>\n",
       "    .dataframe tbody tr th:only-of-type {\n",
       "        vertical-align: middle;\n",
       "    }\n",
       "\n",
       "    .dataframe tbody tr th {\n",
       "        vertical-align: top;\n",
       "    }\n",
       "\n",
       "    .dataframe thead th {\n",
       "        text-align: right;\n",
       "    }\n",
       "</style>\n",
       "<table border=\"1\" class=\"dataframe\">\n",
       "  <thead>\n",
       "    <tr style=\"text-align: right;\">\n",
       "      <th></th>\n",
       "      <th>PassengerId</th>\n",
       "      <th>Pclass</th>\n",
       "      <th>Sex</th>\n",
       "      <th>Age</th>\n",
       "      <th>SibSp</th>\n",
       "      <th>Parch</th>\n",
       "      <th>Ticket</th>\n",
       "      <th>Fare</th>\n",
       "      <th>Cabin</th>\n",
       "      <th>Embarked</th>\n",
       "    </tr>\n",
       "  </thead>\n",
       "  <tbody>\n",
       "    <tr>\n",
       "      <th>0</th>\n",
       "      <td>892</td>\n",
       "      <td>3</td>\n",
       "      <td>male</td>\n",
       "      <td>34.5</td>\n",
       "      <td>0</td>\n",
       "      <td>0</td>\n",
       "      <td>330911</td>\n",
       "      <td>7.8292</td>\n",
       "      <td>NaN</td>\n",
       "      <td>Q</td>\n",
       "    </tr>\n",
       "    <tr>\n",
       "      <th>1</th>\n",
       "      <td>893</td>\n",
       "      <td>3</td>\n",
       "      <td>female</td>\n",
       "      <td>47.0</td>\n",
       "      <td>1</td>\n",
       "      <td>0</td>\n",
       "      <td>363272</td>\n",
       "      <td>7.0000</td>\n",
       "      <td>NaN</td>\n",
       "      <td>S</td>\n",
       "    </tr>\n",
       "    <tr>\n",
       "      <th>2</th>\n",
       "      <td>894</td>\n",
       "      <td>2</td>\n",
       "      <td>male</td>\n",
       "      <td>62.0</td>\n",
       "      <td>0</td>\n",
       "      <td>0</td>\n",
       "      <td>240276</td>\n",
       "      <td>9.6875</td>\n",
       "      <td>NaN</td>\n",
       "      <td>Q</td>\n",
       "    </tr>\n",
       "    <tr>\n",
       "      <th>3</th>\n",
       "      <td>895</td>\n",
       "      <td>3</td>\n",
       "      <td>male</td>\n",
       "      <td>27.0</td>\n",
       "      <td>0</td>\n",
       "      <td>0</td>\n",
       "      <td>315154</td>\n",
       "      <td>8.6625</td>\n",
       "      <td>NaN</td>\n",
       "      <td>S</td>\n",
       "    </tr>\n",
       "    <tr>\n",
       "      <th>4</th>\n",
       "      <td>896</td>\n",
       "      <td>3</td>\n",
       "      <td>female</td>\n",
       "      <td>22.0</td>\n",
       "      <td>1</td>\n",
       "      <td>1</td>\n",
       "      <td>3101298</td>\n",
       "      <td>12.2875</td>\n",
       "      <td>NaN</td>\n",
       "      <td>S</td>\n",
       "    </tr>\n",
       "  </tbody>\n",
       "</table>\n",
       "</div>"
      ],
      "text/plain": [
       "   PassengerId  Pclass     Sex   Age  SibSp  Parch   Ticket     Fare Cabin  \\\n",
       "0          892       3    male  34.5      0      0   330911   7.8292   NaN   \n",
       "1          893       3  female  47.0      1      0   363272   7.0000   NaN   \n",
       "2          894       2    male  62.0      0      0   240276   9.6875   NaN   \n",
       "3          895       3    male  27.0      0      0   315154   8.6625   NaN   \n",
       "4          896       3  female  22.0      1      1  3101298  12.2875   NaN   \n",
       "\n",
       "  Embarked  \n",
       "0        Q  \n",
       "1        S  \n",
       "2        Q  \n",
       "3        S  \n",
       "4        S  "
      ]
     },
     "execution_count": 14,
     "metadata": {},
     "output_type": "execute_result"
    }
   ],
   "source": [
    "columns_to_keep = ['PassengerId','Pclass', 'Sex',  'Age',  'SibSp', 'Parch','Ticket', 'Fare','Cabin', 'Embarked']\n",
    "titanic_test = titanic_test.loc[:,columns_to_keep]\n",
    "titanic_test.head()"
   ]
  },
  {
   "cell_type": "markdown",
   "id": "b42569cb",
   "metadata": {
    "papermill": {
     "duration": 0.022387,
     "end_time": "2022-12-06T15:36:40.528539",
     "exception": false,
     "start_time": "2022-12-06T15:36:40.506152",
     "status": "completed"
    },
    "tags": []
   },
   "source": [
    "# Passengers ID\n",
    "Drop. \n",
    "old : Transforms to float"
   ]
  },
  {
   "cell_type": "markdown",
   "id": "ed892824",
   "metadata": {
    "papermill": {
     "duration": 0.023197,
     "end_time": "2022-12-06T15:36:40.574342",
     "exception": false,
     "start_time": "2022-12-06T15:36:40.551145",
     "status": "completed"
    },
    "tags": []
   },
   "source": []
  },
  {
   "cell_type": "code",
   "execution_count": 15,
   "id": "0927cb45",
   "metadata": {
    "execution": {
     "iopub.execute_input": "2022-12-06T15:36:40.624727Z",
     "iopub.status.busy": "2022-12-06T15:36:40.624314Z",
     "iopub.status.idle": "2022-12-06T15:36:40.633485Z",
     "shell.execute_reply": "2022-12-06T15:36:40.630940Z"
    },
    "papermill": {
     "duration": 0.035431,
     "end_time": "2022-12-06T15:36:40.636530",
     "exception": false,
     "start_time": "2022-12-06T15:36:40.601099",
     "status": "completed"
    },
    "tags": []
   },
   "outputs": [],
   "source": [
    "#titanic_train.drop(\"PassengerId\", axis = 1)\n",
    "#titanic_test.drop(\"PassengerId\", axis = 1)\n",
    "titanic_train[\"PassengerId\"] = titanic_train[\"PassengerId\"].astype(float)\n",
    "titanic_test[\"PassengerId\"]  = titanic_test[\"PassengerId\"].astype(float)"
   ]
  },
  {
   "cell_type": "markdown",
   "id": "ef43535e",
   "metadata": {
    "papermill": {
     "duration": 0.025607,
     "end_time": "2022-12-06T15:36:40.686432",
     "exception": false,
     "start_time": "2022-12-06T15:36:40.660825",
     "status": "completed"
    },
    "tags": []
   },
   "source": [
    "# Number of sibling"
   ]
  },
  {
   "cell_type": "code",
   "execution_count": 16,
   "id": "2da1d8b3",
   "metadata": {
    "execution": {
     "iopub.execute_input": "2022-12-06T15:36:40.733300Z",
     "iopub.status.busy": "2022-12-06T15:36:40.732903Z",
     "iopub.status.idle": "2022-12-06T15:36:40.989985Z",
     "shell.execute_reply": "2022-12-06T15:36:40.988447Z"
    },
    "papermill": {
     "duration": 0.284254,
     "end_time": "2022-12-06T15:36:40.992713",
     "exception": false,
     "start_time": "2022-12-06T15:36:40.708459",
     "status": "completed"
    },
    "tags": []
   },
   "outputs": [
    {
     "name": "stdout",
     "output_type": "stream",
     "text": [
      "count    891.000000\n",
      "mean       0.523008\n",
      "std        1.102743\n",
      "min        0.000000\n",
      "25%        0.000000\n",
      "50%        0.000000\n",
      "75%        1.000000\n",
      "max        8.000000\n",
      "Name: SibSp, dtype: float64\n"
     ]
    },
    {
     "data": {
      "text/plain": [
       "(array([608., 209.,  28.,  16.,   0.,  18.,   5.,   0.,   0.,   7.]),\n",
       " array([0. , 0.8, 1.6, 2.4, 3.2, 4. , 4.8, 5.6, 6.4, 7.2, 8. ]),\n",
       " <BarContainer object of 10 artists>)"
      ]
     },
     "execution_count": 16,
     "metadata": {},
     "output_type": "execute_result"
    },
    {
     "data": {
      "image/png": "[encoded data removed]",
      "text/plain": [
       "<Figure size 432x288 with 1 Axes>"
      ]
     },
     "metadata": {
      "needs_background": "light"
     },
     "output_type": "display_data"
    }
   ],
   "source": [
    "print(titanic_train[\"SibSp\"].describe())\n",
    "plt.hist(titanic_train[\"SibSp\"])"
   ]
  },
  {
   "cell_type": "code",
   "execution_count": 17,
   "id": "4a0fd8f0",
   "metadata": {
    "execution": {
     "iopub.execute_input": "2022-12-06T15:36:41.060567Z",
     "iopub.status.busy": "2022-12-06T15:36:41.060011Z",
     "iopub.status.idle": "2022-12-06T15:36:41.264791Z",
     "shell.execute_reply": "2022-12-06T15:36:41.263756Z"
    },
    "papermill": {
     "duration": 0.244599,
     "end_time": "2022-12-06T15:36:41.266870",
     "exception": false,
     "start_time": "2022-12-06T15:36:41.022271",
     "status": "completed"
    },
    "tags": []
   },
   "outputs": [
    {
     "name": "stdout",
     "output_type": "stream",
     "text": [
      "count    418.000000\n",
      "mean       0.447368\n",
      "std        0.896760\n",
      "min        0.000000\n",
      "25%        0.000000\n",
      "50%        0.000000\n",
      "75%        1.000000\n",
      "max        8.000000\n",
      "Name: SibSp, dtype: float64\n"
     ]
    },
    {
     "data": {
      "text/plain": [
       "(array([283., 110.,  14.,   4.,   0.,   4.,   1.,   0.,   0.,   2.]),\n",
       " array([0. , 0.8, 1.6, 2.4, 3.2, 4. , 4.8, 5.6, 6.4, 7.2, 8. ]),\n",
       " <BarContainer object of 10 artists>)"
      ]
     },
     "execution_count": 17,
     "metadata": {},
     "output_type": "execute_result"
    },
    {
     "data": {
      "image/png": "[encoded data removed]",
      "text/plain": [
       "<Figure size 432x288 with 1 Axes>"
      ]
     },
     "metadata": {
      "needs_background": "light"
     },
     "output_type": "display_data"
    }
   ],
   "source": [
    "print(titanic_test[\"SibSp\"].describe())\n",
    "plt.hist(titanic_test[\"SibSp\"])"
   ]
  },
  {
   "cell_type": "markdown",
   "id": "b7cfcfd9",
   "metadata": {
    "papermill": {
     "duration": 0.024259,
     "end_time": "2022-12-06T15:36:41.313817",
     "exception": false,
     "start_time": "2022-12-06T15:36:41.289558",
     "status": "completed"
    },
    "tags": []
   },
   "source": []
  },
  {
   "cell_type": "code",
   "execution_count": 18,
   "id": "4804044b",
   "metadata": {
    "execution": {
     "iopub.execute_input": "2022-12-06T15:36:41.362511Z",
     "iopub.status.busy": "2022-12-06T15:36:41.361007Z",
     "iopub.status.idle": "2022-12-06T15:36:41.369614Z",
     "shell.execute_reply": "2022-12-06T15:36:41.368524Z"
    },
    "papermill": {
     "duration": 0.034887,
     "end_time": "2022-12-06T15:36:41.372139",
     "exception": false,
     "start_time": "2022-12-06T15:36:41.337252",
     "status": "completed"
    },
    "tags": []
   },
   "outputs": [],
   "source": [
    "def categorise_siblings(data):\n",
    "    cut_labels_9 = ['sib_0','sib_1','sib_2','sib_3', \n",
    "                    'sib_4','sib_5','sib_6','sib_7', 'sib_8']\n",
    "    cut_bins = [0,1,2,3,4,5,6,7,8,9]\n",
    "    data['Sib_cat'] = pd.cut(data['SibSp'], \n",
    "                             bins=cut_bins, \n",
    "                             labels=cut_labels_9)\n",
    "    \n",
    "    data['Sib_cat'] = data.Sib_cat.astype(str)\n",
    "    data.loc[data[\"Sib_cat\"] == 'nan', \"Sib_cat\"] = \"Sib_Unknown\"\n",
    "    \n",
    "    return data"
   ]
  },
  {
   "cell_type": "code",
   "execution_count": 19,
   "id": "cc4f5f81",
   "metadata": {
    "execution": {
     "iopub.execute_input": "2022-12-06T15:36:41.420605Z",
     "iopub.status.busy": "2022-12-06T15:36:41.419637Z",
     "iopub.status.idle": "2022-12-06T15:36:41.425987Z",
     "shell.execute_reply": "2022-12-06T15:36:41.424508Z"
    },
    "papermill": {
     "duration": 0.03243,
     "end_time": "2022-12-06T15:36:41.428372",
     "exception": false,
     "start_time": "2022-12-06T15:36:41.395942",
     "status": "completed"
    },
    "tags": []
   },
   "outputs": [],
   "source": [
    "def transform_sibling_cat(data):\n",
    "    factors = data['Sib_cat'].unique()\n",
    "    gender_columns = pd.get_dummies(data['Sib_cat'])\n",
    "    columns = range(0,len(factors))\n",
    "    for column in columns:\n",
    "        data[factors[column]] = gender_columns.loc[:, factors[column]].astype(float)\n",
    "        \n",
    "    return data"
   ]
  },
  {
   "cell_type": "markdown",
   "id": "f572c1da",
   "metadata": {
    "papermill": {
     "duration": 0.024516,
     "end_time": "2022-12-06T15:36:41.477511",
     "exception": false,
     "start_time": "2022-12-06T15:36:41.452995",
     "status": "completed"
    },
    "tags": []
   },
   "source": []
  },
  {
   "cell_type": "code",
   "execution_count": 20,
   "id": "237262a8",
   "metadata": {
    "execution": {
     "iopub.execute_input": "2022-12-06T15:36:41.525545Z",
     "iopub.status.busy": "2022-12-06T15:36:41.525121Z",
     "iopub.status.idle": "2022-12-06T15:36:41.553052Z",
     "shell.execute_reply": "2022-12-06T15:36:41.551987Z"
    },
    "papermill": {
     "duration": 0.054189,
     "end_time": "2022-12-06T15:36:41.555060",
     "exception": false,
     "start_time": "2022-12-06T15:36:41.500871",
     "status": "completed"
    },
    "tags": []
   },
   "outputs": [
    {
     "data": {
      "text/plain": [
       "PassengerId    float64\n",
       "Pclass           int64\n",
       "Sex             object\n",
       "Age            float64\n",
       "Parch            int64\n",
       "Ticket          object\n",
       "Fare           float64\n",
       "Cabin           object\n",
       "Embarked        object\n",
       "Survived         int64\n",
       "sib_0          float64\n",
       "Sib_Unknown    float64\n",
       "sib_2          float64\n",
       "sib_3          float64\n",
       "sib_1          float64\n",
       "sib_4          float64\n",
       "sib_7          float64\n",
       "dtype: object"
      ]
     },
     "execution_count": 20,
     "metadata": {},
     "output_type": "execute_result"
    }
   ],
   "source": [
    "titanic_train = categorise_siblings(titanic_train)\n",
    "titanic_train = transform_sibling_cat(titanic_train)\n",
    "titanic_train = titanic_train.drop(\"SibSp\", axis = 1)\n",
    "titanic_train = titanic_train.drop(\"Sib_cat\", axis = 1)\n",
    "titanic_train.dtypes"
   ]
  },
  {
   "cell_type": "code",
   "execution_count": 21,
   "id": "471b4650",
   "metadata": {
    "execution": {
     "iopub.execute_input": "2022-12-06T15:36:41.602304Z",
     "iopub.status.busy": "2022-12-06T15:36:41.601729Z",
     "iopub.status.idle": "2022-12-06T15:36:41.609916Z",
     "shell.execute_reply": "2022-12-06T15:36:41.608929Z"
    },
    "papermill": {
     "duration": 0.0342,
     "end_time": "2022-12-06T15:36:41.611845",
     "exception": false,
     "start_time": "2022-12-06T15:36:41.577645",
     "status": "completed"
    },
    "tags": []
   },
   "outputs": [
    {
     "data": {
      "text/plain": [
       "(891, 17)"
      ]
     },
     "execution_count": 21,
     "metadata": {},
     "output_type": "execute_result"
    }
   ],
   "source": [
    "titanic_train.shape"
   ]
  },
  {
   "cell_type": "code",
   "execution_count": 22,
   "id": "96bc0c09",
   "metadata": {
    "execution": {
     "iopub.execute_input": "2022-12-06T15:36:41.659613Z",
     "iopub.status.busy": "2022-12-06T15:36:41.658953Z",
     "iopub.status.idle": "2022-12-06T15:36:41.677884Z",
     "shell.execute_reply": "2022-12-06T15:36:41.676437Z"
    },
    "papermill": {
     "duration": 0.045138,
     "end_time": "2022-12-06T15:36:41.680357",
     "exception": false,
     "start_time": "2022-12-06T15:36:41.635219",
     "status": "completed"
    },
    "tags": []
   },
   "outputs": [
    {
     "data": {
      "text/plain": [
       "PassengerId    float64\n",
       "Pclass           int64\n",
       "Sex             object\n",
       "Age            float64\n",
       "Parch            int64\n",
       "Ticket          object\n",
       "Fare           float64\n",
       "Cabin           object\n",
       "Embarked        object\n",
       "Sib_Unknown    float64\n",
       "sib_0          float64\n",
       "sib_1          float64\n",
       "sib_2          float64\n",
       "sib_3          float64\n",
       "sib_4          float64\n",
       "sib_7          float64\n",
       "dtype: object"
      ]
     },
     "execution_count": 22,
     "metadata": {},
     "output_type": "execute_result"
    }
   ],
   "source": [
    "titanic_test = categorise_siblings(titanic_test)\n",
    "titanic_test = transform_sibling_cat(titanic_test)\n",
    "titanic_test = titanic_test.drop(\"SibSp\", axis = 1)\n",
    "titanic_test = titanic_test.drop(\"Sib_cat\", axis = 1)\n",
    "titanic_test.dtypes"
   ]
  },
  {
   "cell_type": "code",
   "execution_count": 23,
   "id": "b2dfb14a",
   "metadata": {
    "execution": {
     "iopub.execute_input": "2022-12-06T15:36:41.730150Z",
     "iopub.status.busy": "2022-12-06T15:36:41.729487Z",
     "iopub.status.idle": "2022-12-06T15:36:41.736301Z",
     "shell.execute_reply": "2022-12-06T15:36:41.735222Z"
    },
    "papermill": {
     "duration": 0.034632,
     "end_time": "2022-12-06T15:36:41.738830",
     "exception": false,
     "start_time": "2022-12-06T15:36:41.704198",
     "status": "completed"
    },
    "tags": []
   },
   "outputs": [
    {
     "data": {
      "text/plain": [
       "(418, 16)"
      ]
     },
     "execution_count": 23,
     "metadata": {},
     "output_type": "execute_result"
    }
   ],
   "source": [
    "titanic_test.shape"
   ]
  },
  {
   "cell_type": "code",
   "execution_count": null,
   "id": "558d953d",
   "metadata": {
    "papermill": {
     "duration": 0.023057,
     "end_time": "2022-12-06T15:36:41.788380",
     "exception": false,
     "start_time": "2022-12-06T15:36:41.765323",
     "status": "completed"
    },
    "tags": []
   },
   "outputs": [],
   "source": []
  },
  {
   "cell_type": "markdown",
   "id": "3ea20c68",
   "metadata": {
    "papermill": {
     "duration": 0.023736,
     "end_time": "2022-12-06T15:36:41.835756",
     "exception": false,
     "start_time": "2022-12-06T15:36:41.812020",
     "status": "completed"
    },
    "tags": []
   },
   "source": [
    "# Transforming age into categories\n",
    "The categorise the age into 9 categories; unknown and one for each decade. The categories are then transformed in hot_coding format. "
   ]
  },
  {
   "cell_type": "markdown",
   "id": "3573d3f8",
   "metadata": {
    "papermill": {
     "duration": 0.024281,
     "end_time": "2022-12-06T15:36:41.886857",
     "exception": false,
     "start_time": "2022-12-06T15:36:41.862576",
     "status": "completed"
    },
    "tags": []
   },
   "source": [
    "titanic_train['Age'].unique()"
   ]
  },
  {
   "cell_type": "code",
   "execution_count": 24,
   "id": "b719e12a",
   "metadata": {
    "execution": {
     "iopub.execute_input": "2022-12-06T15:36:41.934484Z",
     "iopub.status.busy": "2022-12-06T15:36:41.934092Z",
     "iopub.status.idle": "2022-12-06T15:36:42.174612Z",
     "shell.execute_reply": "2022-12-06T15:36:42.172266Z"
    },
    "papermill": {
     "duration": 0.269155,
     "end_time": "2022-12-06T15:36:42.179072",
     "exception": false,
     "start_time": "2022-12-06T15:36:41.909917",
     "status": "completed"
    },
    "tags": []
   },
   "outputs": [
    {
     "data": {
      "image/png": "[encoded data removed]",
      "text/plain": [
       "<Figure size 432x288 with 1 Axes>"
      ]
     },
     "metadata": {
      "needs_background": "light"
     },
     "output_type": "display_data"
    }
   ],
   "source": [
    "plt.hist(titanic_train['Age'], bins=10)\n",
    "plt.show()"
   ]
  },
  {
   "cell_type": "code",
   "execution_count": 25,
   "id": "a26a5ef8",
   "metadata": {
    "execution": {
     "iopub.execute_input": "2022-12-06T15:36:42.233685Z",
     "iopub.status.busy": "2022-12-06T15:36:42.232653Z",
     "iopub.status.idle": "2022-12-06T15:36:42.246334Z",
     "shell.execute_reply": "2022-12-06T15:36:42.244257Z"
    },
    "papermill": {
     "duration": 0.044195,
     "end_time": "2022-12-06T15:36:42.249255",
     "exception": false,
     "start_time": "2022-12-06T15:36:42.205060",
     "status": "completed"
    },
    "tags": []
   },
   "outputs": [
    {
     "data": {
      "text/plain": [
       "count    714.000000\n",
       "mean      29.699118\n",
       "std       14.526497\n",
       "min        0.420000\n",
       "25%       20.125000\n",
       "50%       28.000000\n",
       "75%       38.000000\n",
       "max       80.000000\n",
       "Name: Age, dtype: float64"
      ]
     },
     "execution_count": 25,
     "metadata": {},
     "output_type": "execute_result"
    }
   ],
   "source": [
    "titanic_train['Age'].describe()"
   ]
  },
  {
   "cell_type": "code",
   "execution_count": 26,
   "id": "9bb8d8e8",
   "metadata": {
    "execution": {
     "iopub.execute_input": "2022-12-06T15:36:42.302300Z",
     "iopub.status.busy": "2022-12-06T15:36:42.301232Z",
     "iopub.status.idle": "2022-12-06T15:36:42.468655Z",
     "shell.execute_reply": "2022-12-06T15:36:42.466937Z"
    },
    "papermill": {
     "duration": 0.199176,
     "end_time": "2022-12-06T15:36:42.471609",
     "exception": false,
     "start_time": "2022-12-06T15:36:42.272433",
     "status": "completed"
    },
    "tags": []
   },
   "outputs": [
    {
     "data": {
      "image/png": "[encoded data removed]",
      "text/plain": [
       "<Figure size 432x288 with 1 Axes>"
      ]
     },
     "metadata": {
      "needs_background": "light"
     },
     "output_type": "display_data"
    }
   ],
   "source": [
    "plt.hist(titanic_test['Age'], bins=10)\n",
    "plt.show()"
   ]
  },
  {
   "cell_type": "code",
   "execution_count": 27,
   "id": "21599067",
   "metadata": {
    "execution": {
     "iopub.execute_input": "2022-12-06T15:36:42.518757Z",
     "iopub.status.busy": "2022-12-06T15:36:42.518392Z",
     "iopub.status.idle": "2022-12-06T15:36:42.529550Z",
     "shell.execute_reply": "2022-12-06T15:36:42.528418Z"
    },
    "papermill": {
     "duration": 0.037058,
     "end_time": "2022-12-06T15:36:42.531639",
     "exception": false,
     "start_time": "2022-12-06T15:36:42.494581",
     "status": "completed"
    },
    "tags": []
   },
   "outputs": [
    {
     "data": {
      "text/plain": [
       "count    332.000000\n",
       "mean      30.272590\n",
       "std       14.181209\n",
       "min        0.170000\n",
       "25%       21.000000\n",
       "50%       27.000000\n",
       "75%       39.000000\n",
       "max       76.000000\n",
       "Name: Age, dtype: float64"
      ]
     },
     "execution_count": 27,
     "metadata": {},
     "output_type": "execute_result"
    }
   ],
   "source": [
    "titanic_test['Age'].describe()"
   ]
  },
  {
   "cell_type": "code",
   "execution_count": 28,
   "id": "b1a9cc97",
   "metadata": {
    "execution": {
     "iopub.execute_input": "2022-12-06T15:36:42.587878Z",
     "iopub.status.busy": "2022-12-06T15:36:42.587215Z",
     "iopub.status.idle": "2022-12-06T15:36:42.594735Z",
     "shell.execute_reply": "2022-12-06T15:36:42.593540Z"
    },
    "papermill": {
     "duration": 0.039877,
     "end_time": "2022-12-06T15:36:42.597497",
     "exception": false,
     "start_time": "2022-12-06T15:36:42.557620",
     "status": "completed"
    },
    "tags": []
   },
   "outputs": [],
   "source": [
    "def transform_age_cat(data):\n",
    "    factors = data['Age_cat'].unique()\n",
    "    gender_columns = pd.get_dummies(data['Age_cat'])\n",
    "    columns = range(0,len(factors))\n",
    "    for column in columns:\n",
    "        data[factors[column]] = gender_columns.loc[:, factors[column]].astype(float)\n",
    "        \n",
    "    return data\n"
   ]
  },
  {
   "cell_type": "code",
   "execution_count": 29,
   "id": "9a2bf7eb",
   "metadata": {
    "execution": {
     "iopub.execute_input": "2022-12-06T15:36:42.653899Z",
     "iopub.status.busy": "2022-12-06T15:36:42.653038Z",
     "iopub.status.idle": "2022-12-06T15:36:42.662183Z",
     "shell.execute_reply": "2022-12-06T15:36:42.661185Z"
    },
    "papermill": {
     "duration": 0.042752,
     "end_time": "2022-12-06T15:36:42.665075",
     "exception": false,
     "start_time": "2022-12-06T15:36:42.622323",
     "status": "completed"
    },
    "tags": []
   },
   "outputs": [],
   "source": [
    "def categorise_age(data):\n",
    "    cut_labels_8 = ['age_0-9','age_10-19','age_20-29','age_30-39', \n",
    "                    'age_40-49','age_50-59','age_60-69','age_70-79']\n",
    "    cut_bins = [0,10,20,30,40,50,60,70,80]\n",
    "    data['Age_cat'] = pd.cut(data['Age'], \n",
    "                             bins=cut_bins, \n",
    "                             labels=cut_labels_8)\n",
    "    data['Age_cat'] = data.Age_cat.astype(str)\n",
    "    data.loc[data[\"Age\"].isna(), \"Age_cat\"] = \"Age_Unknown\"\n",
    "    return data"
   ]
  },
  {
   "cell_type": "code",
   "execution_count": 30,
   "id": "06275019",
   "metadata": {
    "execution": {
     "iopub.execute_input": "2022-12-06T15:36:42.725142Z",
     "iopub.status.busy": "2022-12-06T15:36:42.724470Z",
     "iopub.status.idle": "2022-12-06T15:36:42.743495Z",
     "shell.execute_reply": "2022-12-06T15:36:42.741808Z"
    },
    "papermill": {
     "duration": 0.050967,
     "end_time": "2022-12-06T15:36:42.745995",
     "exception": false,
     "start_time": "2022-12-06T15:36:42.695028",
     "status": "completed"
    },
    "tags": []
   },
   "outputs": [
    {
     "data": {
      "text/plain": [
       "PassengerId    float64\n",
       "Pclass           int64\n",
       "Sex             object\n",
       "Parch            int64\n",
       "Ticket          object\n",
       "Fare           float64\n",
       "Cabin           object\n",
       "Embarked        object\n",
       "Survived         int64\n",
       "sib_0          float64\n",
       "Sib_Unknown    float64\n",
       "sib_2          float64\n",
       "sib_3          float64\n",
       "sib_1          float64\n",
       "sib_4          float64\n",
       "sib_7          float64\n",
       "age_20-29      float64\n",
       "age_30-39      float64\n",
       "Age_Unknown    float64\n",
       "age_50-59      float64\n",
       "age_0-9        float64\n",
       "age_10-19      float64\n",
       "age_60-69      float64\n",
       "age_40-49      float64\n",
       "age_70-79      float64\n",
       "dtype: object"
      ]
     },
     "execution_count": 30,
     "metadata": {},
     "output_type": "execute_result"
    }
   ],
   "source": [
    "titanic_train = categorise_age(titanic_train)\n",
    "titanic_train = transform_age_cat(titanic_train)\n",
    "titanic_train = titanic_train.drop(\"Age\", axis = 1)\n",
    "titanic_train = titanic_train.drop(\"Age_cat\", axis = 1)\n",
    "titanic_train.dtypes"
   ]
  },
  {
   "cell_type": "code",
   "execution_count": 31,
   "id": "754214c1",
   "metadata": {
    "execution": {
     "iopub.execute_input": "2022-12-06T15:36:42.795473Z",
     "iopub.status.busy": "2022-12-06T15:36:42.795059Z",
     "iopub.status.idle": "2022-12-06T15:36:42.815011Z",
     "shell.execute_reply": "2022-12-06T15:36:42.814048Z"
    },
    "papermill": {
     "duration": 0.047148,
     "end_time": "2022-12-06T15:36:42.817091",
     "exception": false,
     "start_time": "2022-12-06T15:36:42.769943",
     "status": "completed"
    },
    "tags": []
   },
   "outputs": [
    {
     "data": {
      "text/plain": [
       "PassengerId    float64\n",
       "Pclass           int64\n",
       "Sex             object\n",
       "Parch            int64\n",
       "Ticket          object\n",
       "Fare           float64\n",
       "Cabin           object\n",
       "Embarked        object\n",
       "Sib_Unknown    float64\n",
       "sib_0          float64\n",
       "sib_1          float64\n",
       "sib_2          float64\n",
       "sib_3          float64\n",
       "sib_4          float64\n",
       "sib_7          float64\n",
       "age_30-39      float64\n",
       "age_40-49      float64\n",
       "age_60-69      float64\n",
       "age_20-29      float64\n",
       "age_10-19      float64\n",
       "Age_Unknown    float64\n",
       "age_50-59      float64\n",
       "age_0-9        float64\n",
       "age_70-79      float64\n",
       "dtype: object"
      ]
     },
     "execution_count": 31,
     "metadata": {},
     "output_type": "execute_result"
    }
   ],
   "source": [
    "titanic_test = categorise_age(titanic_test)\n",
    "titanic_test = transform_age_cat(titanic_test)\n",
    "titanic_test = titanic_test.drop(\"Age\", axis = 1)\n",
    "titanic_test = titanic_test.drop(\"Age_cat\", axis = 1)\n",
    "titanic_test.dtypes"
   ]
  },
  {
   "cell_type": "markdown",
   "id": "5072bd22",
   "metadata": {
    "papermill": {
     "duration": 0.024976,
     "end_time": "2022-12-06T15:36:42.870355",
     "exception": false,
     "start_time": "2022-12-06T15:36:42.845379",
     "status": "completed"
    },
    "tags": []
   },
   "source": [
    "## Gender transformation to hot-coding \n",
    "We check the factor values are the same between both datasets. Then, we generate a hot coding of two columns; i.e., male and female. Both columns replace the Sex column."
   ]
  },
  {
   "cell_type": "code",
   "execution_count": 32,
   "id": "405f085a",
   "metadata": {
    "execution": {
     "iopub.execute_input": "2022-12-06T15:36:42.930538Z",
     "iopub.status.busy": "2022-12-06T15:36:42.929878Z",
     "iopub.status.idle": "2022-12-06T15:36:42.937243Z",
     "shell.execute_reply": "2022-12-06T15:36:42.936117Z"
    },
    "papermill": {
     "duration": 0.042746,
     "end_time": "2022-12-06T15:36:42.940517",
     "exception": false,
     "start_time": "2022-12-06T15:36:42.897771",
     "status": "completed"
    },
    "tags": []
   },
   "outputs": [
    {
     "data": {
      "text/plain": [
       "array(['male', 'female'], dtype=object)"
      ]
     },
     "execution_count": 32,
     "metadata": {},
     "output_type": "execute_result"
    }
   ],
   "source": [
    "titanic_train['Sex'].unique()"
   ]
  },
  {
   "cell_type": "code",
   "execution_count": 33,
   "id": "872cfbaa",
   "metadata": {
    "execution": {
     "iopub.execute_input": "2022-12-06T15:36:42.991274Z",
     "iopub.status.busy": "2022-12-06T15:36:42.990414Z",
     "iopub.status.idle": "2022-12-06T15:36:42.997111Z",
     "shell.execute_reply": "2022-12-06T15:36:42.995955Z"
    },
    "papermill": {
     "duration": 0.034028,
     "end_time": "2022-12-06T15:36:42.999759",
     "exception": false,
     "start_time": "2022-12-06T15:36:42.965731",
     "status": "completed"
    },
    "tags": []
   },
   "outputs": [
    {
     "data": {
      "text/plain": [
       "array(['male', 'female'], dtype=object)"
      ]
     },
     "execution_count": 33,
     "metadata": {},
     "output_type": "execute_result"
    }
   ],
   "source": [
    "titanic_test['Sex'].unique()"
   ]
  },
  {
   "cell_type": "code",
   "execution_count": 34,
   "id": "17d38383",
   "metadata": {
    "execution": {
     "iopub.execute_input": "2022-12-06T15:36:43.061550Z",
     "iopub.status.busy": "2022-12-06T15:36:43.060699Z",
     "iopub.status.idle": "2022-12-06T15:36:43.067426Z",
     "shell.execute_reply": "2022-12-06T15:36:43.065595Z"
    },
    "papermill": {
     "duration": 0.046747,
     "end_time": "2022-12-06T15:36:43.071708",
     "exception": false,
     "start_time": "2022-12-06T15:36:43.024961",
     "status": "completed"
    },
    "tags": []
   },
   "outputs": [],
   "source": [
    "def transform_gender(data):\n",
    "    factors = data['Sex'].unique()\n",
    "    gender_columns = pd.get_dummies(data['Sex'])\n",
    "    columns = range(0,len(factors))\n",
    "    \n",
    "    for column in columns:\n",
    "        data[factors[column]] = gender_columns.loc[:,factors[column]].astype(float)\n",
    "        \n",
    "    return data\n",
    "    "
   ]
  },
  {
   "cell_type": "code",
   "execution_count": 35,
   "id": "d270f463",
   "metadata": {
    "execution": {
     "iopub.execute_input": "2022-12-06T15:36:43.140752Z",
     "iopub.status.busy": "2022-12-06T15:36:43.140201Z",
     "iopub.status.idle": "2022-12-06T15:36:43.173031Z",
     "shell.execute_reply": "2022-12-06T15:36:43.169507Z"
    },
    "papermill": {
     "duration": 0.073183,
     "end_time": "2022-12-06T15:36:43.177015",
     "exception": false,
     "start_time": "2022-12-06T15:36:43.103832",
     "status": "completed"
    },
    "tags": []
   },
   "outputs": [
    {
     "data": {
      "text/plain": [
       "PassengerId    float64\n",
       "Pclass           int64\n",
       "Parch            int64\n",
       "Ticket          object\n",
       "Fare           float64\n",
       "Cabin           object\n",
       "Embarked        object\n",
       "Survived         int64\n",
       "sib_0          float64\n",
       "Sib_Unknown    float64\n",
       "sib_2          float64\n",
       "sib_3          float64\n",
       "sib_1          float64\n",
       "sib_4          float64\n",
       "sib_7          float64\n",
       "age_20-29      float64\n",
       "age_30-39      float64\n",
       "Age_Unknown    float64\n",
       "age_50-59      float64\n",
       "age_0-9        float64\n",
       "age_10-19      float64\n",
       "age_60-69      float64\n",
       "age_40-49      float64\n",
       "age_70-79      float64\n",
       "male           float64\n",
       "female         float64\n",
       "dtype: object"
      ]
     },
     "execution_count": 35,
     "metadata": {},
     "output_type": "execute_result"
    }
   ],
   "source": [
    "titanic_train = transform_gender(titanic_train)\n",
    "titanic_train.drop(\"Sex\", axis = 1, inplace = True)\n",
    "titanic_train.dtypes"
   ]
  },
  {
   "cell_type": "code",
   "execution_count": 36,
   "id": "115bf638",
   "metadata": {
    "execution": {
     "iopub.execute_input": "2022-12-06T15:36:43.228048Z",
     "iopub.status.busy": "2022-12-06T15:36:43.227483Z",
     "iopub.status.idle": "2022-12-06T15:36:43.265420Z",
     "shell.execute_reply": "2022-12-06T15:36:43.262783Z"
    },
    "papermill": {
     "duration": 0.066893,
     "end_time": "2022-12-06T15:36:43.268364",
     "exception": false,
     "start_time": "2022-12-06T15:36:43.201471",
     "status": "completed"
    },
    "tags": []
   },
   "outputs": [
    {
     "data": {
      "text/html": [
       "<div>\n",
       "<style scoped>\n",
       "    .dataframe tbody tr th:only-of-type {\n",
       "        vertical-align: middle;\n",
       "    }\n",
       "\n",
       "    .dataframe tbody tr th {\n",
       "        vertical-align: top;\n",
       "    }\n",
       "\n",
       "    .dataframe thead th {\n",
       "        text-align: right;\n",
       "    }\n",
       "</style>\n",
       "<table border=\"1\" class=\"dataframe\">\n",
       "  <thead>\n",
       "    <tr style=\"text-align: right;\">\n",
       "      <th></th>\n",
       "      <th>PassengerId</th>\n",
       "      <th>Pclass</th>\n",
       "      <th>Parch</th>\n",
       "      <th>Ticket</th>\n",
       "      <th>Fare</th>\n",
       "      <th>Cabin</th>\n",
       "      <th>Embarked</th>\n",
       "      <th>Sib_Unknown</th>\n",
       "      <th>sib_0</th>\n",
       "      <th>sib_1</th>\n",
       "      <th>...</th>\n",
       "      <th>age_40-49</th>\n",
       "      <th>age_60-69</th>\n",
       "      <th>age_20-29</th>\n",
       "      <th>age_10-19</th>\n",
       "      <th>Age_Unknown</th>\n",
       "      <th>age_50-59</th>\n",
       "      <th>age_0-9</th>\n",
       "      <th>age_70-79</th>\n",
       "      <th>male</th>\n",
       "      <th>female</th>\n",
       "    </tr>\n",
       "  </thead>\n",
       "  <tbody>\n",
       "    <tr>\n",
       "      <th>0</th>\n",
       "      <td>892.0</td>\n",
       "      <td>3</td>\n",
       "      <td>0</td>\n",
       "      <td>330911</td>\n",
       "      <td>7.8292</td>\n",
       "      <td>NaN</td>\n",
       "      <td>Q</td>\n",
       "      <td>1.0</td>\n",
       "      <td>0.0</td>\n",
       "      <td>0.0</td>\n",
       "      <td>...</td>\n",
       "      <td>0.0</td>\n",
       "      <td>0.0</td>\n",
       "      <td>0.0</td>\n",
       "      <td>0.0</td>\n",
       "      <td>0.0</td>\n",
       "      <td>0.0</td>\n",
       "      <td>0.0</td>\n",
       "      <td>0.0</td>\n",
       "      <td>1.0</td>\n",
       "      <td>0.0</td>\n",
       "    </tr>\n",
       "    <tr>\n",
       "      <th>1</th>\n",
       "      <td>893.0</td>\n",
       "      <td>3</td>\n",
       "      <td>0</td>\n",
       "      <td>363272</td>\n",
       "      <td>7.0000</td>\n",
       "      <td>NaN</td>\n",
       "      <td>S</td>\n",
       "      <td>0.0</td>\n",
       "      <td>1.0</td>\n",
       "      <td>0.0</td>\n",
       "      <td>...</td>\n",
       "      <td>1.0</td>\n",
       "      <td>0.0</td>\n",
       "      <td>0.0</td>\n",
       "      <td>0.0</td>\n",
       "      <td>0.0</td>\n",
       "      <td>0.0</td>\n",
       "      <td>0.0</td>\n",
       "      <td>0.0</td>\n",
       "      <td>0.0</td>\n",
       "      <td>1.0</td>\n",
       "    </tr>\n",
       "    <tr>\n",
       "      <th>2</th>\n",
       "      <td>894.0</td>\n",
       "      <td>2</td>\n",
       "      <td>0</td>\n",
       "      <td>240276</td>\n",
       "      <td>9.6875</td>\n",
       "      <td>NaN</td>\n",
       "      <td>Q</td>\n",
       "      <td>1.0</td>\n",
       "      <td>0.0</td>\n",
       "      <td>0.0</td>\n",
       "      <td>...</td>\n",
       "      <td>0.0</td>\n",
       "      <td>1.0</td>\n",
       "      <td>0.0</td>\n",
       "      <td>0.0</td>\n",
       "      <td>0.0</td>\n",
       "      <td>0.0</td>\n",
       "      <td>0.0</td>\n",
       "      <td>0.0</td>\n",
       "      <td>1.0</td>\n",
       "      <td>0.0</td>\n",
       "    </tr>\n",
       "    <tr>\n",
       "      <th>3</th>\n",
       "      <td>895.0</td>\n",
       "      <td>3</td>\n",
       "      <td>0</td>\n",
       "      <td>315154</td>\n",
       "      <td>8.6625</td>\n",
       "      <td>NaN</td>\n",
       "      <td>S</td>\n",
       "      <td>1.0</td>\n",
       "      <td>0.0</td>\n",
       "      <td>0.0</td>\n",
       "      <td>...</td>\n",
       "      <td>0.0</td>\n",
       "      <td>0.0</td>\n",
       "      <td>1.0</td>\n",
       "      <td>0.0</td>\n",
       "      <td>0.0</td>\n",
       "      <td>0.0</td>\n",
       "      <td>0.0</td>\n",
       "      <td>0.0</td>\n",
       "      <td>1.0</td>\n",
       "      <td>0.0</td>\n",
       "    </tr>\n",
       "    <tr>\n",
       "      <th>4</th>\n",
       "      <td>896.0</td>\n",
       "      <td>3</td>\n",
       "      <td>1</td>\n",
       "      <td>3101298</td>\n",
       "      <td>12.2875</td>\n",
       "      <td>NaN</td>\n",
       "      <td>S</td>\n",
       "      <td>0.0</td>\n",
       "      <td>1.0</td>\n",
       "      <td>0.0</td>\n",
       "      <td>...</td>\n",
       "      <td>0.0</td>\n",
       "      <td>0.0</td>\n",
       "      <td>1.0</td>\n",
       "      <td>0.0</td>\n",
       "      <td>0.0</td>\n",
       "      <td>0.0</td>\n",
       "      <td>0.0</td>\n",
       "      <td>0.0</td>\n",
       "      <td>0.0</td>\n",
       "      <td>1.0</td>\n",
       "    </tr>\n",
       "  </tbody>\n",
       "</table>\n",
       "<p>5 rows × 25 columns</p>\n",
       "</div>"
      ],
      "text/plain": [
       "   PassengerId  Pclass  Parch   Ticket     Fare Cabin Embarked  Sib_Unknown  \\\n",
       "0        892.0       3      0   330911   7.8292   NaN        Q          1.0   \n",
       "1        893.0       3      0   363272   7.0000   NaN        S          0.0   \n",
       "2        894.0       2      0   240276   9.6875   NaN        Q          1.0   \n",
       "3        895.0       3      0   315154   8.6625   NaN        S          1.0   \n",
       "4        896.0       3      1  3101298  12.2875   NaN        S          0.0   \n",
       "\n",
       "   sib_0  sib_1  ...  age_40-49  age_60-69  age_20-29  age_10-19  Age_Unknown  \\\n",
       "0    0.0    0.0  ...        0.0        0.0        0.0        0.0          0.0   \n",
       "1    1.0    0.0  ...        1.0        0.0        0.0        0.0          0.0   \n",
       "2    0.0    0.0  ...        0.0        1.0        0.0        0.0          0.0   \n",
       "3    0.0    0.0  ...        0.0        0.0        1.0        0.0          0.0   \n",
       "4    1.0    0.0  ...        0.0        0.0        1.0        0.0          0.0   \n",
       "\n",
       "   age_50-59  age_0-9  age_70-79  male  female  \n",
       "0        0.0      0.0        0.0   1.0     0.0  \n",
       "1        0.0      0.0        0.0   0.0     1.0  \n",
       "2        0.0      0.0        0.0   1.0     0.0  \n",
       "3        0.0      0.0        0.0   1.0     0.0  \n",
       "4        0.0      0.0        0.0   0.0     1.0  \n",
       "\n",
       "[5 rows x 25 columns]"
      ]
     },
     "execution_count": 36,
     "metadata": {},
     "output_type": "execute_result"
    }
   ],
   "source": [
    "titanic_test = transform_gender(titanic_test)\n",
    "titanic_test.drop(\"Sex\", axis = 1,inplace = True)\n",
    "titanic_test.head()"
   ]
  },
  {
   "cell_type": "markdown",
   "id": "07c00a75",
   "metadata": {
    "papermill": {
     "duration": 0.026733,
     "end_time": "2022-12-06T15:36:43.320114",
     "exception": false,
     "start_time": "2022-12-06T15:36:43.293381",
     "status": "completed"
    },
    "tags": []
   },
   "source": [
    "## Cabin and Pclass\n",
    "\n",
    "The passenger class appears to drive whether a cabin is known. So, we propose to drop the cabin as the percentage of not known values is quite high. We apply an hot encoding the Pclass. "
   ]
  },
  {
   "cell_type": "code",
   "execution_count": 37,
   "id": "fe7bbd32",
   "metadata": {
    "execution": {
     "iopub.execute_input": "2022-12-06T15:36:43.372180Z",
     "iopub.status.busy": "2022-12-06T15:36:43.371497Z",
     "iopub.status.idle": "2022-12-06T15:36:43.380297Z",
     "shell.execute_reply": "2022-12-06T15:36:43.378843Z"
    },
    "papermill": {
     "duration": 0.036922,
     "end_time": "2022-12-06T15:36:43.382899",
     "exception": false,
     "start_time": "2022-12-06T15:36:43.345977",
     "status": "completed"
    },
    "tags": []
   },
   "outputs": [
    {
     "data": {
      "text/plain": [
       "array([nan, 'C85', 'C123', 'E46', 'G6', 'C103', 'D56', 'A6',\n",
       "       'C23 C25 C27', 'B78', 'D33', 'B30', 'C52', 'B28', 'C83', 'F33',\n",
       "       'F G73', 'E31', 'A5', 'D10 D12', 'D26', 'C110', 'B58 B60', 'E101',\n",
       "       'F E69', 'D47', 'B86', 'F2', 'C2', 'E33', 'B19', 'A7', 'C49', 'F4',\n",
       "       'A32', 'B4', 'B80', 'A31', 'D36', 'D15', 'C93', 'C78', 'D35',\n",
       "       'C87', 'B77', 'E67', 'B94', 'C125', 'C99', 'C118', 'D7', 'A19',\n",
       "       'B49', 'D', 'C22 C26', 'C106', 'C65', 'E36', 'C54',\n",
       "       'B57 B59 B63 B66', 'C7', 'E34', 'C32', 'B18', 'C124', 'C91', 'E40',\n",
       "       'T', 'C128', 'D37', 'B35', 'E50', 'C82', 'B96 B98', 'E10', 'E44',\n",
       "       'A34', 'C104', 'C111', 'C92', 'E38', 'D21', 'E12', 'E63', 'A14',\n",
       "       'B37', 'C30', 'D20', 'B79', 'E25', 'D46', 'B73', 'C95', 'B38',\n",
       "       'B39', 'B22', 'C86', 'C70', 'A16', 'C101', 'C68', 'A10', 'E68',\n",
       "       'B41', 'A20', 'D19', 'D50', 'D9', 'A23', 'B50', 'A26', 'D48',\n",
       "       'E58', 'C126', 'B71', 'B51 B53 B55', 'D49', 'B5', 'B20', 'F G63',\n",
       "       'C62 C64', 'E24', 'C90', 'C45', 'E8', 'B101', 'D45', 'C46', 'D30',\n",
       "       'E121', 'D11', 'E77', 'F38', 'B3', 'D6', 'B82 B84', 'D17', 'A36',\n",
       "       'B102', 'B69', 'E49', 'C47', 'D28', 'E17', 'A24', 'C50', 'B42',\n",
       "       'C148'], dtype=object)"
      ]
     },
     "execution_count": 37,
     "metadata": {},
     "output_type": "execute_result"
    }
   ],
   "source": [
    "titanic_train['Cabin'].unique()"
   ]
  },
  {
   "cell_type": "code",
   "execution_count": 38,
   "id": "89c26eff",
   "metadata": {
    "execution": {
     "iopub.execute_input": "2022-12-06T15:36:43.436769Z",
     "iopub.status.busy": "2022-12-06T15:36:43.436112Z",
     "iopub.status.idle": "2022-12-06T15:36:43.447422Z",
     "shell.execute_reply": "2022-12-06T15:36:43.445752Z"
    },
    "papermill": {
     "duration": 0.042658,
     "end_time": "2022-12-06T15:36:43.449889",
     "exception": false,
     "start_time": "2022-12-06T15:36:43.407231",
     "status": "completed"
    },
    "tags": []
   },
   "outputs": [
    {
     "name": "stdout",
     "output_type": "stream",
     "text": [
      "percentage of cabin  nan values - training  0.7710437710437711\n",
      "percentage of cabin  nan values - test  0.7822966507177034\n"
     ]
    }
   ],
   "source": [
    "print(\"percentage of cabin  nan values - training \", titanic_train['Cabin'].isna().sum()/titanic_train.shape[0])\n",
    "print(\"percentage of cabin  nan values - test \", titanic_test['Cabin'].isna().sum()/titanic_test.shape[0])"
   ]
  },
  {
   "cell_type": "code",
   "execution_count": 39,
   "id": "a1fc35e1",
   "metadata": {
    "execution": {
     "iopub.execute_input": "2022-12-06T15:36:43.501891Z",
     "iopub.status.busy": "2022-12-06T15:36:43.501477Z",
     "iopub.status.idle": "2022-12-06T15:36:43.509644Z",
     "shell.execute_reply": "2022-12-06T15:36:43.508247Z"
    },
    "papermill": {
     "duration": 0.036549,
     "end_time": "2022-12-06T15:36:43.511741",
     "exception": false,
     "start_time": "2022-12-06T15:36:43.475192",
     "status": "completed"
    },
    "tags": []
   },
   "outputs": [
    {
     "data": {
      "text/plain": [
       "array([3, 1, 2])"
      ]
     },
     "execution_count": 39,
     "metadata": {},
     "output_type": "execute_result"
    }
   ],
   "source": [
    "titanic_train['Pclass'].unique()"
   ]
  },
  {
   "cell_type": "code",
   "execution_count": 40,
   "id": "a7f887d2",
   "metadata": {
    "execution": {
     "iopub.execute_input": "2022-12-06T15:36:43.567734Z",
     "iopub.status.busy": "2022-12-06T15:36:43.567287Z",
     "iopub.status.idle": "2022-12-06T15:36:43.574882Z",
     "shell.execute_reply": "2022-12-06T15:36:43.573205Z"
    },
    "papermill": {
     "duration": 0.040402,
     "end_time": "2022-12-06T15:36:43.577455",
     "exception": false,
     "start_time": "2022-12-06T15:36:43.537053",
     "status": "completed"
    },
    "tags": []
   },
   "outputs": [
    {
     "data": {
      "text/plain": [
       "array([3, 2, 1])"
      ]
     },
     "execution_count": 40,
     "metadata": {},
     "output_type": "execute_result"
    }
   ],
   "source": [
    "titanic_test['Pclass'].unique()"
   ]
  },
  {
   "cell_type": "code",
   "execution_count": 41,
   "id": "45a18f0a",
   "metadata": {
    "execution": {
     "iopub.execute_input": "2022-12-06T15:36:43.629425Z",
     "iopub.status.busy": "2022-12-06T15:36:43.628995Z",
     "iopub.status.idle": "2022-12-06T15:36:43.643854Z",
     "shell.execute_reply": "2022-12-06T15:36:43.643067Z"
    },
    "papermill": {
     "duration": 0.043528,
     "end_time": "2022-12-06T15:36:43.646255",
     "exception": false,
     "start_time": "2022-12-06T15:36:43.602727",
     "status": "completed"
    },
    "tags": []
   },
   "outputs": [
    {
     "data": {
      "text/html": [
       "<div>\n",
       "<style scoped>\n",
       "    .dataframe tbody tr th:only-of-type {\n",
       "        vertical-align: middle;\n",
       "    }\n",
       "\n",
       "    .dataframe tbody tr th {\n",
       "        vertical-align: top;\n",
       "    }\n",
       "\n",
       "    .dataframe thead th {\n",
       "        text-align: right;\n",
       "    }\n",
       "</style>\n",
       "<table border=\"1\" class=\"dataframe\">\n",
       "  <thead>\n",
       "    <tr style=\"text-align: right;\">\n",
       "      <th></th>\n",
       "      <th>Pclass</th>\n",
       "      <th>Cabin</th>\n",
       "    </tr>\n",
       "  </thead>\n",
       "  <tbody>\n",
       "    <tr>\n",
       "      <th>1</th>\n",
       "      <td>1</td>\n",
       "      <td>C85</td>\n",
       "    </tr>\n",
       "    <tr>\n",
       "      <th>3</th>\n",
       "      <td>1</td>\n",
       "      <td>C123</td>\n",
       "    </tr>\n",
       "    <tr>\n",
       "      <th>6</th>\n",
       "      <td>1</td>\n",
       "      <td>E46</td>\n",
       "    </tr>\n",
       "    <tr>\n",
       "      <th>11</th>\n",
       "      <td>1</td>\n",
       "      <td>C103</td>\n",
       "    </tr>\n",
       "    <tr>\n",
       "      <th>23</th>\n",
       "      <td>1</td>\n",
       "      <td>A6</td>\n",
       "    </tr>\n",
       "    <tr>\n",
       "      <th>...</th>\n",
       "      <td>...</td>\n",
       "      <td>...</td>\n",
       "    </tr>\n",
       "    <tr>\n",
       "      <th>871</th>\n",
       "      <td>1</td>\n",
       "      <td>D35</td>\n",
       "    </tr>\n",
       "    <tr>\n",
       "      <th>872</th>\n",
       "      <td>1</td>\n",
       "      <td>B51 B53 B55</td>\n",
       "    </tr>\n",
       "    <tr>\n",
       "      <th>879</th>\n",
       "      <td>1</td>\n",
       "      <td>C50</td>\n",
       "    </tr>\n",
       "    <tr>\n",
       "      <th>887</th>\n",
       "      <td>1</td>\n",
       "      <td>B42</td>\n",
       "    </tr>\n",
       "    <tr>\n",
       "      <th>889</th>\n",
       "      <td>1</td>\n",
       "      <td>C148</td>\n",
       "    </tr>\n",
       "  </tbody>\n",
       "</table>\n",
       "<p>216 rows × 2 columns</p>\n",
       "</div>"
      ],
      "text/plain": [
       "     Pclass        Cabin\n",
       "1         1          C85\n",
       "3         1         C123\n",
       "6         1          E46\n",
       "11        1         C103\n",
       "23        1           A6\n",
       "..      ...          ...\n",
       "871       1          D35\n",
       "872       1  B51 B53 B55\n",
       "879       1          C50\n",
       "887       1          B42\n",
       "889       1         C148\n",
       "\n",
       "[216 rows x 2 columns]"
      ]
     },
     "execution_count": 41,
     "metadata": {},
     "output_type": "execute_result"
    }
   ],
   "source": [
    "titanic_train.loc[titanic_train['Pclass'] == 1 ,['Pclass','Cabin']]"
   ]
  },
  {
   "cell_type": "code",
   "execution_count": 42,
   "id": "0d525467",
   "metadata": {
    "execution": {
     "iopub.execute_input": "2022-12-06T15:36:43.699096Z",
     "iopub.status.busy": "2022-12-06T15:36:43.698664Z",
     "iopub.status.idle": "2022-12-06T15:36:43.716445Z",
     "shell.execute_reply": "2022-12-06T15:36:43.715142Z"
    },
    "papermill": {
     "duration": 0.047637,
     "end_time": "2022-12-06T15:36:43.719298",
     "exception": false,
     "start_time": "2022-12-06T15:36:43.671661",
     "status": "completed"
    },
    "tags": []
   },
   "outputs": [
    {
     "data": {
      "text/html": [
       "<div>\n",
       "<style scoped>\n",
       "    .dataframe tbody tr th:only-of-type {\n",
       "        vertical-align: middle;\n",
       "    }\n",
       "\n",
       "    .dataframe tbody tr th {\n",
       "        vertical-align: top;\n",
       "    }\n",
       "\n",
       "    .dataframe thead th {\n",
       "        text-align: right;\n",
       "    }\n",
       "</style>\n",
       "<table border=\"1\" class=\"dataframe\">\n",
       "  <thead>\n",
       "    <tr style=\"text-align: right;\">\n",
       "      <th></th>\n",
       "      <th>Pclass</th>\n",
       "      <th>Cabin</th>\n",
       "    </tr>\n",
       "  </thead>\n",
       "  <tbody>\n",
       "    <tr>\n",
       "      <th>9</th>\n",
       "      <td>2</td>\n",
       "      <td>NaN</td>\n",
       "    </tr>\n",
       "    <tr>\n",
       "      <th>15</th>\n",
       "      <td>2</td>\n",
       "      <td>NaN</td>\n",
       "    </tr>\n",
       "    <tr>\n",
       "      <th>17</th>\n",
       "      <td>2</td>\n",
       "      <td>NaN</td>\n",
       "    </tr>\n",
       "    <tr>\n",
       "      <th>20</th>\n",
       "      <td>2</td>\n",
       "      <td>NaN</td>\n",
       "    </tr>\n",
       "    <tr>\n",
       "      <th>21</th>\n",
       "      <td>2</td>\n",
       "      <td>D56</td>\n",
       "    </tr>\n",
       "    <tr>\n",
       "      <th>...</th>\n",
       "      <td>...</td>\n",
       "      <td>...</td>\n",
       "    </tr>\n",
       "    <tr>\n",
       "      <th>866</th>\n",
       "      <td>2</td>\n",
       "      <td>NaN</td>\n",
       "    </tr>\n",
       "    <tr>\n",
       "      <th>874</th>\n",
       "      <td>2</td>\n",
       "      <td>NaN</td>\n",
       "    </tr>\n",
       "    <tr>\n",
       "      <th>880</th>\n",
       "      <td>2</td>\n",
       "      <td>NaN</td>\n",
       "    </tr>\n",
       "    <tr>\n",
       "      <th>883</th>\n",
       "      <td>2</td>\n",
       "      <td>NaN</td>\n",
       "    </tr>\n",
       "    <tr>\n",
       "      <th>886</th>\n",
       "      <td>2</td>\n",
       "      <td>NaN</td>\n",
       "    </tr>\n",
       "  </tbody>\n",
       "</table>\n",
       "<p>184 rows × 2 columns</p>\n",
       "</div>"
      ],
      "text/plain": [
       "     Pclass Cabin\n",
       "9         2   NaN\n",
       "15        2   NaN\n",
       "17        2   NaN\n",
       "20        2   NaN\n",
       "21        2   D56\n",
       "..      ...   ...\n",
       "866       2   NaN\n",
       "874       2   NaN\n",
       "880       2   NaN\n",
       "883       2   NaN\n",
       "886       2   NaN\n",
       "\n",
       "[184 rows x 2 columns]"
      ]
     },
     "execution_count": 42,
     "metadata": {},
     "output_type": "execute_result"
    }
   ],
   "source": [
    "titanic_train.loc[titanic_train['Pclass'] == 2 ,['Pclass','Cabin']]"
   ]
  },
  {
   "cell_type": "code",
   "execution_count": 43,
   "id": "0ae0ad12",
   "metadata": {
    "execution": {
     "iopub.execute_input": "2022-12-06T15:36:43.772452Z",
     "iopub.status.busy": "2022-12-06T15:36:43.771964Z",
     "iopub.status.idle": "2022-12-06T15:36:43.786026Z",
     "shell.execute_reply": "2022-12-06T15:36:43.785033Z"
    },
    "papermill": {
     "duration": 0.043219,
     "end_time": "2022-12-06T15:36:43.788444",
     "exception": false,
     "start_time": "2022-12-06T15:36:43.745225",
     "status": "completed"
    },
    "tags": []
   },
   "outputs": [
    {
     "data": {
      "text/html": [
       "<div>\n",
       "<style scoped>\n",
       "    .dataframe tbody tr th:only-of-type {\n",
       "        vertical-align: middle;\n",
       "    }\n",
       "\n",
       "    .dataframe tbody tr th {\n",
       "        vertical-align: top;\n",
       "    }\n",
       "\n",
       "    .dataframe thead th {\n",
       "        text-align: right;\n",
       "    }\n",
       "</style>\n",
       "<table border=\"1\" class=\"dataframe\">\n",
       "  <thead>\n",
       "    <tr style=\"text-align: right;\">\n",
       "      <th></th>\n",
       "      <th>Pclass</th>\n",
       "      <th>Cabin</th>\n",
       "    </tr>\n",
       "  </thead>\n",
       "  <tbody>\n",
       "    <tr>\n",
       "      <th>0</th>\n",
       "      <td>3</td>\n",
       "      <td>NaN</td>\n",
       "    </tr>\n",
       "    <tr>\n",
       "      <th>2</th>\n",
       "      <td>3</td>\n",
       "      <td>NaN</td>\n",
       "    </tr>\n",
       "    <tr>\n",
       "      <th>4</th>\n",
       "      <td>3</td>\n",
       "      <td>NaN</td>\n",
       "    </tr>\n",
       "    <tr>\n",
       "      <th>5</th>\n",
       "      <td>3</td>\n",
       "      <td>NaN</td>\n",
       "    </tr>\n",
       "    <tr>\n",
       "      <th>7</th>\n",
       "      <td>3</td>\n",
       "      <td>NaN</td>\n",
       "    </tr>\n",
       "    <tr>\n",
       "      <th>...</th>\n",
       "      <td>...</td>\n",
       "      <td>...</td>\n",
       "    </tr>\n",
       "    <tr>\n",
       "      <th>882</th>\n",
       "      <td>3</td>\n",
       "      <td>NaN</td>\n",
       "    </tr>\n",
       "    <tr>\n",
       "      <th>884</th>\n",
       "      <td>3</td>\n",
       "      <td>NaN</td>\n",
       "    </tr>\n",
       "    <tr>\n",
       "      <th>885</th>\n",
       "      <td>3</td>\n",
       "      <td>NaN</td>\n",
       "    </tr>\n",
       "    <tr>\n",
       "      <th>888</th>\n",
       "      <td>3</td>\n",
       "      <td>NaN</td>\n",
       "    </tr>\n",
       "    <tr>\n",
       "      <th>890</th>\n",
       "      <td>3</td>\n",
       "      <td>NaN</td>\n",
       "    </tr>\n",
       "  </tbody>\n",
       "</table>\n",
       "<p>491 rows × 2 columns</p>\n",
       "</div>"
      ],
      "text/plain": [
       "     Pclass Cabin\n",
       "0         3   NaN\n",
       "2         3   NaN\n",
       "4         3   NaN\n",
       "5         3   NaN\n",
       "7         3   NaN\n",
       "..      ...   ...\n",
       "882       3   NaN\n",
       "884       3   NaN\n",
       "885       3   NaN\n",
       "888       3   NaN\n",
       "890       3   NaN\n",
       "\n",
       "[491 rows x 2 columns]"
      ]
     },
     "execution_count": 43,
     "metadata": {},
     "output_type": "execute_result"
    }
   ],
   "source": [
    "titanic_train.loc[titanic_train['Pclass'] == 3 ,['Pclass','Cabin']]"
   ]
  },
  {
   "cell_type": "code",
   "execution_count": 44,
   "id": "ff2698fa",
   "metadata": {
    "execution": {
     "iopub.execute_input": "2022-12-06T15:36:43.841662Z",
     "iopub.status.busy": "2022-12-06T15:36:43.841029Z",
     "iopub.status.idle": "2022-12-06T15:36:44.038329Z",
     "shell.execute_reply": "2022-12-06T15:36:44.036828Z"
    },
    "papermill": {
     "duration": 0.227561,
     "end_time": "2022-12-06T15:36:44.041466",
     "exception": false,
     "start_time": "2022-12-06T15:36:43.813905",
     "status": "completed"
    },
    "tags": []
   },
   "outputs": [
    {
     "data": {
      "text/plain": [
       "<matplotlib.collections.PathCollection at 0x7f3524bc1350>"
      ]
     },
     "execution_count": 44,
     "metadata": {},
     "output_type": "execute_result"
    },
    {
     "data": {
      "image/png": "[encoded data removed]",
      "text/plain": [
       "<Figure size 432x288 with 1 Axes>"
      ]
     },
     "metadata": {
      "needs_background": "light"
     },
     "output_type": "display_data"
    }
   ],
   "source": [
    "xs = titanic_train.loc[titanic_train['Fare'] > 0,'Pclass']\n",
    "ys = np.log10(titanic_train.loc[titanic_train['Fare'] > 0,'Fare'])\n",
    "plt.scatter(xs,ys)"
   ]
  },
  {
   "cell_type": "code",
   "execution_count": 45,
   "id": "8e9a1fb6",
   "metadata": {
    "execution": {
     "iopub.execute_input": "2022-12-06T15:36:44.097650Z",
     "iopub.status.busy": "2022-12-06T15:36:44.097190Z",
     "iopub.status.idle": "2022-12-06T15:36:44.284857Z",
     "shell.execute_reply": "2022-12-06T15:36:44.282588Z"
    },
    "papermill": {
     "duration": 0.218284,
     "end_time": "2022-12-06T15:36:44.287498",
     "exception": false,
     "start_time": "2022-12-06T15:36:44.069214",
     "status": "completed"
    },
    "tags": []
   },
   "outputs": [
    {
     "data": {
      "text/plain": [
       "<matplotlib.collections.PathCollection at 0x7f3524bc1050>"
      ]
     },
     "execution_count": 45,
     "metadata": {},
     "output_type": "execute_result"
    },
    {
     "data": {
      "image/png": "[encoded data removed]",
      "text/plain": [
       "<Figure size 432x288 with 1 Axes>"
      ]
     },
     "metadata": {
      "needs_background": "light"
     },
     "output_type": "display_data"
    }
   ],
   "source": [
    "xs = titanic_test.loc[titanic_test['Fare'] > 0,'Pclass']\n",
    "ys = np.log10(titanic_test.loc[titanic_test['Fare'] > 0,'Fare'])\n",
    "plt.scatter(xs,ys)"
   ]
  },
  {
   "cell_type": "code",
   "execution_count": 46,
   "id": "c71e55bc",
   "metadata": {
    "execution": {
     "iopub.execute_input": "2022-12-06T15:36:44.347575Z",
     "iopub.status.busy": "2022-12-06T15:36:44.347150Z",
     "iopub.status.idle": "2022-12-06T15:36:44.549303Z",
     "shell.execute_reply": "2022-12-06T15:36:44.548089Z"
    },
    "papermill": {
     "duration": 0.237004,
     "end_time": "2022-12-06T15:36:44.551631",
     "exception": false,
     "start_time": "2022-12-06T15:36:44.314627",
     "status": "completed"
    },
    "tags": []
   },
   "outputs": [
    {
     "data": {
      "text/plain": [
       "<matplotlib.collections.PathCollection at 0x7f3524bb5c10>"
      ]
     },
     "execution_count": 46,
     "metadata": {},
     "output_type": "execute_result"
    },
    {
     "data": {
      "image/png": "[encoded data removed]",
      "text/plain": [
       "<Figure size 432x288 with 1 Axes>"
      ]
     },
     "metadata": {
      "needs_background": "light"
     },
     "output_type": "display_data"
    }
   ],
   "source": [
    "plt.scatter(titanic_train[\"Pclass\"],titanic_train[\"Fare\"])"
   ]
  },
  {
   "cell_type": "code",
   "execution_count": 47,
   "id": "130bb851",
   "metadata": {
    "execution": {
     "iopub.execute_input": "2022-12-06T15:36:44.608371Z",
     "iopub.status.busy": "2022-12-06T15:36:44.607652Z",
     "iopub.status.idle": "2022-12-06T15:36:44.616721Z",
     "shell.execute_reply": "2022-12-06T15:36:44.614284Z"
    },
    "papermill": {
     "duration": 0.040905,
     "end_time": "2022-12-06T15:36:44.619997",
     "exception": false,
     "start_time": "2022-12-06T15:36:44.579092",
     "status": "completed"
    },
    "tags": []
   },
   "outputs": [],
   "source": [
    "def transform_Pclass(data):\n",
    "    factors = data['Pclass'].unique()\n",
    "    Pclass_columns = pd.get_dummies(data['Pclass'])\n",
    "    columns = range(0,len(factors))\n",
    "    \n",
    "    for column in columns:\n",
    "        col_name = 'Class_' + str(factors[column])\n",
    "        data[col_name] = Pclass_columns.loc[:,factors[column]].astype(float)\n",
    "        \n",
    "    data.drop(\"Pclass\", axis = 1)\n",
    "    return data\n",
    "    "
   ]
  },
  {
   "cell_type": "code",
   "execution_count": 48,
   "id": "9c59dfd0",
   "metadata": {
    "execution": {
     "iopub.execute_input": "2022-12-06T15:36:44.680911Z",
     "iopub.status.busy": "2022-12-06T15:36:44.680494Z",
     "iopub.status.idle": "2022-12-06T15:36:44.726636Z",
     "shell.execute_reply": "2022-12-06T15:36:44.725255Z"
    },
    "papermill": {
     "duration": 0.080006,
     "end_time": "2022-12-06T15:36:44.730065",
     "exception": false,
     "start_time": "2022-12-06T15:36:44.650059",
     "status": "completed"
    },
    "tags": []
   },
   "outputs": [
    {
     "data": {
      "text/html": [
       "<div>\n",
       "<style scoped>\n",
       "    .dataframe tbody tr th:only-of-type {\n",
       "        vertical-align: middle;\n",
       "    }\n",
       "\n",
       "    .dataframe tbody tr th {\n",
       "        vertical-align: top;\n",
       "    }\n",
       "\n",
       "    .dataframe thead th {\n",
       "        text-align: right;\n",
       "    }\n",
       "</style>\n",
       "<table border=\"1\" class=\"dataframe\">\n",
       "  <thead>\n",
       "    <tr style=\"text-align: right;\">\n",
       "      <th></th>\n",
       "      <th>PassengerId</th>\n",
       "      <th>Parch</th>\n",
       "      <th>Ticket</th>\n",
       "      <th>Fare</th>\n",
       "      <th>Embarked</th>\n",
       "      <th>Survived</th>\n",
       "      <th>sib_0</th>\n",
       "      <th>Sib_Unknown</th>\n",
       "      <th>sib_2</th>\n",
       "      <th>sib_3</th>\n",
       "      <th>...</th>\n",
       "      <th>age_0-9</th>\n",
       "      <th>age_10-19</th>\n",
       "      <th>age_60-69</th>\n",
       "      <th>age_40-49</th>\n",
       "      <th>age_70-79</th>\n",
       "      <th>male</th>\n",
       "      <th>female</th>\n",
       "      <th>Class_3</th>\n",
       "      <th>Class_1</th>\n",
       "      <th>Class_2</th>\n",
       "    </tr>\n",
       "  </thead>\n",
       "  <tbody>\n",
       "    <tr>\n",
       "      <th>0</th>\n",
       "      <td>1.0</td>\n",
       "      <td>0</td>\n",
       "      <td>A/5 21171</td>\n",
       "      <td>7.2500</td>\n",
       "      <td>S</td>\n",
       "      <td>0</td>\n",
       "      <td>1.0</td>\n",
       "      <td>0.0</td>\n",
       "      <td>0.0</td>\n",
       "      <td>0.0</td>\n",
       "      <td>...</td>\n",
       "      <td>0.0</td>\n",
       "      <td>0.0</td>\n",
       "      <td>0.0</td>\n",
       "      <td>0.0</td>\n",
       "      <td>0.0</td>\n",
       "      <td>1.0</td>\n",
       "      <td>0.0</td>\n",
       "      <td>1.0</td>\n",
       "      <td>0.0</td>\n",
       "      <td>0.0</td>\n",
       "    </tr>\n",
       "    <tr>\n",
       "      <th>1</th>\n",
       "      <td>2.0</td>\n",
       "      <td>0</td>\n",
       "      <td>PC 17599</td>\n",
       "      <td>71.2833</td>\n",
       "      <td>C</td>\n",
       "      <td>1</td>\n",
       "      <td>1.0</td>\n",
       "      <td>0.0</td>\n",
       "      <td>0.0</td>\n",
       "      <td>0.0</td>\n",
       "      <td>...</td>\n",
       "      <td>0.0</td>\n",
       "      <td>0.0</td>\n",
       "      <td>0.0</td>\n",
       "      <td>0.0</td>\n",
       "      <td>0.0</td>\n",
       "      <td>0.0</td>\n",
       "      <td>1.0</td>\n",
       "      <td>0.0</td>\n",
       "      <td>1.0</td>\n",
       "      <td>0.0</td>\n",
       "    </tr>\n",
       "    <tr>\n",
       "      <th>2</th>\n",
       "      <td>3.0</td>\n",
       "      <td>0</td>\n",
       "      <td>STON/O2. 3101282</td>\n",
       "      <td>7.9250</td>\n",
       "      <td>S</td>\n",
       "      <td>1</td>\n",
       "      <td>0.0</td>\n",
       "      <td>1.0</td>\n",
       "      <td>0.0</td>\n",
       "      <td>0.0</td>\n",
       "      <td>...</td>\n",
       "      <td>0.0</td>\n",
       "      <td>0.0</td>\n",
       "      <td>0.0</td>\n",
       "      <td>0.0</td>\n",
       "      <td>0.0</td>\n",
       "      <td>0.0</td>\n",
       "      <td>1.0</td>\n",
       "      <td>1.0</td>\n",
       "      <td>0.0</td>\n",
       "      <td>0.0</td>\n",
       "    </tr>\n",
       "    <tr>\n",
       "      <th>3</th>\n",
       "      <td>4.0</td>\n",
       "      <td>0</td>\n",
       "      <td>113803</td>\n",
       "      <td>53.1000</td>\n",
       "      <td>S</td>\n",
       "      <td>1</td>\n",
       "      <td>1.0</td>\n",
       "      <td>0.0</td>\n",
       "      <td>0.0</td>\n",
       "      <td>0.0</td>\n",
       "      <td>...</td>\n",
       "      <td>0.0</td>\n",
       "      <td>0.0</td>\n",
       "      <td>0.0</td>\n",
       "      <td>0.0</td>\n",
       "      <td>0.0</td>\n",
       "      <td>0.0</td>\n",
       "      <td>1.0</td>\n",
       "      <td>0.0</td>\n",
       "      <td>1.0</td>\n",
       "      <td>0.0</td>\n",
       "    </tr>\n",
       "    <tr>\n",
       "      <th>4</th>\n",
       "      <td>5.0</td>\n",
       "      <td>0</td>\n",
       "      <td>373450</td>\n",
       "      <td>8.0500</td>\n",
       "      <td>S</td>\n",
       "      <td>0</td>\n",
       "      <td>0.0</td>\n",
       "      <td>1.0</td>\n",
       "      <td>0.0</td>\n",
       "      <td>0.0</td>\n",
       "      <td>...</td>\n",
       "      <td>0.0</td>\n",
       "      <td>0.0</td>\n",
       "      <td>0.0</td>\n",
       "      <td>0.0</td>\n",
       "      <td>0.0</td>\n",
       "      <td>1.0</td>\n",
       "      <td>0.0</td>\n",
       "      <td>1.0</td>\n",
       "      <td>0.0</td>\n",
       "      <td>0.0</td>\n",
       "    </tr>\n",
       "  </tbody>\n",
       "</table>\n",
       "<p>5 rows × 27 columns</p>\n",
       "</div>"
      ],
      "text/plain": [
       "   PassengerId  Parch            Ticket     Fare Embarked  Survived  sib_0  \\\n",
       "0          1.0      0         A/5 21171   7.2500        S         0    1.0   \n",
       "1          2.0      0          PC 17599  71.2833        C         1    1.0   \n",
       "2          3.0      0  STON/O2. 3101282   7.9250        S         1    0.0   \n",
       "3          4.0      0            113803  53.1000        S         1    1.0   \n",
       "4          5.0      0            373450   8.0500        S         0    0.0   \n",
       "\n",
       "   Sib_Unknown  sib_2  sib_3  ...  age_0-9  age_10-19  age_60-69  age_40-49  \\\n",
       "0          0.0    0.0    0.0  ...      0.0        0.0        0.0        0.0   \n",
       "1          0.0    0.0    0.0  ...      0.0        0.0        0.0        0.0   \n",
       "2          1.0    0.0    0.0  ...      0.0        0.0        0.0        0.0   \n",
       "3          0.0    0.0    0.0  ...      0.0        0.0        0.0        0.0   \n",
       "4          1.0    0.0    0.0  ...      0.0        0.0        0.0        0.0   \n",
       "\n",
       "   age_70-79  male  female  Class_3  Class_1  Class_2  \n",
       "0        0.0   1.0     0.0      1.0      0.0      0.0  \n",
       "1        0.0   0.0     1.0      0.0      1.0      0.0  \n",
       "2        0.0   0.0     1.0      1.0      0.0      0.0  \n",
       "3        0.0   0.0     1.0      0.0      1.0      0.0  \n",
       "4        0.0   1.0     0.0      1.0      0.0      0.0  \n",
       "\n",
       "[5 rows x 27 columns]"
      ]
     },
     "execution_count": 48,
     "metadata": {},
     "output_type": "execute_result"
    }
   ],
   "source": [
    "titanic_train = transform_Pclass(titanic_train)\n",
    "titanic_train.drop(\"Pclass\", axis = 1, inplace = True)\n",
    "titanic_train.drop(\"Cabin\", axis = 1, inplace = True)\n",
    "titanic_train.head()"
   ]
  },
  {
   "cell_type": "code",
   "execution_count": 49,
   "id": "b81396d2",
   "metadata": {
    "execution": {
     "iopub.execute_input": "2022-12-06T15:36:44.788145Z",
     "iopub.status.busy": "2022-12-06T15:36:44.787792Z",
     "iopub.status.idle": "2022-12-06T15:36:44.830090Z",
     "shell.execute_reply": "2022-12-06T15:36:44.828880Z"
    },
    "papermill": {
     "duration": 0.073331,
     "end_time": "2022-12-06T15:36:44.832172",
     "exception": false,
     "start_time": "2022-12-06T15:36:44.758841",
     "status": "completed"
    },
    "tags": []
   },
   "outputs": [
    {
     "data": {
      "text/html": [
       "<div>\n",
       "<style scoped>\n",
       "    .dataframe tbody tr th:only-of-type {\n",
       "        vertical-align: middle;\n",
       "    }\n",
       "\n",
       "    .dataframe tbody tr th {\n",
       "        vertical-align: top;\n",
       "    }\n",
       "\n",
       "    .dataframe thead th {\n",
       "        text-align: right;\n",
       "    }\n",
       "</style>\n",
       "<table border=\"1\" class=\"dataframe\">\n",
       "  <thead>\n",
       "    <tr style=\"text-align: right;\">\n",
       "      <th></th>\n",
       "      <th>PassengerId</th>\n",
       "      <th>Parch</th>\n",
       "      <th>Ticket</th>\n",
       "      <th>Fare</th>\n",
       "      <th>Embarked</th>\n",
       "      <th>Sib_Unknown</th>\n",
       "      <th>sib_0</th>\n",
       "      <th>sib_1</th>\n",
       "      <th>sib_2</th>\n",
       "      <th>sib_3</th>\n",
       "      <th>...</th>\n",
       "      <th>age_10-19</th>\n",
       "      <th>Age_Unknown</th>\n",
       "      <th>age_50-59</th>\n",
       "      <th>age_0-9</th>\n",
       "      <th>age_70-79</th>\n",
       "      <th>male</th>\n",
       "      <th>female</th>\n",
       "      <th>Class_3</th>\n",
       "      <th>Class_2</th>\n",
       "      <th>Class_1</th>\n",
       "    </tr>\n",
       "  </thead>\n",
       "  <tbody>\n",
       "    <tr>\n",
       "      <th>0</th>\n",
       "      <td>892.0</td>\n",
       "      <td>0</td>\n",
       "      <td>330911</td>\n",
       "      <td>7.8292</td>\n",
       "      <td>Q</td>\n",
       "      <td>1.0</td>\n",
       "      <td>0.0</td>\n",
       "      <td>0.0</td>\n",
       "      <td>0.0</td>\n",
       "      <td>0.0</td>\n",
       "      <td>...</td>\n",
       "      <td>0.0</td>\n",
       "      <td>0.0</td>\n",
       "      <td>0.0</td>\n",
       "      <td>0.0</td>\n",
       "      <td>0.0</td>\n",
       "      <td>1.0</td>\n",
       "      <td>0.0</td>\n",
       "      <td>1.0</td>\n",
       "      <td>0.0</td>\n",
       "      <td>0.0</td>\n",
       "    </tr>\n",
       "    <tr>\n",
       "      <th>1</th>\n",
       "      <td>893.0</td>\n",
       "      <td>0</td>\n",
       "      <td>363272</td>\n",
       "      <td>7.0000</td>\n",
       "      <td>S</td>\n",
       "      <td>0.0</td>\n",
       "      <td>1.0</td>\n",
       "      <td>0.0</td>\n",
       "      <td>0.0</td>\n",
       "      <td>0.0</td>\n",
       "      <td>...</td>\n",
       "      <td>0.0</td>\n",
       "      <td>0.0</td>\n",
       "      <td>0.0</td>\n",
       "      <td>0.0</td>\n",
       "      <td>0.0</td>\n",
       "      <td>0.0</td>\n",
       "      <td>1.0</td>\n",
       "      <td>1.0</td>\n",
       "      <td>0.0</td>\n",
       "      <td>0.0</td>\n",
       "    </tr>\n",
       "    <tr>\n",
       "      <th>2</th>\n",
       "      <td>894.0</td>\n",
       "      <td>0</td>\n",
       "      <td>240276</td>\n",
       "      <td>9.6875</td>\n",
       "      <td>Q</td>\n",
       "      <td>1.0</td>\n",
       "      <td>0.0</td>\n",
       "      <td>0.0</td>\n",
       "      <td>0.0</td>\n",
       "      <td>0.0</td>\n",
       "      <td>...</td>\n",
       "      <td>0.0</td>\n",
       "      <td>0.0</td>\n",
       "      <td>0.0</td>\n",
       "      <td>0.0</td>\n",
       "      <td>0.0</td>\n",
       "      <td>1.0</td>\n",
       "      <td>0.0</td>\n",
       "      <td>0.0</td>\n",
       "      <td>1.0</td>\n",
       "      <td>0.0</td>\n",
       "    </tr>\n",
       "    <tr>\n",
       "      <th>3</th>\n",
       "      <td>895.0</td>\n",
       "      <td>0</td>\n",
       "      <td>315154</td>\n",
       "      <td>8.6625</td>\n",
       "      <td>S</td>\n",
       "      <td>1.0</td>\n",
       "      <td>0.0</td>\n",
       "      <td>0.0</td>\n",
       "      <td>0.0</td>\n",
       "      <td>0.0</td>\n",
       "      <td>...</td>\n",
       "      <td>0.0</td>\n",
       "      <td>0.0</td>\n",
       "      <td>0.0</td>\n",
       "      <td>0.0</td>\n",
       "      <td>0.0</td>\n",
       "      <td>1.0</td>\n",
       "      <td>0.0</td>\n",
       "      <td>1.0</td>\n",
       "      <td>0.0</td>\n",
       "      <td>0.0</td>\n",
       "    </tr>\n",
       "    <tr>\n",
       "      <th>4</th>\n",
       "      <td>896.0</td>\n",
       "      <td>1</td>\n",
       "      <td>3101298</td>\n",
       "      <td>12.2875</td>\n",
       "      <td>S</td>\n",
       "      <td>0.0</td>\n",
       "      <td>1.0</td>\n",
       "      <td>0.0</td>\n",
       "      <td>0.0</td>\n",
       "      <td>0.0</td>\n",
       "      <td>...</td>\n",
       "      <td>0.0</td>\n",
       "      <td>0.0</td>\n",
       "      <td>0.0</td>\n",
       "      <td>0.0</td>\n",
       "      <td>0.0</td>\n",
       "      <td>0.0</td>\n",
       "      <td>1.0</td>\n",
       "      <td>1.0</td>\n",
       "      <td>0.0</td>\n",
       "      <td>0.0</td>\n",
       "    </tr>\n",
       "  </tbody>\n",
       "</table>\n",
       "<p>5 rows × 26 columns</p>\n",
       "</div>"
      ],
      "text/plain": [
       "   PassengerId  Parch   Ticket     Fare Embarked  Sib_Unknown  sib_0  sib_1  \\\n",
       "0        892.0      0   330911   7.8292        Q          1.0    0.0    0.0   \n",
       "1        893.0      0   363272   7.0000        S          0.0    1.0    0.0   \n",
       "2        894.0      0   240276   9.6875        Q          1.0    0.0    0.0   \n",
       "3        895.0      0   315154   8.6625        S          1.0    0.0    0.0   \n",
       "4        896.0      1  3101298  12.2875        S          0.0    1.0    0.0   \n",
       "\n",
       "   sib_2  sib_3  ...  age_10-19  Age_Unknown  age_50-59  age_0-9  age_70-79  \\\n",
       "0    0.0    0.0  ...        0.0          0.0        0.0      0.0        0.0   \n",
       "1    0.0    0.0  ...        0.0          0.0        0.0      0.0        0.0   \n",
       "2    0.0    0.0  ...        0.0          0.0        0.0      0.0        0.0   \n",
       "3    0.0    0.0  ...        0.0          0.0        0.0      0.0        0.0   \n",
       "4    0.0    0.0  ...        0.0          0.0        0.0      0.0        0.0   \n",
       "\n",
       "   male  female  Class_3  Class_2  Class_1  \n",
       "0   1.0     0.0      1.0      0.0      0.0  \n",
       "1   0.0     1.0      1.0      0.0      0.0  \n",
       "2   1.0     0.0      0.0      1.0      0.0  \n",
       "3   1.0     0.0      1.0      0.0      0.0  \n",
       "4   0.0     1.0      1.0      0.0      0.0  \n",
       "\n",
       "[5 rows x 26 columns]"
      ]
     },
     "execution_count": 49,
     "metadata": {},
     "output_type": "execute_result"
    }
   ],
   "source": [
    "titanic_test = transform_Pclass(titanic_test)\n",
    "titanic_test.drop(\"Pclass\", axis = 1, inplace = True)\n",
    "titanic_test.drop(\"Cabin\", axis = 1, inplace = True)\n",
    "titanic_test.head()"
   ]
  },
  {
   "cell_type": "markdown",
   "id": "79a09487",
   "metadata": {
    "papermill": {
     "duration": 0.029388,
     "end_time": "2022-12-06T15:36:44.890358",
     "exception": false,
     "start_time": "2022-12-06T15:36:44.860970",
     "status": "completed"
    },
    "tags": []
   },
   "source": [
    "# Tickets and Fare\n",
    "We remove the tickets, as it brings no additional characteristic for the prediction.\n",
    "\n",
    "Old version: We reduce the complexity of the Fare by using the log.\n",
    "New version: The price appears to be dependent on the class, so we drop the price."
   ]
  },
  {
   "cell_type": "code",
   "execution_count": 50,
   "id": "92ae58a3",
   "metadata": {
    "execution": {
     "iopub.execute_input": "2022-12-06T15:36:44.948992Z",
     "iopub.status.busy": "2022-12-06T15:36:44.948580Z",
     "iopub.status.idle": "2022-12-06T15:36:44.956737Z",
     "shell.execute_reply": "2022-12-06T15:36:44.955536Z"
    },
    "papermill": {
     "duration": 0.040183,
     "end_time": "2022-12-06T15:36:44.959560",
     "exception": false,
     "start_time": "2022-12-06T15:36:44.919377",
     "status": "completed"
    },
    "tags": []
   },
   "outputs": [],
   "source": [
    "titanic_train.drop(\"Ticket\", axis = 1, inplace = True)\n",
    "titanic_test.drop(\"Ticket\", axis = 1, inplace = True)"
   ]
  },
  {
   "cell_type": "code",
   "execution_count": 51,
   "id": "dfe2dbeb",
   "metadata": {
    "execution": {
     "iopub.execute_input": "2022-12-06T15:36:45.022005Z",
     "iopub.status.busy": "2022-12-06T15:36:45.021558Z",
     "iopub.status.idle": "2022-12-06T15:36:45.046206Z",
     "shell.execute_reply": "2022-12-06T15:36:45.042793Z"
    },
    "papermill": {
     "duration": 0.063606,
     "end_time": "2022-12-06T15:36:45.051227",
     "exception": false,
     "start_time": "2022-12-06T15:36:44.987621",
     "status": "completed"
    },
    "tags": []
   },
   "outputs": [
    {
     "data": {
      "text/plain": [
       "count    891.000000\n",
       "mean       1.256781\n",
       "std        0.435553\n",
       "min        0.000000\n",
       "25%        0.898198\n",
       "50%        1.159994\n",
       "75%        1.491362\n",
       "max        2.709549\n",
       "Name: Fare, dtype: float64"
      ]
     },
     "execution_count": 51,
     "metadata": {},
     "output_type": "execute_result"
    }
   ],
   "source": [
    "log_10_values = np.log10(titanic_train.loc[titanic_train['Fare'] > 0,'Fare'])\n",
    "titanic_train.loc[titanic_train['Fare'] > 0,'Fare'] = log_10_values\n",
    "titanic_train.Fare.describe()\n"
   ]
  },
  {
   "cell_type": "code",
   "execution_count": 52,
   "id": "14c1246b",
   "metadata": {
    "execution": {
     "iopub.execute_input": "2022-12-06T15:36:45.109188Z",
     "iopub.status.busy": "2022-12-06T15:36:45.108730Z",
     "iopub.status.idle": "2022-12-06T15:36:45.124656Z",
     "shell.execute_reply": "2022-12-06T15:36:45.122878Z"
    },
    "papermill": {
     "duration": 0.047392,
     "end_time": "2022-12-06T15:36:45.127424",
     "exception": false,
     "start_time": "2022-12-06T15:36:45.080032",
     "status": "completed"
    },
    "tags": []
   },
   "outputs": [
    {
     "data": {
      "text/plain": [
       "count    417.000000\n",
       "mean       1.279591\n",
       "std        0.437507\n",
       "min        0.000000\n",
       "25%        0.897396\n",
       "50%        1.159994\n",
       "75%        1.498311\n",
       "max        2.709549\n",
       "Name: Fare, dtype: float64"
      ]
     },
     "execution_count": 52,
     "metadata": {},
     "output_type": "execute_result"
    }
   ],
   "source": [
    "log_10_values = np.log10(titanic_test.loc[titanic_test['Fare'] > 0,'Fare'])\n",
    "titanic_test.loc[titanic_test['Fare'] > 0,'Fare'] = log_10_values\n",
    "titanic_test.Fare.describe()"
   ]
  },
  {
   "cell_type": "code",
   "execution_count": 53,
   "id": "eebf0ac0",
   "metadata": {
    "execution": {
     "iopub.execute_input": "2022-12-06T15:36:45.190644Z",
     "iopub.status.busy": "2022-12-06T15:36:45.190088Z",
     "iopub.status.idle": "2022-12-06T15:36:45.200326Z",
     "shell.execute_reply": "2022-12-06T15:36:45.197963Z"
    },
    "papermill": {
     "duration": 0.047873,
     "end_time": "2022-12-06T15:36:45.204196",
     "exception": false,
     "start_time": "2022-12-06T15:36:45.156323",
     "status": "completed"
    },
    "tags": []
   },
   "outputs": [],
   "source": [
    "titanic_train.drop(\"Fare\", axis = 1, inplace = True)\n",
    "titanic_test.drop(\"Fare\", axis = 1, inplace = True)"
   ]
  },
  {
   "cell_type": "markdown",
   "id": "b101b097",
   "metadata": {
    "papermill": {
     "duration": 0.031341,
     "end_time": "2022-12-06T15:36:45.269798",
     "exception": false,
     "start_time": "2022-12-06T15:36:45.238457",
     "status": "completed"
    },
    "tags": []
   },
   "source": [
    "# Embarked \n",
    "Embarked has three values \"S\", 'C', 'Q' and some values unknown. So, we replace the unknown values with U. A hot-encoding transforms the values into columns. \n",
    "\n",
    "The test datasets has no unknown values; so we had a column 'U' for consistency with hot-encoding. \n"
   ]
  },
  {
   "cell_type": "code",
   "execution_count": 54,
   "id": "9b4d136a",
   "metadata": {
    "execution": {
     "iopub.execute_input": "2022-12-06T15:36:45.332372Z",
     "iopub.status.busy": "2022-12-06T15:36:45.331524Z",
     "iopub.status.idle": "2022-12-06T15:36:45.339933Z",
     "shell.execute_reply": "2022-12-06T15:36:45.338962Z"
    },
    "papermill": {
     "duration": 0.04549,
     "end_time": "2022-12-06T15:36:45.342875",
     "exception": false,
     "start_time": "2022-12-06T15:36:45.297385",
     "status": "completed"
    },
    "tags": []
   },
   "outputs": [
    {
     "data": {
      "text/plain": [
       "array(['S', 'C', 'Q', nan], dtype=object)"
      ]
     },
     "execution_count": 54,
     "metadata": {},
     "output_type": "execute_result"
    }
   ],
   "source": [
    "titanic_train.Embarked.unique()"
   ]
  },
  {
   "cell_type": "code",
   "execution_count": 55,
   "id": "493bbbd7",
   "metadata": {
    "execution": {
     "iopub.execute_input": "2022-12-06T15:36:45.403836Z",
     "iopub.status.busy": "2022-12-06T15:36:45.403386Z",
     "iopub.status.idle": "2022-12-06T15:36:45.411533Z",
     "shell.execute_reply": "2022-12-06T15:36:45.410461Z"
    },
    "papermill": {
     "duration": 0.040608,
     "end_time": "2022-12-06T15:36:45.413768",
     "exception": false,
     "start_time": "2022-12-06T15:36:45.373160",
     "status": "completed"
    },
    "tags": []
   },
   "outputs": [
    {
     "data": {
      "text/plain": [
       "array(['S', 'C', 'Q', 'U'], dtype=object)"
      ]
     },
     "execution_count": 55,
     "metadata": {},
     "output_type": "execute_result"
    }
   ],
   "source": [
    "titanic_train.loc[titanic_train['Embarked'].isna(),'Embarked'] = 'U'\n",
    "titanic_train.Embarked.unique()"
   ]
  },
  {
   "cell_type": "code",
   "execution_count": 56,
   "id": "b9776986",
   "metadata": {
    "execution": {
     "iopub.execute_input": "2022-12-06T15:36:45.479702Z",
     "iopub.status.busy": "2022-12-06T15:36:45.479295Z",
     "iopub.status.idle": "2022-12-06T15:36:45.488111Z",
     "shell.execute_reply": "2022-12-06T15:36:45.487004Z"
    },
    "papermill": {
     "duration": 0.04607,
     "end_time": "2022-12-06T15:36:45.490794",
     "exception": false,
     "start_time": "2022-12-06T15:36:45.444724",
     "status": "completed"
    },
    "tags": []
   },
   "outputs": [
    {
     "data": {
      "text/plain": [
       "array(['Q', 'S', 'C'], dtype=object)"
      ]
     },
     "execution_count": 56,
     "metadata": {},
     "output_type": "execute_result"
    }
   ],
   "source": [
    "titanic_test.loc[titanic_test['Embarked'].isna(),'Embarked'] = 'U'\n",
    "titanic_test.Embarked.unique()"
   ]
  },
  {
   "cell_type": "code",
   "execution_count": 57,
   "id": "62261845",
   "metadata": {
    "execution": {
     "iopub.execute_input": "2022-12-06T15:36:45.553681Z",
     "iopub.status.busy": "2022-12-06T15:36:45.553260Z",
     "iopub.status.idle": "2022-12-06T15:36:45.561670Z",
     "shell.execute_reply": "2022-12-06T15:36:45.559560Z"
    },
    "papermill": {
     "duration": 0.045483,
     "end_time": "2022-12-06T15:36:45.563971",
     "exception": false,
     "start_time": "2022-12-06T15:36:45.518488",
     "status": "completed"
    },
    "tags": []
   },
   "outputs": [],
   "source": [
    "def transform_embarked(data):\n",
    "    factors = data['Embarked'].unique()\n",
    "    gender_columns = pd.get_dummies(data['Embarked'])\n",
    "    columns = range(0,len(factors))\n",
    "    \n",
    "    for column in columns:\n",
    "        data[factors[column]] = gender_columns.loc[:,factors[column]].astype(float)\n",
    "        \n",
    "    return data\n",
    "    "
   ]
  },
  {
   "cell_type": "code",
   "execution_count": 58,
   "id": "dfd0ae33",
   "metadata": {
    "execution": {
     "iopub.execute_input": "2022-12-06T15:36:45.622930Z",
     "iopub.status.busy": "2022-12-06T15:36:45.622507Z",
     "iopub.status.idle": "2022-12-06T15:36:45.636510Z",
     "shell.execute_reply": "2022-12-06T15:36:45.635604Z"
    },
    "papermill": {
     "duration": 0.047307,
     "end_time": "2022-12-06T15:36:45.639133",
     "exception": false,
     "start_time": "2022-12-06T15:36:45.591826",
     "status": "completed"
    },
    "tags": []
   },
   "outputs": [],
   "source": [
    "titanic_train = transform_embarked(titanic_train)\n",
    "titanic_train.drop(\"Embarked\", axis = 1, inplace = True)\n",
    "titanic_test  = transform_embarked(titanic_test)\n",
    "titanic_test.drop(\"Embarked\", axis = 1, inplace = True)\n"
   ]
  },
  {
   "cell_type": "code",
   "execution_count": 59,
   "id": "ad8c376d",
   "metadata": {
    "execution": {
     "iopub.execute_input": "2022-12-06T15:36:45.694564Z",
     "iopub.status.busy": "2022-12-06T15:36:45.694113Z",
     "iopub.status.idle": "2022-12-06T15:36:45.701887Z",
     "shell.execute_reply": "2022-12-06T15:36:45.700650Z"
    },
    "papermill": {
     "duration": 0.037875,
     "end_time": "2022-12-06T15:36:45.703837",
     "exception": false,
     "start_time": "2022-12-06T15:36:45.665962",
     "status": "completed"
    },
    "tags": []
   },
   "outputs": [],
   "source": [
    "indices       = range(0, titanic_test.shape[0])\n",
    "titanic_test['U'] = [0 for i in indices]\n",
    "titanic_test['U'] = titanic_test['U'].astype(float)"
   ]
  },
  {
   "cell_type": "markdown",
   "id": "7cdd242d",
   "metadata": {
    "papermill": {
     "duration": 0.026357,
     "end_time": "2022-12-06T15:36:45.757616",
     "exception": false,
     "start_time": "2022-12-06T15:36:45.731259",
     "status": "completed"
    },
    "tags": []
   },
   "source": [
    "# Outcome of data preparations"
   ]
  },
  {
   "cell_type": "code",
   "execution_count": 60,
   "id": "956d1e82",
   "metadata": {
    "execution": {
     "iopub.execute_input": "2022-12-06T15:36:45.816453Z",
     "iopub.status.busy": "2022-12-06T15:36:45.816008Z",
     "iopub.status.idle": "2022-12-06T15:36:45.826544Z",
     "shell.execute_reply": "2022-12-06T15:36:45.824991Z"
    },
    "papermill": {
     "duration": 0.041341,
     "end_time": "2022-12-06T15:36:45.829136",
     "exception": false,
     "start_time": "2022-12-06T15:36:45.787795",
     "status": "completed"
    },
    "tags": []
   },
   "outputs": [
    {
     "name": "stdout",
     "output_type": "stream",
     "text": [
      "training datasets :  (891, 28)\n"
     ]
    },
    {
     "data": {
      "text/plain": [
       "PassengerId    float64\n",
       "Parch            int64\n",
       "Survived         int64\n",
       "sib_0          float64\n",
       "Sib_Unknown    float64\n",
       "sib_2          float64\n",
       "sib_3          float64\n",
       "sib_1          float64\n",
       "sib_4          float64\n",
       "sib_7          float64\n",
       "age_20-29      float64\n",
       "age_30-39      float64\n",
       "Age_Unknown    float64\n",
       "age_50-59      float64\n",
       "age_0-9        float64\n",
       "age_10-19      float64\n",
       "age_60-69      float64\n",
       "age_40-49      float64\n",
       "age_70-79      float64\n",
       "male           float64\n",
       "female         float64\n",
       "Class_3        float64\n",
       "Class_1        float64\n",
       "Class_2        float64\n",
       "S              float64\n",
       "C              float64\n",
       "Q              float64\n",
       "U              float64\n",
       "dtype: object"
      ]
     },
     "execution_count": 60,
     "metadata": {},
     "output_type": "execute_result"
    }
   ],
   "source": [
    "\n",
    "print(\"training datasets : \" , titanic_train.shape)\n",
    "titanic_train.dtypes"
   ]
  },
  {
   "cell_type": "code",
   "execution_count": 61,
   "id": "ceb73ee3",
   "metadata": {
    "execution": {
     "iopub.execute_input": "2022-12-06T15:36:45.898962Z",
     "iopub.status.busy": "2022-12-06T15:36:45.898385Z",
     "iopub.status.idle": "2022-12-06T15:36:45.911435Z",
     "shell.execute_reply": "2022-12-06T15:36:45.910061Z"
    },
    "papermill": {
     "duration": 0.051412,
     "end_time": "2022-12-06T15:36:45.913525",
     "exception": false,
     "start_time": "2022-12-06T15:36:45.862113",
     "status": "completed"
    },
    "tags": []
   },
   "outputs": [
    {
     "name": "stdout",
     "output_type": "stream",
     "text": [
      "testing datasets :  (418, 27)\n"
     ]
    },
    {
     "data": {
      "text/plain": [
       "PassengerId    float64\n",
       "Parch            int64\n",
       "Sib_Unknown    float64\n",
       "sib_0          float64\n",
       "sib_1          float64\n",
       "sib_2          float64\n",
       "sib_3          float64\n",
       "sib_4          float64\n",
       "sib_7          float64\n",
       "age_30-39      float64\n",
       "age_40-49      float64\n",
       "age_60-69      float64\n",
       "age_20-29      float64\n",
       "age_10-19      float64\n",
       "Age_Unknown    float64\n",
       "age_50-59      float64\n",
       "age_0-9        float64\n",
       "age_70-79      float64\n",
       "male           float64\n",
       "female         float64\n",
       "Class_3        float64\n",
       "Class_2        float64\n",
       "Class_1        float64\n",
       "Q              float64\n",
       "S              float64\n",
       "C              float64\n",
       "U              float64\n",
       "dtype: object"
      ]
     },
     "execution_count": 61,
     "metadata": {},
     "output_type": "execute_result"
    }
   ],
   "source": [
    "print(\"testing datasets : \" , titanic_test.shape)\n",
    "titanic_test.dtypes"
   ]
  },
  {
   "cell_type": "code",
   "execution_count": 62,
   "id": "1ea866a7",
   "metadata": {
    "execution": {
     "iopub.execute_input": "2022-12-06T15:36:45.972545Z",
     "iopub.status.busy": "2022-12-06T15:36:45.972132Z",
     "iopub.status.idle": "2022-12-06T15:36:45.985677Z",
     "shell.execute_reply": "2022-12-06T15:36:45.984077Z"
    },
    "papermill": {
     "duration": 0.046708,
     "end_time": "2022-12-06T15:36:45.989714",
     "exception": false,
     "start_time": "2022-12-06T15:36:45.943006",
     "status": "completed"
    },
    "tags": []
   },
   "outputs": [
    {
     "data": {
      "text/plain": [
       "Index(['Survived'], dtype='object')"
      ]
     },
     "execution_count": 62,
     "metadata": {},
     "output_type": "execute_result"
    }
   ],
   "source": [
    "train_cols = titanic_train.columns\n",
    "test_cols = titanic_test.columns\n",
    "\n",
    "common_cols = train_cols.intersection(test_cols)\n",
    "train_not_test = train_cols.difference(test_cols)\n",
    "train_not_test"
   ]
  },
  {
   "cell_type": "code",
   "execution_count": 63,
   "id": "868ea1c0",
   "metadata": {
    "execution": {
     "iopub.execute_input": "2022-12-06T15:36:46.057892Z",
     "iopub.status.busy": "2022-12-06T15:36:46.057470Z",
     "iopub.status.idle": "2022-12-06T15:36:46.065150Z",
     "shell.execute_reply": "2022-12-06T15:36:46.062922Z"
    },
    "papermill": {
     "duration": 0.048569,
     "end_time": "2022-12-06T15:36:46.068211",
     "exception": false,
     "start_time": "2022-12-06T15:36:46.019642",
     "status": "completed"
    },
    "tags": []
   },
   "outputs": [
    {
     "data": {
      "text/plain": [
       "Index(['PassengerId', 'Parch', 'Sib_Unknown', 'sib_0', 'sib_1', 'sib_2',\n",
       "       'sib_3', 'sib_4', 'sib_7', 'age_30-39', 'age_40-49', 'age_60-69',\n",
       "       'age_20-29', 'age_10-19', 'Age_Unknown', 'age_50-59', 'age_0-9',\n",
       "       'age_70-79', 'male', 'female', 'Class_3', 'Class_2', 'Class_1', 'Q',\n",
       "       'S', 'C', 'U'],\n",
       "      dtype='object')"
      ]
     },
     "execution_count": 63,
     "metadata": {},
     "output_type": "execute_result"
    }
   ],
   "source": [
    "titanic_test.columns"
   ]
  },
  {
   "cell_type": "markdown",
   "id": "aa4eebb2",
   "metadata": {
    "papermill": {
     "duration": 0.028469,
     "end_time": "2022-12-06T15:36:46.129949",
     "exception": false,
     "start_time": "2022-12-06T15:36:46.101480",
     "status": "completed"
    },
    "tags": []
   },
   "source": [
    "# Cross validation preparation\n",
    "We use a stratified sampling for the training into a train and test dataset. "
   ]
  },
  {
   "cell_type": "code",
   "execution_count": 64,
   "id": "3336dfda",
   "metadata": {
    "execution": {
     "iopub.execute_input": "2022-12-06T15:36:46.192253Z",
     "iopub.status.busy": "2022-12-06T15:36:46.191833Z",
     "iopub.status.idle": "2022-12-06T15:36:46.216013Z",
     "shell.execute_reply": "2022-12-06T15:36:46.214450Z"
    },
    "papermill": {
     "duration": 0.057448,
     "end_time": "2022-12-06T15:36:46.218606",
     "exception": false,
     "start_time": "2022-12-06T15:36:46.161158",
     "status": "completed"
    },
    "tags": []
   },
   "outputs": [
    {
     "name": "stdout",
     "output_type": "stream",
     "text": [
      "0    0.616105\n",
      "1    0.383895\n",
      "Name: Survived, dtype: float64 \n",
      "\n",
      "\n",
      "0    0.616246\n",
      "1    0.383754\n",
      "Name: Survived, dtype: float64\n"
     ]
    }
   ],
   "source": [
    "x_cols = ['Parch', 'Sib_Unknown', 'sib_0', 'sib_1', 'sib_2', 'sib_3', 'sib_4', 'sib_7', 'age_30-39', 'age_40-49', 'age_60-69', 'age_20-29', 'age_10-19', 'Age_Unknown', 'age_50-59',\n",
    "       'age_0-9', 'age_70-79', 'male', 'female', 'Class_3', 'Class_2',\n",
    "       'Class_1', 'Q', 'S', 'C', 'U']\n",
    "y_col = 'Survived'\n",
    "X = titanic_train.copy(deep = True)\n",
    "X = X[x_cols]\n",
    "X = X.apply(pd.to_numeric)\n",
    "y = titanic_train[y_col].apply(pd.to_numeric)\n",
    "\n",
    "split = StratifiedShuffleSplit(n_splits=1, test_size=0.4, random_state=42)\n",
    "for train_index, test_valid_index in split.split(X, y):\n",
    "    X_train = X.iloc[train_index]\n",
    "    y_train = y.iloc[train_index]\n",
    "    X_test  = X.iloc[test_valid_index]\n",
    "    y_test  = y.iloc[test_valid_index]\n",
    "\n",
    "# we see our training set follows the same distribution\n",
    "print(y_train.value_counts(normalize=True), '\\n\\n')\n",
    "\n",
    "# we see our test set follows the same distribution\n",
    "print(y_test.value_counts(normalize=True))"
   ]
  },
  {
   "cell_type": "code",
   "execution_count": 65,
   "id": "e24e3d0d",
   "metadata": {
    "execution": {
     "iopub.execute_input": "2022-12-06T15:36:46.277237Z",
     "iopub.status.busy": "2022-12-06T15:36:46.276844Z",
     "iopub.status.idle": "2022-12-06T15:36:46.283693Z",
     "shell.execute_reply": "2022-12-06T15:36:46.282558Z"
    },
    "papermill": {
     "duration": 0.040075,
     "end_time": "2022-12-06T15:36:46.286708",
     "exception": false,
     "start_time": "2022-12-06T15:36:46.246633",
     "status": "completed"
    },
    "tags": []
   },
   "outputs": [
    {
     "data": {
      "text/plain": [
       "(534, 26)"
      ]
     },
     "execution_count": 65,
     "metadata": {},
     "output_type": "execute_result"
    }
   ],
   "source": [
    "X_train.shape"
   ]
  },
  {
   "cell_type": "code",
   "execution_count": 66,
   "id": "a94f0cac",
   "metadata": {
    "execution": {
     "iopub.execute_input": "2022-12-06T15:36:46.348846Z",
     "iopub.status.busy": "2022-12-06T15:36:46.348473Z",
     "iopub.status.idle": "2022-12-06T15:36:46.354042Z",
     "shell.execute_reply": "2022-12-06T15:36:46.352876Z"
    },
    "papermill": {
     "duration": 0.042096,
     "end_time": "2022-12-06T15:36:46.357629",
     "exception": false,
     "start_time": "2022-12-06T15:36:46.315533",
     "status": "completed"
    },
    "tags": []
   },
   "outputs": [
    {
     "data": {
      "text/plain": [
       "(357, 26)"
      ]
     },
     "execution_count": 66,
     "metadata": {},
     "output_type": "execute_result"
    }
   ],
   "source": [
    "X_test.shape"
   ]
  },
  {
   "cell_type": "code",
   "execution_count": 67,
   "id": "f2798b00",
   "metadata": {
    "execution": {
     "iopub.execute_input": "2022-12-06T15:36:46.417020Z",
     "iopub.status.busy": "2022-12-06T15:36:46.416421Z",
     "iopub.status.idle": "2022-12-06T15:36:46.424083Z",
     "shell.execute_reply": "2022-12-06T15:36:46.422670Z"
    },
    "papermill": {
     "duration": 0.041976,
     "end_time": "2022-12-06T15:36:46.427066",
     "exception": false,
     "start_time": "2022-12-06T15:36:46.385090",
     "status": "completed"
    },
    "tags": []
   },
   "outputs": [],
   "source": [
    "y_train_encode=pd.get_dummies(y_train)\n",
    "y_test_encode=pd.get_dummies(y_test)\n"
   ]
  },
  {
   "cell_type": "code",
   "execution_count": 68,
   "id": "b846d081",
   "metadata": {
    "execution": {
     "iopub.execute_input": "2022-12-06T15:36:46.489725Z",
     "iopub.status.busy": "2022-12-06T15:36:46.489261Z",
     "iopub.status.idle": "2022-12-06T15:36:46.498598Z",
     "shell.execute_reply": "2022-12-06T15:36:46.497165Z"
    },
    "papermill": {
     "duration": 0.041791,
     "end_time": "2022-12-06T15:36:46.501174",
     "exception": false,
     "start_time": "2022-12-06T15:36:46.459383",
     "status": "completed"
    },
    "tags": []
   },
   "outputs": [
    {
     "data": {
      "text/plain": [
       "Index([], dtype='object')"
      ]
     },
     "execution_count": 68,
     "metadata": {},
     "output_type": "execute_result"
    }
   ],
   "source": [
    "train_cols = X_train.columns\n",
    "test_cols = titanic_test.columns\n",
    "\n",
    "common_cols = train_cols.intersection(test_cols)\n",
    "train_not_test = train_cols.difference(test_cols)\n",
    "train_not_test"
   ]
  },
  {
   "cell_type": "code",
   "execution_count": 69,
   "id": "53b52c97",
   "metadata": {
    "execution": {
     "iopub.execute_input": "2022-12-06T15:36:46.567065Z",
     "iopub.status.busy": "2022-12-06T15:36:46.566608Z",
     "iopub.status.idle": "2022-12-06T15:36:46.718246Z",
     "shell.execute_reply": "2022-12-06T15:36:46.717110Z"
    },
    "papermill": {
     "duration": 0.191755,
     "end_time": "2022-12-06T15:36:46.722117",
     "exception": false,
     "start_time": "2022-12-06T15:36:46.530362",
     "status": "completed"
    },
    "tags": []
   },
   "outputs": [
    {
     "name": "stderr",
     "output_type": "stream",
     "text": [
      "2022-12-06 15:36:46.606134: I tensorflow/core/common_runtime/process_util.cc:146] Creating new thread pool with default inter op setting: 2. Tune using inter_op_parallelism_threads for best performance.\n"
     ]
    }
   ],
   "source": [
    "\n",
    "\n",
    "no_columns = X_train.shape[1]\n",
    "model = tf.keras.Sequential()\n",
    "model.add(tf.keras.layers.Flatten(input_shape=(no_columns,)))\n",
    "model.add(tf.keras.layers.Dense(50, activation=\"sigmoid\"))\n",
    "model.add(tf.keras.layers.Dense(50, activation=\"sigmoid\"))\n",
    "model.add(tf.keras.layers.Dense(2, activation=\"softmax\"))\n"
   ]
  },
  {
   "cell_type": "markdown",
   "id": "60549df2",
   "metadata": {
    "papermill": {
     "duration": 0.03285,
     "end_time": "2022-12-06T15:36:46.790154",
     "exception": false,
     "start_time": "2022-12-06T15:36:46.757304",
     "status": "completed"
    },
    "tags": []
   },
   "source": [
    "version_1\n",
    "model = tf.keras.Sequential()\n",
    "model.add(tf.keras.layers.Flatten(input_shape=(X_train.shape[1],)))\n",
    "model.add(tf.keras.layers.Dense(560, activation=\"sigmoid\"))\n",
    "model.add(tf.keras.layers.Dense(1120, activation=\"sigmoid\"))\n",
    "model.add(tf.keras.layers.Dense(1120, activation=\"sigmoid\"))\n",
    "model.add(tf.keras.layers.Dense(560, activation=\"sigmoid\"))\n",
    "model.add(tf.keras.layers.Dense(560, activation=\"sigmoid\"))\n",
    "model.add(tf.keras.layers.Dense(2, activation=\"softmax\"))"
   ]
  },
  {
   "cell_type": "code",
   "execution_count": 70,
   "id": "685f2b13",
   "metadata": {
    "execution": {
     "iopub.execute_input": "2022-12-06T15:36:46.852052Z",
     "iopub.status.busy": "2022-12-06T15:36:46.851610Z",
     "iopub.status.idle": "2022-12-06T15:36:46.857759Z",
     "shell.execute_reply": "2022-12-06T15:36:46.856731Z"
    },
    "papermill": {
     "duration": 0.041513,
     "end_time": "2022-12-06T15:36:46.861504",
     "exception": false,
     "start_time": "2022-12-06T15:36:46.819991",
     "status": "completed"
    },
    "tags": []
   },
   "outputs": [
    {
     "name": "stdout",
     "output_type": "stream",
     "text": [
      "Model: \"sequential\"\n",
      "_________________________________________________________________\n",
      "Layer (type)                 Output Shape              Param #   \n",
      "=================================================================\n",
      "flatten (Flatten)            (None, 26)                0         \n",
      "_________________________________________________________________\n",
      "dense (Dense)                (None, 50)                1350      \n",
      "_________________________________________________________________\n",
      "dense_1 (Dense)              (None, 50)                2550      \n",
      "_________________________________________________________________\n",
      "dense_2 (Dense)              (None, 2)                 102       \n",
      "=================================================================\n",
      "Total params: 4,002\n",
      "Trainable params: 4,002\n",
      "Non-trainable params: 0\n",
      "_________________________________________________________________\n"
     ]
    }
   ],
   "source": [
    "model.summary()"
   ]
  },
  {
   "cell_type": "code",
   "execution_count": 71,
   "id": "53abc8e0",
   "metadata": {
    "execution": {
     "iopub.execute_input": "2022-12-06T15:36:46.926265Z",
     "iopub.status.busy": "2022-12-06T15:36:46.925898Z",
     "iopub.status.idle": "2022-12-06T15:37:01.721663Z",
     "shell.execute_reply": "2022-12-06T15:37:01.719570Z"
    },
    "papermill": {
     "duration": 14.831703,
     "end_time": "2022-12-06T15:37:01.724062",
     "exception": false,
     "start_time": "2022-12-06T15:36:46.892359",
     "status": "completed"
    },
    "tags": []
   },
   "outputs": [
    {
     "name": "stdout",
     "output_type": "stream",
     "text": [
      "=== rates === 0.0001\n"
     ]
    },
    {
     "name": "stderr",
     "output_type": "stream",
     "text": [
      "2022-12-06 15:36:47.062720: I tensorflow/compiler/mlir/mlir_graph_optimization_pass.cc:185] None of the MLIR Optimization Passes are enabled (registered 2)\n",
      "/opt/conda/lib/python3.7/site-packages/ipykernel_launcher.py:19: RuntimeWarning: invalid value encountered in long_scalars\n"
     ]
    },
    {
     "name": "stdout",
     "output_type": "stream",
     "text": [
      "=== rates === 0.00011\n"
     ]
    },
    {
     "name": "stderr",
     "output_type": "stream",
     "text": [
      "/opt/conda/lib/python3.7/site-packages/ipykernel_launcher.py:19: RuntimeWarning: invalid value encountered in long_scalars\n"
     ]
    },
    {
     "name": "stdout",
     "output_type": "stream",
     "text": [
      "=== rates === 0.00012\n"
     ]
    },
    {
     "name": "stderr",
     "output_type": "stream",
     "text": [
      "/opt/conda/lib/python3.7/site-packages/ipykernel_launcher.py:19: RuntimeWarning: invalid value encountered in long_scalars\n"
     ]
    },
    {
     "name": "stdout",
     "output_type": "stream",
     "text": [
      "=== rates === 0.00013000000000000002\n"
     ]
    },
    {
     "name": "stderr",
     "output_type": "stream",
     "text": [
      "/opt/conda/lib/python3.7/site-packages/ipykernel_launcher.py:19: RuntimeWarning: invalid value encountered in long_scalars\n"
     ]
    },
    {
     "name": "stdout",
     "output_type": "stream",
     "text": [
      "=== rates === 0.00014\n"
     ]
    },
    {
     "name": "stderr",
     "output_type": "stream",
     "text": [
      "/opt/conda/lib/python3.7/site-packages/ipykernel_launcher.py:19: RuntimeWarning: invalid value encountered in long_scalars\n"
     ]
    },
    {
     "name": "stdout",
     "output_type": "stream",
     "text": [
      "=== rates === 0.00015000000000000001\n",
      "=== best recall === 1.0\n"
     ]
    }
   ],
   "source": [
    "best_recall = 0.0\n",
    "learning_rates = np.arange(0.0001,0.0005,0.00001)\n",
    "\n",
    "for rate in learning_rates:\n",
    "    print(\"=== rates ===\", rate)\n",
    "    opt = tf.keras.optimizers.Adam(learning_rate = rate)\n",
    "    model.compile(optimizer= opt, \n",
    "                  loss = \"binary_crossentropy\",\n",
    "                  metrics=[\"accuracy\"])\n",
    "\n",
    "    history = model.fit(X_train,\n",
    "                        y_train_encode,\n",
    "                        validation_data=(X_test, y_test_encode),\n",
    "                        epochs = 10,\n",
    "                        verbose = False)\n",
    "    y_pred = model.predict(X_test)\n",
    "    Y_pred = np.argmax(model.predict(X_test),axis=1)\n",
    "    cm = confusion_matrix(y_test, Y_pred)\n",
    "    recall = cm[1][1]/(cm[0][1] + cm[1][1]) #TP/(TP+FN)\n",
    "    \n",
    "    if recall > best_recall:\n",
    "        best_recall = recall\n",
    "        best_rate   = rate \n",
    "        print(\"=== best recall ===\" , recall)\n",
    "\n",
    "    if best_recall == 1.0:\n",
    "        break"
   ]
  },
  {
   "cell_type": "code",
   "execution_count": 72,
   "id": "9d0e55af",
   "metadata": {
    "execution": {
     "iopub.execute_input": "2022-12-06T15:37:01.797014Z",
     "iopub.status.busy": "2022-12-06T15:37:01.796323Z",
     "iopub.status.idle": "2022-12-06T15:38:27.647973Z",
     "shell.execute_reply": "2022-12-06T15:38:27.646001Z"
    },
    "papermill": {
     "duration": 85.892591,
     "end_time": "2022-12-06T15:38:27.650879",
     "exception": false,
     "start_time": "2022-12-06T15:37:01.758288",
     "status": "completed"
    },
    "tags": []
   },
   "outputs": [],
   "source": [
    "\n",
    "opt = tf.keras.optimizers.Adam(learning_rate = best_rate)\n",
    "model.compile(optimizer= opt, \n",
    "              loss = \"binary_crossentropy\",\n",
    "              metrics=[\"accuracy\"])\n",
    "\n",
    "history = model.fit(X_train,\n",
    "                    y_train_encode,\n",
    "                    validation_data=(X_test, y_test_encode),\n",
    "                    epochs = 800,\n",
    "                    verbose = False)"
   ]
  },
  {
   "cell_type": "code",
   "execution_count": 73,
   "id": "d61d23ec",
   "metadata": {
    "execution": {
     "iopub.execute_input": "2022-12-06T15:38:27.713470Z",
     "iopub.status.busy": "2022-12-06T15:38:27.712063Z",
     "iopub.status.idle": "2022-12-06T15:38:28.098676Z",
     "shell.execute_reply": "2022-12-06T15:38:28.097214Z"
    },
    "papermill": {
     "duration": 0.419207,
     "end_time": "2022-12-06T15:38:28.100936",
     "exception": false,
     "start_time": "2022-12-06T15:38:27.681729",
     "status": "completed"
    },
    "tags": []
   },
   "outputs": [
    {
     "data": {
      "image/png": "[encoded data removed]",
      "text/plain": [
       "<Figure size 432x288 with 1 Axes>"
      ]
     },
     "metadata": {
      "needs_background": "light"
     },
     "output_type": "display_data"
    },
    {
     "data": {
      "image/png": "[encoded data removed]",
      "text/plain": [
       "<Figure size 432x288 with 1 Axes>"
      ]
     },
     "metadata": {
      "needs_background": "light"
     },
     "output_type": "display_data"
    }
   ],
   "source": [
    "acc = history.history['accuracy']\n",
    "val_acc = history.history['val_accuracy']\n",
    "loss = history.history['loss']\n",
    "val_loss = history.history['val_loss']\n",
    "\n",
    "epochs = range(len(acc))\n",
    "\n",
    "plt.plot(epochs, acc, 'ro', label='Training acc')\n",
    "plt.plot(epochs, val_acc, 'b', label='Validation acc')\n",
    "plt.title('Training and validation accuracy')\n",
    "plt.legend()\n",
    "\n",
    "plt.figure()\n",
    "\n",
    "plt.plot(epochs, loss, 'ro', label='Training loss')\n",
    "plt.plot(epochs, val_loss, 'b', label='Validation loss')\n",
    "plt.title('Training and validation loss')\n",
    "plt.legend()\n",
    "\n",
    "plt.show()"
   ]
  },
  {
   "cell_type": "code",
   "execution_count": 74,
   "id": "269c1b1f",
   "metadata": {
    "execution": {
     "iopub.execute_input": "2022-12-06T15:38:28.163465Z",
     "iopub.status.busy": "2022-12-06T15:38:28.163042Z",
     "iopub.status.idle": "2022-12-06T15:38:28.284169Z",
     "shell.execute_reply": "2022-12-06T15:38:28.283029Z"
    },
    "papermill": {
     "duration": 0.155452,
     "end_time": "2022-12-06T15:38:28.286777",
     "exception": false,
     "start_time": "2022-12-06T15:38:28.131325",
     "status": "completed"
    },
    "tags": []
   },
   "outputs": [
    {
     "name": "stdout",
     "output_type": "stream",
     "text": [
      "12/12 [==============================] - 0s 3ms/step - loss: 0.4296 - accuracy: 0.8039\n",
      "Accuracy: 80.3922\n"
     ]
    }
   ],
   "source": [
    "_, accuracy = model.evaluate(X_test, y_test_encode)\n",
    "print('Accuracy: %.4f' % (accuracy*100))"
   ]
  },
  {
   "cell_type": "code",
   "execution_count": 75,
   "id": "c85991d8",
   "metadata": {
    "execution": {
     "iopub.execute_input": "2022-12-06T15:38:28.350423Z",
     "iopub.status.busy": "2022-12-06T15:38:28.349977Z",
     "iopub.status.idle": "2022-12-06T15:38:28.580205Z",
     "shell.execute_reply": "2022-12-06T15:38:28.578539Z"
    },
    "papermill": {
     "duration": 0.264093,
     "end_time": "2022-12-06T15:38:28.582837",
     "exception": false,
     "start_time": "2022-12-06T15:38:28.318744",
     "status": "completed"
    },
    "tags": []
   },
   "outputs": [],
   "source": [
    "y_pred = model.predict(X_test)\n",
    "Y_pred = np.argmax(model.predict(X_test),axis=1)\n",
    "cm = confusion_matrix(y_test, Y_pred)\n",
    "recall_model = cm[1][1]/(cm[0][1] + cm[1][1]) #TP/(TP+FN)\n",
    "    "
   ]
  },
  {
   "cell_type": "markdown",
   "id": "20c5e4f6",
   "metadata": {
    "papermill": {
     "duration": 0.029634,
     "end_time": "2022-12-06T15:38:28.642510",
     "exception": false,
     "start_time": "2022-12-06T15:38:28.612876",
     "status": "completed"
    },
    "tags": []
   },
   "source": [
    "# Prediction using the test csv file"
   ]
  },
  {
   "cell_type": "code",
   "execution_count": 76,
   "id": "ddf7b3d1",
   "metadata": {
    "execution": {
     "iopub.execute_input": "2022-12-06T15:38:28.707583Z",
     "iopub.status.busy": "2022-12-06T15:38:28.706268Z",
     "iopub.status.idle": "2022-12-06T15:38:28.721576Z",
     "shell.execute_reply": "2022-12-06T15:38:28.720633Z"
    },
    "papermill": {
     "duration": 0.050378,
     "end_time": "2022-12-06T15:38:28.723632",
     "exception": false,
     "start_time": "2022-12-06T15:38:28.673254",
     "status": "completed"
    },
    "tags": []
   },
   "outputs": [
    {
     "data": {
      "text/plain": [
       "Index(['Parch', 'Sib_Unknown', 'sib_0', 'sib_1', 'sib_2', 'sib_3', 'sib_4',\n",
       "       'sib_7', 'age_30-39', 'age_40-49', 'age_60-69', 'age_20-29',\n",
       "       'age_10-19', 'Age_Unknown', 'age_50-59', 'age_0-9', 'age_70-79', 'male',\n",
       "       'female', 'Class_3', 'Class_2', 'Class_1', 'Q', 'S', 'C', 'U'],\n",
       "      dtype='object')"
      ]
     },
     "execution_count": 76,
     "metadata": {},
     "output_type": "execute_result"
    }
   ],
   "source": [
    "X = titanic_test.copy(deep = True)\n",
    "X = X[x_cols]\n",
    "X = X.apply(pd.to_numeric)\n",
    "X.columns\n",
    "\n"
   ]
  },
  {
   "cell_type": "code",
   "execution_count": 77,
   "id": "396152fc",
   "metadata": {
    "execution": {
     "iopub.execute_input": "2022-12-06T15:38:28.785567Z",
     "iopub.status.busy": "2022-12-06T15:38:28.784421Z",
     "iopub.status.idle": "2022-12-06T15:38:28.886913Z",
     "shell.execute_reply": "2022-12-06T15:38:28.884870Z"
    },
    "papermill": {
     "duration": 0.136327,
     "end_time": "2022-12-06T15:38:28.889938",
     "exception": false,
     "start_time": "2022-12-06T15:38:28.753611",
     "status": "completed"
    },
    "tags": []
   },
   "outputs": [],
   "source": [
    "y_pred = model.predict(X)\n"
   ]
  },
  {
   "cell_type": "markdown",
   "id": "0e967569",
   "metadata": {
    "papermill": {
     "duration": 0.030057,
     "end_time": "2022-12-06T15:38:28.950722",
     "exception": false,
     "start_time": "2022-12-06T15:38:28.920665",
     "status": "completed"
    },
    "tags": []
   },
   "source": [
    "# Hyper-parametrisation of architecture random-walk"
   ]
  },
  {
   "cell_type": "code",
   "execution_count": 78,
   "id": "72a8dbb1",
   "metadata": {
    "execution": {
     "iopub.execute_input": "2022-12-06T15:38:29.014818Z",
     "iopub.status.busy": "2022-12-06T15:38:29.014444Z",
     "iopub.status.idle": "2022-12-06T20:20:13.830106Z",
     "shell.execute_reply": "2022-12-06T20:20:13.829426Z"
    },
    "papermill": {
     "duration": 16904.976424,
     "end_time": "2022-12-06T20:20:13.957365",
     "exception": false,
     "start_time": "2022-12-06T15:38:28.980941",
     "status": "completed"
    },
    "tags": []
   },
   "outputs": [
    {
     "name": "stdout",
     "output_type": "stream",
     "text": [
      "Model: \"sequential_1\"\n",
      "_________________________________________________________________\n",
      "Layer (type)                 Output Shape              Param #   \n",
      "=================================================================\n",
      "flatten_1 (Flatten)          (None, 26)                0         \n",
      "_________________________________________________________________\n",
      "dense_3 (Dense)              (None, 47)                1269      \n",
      "_________________________________________________________________\n",
      "dense_4 (Dense)              (None, 47)                2256      \n",
      "_________________________________________________________________\n",
      "dense_5 (Dense)              (None, 47)                2256      \n",
      "_________________________________________________________________\n",
      "dense_6 (Dense)              (None, 47)                2256      \n",
      "_________________________________________________________________\n",
      "dense_7 (Dense)              (None, 2)                 96        \n",
      "=================================================================\n",
      "Total params: 8,133\n",
      "Trainable params: 8,133\n",
      "Non-trainable params: 0\n",
      "_________________________________________________________________\n",
      "None\n",
      "=== rates === 0.0001\n"
     ]
    },
    {
     "name": "stderr",
     "output_type": "stream",
     "text": [
      "/opt/conda/lib/python3.7/site-packages/ipykernel_launcher.py:42: RuntimeWarning: invalid value encountered in long_scalars\n"
     ]
    },
    {
     "name": "stdout",
     "output_type": "stream",
     "text": [
      "=== rates === 0.00011\n"
     ]
    },
    {
     "name": "stderr",
     "output_type": "stream",
     "text": [
      "/opt/conda/lib/python3.7/site-packages/ipykernel_launcher.py:42: RuntimeWarning: invalid value encountered in long_scalars\n"
     ]
    },
    {
     "name": "stdout",
     "output_type": "stream",
     "text": [
      "=== rates === 0.00012\n"
     ]
    },
    {
     "name": "stderr",
     "output_type": "stream",
     "text": [
      "/opt/conda/lib/python3.7/site-packages/ipykernel_launcher.py:42: RuntimeWarning: invalid value encountered in long_scalars\n"
     ]
    },
    {
     "name": "stdout",
     "output_type": "stream",
     "text": [
      "=== rates === 0.00013000000000000002\n"
     ]
    },
    {
     "name": "stderr",
     "output_type": "stream",
     "text": [
      "/opt/conda/lib/python3.7/site-packages/ipykernel_launcher.py:42: RuntimeWarning: invalid value encountered in long_scalars\n"
     ]
    },
    {
     "name": "stdout",
     "output_type": "stream",
     "text": [
      "=== rates === 0.00014\n"
     ]
    },
    {
     "name": "stderr",
     "output_type": "stream",
     "text": [
      "/opt/conda/lib/python3.7/site-packages/ipykernel_launcher.py:42: RuntimeWarning: invalid value encountered in long_scalars\n"
     ]
    },
    {
     "name": "stdout",
     "output_type": "stream",
     "text": [
      "=== rates === 0.00015000000000000001\n"
     ]
    },
    {
     "name": "stderr",
     "output_type": "stream",
     "text": [
      "/opt/conda/lib/python3.7/site-packages/ipykernel_launcher.py:42: RuntimeWarning: invalid value encountered in long_scalars\n"
     ]
    },
    {
     "name": "stdout",
     "output_type": "stream",
     "text": [
      "=== rates === 0.00015999999999999999\n"
     ]
    },
    {
     "name": "stderr",
     "output_type": "stream",
     "text": [
      "/opt/conda/lib/python3.7/site-packages/ipykernel_launcher.py:42: RuntimeWarning: invalid value encountered in long_scalars\n"
     ]
    },
    {
     "name": "stdout",
     "output_type": "stream",
     "text": [
      "=== rates === 0.00017\n"
     ]
    },
    {
     "name": "stderr",
     "output_type": "stream",
     "text": [
      "/opt/conda/lib/python3.7/site-packages/ipykernel_launcher.py:42: RuntimeWarning: invalid value encountered in long_scalars\n"
     ]
    },
    {
     "name": "stdout",
     "output_type": "stream",
     "text": [
      "=== rates === 0.00017999999999999998\n"
     ]
    },
    {
     "name": "stderr",
     "output_type": "stream",
     "text": [
      "/opt/conda/lib/python3.7/site-packages/ipykernel_launcher.py:42: RuntimeWarning: invalid value encountered in long_scalars\n"
     ]
    },
    {
     "name": "stdout",
     "output_type": "stream",
     "text": [
      "=== rates === 0.00019\n",
      "=== best recall === 0.95\n",
      "=== rates === 0.00019999999999999998\n",
      "=== rates === 0.00021\n",
      "=== rates === 0.00021999999999999998\n",
      "=== rates === 0.00023\n",
      "=== rates === 0.00023999999999999998\n",
      "=== rates === 0.00025\n",
      "=== rates === 0.00026\n",
      "=== rates === 0.00027\n",
      "=== rates === 0.00028\n",
      "=== rates === 0.00029\n",
      "=== rates === 0.0003\n",
      "=== rates === 0.00031\n",
      "=== rates === 0.00031999999999999997\n",
      "=== rates === 0.00033\n",
      "=== rates === 0.00033999999999999997\n",
      "=== rates === 0.00035\n",
      "=== rates === 0.00035999999999999997\n",
      "=== rates === 0.00036999999999999994\n",
      "=== rates === 0.00037999999999999997\n",
      "=== rates === 0.00039\n",
      "=== rates === 0.00039999999999999996\n",
      "=== rates === 0.00040999999999999994\n",
      "=== rates === 0.00041999999999999996\n",
      "=== rates === 0.00043\n",
      "=== rates === 0.00043999999999999996\n",
      "=== rates === 0.00044999999999999993\n",
      "=== rates === 0.00045999999999999996\n",
      "=== rates === 0.00047\n",
      "=== rates === 0.00047999999999999996\n",
      "=== rates === 0.00049\n",
      "12/12 [==============================] - 0s 3ms/step - loss: 0.4345 - accuracy: 0.8123\n",
      "Accuracy: 81.2325\n",
      "=== best recall overall === 0.8571428571428571\n",
      "Model: \"sequential_2\"\n",
      "_________________________________________________________________\n",
      "Layer (type)                 Output Shape              Param #   \n",
      "=================================================================\n",
      "flatten_2 (Flatten)          (None, 26)                0         \n",
      "_________________________________________________________________\n",
      "dense_8 (Dense)              (None, 49)                1323      \n",
      "_________________________________________________________________\n",
      "dense_9 (Dense)              (None, 2)                 100       \n",
      "=================================================================\n",
      "Total params: 1,423\n",
      "Trainable params: 1,423\n",
      "Non-trainable params: 0\n",
      "_________________________________________________________________\n",
      "None\n",
      "=== rates === 0.0001\n"
     ]
    },
    {
     "name": "stderr",
     "output_type": "stream",
     "text": [
      "/opt/conda/lib/python3.7/site-packages/ipykernel_launcher.py:42: RuntimeWarning: invalid value encountered in long_scalars\n"
     ]
    },
    {
     "name": "stdout",
     "output_type": "stream",
     "text": [
      "=== rates === 0.00011\n"
     ]
    },
    {
     "name": "stderr",
     "output_type": "stream",
     "text": [
      "/opt/conda/lib/python3.7/site-packages/ipykernel_launcher.py:42: RuntimeWarning: invalid value encountered in long_scalars\n"
     ]
    },
    {
     "name": "stdout",
     "output_type": "stream",
     "text": [
      "=== rates === 0.00012\n"
     ]
    },
    {
     "name": "stderr",
     "output_type": "stream",
     "text": [
      "/opt/conda/lib/python3.7/site-packages/ipykernel_launcher.py:42: RuntimeWarning: invalid value encountered in long_scalars\n"
     ]
    },
    {
     "name": "stdout",
     "output_type": "stream",
     "text": [
      "=== rates === 0.00013000000000000002\n"
     ]
    },
    {
     "name": "stderr",
     "output_type": "stream",
     "text": [
      "/opt/conda/lib/python3.7/site-packages/ipykernel_launcher.py:42: RuntimeWarning: invalid value encountered in long_scalars\n"
     ]
    },
    {
     "name": "stdout",
     "output_type": "stream",
     "text": [
      "=== rates === 0.00014\n",
      "=== best recall === 1.0\n",
      "=== rates === 0.00015000000000000001\n",
      "=== rates === 0.00015999999999999999\n",
      "=== rates === 0.00017\n",
      "=== rates === 0.00017999999999999998\n",
      "=== rates === 0.00019\n",
      "=== rates === 0.00019999999999999998\n",
      "=== rates === 0.00021\n",
      "=== rates === 0.00021999999999999998\n",
      "=== rates === 0.00023\n",
      "=== rates === 0.00023999999999999998\n",
      "=== rates === 0.00025\n",
      "=== rates === 0.00026\n",
      "=== rates === 0.00027\n",
      "=== rates === 0.00028\n",
      "=== rates === 0.00029\n",
      "=== rates === 0.0003\n",
      "=== rates === 0.00031\n",
      "=== rates === 0.00031999999999999997\n",
      "=== rates === 0.00033\n",
      "=== rates === 0.00033999999999999997\n",
      "=== rates === 0.00035\n",
      "=== rates === 0.00035999999999999997\n",
      "=== rates === 0.00036999999999999994\n",
      "=== rates === 0.00037999999999999997\n",
      "=== rates === 0.00039\n",
      "=== rates === 0.00039999999999999996\n",
      "=== rates === 0.00040999999999999994\n",
      "=== rates === 0.00041999999999999996\n",
      "=== rates === 0.00043\n",
      "=== rates === 0.00043999999999999996\n",
      "=== rates === 0.00044999999999999993\n",
      "=== rates === 0.00045999999999999996\n",
      "=== rates === 0.00047\n",
      "=== rates === 0.00047999999999999996\n",
      "=== rates === 0.00049\n",
      "12/12 [==============================] - 0s 2ms/step - loss: 0.4265 - accuracy: 0.8151\n",
      "Accuracy: 81.5126\n",
      "Model: \"sequential_3\"\n",
      "_________________________________________________________________\n",
      "Layer (type)                 Output Shape              Param #   \n",
      "=================================================================\n",
      "flatten_3 (Flatten)          (None, 26)                0         \n",
      "_________________________________________________________________\n",
      "dense_10 (Dense)             (None, 41)                1107      \n",
      "_________________________________________________________________\n",
      "dense_11 (Dense)             (None, 41)                1722      \n",
      "_________________________________________________________________\n",
      "dense_12 (Dense)             (None, 41)                1722      \n",
      "_________________________________________________________________\n",
      "dense_13 (Dense)             (None, 41)                1722      \n",
      "_________________________________________________________________\n",
      "dense_14 (Dense)             (None, 41)                1722      \n",
      "_________________________________________________________________\n",
      "dense_15 (Dense)             (None, 41)                1722      \n",
      "_________________________________________________________________\n",
      "dense_16 (Dense)             (None, 2)                 84        \n",
      "=================================================================\n",
      "Total params: 9,801\n",
      "Trainable params: 9,801\n",
      "Non-trainable params: 0\n",
      "_________________________________________________________________\n",
      "None\n",
      "=== rates === 0.0001\n"
     ]
    },
    {
     "name": "stderr",
     "output_type": "stream",
     "text": [
      "/opt/conda/lib/python3.7/site-packages/ipykernel_launcher.py:42: RuntimeWarning: invalid value encountered in long_scalars\n"
     ]
    },
    {
     "name": "stdout",
     "output_type": "stream",
     "text": [
      "=== rates === 0.00011\n"
     ]
    },
    {
     "name": "stderr",
     "output_type": "stream",
     "text": [
      "/opt/conda/lib/python3.7/site-packages/ipykernel_launcher.py:42: RuntimeWarning: invalid value encountered in long_scalars\n"
     ]
    },
    {
     "name": "stdout",
     "output_type": "stream",
     "text": [
      "=== rates === 0.00012\n"
     ]
    },
    {
     "name": "stderr",
     "output_type": "stream",
     "text": [
      "/opt/conda/lib/python3.7/site-packages/ipykernel_launcher.py:42: RuntimeWarning: invalid value encountered in long_scalars\n"
     ]
    },
    {
     "name": "stdout",
     "output_type": "stream",
     "text": [
      "=== rates === 0.00013000000000000002\n"
     ]
    },
    {
     "name": "stderr",
     "output_type": "stream",
     "text": [
      "/opt/conda/lib/python3.7/site-packages/ipykernel_launcher.py:42: RuntimeWarning: invalid value encountered in long_scalars\n"
     ]
    },
    {
     "name": "stdout",
     "output_type": "stream",
     "text": [
      "=== rates === 0.00014\n"
     ]
    },
    {
     "name": "stderr",
     "output_type": "stream",
     "text": [
      "/opt/conda/lib/python3.7/site-packages/ipykernel_launcher.py:42: RuntimeWarning: invalid value encountered in long_scalars\n"
     ]
    },
    {
     "name": "stdout",
     "output_type": "stream",
     "text": [
      "=== rates === 0.00015000000000000001\n"
     ]
    },
    {
     "name": "stderr",
     "output_type": "stream",
     "text": [
      "/opt/conda/lib/python3.7/site-packages/ipykernel_launcher.py:42: RuntimeWarning: invalid value encountered in long_scalars\n"
     ]
    },
    {
     "name": "stdout",
     "output_type": "stream",
     "text": [
      "=== rates === 0.00015999999999999999\n"
     ]
    },
    {
     "name": "stderr",
     "output_type": "stream",
     "text": [
      "/opt/conda/lib/python3.7/site-packages/ipykernel_launcher.py:42: RuntimeWarning: invalid value encountered in long_scalars\n"
     ]
    },
    {
     "name": "stdout",
     "output_type": "stream",
     "text": [
      "=== rates === 0.00017\n"
     ]
    },
    {
     "name": "stderr",
     "output_type": "stream",
     "text": [
      "/opt/conda/lib/python3.7/site-packages/ipykernel_launcher.py:42: RuntimeWarning: invalid value encountered in long_scalars\n"
     ]
    },
    {
     "name": "stdout",
     "output_type": "stream",
     "text": [
      "=== rates === 0.00017999999999999998\n"
     ]
    },
    {
     "name": "stderr",
     "output_type": "stream",
     "text": [
      "/opt/conda/lib/python3.7/site-packages/ipykernel_launcher.py:42: RuntimeWarning: invalid value encountered in long_scalars\n"
     ]
    },
    {
     "name": "stdout",
     "output_type": "stream",
     "text": [
      "=== rates === 0.00019\n"
     ]
    },
    {
     "name": "stderr",
     "output_type": "stream",
     "text": [
      "/opt/conda/lib/python3.7/site-packages/ipykernel_launcher.py:42: RuntimeWarning: invalid value encountered in long_scalars\n"
     ]
    },
    {
     "name": "stdout",
     "output_type": "stream",
     "text": [
      "=== rates === 0.00019999999999999998\n"
     ]
    },
    {
     "name": "stderr",
     "output_type": "stream",
     "text": [
      "/opt/conda/lib/python3.7/site-packages/ipykernel_launcher.py:42: RuntimeWarning: invalid value encountered in long_scalars\n"
     ]
    },
    {
     "name": "stdout",
     "output_type": "stream",
     "text": [
      "=== rates === 0.00021\n",
      "=== best recall === 1.0\n",
      "=== rates === 0.00021999999999999998\n",
      "=== rates === 0.00023\n",
      "=== rates === 0.00023999999999999998\n",
      "=== rates === 0.00025\n",
      "=== rates === 0.00026\n",
      "=== rates === 0.00027\n",
      "=== rates === 0.00028\n",
      "=== rates === 0.00029\n",
      "=== rates === 0.0003\n",
      "=== rates === 0.00031\n",
      "=== rates === 0.00031999999999999997\n",
      "=== rates === 0.00033\n",
      "=== rates === 0.00033999999999999997\n",
      "=== rates === 0.00035\n",
      "=== rates === 0.00035999999999999997\n",
      "=== rates === 0.00036999999999999994\n",
      "=== rates === 0.00037999999999999997\n",
      "=== rates === 0.00039\n",
      "=== rates === 0.00039999999999999996\n",
      "=== rates === 0.00040999999999999994\n",
      "=== rates === 0.00041999999999999996\n",
      "=== rates === 0.00043\n",
      "=== rates === 0.00043999999999999996\n",
      "=== rates === 0.00044999999999999993\n",
      "=== rates === 0.00045999999999999996\n",
      "=== rates === 0.00047\n",
      "=== rates === 0.00047999999999999996\n",
      "=== rates === 0.00049\n",
      "12/12 [==============================] - 0s 3ms/step - loss: 0.4341 - accuracy: 0.8207\n",
      "Accuracy: 82.0728\n",
      "=== best recall overall === 0.8762886597938144\n",
      "Model: \"sequential_4\"\n",
      "_________________________________________________________________\n",
      "Layer (type)                 Output Shape              Param #   \n",
      "=================================================================\n",
      "flatten_4 (Flatten)          (None, 26)                0         \n",
      "_________________________________________________________________\n",
      "dense_17 (Dense)             (None, 40)                1080      \n",
      "_________________________________________________________________\n",
      "dense_18 (Dense)             (None, 40)                1640      \n",
      "_________________________________________________________________\n",
      "dense_19 (Dense)             (None, 40)                1640      \n",
      "_________________________________________________________________\n",
      "dense_20 (Dense)             (None, 40)                1640      \n",
      "_________________________________________________________________\n",
      "dense_21 (Dense)             (None, 40)                1640      \n",
      "_________________________________________________________________\n",
      "dense_22 (Dense)             (None, 40)                1640      \n",
      "_________________________________________________________________\n",
      "dense_23 (Dense)             (None, 40)                1640      \n",
      "_________________________________________________________________\n",
      "dense_24 (Dense)             (None, 40)                1640      \n",
      "_________________________________________________________________\n",
      "dense_25 (Dense)             (None, 2)                 82        \n",
      "=================================================================\n",
      "Total params: 12,642\n",
      "Trainable params: 12,642\n",
      "Non-trainable params: 0\n",
      "_________________________________________________________________\n",
      "None\n",
      "=== rates === 0.0001\n"
     ]
    },
    {
     "name": "stderr",
     "output_type": "stream",
     "text": [
      "/opt/conda/lib/python3.7/site-packages/ipykernel_launcher.py:42: RuntimeWarning: invalid value encountered in long_scalars\n"
     ]
    },
    {
     "name": "stdout",
     "output_type": "stream",
     "text": [
      "=== rates === 0.00011\n"
     ]
    },
    {
     "name": "stderr",
     "output_type": "stream",
     "text": [
      "/opt/conda/lib/python3.7/site-packages/ipykernel_launcher.py:42: RuntimeWarning: invalid value encountered in long_scalars\n"
     ]
    },
    {
     "name": "stdout",
     "output_type": "stream",
     "text": [
      "=== rates === 0.00012\n"
     ]
    },
    {
     "name": "stderr",
     "output_type": "stream",
     "text": [
      "/opt/conda/lib/python3.7/site-packages/ipykernel_launcher.py:42: RuntimeWarning: invalid value encountered in long_scalars\n"
     ]
    },
    {
     "name": "stdout",
     "output_type": "stream",
     "text": [
      "=== rates === 0.00013000000000000002\n"
     ]
    },
    {
     "name": "stderr",
     "output_type": "stream",
     "text": [
      "/opt/conda/lib/python3.7/site-packages/ipykernel_launcher.py:42: RuntimeWarning: invalid value encountered in long_scalars\n"
     ]
    },
    {
     "name": "stdout",
     "output_type": "stream",
     "text": [
      "=== rates === 0.00014\n"
     ]
    },
    {
     "name": "stderr",
     "output_type": "stream",
     "text": [
      "/opt/conda/lib/python3.7/site-packages/ipykernel_launcher.py:42: RuntimeWarning: invalid value encountered in long_scalars\n"
     ]
    },
    {
     "name": "stdout",
     "output_type": "stream",
     "text": [
      "=== rates === 0.00015000000000000001\n"
     ]
    },
    {
     "name": "stderr",
     "output_type": "stream",
     "text": [
      "/opt/conda/lib/python3.7/site-packages/ipykernel_launcher.py:42: RuntimeWarning: invalid value encountered in long_scalars\n"
     ]
    },
    {
     "name": "stdout",
     "output_type": "stream",
     "text": [
      "=== rates === 0.00015999999999999999\n"
     ]
    },
    {
     "name": "stderr",
     "output_type": "stream",
     "text": [
      "/opt/conda/lib/python3.7/site-packages/ipykernel_launcher.py:42: RuntimeWarning: invalid value encountered in long_scalars\n"
     ]
    },
    {
     "name": "stdout",
     "output_type": "stream",
     "text": [
      "=== rates === 0.00017\n"
     ]
    },
    {
     "name": "stderr",
     "output_type": "stream",
     "text": [
      "/opt/conda/lib/python3.7/site-packages/ipykernel_launcher.py:42: RuntimeWarning: invalid value encountered in long_scalars\n"
     ]
    },
    {
     "name": "stdout",
     "output_type": "stream",
     "text": [
      "=== rates === 0.00017999999999999998\n"
     ]
    },
    {
     "name": "stderr",
     "output_type": "stream",
     "text": [
      "/opt/conda/lib/python3.7/site-packages/ipykernel_launcher.py:42: RuntimeWarning: invalid value encountered in long_scalars\n"
     ]
    },
    {
     "name": "stdout",
     "output_type": "stream",
     "text": [
      "=== rates === 0.00019\n"
     ]
    },
    {
     "name": "stderr",
     "output_type": "stream",
     "text": [
      "/opt/conda/lib/python3.7/site-packages/ipykernel_launcher.py:42: RuntimeWarning: invalid value encountered in long_scalars\n"
     ]
    },
    {
     "name": "stdout",
     "output_type": "stream",
     "text": [
      "=== rates === 0.00019999999999999998\n"
     ]
    },
    {
     "name": "stderr",
     "output_type": "stream",
     "text": [
      "/opt/conda/lib/python3.7/site-packages/ipykernel_launcher.py:42: RuntimeWarning: invalid value encountered in long_scalars\n"
     ]
    },
    {
     "name": "stdout",
     "output_type": "stream",
     "text": [
      "=== rates === 0.00021\n"
     ]
    },
    {
     "name": "stderr",
     "output_type": "stream",
     "text": [
      "/opt/conda/lib/python3.7/site-packages/ipykernel_launcher.py:42: RuntimeWarning: invalid value encountered in long_scalars\n"
     ]
    },
    {
     "name": "stdout",
     "output_type": "stream",
     "text": [
      "=== rates === 0.00021999999999999998\n"
     ]
    },
    {
     "name": "stderr",
     "output_type": "stream",
     "text": [
      "/opt/conda/lib/python3.7/site-packages/ipykernel_launcher.py:42: RuntimeWarning: invalid value encountered in long_scalars\n"
     ]
    },
    {
     "name": "stdout",
     "output_type": "stream",
     "text": [
      "=== rates === 0.00023\n"
     ]
    },
    {
     "name": "stderr",
     "output_type": "stream",
     "text": [
      "/opt/conda/lib/python3.7/site-packages/ipykernel_launcher.py:42: RuntimeWarning: invalid value encountered in long_scalars\n"
     ]
    },
    {
     "name": "stdout",
     "output_type": "stream",
     "text": [
      "=== rates === 0.00023999999999999998\n"
     ]
    },
    {
     "name": "stderr",
     "output_type": "stream",
     "text": [
      "/opt/conda/lib/python3.7/site-packages/ipykernel_launcher.py:42: RuntimeWarning: invalid value encountered in long_scalars\n"
     ]
    },
    {
     "name": "stdout",
     "output_type": "stream",
     "text": [
      "=== rates === 0.00025\n"
     ]
    },
    {
     "name": "stderr",
     "output_type": "stream",
     "text": [
      "/opt/conda/lib/python3.7/site-packages/ipykernel_launcher.py:42: RuntimeWarning: invalid value encountered in long_scalars\n"
     ]
    },
    {
     "name": "stdout",
     "output_type": "stream",
     "text": [
      "=== rates === 0.00026\n"
     ]
    },
    {
     "name": "stderr",
     "output_type": "stream",
     "text": [
      "/opt/conda/lib/python3.7/site-packages/ipykernel_launcher.py:42: RuntimeWarning: invalid value encountered in long_scalars\n"
     ]
    },
    {
     "name": "stdout",
     "output_type": "stream",
     "text": [
      "=== rates === 0.00027\n"
     ]
    },
    {
     "name": "stderr",
     "output_type": "stream",
     "text": [
      "/opt/conda/lib/python3.7/site-packages/ipykernel_launcher.py:42: RuntimeWarning: invalid value encountered in long_scalars\n"
     ]
    },
    {
     "name": "stdout",
     "output_type": "stream",
     "text": [
      "=== rates === 0.00028\n"
     ]
    },
    {
     "name": "stderr",
     "output_type": "stream",
     "text": [
      "/opt/conda/lib/python3.7/site-packages/ipykernel_launcher.py:42: RuntimeWarning: invalid value encountered in long_scalars\n"
     ]
    },
    {
     "name": "stdout",
     "output_type": "stream",
     "text": [
      "=== rates === 0.00029\n",
      "=== best recall === 0.7364341085271318\n",
      "=== rates === 0.0003\n",
      "=== best recall === 0.7441860465116279\n",
      "=== rates === 0.00031\n",
      "=== best recall === 0.753968253968254\n",
      "=== rates === 0.00031999999999999997\n",
      "=== rates === 0.00033\n",
      "=== best recall === 0.7622950819672131\n",
      "=== rates === 0.00033999999999999997\n",
      "=== best recall === 0.7777777777777778\n",
      "=== rates === 0.00035\n",
      "=== best recall === 0.8181818181818182\n",
      "=== rates === 0.00035999999999999997\n",
      "=== rates === 0.00036999999999999994\n",
      "=== best recall === 0.8317757009345794\n",
      "=== rates === 0.00037999999999999997\n",
      "=== best recall === 0.8514851485148515\n",
      "=== rates === 0.00039\n",
      "=== rates === 0.00039999999999999996\n",
      "=== rates === 0.00040999999999999994\n",
      "=== rates === 0.00041999999999999996\n",
      "=== rates === 0.00043\n",
      "=== rates === 0.00043999999999999996\n",
      "=== best recall === 0.8586956521739131\n",
      "=== rates === 0.00044999999999999993\n",
      "=== rates === 0.00045999999999999996\n",
      "=== rates === 0.00047\n",
      "=== rates === 0.00047999999999999996\n",
      "=== rates === 0.00049\n",
      "12/12 [==============================] - 0s 8ms/step - loss: 0.4365 - accuracy: 0.8151\n",
      "Accuracy: 81.5126\n",
      "Model: \"sequential_5\"\n",
      "_________________________________________________________________\n",
      "Layer (type)                 Output Shape              Param #   \n",
      "=================================================================\n",
      "flatten_5 (Flatten)          (None, 26)                0         \n",
      "_________________________________________________________________\n",
      "dense_26 (Dense)             (None, 29)                783       \n",
      "_________________________________________________________________\n",
      "dense_27 (Dense)             (None, 29)                870       \n",
      "_________________________________________________________________\n",
      "dense_28 (Dense)             (None, 29)                870       \n",
      "_________________________________________________________________\n",
      "dense_29 (Dense)             (None, 29)                870       \n",
      "_________________________________________________________________\n",
      "dense_30 (Dense)             (None, 29)                870       \n",
      "_________________________________________________________________\n",
      "dense_31 (Dense)             (None, 29)                870       \n",
      "_________________________________________________________________\n",
      "dense_32 (Dense)             (None, 29)                870       \n",
      "_________________________________________________________________\n",
      "dense_33 (Dense)             (None, 29)                870       \n",
      "_________________________________________________________________\n",
      "dense_34 (Dense)             (None, 2)                 60        \n",
      "=================================================================\n",
      "Total params: 6,933\n",
      "Trainable params: 6,933\n",
      "Non-trainable params: 0\n",
      "_________________________________________________________________\n",
      "None\n",
      "=== rates === 0.0001\n"
     ]
    },
    {
     "name": "stderr",
     "output_type": "stream",
     "text": [
      "/opt/conda/lib/python3.7/site-packages/ipykernel_launcher.py:42: RuntimeWarning: invalid value encountered in long_scalars\n"
     ]
    },
    {
     "name": "stdout",
     "output_type": "stream",
     "text": [
      "=== rates === 0.00011\n"
     ]
    },
    {
     "name": "stderr",
     "output_type": "stream",
     "text": [
      "/opt/conda/lib/python3.7/site-packages/ipykernel_launcher.py:42: RuntimeWarning: invalid value encountered in long_scalars\n"
     ]
    },
    {
     "name": "stdout",
     "output_type": "stream",
     "text": [
      "=== rates === 0.00012\n"
     ]
    },
    {
     "name": "stderr",
     "output_type": "stream",
     "text": [
      "/opt/conda/lib/python3.7/site-packages/ipykernel_launcher.py:42: RuntimeWarning: invalid value encountered in long_scalars\n"
     ]
    },
    {
     "name": "stdout",
     "output_type": "stream",
     "text": [
      "=== rates === 0.00013000000000000002\n"
     ]
    },
    {
     "name": "stderr",
     "output_type": "stream",
     "text": [
      "/opt/conda/lib/python3.7/site-packages/ipykernel_launcher.py:42: RuntimeWarning: invalid value encountered in long_scalars\n"
     ]
    },
    {
     "name": "stdout",
     "output_type": "stream",
     "text": [
      "=== rates === 0.00014\n"
     ]
    },
    {
     "name": "stderr",
     "output_type": "stream",
     "text": [
      "/opt/conda/lib/python3.7/site-packages/ipykernel_launcher.py:42: RuntimeWarning: invalid value encountered in long_scalars\n"
     ]
    },
    {
     "name": "stdout",
     "output_type": "stream",
     "text": [
      "=== rates === 0.00015000000000000001\n"
     ]
    },
    {
     "name": "stderr",
     "output_type": "stream",
     "text": [
      "/opt/conda/lib/python3.7/site-packages/ipykernel_launcher.py:42: RuntimeWarning: invalid value encountered in long_scalars\n"
     ]
    },
    {
     "name": "stdout",
     "output_type": "stream",
     "text": [
      "=== rates === 0.00015999999999999999\n"
     ]
    },
    {
     "name": "stderr",
     "output_type": "stream",
     "text": [
      "/opt/conda/lib/python3.7/site-packages/ipykernel_launcher.py:42: RuntimeWarning: invalid value encountered in long_scalars\n"
     ]
    },
    {
     "name": "stdout",
     "output_type": "stream",
     "text": [
      "=== rates === 0.00017\n"
     ]
    },
    {
     "name": "stderr",
     "output_type": "stream",
     "text": [
      "/opt/conda/lib/python3.7/site-packages/ipykernel_launcher.py:42: RuntimeWarning: invalid value encountered in long_scalars\n"
     ]
    },
    {
     "name": "stdout",
     "output_type": "stream",
     "text": [
      "=== rates === 0.00017999999999999998\n"
     ]
    },
    {
     "name": "stderr",
     "output_type": "stream",
     "text": [
      "/opt/conda/lib/python3.7/site-packages/ipykernel_launcher.py:42: RuntimeWarning: invalid value encountered in long_scalars\n"
     ]
    },
    {
     "name": "stdout",
     "output_type": "stream",
     "text": [
      "=== rates === 0.00019\n"
     ]
    },
    {
     "name": "stderr",
     "output_type": "stream",
     "text": [
      "/opt/conda/lib/python3.7/site-packages/ipykernel_launcher.py:42: RuntimeWarning: invalid value encountered in long_scalars\n"
     ]
    },
    {
     "name": "stdout",
     "output_type": "stream",
     "text": [
      "=== rates === 0.00019999999999999998\n"
     ]
    },
    {
     "name": "stderr",
     "output_type": "stream",
     "text": [
      "/opt/conda/lib/python3.7/site-packages/ipykernel_launcher.py:42: RuntimeWarning: invalid value encountered in long_scalars\n"
     ]
    },
    {
     "name": "stdout",
     "output_type": "stream",
     "text": [
      "=== rates === 0.00021\n"
     ]
    },
    {
     "name": "stderr",
     "output_type": "stream",
     "text": [
      "/opt/conda/lib/python3.7/site-packages/ipykernel_launcher.py:42: RuntimeWarning: invalid value encountered in long_scalars\n"
     ]
    },
    {
     "name": "stdout",
     "output_type": "stream",
     "text": [
      "=== rates === 0.00021999999999999998\n"
     ]
    },
    {
     "name": "stderr",
     "output_type": "stream",
     "text": [
      "/opt/conda/lib/python3.7/site-packages/ipykernel_launcher.py:42: RuntimeWarning: invalid value encountered in long_scalars\n"
     ]
    },
    {
     "name": "stdout",
     "output_type": "stream",
     "text": [
      "=== rates === 0.00023\n"
     ]
    },
    {
     "name": "stderr",
     "output_type": "stream",
     "text": [
      "/opt/conda/lib/python3.7/site-packages/ipykernel_launcher.py:42: RuntimeWarning: invalid value encountered in long_scalars\n"
     ]
    },
    {
     "name": "stdout",
     "output_type": "stream",
     "text": [
      "=== rates === 0.00023999999999999998\n"
     ]
    },
    {
     "name": "stderr",
     "output_type": "stream",
     "text": [
      "/opt/conda/lib/python3.7/site-packages/ipykernel_launcher.py:42: RuntimeWarning: invalid value encountered in long_scalars\n"
     ]
    },
    {
     "name": "stdout",
     "output_type": "stream",
     "text": [
      "=== rates === 0.00025\n"
     ]
    },
    {
     "name": "stderr",
     "output_type": "stream",
     "text": [
      "/opt/conda/lib/python3.7/site-packages/ipykernel_launcher.py:42: RuntimeWarning: invalid value encountered in long_scalars\n"
     ]
    },
    {
     "name": "stdout",
     "output_type": "stream",
     "text": [
      "=== rates === 0.00026\n"
     ]
    },
    {
     "name": "stderr",
     "output_type": "stream",
     "text": [
      "/opt/conda/lib/python3.7/site-packages/ipykernel_launcher.py:42: RuntimeWarning: invalid value encountered in long_scalars\n"
     ]
    },
    {
     "name": "stdout",
     "output_type": "stream",
     "text": [
      "=== rates === 0.00027\n"
     ]
    },
    {
     "name": "stderr",
     "output_type": "stream",
     "text": [
      "/opt/conda/lib/python3.7/site-packages/ipykernel_launcher.py:42: RuntimeWarning: invalid value encountered in long_scalars\n"
     ]
    },
    {
     "name": "stdout",
     "output_type": "stream",
     "text": [
      "=== rates === 0.00028\n"
     ]
    },
    {
     "name": "stderr",
     "output_type": "stream",
     "text": [
      "/opt/conda/lib/python3.7/site-packages/ipykernel_launcher.py:42: RuntimeWarning: invalid value encountered in long_scalars\n"
     ]
    },
    {
     "name": "stdout",
     "output_type": "stream",
     "text": [
      "=== rates === 0.00029\n"
     ]
    },
    {
     "name": "stderr",
     "output_type": "stream",
     "text": [
      "/opt/conda/lib/python3.7/site-packages/ipykernel_launcher.py:42: RuntimeWarning: invalid value encountered in long_scalars\n"
     ]
    },
    {
     "name": "stdout",
     "output_type": "stream",
     "text": [
      "=== rates === 0.0003\n",
      "=== best recall === 0.7480314960629921\n",
      "=== rates === 0.00031\n",
      "=== best recall === 0.7538461538461538\n",
      "=== rates === 0.00031999999999999997\n",
      "=== best recall === 0.7661290322580645\n",
      "=== rates === 0.00033\n",
      "=== rates === 0.00033999999999999997\n",
      "=== best recall === 0.7666666666666667\n",
      "=== rates === 0.00035\n",
      "=== best recall === 0.8035714285714286\n",
      "=== rates === 0.00035999999999999997\n",
      "=== rates === 0.00036999999999999994\n",
      "=== best recall === 0.8256880733944955\n",
      "=== rates === 0.00037999999999999997\n",
      "=== best recall === 0.8529411764705882\n",
      "=== rates === 0.00039\n",
      "=== rates === 0.00039999999999999996\n",
      "=== rates === 0.00040999999999999994\n",
      "=== rates === 0.00041999999999999996\n",
      "=== rates === 0.00043\n",
      "=== rates === 0.00043999999999999996\n",
      "=== rates === 0.00044999999999999993\n",
      "=== rates === 0.00045999999999999996\n",
      "=== best recall === 0.8736842105263158\n",
      "=== rates === 0.00047\n",
      "=== rates === 0.00047999999999999996\n",
      "=== rates === 0.00049\n",
      "=== best recall === 0.875\n",
      "12/12 [==============================] - 0s 4ms/step - loss: 0.4399 - accuracy: 0.8067\n",
      "Accuracy: 80.6723\n",
      "Model: \"sequential_6\"\n",
      "_________________________________________________________________\n",
      "Layer (type)                 Output Shape              Param #   \n",
      "=================================================================\n",
      "flatten_6 (Flatten)          (None, 26)                0         \n",
      "_________________________________________________________________\n",
      "dense_35 (Dense)             (None, 24)                648       \n",
      "_________________________________________________________________\n",
      "dense_36 (Dense)             (None, 24)                600       \n",
      "_________________________________________________________________\n",
      "dense_37 (Dense)             (None, 2)                 50        \n",
      "=================================================================\n",
      "Total params: 1,298\n",
      "Trainable params: 1,298\n",
      "Non-trainable params: 0\n",
      "_________________________________________________________________\n",
      "None\n",
      "=== rates === 0.0001\n",
      "=== best recall === 0.40298507462686567\n",
      "=== rates === 0.00011\n"
     ]
    },
    {
     "name": "stderr",
     "output_type": "stream",
     "text": [
      "/opt/conda/lib/python3.7/site-packages/ipykernel_launcher.py:42: RuntimeWarning: invalid value encountered in long_scalars\n"
     ]
    },
    {
     "name": "stdout",
     "output_type": "stream",
     "text": [
      "=== rates === 0.00012\n"
     ]
    },
    {
     "name": "stderr",
     "output_type": "stream",
     "text": [
      "/opt/conda/lib/python3.7/site-packages/ipykernel_launcher.py:42: RuntimeWarning: invalid value encountered in long_scalars\n"
     ]
    },
    {
     "name": "stdout",
     "output_type": "stream",
     "text": [
      "=== rates === 0.00013000000000000002\n"
     ]
    },
    {
     "name": "stderr",
     "output_type": "stream",
     "text": [
      "/opt/conda/lib/python3.7/site-packages/ipykernel_launcher.py:42: RuntimeWarning: invalid value encountered in long_scalars\n"
     ]
    },
    {
     "name": "stdout",
     "output_type": "stream",
     "text": [
      "=== rates === 0.00014\n"
     ]
    },
    {
     "name": "stderr",
     "output_type": "stream",
     "text": [
      "/opt/conda/lib/python3.7/site-packages/ipykernel_launcher.py:42: RuntimeWarning: invalid value encountered in long_scalars\n"
     ]
    },
    {
     "name": "stdout",
     "output_type": "stream",
     "text": [
      "=== rates === 0.00015000000000000001\n"
     ]
    },
    {
     "name": "stderr",
     "output_type": "stream",
     "text": [
      "/opt/conda/lib/python3.7/site-packages/ipykernel_launcher.py:42: RuntimeWarning: invalid value encountered in long_scalars\n"
     ]
    },
    {
     "name": "stdout",
     "output_type": "stream",
     "text": [
      "=== rates === 0.00015999999999999999\n",
      "=== rates === 0.00017\n",
      "=== best recall === 0.75\n",
      "=== rates === 0.00017999999999999998\n",
      "=== best recall === 0.8928571428571429\n",
      "=== rates === 0.00019\n",
      "=== best recall === 0.9056603773584906\n",
      "=== rates === 0.00019999999999999998\n",
      "=== rates === 0.00021\n",
      "=== rates === 0.00021999999999999998\n",
      "=== rates === 0.00023\n",
      "=== rates === 0.00023999999999999998\n",
      "=== rates === 0.00025\n",
      "=== rates === 0.00026\n",
      "=== rates === 0.00027\n",
      "=== rates === 0.00028\n",
      "=== rates === 0.00029\n",
      "=== rates === 0.0003\n",
      "=== rates === 0.00031\n",
      "=== rates === 0.00031999999999999997\n",
      "=== rates === 0.00033\n",
      "=== rates === 0.00033999999999999997\n",
      "=== rates === 0.00035\n",
      "=== rates === 0.00035999999999999997\n",
      "=== rates === 0.00036999999999999994\n",
      "=== rates === 0.00037999999999999997\n",
      "=== rates === 0.00039\n",
      "=== rates === 0.00039999999999999996\n",
      "=== rates === 0.00040999999999999994\n",
      "=== rates === 0.00041999999999999996\n",
      "=== rates === 0.00043\n",
      "=== rates === 0.00043999999999999996\n",
      "=== rates === 0.00044999999999999993\n",
      "=== rates === 0.00045999999999999996\n",
      "=== rates === 0.00047\n",
      "=== rates === 0.00047999999999999996\n",
      "=== rates === 0.00049\n",
      "12/12 [==============================] - 0s 3ms/step - loss: 0.4241 - accuracy: 0.8151\n",
      "Accuracy: 81.5126\n",
      "Model: \"sequential_7\"\n",
      "_________________________________________________________________\n",
      "Layer (type)                 Output Shape              Param #   \n",
      "=================================================================\n",
      "flatten_7 (Flatten)          (None, 26)                0         \n",
      "_________________________________________________________________\n",
      "dense_38 (Dense)             (None, 36)                972       \n",
      "_________________________________________________________________\n",
      "dense_39 (Dense)             (None, 36)                1332      \n",
      "_________________________________________________________________\n",
      "dense_40 (Dense)             (None, 36)                1332      \n",
      "_________________________________________________________________\n",
      "dense_41 (Dense)             (None, 36)                1332      \n",
      "_________________________________________________________________\n",
      "dense_42 (Dense)             (None, 2)                 74        \n",
      "=================================================================\n",
      "Total params: 5,042\n",
      "Trainable params: 5,042\n",
      "Non-trainable params: 0\n",
      "_________________________________________________________________\n",
      "None\n",
      "=== rates === 0.0001\n"
     ]
    },
    {
     "name": "stderr",
     "output_type": "stream",
     "text": [
      "/opt/conda/lib/python3.7/site-packages/ipykernel_launcher.py:42: RuntimeWarning: invalid value encountered in long_scalars\n"
     ]
    },
    {
     "name": "stdout",
     "output_type": "stream",
     "text": [
      "=== rates === 0.00011\n"
     ]
    },
    {
     "name": "stderr",
     "output_type": "stream",
     "text": [
      "/opt/conda/lib/python3.7/site-packages/ipykernel_launcher.py:42: RuntimeWarning: invalid value encountered in long_scalars\n"
     ]
    },
    {
     "name": "stdout",
     "output_type": "stream",
     "text": [
      "=== rates === 0.00012\n"
     ]
    },
    {
     "name": "stderr",
     "output_type": "stream",
     "text": [
      "/opt/conda/lib/python3.7/site-packages/ipykernel_launcher.py:42: RuntimeWarning: invalid value encountered in long_scalars\n"
     ]
    },
    {
     "name": "stdout",
     "output_type": "stream",
     "text": [
      "=== rates === 0.00013000000000000002\n"
     ]
    },
    {
     "name": "stderr",
     "output_type": "stream",
     "text": [
      "/opt/conda/lib/python3.7/site-packages/ipykernel_launcher.py:42: RuntimeWarning: invalid value encountered in long_scalars\n"
     ]
    },
    {
     "name": "stdout",
     "output_type": "stream",
     "text": [
      "=== rates === 0.00014\n"
     ]
    },
    {
     "name": "stderr",
     "output_type": "stream",
     "text": [
      "/opt/conda/lib/python3.7/site-packages/ipykernel_launcher.py:42: RuntimeWarning: invalid value encountered in long_scalars\n"
     ]
    },
    {
     "name": "stdout",
     "output_type": "stream",
     "text": [
      "=== rates === 0.00015000000000000001\n"
     ]
    },
    {
     "name": "stderr",
     "output_type": "stream",
     "text": [
      "/opt/conda/lib/python3.7/site-packages/ipykernel_launcher.py:42: RuntimeWarning: invalid value encountered in long_scalars\n"
     ]
    },
    {
     "name": "stdout",
     "output_type": "stream",
     "text": [
      "=== rates === 0.00015999999999999999\n"
     ]
    },
    {
     "name": "stderr",
     "output_type": "stream",
     "text": [
      "/opt/conda/lib/python3.7/site-packages/ipykernel_launcher.py:42: RuntimeWarning: invalid value encountered in long_scalars\n"
     ]
    },
    {
     "name": "stdout",
     "output_type": "stream",
     "text": [
      "=== rates === 0.00017\n"
     ]
    },
    {
     "name": "stderr",
     "output_type": "stream",
     "text": [
      "/opt/conda/lib/python3.7/site-packages/ipykernel_launcher.py:42: RuntimeWarning: invalid value encountered in long_scalars\n"
     ]
    },
    {
     "name": "stdout",
     "output_type": "stream",
     "text": [
      "=== rates === 0.00017999999999999998\n"
     ]
    },
    {
     "name": "stderr",
     "output_type": "stream",
     "text": [
      "/opt/conda/lib/python3.7/site-packages/ipykernel_launcher.py:42: RuntimeWarning: invalid value encountered in long_scalars\n"
     ]
    },
    {
     "name": "stdout",
     "output_type": "stream",
     "text": [
      "=== rates === 0.00019\n"
     ]
    },
    {
     "name": "stderr",
     "output_type": "stream",
     "text": [
      "/opt/conda/lib/python3.7/site-packages/ipykernel_launcher.py:42: RuntimeWarning: invalid value encountered in long_scalars\n"
     ]
    },
    {
     "name": "stdout",
     "output_type": "stream",
     "text": [
      "=== rates === 0.00019999999999999998\n",
      "=== best recall === 0.9473684210526315\n",
      "=== rates === 0.00021\n",
      "=== rates === 0.00021999999999999998\n",
      "=== rates === 0.00023\n",
      "=== rates === 0.00023999999999999998\n",
      "=== rates === 0.00025\n",
      "=== rates === 0.00026\n",
      "=== rates === 0.00027\n",
      "=== rates === 0.00028\n",
      "=== rates === 0.00029\n",
      "=== rates === 0.0003\n",
      "=== rates === 0.00031\n",
      "=== rates === 0.00031999999999999997\n",
      "=== rates === 0.00033\n",
      "=== rates === 0.00033999999999999997\n",
      "=== rates === 0.00035\n",
      "=== rates === 0.00035999999999999997\n",
      "=== rates === 0.00036999999999999994\n",
      "=== rates === 0.00037999999999999997\n",
      "=== rates === 0.00039\n",
      "=== rates === 0.00039999999999999996\n",
      "=== rates === 0.00040999999999999994\n",
      "=== rates === 0.00041999999999999996\n",
      "=== rates === 0.00043\n",
      "=== rates === 0.00043999999999999996\n",
      "=== rates === 0.00044999999999999993\n",
      "=== rates === 0.00045999999999999996\n",
      "=== rates === 0.00047\n",
      "=== rates === 0.00047999999999999996\n",
      "=== rates === 0.00049\n",
      "12/12 [==============================] - 0s 8ms/step - loss: 0.4307 - accuracy: 0.8151\n",
      "Accuracy: 81.5126\n",
      "Model: \"sequential_8\"\n",
      "_________________________________________________________________\n",
      "Layer (type)                 Output Shape              Param #   \n",
      "=================================================================\n",
      "flatten_8 (Flatten)          (None, 26)                0         \n",
      "_________________________________________________________________\n",
      "dense_43 (Dense)             (None, 27)                729       \n",
      "_________________________________________________________________\n",
      "dense_44 (Dense)             (None, 27)                756       \n",
      "_________________________________________________________________\n",
      "dense_45 (Dense)             (None, 27)                756       \n",
      "_________________________________________________________________\n",
      "dense_46 (Dense)             (None, 27)                756       \n",
      "_________________________________________________________________\n",
      "dense_47 (Dense)             (None, 27)                756       \n",
      "_________________________________________________________________\n",
      "dense_48 (Dense)             (None, 27)                756       \n",
      "_________________________________________________________________\n",
      "dense_49 (Dense)             (None, 27)                756       \n",
      "_________________________________________________________________\n",
      "dense_50 (Dense)             (None, 2)                 56        \n",
      "=================================================================\n",
      "Total params: 5,321\n",
      "Trainable params: 5,321\n",
      "Non-trainable params: 0\n",
      "_________________________________________________________________\n",
      "None\n",
      "=== rates === 0.0001\n"
     ]
    },
    {
     "name": "stderr",
     "output_type": "stream",
     "text": [
      "/opt/conda/lib/python3.7/site-packages/ipykernel_launcher.py:42: RuntimeWarning: invalid value encountered in long_scalars\n"
     ]
    },
    {
     "name": "stdout",
     "output_type": "stream",
     "text": [
      "=== rates === 0.00011\n"
     ]
    },
    {
     "name": "stderr",
     "output_type": "stream",
     "text": [
      "/opt/conda/lib/python3.7/site-packages/ipykernel_launcher.py:42: RuntimeWarning: invalid value encountered in long_scalars\n"
     ]
    },
    {
     "name": "stdout",
     "output_type": "stream",
     "text": [
      "=== rates === 0.00012\n"
     ]
    },
    {
     "name": "stderr",
     "output_type": "stream",
     "text": [
      "/opt/conda/lib/python3.7/site-packages/ipykernel_launcher.py:42: RuntimeWarning: invalid value encountered in long_scalars\n"
     ]
    },
    {
     "name": "stdout",
     "output_type": "stream",
     "text": [
      "=== rates === 0.00013000000000000002\n"
     ]
    },
    {
     "name": "stderr",
     "output_type": "stream",
     "text": [
      "/opt/conda/lib/python3.7/site-packages/ipykernel_launcher.py:42: RuntimeWarning: invalid value encountered in long_scalars\n"
     ]
    },
    {
     "name": "stdout",
     "output_type": "stream",
     "text": [
      "=== rates === 0.00014\n"
     ]
    },
    {
     "name": "stderr",
     "output_type": "stream",
     "text": [
      "/opt/conda/lib/python3.7/site-packages/ipykernel_launcher.py:42: RuntimeWarning: invalid value encountered in long_scalars\n"
     ]
    },
    {
     "name": "stdout",
     "output_type": "stream",
     "text": [
      "=== rates === 0.00015000000000000001\n"
     ]
    },
    {
     "name": "stderr",
     "output_type": "stream",
     "text": [
      "/opt/conda/lib/python3.7/site-packages/ipykernel_launcher.py:42: RuntimeWarning: invalid value encountered in long_scalars\n"
     ]
    },
    {
     "name": "stdout",
     "output_type": "stream",
     "text": [
      "=== rates === 0.00015999999999999999\n"
     ]
    },
    {
     "name": "stderr",
     "output_type": "stream",
     "text": [
      "/opt/conda/lib/python3.7/site-packages/ipykernel_launcher.py:42: RuntimeWarning: invalid value encountered in long_scalars\n"
     ]
    },
    {
     "name": "stdout",
     "output_type": "stream",
     "text": [
      "=== rates === 0.00017\n"
     ]
    },
    {
     "name": "stderr",
     "output_type": "stream",
     "text": [
      "/opt/conda/lib/python3.7/site-packages/ipykernel_launcher.py:42: RuntimeWarning: invalid value encountered in long_scalars\n"
     ]
    },
    {
     "name": "stdout",
     "output_type": "stream",
     "text": [
      "=== rates === 0.00017999999999999998\n"
     ]
    },
    {
     "name": "stderr",
     "output_type": "stream",
     "text": [
      "/opt/conda/lib/python3.7/site-packages/ipykernel_launcher.py:42: RuntimeWarning: invalid value encountered in long_scalars\n"
     ]
    },
    {
     "name": "stdout",
     "output_type": "stream",
     "text": [
      "=== rates === 0.00019\n"
     ]
    },
    {
     "name": "stderr",
     "output_type": "stream",
     "text": [
      "/opt/conda/lib/python3.7/site-packages/ipykernel_launcher.py:42: RuntimeWarning: invalid value encountered in long_scalars\n"
     ]
    },
    {
     "name": "stdout",
     "output_type": "stream",
     "text": [
      "=== rates === 0.00019999999999999998\n"
     ]
    },
    {
     "name": "stderr",
     "output_type": "stream",
     "text": [
      "/opt/conda/lib/python3.7/site-packages/ipykernel_launcher.py:42: RuntimeWarning: invalid value encountered in long_scalars\n"
     ]
    },
    {
     "name": "stdout",
     "output_type": "stream",
     "text": [
      "=== rates === 0.00021\n"
     ]
    },
    {
     "name": "stderr",
     "output_type": "stream",
     "text": [
      "/opt/conda/lib/python3.7/site-packages/ipykernel_launcher.py:42: RuntimeWarning: invalid value encountered in long_scalars\n"
     ]
    },
    {
     "name": "stdout",
     "output_type": "stream",
     "text": [
      "=== rates === 0.00021999999999999998\n"
     ]
    },
    {
     "name": "stderr",
     "output_type": "stream",
     "text": [
      "/opt/conda/lib/python3.7/site-packages/ipykernel_launcher.py:42: RuntimeWarning: invalid value encountered in long_scalars\n"
     ]
    },
    {
     "name": "stdout",
     "output_type": "stream",
     "text": [
      "=== rates === 0.00023\n"
     ]
    },
    {
     "name": "stderr",
     "output_type": "stream",
     "text": [
      "/opt/conda/lib/python3.7/site-packages/ipykernel_launcher.py:42: RuntimeWarning: invalid value encountered in long_scalars\n"
     ]
    },
    {
     "name": "stdout",
     "output_type": "stream",
     "text": [
      "=== rates === 0.00023999999999999998\n"
     ]
    },
    {
     "name": "stderr",
     "output_type": "stream",
     "text": [
      "/opt/conda/lib/python3.7/site-packages/ipykernel_launcher.py:42: RuntimeWarning: invalid value encountered in long_scalars\n"
     ]
    },
    {
     "name": "stdout",
     "output_type": "stream",
     "text": [
      "=== rates === 0.00025\n"
     ]
    },
    {
     "name": "stderr",
     "output_type": "stream",
     "text": [
      "/opt/conda/lib/python3.7/site-packages/ipykernel_launcher.py:42: RuntimeWarning: invalid value encountered in long_scalars\n"
     ]
    },
    {
     "name": "stdout",
     "output_type": "stream",
     "text": [
      "=== rates === 0.00026\n"
     ]
    },
    {
     "name": "stderr",
     "output_type": "stream",
     "text": [
      "/opt/conda/lib/python3.7/site-packages/ipykernel_launcher.py:42: RuntimeWarning: invalid value encountered in long_scalars\n"
     ]
    },
    {
     "name": "stdout",
     "output_type": "stream",
     "text": [
      "=== rates === 0.00027\n"
     ]
    },
    {
     "name": "stderr",
     "output_type": "stream",
     "text": [
      "/opt/conda/lib/python3.7/site-packages/ipykernel_launcher.py:42: RuntimeWarning: invalid value encountered in long_scalars\n"
     ]
    },
    {
     "name": "stdout",
     "output_type": "stream",
     "text": [
      "=== rates === 0.00028\n",
      "=== best recall === 0.752\n",
      "=== rates === 0.00029\n",
      "=== rates === 0.0003\n",
      "=== rates === 0.00031\n",
      "=== rates === 0.00031999999999999997\n",
      "=== best recall === 0.7642276422764228\n",
      "=== rates === 0.00033\n",
      "=== best recall === 0.7666666666666667\n",
      "=== rates === 0.00033999999999999997\n",
      "=== best recall === 0.7796610169491526\n",
      "=== rates === 0.00035\n",
      "=== best recall === 0.7844827586206896\n",
      "=== rates === 0.00035999999999999997\n",
      "=== rates === 0.00036999999999999994\n",
      "=== best recall === 0.8240740740740741\n",
      "=== rates === 0.00037999999999999997\n",
      "=== rates === 0.00039\n",
      "=== best recall === 0.8365384615384616\n",
      "=== rates === 0.00039999999999999996\n",
      "=== rates === 0.00040999999999999994\n",
      "=== best recall === 0.8514851485148515\n",
      "=== rates === 0.00041999999999999996\n",
      "=== rates === 0.00043\n",
      "=== best recall === 0.8571428571428571\n",
      "=== rates === 0.00043999999999999996\n",
      "=== rates === 0.00044999999999999993\n",
      "=== rates === 0.00045999999999999996\n",
      "=== rates === 0.00047\n",
      "=== rates === 0.00047999999999999996\n",
      "=== rates === 0.00049\n",
      "12/12 [==============================] - 0s 3ms/step - loss: 0.4445 - accuracy: 0.8179\n",
      "Accuracy: 81.7927\n",
      "Model: \"sequential_9\"\n",
      "_________________________________________________________________\n",
      "Layer (type)                 Output Shape              Param #   \n",
      "=================================================================\n",
      "flatten_9 (Flatten)          (None, 26)                0         \n",
      "_________________________________________________________________\n",
      "dense_51 (Dense)             (None, 46)                1242      \n",
      "_________________________________________________________________\n",
      "dense_52 (Dense)             (None, 46)                2162      \n",
      "_________________________________________________________________\n",
      "dense_53 (Dense)             (None, 46)                2162      \n",
      "_________________________________________________________________\n",
      "dense_54 (Dense)             (None, 2)                 94        \n",
      "=================================================================\n",
      "Total params: 5,660\n",
      "Trainable params: 5,660\n",
      "Non-trainable params: 0\n",
      "_________________________________________________________________\n",
      "None\n",
      "=== rates === 0.0001\n"
     ]
    },
    {
     "name": "stderr",
     "output_type": "stream",
     "text": [
      "/opt/conda/lib/python3.7/site-packages/ipykernel_launcher.py:42: RuntimeWarning: invalid value encountered in long_scalars\n"
     ]
    },
    {
     "name": "stdout",
     "output_type": "stream",
     "text": [
      "=== rates === 0.00011\n"
     ]
    },
    {
     "name": "stderr",
     "output_type": "stream",
     "text": [
      "/opt/conda/lib/python3.7/site-packages/ipykernel_launcher.py:42: RuntimeWarning: invalid value encountered in long_scalars\n"
     ]
    },
    {
     "name": "stdout",
     "output_type": "stream",
     "text": [
      "=== rates === 0.00012\n"
     ]
    },
    {
     "name": "stderr",
     "output_type": "stream",
     "text": [
      "/opt/conda/lib/python3.7/site-packages/ipykernel_launcher.py:42: RuntimeWarning: invalid value encountered in long_scalars\n"
     ]
    },
    {
     "name": "stdout",
     "output_type": "stream",
     "text": [
      "=== rates === 0.00013000000000000002\n"
     ]
    },
    {
     "name": "stderr",
     "output_type": "stream",
     "text": [
      "/opt/conda/lib/python3.7/site-packages/ipykernel_launcher.py:42: RuntimeWarning: invalid value encountered in long_scalars\n"
     ]
    },
    {
     "name": "stdout",
     "output_type": "stream",
     "text": [
      "=== rates === 0.00014\n"
     ]
    },
    {
     "name": "stderr",
     "output_type": "stream",
     "text": [
      "/opt/conda/lib/python3.7/site-packages/ipykernel_launcher.py:42: RuntimeWarning: invalid value encountered in long_scalars\n"
     ]
    },
    {
     "name": "stdout",
     "output_type": "stream",
     "text": [
      "=== rates === 0.00015000000000000001\n"
     ]
    },
    {
     "name": "stderr",
     "output_type": "stream",
     "text": [
      "/opt/conda/lib/python3.7/site-packages/ipykernel_launcher.py:42: RuntimeWarning: invalid value encountered in long_scalars\n"
     ]
    },
    {
     "name": "stdout",
     "output_type": "stream",
     "text": [
      "=== rates === 0.00015999999999999999\n"
     ]
    },
    {
     "name": "stderr",
     "output_type": "stream",
     "text": [
      "/opt/conda/lib/python3.7/site-packages/ipykernel_launcher.py:42: RuntimeWarning: invalid value encountered in long_scalars\n"
     ]
    },
    {
     "name": "stdout",
     "output_type": "stream",
     "text": [
      "=== rates === 0.00017\n"
     ]
    },
    {
     "name": "stderr",
     "output_type": "stream",
     "text": [
      "/opt/conda/lib/python3.7/site-packages/ipykernel_launcher.py:42: RuntimeWarning: invalid value encountered in long_scalars\n"
     ]
    },
    {
     "name": "stdout",
     "output_type": "stream",
     "text": [
      "=== rates === 0.00017999999999999998\n",
      "=== best recall === 0.9583333333333334\n",
      "=== rates === 0.00019\n",
      "=== rates === 0.00019999999999999998\n",
      "=== rates === 0.00021\n",
      "=== rates === 0.00021999999999999998\n",
      "=== rates === 0.00023\n",
      "=== rates === 0.00023999999999999998\n",
      "=== rates === 0.00025\n",
      "=== rates === 0.00026\n",
      "=== rates === 0.00027\n",
      "=== rates === 0.00028\n",
      "=== rates === 0.00029\n",
      "=== rates === 0.0003\n",
      "=== rates === 0.00031\n",
      "=== rates === 0.00031999999999999997\n",
      "=== rates === 0.00033\n",
      "=== rates === 0.00033999999999999997\n",
      "=== rates === 0.00035\n",
      "=== rates === 0.00035999999999999997\n",
      "=== rates === 0.00036999999999999994\n",
      "=== rates === 0.00037999999999999997\n",
      "=== rates === 0.00039\n",
      "=== rates === 0.00039999999999999996\n",
      "=== rates === 0.00040999999999999994\n",
      "=== rates === 0.00041999999999999996\n",
      "=== rates === 0.00043\n",
      "=== rates === 0.00043999999999999996\n",
      "=== rates === 0.00044999999999999993\n",
      "=== rates === 0.00045999999999999996\n",
      "=== rates === 0.00047\n",
      "=== rates === 0.00047999999999999996\n",
      "=== rates === 0.00049\n",
      "12/12 [==============================] - 0s 3ms/step - loss: 0.4318 - accuracy: 0.8123\n",
      "Accuracy: 81.2325\n",
      "Model: \"sequential_10\"\n",
      "_________________________________________________________________\n",
      "Layer (type)                 Output Shape              Param #   \n",
      "=================================================================\n",
      "flatten_10 (Flatten)         (None, 26)                0         \n",
      "_________________________________________________________________\n",
      "dense_55 (Dense)             (None, 20)                540       \n",
      "_________________________________________________________________\n",
      "dense_56 (Dense)             (None, 20)                420       \n",
      "_________________________________________________________________\n",
      "dense_57 (Dense)             (None, 2)                 42        \n",
      "=================================================================\n",
      "Total params: 1,002\n",
      "Trainable params: 1,002\n",
      "Non-trainable params: 0\n",
      "_________________________________________________________________\n",
      "None\n",
      "=== rates === 0.0001\n"
     ]
    },
    {
     "name": "stderr",
     "output_type": "stream",
     "text": [
      "/opt/conda/lib/python3.7/site-packages/ipykernel_launcher.py:42: RuntimeWarning: invalid value encountered in long_scalars\n"
     ]
    },
    {
     "name": "stdout",
     "output_type": "stream",
     "text": [
      "=== rates === 0.00011\n"
     ]
    },
    {
     "name": "stderr",
     "output_type": "stream",
     "text": [
      "/opt/conda/lib/python3.7/site-packages/ipykernel_launcher.py:42: RuntimeWarning: invalid value encountered in long_scalars\n"
     ]
    },
    {
     "name": "stdout",
     "output_type": "stream",
     "text": [
      "=== rates === 0.00012\n"
     ]
    },
    {
     "name": "stderr",
     "output_type": "stream",
     "text": [
      "/opt/conda/lib/python3.7/site-packages/ipykernel_launcher.py:42: RuntimeWarning: invalid value encountered in long_scalars\n"
     ]
    },
    {
     "name": "stdout",
     "output_type": "stream",
     "text": [
      "=== rates === 0.00013000000000000002\n"
     ]
    },
    {
     "name": "stderr",
     "output_type": "stream",
     "text": [
      "/opt/conda/lib/python3.7/site-packages/ipykernel_launcher.py:42: RuntimeWarning: invalid value encountered in long_scalars\n"
     ]
    },
    {
     "name": "stdout",
     "output_type": "stream",
     "text": [
      "=== rates === 0.00014\n"
     ]
    },
    {
     "name": "stderr",
     "output_type": "stream",
     "text": [
      "/opt/conda/lib/python3.7/site-packages/ipykernel_launcher.py:42: RuntimeWarning: invalid value encountered in long_scalars\n"
     ]
    },
    {
     "name": "stdout",
     "output_type": "stream",
     "text": [
      "=== rates === 0.00015000000000000001\n"
     ]
    },
    {
     "name": "stderr",
     "output_type": "stream",
     "text": [
      "/opt/conda/lib/python3.7/site-packages/ipykernel_launcher.py:42: RuntimeWarning: invalid value encountered in long_scalars\n"
     ]
    },
    {
     "name": "stdout",
     "output_type": "stream",
     "text": [
      "=== rates === 0.00015999999999999999\n"
     ]
    },
    {
     "name": "stderr",
     "output_type": "stream",
     "text": [
      "/opt/conda/lib/python3.7/site-packages/ipykernel_launcher.py:42: RuntimeWarning: invalid value encountered in long_scalars\n"
     ]
    },
    {
     "name": "stdout",
     "output_type": "stream",
     "text": [
      "=== rates === 0.00017\n"
     ]
    },
    {
     "name": "stderr",
     "output_type": "stream",
     "text": [
      "/opt/conda/lib/python3.7/site-packages/ipykernel_launcher.py:42: RuntimeWarning: invalid value encountered in long_scalars\n"
     ]
    },
    {
     "name": "stdout",
     "output_type": "stream",
     "text": [
      "=== rates === 0.00017999999999999998\n"
     ]
    },
    {
     "name": "stderr",
     "output_type": "stream",
     "text": [
      "/opt/conda/lib/python3.7/site-packages/ipykernel_launcher.py:42: RuntimeWarning: invalid value encountered in long_scalars\n"
     ]
    },
    {
     "name": "stdout",
     "output_type": "stream",
     "text": [
      "=== rates === 0.00019\n",
      "=== best recall === 1.0\n",
      "=== rates === 0.00019999999999999998\n",
      "=== rates === 0.00021\n",
      "=== rates === 0.00021999999999999998\n",
      "=== rates === 0.00023\n",
      "=== rates === 0.00023999999999999998\n",
      "=== rates === 0.00025\n",
      "=== rates === 0.00026\n",
      "=== rates === 0.00027\n",
      "=== rates === 0.00028\n",
      "=== rates === 0.00029\n",
      "=== rates === 0.0003\n",
      "=== rates === 0.00031\n",
      "=== rates === 0.00031999999999999997\n",
      "=== rates === 0.00033\n",
      "=== rates === 0.00033999999999999997\n",
      "=== rates === 0.00035\n",
      "=== rates === 0.00035999999999999997\n",
      "=== rates === 0.00036999999999999994\n",
      "=== rates === 0.00037999999999999997\n",
      "=== rates === 0.00039\n",
      "=== rates === 0.00039999999999999996\n",
      "=== rates === 0.00040999999999999994\n",
      "=== rates === 0.00041999999999999996\n",
      "=== rates === 0.00043\n",
      "=== rates === 0.00043999999999999996\n",
      "=== rates === 0.00044999999999999993\n",
      "=== rates === 0.00045999999999999996\n",
      "=== rates === 0.00047\n",
      "=== rates === 0.00047999999999999996\n",
      "=== rates === 0.00049\n",
      "12/12 [==============================] - 0s 3ms/step - loss: 0.4266 - accuracy: 0.8095\n",
      "Accuracy: 80.9524\n",
      "Model: \"sequential_11\"\n",
      "_________________________________________________________________\n",
      "Layer (type)                 Output Shape              Param #   \n",
      "=================================================================\n",
      "flatten_11 (Flatten)         (None, 26)                0         \n",
      "_________________________________________________________________\n",
      "dense_58 (Dense)             (None, 24)                648       \n",
      "_________________________________________________________________\n",
      "dense_59 (Dense)             (None, 24)                600       \n",
      "_________________________________________________________________\n",
      "dense_60 (Dense)             (None, 24)                600       \n",
      "_________________________________________________________________\n",
      "dense_61 (Dense)             (None, 24)                600       \n",
      "_________________________________________________________________\n",
      "dense_62 (Dense)             (None, 2)                 50        \n",
      "=================================================================\n",
      "Total params: 2,498\n",
      "Trainable params: 2,498\n",
      "Non-trainable params: 0\n",
      "_________________________________________________________________\n",
      "None\n",
      "=== rates === 0.0001\n"
     ]
    },
    {
     "name": "stderr",
     "output_type": "stream",
     "text": [
      "/opt/conda/lib/python3.7/site-packages/ipykernel_launcher.py:42: RuntimeWarning: invalid value encountered in long_scalars\n"
     ]
    },
    {
     "name": "stdout",
     "output_type": "stream",
     "text": [
      "=== rates === 0.00011\n"
     ]
    },
    {
     "name": "stderr",
     "output_type": "stream",
     "text": [
      "/opt/conda/lib/python3.7/site-packages/ipykernel_launcher.py:42: RuntimeWarning: invalid value encountered in long_scalars\n"
     ]
    },
    {
     "name": "stdout",
     "output_type": "stream",
     "text": [
      "=== rates === 0.00012\n"
     ]
    },
    {
     "name": "stderr",
     "output_type": "stream",
     "text": [
      "/opt/conda/lib/python3.7/site-packages/ipykernel_launcher.py:42: RuntimeWarning: invalid value encountered in long_scalars\n"
     ]
    },
    {
     "name": "stdout",
     "output_type": "stream",
     "text": [
      "=== rates === 0.00013000000000000002\n"
     ]
    },
    {
     "name": "stderr",
     "output_type": "stream",
     "text": [
      "/opt/conda/lib/python3.7/site-packages/ipykernel_launcher.py:42: RuntimeWarning: invalid value encountered in long_scalars\n"
     ]
    },
    {
     "name": "stdout",
     "output_type": "stream",
     "text": [
      "=== rates === 0.00014\n"
     ]
    },
    {
     "name": "stderr",
     "output_type": "stream",
     "text": [
      "/opt/conda/lib/python3.7/site-packages/ipykernel_launcher.py:42: RuntimeWarning: invalid value encountered in long_scalars\n"
     ]
    },
    {
     "name": "stdout",
     "output_type": "stream",
     "text": [
      "=== rates === 0.00015000000000000001\n"
     ]
    },
    {
     "name": "stderr",
     "output_type": "stream",
     "text": [
      "/opt/conda/lib/python3.7/site-packages/ipykernel_launcher.py:42: RuntimeWarning: invalid value encountered in long_scalars\n"
     ]
    },
    {
     "name": "stdout",
     "output_type": "stream",
     "text": [
      "=== rates === 0.00015999999999999999\n"
     ]
    },
    {
     "name": "stderr",
     "output_type": "stream",
     "text": [
      "/opt/conda/lib/python3.7/site-packages/ipykernel_launcher.py:42: RuntimeWarning: invalid value encountered in long_scalars\n"
     ]
    },
    {
     "name": "stdout",
     "output_type": "stream",
     "text": [
      "=== rates === 0.00017\n"
     ]
    },
    {
     "name": "stderr",
     "output_type": "stream",
     "text": [
      "/opt/conda/lib/python3.7/site-packages/ipykernel_launcher.py:42: RuntimeWarning: invalid value encountered in long_scalars\n"
     ]
    },
    {
     "name": "stdout",
     "output_type": "stream",
     "text": [
      "=== rates === 0.00017999999999999998\n"
     ]
    },
    {
     "name": "stderr",
     "output_type": "stream",
     "text": [
      "/opt/conda/lib/python3.7/site-packages/ipykernel_launcher.py:42: RuntimeWarning: invalid value encountered in long_scalars\n"
     ]
    },
    {
     "name": "stdout",
     "output_type": "stream",
     "text": [
      "=== rates === 0.00019\n"
     ]
    },
    {
     "name": "stderr",
     "output_type": "stream",
     "text": [
      "/opt/conda/lib/python3.7/site-packages/ipykernel_launcher.py:42: RuntimeWarning: invalid value encountered in long_scalars\n"
     ]
    },
    {
     "name": "stdout",
     "output_type": "stream",
     "text": [
      "=== rates === 0.00019999999999999998\n"
     ]
    },
    {
     "name": "stderr",
     "output_type": "stream",
     "text": [
      "/opt/conda/lib/python3.7/site-packages/ipykernel_launcher.py:42: RuntimeWarning: invalid value encountered in long_scalars\n"
     ]
    },
    {
     "name": "stdout",
     "output_type": "stream",
     "text": [
      "=== rates === 0.00021\n"
     ]
    },
    {
     "name": "stderr",
     "output_type": "stream",
     "text": [
      "/opt/conda/lib/python3.7/site-packages/ipykernel_launcher.py:42: RuntimeWarning: invalid value encountered in long_scalars\n"
     ]
    },
    {
     "name": "stdout",
     "output_type": "stream",
     "text": [
      "=== rates === 0.00021999999999999998\n",
      "=== best recall === 0.75\n",
      "=== rates === 0.00023\n",
      "=== best recall === 0.9285714285714286\n",
      "=== rates === 0.00023999999999999998\n",
      "=== rates === 0.00025\n",
      "=== rates === 0.00026\n",
      "=== rates === 0.00027\n",
      "=== rates === 0.00028\n",
      "=== rates === 0.00029\n",
      "=== rates === 0.0003\n",
      "=== rates === 0.00031\n",
      "=== rates === 0.00031999999999999997\n",
      "=== rates === 0.00033\n",
      "=== rates === 0.00033999999999999997\n",
      "=== rates === 0.00035\n",
      "=== rates === 0.00035999999999999997\n",
      "=== rates === 0.00036999999999999994\n",
      "=== rates === 0.00037999999999999997\n",
      "=== rates === 0.00039\n",
      "=== rates === 0.00039999999999999996\n",
      "=== rates === 0.00040999999999999994\n",
      "=== rates === 0.00041999999999999996\n",
      "=== rates === 0.00043\n",
      "=== rates === 0.00043999999999999996\n",
      "=== rates === 0.00044999999999999993\n",
      "=== rates === 0.00045999999999999996\n",
      "=== rates === 0.00047\n",
      "=== rates === 0.00047999999999999996\n",
      "=== rates === 0.00049\n",
      "12/12 [==============================] - 0s 2ms/step - loss: 0.4329 - accuracy: 0.8151\n",
      "Accuracy: 81.5126\n",
      "Model: \"sequential_12\"\n",
      "_________________________________________________________________\n",
      "Layer (type)                 Output Shape              Param #   \n",
      "=================================================================\n",
      "flatten_12 (Flatten)         (None, 26)                0         \n",
      "_________________________________________________________________\n",
      "dense_63 (Dense)             (None, 32)                864       \n",
      "_________________________________________________________________\n",
      "dense_64 (Dense)             (None, 32)                1056      \n",
      "_________________________________________________________________\n",
      "dense_65 (Dense)             (None, 2)                 66        \n",
      "=================================================================\n",
      "Total params: 1,986\n",
      "Trainable params: 1,986\n",
      "Non-trainable params: 0\n",
      "_________________________________________________________________\n",
      "None\n",
      "=== rates === 0.0001\n",
      "=== best recall === 0.38375350140056025\n",
      "=== rates === 0.00011\n"
     ]
    },
    {
     "name": "stderr",
     "output_type": "stream",
     "text": [
      "/opt/conda/lib/python3.7/site-packages/ipykernel_launcher.py:42: RuntimeWarning: invalid value encountered in long_scalars\n"
     ]
    },
    {
     "name": "stdout",
     "output_type": "stream",
     "text": [
      "=== rates === 0.00012\n"
     ]
    },
    {
     "name": "stderr",
     "output_type": "stream",
     "text": [
      "/opt/conda/lib/python3.7/site-packages/ipykernel_launcher.py:42: RuntimeWarning: invalid value encountered in long_scalars\n"
     ]
    },
    {
     "name": "stdout",
     "output_type": "stream",
     "text": [
      "=== rates === 0.00013000000000000002\n"
     ]
    },
    {
     "name": "stderr",
     "output_type": "stream",
     "text": [
      "/opt/conda/lib/python3.7/site-packages/ipykernel_launcher.py:42: RuntimeWarning: invalid value encountered in long_scalars\n"
     ]
    },
    {
     "name": "stdout",
     "output_type": "stream",
     "text": [
      "=== rates === 0.00014\n"
     ]
    },
    {
     "name": "stderr",
     "output_type": "stream",
     "text": [
      "/opt/conda/lib/python3.7/site-packages/ipykernel_launcher.py:42: RuntimeWarning: invalid value encountered in long_scalars\n"
     ]
    },
    {
     "name": "stdout",
     "output_type": "stream",
     "text": [
      "=== rates === 0.00015000000000000001\n"
     ]
    },
    {
     "name": "stderr",
     "output_type": "stream",
     "text": [
      "/opt/conda/lib/python3.7/site-packages/ipykernel_launcher.py:42: RuntimeWarning: invalid value encountered in long_scalars\n"
     ]
    },
    {
     "name": "stdout",
     "output_type": "stream",
     "text": [
      "=== rates === 0.00015999999999999999\n"
     ]
    },
    {
     "name": "stderr",
     "output_type": "stream",
     "text": [
      "/opt/conda/lib/python3.7/site-packages/ipykernel_launcher.py:42: RuntimeWarning: invalid value encountered in long_scalars\n"
     ]
    },
    {
     "name": "stdout",
     "output_type": "stream",
     "text": [
      "=== rates === 0.00017\n",
      "=== best recall === 1.0\n",
      "=== rates === 0.00017999999999999998\n",
      "=== rates === 0.00019\n",
      "=== rates === 0.00019999999999999998\n",
      "=== rates === 0.00021\n",
      "=== rates === 0.00021999999999999998\n",
      "=== rates === 0.00023\n",
      "=== rates === 0.00023999999999999998\n",
      "=== rates === 0.00025\n",
      "=== rates === 0.00026\n",
      "=== rates === 0.00027\n",
      "=== rates === 0.00028\n",
      "=== rates === 0.00029\n",
      "=== rates === 0.0003\n",
      "=== rates === 0.00031\n",
      "=== rates === 0.00031999999999999997\n",
      "=== rates === 0.00033\n",
      "=== rates === 0.00033999999999999997\n",
      "=== rates === 0.00035\n",
      "=== rates === 0.00035999999999999997\n",
      "=== rates === 0.00036999999999999994\n",
      "=== rates === 0.00037999999999999997\n",
      "=== rates === 0.00039\n",
      "=== rates === 0.00039999999999999996\n",
      "=== rates === 0.00040999999999999994\n",
      "=== rates === 0.00041999999999999996\n",
      "=== rates === 0.00043\n",
      "=== rates === 0.00043999999999999996\n",
      "=== rates === 0.00044999999999999993\n",
      "=== rates === 0.00045999999999999996\n",
      "=== rates === 0.00047\n",
      "=== rates === 0.00047999999999999996\n",
      "=== rates === 0.00049\n",
      "12/12 [==============================] - 0s 2ms/step - loss: 0.4282 - accuracy: 0.8123\n",
      "Accuracy: 81.2325\n",
      "Model: \"sequential_13\"\n",
      "_________________________________________________________________\n",
      "Layer (type)                 Output Shape              Param #   \n",
      "=================================================================\n",
      "flatten_13 (Flatten)         (None, 26)                0         \n",
      "_________________________________________________________________\n",
      "dense_66 (Dense)             (None, 28)                756       \n",
      "_________________________________________________________________\n",
      "dense_67 (Dense)             (None, 28)                812       \n",
      "_________________________________________________________________\n",
      "dense_68 (Dense)             (None, 28)                812       \n",
      "_________________________________________________________________\n",
      "dense_69 (Dense)             (None, 28)                812       \n",
      "_________________________________________________________________\n",
      "dense_70 (Dense)             (None, 28)                812       \n",
      "_________________________________________________________________\n",
      "dense_71 (Dense)             (None, 2)                 58        \n",
      "=================================================================\n",
      "Total params: 4,062\n",
      "Trainable params: 4,062\n",
      "Non-trainable params: 0\n",
      "_________________________________________________________________\n",
      "None\n",
      "=== rates === 0.0001\n"
     ]
    },
    {
     "name": "stderr",
     "output_type": "stream",
     "text": [
      "/opt/conda/lib/python3.7/site-packages/ipykernel_launcher.py:42: RuntimeWarning: invalid value encountered in long_scalars\n"
     ]
    },
    {
     "name": "stdout",
     "output_type": "stream",
     "text": [
      "=== rates === 0.00011\n"
     ]
    },
    {
     "name": "stderr",
     "output_type": "stream",
     "text": [
      "/opt/conda/lib/python3.7/site-packages/ipykernel_launcher.py:42: RuntimeWarning: invalid value encountered in long_scalars\n"
     ]
    },
    {
     "name": "stdout",
     "output_type": "stream",
     "text": [
      "=== rates === 0.00012\n"
     ]
    },
    {
     "name": "stderr",
     "output_type": "stream",
     "text": [
      "/opt/conda/lib/python3.7/site-packages/ipykernel_launcher.py:42: RuntimeWarning: invalid value encountered in long_scalars\n"
     ]
    },
    {
     "name": "stdout",
     "output_type": "stream",
     "text": [
      "=== rates === 0.00013000000000000002\n"
     ]
    },
    {
     "name": "stderr",
     "output_type": "stream",
     "text": [
      "/opt/conda/lib/python3.7/site-packages/ipykernel_launcher.py:42: RuntimeWarning: invalid value encountered in long_scalars\n"
     ]
    },
    {
     "name": "stdout",
     "output_type": "stream",
     "text": [
      "=== rates === 0.00014\n"
     ]
    },
    {
     "name": "stderr",
     "output_type": "stream",
     "text": [
      "/opt/conda/lib/python3.7/site-packages/ipykernel_launcher.py:42: RuntimeWarning: invalid value encountered in long_scalars\n"
     ]
    },
    {
     "name": "stdout",
     "output_type": "stream",
     "text": [
      "=== rates === 0.00015000000000000001\n"
     ]
    },
    {
     "name": "stderr",
     "output_type": "stream",
     "text": [
      "/opt/conda/lib/python3.7/site-packages/ipykernel_launcher.py:42: RuntimeWarning: invalid value encountered in long_scalars\n"
     ]
    },
    {
     "name": "stdout",
     "output_type": "stream",
     "text": [
      "=== rates === 0.00015999999999999999\n"
     ]
    },
    {
     "name": "stderr",
     "output_type": "stream",
     "text": [
      "/opt/conda/lib/python3.7/site-packages/ipykernel_launcher.py:42: RuntimeWarning: invalid value encountered in long_scalars\n"
     ]
    },
    {
     "name": "stdout",
     "output_type": "stream",
     "text": [
      "=== rates === 0.00017\n"
     ]
    },
    {
     "name": "stderr",
     "output_type": "stream",
     "text": [
      "/opt/conda/lib/python3.7/site-packages/ipykernel_launcher.py:42: RuntimeWarning: invalid value encountered in long_scalars\n"
     ]
    },
    {
     "name": "stdout",
     "output_type": "stream",
     "text": [
      "=== rates === 0.00017999999999999998\n"
     ]
    },
    {
     "name": "stderr",
     "output_type": "stream",
     "text": [
      "/opt/conda/lib/python3.7/site-packages/ipykernel_launcher.py:42: RuntimeWarning: invalid value encountered in long_scalars\n"
     ]
    },
    {
     "name": "stdout",
     "output_type": "stream",
     "text": [
      "=== rates === 0.00019\n"
     ]
    },
    {
     "name": "stderr",
     "output_type": "stream",
     "text": [
      "/opt/conda/lib/python3.7/site-packages/ipykernel_launcher.py:42: RuntimeWarning: invalid value encountered in long_scalars\n"
     ]
    },
    {
     "name": "stdout",
     "output_type": "stream",
     "text": [
      "=== rates === 0.00019999999999999998\n"
     ]
    },
    {
     "name": "stderr",
     "output_type": "stream",
     "text": [
      "/opt/conda/lib/python3.7/site-packages/ipykernel_launcher.py:42: RuntimeWarning: invalid value encountered in long_scalars\n"
     ]
    },
    {
     "name": "stdout",
     "output_type": "stream",
     "text": [
      "=== rates === 0.00021\n"
     ]
    },
    {
     "name": "stderr",
     "output_type": "stream",
     "text": [
      "/opt/conda/lib/python3.7/site-packages/ipykernel_launcher.py:42: RuntimeWarning: invalid value encountered in long_scalars\n"
     ]
    },
    {
     "name": "stdout",
     "output_type": "stream",
     "text": [
      "=== rates === 0.00021999999999999998\n",
      "=== best recall === 0.9444444444444444\n",
      "=== rates === 0.00023\n",
      "=== rates === 0.00023999999999999998\n",
      "=== rates === 0.00025\n",
      "=== rates === 0.00026\n",
      "=== rates === 0.00027\n",
      "=== rates === 0.00028\n",
      "=== rates === 0.00029\n",
      "=== rates === 0.0003\n",
      "=== rates === 0.00031\n",
      "=== rates === 0.00031999999999999997\n",
      "=== rates === 0.00033\n",
      "=== rates === 0.00033999999999999997\n",
      "=== rates === 0.00035\n",
      "=== rates === 0.00035999999999999997\n",
      "=== rates === 0.00036999999999999994\n",
      "=== rates === 0.00037999999999999997\n",
      "=== rates === 0.00039\n",
      "=== rates === 0.00039999999999999996\n",
      "=== rates === 0.00040999999999999994\n",
      "=== rates === 0.00041999999999999996\n",
      "=== rates === 0.00043\n",
      "=== rates === 0.00043999999999999996\n",
      "=== rates === 0.00044999999999999993\n",
      "=== rates === 0.00045999999999999996\n",
      "=== rates === 0.00047\n",
      "=== rates === 0.00047999999999999996\n",
      "=== rates === 0.00049\n",
      "12/12 [==============================] - 0s 3ms/step - loss: 0.4356 - accuracy: 0.8151\n",
      "Accuracy: 81.5126\n",
      "Model: \"sequential_14\"\n",
      "_________________________________________________________________\n",
      "Layer (type)                 Output Shape              Param #   \n",
      "=================================================================\n",
      "flatten_14 (Flatten)         (None, 26)                0         \n",
      "_________________________________________________________________\n",
      "dense_72 (Dense)             (None, 33)                891       \n",
      "_________________________________________________________________\n",
      "dense_73 (Dense)             (None, 33)                1122      \n",
      "_________________________________________________________________\n",
      "dense_74 (Dense)             (None, 33)                1122      \n",
      "_________________________________________________________________\n",
      "dense_75 (Dense)             (None, 33)                1122      \n",
      "_________________________________________________________________\n",
      "dense_76 (Dense)             (None, 33)                1122      \n",
      "_________________________________________________________________\n",
      "dense_77 (Dense)             (None, 33)                1122      \n",
      "_________________________________________________________________\n",
      "dense_78 (Dense)             (None, 33)                1122      \n",
      "_________________________________________________________________\n",
      "dense_79 (Dense)             (None, 2)                 68        \n",
      "=================================================================\n",
      "Total params: 7,691\n",
      "Trainable params: 7,691\n",
      "Non-trainable params: 0\n",
      "_________________________________________________________________\n",
      "None\n",
      "=== rates === 0.0001\n"
     ]
    },
    {
     "name": "stderr",
     "output_type": "stream",
     "text": [
      "/opt/conda/lib/python3.7/site-packages/ipykernel_launcher.py:42: RuntimeWarning: invalid value encountered in long_scalars\n"
     ]
    },
    {
     "name": "stdout",
     "output_type": "stream",
     "text": [
      "=== rates === 0.00011\n"
     ]
    },
    {
     "name": "stderr",
     "output_type": "stream",
     "text": [
      "/opt/conda/lib/python3.7/site-packages/ipykernel_launcher.py:42: RuntimeWarning: invalid value encountered in long_scalars\n"
     ]
    },
    {
     "name": "stdout",
     "output_type": "stream",
     "text": [
      "=== rates === 0.00012\n"
     ]
    },
    {
     "name": "stderr",
     "output_type": "stream",
     "text": [
      "/opt/conda/lib/python3.7/site-packages/ipykernel_launcher.py:42: RuntimeWarning: invalid value encountered in long_scalars\n"
     ]
    },
    {
     "name": "stdout",
     "output_type": "stream",
     "text": [
      "=== rates === 0.00013000000000000002\n"
     ]
    },
    {
     "name": "stderr",
     "output_type": "stream",
     "text": [
      "/opt/conda/lib/python3.7/site-packages/ipykernel_launcher.py:42: RuntimeWarning: invalid value encountered in long_scalars\n"
     ]
    },
    {
     "name": "stdout",
     "output_type": "stream",
     "text": [
      "=== rates === 0.00014\n"
     ]
    },
    {
     "name": "stderr",
     "output_type": "stream",
     "text": [
      "/opt/conda/lib/python3.7/site-packages/ipykernel_launcher.py:42: RuntimeWarning: invalid value encountered in long_scalars\n"
     ]
    },
    {
     "name": "stdout",
     "output_type": "stream",
     "text": [
      "=== rates === 0.00015000000000000001\n"
     ]
    },
    {
     "name": "stderr",
     "output_type": "stream",
     "text": [
      "/opt/conda/lib/python3.7/site-packages/ipykernel_launcher.py:42: RuntimeWarning: invalid value encountered in long_scalars\n"
     ]
    },
    {
     "name": "stdout",
     "output_type": "stream",
     "text": [
      "=== rates === 0.00015999999999999999\n"
     ]
    },
    {
     "name": "stderr",
     "output_type": "stream",
     "text": [
      "/opt/conda/lib/python3.7/site-packages/ipykernel_launcher.py:42: RuntimeWarning: invalid value encountered in long_scalars\n"
     ]
    },
    {
     "name": "stdout",
     "output_type": "stream",
     "text": [
      "=== rates === 0.00017\n"
     ]
    },
    {
     "name": "stderr",
     "output_type": "stream",
     "text": [
      "/opt/conda/lib/python3.7/site-packages/ipykernel_launcher.py:42: RuntimeWarning: invalid value encountered in long_scalars\n"
     ]
    },
    {
     "name": "stdout",
     "output_type": "stream",
     "text": [
      "=== rates === 0.00017999999999999998\n"
     ]
    },
    {
     "name": "stderr",
     "output_type": "stream",
     "text": [
      "/opt/conda/lib/python3.7/site-packages/ipykernel_launcher.py:42: RuntimeWarning: invalid value encountered in long_scalars\n"
     ]
    },
    {
     "name": "stdout",
     "output_type": "stream",
     "text": [
      "=== rates === 0.00019\n"
     ]
    },
    {
     "name": "stderr",
     "output_type": "stream",
     "text": [
      "/opt/conda/lib/python3.7/site-packages/ipykernel_launcher.py:42: RuntimeWarning: invalid value encountered in long_scalars\n"
     ]
    },
    {
     "name": "stdout",
     "output_type": "stream",
     "text": [
      "=== rates === 0.00019999999999999998\n"
     ]
    },
    {
     "name": "stderr",
     "output_type": "stream",
     "text": [
      "/opt/conda/lib/python3.7/site-packages/ipykernel_launcher.py:42: RuntimeWarning: invalid value encountered in long_scalars\n"
     ]
    },
    {
     "name": "stdout",
     "output_type": "stream",
     "text": [
      "=== rates === 0.00021\n"
     ]
    },
    {
     "name": "stderr",
     "output_type": "stream",
     "text": [
      "/opt/conda/lib/python3.7/site-packages/ipykernel_launcher.py:42: RuntimeWarning: invalid value encountered in long_scalars\n"
     ]
    },
    {
     "name": "stdout",
     "output_type": "stream",
     "text": [
      "=== rates === 0.00021999999999999998\n"
     ]
    },
    {
     "name": "stderr",
     "output_type": "stream",
     "text": [
      "/opt/conda/lib/python3.7/site-packages/ipykernel_launcher.py:42: RuntimeWarning: invalid value encountered in long_scalars\n"
     ]
    },
    {
     "name": "stdout",
     "output_type": "stream",
     "text": [
      "=== rates === 0.00023\n"
     ]
    },
    {
     "name": "stderr",
     "output_type": "stream",
     "text": [
      "/opt/conda/lib/python3.7/site-packages/ipykernel_launcher.py:42: RuntimeWarning: invalid value encountered in long_scalars\n"
     ]
    },
    {
     "name": "stdout",
     "output_type": "stream",
     "text": [
      "=== rates === 0.00023999999999999998\n"
     ]
    },
    {
     "name": "stderr",
     "output_type": "stream",
     "text": [
      "/opt/conda/lib/python3.7/site-packages/ipykernel_launcher.py:42: RuntimeWarning: invalid value encountered in long_scalars\n"
     ]
    },
    {
     "name": "stdout",
     "output_type": "stream",
     "text": [
      "=== rates === 0.00025\n"
     ]
    },
    {
     "name": "stderr",
     "output_type": "stream",
     "text": [
      "/opt/conda/lib/python3.7/site-packages/ipykernel_launcher.py:42: RuntimeWarning: invalid value encountered in long_scalars\n"
     ]
    },
    {
     "name": "stdout",
     "output_type": "stream",
     "text": [
      "=== rates === 0.00026\n",
      "=== best recall === 0.7711864406779662\n",
      "=== rates === 0.00027\n",
      "=== rates === 0.00028\n",
      "=== rates === 0.00029\n",
      "=== rates === 0.0003\n",
      "=== rates === 0.00031\n",
      "=== best recall === 0.7863247863247863\n",
      "=== rates === 0.00031999999999999997\n",
      "=== best recall === 0.8035714285714286\n",
      "=== rates === 0.00033\n",
      "=== best recall === 0.8090909090909091\n",
      "=== rates === 0.00033999999999999997\n",
      "=== best recall === 0.8317757009345794\n",
      "=== rates === 0.00035\n",
      "=== best recall === 0.86\n",
      "=== rates === 0.00035999999999999997\n",
      "=== rates === 0.00036999999999999994\n",
      "=== rates === 0.00037999999999999997\n",
      "=== best recall === 0.865979381443299\n",
      "=== rates === 0.00039\n",
      "=== rates === 0.00039999999999999996\n",
      "=== rates === 0.00040999999999999994\n",
      "=== rates === 0.00041999999999999996\n",
      "=== best recall === 0.8736842105263158\n",
      "=== rates === 0.00043\n",
      "=== rates === 0.00043999999999999996\n",
      "=== rates === 0.00044999999999999993\n",
      "=== best recall === 0.8913043478260869\n",
      "=== rates === 0.00045999999999999996\n",
      "=== rates === 0.00047\n",
      "=== rates === 0.00047999999999999996\n",
      "=== rates === 0.00049\n",
      "12/12 [==============================] - 0s 3ms/step - loss: 0.4464 - accuracy: 0.8263\n",
      "Accuracy: 82.6331\n",
      "=== best recall overall === 0.8865979381443299\n",
      "Model: \"sequential_15\"\n",
      "_________________________________________________________________\n",
      "Layer (type)                 Output Shape              Param #   \n",
      "=================================================================\n",
      "flatten_15 (Flatten)         (None, 26)                0         \n",
      "_________________________________________________________________\n",
      "dense_80 (Dense)             (None, 39)                1053      \n",
      "_________________________________________________________________\n",
      "dense_81 (Dense)             (None, 39)                1560      \n",
      "_________________________________________________________________\n",
      "dense_82 (Dense)             (None, 39)                1560      \n",
      "_________________________________________________________________\n",
      "dense_83 (Dense)             (None, 39)                1560      \n",
      "_________________________________________________________________\n",
      "dense_84 (Dense)             (None, 39)                1560      \n",
      "_________________________________________________________________\n",
      "dense_85 (Dense)             (None, 2)                 80        \n",
      "=================================================================\n",
      "Total params: 7,373\n",
      "Trainable params: 7,373\n",
      "Non-trainable params: 0\n",
      "_________________________________________________________________\n",
      "None\n",
      "=== rates === 0.0001\n"
     ]
    },
    {
     "name": "stderr",
     "output_type": "stream",
     "text": [
      "/opt/conda/lib/python3.7/site-packages/ipykernel_launcher.py:42: RuntimeWarning: invalid value encountered in long_scalars\n"
     ]
    },
    {
     "name": "stdout",
     "output_type": "stream",
     "text": [
      "=== rates === 0.00011\n"
     ]
    },
    {
     "name": "stderr",
     "output_type": "stream",
     "text": [
      "/opt/conda/lib/python3.7/site-packages/ipykernel_launcher.py:42: RuntimeWarning: invalid value encountered in long_scalars\n"
     ]
    },
    {
     "name": "stdout",
     "output_type": "stream",
     "text": [
      "=== rates === 0.00012\n"
     ]
    },
    {
     "name": "stderr",
     "output_type": "stream",
     "text": [
      "/opt/conda/lib/python3.7/site-packages/ipykernel_launcher.py:42: RuntimeWarning: invalid value encountered in long_scalars\n"
     ]
    },
    {
     "name": "stdout",
     "output_type": "stream",
     "text": [
      "=== rates === 0.00013000000000000002\n"
     ]
    },
    {
     "name": "stderr",
     "output_type": "stream",
     "text": [
      "/opt/conda/lib/python3.7/site-packages/ipykernel_launcher.py:42: RuntimeWarning: invalid value encountered in long_scalars\n"
     ]
    },
    {
     "name": "stdout",
     "output_type": "stream",
     "text": [
      "=== rates === 0.00014\n"
     ]
    },
    {
     "name": "stderr",
     "output_type": "stream",
     "text": [
      "/opt/conda/lib/python3.7/site-packages/ipykernel_launcher.py:42: RuntimeWarning: invalid value encountered in long_scalars\n"
     ]
    },
    {
     "name": "stdout",
     "output_type": "stream",
     "text": [
      "=== rates === 0.00015000000000000001\n"
     ]
    },
    {
     "name": "stderr",
     "output_type": "stream",
     "text": [
      "/opt/conda/lib/python3.7/site-packages/ipykernel_launcher.py:42: RuntimeWarning: invalid value encountered in long_scalars\n"
     ]
    },
    {
     "name": "stdout",
     "output_type": "stream",
     "text": [
      "=== rates === 0.00015999999999999999\n"
     ]
    },
    {
     "name": "stderr",
     "output_type": "stream",
     "text": [
      "/opt/conda/lib/python3.7/site-packages/ipykernel_launcher.py:42: RuntimeWarning: invalid value encountered in long_scalars\n"
     ]
    },
    {
     "name": "stdout",
     "output_type": "stream",
     "text": [
      "=== rates === 0.00017\n"
     ]
    },
    {
     "name": "stderr",
     "output_type": "stream",
     "text": [
      "/opt/conda/lib/python3.7/site-packages/ipykernel_launcher.py:42: RuntimeWarning: invalid value encountered in long_scalars\n"
     ]
    },
    {
     "name": "stdout",
     "output_type": "stream",
     "text": [
      "=== rates === 0.00017999999999999998\n"
     ]
    },
    {
     "name": "stderr",
     "output_type": "stream",
     "text": [
      "/opt/conda/lib/python3.7/site-packages/ipykernel_launcher.py:42: RuntimeWarning: invalid value encountered in long_scalars\n"
     ]
    },
    {
     "name": "stdout",
     "output_type": "stream",
     "text": [
      "=== rates === 0.00019\n"
     ]
    },
    {
     "name": "stderr",
     "output_type": "stream",
     "text": [
      "/opt/conda/lib/python3.7/site-packages/ipykernel_launcher.py:42: RuntimeWarning: invalid value encountered in long_scalars\n"
     ]
    },
    {
     "name": "stdout",
     "output_type": "stream",
     "text": [
      "=== rates === 0.00019999999999999998\n"
     ]
    },
    {
     "name": "stderr",
     "output_type": "stream",
     "text": [
      "/opt/conda/lib/python3.7/site-packages/ipykernel_launcher.py:42: RuntimeWarning: invalid value encountered in long_scalars\n"
     ]
    },
    {
     "name": "stdout",
     "output_type": "stream",
     "text": [
      "=== rates === 0.00021\n",
      "=== best recall === 0.9375\n",
      "=== rates === 0.00021999999999999998\n",
      "=== rates === 0.00023\n",
      "=== rates === 0.00023999999999999998\n",
      "=== rates === 0.00025\n",
      "=== rates === 0.00026\n",
      "=== rates === 0.00027\n",
      "=== rates === 0.00028\n",
      "=== rates === 0.00029\n",
      "=== rates === 0.0003\n",
      "=== rates === 0.00031\n",
      "=== rates === 0.00031999999999999997\n",
      "=== rates === 0.00033\n",
      "=== rates === 0.00033999999999999997\n",
      "=== rates === 0.00035\n",
      "=== rates === 0.00035999999999999997\n",
      "=== rates === 0.00036999999999999994\n",
      "=== rates === 0.00037999999999999997\n",
      "=== rates === 0.00039\n",
      "=== rates === 0.00039999999999999996\n",
      "=== rates === 0.00040999999999999994\n",
      "=== rates === 0.00041999999999999996\n",
      "=== rates === 0.00043\n",
      "=== rates === 0.00043999999999999996\n",
      "=== rates === 0.00044999999999999993\n",
      "=== rates === 0.00045999999999999996\n",
      "=== rates === 0.00047\n",
      "=== rates === 0.00047999999999999996\n",
      "=== rates === 0.00049\n",
      "12/12 [==============================] - 0s 3ms/step - loss: 0.4305 - accuracy: 0.8123\n",
      "Accuracy: 81.2325\n",
      "Model: \"sequential_16\"\n",
      "_________________________________________________________________\n",
      "Layer (type)                 Output Shape              Param #   \n",
      "=================================================================\n",
      "flatten_16 (Flatten)         (None, 26)                0         \n",
      "_________________________________________________________________\n",
      "dense_86 (Dense)             (None, 47)                1269      \n",
      "_________________________________________________________________\n",
      "dense_87 (Dense)             (None, 47)                2256      \n",
      "_________________________________________________________________\n",
      "dense_88 (Dense)             (None, 47)                2256      \n",
      "_________________________________________________________________\n",
      "dense_89 (Dense)             (None, 47)                2256      \n",
      "_________________________________________________________________\n",
      "dense_90 (Dense)             (None, 2)                 96        \n",
      "=================================================================\n",
      "Total params: 8,133\n",
      "Trainable params: 8,133\n",
      "Non-trainable params: 0\n",
      "_________________________________________________________________\n",
      "None\n",
      "=== rates === 0.0001\n"
     ]
    },
    {
     "name": "stderr",
     "output_type": "stream",
     "text": [
      "/opt/conda/lib/python3.7/site-packages/ipykernel_launcher.py:42: RuntimeWarning: invalid value encountered in long_scalars\n"
     ]
    },
    {
     "name": "stdout",
     "output_type": "stream",
     "text": [
      "=== rates === 0.00011\n"
     ]
    },
    {
     "name": "stderr",
     "output_type": "stream",
     "text": [
      "/opt/conda/lib/python3.7/site-packages/ipykernel_launcher.py:42: RuntimeWarning: invalid value encountered in long_scalars\n"
     ]
    },
    {
     "name": "stdout",
     "output_type": "stream",
     "text": [
      "=== rates === 0.00012\n"
     ]
    },
    {
     "name": "stderr",
     "output_type": "stream",
     "text": [
      "/opt/conda/lib/python3.7/site-packages/ipykernel_launcher.py:42: RuntimeWarning: invalid value encountered in long_scalars\n"
     ]
    },
    {
     "name": "stdout",
     "output_type": "stream",
     "text": [
      "=== rates === 0.00013000000000000002\n"
     ]
    },
    {
     "name": "stderr",
     "output_type": "stream",
     "text": [
      "/opt/conda/lib/python3.7/site-packages/ipykernel_launcher.py:42: RuntimeWarning: invalid value encountered in long_scalars\n"
     ]
    },
    {
     "name": "stdout",
     "output_type": "stream",
     "text": [
      "=== rates === 0.00014\n"
     ]
    },
    {
     "name": "stderr",
     "output_type": "stream",
     "text": [
      "/opt/conda/lib/python3.7/site-packages/ipykernel_launcher.py:42: RuntimeWarning: invalid value encountered in long_scalars\n"
     ]
    },
    {
     "name": "stdout",
     "output_type": "stream",
     "text": [
      "=== rates === 0.00015000000000000001\n"
     ]
    },
    {
     "name": "stderr",
     "output_type": "stream",
     "text": [
      "/opt/conda/lib/python3.7/site-packages/ipykernel_launcher.py:42: RuntimeWarning: invalid value encountered in long_scalars\n"
     ]
    },
    {
     "name": "stdout",
     "output_type": "stream",
     "text": [
      "=== rates === 0.00015999999999999999\n"
     ]
    },
    {
     "name": "stderr",
     "output_type": "stream",
     "text": [
      "/opt/conda/lib/python3.7/site-packages/ipykernel_launcher.py:42: RuntimeWarning: invalid value encountered in long_scalars\n"
     ]
    },
    {
     "name": "stdout",
     "output_type": "stream",
     "text": [
      "=== rates === 0.00017\n"
     ]
    },
    {
     "name": "stderr",
     "output_type": "stream",
     "text": [
      "/opt/conda/lib/python3.7/site-packages/ipykernel_launcher.py:42: RuntimeWarning: invalid value encountered in long_scalars\n"
     ]
    },
    {
     "name": "stdout",
     "output_type": "stream",
     "text": [
      "=== rates === 0.00017999999999999998\n"
     ]
    },
    {
     "name": "stderr",
     "output_type": "stream",
     "text": [
      "/opt/conda/lib/python3.7/site-packages/ipykernel_launcher.py:42: RuntimeWarning: invalid value encountered in long_scalars\n"
     ]
    },
    {
     "name": "stdout",
     "output_type": "stream",
     "text": [
      "=== rates === 0.00019\n",
      "=== best recall === 0.9473684210526315\n",
      "=== rates === 0.00019999999999999998\n",
      "=== rates === 0.00021\n",
      "=== rates === 0.00021999999999999998\n",
      "=== rates === 0.00023\n",
      "=== rates === 0.00023999999999999998\n",
      "=== rates === 0.00025\n",
      "=== rates === 0.00026\n",
      "=== rates === 0.00027\n",
      "=== rates === 0.00028\n",
      "=== rates === 0.00029\n",
      "=== rates === 0.0003\n",
      "=== rates === 0.00031\n",
      "=== rates === 0.00031999999999999997\n",
      "=== rates === 0.00033\n",
      "=== rates === 0.00033999999999999997\n",
      "=== rates === 0.00035\n",
      "=== rates === 0.00035999999999999997\n",
      "=== rates === 0.00036999999999999994\n",
      "=== rates === 0.00037999999999999997\n",
      "=== rates === 0.00039\n",
      "=== rates === 0.00039999999999999996\n",
      "=== rates === 0.00040999999999999994\n",
      "=== rates === 0.00041999999999999996\n",
      "=== rates === 0.00043\n",
      "=== rates === 0.00043999999999999996\n",
      "=== rates === 0.00044999999999999993\n",
      "=== rates === 0.00045999999999999996\n",
      "=== rates === 0.00047\n",
      "=== rates === 0.00047999999999999996\n",
      "=== rates === 0.00049\n",
      "12/12 [==============================] - 0s 3ms/step - loss: 0.4321 - accuracy: 0.8207\n",
      "Accuracy: 82.0728\n",
      "Model: \"sequential_17\"\n",
      "_________________________________________________________________\n",
      "Layer (type)                 Output Shape              Param #   \n",
      "=================================================================\n",
      "flatten_17 (Flatten)         (None, 26)                0         \n",
      "_________________________________________________________________\n",
      "dense_91 (Dense)             (None, 23)                621       \n",
      "_________________________________________________________________\n",
      "dense_92 (Dense)             (None, 23)                552       \n",
      "_________________________________________________________________\n",
      "dense_93 (Dense)             (None, 23)                552       \n",
      "_________________________________________________________________\n",
      "dense_94 (Dense)             (None, 23)                552       \n",
      "_________________________________________________________________\n",
      "dense_95 (Dense)             (None, 23)                552       \n",
      "_________________________________________________________________\n",
      "dense_96 (Dense)             (None, 23)                552       \n",
      "_________________________________________________________________\n",
      "dense_97 (Dense)             (None, 23)                552       \n",
      "_________________________________________________________________\n",
      "dense_98 (Dense)             (None, 23)                552       \n",
      "_________________________________________________________________\n",
      "dense_99 (Dense)             (None, 2)                 48        \n",
      "=================================================================\n",
      "Total params: 4,533\n",
      "Trainable params: 4,533\n",
      "Non-trainable params: 0\n",
      "_________________________________________________________________\n",
      "None\n",
      "=== rates === 0.0001\n"
     ]
    },
    {
     "name": "stderr",
     "output_type": "stream",
     "text": [
      "/opt/conda/lib/python3.7/site-packages/ipykernel_launcher.py:42: RuntimeWarning: invalid value encountered in long_scalars\n"
     ]
    },
    {
     "name": "stdout",
     "output_type": "stream",
     "text": [
      "=== rates === 0.00011\n"
     ]
    },
    {
     "name": "stderr",
     "output_type": "stream",
     "text": [
      "/opt/conda/lib/python3.7/site-packages/ipykernel_launcher.py:42: RuntimeWarning: invalid value encountered in long_scalars\n"
     ]
    },
    {
     "name": "stdout",
     "output_type": "stream",
     "text": [
      "=== rates === 0.00012\n"
     ]
    },
    {
     "name": "stderr",
     "output_type": "stream",
     "text": [
      "/opt/conda/lib/python3.7/site-packages/ipykernel_launcher.py:42: RuntimeWarning: invalid value encountered in long_scalars\n"
     ]
    },
    {
     "name": "stdout",
     "output_type": "stream",
     "text": [
      "=== rates === 0.00013000000000000002\n"
     ]
    },
    {
     "name": "stderr",
     "output_type": "stream",
     "text": [
      "/opt/conda/lib/python3.7/site-packages/ipykernel_launcher.py:42: RuntimeWarning: invalid value encountered in long_scalars\n"
     ]
    },
    {
     "name": "stdout",
     "output_type": "stream",
     "text": [
      "=== rates === 0.00014\n"
     ]
    },
    {
     "name": "stderr",
     "output_type": "stream",
     "text": [
      "/opt/conda/lib/python3.7/site-packages/ipykernel_launcher.py:42: RuntimeWarning: invalid value encountered in long_scalars\n"
     ]
    },
    {
     "name": "stdout",
     "output_type": "stream",
     "text": [
      "=== rates === 0.00015000000000000001\n"
     ]
    },
    {
     "name": "stderr",
     "output_type": "stream",
     "text": [
      "/opt/conda/lib/python3.7/site-packages/ipykernel_launcher.py:42: RuntimeWarning: invalid value encountered in long_scalars\n"
     ]
    },
    {
     "name": "stdout",
     "output_type": "stream",
     "text": [
      "=== rates === 0.00015999999999999999\n"
     ]
    },
    {
     "name": "stderr",
     "output_type": "stream",
     "text": [
      "/opt/conda/lib/python3.7/site-packages/ipykernel_launcher.py:42: RuntimeWarning: invalid value encountered in long_scalars\n"
     ]
    },
    {
     "name": "stdout",
     "output_type": "stream",
     "text": [
      "=== rates === 0.00017\n"
     ]
    },
    {
     "name": "stderr",
     "output_type": "stream",
     "text": [
      "/opt/conda/lib/python3.7/site-packages/ipykernel_launcher.py:42: RuntimeWarning: invalid value encountered in long_scalars\n"
     ]
    },
    {
     "name": "stdout",
     "output_type": "stream",
     "text": [
      "=== rates === 0.00017999999999999998\n"
     ]
    },
    {
     "name": "stderr",
     "output_type": "stream",
     "text": [
      "/opt/conda/lib/python3.7/site-packages/ipykernel_launcher.py:42: RuntimeWarning: invalid value encountered in long_scalars\n"
     ]
    },
    {
     "name": "stdout",
     "output_type": "stream",
     "text": [
      "=== rates === 0.00019\n"
     ]
    },
    {
     "name": "stderr",
     "output_type": "stream",
     "text": [
      "/opt/conda/lib/python3.7/site-packages/ipykernel_launcher.py:42: RuntimeWarning: invalid value encountered in long_scalars\n"
     ]
    },
    {
     "name": "stdout",
     "output_type": "stream",
     "text": [
      "=== rates === 0.00019999999999999998\n"
     ]
    },
    {
     "name": "stderr",
     "output_type": "stream",
     "text": [
      "/opt/conda/lib/python3.7/site-packages/ipykernel_launcher.py:42: RuntimeWarning: invalid value encountered in long_scalars\n"
     ]
    },
    {
     "name": "stdout",
     "output_type": "stream",
     "text": [
      "=== rates === 0.00021\n"
     ]
    },
    {
     "name": "stderr",
     "output_type": "stream",
     "text": [
      "/opt/conda/lib/python3.7/site-packages/ipykernel_launcher.py:42: RuntimeWarning: invalid value encountered in long_scalars\n"
     ]
    },
    {
     "name": "stdout",
     "output_type": "stream",
     "text": [
      "=== rates === 0.00021999999999999998\n"
     ]
    },
    {
     "name": "stderr",
     "output_type": "stream",
     "text": [
      "/opt/conda/lib/python3.7/site-packages/ipykernel_launcher.py:42: RuntimeWarning: invalid value encountered in long_scalars\n"
     ]
    },
    {
     "name": "stdout",
     "output_type": "stream",
     "text": [
      "=== rates === 0.00023\n"
     ]
    },
    {
     "name": "stderr",
     "output_type": "stream",
     "text": [
      "/opt/conda/lib/python3.7/site-packages/ipykernel_launcher.py:42: RuntimeWarning: invalid value encountered in long_scalars\n"
     ]
    },
    {
     "name": "stdout",
     "output_type": "stream",
     "text": [
      "=== rates === 0.00023999999999999998\n"
     ]
    },
    {
     "name": "stderr",
     "output_type": "stream",
     "text": [
      "/opt/conda/lib/python3.7/site-packages/ipykernel_launcher.py:42: RuntimeWarning: invalid value encountered in long_scalars\n"
     ]
    },
    {
     "name": "stdout",
     "output_type": "stream",
     "text": [
      "=== rates === 0.00025\n"
     ]
    },
    {
     "name": "stderr",
     "output_type": "stream",
     "text": [
      "/opt/conda/lib/python3.7/site-packages/ipykernel_launcher.py:42: RuntimeWarning: invalid value encountered in long_scalars\n"
     ]
    },
    {
     "name": "stdout",
     "output_type": "stream",
     "text": [
      "=== rates === 0.00026\n"
     ]
    },
    {
     "name": "stderr",
     "output_type": "stream",
     "text": [
      "/opt/conda/lib/python3.7/site-packages/ipykernel_launcher.py:42: RuntimeWarning: invalid value encountered in long_scalars\n"
     ]
    },
    {
     "name": "stdout",
     "output_type": "stream",
     "text": [
      "=== rates === 0.00027\n"
     ]
    },
    {
     "name": "stderr",
     "output_type": "stream",
     "text": [
      "/opt/conda/lib/python3.7/site-packages/ipykernel_launcher.py:42: RuntimeWarning: invalid value encountered in long_scalars\n"
     ]
    },
    {
     "name": "stdout",
     "output_type": "stream",
     "text": [
      "=== rates === 0.00028\n"
     ]
    },
    {
     "name": "stderr",
     "output_type": "stream",
     "text": [
      "/opt/conda/lib/python3.7/site-packages/ipykernel_launcher.py:42: RuntimeWarning: invalid value encountered in long_scalars\n"
     ]
    },
    {
     "name": "stdout",
     "output_type": "stream",
     "text": [
      "=== rates === 0.00029\n"
     ]
    },
    {
     "name": "stderr",
     "output_type": "stream",
     "text": [
      "/opt/conda/lib/python3.7/site-packages/ipykernel_launcher.py:42: RuntimeWarning: invalid value encountered in long_scalars\n"
     ]
    },
    {
     "name": "stdout",
     "output_type": "stream",
     "text": [
      "=== rates === 0.0003\n"
     ]
    },
    {
     "name": "stderr",
     "output_type": "stream",
     "text": [
      "/opt/conda/lib/python3.7/site-packages/ipykernel_launcher.py:42: RuntimeWarning: invalid value encountered in long_scalars\n"
     ]
    },
    {
     "name": "stdout",
     "output_type": "stream",
     "text": [
      "=== rates === 0.00031\n"
     ]
    },
    {
     "name": "stderr",
     "output_type": "stream",
     "text": [
      "/opt/conda/lib/python3.7/site-packages/ipykernel_launcher.py:42: RuntimeWarning: invalid value encountered in long_scalars\n"
     ]
    },
    {
     "name": "stdout",
     "output_type": "stream",
     "text": [
      "=== rates === 0.00031999999999999997\n"
     ]
    },
    {
     "name": "stderr",
     "output_type": "stream",
     "text": [
      "/opt/conda/lib/python3.7/site-packages/ipykernel_launcher.py:42: RuntimeWarning: invalid value encountered in long_scalars\n"
     ]
    },
    {
     "name": "stdout",
     "output_type": "stream",
     "text": [
      "=== rates === 0.00033\n"
     ]
    },
    {
     "name": "stderr",
     "output_type": "stream",
     "text": [
      "/opt/conda/lib/python3.7/site-packages/ipykernel_launcher.py:42: RuntimeWarning: invalid value encountered in long_scalars\n"
     ]
    },
    {
     "name": "stdout",
     "output_type": "stream",
     "text": [
      "=== rates === 0.00033999999999999997\n"
     ]
    },
    {
     "name": "stderr",
     "output_type": "stream",
     "text": [
      "/opt/conda/lib/python3.7/site-packages/ipykernel_launcher.py:42: RuntimeWarning: invalid value encountered in long_scalars\n"
     ]
    },
    {
     "name": "stdout",
     "output_type": "stream",
     "text": [
      "=== rates === 0.00035\n"
     ]
    },
    {
     "name": "stderr",
     "output_type": "stream",
     "text": [
      "/opt/conda/lib/python3.7/site-packages/ipykernel_launcher.py:42: RuntimeWarning: invalid value encountered in long_scalars\n"
     ]
    },
    {
     "name": "stdout",
     "output_type": "stream",
     "text": [
      "=== rates === 0.00035999999999999997\n",
      "=== best recall === 0.7637795275590551\n",
      "=== rates === 0.00036999999999999994\n",
      "=== rates === 0.00037999999999999997\n",
      "=== rates === 0.00039\n",
      "=== rates === 0.00039999999999999996\n",
      "=== best recall === 0.78125\n",
      "=== rates === 0.00040999999999999994\n",
      "=== rates === 0.00041999999999999996\n",
      "=== rates === 0.00043\n",
      "=== rates === 0.00043999999999999996\n",
      "=== rates === 0.00044999999999999993\n",
      "=== rates === 0.00045999999999999996\n",
      "=== rates === 0.00047\n",
      "=== best recall === 0.8053097345132744\n",
      "=== rates === 0.00047999999999999996\n",
      "=== rates === 0.00049\n",
      "=== best recall === 0.8256880733944955\n",
      "12/12 [==============================] - 0s 4ms/step - loss: 0.4426 - accuracy: 0.7983\n",
      "Accuracy: 79.8319\n",
      "Model: \"sequential_18\"\n",
      "_________________________________________________________________\n",
      "Layer (type)                 Output Shape              Param #   \n",
      "=================================================================\n",
      "flatten_18 (Flatten)         (None, 26)                0         \n",
      "_________________________________________________________________\n",
      "dense_100 (Dense)            (None, 43)                1161      \n",
      "_________________________________________________________________\n",
      "dense_101 (Dense)            (None, 43)                1892      \n",
      "_________________________________________________________________\n",
      "dense_102 (Dense)            (None, 2)                 88        \n",
      "=================================================================\n",
      "Total params: 3,141\n",
      "Trainable params: 3,141\n",
      "Non-trainable params: 0\n",
      "_________________________________________________________________\n",
      "None\n",
      "=== rates === 0.0001\n",
      "=== best recall === 0.38461538461538464\n",
      "=== rates === 0.00011\n"
     ]
    },
    {
     "name": "stderr",
     "output_type": "stream",
     "text": [
      "/opt/conda/lib/python3.7/site-packages/ipykernel_launcher.py:42: RuntimeWarning: invalid value encountered in long_scalars\n"
     ]
    },
    {
     "name": "stdout",
     "output_type": "stream",
     "text": [
      "=== rates === 0.00012\n"
     ]
    },
    {
     "name": "stderr",
     "output_type": "stream",
     "text": [
      "/opt/conda/lib/python3.7/site-packages/ipykernel_launcher.py:42: RuntimeWarning: invalid value encountered in long_scalars\n"
     ]
    },
    {
     "name": "stdout",
     "output_type": "stream",
     "text": [
      "=== rates === 0.00013000000000000002\n"
     ]
    },
    {
     "name": "stderr",
     "output_type": "stream",
     "text": [
      "/opt/conda/lib/python3.7/site-packages/ipykernel_launcher.py:42: RuntimeWarning: invalid value encountered in long_scalars\n"
     ]
    },
    {
     "name": "stdout",
     "output_type": "stream",
     "text": [
      "=== rates === 0.00014\n"
     ]
    },
    {
     "name": "stderr",
     "output_type": "stream",
     "text": [
      "/opt/conda/lib/python3.7/site-packages/ipykernel_launcher.py:42: RuntimeWarning: invalid value encountered in long_scalars\n"
     ]
    },
    {
     "name": "stdout",
     "output_type": "stream",
     "text": [
      "=== rates === 0.00015000000000000001\n"
     ]
    },
    {
     "name": "stderr",
     "output_type": "stream",
     "text": [
      "/opt/conda/lib/python3.7/site-packages/ipykernel_launcher.py:42: RuntimeWarning: invalid value encountered in long_scalars\n"
     ]
    },
    {
     "name": "stdout",
     "output_type": "stream",
     "text": [
      "=== rates === 0.00015999999999999999\n"
     ]
    },
    {
     "name": "stderr",
     "output_type": "stream",
     "text": [
      "/opt/conda/lib/python3.7/site-packages/ipykernel_launcher.py:42: RuntimeWarning: invalid value encountered in long_scalars\n"
     ]
    },
    {
     "name": "stdout",
     "output_type": "stream",
     "text": [
      "=== rates === 0.00017\n",
      "=== best recall === 0.9166666666666666\n",
      "=== rates === 0.00017999999999999998\n",
      "=== best recall === 0.9696969696969697\n",
      "=== rates === 0.00019\n",
      "=== rates === 0.00019999999999999998\n",
      "=== rates === 0.00021\n",
      "=== rates === 0.00021999999999999998\n",
      "=== rates === 0.00023\n",
      "=== rates === 0.00023999999999999998\n",
      "=== rates === 0.00025\n",
      "=== rates === 0.00026\n",
      "=== rates === 0.00027\n",
      "=== rates === 0.00028\n",
      "=== rates === 0.00029\n",
      "=== rates === 0.0003\n",
      "=== rates === 0.00031\n",
      "=== rates === 0.00031999999999999997\n",
      "=== rates === 0.00033\n",
      "=== rates === 0.00033999999999999997\n",
      "=== rates === 0.00035\n",
      "=== rates === 0.00035999999999999997\n",
      "=== rates === 0.00036999999999999994\n",
      "=== rates === 0.00037999999999999997\n",
      "=== rates === 0.00039\n",
      "=== rates === 0.00039999999999999996\n",
      "=== rates === 0.00040999999999999994\n",
      "=== rates === 0.00041999999999999996\n",
      "=== rates === 0.00043\n",
      "=== rates === 0.00043999999999999996\n",
      "=== rates === 0.00044999999999999993\n",
      "=== rates === 0.00045999999999999996\n",
      "=== rates === 0.00047\n",
      "=== rates === 0.00047999999999999996\n",
      "=== rates === 0.00049\n",
      "12/12 [==============================] - 0s 2ms/step - loss: 0.4278 - accuracy: 0.8207\n",
      "Accuracy: 82.0728\n",
      "Model: \"sequential_19\"\n",
      "_________________________________________________________________\n",
      "Layer (type)                 Output Shape              Param #   \n",
      "=================================================================\n",
      "flatten_19 (Flatten)         (None, 26)                0         \n",
      "_________________________________________________________________\n",
      "dense_103 (Dense)            (None, 32)                864       \n",
      "_________________________________________________________________\n",
      "dense_104 (Dense)            (None, 32)                1056      \n",
      "_________________________________________________________________\n",
      "dense_105 (Dense)            (None, 32)                1056      \n",
      "_________________________________________________________________\n",
      "dense_106 (Dense)            (None, 32)                1056      \n",
      "_________________________________________________________________\n",
      "dense_107 (Dense)            (None, 32)                1056      \n",
      "_________________________________________________________________\n",
      "dense_108 (Dense)            (None, 2)                 66        \n",
      "=================================================================\n",
      "Total params: 5,154\n",
      "Trainable params: 5,154\n",
      "Non-trainable params: 0\n",
      "_________________________________________________________________\n",
      "None\n",
      "=== rates === 0.0001\n"
     ]
    },
    {
     "name": "stderr",
     "output_type": "stream",
     "text": [
      "/opt/conda/lib/python3.7/site-packages/ipykernel_launcher.py:42: RuntimeWarning: invalid value encountered in long_scalars\n"
     ]
    },
    {
     "name": "stdout",
     "output_type": "stream",
     "text": [
      "=== rates === 0.00011\n"
     ]
    },
    {
     "name": "stderr",
     "output_type": "stream",
     "text": [
      "/opt/conda/lib/python3.7/site-packages/ipykernel_launcher.py:42: RuntimeWarning: invalid value encountered in long_scalars\n"
     ]
    },
    {
     "name": "stdout",
     "output_type": "stream",
     "text": [
      "=== rates === 0.00012\n"
     ]
    },
    {
     "name": "stderr",
     "output_type": "stream",
     "text": [
      "/opt/conda/lib/python3.7/site-packages/ipykernel_launcher.py:42: RuntimeWarning: invalid value encountered in long_scalars\n"
     ]
    },
    {
     "name": "stdout",
     "output_type": "stream",
     "text": [
      "=== rates === 0.00013000000000000002\n"
     ]
    },
    {
     "name": "stderr",
     "output_type": "stream",
     "text": [
      "/opt/conda/lib/python3.7/site-packages/ipykernel_launcher.py:42: RuntimeWarning: invalid value encountered in long_scalars\n"
     ]
    },
    {
     "name": "stdout",
     "output_type": "stream",
     "text": [
      "=== rates === 0.00014\n"
     ]
    },
    {
     "name": "stderr",
     "output_type": "stream",
     "text": [
      "/opt/conda/lib/python3.7/site-packages/ipykernel_launcher.py:42: RuntimeWarning: invalid value encountered in long_scalars\n"
     ]
    },
    {
     "name": "stdout",
     "output_type": "stream",
     "text": [
      "=== rates === 0.00015000000000000001\n"
     ]
    },
    {
     "name": "stderr",
     "output_type": "stream",
     "text": [
      "/opt/conda/lib/python3.7/site-packages/ipykernel_launcher.py:42: RuntimeWarning: invalid value encountered in long_scalars\n"
     ]
    },
    {
     "name": "stdout",
     "output_type": "stream",
     "text": [
      "=== rates === 0.00015999999999999999\n"
     ]
    },
    {
     "name": "stderr",
     "output_type": "stream",
     "text": [
      "/opt/conda/lib/python3.7/site-packages/ipykernel_launcher.py:42: RuntimeWarning: invalid value encountered in long_scalars\n"
     ]
    },
    {
     "name": "stdout",
     "output_type": "stream",
     "text": [
      "=== rates === 0.00017\n"
     ]
    },
    {
     "name": "stderr",
     "output_type": "stream",
     "text": [
      "/opt/conda/lib/python3.7/site-packages/ipykernel_launcher.py:42: RuntimeWarning: invalid value encountered in long_scalars\n"
     ]
    },
    {
     "name": "stdout",
     "output_type": "stream",
     "text": [
      "=== rates === 0.00017999999999999998\n"
     ]
    },
    {
     "name": "stderr",
     "output_type": "stream",
     "text": [
      "/opt/conda/lib/python3.7/site-packages/ipykernel_launcher.py:42: RuntimeWarning: invalid value encountered in long_scalars\n"
     ]
    },
    {
     "name": "stdout",
     "output_type": "stream",
     "text": [
      "=== rates === 0.00019\n"
     ]
    },
    {
     "name": "stderr",
     "output_type": "stream",
     "text": [
      "/opt/conda/lib/python3.7/site-packages/ipykernel_launcher.py:42: RuntimeWarning: invalid value encountered in long_scalars\n"
     ]
    },
    {
     "name": "stdout",
     "output_type": "stream",
     "text": [
      "=== rates === 0.00019999999999999998\n"
     ]
    },
    {
     "name": "stderr",
     "output_type": "stream",
     "text": [
      "/opt/conda/lib/python3.7/site-packages/ipykernel_launcher.py:42: RuntimeWarning: invalid value encountered in long_scalars\n"
     ]
    },
    {
     "name": "stdout",
     "output_type": "stream",
     "text": [
      "=== rates === 0.00021\n"
     ]
    },
    {
     "name": "stderr",
     "output_type": "stream",
     "text": [
      "/opt/conda/lib/python3.7/site-packages/ipykernel_launcher.py:42: RuntimeWarning: invalid value encountered in long_scalars\n"
     ]
    },
    {
     "name": "stdout",
     "output_type": "stream",
     "text": [
      "=== rates === 0.00021999999999999998\n"
     ]
    },
    {
     "name": "stderr",
     "output_type": "stream",
     "text": [
      "/opt/conda/lib/python3.7/site-packages/ipykernel_launcher.py:42: RuntimeWarning: invalid value encountered in long_scalars\n"
     ]
    },
    {
     "name": "stdout",
     "output_type": "stream",
     "text": [
      "=== rates === 0.00023\n",
      "=== best recall === 0.75\n",
      "=== rates === 0.00023999999999999998\n",
      "=== best recall === 0.8554216867469879\n",
      "=== rates === 0.00025\n",
      "=== rates === 0.00026\n",
      "=== rates === 0.00027\n",
      "=== rates === 0.00028\n",
      "=== rates === 0.00029\n",
      "=== rates === 0.0003\n",
      "=== rates === 0.00031\n",
      "=== rates === 0.00031999999999999997\n",
      "=== rates === 0.00033\n",
      "=== rates === 0.00033999999999999997\n",
      "=== rates === 0.00035\n",
      "=== rates === 0.00035999999999999997\n",
      "=== best recall === 0.86\n",
      "=== rates === 0.00036999999999999994\n",
      "=== rates === 0.00037999999999999997\n",
      "=== rates === 0.00039\n",
      "=== rates === 0.00039999999999999996\n",
      "=== rates === 0.00040999999999999994\n",
      "=== best recall === 0.8631578947368421\n",
      "=== rates === 0.00041999999999999996\n",
      "=== best recall === 0.8817204301075269\n",
      "=== rates === 0.00043\n",
      "=== rates === 0.00043999999999999996\n",
      "=== rates === 0.00044999999999999993\n",
      "=== rates === 0.00045999999999999996\n",
      "=== best recall === 0.8829787234042553\n",
      "=== rates === 0.00047\n",
      "=== rates === 0.00047999999999999996\n",
      "=== rates === 0.00049\n",
      "12/12 [==============================] - 0s 3ms/step - loss: 0.4460 - accuracy: 0.8011\n",
      "Accuracy: 80.1120\n",
      "Model: \"sequential_20\"\n",
      "_________________________________________________________________\n",
      "Layer (type)                 Output Shape              Param #   \n",
      "=================================================================\n",
      "flatten_20 (Flatten)         (None, 26)                0         \n",
      "_________________________________________________________________\n",
      "dense_109 (Dense)            (None, 21)                567       \n",
      "_________________________________________________________________\n",
      "dense_110 (Dense)            (None, 2)                 44        \n",
      "=================================================================\n",
      "Total params: 611\n",
      "Trainable params: 611\n",
      "Non-trainable params: 0\n",
      "_________________________________________________________________\n",
      "None\n",
      "=== rates === 0.0001\n",
      "=== best recall === 0.7\n",
      "=== rates === 0.00011\n",
      "=== best recall === 0.8387096774193549\n",
      "=== rates === 0.00012\n",
      "=== best recall === 1.0\n",
      "=== rates === 0.00013000000000000002\n",
      "=== rates === 0.00014\n",
      "=== rates === 0.00015000000000000001\n",
      "=== rates === 0.00015999999999999999\n",
      "=== rates === 0.00017\n",
      "=== rates === 0.00017999999999999998\n",
      "=== rates === 0.00019\n",
      "=== rates === 0.00019999999999999998\n",
      "=== rates === 0.00021\n",
      "=== rates === 0.00021999999999999998\n",
      "=== rates === 0.00023\n",
      "=== rates === 0.00023999999999999998\n",
      "=== rates === 0.00025\n",
      "=== rates === 0.00026\n",
      "=== rates === 0.00027\n",
      "=== rates === 0.00028\n",
      "=== rates === 0.00029\n",
      "=== rates === 0.0003\n",
      "=== rates === 0.00031\n",
      "=== rates === 0.00031999999999999997\n",
      "=== rates === 0.00033\n",
      "=== rates === 0.00033999999999999997\n",
      "=== rates === 0.00035\n",
      "=== rates === 0.00035999999999999997\n",
      "=== rates === 0.00036999999999999994\n",
      "=== rates === 0.00037999999999999997\n",
      "=== rates === 0.00039\n",
      "=== rates === 0.00039999999999999996\n",
      "=== rates === 0.00040999999999999994\n",
      "=== rates === 0.00041999999999999996\n",
      "=== rates === 0.00043\n",
      "=== rates === 0.00043999999999999996\n",
      "=== rates === 0.00044999999999999993\n",
      "=== rates === 0.00045999999999999996\n",
      "=== rates === 0.00047\n",
      "=== rates === 0.00047999999999999996\n",
      "=== rates === 0.00049\n",
      "12/12 [==============================] - 0s 3ms/step - loss: 0.4242 - accuracy: 0.8011\n",
      "Accuracy: 80.1120\n",
      "Model: \"sequential_21\"\n",
      "_________________________________________________________________\n",
      "Layer (type)                 Output Shape              Param #   \n",
      "=================================================================\n",
      "flatten_21 (Flatten)         (None, 26)                0         \n",
      "_________________________________________________________________\n",
      "dense_111 (Dense)            (None, 43)                1161      \n",
      "_________________________________________________________________\n",
      "dense_112 (Dense)            (None, 2)                 88        \n",
      "=================================================================\n",
      "Total params: 1,249\n",
      "Trainable params: 1,249\n",
      "Non-trainable params: 0\n",
      "_________________________________________________________________\n",
      "None\n",
      "=== rates === 0.0001\n"
     ]
    },
    {
     "name": "stderr",
     "output_type": "stream",
     "text": [
      "/opt/conda/lib/python3.7/site-packages/ipykernel_launcher.py:42: RuntimeWarning: invalid value encountered in long_scalars\n"
     ]
    },
    {
     "name": "stdout",
     "output_type": "stream",
     "text": [
      "=== rates === 0.00011\n"
     ]
    },
    {
     "name": "stderr",
     "output_type": "stream",
     "text": [
      "/opt/conda/lib/python3.7/site-packages/ipykernel_launcher.py:42: RuntimeWarning: invalid value encountered in long_scalars\n"
     ]
    },
    {
     "name": "stdout",
     "output_type": "stream",
     "text": [
      "=== rates === 0.00012\n"
     ]
    },
    {
     "name": "stderr",
     "output_type": "stream",
     "text": [
      "/opt/conda/lib/python3.7/site-packages/ipykernel_launcher.py:42: RuntimeWarning: invalid value encountered in long_scalars\n"
     ]
    },
    {
     "name": "stdout",
     "output_type": "stream",
     "text": [
      "=== rates === 0.00013000000000000002\n"
     ]
    },
    {
     "name": "stderr",
     "output_type": "stream",
     "text": [
      "/opt/conda/lib/python3.7/site-packages/ipykernel_launcher.py:42: RuntimeWarning: invalid value encountered in long_scalars\n"
     ]
    },
    {
     "name": "stdout",
     "output_type": "stream",
     "text": [
      "=== rates === 0.00014\n",
      "=== best recall === 0.9166666666666666\n",
      "=== rates === 0.00015000000000000001\n",
      "=== best recall === 0.9615384615384616\n",
      "=== rates === 0.00015999999999999999\n",
      "=== rates === 0.00017\n",
      "=== rates === 0.00017999999999999998\n",
      "=== rates === 0.00019\n",
      "=== rates === 0.00019999999999999998\n",
      "=== rates === 0.00021\n",
      "=== rates === 0.00021999999999999998\n",
      "=== rates === 0.00023\n",
      "=== rates === 0.00023999999999999998\n",
      "=== rates === 0.00025\n",
      "=== rates === 0.00026\n",
      "=== rates === 0.00027\n",
      "=== rates === 0.00028\n",
      "=== rates === 0.00029\n",
      "=== rates === 0.0003\n",
      "=== rates === 0.00031\n",
      "=== rates === 0.00031999999999999997\n",
      "=== rates === 0.00033\n",
      "=== rates === 0.00033999999999999997\n",
      "=== rates === 0.00035\n",
      "=== rates === 0.00035999999999999997\n",
      "=== rates === 0.00036999999999999994\n",
      "=== rates === 0.00037999999999999997\n",
      "=== rates === 0.00039\n",
      "=== rates === 0.00039999999999999996\n",
      "=== rates === 0.00040999999999999994\n",
      "=== rates === 0.00041999999999999996\n",
      "=== rates === 0.00043\n",
      "=== rates === 0.00043999999999999996\n",
      "=== rates === 0.00044999999999999993\n",
      "=== rates === 0.00045999999999999996\n",
      "=== rates === 0.00047\n",
      "=== rates === 0.00047999999999999996\n",
      "=== rates === 0.00049\n",
      "12/12 [==============================] - 0s 2ms/step - loss: 0.4271 - accuracy: 0.8095\n",
      "Accuracy: 80.9524\n",
      "Model: \"sequential_22\"\n",
      "_________________________________________________________________\n",
      "Layer (type)                 Output Shape              Param #   \n",
      "=================================================================\n",
      "flatten_22 (Flatten)         (None, 26)                0         \n",
      "_________________________________________________________________\n",
      "dense_113 (Dense)            (None, 33)                891       \n",
      "_________________________________________________________________\n",
      "dense_114 (Dense)            (None, 33)                1122      \n",
      "_________________________________________________________________\n",
      "dense_115 (Dense)            (None, 33)                1122      \n",
      "_________________________________________________________________\n",
      "dense_116 (Dense)            (None, 33)                1122      \n",
      "_________________________________________________________________\n",
      "dense_117 (Dense)            (None, 33)                1122      \n",
      "_________________________________________________________________\n",
      "dense_118 (Dense)            (None, 33)                1122      \n",
      "_________________________________________________________________\n",
      "dense_119 (Dense)            (None, 2)                 68        \n",
      "=================================================================\n",
      "Total params: 6,569\n",
      "Trainable params: 6,569\n",
      "Non-trainable params: 0\n",
      "_________________________________________________________________\n",
      "None\n",
      "=== rates === 0.0001\n"
     ]
    },
    {
     "name": "stderr",
     "output_type": "stream",
     "text": [
      "/opt/conda/lib/python3.7/site-packages/ipykernel_launcher.py:42: RuntimeWarning: invalid value encountered in long_scalars\n"
     ]
    },
    {
     "name": "stdout",
     "output_type": "stream",
     "text": [
      "=== rates === 0.00011\n"
     ]
    },
    {
     "name": "stderr",
     "output_type": "stream",
     "text": [
      "/opt/conda/lib/python3.7/site-packages/ipykernel_launcher.py:42: RuntimeWarning: invalid value encountered in long_scalars\n"
     ]
    },
    {
     "name": "stdout",
     "output_type": "stream",
     "text": [
      "=== rates === 0.00012\n"
     ]
    },
    {
     "name": "stderr",
     "output_type": "stream",
     "text": [
      "/opt/conda/lib/python3.7/site-packages/ipykernel_launcher.py:42: RuntimeWarning: invalid value encountered in long_scalars\n"
     ]
    },
    {
     "name": "stdout",
     "output_type": "stream",
     "text": [
      "=== rates === 0.00013000000000000002\n"
     ]
    },
    {
     "name": "stderr",
     "output_type": "stream",
     "text": [
      "/opt/conda/lib/python3.7/site-packages/ipykernel_launcher.py:42: RuntimeWarning: invalid value encountered in long_scalars\n"
     ]
    },
    {
     "name": "stdout",
     "output_type": "stream",
     "text": [
      "=== rates === 0.00014\n"
     ]
    },
    {
     "name": "stderr",
     "output_type": "stream",
     "text": [
      "/opt/conda/lib/python3.7/site-packages/ipykernel_launcher.py:42: RuntimeWarning: invalid value encountered in long_scalars\n"
     ]
    },
    {
     "name": "stdout",
     "output_type": "stream",
     "text": [
      "=== rates === 0.00015000000000000001\n"
     ]
    },
    {
     "name": "stderr",
     "output_type": "stream",
     "text": [
      "/opt/conda/lib/python3.7/site-packages/ipykernel_launcher.py:42: RuntimeWarning: invalid value encountered in long_scalars\n"
     ]
    },
    {
     "name": "stdout",
     "output_type": "stream",
     "text": [
      "=== rates === 0.00015999999999999999\n"
     ]
    },
    {
     "name": "stderr",
     "output_type": "stream",
     "text": [
      "/opt/conda/lib/python3.7/site-packages/ipykernel_launcher.py:42: RuntimeWarning: invalid value encountered in long_scalars\n"
     ]
    },
    {
     "name": "stdout",
     "output_type": "stream",
     "text": [
      "=== rates === 0.00017\n"
     ]
    },
    {
     "name": "stderr",
     "output_type": "stream",
     "text": [
      "/opt/conda/lib/python3.7/site-packages/ipykernel_launcher.py:42: RuntimeWarning: invalid value encountered in long_scalars\n"
     ]
    },
    {
     "name": "stdout",
     "output_type": "stream",
     "text": [
      "=== rates === 0.00017999999999999998\n"
     ]
    },
    {
     "name": "stderr",
     "output_type": "stream",
     "text": [
      "/opt/conda/lib/python3.7/site-packages/ipykernel_launcher.py:42: RuntimeWarning: invalid value encountered in long_scalars\n"
     ]
    },
    {
     "name": "stdout",
     "output_type": "stream",
     "text": [
      "=== rates === 0.00019\n"
     ]
    },
    {
     "name": "stderr",
     "output_type": "stream",
     "text": [
      "/opt/conda/lib/python3.7/site-packages/ipykernel_launcher.py:42: RuntimeWarning: invalid value encountered in long_scalars\n"
     ]
    },
    {
     "name": "stdout",
     "output_type": "stream",
     "text": [
      "=== rates === 0.00019999999999999998\n"
     ]
    },
    {
     "name": "stderr",
     "output_type": "stream",
     "text": [
      "/opt/conda/lib/python3.7/site-packages/ipykernel_launcher.py:42: RuntimeWarning: invalid value encountered in long_scalars\n"
     ]
    },
    {
     "name": "stdout",
     "output_type": "stream",
     "text": [
      "=== rates === 0.00021\n"
     ]
    },
    {
     "name": "stderr",
     "output_type": "stream",
     "text": [
      "/opt/conda/lib/python3.7/site-packages/ipykernel_launcher.py:42: RuntimeWarning: invalid value encountered in long_scalars\n"
     ]
    },
    {
     "name": "stdout",
     "output_type": "stream",
     "text": [
      "=== rates === 0.00021999999999999998\n"
     ]
    },
    {
     "name": "stderr",
     "output_type": "stream",
     "text": [
      "/opt/conda/lib/python3.7/site-packages/ipykernel_launcher.py:42: RuntimeWarning: invalid value encountered in long_scalars\n"
     ]
    },
    {
     "name": "stdout",
     "output_type": "stream",
     "text": [
      "=== rates === 0.00023\n",
      "=== best recall === 0.8732394366197183\n",
      "=== rates === 0.00023999999999999998\n",
      "=== rates === 0.00025\n",
      "=== rates === 0.00026\n",
      "=== rates === 0.00027\n",
      "=== rates === 0.00028\n",
      "=== rates === 0.00029\n",
      "=== rates === 0.0003\n",
      "=== rates === 0.00031\n",
      "=== rates === 0.00031999999999999997\n",
      "=== rates === 0.00033\n",
      "=== rates === 0.00033999999999999997\n",
      "=== rates === 0.00035\n",
      "=== rates === 0.00035999999999999997\n",
      "=== rates === 0.00036999999999999994\n",
      "=== rates === 0.00037999999999999997\n",
      "=== rates === 0.00039\n",
      "=== rates === 0.00039999999999999996\n",
      "=== best recall === 0.8829787234042553\n",
      "=== rates === 0.00040999999999999994\n",
      "=== rates === 0.00041999999999999996\n",
      "=== rates === 0.00043\n",
      "=== rates === 0.00043999999999999996\n",
      "=== rates === 0.00044999999999999993\n",
      "=== rates === 0.00045999999999999996\n",
      "=== rates === 0.00047\n",
      "=== rates === 0.00047999999999999996\n",
      "=== rates === 0.00049\n",
      "12/12 [==============================] - 0s 3ms/step - loss: 0.4328 - accuracy: 0.8207\n",
      "Accuracy: 82.0728\n",
      "Model: \"sequential_23\"\n",
      "_________________________________________________________________\n",
      "Layer (type)                 Output Shape              Param #   \n",
      "=================================================================\n",
      "flatten_23 (Flatten)         (None, 26)                0         \n",
      "_________________________________________________________________\n",
      "dense_120 (Dense)            (None, 40)                1080      \n",
      "_________________________________________________________________\n",
      "dense_121 (Dense)            (None, 2)                 82        \n",
      "=================================================================\n",
      "Total params: 1,162\n",
      "Trainable params: 1,162\n",
      "Non-trainable params: 0\n",
      "_________________________________________________________________\n",
      "None\n",
      "=== rates === 0.0001\n",
      "=== best recall === 0.5\n",
      "=== rates === 0.00011\n",
      "=== rates === 0.00012\n",
      "=== best recall === 0.6666666666666666\n",
      "=== rates === 0.00013000000000000002\n",
      "=== best recall === 0.7142857142857143\n",
      "=== rates === 0.00014\n",
      "=== best recall === 0.8\n",
      "=== rates === 0.00015000000000000001\n",
      "=== best recall === 0.8461538461538461\n",
      "=== rates === 0.00015999999999999999\n",
      "=== best recall === 0.8536585365853658\n",
      "=== rates === 0.00017\n",
      "=== best recall === 0.8867924528301887\n",
      "=== rates === 0.00017999999999999998\n",
      "=== rates === 0.00019\n",
      "=== rates === 0.00019999999999999998\n",
      "=== rates === 0.00021\n",
      "=== rates === 0.00021999999999999998\n",
      "=== rates === 0.00023\n",
      "=== rates === 0.00023999999999999998\n",
      "=== rates === 0.00025\n",
      "=== rates === 0.00026\n",
      "=== rates === 0.00027\n",
      "=== rates === 0.00028\n",
      "=== rates === 0.00029\n",
      "=== rates === 0.0003\n",
      "=== rates === 0.00031\n",
      "=== rates === 0.00031999999999999997\n",
      "=== rates === 0.00033\n",
      "=== rates === 0.00033999999999999997\n",
      "=== rates === 0.00035\n",
      "=== rates === 0.00035999999999999997\n",
      "=== rates === 0.00036999999999999994\n",
      "=== rates === 0.00037999999999999997\n",
      "=== rates === 0.00039\n",
      "=== rates === 0.00039999999999999996\n",
      "=== rates === 0.00040999999999999994\n",
      "=== rates === 0.00041999999999999996\n",
      "=== rates === 0.00043\n",
      "=== rates === 0.00043999999999999996\n",
      "=== rates === 0.00044999999999999993\n",
      "=== rates === 0.00045999999999999996\n",
      "=== rates === 0.00047\n",
      "=== rates === 0.00047999999999999996\n",
      "=== rates === 0.00049\n",
      "12/12 [==============================] - 0s 2ms/step - loss: 0.4222 - accuracy: 0.8067\n",
      "Accuracy: 80.6723\n",
      "Model: \"sequential_24\"\n",
      "_________________________________________________________________\n",
      "Layer (type)                 Output Shape              Param #   \n",
      "=================================================================\n",
      "flatten_24 (Flatten)         (None, 26)                0         \n",
      "_________________________________________________________________\n",
      "dense_122 (Dense)            (None, 48)                1296      \n",
      "_________________________________________________________________\n",
      "dense_123 (Dense)            (None, 48)                2352      \n",
      "_________________________________________________________________\n",
      "dense_124 (Dense)            (None, 48)                2352      \n",
      "_________________________________________________________________\n",
      "dense_125 (Dense)            (None, 48)                2352      \n",
      "_________________________________________________________________\n",
      "dense_126 (Dense)            (None, 48)                2352      \n",
      "_________________________________________________________________\n",
      "dense_127 (Dense)            (None, 48)                2352      \n",
      "_________________________________________________________________\n",
      "dense_128 (Dense)            (None, 2)                 98        \n",
      "=================================================================\n",
      "Total params: 13,154\n",
      "Trainable params: 13,154\n",
      "Non-trainable params: 0\n",
      "_________________________________________________________________\n",
      "None\n",
      "=== rates === 0.0001\n"
     ]
    },
    {
     "name": "stderr",
     "output_type": "stream",
     "text": [
      "/opt/conda/lib/python3.7/site-packages/ipykernel_launcher.py:42: RuntimeWarning: invalid value encountered in long_scalars\n"
     ]
    },
    {
     "name": "stdout",
     "output_type": "stream",
     "text": [
      "=== rates === 0.00011\n"
     ]
    },
    {
     "name": "stderr",
     "output_type": "stream",
     "text": [
      "/opt/conda/lib/python3.7/site-packages/ipykernel_launcher.py:42: RuntimeWarning: invalid value encountered in long_scalars\n"
     ]
    },
    {
     "name": "stdout",
     "output_type": "stream",
     "text": [
      "=== rates === 0.00012\n"
     ]
    },
    {
     "name": "stderr",
     "output_type": "stream",
     "text": [
      "/opt/conda/lib/python3.7/site-packages/ipykernel_launcher.py:42: RuntimeWarning: invalid value encountered in long_scalars\n"
     ]
    },
    {
     "name": "stdout",
     "output_type": "stream",
     "text": [
      "=== rates === 0.00013000000000000002\n"
     ]
    },
    {
     "name": "stderr",
     "output_type": "stream",
     "text": [
      "/opt/conda/lib/python3.7/site-packages/ipykernel_launcher.py:42: RuntimeWarning: invalid value encountered in long_scalars\n"
     ]
    },
    {
     "name": "stdout",
     "output_type": "stream",
     "text": [
      "=== rates === 0.00014\n"
     ]
    },
    {
     "name": "stderr",
     "output_type": "stream",
     "text": [
      "/opt/conda/lib/python3.7/site-packages/ipykernel_launcher.py:42: RuntimeWarning: invalid value encountered in long_scalars\n"
     ]
    },
    {
     "name": "stdout",
     "output_type": "stream",
     "text": [
      "=== rates === 0.00015000000000000001\n"
     ]
    },
    {
     "name": "stderr",
     "output_type": "stream",
     "text": [
      "/opt/conda/lib/python3.7/site-packages/ipykernel_launcher.py:42: RuntimeWarning: invalid value encountered in long_scalars\n"
     ]
    },
    {
     "name": "stdout",
     "output_type": "stream",
     "text": [
      "=== rates === 0.00015999999999999999\n"
     ]
    },
    {
     "name": "stderr",
     "output_type": "stream",
     "text": [
      "/opt/conda/lib/python3.7/site-packages/ipykernel_launcher.py:42: RuntimeWarning: invalid value encountered in long_scalars\n"
     ]
    },
    {
     "name": "stdout",
     "output_type": "stream",
     "text": [
      "=== rates === 0.00017\n"
     ]
    },
    {
     "name": "stderr",
     "output_type": "stream",
     "text": [
      "/opt/conda/lib/python3.7/site-packages/ipykernel_launcher.py:42: RuntimeWarning: invalid value encountered in long_scalars\n"
     ]
    },
    {
     "name": "stdout",
     "output_type": "stream",
     "text": [
      "=== rates === 0.00017999999999999998\n"
     ]
    },
    {
     "name": "stderr",
     "output_type": "stream",
     "text": [
      "/opt/conda/lib/python3.7/site-packages/ipykernel_launcher.py:42: RuntimeWarning: invalid value encountered in long_scalars\n"
     ]
    },
    {
     "name": "stdout",
     "output_type": "stream",
     "text": [
      "=== rates === 0.00019\n"
     ]
    },
    {
     "name": "stderr",
     "output_type": "stream",
     "text": [
      "/opt/conda/lib/python3.7/site-packages/ipykernel_launcher.py:42: RuntimeWarning: invalid value encountered in long_scalars\n"
     ]
    },
    {
     "name": "stdout",
     "output_type": "stream",
     "text": [
      "=== rates === 0.00019999999999999998\n"
     ]
    },
    {
     "name": "stderr",
     "output_type": "stream",
     "text": [
      "/opt/conda/lib/python3.7/site-packages/ipykernel_launcher.py:42: RuntimeWarning: invalid value encountered in long_scalars\n"
     ]
    },
    {
     "name": "stdout",
     "output_type": "stream",
     "text": [
      "=== rates === 0.00021\n",
      "=== best recall === 0.794392523364486\n",
      "=== rates === 0.00021999999999999998\n",
      "=== rates === 0.00023\n",
      "=== rates === 0.00023999999999999998\n",
      "=== rates === 0.00025\n",
      "=== rates === 0.00026\n",
      "=== best recall === 0.8055555555555556\n",
      "=== rates === 0.00027\n",
      "=== best recall === 0.8113207547169812\n",
      "=== rates === 0.00028\n",
      "=== best recall === 0.8235294117647058\n",
      "=== rates === 0.00029\n",
      "=== best recall === 0.8484848484848485\n",
      "=== rates === 0.0003\n",
      "=== rates === 0.00031\n",
      "=== best recall === 0.8829787234042553\n",
      "=== rates === 0.00031999999999999997\n",
      "=== best recall === 0.8865979381443299\n",
      "=== rates === 0.00033\n",
      "=== rates === 0.00033999999999999997\n",
      "=== rates === 0.00035\n",
      "=== rates === 0.00035999999999999997\n",
      "=== rates === 0.00036999999999999994\n",
      "=== best recall === 0.8913043478260869\n",
      "=== rates === 0.00037999999999999997\n",
      "=== rates === 0.00039\n",
      "=== rates === 0.00039999999999999996\n",
      "=== rates === 0.00040999999999999994\n",
      "=== rates === 0.00041999999999999996\n",
      "=== rates === 0.00043\n",
      "=== rates === 0.00043999999999999996\n",
      "=== rates === 0.00044999999999999993\n",
      "=== rates === 0.00045999999999999996\n",
      "=== rates === 0.00047\n",
      "=== rates === 0.00047999999999999996\n",
      "=== rates === 0.00049\n",
      "12/12 [==============================] - 0s 3ms/step - loss: 0.4359 - accuracy: 0.8123\n",
      "Accuracy: 81.2325\n",
      "Model: \"sequential_25\"\n",
      "_________________________________________________________________\n",
      "Layer (type)                 Output Shape              Param #   \n",
      "=================================================================\n",
      "flatten_25 (Flatten)         (None, 26)                0         \n",
      "_________________________________________________________________\n",
      "dense_129 (Dense)            (None, 27)                729       \n",
      "_________________________________________________________________\n",
      "dense_130 (Dense)            (None, 27)                756       \n",
      "_________________________________________________________________\n",
      "dense_131 (Dense)            (None, 27)                756       \n",
      "_________________________________________________________________\n",
      "dense_132 (Dense)            (None, 27)                756       \n",
      "_________________________________________________________________\n",
      "dense_133 (Dense)            (None, 27)                756       \n",
      "_________________________________________________________________\n",
      "dense_134 (Dense)            (None, 2)                 56        \n",
      "=================================================================\n",
      "Total params: 3,809\n",
      "Trainable params: 3,809\n",
      "Non-trainable params: 0\n",
      "_________________________________________________________________\n",
      "None\n",
      "=== rates === 0.0001\n",
      "=== best recall === 0.38375350140056025\n",
      "=== rates === 0.00011\n"
     ]
    },
    {
     "name": "stderr",
     "output_type": "stream",
     "text": [
      "/opt/conda/lib/python3.7/site-packages/ipykernel_launcher.py:42: RuntimeWarning: invalid value encountered in long_scalars\n"
     ]
    },
    {
     "name": "stdout",
     "output_type": "stream",
     "text": [
      "=== rates === 0.00012\n"
     ]
    },
    {
     "name": "stderr",
     "output_type": "stream",
     "text": [
      "/opt/conda/lib/python3.7/site-packages/ipykernel_launcher.py:42: RuntimeWarning: invalid value encountered in long_scalars\n"
     ]
    },
    {
     "name": "stdout",
     "output_type": "stream",
     "text": [
      "=== rates === 0.00013000000000000002\n"
     ]
    },
    {
     "name": "stderr",
     "output_type": "stream",
     "text": [
      "/opt/conda/lib/python3.7/site-packages/ipykernel_launcher.py:42: RuntimeWarning: invalid value encountered in long_scalars\n"
     ]
    },
    {
     "name": "stdout",
     "output_type": "stream",
     "text": [
      "=== rates === 0.00014\n"
     ]
    },
    {
     "name": "stderr",
     "output_type": "stream",
     "text": [
      "/opt/conda/lib/python3.7/site-packages/ipykernel_launcher.py:42: RuntimeWarning: invalid value encountered in long_scalars\n"
     ]
    },
    {
     "name": "stdout",
     "output_type": "stream",
     "text": [
      "=== rates === 0.00015000000000000001\n"
     ]
    },
    {
     "name": "stderr",
     "output_type": "stream",
     "text": [
      "/opt/conda/lib/python3.7/site-packages/ipykernel_launcher.py:42: RuntimeWarning: invalid value encountered in long_scalars\n"
     ]
    },
    {
     "name": "stdout",
     "output_type": "stream",
     "text": [
      "=== rates === 0.00015999999999999999\n"
     ]
    },
    {
     "name": "stderr",
     "output_type": "stream",
     "text": [
      "/opt/conda/lib/python3.7/site-packages/ipykernel_launcher.py:42: RuntimeWarning: invalid value encountered in long_scalars\n"
     ]
    },
    {
     "name": "stdout",
     "output_type": "stream",
     "text": [
      "=== rates === 0.00017\n"
     ]
    },
    {
     "name": "stderr",
     "output_type": "stream",
     "text": [
      "/opt/conda/lib/python3.7/site-packages/ipykernel_launcher.py:42: RuntimeWarning: invalid value encountered in long_scalars\n"
     ]
    },
    {
     "name": "stdout",
     "output_type": "stream",
     "text": [
      "=== rates === 0.00017999999999999998\n"
     ]
    },
    {
     "name": "stderr",
     "output_type": "stream",
     "text": [
      "/opt/conda/lib/python3.7/site-packages/ipykernel_launcher.py:42: RuntimeWarning: invalid value encountered in long_scalars\n"
     ]
    },
    {
     "name": "stdout",
     "output_type": "stream",
     "text": [
      "=== rates === 0.00019\n"
     ]
    },
    {
     "name": "stderr",
     "output_type": "stream",
     "text": [
      "/opt/conda/lib/python3.7/site-packages/ipykernel_launcher.py:42: RuntimeWarning: invalid value encountered in long_scalars\n"
     ]
    },
    {
     "name": "stdout",
     "output_type": "stream",
     "text": [
      "=== rates === 0.00019999999999999998\n"
     ]
    },
    {
     "name": "stderr",
     "output_type": "stream",
     "text": [
      "/opt/conda/lib/python3.7/site-packages/ipykernel_launcher.py:42: RuntimeWarning: invalid value encountered in long_scalars\n"
     ]
    },
    {
     "name": "stdout",
     "output_type": "stream",
     "text": [
      "=== rates === 0.00021\n"
     ]
    },
    {
     "name": "stderr",
     "output_type": "stream",
     "text": [
      "/opt/conda/lib/python3.7/site-packages/ipykernel_launcher.py:42: RuntimeWarning: invalid value encountered in long_scalars\n"
     ]
    },
    {
     "name": "stdout",
     "output_type": "stream",
     "text": [
      "=== rates === 0.00021999999999999998\n"
     ]
    },
    {
     "name": "stderr",
     "output_type": "stream",
     "text": [
      "/opt/conda/lib/python3.7/site-packages/ipykernel_launcher.py:42: RuntimeWarning: invalid value encountered in long_scalars\n"
     ]
    },
    {
     "name": "stdout",
     "output_type": "stream",
     "text": [
      "=== rates === 0.00023\n"
     ]
    },
    {
     "name": "stderr",
     "output_type": "stream",
     "text": [
      "/opt/conda/lib/python3.7/site-packages/ipykernel_launcher.py:42: RuntimeWarning: invalid value encountered in long_scalars\n"
     ]
    },
    {
     "name": "stdout",
     "output_type": "stream",
     "text": [
      "=== rates === 0.00023999999999999998\n"
     ]
    },
    {
     "name": "stderr",
     "output_type": "stream",
     "text": [
      "/opt/conda/lib/python3.7/site-packages/ipykernel_launcher.py:42: RuntimeWarning: invalid value encountered in long_scalars\n"
     ]
    },
    {
     "name": "stdout",
     "output_type": "stream",
     "text": [
      "=== rates === 0.00025\n"
     ]
    },
    {
     "name": "stderr",
     "output_type": "stream",
     "text": [
      "/opt/conda/lib/python3.7/site-packages/ipykernel_launcher.py:42: RuntimeWarning: invalid value encountered in long_scalars\n"
     ]
    },
    {
     "name": "stdout",
     "output_type": "stream",
     "text": [
      "=== rates === 0.00026\n",
      "=== best recall === 1.0\n",
      "=== rates === 0.00027\n",
      "=== rates === 0.00028\n",
      "=== rates === 0.00029\n",
      "=== rates === 0.0003\n",
      "=== rates === 0.00031\n",
      "=== rates === 0.00031999999999999997\n",
      "=== rates === 0.00033\n",
      "=== rates === 0.00033999999999999997\n",
      "=== rates === 0.00035\n",
      "=== rates === 0.00035999999999999997\n",
      "=== rates === 0.00036999999999999994\n",
      "=== rates === 0.00037999999999999997\n",
      "=== rates === 0.00039\n",
      "=== rates === 0.00039999999999999996\n",
      "=== rates === 0.00040999999999999994\n",
      "=== rates === 0.00041999999999999996\n",
      "=== rates === 0.00043\n",
      "=== rates === 0.00043999999999999996\n",
      "=== rates === 0.00044999999999999993\n",
      "=== rates === 0.00045999999999999996\n",
      "=== rates === 0.00047\n",
      "=== rates === 0.00047999999999999996\n",
      "=== rates === 0.00049\n",
      "12/12 [==============================] - 0s 3ms/step - loss: 0.4297 - accuracy: 0.8179\n",
      "Accuracy: 81.7927\n",
      "Model: \"sequential_26\"\n",
      "_________________________________________________________________\n",
      "Layer (type)                 Output Shape              Param #   \n",
      "=================================================================\n",
      "flatten_26 (Flatten)         (None, 26)                0         \n",
      "_________________________________________________________________\n",
      "dense_135 (Dense)            (None, 31)                837       \n",
      "_________________________________________________________________\n",
      "dense_136 (Dense)            (None, 31)                992       \n",
      "_________________________________________________________________\n",
      "dense_137 (Dense)            (None, 31)                992       \n",
      "_________________________________________________________________\n",
      "dense_138 (Dense)            (None, 31)                992       \n",
      "_________________________________________________________________\n",
      "dense_139 (Dense)            (None, 2)                 64        \n",
      "=================================================================\n",
      "Total params: 3,877\n",
      "Trainable params: 3,877\n",
      "Non-trainable params: 0\n",
      "_________________________________________________________________\n",
      "None\n",
      "=== rates === 0.0001\n"
     ]
    },
    {
     "name": "stderr",
     "output_type": "stream",
     "text": [
      "/opt/conda/lib/python3.7/site-packages/ipykernel_launcher.py:42: RuntimeWarning: invalid value encountered in long_scalars\n"
     ]
    },
    {
     "name": "stdout",
     "output_type": "stream",
     "text": [
      "=== rates === 0.00011\n"
     ]
    },
    {
     "name": "stderr",
     "output_type": "stream",
     "text": [
      "/opt/conda/lib/python3.7/site-packages/ipykernel_launcher.py:42: RuntimeWarning: invalid value encountered in long_scalars\n"
     ]
    },
    {
     "name": "stdout",
     "output_type": "stream",
     "text": [
      "=== rates === 0.00012\n"
     ]
    },
    {
     "name": "stderr",
     "output_type": "stream",
     "text": [
      "/opt/conda/lib/python3.7/site-packages/ipykernel_launcher.py:42: RuntimeWarning: invalid value encountered in long_scalars\n"
     ]
    },
    {
     "name": "stdout",
     "output_type": "stream",
     "text": [
      "=== rates === 0.00013000000000000002\n"
     ]
    },
    {
     "name": "stderr",
     "output_type": "stream",
     "text": [
      "/opt/conda/lib/python3.7/site-packages/ipykernel_launcher.py:42: RuntimeWarning: invalid value encountered in long_scalars\n"
     ]
    },
    {
     "name": "stdout",
     "output_type": "stream",
     "text": [
      "=== rates === 0.00014\n"
     ]
    },
    {
     "name": "stderr",
     "output_type": "stream",
     "text": [
      "/opt/conda/lib/python3.7/site-packages/ipykernel_launcher.py:42: RuntimeWarning: invalid value encountered in long_scalars\n"
     ]
    },
    {
     "name": "stdout",
     "output_type": "stream",
     "text": [
      "=== rates === 0.00015000000000000001\n"
     ]
    },
    {
     "name": "stderr",
     "output_type": "stream",
     "text": [
      "/opt/conda/lib/python3.7/site-packages/ipykernel_launcher.py:42: RuntimeWarning: invalid value encountered in long_scalars\n"
     ]
    },
    {
     "name": "stdout",
     "output_type": "stream",
     "text": [
      "=== rates === 0.00015999999999999999\n"
     ]
    },
    {
     "name": "stderr",
     "output_type": "stream",
     "text": [
      "/opt/conda/lib/python3.7/site-packages/ipykernel_launcher.py:42: RuntimeWarning: invalid value encountered in long_scalars\n"
     ]
    },
    {
     "name": "stdout",
     "output_type": "stream",
     "text": [
      "=== rates === 0.00017\n"
     ]
    },
    {
     "name": "stderr",
     "output_type": "stream",
     "text": [
      "/opt/conda/lib/python3.7/site-packages/ipykernel_launcher.py:42: RuntimeWarning: invalid value encountered in long_scalars\n"
     ]
    },
    {
     "name": "stdout",
     "output_type": "stream",
     "text": [
      "=== rates === 0.00017999999999999998\n"
     ]
    },
    {
     "name": "stderr",
     "output_type": "stream",
     "text": [
      "/opt/conda/lib/python3.7/site-packages/ipykernel_launcher.py:42: RuntimeWarning: invalid value encountered in long_scalars\n"
     ]
    },
    {
     "name": "stdout",
     "output_type": "stream",
     "text": [
      "=== rates === 0.00019\n"
     ]
    },
    {
     "name": "stderr",
     "output_type": "stream",
     "text": [
      "/opt/conda/lib/python3.7/site-packages/ipykernel_launcher.py:42: RuntimeWarning: invalid value encountered in long_scalars\n"
     ]
    },
    {
     "name": "stdout",
     "output_type": "stream",
     "text": [
      "=== rates === 0.00019999999999999998\n"
     ]
    },
    {
     "name": "stderr",
     "output_type": "stream",
     "text": [
      "/opt/conda/lib/python3.7/site-packages/ipykernel_launcher.py:42: RuntimeWarning: invalid value encountered in long_scalars\n"
     ]
    },
    {
     "name": "stdout",
     "output_type": "stream",
     "text": [
      "=== rates === 0.00021\n",
      "=== best recall === 0.9166666666666666\n",
      "=== rates === 0.00021999999999999998\n",
      "=== rates === 0.00023\n",
      "=== rates === 0.00023999999999999998\n",
      "=== rates === 0.00025\n",
      "=== rates === 0.00026\n",
      "=== rates === 0.00027\n",
      "=== rates === 0.00028\n",
      "=== rates === 0.00029\n",
      "=== rates === 0.0003\n",
      "=== rates === 0.00031\n",
      "=== rates === 0.00031999999999999997\n",
      "=== rates === 0.00033\n",
      "=== rates === 0.00033999999999999997\n",
      "=== rates === 0.00035\n",
      "=== rates === 0.00035999999999999997\n",
      "=== rates === 0.00036999999999999994\n",
      "=== rates === 0.00037999999999999997\n",
      "=== rates === 0.00039\n",
      "=== rates === 0.00039999999999999996\n",
      "=== rates === 0.00040999999999999994\n",
      "=== rates === 0.00041999999999999996\n",
      "=== rates === 0.00043\n",
      "=== rates === 0.00043999999999999996\n",
      "=== rates === 0.00044999999999999993\n",
      "=== rates === 0.00045999999999999996\n",
      "=== rates === 0.00047\n",
      "=== rates === 0.00047999999999999996\n",
      "=== rates === 0.00049\n",
      "12/12 [==============================] - 0s 3ms/step - loss: 0.4337 - accuracy: 0.8151\n",
      "Accuracy: 81.5126\n",
      "Model: \"sequential_27\"\n",
      "_________________________________________________________________\n",
      "Layer (type)                 Output Shape              Param #   \n",
      "=================================================================\n",
      "flatten_27 (Flatten)         (None, 26)                0         \n",
      "_________________________________________________________________\n",
      "dense_140 (Dense)            (None, 40)                1080      \n",
      "_________________________________________________________________\n",
      "dense_141 (Dense)            (None, 40)                1640      \n",
      "_________________________________________________________________\n",
      "dense_142 (Dense)            (None, 40)                1640      \n",
      "_________________________________________________________________\n",
      "dense_143 (Dense)            (None, 40)                1640      \n",
      "_________________________________________________________________\n",
      "dense_144 (Dense)            (None, 40)                1640      \n",
      "_________________________________________________________________\n",
      "dense_145 (Dense)            (None, 2)                 82        \n",
      "=================================================================\n",
      "Total params: 7,722\n",
      "Trainable params: 7,722\n",
      "Non-trainable params: 0\n",
      "_________________________________________________________________\n",
      "None\n",
      "=== rates === 0.0001\n"
     ]
    },
    {
     "name": "stderr",
     "output_type": "stream",
     "text": [
      "/opt/conda/lib/python3.7/site-packages/ipykernel_launcher.py:42: RuntimeWarning: invalid value encountered in long_scalars\n"
     ]
    },
    {
     "name": "stdout",
     "output_type": "stream",
     "text": [
      "=== rates === 0.00011\n"
     ]
    },
    {
     "name": "stderr",
     "output_type": "stream",
     "text": [
      "/opt/conda/lib/python3.7/site-packages/ipykernel_launcher.py:42: RuntimeWarning: invalid value encountered in long_scalars\n"
     ]
    },
    {
     "name": "stdout",
     "output_type": "stream",
     "text": [
      "=== rates === 0.00012\n"
     ]
    },
    {
     "name": "stderr",
     "output_type": "stream",
     "text": [
      "/opt/conda/lib/python3.7/site-packages/ipykernel_launcher.py:42: RuntimeWarning: invalid value encountered in long_scalars\n"
     ]
    },
    {
     "name": "stdout",
     "output_type": "stream",
     "text": [
      "=== rates === 0.00013000000000000002\n"
     ]
    },
    {
     "name": "stderr",
     "output_type": "stream",
     "text": [
      "/opt/conda/lib/python3.7/site-packages/ipykernel_launcher.py:42: RuntimeWarning: invalid value encountered in long_scalars\n"
     ]
    },
    {
     "name": "stdout",
     "output_type": "stream",
     "text": [
      "=== rates === 0.00014\n"
     ]
    },
    {
     "name": "stderr",
     "output_type": "stream",
     "text": [
      "/opt/conda/lib/python3.7/site-packages/ipykernel_launcher.py:42: RuntimeWarning: invalid value encountered in long_scalars\n"
     ]
    },
    {
     "name": "stdout",
     "output_type": "stream",
     "text": [
      "=== rates === 0.00015000000000000001\n"
     ]
    },
    {
     "name": "stderr",
     "output_type": "stream",
     "text": [
      "/opt/conda/lib/python3.7/site-packages/ipykernel_launcher.py:42: RuntimeWarning: invalid value encountered in long_scalars\n"
     ]
    },
    {
     "name": "stdout",
     "output_type": "stream",
     "text": [
      "=== rates === 0.00015999999999999999\n"
     ]
    },
    {
     "name": "stderr",
     "output_type": "stream",
     "text": [
      "/opt/conda/lib/python3.7/site-packages/ipykernel_launcher.py:42: RuntimeWarning: invalid value encountered in long_scalars\n"
     ]
    },
    {
     "name": "stdout",
     "output_type": "stream",
     "text": [
      "=== rates === 0.00017\n"
     ]
    },
    {
     "name": "stderr",
     "output_type": "stream",
     "text": [
      "/opt/conda/lib/python3.7/site-packages/ipykernel_launcher.py:42: RuntimeWarning: invalid value encountered in long_scalars\n"
     ]
    },
    {
     "name": "stdout",
     "output_type": "stream",
     "text": [
      "=== rates === 0.00017999999999999998\n"
     ]
    },
    {
     "name": "stderr",
     "output_type": "stream",
     "text": [
      "/opt/conda/lib/python3.7/site-packages/ipykernel_launcher.py:42: RuntimeWarning: invalid value encountered in long_scalars\n"
     ]
    },
    {
     "name": "stdout",
     "output_type": "stream",
     "text": [
      "=== rates === 0.00019\n"
     ]
    },
    {
     "name": "stderr",
     "output_type": "stream",
     "text": [
      "/opt/conda/lib/python3.7/site-packages/ipykernel_launcher.py:42: RuntimeWarning: invalid value encountered in long_scalars\n"
     ]
    },
    {
     "name": "stdout",
     "output_type": "stream",
     "text": [
      "=== rates === 0.00019999999999999998\n",
      "=== best recall === 1.0\n",
      "=== rates === 0.00021\n",
      "=== rates === 0.00021999999999999998\n",
      "=== rates === 0.00023\n",
      "=== rates === 0.00023999999999999998\n",
      "=== rates === 0.00025\n",
      "=== rates === 0.00026\n",
      "=== rates === 0.00027\n",
      "=== rates === 0.00028\n",
      "=== rates === 0.00029\n",
      "=== rates === 0.0003\n",
      "=== rates === 0.00031\n",
      "=== rates === 0.00031999999999999997\n",
      "=== rates === 0.00033\n",
      "=== rates === 0.00033999999999999997\n",
      "=== rates === 0.00035\n",
      "=== rates === 0.00035999999999999997\n",
      "=== rates === 0.00036999999999999994\n",
      "=== rates === 0.00037999999999999997\n",
      "=== rates === 0.00039\n",
      "=== rates === 0.00039999999999999996\n",
      "=== rates === 0.00040999999999999994\n",
      "=== rates === 0.00041999999999999996\n",
      "=== rates === 0.00043\n",
      "=== rates === 0.00043999999999999996\n",
      "=== rates === 0.00044999999999999993\n",
      "=== rates === 0.00045999999999999996\n",
      "=== rates === 0.00047\n",
      "=== rates === 0.00047999999999999996\n",
      "=== rates === 0.00049\n",
      "12/12 [==============================] - 0s 3ms/step - loss: 0.4366 - accuracy: 0.8151\n",
      "Accuracy: 81.5126\n",
      "Model: \"sequential_28\"\n",
      "_________________________________________________________________\n",
      "Layer (type)                 Output Shape              Param #   \n",
      "=================================================================\n",
      "flatten_28 (Flatten)         (None, 26)                0         \n",
      "_________________________________________________________________\n",
      "dense_146 (Dense)            (None, 44)                1188      \n",
      "_________________________________________________________________\n",
      "dense_147 (Dense)            (None, 44)                1980      \n",
      "_________________________________________________________________\n",
      "dense_148 (Dense)            (None, 44)                1980      \n",
      "_________________________________________________________________\n",
      "dense_149 (Dense)            (None, 44)                1980      \n",
      "_________________________________________________________________\n",
      "dense_150 (Dense)            (None, 44)                1980      \n",
      "_________________________________________________________________\n",
      "dense_151 (Dense)            (None, 2)                 90        \n",
      "=================================================================\n",
      "Total params: 9,198\n",
      "Trainable params: 9,198\n",
      "Non-trainable params: 0\n",
      "_________________________________________________________________\n",
      "None\n",
      "=== rates === 0.0001\n"
     ]
    },
    {
     "name": "stderr",
     "output_type": "stream",
     "text": [
      "/opt/conda/lib/python3.7/site-packages/ipykernel_launcher.py:42: RuntimeWarning: invalid value encountered in long_scalars\n"
     ]
    },
    {
     "name": "stdout",
     "output_type": "stream",
     "text": [
      "=== rates === 0.00011\n"
     ]
    },
    {
     "name": "stderr",
     "output_type": "stream",
     "text": [
      "/opt/conda/lib/python3.7/site-packages/ipykernel_launcher.py:42: RuntimeWarning: invalid value encountered in long_scalars\n"
     ]
    },
    {
     "name": "stdout",
     "output_type": "stream",
     "text": [
      "=== rates === 0.00012\n"
     ]
    },
    {
     "name": "stderr",
     "output_type": "stream",
     "text": [
      "/opt/conda/lib/python3.7/site-packages/ipykernel_launcher.py:42: RuntimeWarning: invalid value encountered in long_scalars\n"
     ]
    },
    {
     "name": "stdout",
     "output_type": "stream",
     "text": [
      "=== rates === 0.00013000000000000002\n"
     ]
    },
    {
     "name": "stderr",
     "output_type": "stream",
     "text": [
      "/opt/conda/lib/python3.7/site-packages/ipykernel_launcher.py:42: RuntimeWarning: invalid value encountered in long_scalars\n"
     ]
    },
    {
     "name": "stdout",
     "output_type": "stream",
     "text": [
      "=== rates === 0.00014\n"
     ]
    },
    {
     "name": "stderr",
     "output_type": "stream",
     "text": [
      "/opt/conda/lib/python3.7/site-packages/ipykernel_launcher.py:42: RuntimeWarning: invalid value encountered in long_scalars\n"
     ]
    },
    {
     "name": "stdout",
     "output_type": "stream",
     "text": [
      "=== rates === 0.00015000000000000001\n"
     ]
    },
    {
     "name": "stderr",
     "output_type": "stream",
     "text": [
      "/opt/conda/lib/python3.7/site-packages/ipykernel_launcher.py:42: RuntimeWarning: invalid value encountered in long_scalars\n"
     ]
    },
    {
     "name": "stdout",
     "output_type": "stream",
     "text": [
      "=== rates === 0.00015999999999999999\n"
     ]
    },
    {
     "name": "stderr",
     "output_type": "stream",
     "text": [
      "/opt/conda/lib/python3.7/site-packages/ipykernel_launcher.py:42: RuntimeWarning: invalid value encountered in long_scalars\n"
     ]
    },
    {
     "name": "stdout",
     "output_type": "stream",
     "text": [
      "=== rates === 0.00017\n"
     ]
    },
    {
     "name": "stderr",
     "output_type": "stream",
     "text": [
      "/opt/conda/lib/python3.7/site-packages/ipykernel_launcher.py:42: RuntimeWarning: invalid value encountered in long_scalars\n"
     ]
    },
    {
     "name": "stdout",
     "output_type": "stream",
     "text": [
      "=== rates === 0.00017999999999999998\n"
     ]
    },
    {
     "name": "stderr",
     "output_type": "stream",
     "text": [
      "/opt/conda/lib/python3.7/site-packages/ipykernel_launcher.py:42: RuntimeWarning: invalid value encountered in long_scalars\n"
     ]
    },
    {
     "name": "stdout",
     "output_type": "stream",
     "text": [
      "=== rates === 0.00019\n"
     ]
    },
    {
     "name": "stderr",
     "output_type": "stream",
     "text": [
      "/opt/conda/lib/python3.7/site-packages/ipykernel_launcher.py:42: RuntimeWarning: invalid value encountered in long_scalars\n"
     ]
    },
    {
     "name": "stdout",
     "output_type": "stream",
     "text": [
      "=== rates === 0.00019999999999999998\n",
      "=== best recall === 0.9285714285714286\n",
      "=== rates === 0.00021\n",
      "=== rates === 0.00021999999999999998\n",
      "=== rates === 0.00023\n",
      "=== rates === 0.00023999999999999998\n",
      "=== rates === 0.00025\n",
      "=== rates === 0.00026\n",
      "=== rates === 0.00027\n",
      "=== rates === 0.00028\n",
      "=== rates === 0.00029\n",
      "=== rates === 0.0003\n",
      "=== rates === 0.00031\n",
      "=== rates === 0.00031999999999999997\n",
      "=== rates === 0.00033\n",
      "=== rates === 0.00033999999999999997\n",
      "=== rates === 0.00035\n",
      "=== rates === 0.00035999999999999997\n",
      "=== rates === 0.00036999999999999994\n",
      "=== rates === 0.00037999999999999997\n",
      "=== rates === 0.00039\n",
      "=== rates === 0.00039999999999999996\n",
      "=== rates === 0.00040999999999999994\n",
      "=== rates === 0.00041999999999999996\n",
      "=== rates === 0.00043\n",
      "=== rates === 0.00043999999999999996\n",
      "=== rates === 0.00044999999999999993\n",
      "=== rates === 0.00045999999999999996\n",
      "=== rates === 0.00047\n",
      "=== rates === 0.00047999999999999996\n",
      "=== rates === 0.00049\n",
      "12/12 [==============================] - 0s 3ms/step - loss: 0.4347 - accuracy: 0.8151\n",
      "Accuracy: 81.5126\n",
      "Model: \"sequential_29\"\n",
      "_________________________________________________________________\n",
      "Layer (type)                 Output Shape              Param #   \n",
      "=================================================================\n",
      "flatten_29 (Flatten)         (None, 26)                0         \n",
      "_________________________________________________________________\n",
      "dense_152 (Dense)            (None, 27)                729       \n",
      "_________________________________________________________________\n",
      "dense_153 (Dense)            (None, 27)                756       \n",
      "_________________________________________________________________\n",
      "dense_154 (Dense)            (None, 27)                756       \n",
      "_________________________________________________________________\n",
      "dense_155 (Dense)            (None, 27)                756       \n",
      "_________________________________________________________________\n",
      "dense_156 (Dense)            (None, 27)                756       \n",
      "_________________________________________________________________\n",
      "dense_157 (Dense)            (None, 27)                756       \n",
      "_________________________________________________________________\n",
      "dense_158 (Dense)            (None, 2)                 56        \n",
      "=================================================================\n",
      "Total params: 4,565\n",
      "Trainable params: 4,565\n",
      "Non-trainable params: 0\n",
      "_________________________________________________________________\n",
      "None\n",
      "=== rates === 0.0001\n"
     ]
    },
    {
     "name": "stderr",
     "output_type": "stream",
     "text": [
      "/opt/conda/lib/python3.7/site-packages/ipykernel_launcher.py:42: RuntimeWarning: invalid value encountered in long_scalars\n"
     ]
    },
    {
     "name": "stdout",
     "output_type": "stream",
     "text": [
      "=== rates === 0.00011\n"
     ]
    },
    {
     "name": "stderr",
     "output_type": "stream",
     "text": [
      "/opt/conda/lib/python3.7/site-packages/ipykernel_launcher.py:42: RuntimeWarning: invalid value encountered in long_scalars\n"
     ]
    },
    {
     "name": "stdout",
     "output_type": "stream",
     "text": [
      "=== rates === 0.00012\n"
     ]
    },
    {
     "name": "stderr",
     "output_type": "stream",
     "text": [
      "/opt/conda/lib/python3.7/site-packages/ipykernel_launcher.py:42: RuntimeWarning: invalid value encountered in long_scalars\n"
     ]
    },
    {
     "name": "stdout",
     "output_type": "stream",
     "text": [
      "=== rates === 0.00013000000000000002\n"
     ]
    },
    {
     "name": "stderr",
     "output_type": "stream",
     "text": [
      "/opt/conda/lib/python3.7/site-packages/ipykernel_launcher.py:42: RuntimeWarning: invalid value encountered in long_scalars\n"
     ]
    },
    {
     "name": "stdout",
     "output_type": "stream",
     "text": [
      "=== rates === 0.00014\n"
     ]
    },
    {
     "name": "stderr",
     "output_type": "stream",
     "text": [
      "/opt/conda/lib/python3.7/site-packages/ipykernel_launcher.py:42: RuntimeWarning: invalid value encountered in long_scalars\n"
     ]
    },
    {
     "name": "stdout",
     "output_type": "stream",
     "text": [
      "=== rates === 0.00015000000000000001\n"
     ]
    },
    {
     "name": "stderr",
     "output_type": "stream",
     "text": [
      "/opt/conda/lib/python3.7/site-packages/ipykernel_launcher.py:42: RuntimeWarning: invalid value encountered in long_scalars\n"
     ]
    },
    {
     "name": "stdout",
     "output_type": "stream",
     "text": [
      "=== rates === 0.00015999999999999999\n"
     ]
    },
    {
     "name": "stderr",
     "output_type": "stream",
     "text": [
      "/opt/conda/lib/python3.7/site-packages/ipykernel_launcher.py:42: RuntimeWarning: invalid value encountered in long_scalars\n"
     ]
    },
    {
     "name": "stdout",
     "output_type": "stream",
     "text": [
      "=== rates === 0.00017\n"
     ]
    },
    {
     "name": "stderr",
     "output_type": "stream",
     "text": [
      "/opt/conda/lib/python3.7/site-packages/ipykernel_launcher.py:42: RuntimeWarning: invalid value encountered in long_scalars\n"
     ]
    },
    {
     "name": "stdout",
     "output_type": "stream",
     "text": [
      "=== rates === 0.00017999999999999998\n"
     ]
    },
    {
     "name": "stderr",
     "output_type": "stream",
     "text": [
      "/opt/conda/lib/python3.7/site-packages/ipykernel_launcher.py:42: RuntimeWarning: invalid value encountered in long_scalars\n"
     ]
    },
    {
     "name": "stdout",
     "output_type": "stream",
     "text": [
      "=== rates === 0.00019\n"
     ]
    },
    {
     "name": "stderr",
     "output_type": "stream",
     "text": [
      "/opt/conda/lib/python3.7/site-packages/ipykernel_launcher.py:42: RuntimeWarning: invalid value encountered in long_scalars\n"
     ]
    },
    {
     "name": "stdout",
     "output_type": "stream",
     "text": [
      "=== rates === 0.00019999999999999998\n"
     ]
    },
    {
     "name": "stderr",
     "output_type": "stream",
     "text": [
      "/opt/conda/lib/python3.7/site-packages/ipykernel_launcher.py:42: RuntimeWarning: invalid value encountered in long_scalars\n"
     ]
    },
    {
     "name": "stdout",
     "output_type": "stream",
     "text": [
      "=== rates === 0.00021\n"
     ]
    },
    {
     "name": "stderr",
     "output_type": "stream",
     "text": [
      "/opt/conda/lib/python3.7/site-packages/ipykernel_launcher.py:42: RuntimeWarning: invalid value encountered in long_scalars\n"
     ]
    },
    {
     "name": "stdout",
     "output_type": "stream",
     "text": [
      "=== rates === 0.00021999999999999998\n"
     ]
    },
    {
     "name": "stderr",
     "output_type": "stream",
     "text": [
      "/opt/conda/lib/python3.7/site-packages/ipykernel_launcher.py:42: RuntimeWarning: invalid value encountered in long_scalars\n"
     ]
    },
    {
     "name": "stdout",
     "output_type": "stream",
     "text": [
      "=== rates === 0.00023\n"
     ]
    },
    {
     "name": "stderr",
     "output_type": "stream",
     "text": [
      "/opt/conda/lib/python3.7/site-packages/ipykernel_launcher.py:42: RuntimeWarning: invalid value encountered in long_scalars\n"
     ]
    },
    {
     "name": "stdout",
     "output_type": "stream",
     "text": [
      "=== rates === 0.00023999999999999998\n"
     ]
    },
    {
     "name": "stderr",
     "output_type": "stream",
     "text": [
      "/opt/conda/lib/python3.7/site-packages/ipykernel_launcher.py:42: RuntimeWarning: invalid value encountered in long_scalars\n"
     ]
    },
    {
     "name": "stdout",
     "output_type": "stream",
     "text": [
      "=== rates === 0.00025\n"
     ]
    },
    {
     "name": "stderr",
     "output_type": "stream",
     "text": [
      "/opt/conda/lib/python3.7/site-packages/ipykernel_launcher.py:42: RuntimeWarning: invalid value encountered in long_scalars\n"
     ]
    },
    {
     "name": "stdout",
     "output_type": "stream",
     "text": [
      "=== rates === 0.00026\n",
      "=== best recall === 0.8947368421052632\n",
      "=== rates === 0.00027\n",
      "=== rates === 0.00028\n",
      "=== rates === 0.00029\n",
      "=== rates === 0.0003\n",
      "=== rates === 0.00031\n",
      "=== rates === 0.00031999999999999997\n",
      "=== rates === 0.00033\n",
      "=== rates === 0.00033999999999999997\n",
      "=== rates === 0.00035\n",
      "=== rates === 0.00035999999999999997\n",
      "=== rates === 0.00036999999999999994\n",
      "=== rates === 0.00037999999999999997\n",
      "=== rates === 0.00039\n",
      "=== rates === 0.00039999999999999996\n",
      "=== rates === 0.00040999999999999994\n",
      "=== rates === 0.00041999999999999996\n",
      "=== rates === 0.00043\n",
      "=== rates === 0.00043999999999999996\n",
      "=== rates === 0.00044999999999999993\n",
      "=== rates === 0.00045999999999999996\n",
      "=== rates === 0.00047\n",
      "=== rates === 0.00047999999999999996\n",
      "=== rates === 0.00049\n",
      "12/12 [==============================] - 0s 3ms/step - loss: 0.4367 - accuracy: 0.8123\n",
      "Accuracy: 81.2325\n",
      "Model: \"sequential_30\"\n",
      "_________________________________________________________________\n",
      "Layer (type)                 Output Shape              Param #   \n",
      "=================================================================\n",
      "flatten_30 (Flatten)         (None, 26)                0         \n",
      "_________________________________________________________________\n",
      "dense_159 (Dense)            (None, 25)                675       \n",
      "_________________________________________________________________\n",
      "dense_160 (Dense)            (None, 25)                650       \n",
      "_________________________________________________________________\n",
      "dense_161 (Dense)            (None, 25)                650       \n",
      "_________________________________________________________________\n",
      "dense_162 (Dense)            (None, 2)                 52        \n",
      "=================================================================\n",
      "Total params: 2,027\n",
      "Trainable params: 2,027\n",
      "Non-trainable params: 0\n",
      "_________________________________________________________________\n",
      "None\n",
      "=== rates === 0.0001\n"
     ]
    },
    {
     "name": "stderr",
     "output_type": "stream",
     "text": [
      "/opt/conda/lib/python3.7/site-packages/ipykernel_launcher.py:42: RuntimeWarning: invalid value encountered in long_scalars\n"
     ]
    },
    {
     "name": "stdout",
     "output_type": "stream",
     "text": [
      "=== rates === 0.00011\n"
     ]
    },
    {
     "name": "stderr",
     "output_type": "stream",
     "text": [
      "/opt/conda/lib/python3.7/site-packages/ipykernel_launcher.py:42: RuntimeWarning: invalid value encountered in long_scalars\n"
     ]
    },
    {
     "name": "stdout",
     "output_type": "stream",
     "text": [
      "=== rates === 0.00012\n"
     ]
    },
    {
     "name": "stderr",
     "output_type": "stream",
     "text": [
      "/opt/conda/lib/python3.7/site-packages/ipykernel_launcher.py:42: RuntimeWarning: invalid value encountered in long_scalars\n"
     ]
    },
    {
     "name": "stdout",
     "output_type": "stream",
     "text": [
      "=== rates === 0.00013000000000000002\n"
     ]
    },
    {
     "name": "stderr",
     "output_type": "stream",
     "text": [
      "/opt/conda/lib/python3.7/site-packages/ipykernel_launcher.py:42: RuntimeWarning: invalid value encountered in long_scalars\n"
     ]
    },
    {
     "name": "stdout",
     "output_type": "stream",
     "text": [
      "=== rates === 0.00014\n"
     ]
    },
    {
     "name": "stderr",
     "output_type": "stream",
     "text": [
      "/opt/conda/lib/python3.7/site-packages/ipykernel_launcher.py:42: RuntimeWarning: invalid value encountered in long_scalars\n"
     ]
    },
    {
     "name": "stdout",
     "output_type": "stream",
     "text": [
      "=== rates === 0.00015000000000000001\n"
     ]
    },
    {
     "name": "stderr",
     "output_type": "stream",
     "text": [
      "/opt/conda/lib/python3.7/site-packages/ipykernel_launcher.py:42: RuntimeWarning: invalid value encountered in long_scalars\n"
     ]
    },
    {
     "name": "stdout",
     "output_type": "stream",
     "text": [
      "=== rates === 0.00015999999999999999\n"
     ]
    },
    {
     "name": "stderr",
     "output_type": "stream",
     "text": [
      "/opt/conda/lib/python3.7/site-packages/ipykernel_launcher.py:42: RuntimeWarning: invalid value encountered in long_scalars\n"
     ]
    },
    {
     "name": "stdout",
     "output_type": "stream",
     "text": [
      "=== rates === 0.00017\n"
     ]
    },
    {
     "name": "stderr",
     "output_type": "stream",
     "text": [
      "/opt/conda/lib/python3.7/site-packages/ipykernel_launcher.py:42: RuntimeWarning: invalid value encountered in long_scalars\n"
     ]
    },
    {
     "name": "stdout",
     "output_type": "stream",
     "text": [
      "=== rates === 0.00017999999999999998\n"
     ]
    },
    {
     "name": "stderr",
     "output_type": "stream",
     "text": [
      "/opt/conda/lib/python3.7/site-packages/ipykernel_launcher.py:42: RuntimeWarning: invalid value encountered in long_scalars\n"
     ]
    },
    {
     "name": "stdout",
     "output_type": "stream",
     "text": [
      "=== rates === 0.00019\n"
     ]
    },
    {
     "name": "stderr",
     "output_type": "stream",
     "text": [
      "/opt/conda/lib/python3.7/site-packages/ipykernel_launcher.py:42: RuntimeWarning: invalid value encountered in long_scalars\n"
     ]
    },
    {
     "name": "stdout",
     "output_type": "stream",
     "text": [
      "=== rates === 0.00019999999999999998\n",
      "=== best recall === 1.0\n",
      "=== rates === 0.00021\n",
      "=== rates === 0.00021999999999999998\n",
      "=== rates === 0.00023\n",
      "=== rates === 0.00023999999999999998\n",
      "=== rates === 0.00025\n",
      "=== rates === 0.00026\n",
      "=== rates === 0.00027\n",
      "=== rates === 0.00028\n",
      "=== rates === 0.00029\n",
      "=== rates === 0.0003\n",
      "=== rates === 0.00031\n",
      "=== rates === 0.00031999999999999997\n",
      "=== rates === 0.00033\n",
      "=== rates === 0.00033999999999999997\n",
      "=== rates === 0.00035\n",
      "=== rates === 0.00035999999999999997\n",
      "=== rates === 0.00036999999999999994\n",
      "=== rates === 0.00037999999999999997\n",
      "=== rates === 0.00039\n",
      "=== rates === 0.00039999999999999996\n",
      "=== rates === 0.00040999999999999994\n",
      "=== rates === 0.00041999999999999996\n",
      "=== rates === 0.00043\n",
      "=== rates === 0.00043999999999999996\n",
      "=== rates === 0.00044999999999999993\n",
      "=== rates === 0.00045999999999999996\n",
      "=== rates === 0.00047\n",
      "=== rates === 0.00047999999999999996\n",
      "=== rates === 0.00049\n",
      "12/12 [==============================] - 0s 3ms/step - loss: 0.4302 - accuracy: 0.8123\n",
      "Accuracy: 81.2325\n",
      "Model: \"sequential_31\"\n",
      "_________________________________________________________________\n",
      "Layer (type)                 Output Shape              Param #   \n",
      "=================================================================\n",
      "flatten_31 (Flatten)         (None, 26)                0         \n",
      "_________________________________________________________________\n",
      "dense_163 (Dense)            (None, 30)                810       \n",
      "_________________________________________________________________\n",
      "dense_164 (Dense)            (None, 30)                930       \n",
      "_________________________________________________________________\n",
      "dense_165 (Dense)            (None, 30)                930       \n",
      "_________________________________________________________________\n",
      "dense_166 (Dense)            (None, 30)                930       \n",
      "_________________________________________________________________\n",
      "dense_167 (Dense)            (None, 30)                930       \n",
      "_________________________________________________________________\n",
      "dense_168 (Dense)            (None, 2)                 62        \n",
      "=================================================================\n",
      "Total params: 4,592\n",
      "Trainable params: 4,592\n",
      "Non-trainable params: 0\n",
      "_________________________________________________________________\n",
      "None\n",
      "=== rates === 0.0001\n",
      "=== best recall === 0.38375350140056025\n",
      "=== rates === 0.00011\n"
     ]
    },
    {
     "name": "stderr",
     "output_type": "stream",
     "text": [
      "/opt/conda/lib/python3.7/site-packages/ipykernel_launcher.py:42: RuntimeWarning: invalid value encountered in long_scalars\n"
     ]
    },
    {
     "name": "stdout",
     "output_type": "stream",
     "text": [
      "=== rates === 0.00012\n"
     ]
    },
    {
     "name": "stderr",
     "output_type": "stream",
     "text": [
      "/opt/conda/lib/python3.7/site-packages/ipykernel_launcher.py:42: RuntimeWarning: invalid value encountered in long_scalars\n"
     ]
    },
    {
     "name": "stdout",
     "output_type": "stream",
     "text": [
      "=== rates === 0.00013000000000000002\n"
     ]
    },
    {
     "name": "stderr",
     "output_type": "stream",
     "text": [
      "/opt/conda/lib/python3.7/site-packages/ipykernel_launcher.py:42: RuntimeWarning: invalid value encountered in long_scalars\n"
     ]
    },
    {
     "name": "stdout",
     "output_type": "stream",
     "text": [
      "=== rates === 0.00014\n"
     ]
    },
    {
     "name": "stderr",
     "output_type": "stream",
     "text": [
      "/opt/conda/lib/python3.7/site-packages/ipykernel_launcher.py:42: RuntimeWarning: invalid value encountered in long_scalars\n"
     ]
    },
    {
     "name": "stdout",
     "output_type": "stream",
     "text": [
      "=== rates === 0.00015000000000000001\n"
     ]
    },
    {
     "name": "stderr",
     "output_type": "stream",
     "text": [
      "/opt/conda/lib/python3.7/site-packages/ipykernel_launcher.py:42: RuntimeWarning: invalid value encountered in long_scalars\n"
     ]
    },
    {
     "name": "stdout",
     "output_type": "stream",
     "text": [
      "=== rates === 0.00015999999999999999\n"
     ]
    },
    {
     "name": "stderr",
     "output_type": "stream",
     "text": [
      "/opt/conda/lib/python3.7/site-packages/ipykernel_launcher.py:42: RuntimeWarning: invalid value encountered in long_scalars\n"
     ]
    },
    {
     "name": "stdout",
     "output_type": "stream",
     "text": [
      "=== rates === 0.00017\n"
     ]
    },
    {
     "name": "stderr",
     "output_type": "stream",
     "text": [
      "/opt/conda/lib/python3.7/site-packages/ipykernel_launcher.py:42: RuntimeWarning: invalid value encountered in long_scalars\n"
     ]
    },
    {
     "name": "stdout",
     "output_type": "stream",
     "text": [
      "=== rates === 0.00017999999999999998\n"
     ]
    },
    {
     "name": "stderr",
     "output_type": "stream",
     "text": [
      "/opt/conda/lib/python3.7/site-packages/ipykernel_launcher.py:42: RuntimeWarning: invalid value encountered in long_scalars\n"
     ]
    },
    {
     "name": "stdout",
     "output_type": "stream",
     "text": [
      "=== rates === 0.00019\n"
     ]
    },
    {
     "name": "stderr",
     "output_type": "stream",
     "text": [
      "/opt/conda/lib/python3.7/site-packages/ipykernel_launcher.py:42: RuntimeWarning: invalid value encountered in long_scalars\n"
     ]
    },
    {
     "name": "stdout",
     "output_type": "stream",
     "text": [
      "=== rates === 0.00019999999999999998\n"
     ]
    },
    {
     "name": "stderr",
     "output_type": "stream",
     "text": [
      "/opt/conda/lib/python3.7/site-packages/ipykernel_launcher.py:42: RuntimeWarning: invalid value encountered in long_scalars\n"
     ]
    },
    {
     "name": "stdout",
     "output_type": "stream",
     "text": [
      "=== rates === 0.00021\n"
     ]
    },
    {
     "name": "stderr",
     "output_type": "stream",
     "text": [
      "/opt/conda/lib/python3.7/site-packages/ipykernel_launcher.py:42: RuntimeWarning: invalid value encountered in long_scalars\n"
     ]
    },
    {
     "name": "stdout",
     "output_type": "stream",
     "text": [
      "=== rates === 0.00021999999999999998\n"
     ]
    },
    {
     "name": "stderr",
     "output_type": "stream",
     "text": [
      "/opt/conda/lib/python3.7/site-packages/ipykernel_launcher.py:42: RuntimeWarning: invalid value encountered in long_scalars\n"
     ]
    },
    {
     "name": "stdout",
     "output_type": "stream",
     "text": [
      "=== rates === 0.00023\n"
     ]
    },
    {
     "name": "stderr",
     "output_type": "stream",
     "text": [
      "/opt/conda/lib/python3.7/site-packages/ipykernel_launcher.py:42: RuntimeWarning: invalid value encountered in long_scalars\n"
     ]
    },
    {
     "name": "stdout",
     "output_type": "stream",
     "text": [
      "=== rates === 0.00023999999999999998\n"
     ]
    },
    {
     "name": "stderr",
     "output_type": "stream",
     "text": [
      "/opt/conda/lib/python3.7/site-packages/ipykernel_launcher.py:42: RuntimeWarning: invalid value encountered in long_scalars\n"
     ]
    },
    {
     "name": "stdout",
     "output_type": "stream",
     "text": [
      "=== rates === 0.00025\n",
      "=== best recall === 0.9066666666666666\n",
      "=== rates === 0.00026\n",
      "=== rates === 0.00027\n",
      "=== rates === 0.00028\n",
      "=== rates === 0.00029\n",
      "=== rates === 0.0003\n",
      "=== rates === 0.00031\n",
      "=== rates === 0.00031999999999999997\n",
      "=== rates === 0.00033\n",
      "=== rates === 0.00033999999999999997\n",
      "=== rates === 0.00035\n",
      "=== rates === 0.00035999999999999997\n",
      "=== rates === 0.00036999999999999994\n",
      "=== rates === 0.00037999999999999997\n",
      "=== rates === 0.00039\n",
      "=== rates === 0.00039999999999999996\n",
      "=== rates === 0.00040999999999999994\n",
      "=== rates === 0.00041999999999999996\n",
      "=== rates === 0.00043\n",
      "=== rates === 0.00043999999999999996\n",
      "=== rates === 0.00044999999999999993\n",
      "=== rates === 0.00045999999999999996\n",
      "=== rates === 0.00047\n",
      "=== rates === 0.00047999999999999996\n",
      "=== rates === 0.00049\n",
      "12/12 [==============================] - 0s 2ms/step - loss: 0.4292 - accuracy: 0.8067\n",
      "Accuracy: 80.6723\n",
      "Model: \"sequential_32\"\n",
      "_________________________________________________________________\n",
      "Layer (type)                 Output Shape              Param #   \n",
      "=================================================================\n",
      "flatten_32 (Flatten)         (None, 26)                0         \n",
      "_________________________________________________________________\n",
      "dense_169 (Dense)            (None, 46)                1242      \n",
      "_________________________________________________________________\n",
      "dense_170 (Dense)            (None, 46)                2162      \n",
      "_________________________________________________________________\n",
      "dense_171 (Dense)            (None, 46)                2162      \n",
      "_________________________________________________________________\n",
      "dense_172 (Dense)            (None, 2)                 94        \n",
      "=================================================================\n",
      "Total params: 5,660\n",
      "Trainable params: 5,660\n",
      "Non-trainable params: 0\n",
      "_________________________________________________________________\n",
      "None\n",
      "=== rates === 0.0001\n"
     ]
    },
    {
     "name": "stderr",
     "output_type": "stream",
     "text": [
      "/opt/conda/lib/python3.7/site-packages/ipykernel_launcher.py:42: RuntimeWarning: invalid value encountered in long_scalars\n"
     ]
    },
    {
     "name": "stdout",
     "output_type": "stream",
     "text": [
      "=== rates === 0.00011\n"
     ]
    },
    {
     "name": "stderr",
     "output_type": "stream",
     "text": [
      "/opt/conda/lib/python3.7/site-packages/ipykernel_launcher.py:42: RuntimeWarning: invalid value encountered in long_scalars\n"
     ]
    },
    {
     "name": "stdout",
     "output_type": "stream",
     "text": [
      "=== rates === 0.00012\n"
     ]
    },
    {
     "name": "stderr",
     "output_type": "stream",
     "text": [
      "/opt/conda/lib/python3.7/site-packages/ipykernel_launcher.py:42: RuntimeWarning: invalid value encountered in long_scalars\n"
     ]
    },
    {
     "name": "stdout",
     "output_type": "stream",
     "text": [
      "=== rates === 0.00013000000000000002\n"
     ]
    },
    {
     "name": "stderr",
     "output_type": "stream",
     "text": [
      "/opt/conda/lib/python3.7/site-packages/ipykernel_launcher.py:42: RuntimeWarning: invalid value encountered in long_scalars\n"
     ]
    },
    {
     "name": "stdout",
     "output_type": "stream",
     "text": [
      "=== rates === 0.00014\n"
     ]
    },
    {
     "name": "stderr",
     "output_type": "stream",
     "text": [
      "/opt/conda/lib/python3.7/site-packages/ipykernel_launcher.py:42: RuntimeWarning: invalid value encountered in long_scalars\n"
     ]
    },
    {
     "name": "stdout",
     "output_type": "stream",
     "text": [
      "=== rates === 0.00015000000000000001\n"
     ]
    },
    {
     "name": "stderr",
     "output_type": "stream",
     "text": [
      "/opt/conda/lib/python3.7/site-packages/ipykernel_launcher.py:42: RuntimeWarning: invalid value encountered in long_scalars\n"
     ]
    },
    {
     "name": "stdout",
     "output_type": "stream",
     "text": [
      "=== rates === 0.00015999999999999999\n"
     ]
    },
    {
     "name": "stderr",
     "output_type": "stream",
     "text": [
      "/opt/conda/lib/python3.7/site-packages/ipykernel_launcher.py:42: RuntimeWarning: invalid value encountered in long_scalars\n"
     ]
    },
    {
     "name": "stdout",
     "output_type": "stream",
     "text": [
      "=== rates === 0.00017\n"
     ]
    },
    {
     "name": "stderr",
     "output_type": "stream",
     "text": [
      "/opt/conda/lib/python3.7/site-packages/ipykernel_launcher.py:42: RuntimeWarning: invalid value encountered in long_scalars\n"
     ]
    },
    {
     "name": "stdout",
     "output_type": "stream",
     "text": [
      "=== rates === 0.00017999999999999998\n",
      "=== best recall === 0.9310344827586207\n",
      "=== rates === 0.00019\n",
      "=== rates === 0.00019999999999999998\n",
      "=== rates === 0.00021\n",
      "=== rates === 0.00021999999999999998\n",
      "=== rates === 0.00023\n",
      "=== rates === 0.00023999999999999998\n",
      "=== rates === 0.00025\n",
      "=== rates === 0.00026\n",
      "=== rates === 0.00027\n",
      "=== rates === 0.00028\n",
      "=== rates === 0.00029\n",
      "=== rates === 0.0003\n",
      "=== rates === 0.00031\n",
      "=== rates === 0.00031999999999999997\n",
      "=== rates === 0.00033\n",
      "=== rates === 0.00033999999999999997\n",
      "=== rates === 0.00035\n",
      "=== rates === 0.00035999999999999997\n",
      "=== rates === 0.00036999999999999994\n",
      "=== rates === 0.00037999999999999997\n",
      "=== rates === 0.00039\n",
      "=== rates === 0.00039999999999999996\n",
      "=== rates === 0.00040999999999999994\n",
      "=== rates === 0.00041999999999999996\n",
      "=== rates === 0.00043\n",
      "=== rates === 0.00043999999999999996\n",
      "=== rates === 0.00044999999999999993\n",
      "=== rates === 0.00045999999999999996\n",
      "=== rates === 0.00047\n",
      "=== rates === 0.00047999999999999996\n",
      "=== rates === 0.00049\n",
      "12/12 [==============================] - 0s 2ms/step - loss: 0.4317 - accuracy: 0.8151\n",
      "Accuracy: 81.5126\n",
      "Model: \"sequential_33\"\n",
      "_________________________________________________________________\n",
      "Layer (type)                 Output Shape              Param #   \n",
      "=================================================================\n",
      "flatten_33 (Flatten)         (None, 26)                0         \n",
      "_________________________________________________________________\n",
      "dense_173 (Dense)            (None, 32)                864       \n",
      "_________________________________________________________________\n",
      "dense_174 (Dense)            (None, 32)                1056      \n",
      "_________________________________________________________________\n",
      "dense_175 (Dense)            (None, 32)                1056      \n",
      "_________________________________________________________________\n",
      "dense_176 (Dense)            (None, 32)                1056      \n",
      "_________________________________________________________________\n",
      "dense_177 (Dense)            (None, 2)                 66        \n",
      "=================================================================\n",
      "Total params: 4,098\n",
      "Trainable params: 4,098\n",
      "Non-trainable params: 0\n",
      "_________________________________________________________________\n",
      "None\n",
      "=== rates === 0.0001\n"
     ]
    },
    {
     "name": "stderr",
     "output_type": "stream",
     "text": [
      "/opt/conda/lib/python3.7/site-packages/ipykernel_launcher.py:42: RuntimeWarning: invalid value encountered in long_scalars\n"
     ]
    },
    {
     "name": "stdout",
     "output_type": "stream",
     "text": [
      "=== rates === 0.00011\n"
     ]
    },
    {
     "name": "stderr",
     "output_type": "stream",
     "text": [
      "/opt/conda/lib/python3.7/site-packages/ipykernel_launcher.py:42: RuntimeWarning: invalid value encountered in long_scalars\n"
     ]
    },
    {
     "name": "stdout",
     "output_type": "stream",
     "text": [
      "=== rates === 0.00012\n"
     ]
    },
    {
     "name": "stderr",
     "output_type": "stream",
     "text": [
      "/opt/conda/lib/python3.7/site-packages/ipykernel_launcher.py:42: RuntimeWarning: invalid value encountered in long_scalars\n"
     ]
    },
    {
     "name": "stdout",
     "output_type": "stream",
     "text": [
      "=== rates === 0.00013000000000000002\n"
     ]
    },
    {
     "name": "stderr",
     "output_type": "stream",
     "text": [
      "/opt/conda/lib/python3.7/site-packages/ipykernel_launcher.py:42: RuntimeWarning: invalid value encountered in long_scalars\n"
     ]
    },
    {
     "name": "stdout",
     "output_type": "stream",
     "text": [
      "=== rates === 0.00014\n"
     ]
    },
    {
     "name": "stderr",
     "output_type": "stream",
     "text": [
      "/opt/conda/lib/python3.7/site-packages/ipykernel_launcher.py:42: RuntimeWarning: invalid value encountered in long_scalars\n"
     ]
    },
    {
     "name": "stdout",
     "output_type": "stream",
     "text": [
      "=== rates === 0.00015000000000000001\n"
     ]
    },
    {
     "name": "stderr",
     "output_type": "stream",
     "text": [
      "/opt/conda/lib/python3.7/site-packages/ipykernel_launcher.py:42: RuntimeWarning: invalid value encountered in long_scalars\n"
     ]
    },
    {
     "name": "stdout",
     "output_type": "stream",
     "text": [
      "=== rates === 0.00015999999999999999\n"
     ]
    },
    {
     "name": "stderr",
     "output_type": "stream",
     "text": [
      "/opt/conda/lib/python3.7/site-packages/ipykernel_launcher.py:42: RuntimeWarning: invalid value encountered in long_scalars\n"
     ]
    },
    {
     "name": "stdout",
     "output_type": "stream",
     "text": [
      "=== rates === 0.00017\n"
     ]
    },
    {
     "name": "stderr",
     "output_type": "stream",
     "text": [
      "/opt/conda/lib/python3.7/site-packages/ipykernel_launcher.py:42: RuntimeWarning: invalid value encountered in long_scalars\n"
     ]
    },
    {
     "name": "stdout",
     "output_type": "stream",
     "text": [
      "=== rates === 0.00017999999999999998\n"
     ]
    },
    {
     "name": "stderr",
     "output_type": "stream",
     "text": [
      "/opt/conda/lib/python3.7/site-packages/ipykernel_launcher.py:42: RuntimeWarning: invalid value encountered in long_scalars\n"
     ]
    },
    {
     "name": "stdout",
     "output_type": "stream",
     "text": [
      "=== rates === 0.00019\n"
     ]
    },
    {
     "name": "stderr",
     "output_type": "stream",
     "text": [
      "/opt/conda/lib/python3.7/site-packages/ipykernel_launcher.py:42: RuntimeWarning: invalid value encountered in long_scalars\n"
     ]
    },
    {
     "name": "stdout",
     "output_type": "stream",
     "text": [
      "=== rates === 0.00019999999999999998\n"
     ]
    },
    {
     "name": "stderr",
     "output_type": "stream",
     "text": [
      "/opt/conda/lib/python3.7/site-packages/ipykernel_launcher.py:42: RuntimeWarning: invalid value encountered in long_scalars\n"
     ]
    },
    {
     "name": "stdout",
     "output_type": "stream",
     "text": [
      "=== rates === 0.00021\n",
      "=== best recall === 0.95\n",
      "=== rates === 0.00021999999999999998\n",
      "=== rates === 0.00023\n",
      "=== rates === 0.00023999999999999998\n",
      "=== rates === 0.00025\n",
      "=== rates === 0.00026\n",
      "=== rates === 0.00027\n",
      "=== rates === 0.00028\n",
      "=== rates === 0.00029\n",
      "=== rates === 0.0003\n",
      "=== rates === 0.00031\n",
      "=== rates === 0.00031999999999999997\n",
      "=== rates === 0.00033\n",
      "=== rates === 0.00033999999999999997\n",
      "=== rates === 0.00035\n",
      "=== rates === 0.00035999999999999997\n",
      "=== rates === 0.00036999999999999994\n",
      "=== rates === 0.00037999999999999997\n",
      "=== rates === 0.00039\n",
      "=== rates === 0.00039999999999999996\n",
      "=== rates === 0.00040999999999999994\n",
      "=== rates === 0.00041999999999999996\n",
      "=== rates === 0.00043\n",
      "=== rates === 0.00043999999999999996\n",
      "=== rates === 0.00044999999999999993\n",
      "=== rates === 0.00045999999999999996\n",
      "=== rates === 0.00047\n",
      "=== rates === 0.00047999999999999996\n",
      "=== rates === 0.00049\n",
      "12/12 [==============================] - 0s 2ms/step - loss: 0.4325 - accuracy: 0.8151\n",
      "Accuracy: 81.5126\n",
      "Model: \"sequential_34\"\n",
      "_________________________________________________________________\n",
      "Layer (type)                 Output Shape              Param #   \n",
      "=================================================================\n",
      "flatten_34 (Flatten)         (None, 26)                0         \n",
      "_________________________________________________________________\n",
      "dense_178 (Dense)            (None, 46)                1242      \n",
      "_________________________________________________________________\n",
      "dense_179 (Dense)            (None, 46)                2162      \n",
      "_________________________________________________________________\n",
      "dense_180 (Dense)            (None, 46)                2162      \n",
      "_________________________________________________________________\n",
      "dense_181 (Dense)            (None, 46)                2162      \n",
      "_________________________________________________________________\n",
      "dense_182 (Dense)            (None, 2)                 94        \n",
      "=================================================================\n",
      "Total params: 7,822\n",
      "Trainable params: 7,822\n",
      "Non-trainable params: 0\n",
      "_________________________________________________________________\n",
      "None\n",
      "=== rates === 0.0001\n"
     ]
    },
    {
     "name": "stderr",
     "output_type": "stream",
     "text": [
      "/opt/conda/lib/python3.7/site-packages/ipykernel_launcher.py:42: RuntimeWarning: invalid value encountered in long_scalars\n"
     ]
    },
    {
     "name": "stdout",
     "output_type": "stream",
     "text": [
      "=== rates === 0.00011\n"
     ]
    },
    {
     "name": "stderr",
     "output_type": "stream",
     "text": [
      "/opt/conda/lib/python3.7/site-packages/ipykernel_launcher.py:42: RuntimeWarning: invalid value encountered in long_scalars\n"
     ]
    },
    {
     "name": "stdout",
     "output_type": "stream",
     "text": [
      "=== rates === 0.00012\n"
     ]
    },
    {
     "name": "stderr",
     "output_type": "stream",
     "text": [
      "/opt/conda/lib/python3.7/site-packages/ipykernel_launcher.py:42: RuntimeWarning: invalid value encountered in long_scalars\n"
     ]
    },
    {
     "name": "stdout",
     "output_type": "stream",
     "text": [
      "=== rates === 0.00013000000000000002\n"
     ]
    },
    {
     "name": "stderr",
     "output_type": "stream",
     "text": [
      "/opt/conda/lib/python3.7/site-packages/ipykernel_launcher.py:42: RuntimeWarning: invalid value encountered in long_scalars\n"
     ]
    },
    {
     "name": "stdout",
     "output_type": "stream",
     "text": [
      "=== rates === 0.00014\n"
     ]
    },
    {
     "name": "stderr",
     "output_type": "stream",
     "text": [
      "/opt/conda/lib/python3.7/site-packages/ipykernel_launcher.py:42: RuntimeWarning: invalid value encountered in long_scalars\n"
     ]
    },
    {
     "name": "stdout",
     "output_type": "stream",
     "text": [
      "=== rates === 0.00015000000000000001\n"
     ]
    },
    {
     "name": "stderr",
     "output_type": "stream",
     "text": [
      "/opt/conda/lib/python3.7/site-packages/ipykernel_launcher.py:42: RuntimeWarning: invalid value encountered in long_scalars\n"
     ]
    },
    {
     "name": "stdout",
     "output_type": "stream",
     "text": [
      "=== rates === 0.00015999999999999999\n"
     ]
    },
    {
     "name": "stderr",
     "output_type": "stream",
     "text": [
      "/opt/conda/lib/python3.7/site-packages/ipykernel_launcher.py:42: RuntimeWarning: invalid value encountered in long_scalars\n"
     ]
    },
    {
     "name": "stdout",
     "output_type": "stream",
     "text": [
      "=== rates === 0.00017\n"
     ]
    },
    {
     "name": "stderr",
     "output_type": "stream",
     "text": [
      "/opt/conda/lib/python3.7/site-packages/ipykernel_launcher.py:42: RuntimeWarning: invalid value encountered in long_scalars\n"
     ]
    },
    {
     "name": "stdout",
     "output_type": "stream",
     "text": [
      "=== rates === 0.00017999999999999998\n"
     ]
    },
    {
     "name": "stderr",
     "output_type": "stream",
     "text": [
      "/opt/conda/lib/python3.7/site-packages/ipykernel_launcher.py:42: RuntimeWarning: invalid value encountered in long_scalars\n"
     ]
    },
    {
     "name": "stdout",
     "output_type": "stream",
     "text": [
      "=== rates === 0.00019\n",
      "=== best recall === 0.9705882352941176\n",
      "=== rates === 0.00019999999999999998\n",
      "=== rates === 0.00021\n",
      "=== rates === 0.00021999999999999998\n",
      "=== rates === 0.00023\n",
      "=== rates === 0.00023999999999999998\n",
      "=== rates === 0.00025\n",
      "=== rates === 0.00026\n",
      "=== rates === 0.00027\n",
      "=== rates === 0.00028\n",
      "=== rates === 0.00029\n",
      "=== rates === 0.0003\n",
      "=== rates === 0.00031\n",
      "=== rates === 0.00031999999999999997\n",
      "=== rates === 0.00033\n",
      "=== rates === 0.00033999999999999997\n",
      "=== rates === 0.00035\n",
      "=== rates === 0.00035999999999999997\n",
      "=== rates === 0.00036999999999999994\n",
      "=== rates === 0.00037999999999999997\n",
      "=== rates === 0.00039\n",
      "=== rates === 0.00039999999999999996\n",
      "=== rates === 0.00040999999999999994\n",
      "=== rates === 0.00041999999999999996\n",
      "=== rates === 0.00043\n",
      "=== rates === 0.00043999999999999996\n",
      "=== rates === 0.00044999999999999993\n",
      "=== rates === 0.00045999999999999996\n",
      "=== rates === 0.00047\n",
      "=== rates === 0.00047999999999999996\n",
      "=== rates === 0.00049\n",
      "12/12 [==============================] - 0s 3ms/step - loss: 0.4342 - accuracy: 0.8123\n",
      "Accuracy: 81.2325\n",
      "Model: \"sequential_35\"\n",
      "_________________________________________________________________\n",
      "Layer (type)                 Output Shape              Param #   \n",
      "=================================================================\n",
      "flatten_35 (Flatten)         (None, 26)                0         \n",
      "_________________________________________________________________\n",
      "dense_183 (Dense)            (None, 34)                918       \n",
      "_________________________________________________________________\n",
      "dense_184 (Dense)            (None, 34)                1190      \n",
      "_________________________________________________________________\n",
      "dense_185 (Dense)            (None, 34)                1190      \n",
      "_________________________________________________________________\n",
      "dense_186 (Dense)            (None, 34)                1190      \n",
      "_________________________________________________________________\n",
      "dense_187 (Dense)            (None, 34)                1190      \n",
      "_________________________________________________________________\n",
      "dense_188 (Dense)            (None, 34)                1190      \n",
      "_________________________________________________________________\n",
      "dense_189 (Dense)            (None, 2)                 70        \n",
      "=================================================================\n",
      "Total params: 6,938\n",
      "Trainable params: 6,938\n",
      "Non-trainable params: 0\n",
      "_________________________________________________________________\n",
      "None\n",
      "=== rates === 0.0001\n"
     ]
    },
    {
     "name": "stderr",
     "output_type": "stream",
     "text": [
      "/opt/conda/lib/python3.7/site-packages/ipykernel_launcher.py:42: RuntimeWarning: invalid value encountered in long_scalars\n"
     ]
    },
    {
     "name": "stdout",
     "output_type": "stream",
     "text": [
      "=== rates === 0.00011\n"
     ]
    },
    {
     "name": "stderr",
     "output_type": "stream",
     "text": [
      "/opt/conda/lib/python3.7/site-packages/ipykernel_launcher.py:42: RuntimeWarning: invalid value encountered in long_scalars\n"
     ]
    },
    {
     "name": "stdout",
     "output_type": "stream",
     "text": [
      "=== rates === 0.00012\n"
     ]
    },
    {
     "name": "stderr",
     "output_type": "stream",
     "text": [
      "/opt/conda/lib/python3.7/site-packages/ipykernel_launcher.py:42: RuntimeWarning: invalid value encountered in long_scalars\n"
     ]
    },
    {
     "name": "stdout",
     "output_type": "stream",
     "text": [
      "=== rates === 0.00013000000000000002\n"
     ]
    },
    {
     "name": "stderr",
     "output_type": "stream",
     "text": [
      "/opt/conda/lib/python3.7/site-packages/ipykernel_launcher.py:42: RuntimeWarning: invalid value encountered in long_scalars\n"
     ]
    },
    {
     "name": "stdout",
     "output_type": "stream",
     "text": [
      "=== rates === 0.00014\n"
     ]
    },
    {
     "name": "stderr",
     "output_type": "stream",
     "text": [
      "/opt/conda/lib/python3.7/site-packages/ipykernel_launcher.py:42: RuntimeWarning: invalid value encountered in long_scalars\n"
     ]
    },
    {
     "name": "stdout",
     "output_type": "stream",
     "text": [
      "=== rates === 0.00015000000000000001\n"
     ]
    },
    {
     "name": "stderr",
     "output_type": "stream",
     "text": [
      "/opt/conda/lib/python3.7/site-packages/ipykernel_launcher.py:42: RuntimeWarning: invalid value encountered in long_scalars\n"
     ]
    },
    {
     "name": "stdout",
     "output_type": "stream",
     "text": [
      "=== rates === 0.00015999999999999999\n"
     ]
    },
    {
     "name": "stderr",
     "output_type": "stream",
     "text": [
      "/opt/conda/lib/python3.7/site-packages/ipykernel_launcher.py:42: RuntimeWarning: invalid value encountered in long_scalars\n"
     ]
    },
    {
     "name": "stdout",
     "output_type": "stream",
     "text": [
      "=== rates === 0.00017\n"
     ]
    },
    {
     "name": "stderr",
     "output_type": "stream",
     "text": [
      "/opt/conda/lib/python3.7/site-packages/ipykernel_launcher.py:42: RuntimeWarning: invalid value encountered in long_scalars\n"
     ]
    },
    {
     "name": "stdout",
     "output_type": "stream",
     "text": [
      "=== rates === 0.00017999999999999998\n"
     ]
    },
    {
     "name": "stderr",
     "output_type": "stream",
     "text": [
      "/opt/conda/lib/python3.7/site-packages/ipykernel_launcher.py:42: RuntimeWarning: invalid value encountered in long_scalars\n"
     ]
    },
    {
     "name": "stdout",
     "output_type": "stream",
     "text": [
      "=== rates === 0.00019\n"
     ]
    },
    {
     "name": "stderr",
     "output_type": "stream",
     "text": [
      "/opt/conda/lib/python3.7/site-packages/ipykernel_launcher.py:42: RuntimeWarning: invalid value encountered in long_scalars\n"
     ]
    },
    {
     "name": "stdout",
     "output_type": "stream",
     "text": [
      "=== rates === 0.00019999999999999998\n"
     ]
    },
    {
     "name": "stderr",
     "output_type": "stream",
     "text": [
      "/opt/conda/lib/python3.7/site-packages/ipykernel_launcher.py:42: RuntimeWarning: invalid value encountered in long_scalars\n"
     ]
    },
    {
     "name": "stdout",
     "output_type": "stream",
     "text": [
      "=== rates === 0.00021\n"
     ]
    },
    {
     "name": "stderr",
     "output_type": "stream",
     "text": [
      "/opt/conda/lib/python3.7/site-packages/ipykernel_launcher.py:42: RuntimeWarning: invalid value encountered in long_scalars\n"
     ]
    },
    {
     "name": "stdout",
     "output_type": "stream",
     "text": [
      "=== rates === 0.00021999999999999998\n"
     ]
    },
    {
     "name": "stderr",
     "output_type": "stream",
     "text": [
      "/opt/conda/lib/python3.7/site-packages/ipykernel_launcher.py:42: RuntimeWarning: invalid value encountered in long_scalars\n"
     ]
    },
    {
     "name": "stdout",
     "output_type": "stream",
     "text": [
      "=== rates === 0.00023\n",
      "=== best recall === 0.9473684210526315\n",
      "=== rates === 0.00023999999999999998\n",
      "=== rates === 0.00025\n",
      "=== rates === 0.00026\n",
      "=== rates === 0.00027\n",
      "=== rates === 0.00028\n",
      "=== rates === 0.00029\n",
      "=== rates === 0.0003\n",
      "=== rates === 0.00031\n",
      "=== rates === 0.00031999999999999997\n",
      "=== rates === 0.00033\n",
      "=== rates === 0.00033999999999999997\n",
      "=== rates === 0.00035\n",
      "=== rates === 0.00035999999999999997\n",
      "=== rates === 0.00036999999999999994\n",
      "=== rates === 0.00037999999999999997\n",
      "=== rates === 0.00039\n",
      "=== rates === 0.00039999999999999996\n",
      "=== rates === 0.00040999999999999994\n",
      "=== rates === 0.00041999999999999996\n",
      "=== rates === 0.00043\n",
      "=== rates === 0.00043999999999999996\n",
      "=== rates === 0.00044999999999999993\n",
      "=== rates === 0.00045999999999999996\n",
      "=== rates === 0.00047\n",
      "=== rates === 0.00047999999999999996\n",
      "=== rates === 0.00049\n",
      "12/12 [==============================] - 0s 3ms/step - loss: 0.4305 - accuracy: 0.8151\n",
      "Accuracy: 81.5126\n",
      "Model: \"sequential_36\"\n",
      "_________________________________________________________________\n",
      "Layer (type)                 Output Shape              Param #   \n",
      "=================================================================\n",
      "flatten_36 (Flatten)         (None, 26)                0         \n",
      "_________________________________________________________________\n",
      "dense_190 (Dense)            (None, 34)                918       \n",
      "_________________________________________________________________\n",
      "dense_191 (Dense)            (None, 34)                1190      \n",
      "_________________________________________________________________\n",
      "dense_192 (Dense)            (None, 34)                1190      \n",
      "_________________________________________________________________\n",
      "dense_193 (Dense)            (None, 34)                1190      \n",
      "_________________________________________________________________\n",
      "dense_194 (Dense)            (None, 2)                 70        \n",
      "=================================================================\n",
      "Total params: 4,558\n",
      "Trainable params: 4,558\n",
      "Non-trainable params: 0\n",
      "_________________________________________________________________\n",
      "None\n",
      "=== rates === 0.0001\n"
     ]
    },
    {
     "name": "stderr",
     "output_type": "stream",
     "text": [
      "/opt/conda/lib/python3.7/site-packages/ipykernel_launcher.py:42: RuntimeWarning: invalid value encountered in long_scalars\n"
     ]
    },
    {
     "name": "stdout",
     "output_type": "stream",
     "text": [
      "=== rates === 0.00011\n"
     ]
    },
    {
     "name": "stderr",
     "output_type": "stream",
     "text": [
      "/opt/conda/lib/python3.7/site-packages/ipykernel_launcher.py:42: RuntimeWarning: invalid value encountered in long_scalars\n"
     ]
    },
    {
     "name": "stdout",
     "output_type": "stream",
     "text": [
      "=== rates === 0.00012\n"
     ]
    },
    {
     "name": "stderr",
     "output_type": "stream",
     "text": [
      "/opt/conda/lib/python3.7/site-packages/ipykernel_launcher.py:42: RuntimeWarning: invalid value encountered in long_scalars\n"
     ]
    },
    {
     "name": "stdout",
     "output_type": "stream",
     "text": [
      "=== rates === 0.00013000000000000002\n"
     ]
    },
    {
     "name": "stderr",
     "output_type": "stream",
     "text": [
      "/opt/conda/lib/python3.7/site-packages/ipykernel_launcher.py:42: RuntimeWarning: invalid value encountered in long_scalars\n"
     ]
    },
    {
     "name": "stdout",
     "output_type": "stream",
     "text": [
      "=== rates === 0.00014\n"
     ]
    },
    {
     "name": "stderr",
     "output_type": "stream",
     "text": [
      "/opt/conda/lib/python3.7/site-packages/ipykernel_launcher.py:42: RuntimeWarning: invalid value encountered in long_scalars\n"
     ]
    },
    {
     "name": "stdout",
     "output_type": "stream",
     "text": [
      "=== rates === 0.00015000000000000001\n"
     ]
    },
    {
     "name": "stderr",
     "output_type": "stream",
     "text": [
      "/opt/conda/lib/python3.7/site-packages/ipykernel_launcher.py:42: RuntimeWarning: invalid value encountered in long_scalars\n"
     ]
    },
    {
     "name": "stdout",
     "output_type": "stream",
     "text": [
      "=== rates === 0.00015999999999999999\n"
     ]
    },
    {
     "name": "stderr",
     "output_type": "stream",
     "text": [
      "/opt/conda/lib/python3.7/site-packages/ipykernel_launcher.py:42: RuntimeWarning: invalid value encountered in long_scalars\n"
     ]
    },
    {
     "name": "stdout",
     "output_type": "stream",
     "text": [
      "=== rates === 0.00017\n"
     ]
    },
    {
     "name": "stderr",
     "output_type": "stream",
     "text": [
      "/opt/conda/lib/python3.7/site-packages/ipykernel_launcher.py:42: RuntimeWarning: invalid value encountered in long_scalars\n"
     ]
    },
    {
     "name": "stdout",
     "output_type": "stream",
     "text": [
      "=== rates === 0.00017999999999999998\n"
     ]
    },
    {
     "name": "stderr",
     "output_type": "stream",
     "text": [
      "/opt/conda/lib/python3.7/site-packages/ipykernel_launcher.py:42: RuntimeWarning: invalid value encountered in long_scalars\n"
     ]
    },
    {
     "name": "stdout",
     "output_type": "stream",
     "text": [
      "=== rates === 0.00019\n"
     ]
    },
    {
     "name": "stderr",
     "output_type": "stream",
     "text": [
      "/opt/conda/lib/python3.7/site-packages/ipykernel_launcher.py:42: RuntimeWarning: invalid value encountered in long_scalars\n"
     ]
    },
    {
     "name": "stdout",
     "output_type": "stream",
     "text": [
      "=== rates === 0.00019999999999999998\n"
     ]
    },
    {
     "name": "stderr",
     "output_type": "stream",
     "text": [
      "/opt/conda/lib/python3.7/site-packages/ipykernel_launcher.py:42: RuntimeWarning: invalid value encountered in long_scalars\n"
     ]
    },
    {
     "name": "stdout",
     "output_type": "stream",
     "text": [
      "=== rates === 0.00021\n",
      "=== best recall === 0.9459459459459459\n",
      "=== rates === 0.00021999999999999998\n",
      "=== rates === 0.00023\n",
      "=== rates === 0.00023999999999999998\n",
      "=== rates === 0.00025\n",
      "=== rates === 0.00026\n",
      "=== rates === 0.00027\n",
      "=== rates === 0.00028\n",
      "=== rates === 0.00029\n",
      "=== rates === 0.0003\n",
      "=== rates === 0.00031\n",
      "=== rates === 0.00031999999999999997\n",
      "=== rates === 0.00033\n",
      "=== rates === 0.00033999999999999997\n",
      "=== rates === 0.00035\n",
      "=== rates === 0.00035999999999999997\n",
      "=== rates === 0.00036999999999999994\n",
      "=== rates === 0.00037999999999999997\n",
      "=== rates === 0.00039\n",
      "=== rates === 0.00039999999999999996\n",
      "=== rates === 0.00040999999999999994\n",
      "=== rates === 0.00041999999999999996\n",
      "=== rates === 0.00043\n",
      "=== rates === 0.00043999999999999996\n",
      "=== rates === 0.00044999999999999993\n",
      "=== rates === 0.00045999999999999996\n",
      "=== rates === 0.00047\n",
      "=== rates === 0.00047999999999999996\n",
      "=== rates === 0.00049\n",
      "12/12 [==============================] - 0s 3ms/step - loss: 0.4337 - accuracy: 0.8151\n",
      "Accuracy: 81.5126\n",
      "Model: \"sequential_37\"\n",
      "_________________________________________________________________\n",
      "Layer (type)                 Output Shape              Param #   \n",
      "=================================================================\n",
      "flatten_37 (Flatten)         (None, 26)                0         \n",
      "_________________________________________________________________\n",
      "dense_195 (Dense)            (None, 38)                1026      \n",
      "_________________________________________________________________\n",
      "dense_196 (Dense)            (None, 38)                1482      \n",
      "_________________________________________________________________\n",
      "dense_197 (Dense)            (None, 38)                1482      \n",
      "_________________________________________________________________\n",
      "dense_198 (Dense)            (None, 38)                1482      \n",
      "_________________________________________________________________\n",
      "dense_199 (Dense)            (None, 38)                1482      \n",
      "_________________________________________________________________\n",
      "dense_200 (Dense)            (None, 38)                1482      \n",
      "_________________________________________________________________\n",
      "dense_201 (Dense)            (None, 2)                 78        \n",
      "=================================================================\n",
      "Total params: 8,514\n",
      "Trainable params: 8,514\n",
      "Non-trainable params: 0\n",
      "_________________________________________________________________\n",
      "None\n",
      "=== rates === 0.0001\n"
     ]
    },
    {
     "name": "stderr",
     "output_type": "stream",
     "text": [
      "/opt/conda/lib/python3.7/site-packages/ipykernel_launcher.py:42: RuntimeWarning: invalid value encountered in long_scalars\n"
     ]
    },
    {
     "name": "stdout",
     "output_type": "stream",
     "text": [
      "=== rates === 0.00011\n"
     ]
    },
    {
     "name": "stderr",
     "output_type": "stream",
     "text": [
      "/opt/conda/lib/python3.7/site-packages/ipykernel_launcher.py:42: RuntimeWarning: invalid value encountered in long_scalars\n"
     ]
    },
    {
     "name": "stdout",
     "output_type": "stream",
     "text": [
      "=== rates === 0.00012\n"
     ]
    },
    {
     "name": "stderr",
     "output_type": "stream",
     "text": [
      "/opt/conda/lib/python3.7/site-packages/ipykernel_launcher.py:42: RuntimeWarning: invalid value encountered in long_scalars\n"
     ]
    },
    {
     "name": "stdout",
     "output_type": "stream",
     "text": [
      "=== rates === 0.00013000000000000002\n"
     ]
    },
    {
     "name": "stderr",
     "output_type": "stream",
     "text": [
      "/opt/conda/lib/python3.7/site-packages/ipykernel_launcher.py:42: RuntimeWarning: invalid value encountered in long_scalars\n"
     ]
    },
    {
     "name": "stdout",
     "output_type": "stream",
     "text": [
      "=== rates === 0.00014\n"
     ]
    },
    {
     "name": "stderr",
     "output_type": "stream",
     "text": [
      "/opt/conda/lib/python3.7/site-packages/ipykernel_launcher.py:42: RuntimeWarning: invalid value encountered in long_scalars\n"
     ]
    },
    {
     "name": "stdout",
     "output_type": "stream",
     "text": [
      "=== rates === 0.00015000000000000001\n"
     ]
    },
    {
     "name": "stderr",
     "output_type": "stream",
     "text": [
      "/opt/conda/lib/python3.7/site-packages/ipykernel_launcher.py:42: RuntimeWarning: invalid value encountered in long_scalars\n"
     ]
    },
    {
     "name": "stdout",
     "output_type": "stream",
     "text": [
      "=== rates === 0.00015999999999999999\n"
     ]
    },
    {
     "name": "stderr",
     "output_type": "stream",
     "text": [
      "/opt/conda/lib/python3.7/site-packages/ipykernel_launcher.py:42: RuntimeWarning: invalid value encountered in long_scalars\n"
     ]
    },
    {
     "name": "stdout",
     "output_type": "stream",
     "text": [
      "=== rates === 0.00017\n"
     ]
    },
    {
     "name": "stderr",
     "output_type": "stream",
     "text": [
      "/opt/conda/lib/python3.7/site-packages/ipykernel_launcher.py:42: RuntimeWarning: invalid value encountered in long_scalars\n"
     ]
    },
    {
     "name": "stdout",
     "output_type": "stream",
     "text": [
      "=== rates === 0.00017999999999999998\n"
     ]
    },
    {
     "name": "stderr",
     "output_type": "stream",
     "text": [
      "/opt/conda/lib/python3.7/site-packages/ipykernel_launcher.py:42: RuntimeWarning: invalid value encountered in long_scalars\n"
     ]
    },
    {
     "name": "stdout",
     "output_type": "stream",
     "text": [
      "=== rates === 0.00019\n"
     ]
    },
    {
     "name": "stderr",
     "output_type": "stream",
     "text": [
      "/opt/conda/lib/python3.7/site-packages/ipykernel_launcher.py:42: RuntimeWarning: invalid value encountered in long_scalars\n"
     ]
    },
    {
     "name": "stdout",
     "output_type": "stream",
     "text": [
      "=== rates === 0.00019999999999999998\n"
     ]
    },
    {
     "name": "stderr",
     "output_type": "stream",
     "text": [
      "/opt/conda/lib/python3.7/site-packages/ipykernel_launcher.py:42: RuntimeWarning: invalid value encountered in long_scalars\n"
     ]
    },
    {
     "name": "stdout",
     "output_type": "stream",
     "text": [
      "=== rates === 0.00021\n"
     ]
    },
    {
     "name": "stderr",
     "output_type": "stream",
     "text": [
      "/opt/conda/lib/python3.7/site-packages/ipykernel_launcher.py:42: RuntimeWarning: invalid value encountered in long_scalars\n"
     ]
    },
    {
     "name": "stdout",
     "output_type": "stream",
     "text": [
      "=== rates === 0.00021999999999999998\n",
      "=== best recall === 0.9482758620689655\n",
      "=== rates === 0.00023\n",
      "=== rates === 0.00023999999999999998\n",
      "=== rates === 0.00025\n",
      "=== rates === 0.00026\n",
      "=== rates === 0.00027\n",
      "=== rates === 0.00028\n",
      "=== rates === 0.00029\n",
      "=== rates === 0.0003\n",
      "=== rates === 0.00031\n",
      "=== rates === 0.00031999999999999997\n",
      "=== rates === 0.00033\n",
      "=== rates === 0.00033999999999999997\n",
      "=== rates === 0.00035\n",
      "=== rates === 0.00035999999999999997\n",
      "=== rates === 0.00036999999999999994\n",
      "=== rates === 0.00037999999999999997\n",
      "=== rates === 0.00039\n",
      "=== rates === 0.00039999999999999996\n",
      "=== rates === 0.00040999999999999994\n",
      "=== rates === 0.00041999999999999996\n",
      "=== rates === 0.00043\n",
      "=== rates === 0.00043999999999999996\n",
      "=== rates === 0.00044999999999999993\n",
      "=== rates === 0.00045999999999999996\n",
      "=== rates === 0.00047\n",
      "=== rates === 0.00047999999999999996\n",
      "=== rates === 0.00049\n",
      "12/12 [==============================] - 0s 2ms/step - loss: 0.4382 - accuracy: 0.8151\n",
      "Accuracy: 81.5126\n",
      "Model: \"sequential_38\"\n",
      "_________________________________________________________________\n",
      "Layer (type)                 Output Shape              Param #   \n",
      "=================================================================\n",
      "flatten_38 (Flatten)         (None, 26)                0         \n",
      "_________________________________________________________________\n",
      "dense_202 (Dense)            (None, 23)                621       \n",
      "_________________________________________________________________\n",
      "dense_203 (Dense)            (None, 23)                552       \n",
      "_________________________________________________________________\n",
      "dense_204 (Dense)            (None, 23)                552       \n",
      "_________________________________________________________________\n",
      "dense_205 (Dense)            (None, 23)                552       \n",
      "_________________________________________________________________\n",
      "dense_206 (Dense)            (None, 23)                552       \n",
      "_________________________________________________________________\n",
      "dense_207 (Dense)            (None, 23)                552       \n",
      "_________________________________________________________________\n",
      "dense_208 (Dense)            (None, 23)                552       \n",
      "_________________________________________________________________\n",
      "dense_209 (Dense)            (None, 2)                 48        \n",
      "=================================================================\n",
      "Total params: 3,981\n",
      "Trainable params: 3,981\n",
      "Non-trainable params: 0\n",
      "_________________________________________________________________\n",
      "None\n",
      "=== rates === 0.0001\n"
     ]
    },
    {
     "name": "stderr",
     "output_type": "stream",
     "text": [
      "/opt/conda/lib/python3.7/site-packages/ipykernel_launcher.py:42: RuntimeWarning: invalid value encountered in long_scalars\n"
     ]
    },
    {
     "name": "stdout",
     "output_type": "stream",
     "text": [
      "=== rates === 0.00011\n"
     ]
    },
    {
     "name": "stderr",
     "output_type": "stream",
     "text": [
      "/opt/conda/lib/python3.7/site-packages/ipykernel_launcher.py:42: RuntimeWarning: invalid value encountered in long_scalars\n"
     ]
    },
    {
     "name": "stdout",
     "output_type": "stream",
     "text": [
      "=== rates === 0.00012\n"
     ]
    },
    {
     "name": "stderr",
     "output_type": "stream",
     "text": [
      "/opt/conda/lib/python3.7/site-packages/ipykernel_launcher.py:42: RuntimeWarning: invalid value encountered in long_scalars\n"
     ]
    },
    {
     "name": "stdout",
     "output_type": "stream",
     "text": [
      "=== rates === 0.00013000000000000002\n"
     ]
    },
    {
     "name": "stderr",
     "output_type": "stream",
     "text": [
      "/opt/conda/lib/python3.7/site-packages/ipykernel_launcher.py:42: RuntimeWarning: invalid value encountered in long_scalars\n"
     ]
    },
    {
     "name": "stdout",
     "output_type": "stream",
     "text": [
      "=== rates === 0.00014\n"
     ]
    },
    {
     "name": "stderr",
     "output_type": "stream",
     "text": [
      "/opt/conda/lib/python3.7/site-packages/ipykernel_launcher.py:42: RuntimeWarning: invalid value encountered in long_scalars\n"
     ]
    },
    {
     "name": "stdout",
     "output_type": "stream",
     "text": [
      "=== rates === 0.00015000000000000001\n"
     ]
    },
    {
     "name": "stderr",
     "output_type": "stream",
     "text": [
      "/opt/conda/lib/python3.7/site-packages/ipykernel_launcher.py:42: RuntimeWarning: invalid value encountered in long_scalars\n"
     ]
    },
    {
     "name": "stdout",
     "output_type": "stream",
     "text": [
      "=== rates === 0.00015999999999999999\n"
     ]
    },
    {
     "name": "stderr",
     "output_type": "stream",
     "text": [
      "/opt/conda/lib/python3.7/site-packages/ipykernel_launcher.py:42: RuntimeWarning: invalid value encountered in long_scalars\n"
     ]
    },
    {
     "name": "stdout",
     "output_type": "stream",
     "text": [
      "=== rates === 0.00017\n"
     ]
    },
    {
     "name": "stderr",
     "output_type": "stream",
     "text": [
      "/opt/conda/lib/python3.7/site-packages/ipykernel_launcher.py:42: RuntimeWarning: invalid value encountered in long_scalars\n"
     ]
    },
    {
     "name": "stdout",
     "output_type": "stream",
     "text": [
      "=== rates === 0.00017999999999999998\n"
     ]
    },
    {
     "name": "stderr",
     "output_type": "stream",
     "text": [
      "/opt/conda/lib/python3.7/site-packages/ipykernel_launcher.py:42: RuntimeWarning: invalid value encountered in long_scalars\n"
     ]
    },
    {
     "name": "stdout",
     "output_type": "stream",
     "text": [
      "=== rates === 0.00019\n"
     ]
    },
    {
     "name": "stderr",
     "output_type": "stream",
     "text": [
      "/opt/conda/lib/python3.7/site-packages/ipykernel_launcher.py:42: RuntimeWarning: invalid value encountered in long_scalars\n"
     ]
    },
    {
     "name": "stdout",
     "output_type": "stream",
     "text": [
      "=== rates === 0.00019999999999999998\n"
     ]
    },
    {
     "name": "stderr",
     "output_type": "stream",
     "text": [
      "/opt/conda/lib/python3.7/site-packages/ipykernel_launcher.py:42: RuntimeWarning: invalid value encountered in long_scalars\n"
     ]
    },
    {
     "name": "stdout",
     "output_type": "stream",
     "text": [
      "=== rates === 0.00021\n"
     ]
    },
    {
     "name": "stderr",
     "output_type": "stream",
     "text": [
      "/opt/conda/lib/python3.7/site-packages/ipykernel_launcher.py:42: RuntimeWarning: invalid value encountered in long_scalars\n"
     ]
    },
    {
     "name": "stdout",
     "output_type": "stream",
     "text": [
      "=== rates === 0.00021999999999999998\n"
     ]
    },
    {
     "name": "stderr",
     "output_type": "stream",
     "text": [
      "/opt/conda/lib/python3.7/site-packages/ipykernel_launcher.py:42: RuntimeWarning: invalid value encountered in long_scalars\n"
     ]
    },
    {
     "name": "stdout",
     "output_type": "stream",
     "text": [
      "=== rates === 0.00023\n"
     ]
    },
    {
     "name": "stderr",
     "output_type": "stream",
     "text": [
      "/opt/conda/lib/python3.7/site-packages/ipykernel_launcher.py:42: RuntimeWarning: invalid value encountered in long_scalars\n"
     ]
    },
    {
     "name": "stdout",
     "output_type": "stream",
     "text": [
      "=== rates === 0.00023999999999999998\n"
     ]
    },
    {
     "name": "stderr",
     "output_type": "stream",
     "text": [
      "/opt/conda/lib/python3.7/site-packages/ipykernel_launcher.py:42: RuntimeWarning: invalid value encountered in long_scalars\n"
     ]
    },
    {
     "name": "stdout",
     "output_type": "stream",
     "text": [
      "=== rates === 0.00025\n"
     ]
    },
    {
     "name": "stderr",
     "output_type": "stream",
     "text": [
      "/opt/conda/lib/python3.7/site-packages/ipykernel_launcher.py:42: RuntimeWarning: invalid value encountered in long_scalars\n"
     ]
    },
    {
     "name": "stdout",
     "output_type": "stream",
     "text": [
      "=== rates === 0.00026\n"
     ]
    },
    {
     "name": "stderr",
     "output_type": "stream",
     "text": [
      "/opt/conda/lib/python3.7/site-packages/ipykernel_launcher.py:42: RuntimeWarning: invalid value encountered in long_scalars\n"
     ]
    },
    {
     "name": "stdout",
     "output_type": "stream",
     "text": [
      "=== rates === 0.00027\n"
     ]
    },
    {
     "name": "stderr",
     "output_type": "stream",
     "text": [
      "/opt/conda/lib/python3.7/site-packages/ipykernel_launcher.py:42: RuntimeWarning: invalid value encountered in long_scalars\n"
     ]
    },
    {
     "name": "stdout",
     "output_type": "stream",
     "text": [
      "=== rates === 0.00028\n"
     ]
    },
    {
     "name": "stderr",
     "output_type": "stream",
     "text": [
      "/opt/conda/lib/python3.7/site-packages/ipykernel_launcher.py:42: RuntimeWarning: invalid value encountered in long_scalars\n"
     ]
    },
    {
     "name": "stdout",
     "output_type": "stream",
     "text": [
      "=== rates === 0.00029\n",
      "=== best recall === 0.8831168831168831\n",
      "=== rates === 0.0003\n",
      "=== rates === 0.00031\n",
      "=== rates === 0.00031999999999999997\n",
      "=== rates === 0.00033\n",
      "=== rates === 0.00033999999999999997\n",
      "=== rates === 0.00035\n",
      "=== rates === 0.00035999999999999997\n",
      "=== rates === 0.00036999999999999994\n",
      "=== rates === 0.00037999999999999997\n",
      "=== rates === 0.00039\n",
      "=== rates === 0.00039999999999999996\n",
      "=== rates === 0.00040999999999999994\n",
      "=== rates === 0.00041999999999999996\n",
      "=== rates === 0.00043\n",
      "=== rates === 0.00043999999999999996\n",
      "=== rates === 0.00044999999999999993\n",
      "=== rates === 0.00045999999999999996\n",
      "=== rates === 0.00047\n",
      "=== rates === 0.00047999999999999996\n",
      "=== rates === 0.00049\n",
      "12/12 [==============================] - 0s 2ms/step - loss: 0.4315 - accuracy: 0.8067\n",
      "Accuracy: 80.6723\n",
      "Model: \"sequential_39\"\n",
      "_________________________________________________________________\n",
      "Layer (type)                 Output Shape              Param #   \n",
      "=================================================================\n",
      "flatten_39 (Flatten)         (None, 26)                0         \n",
      "_________________________________________________________________\n",
      "dense_210 (Dense)            (None, 45)                1215      \n",
      "_________________________________________________________________\n",
      "dense_211 (Dense)            (None, 45)                2070      \n",
      "_________________________________________________________________\n",
      "dense_212 (Dense)            (None, 45)                2070      \n",
      "_________________________________________________________________\n",
      "dense_213 (Dense)            (None, 2)                 92        \n",
      "=================================================================\n",
      "Total params: 5,447\n",
      "Trainable params: 5,447\n",
      "Non-trainable params: 0\n",
      "_________________________________________________________________\n",
      "None\n",
      "=== rates === 0.0001\n",
      "=== best recall === 0.38375350140056025\n",
      "=== rates === 0.00011\n"
     ]
    },
    {
     "name": "stderr",
     "output_type": "stream",
     "text": [
      "/opt/conda/lib/python3.7/site-packages/ipykernel_launcher.py:42: RuntimeWarning: invalid value encountered in long_scalars\n"
     ]
    },
    {
     "name": "stdout",
     "output_type": "stream",
     "text": [
      "=== rates === 0.00012\n"
     ]
    },
    {
     "name": "stderr",
     "output_type": "stream",
     "text": [
      "/opt/conda/lib/python3.7/site-packages/ipykernel_launcher.py:42: RuntimeWarning: invalid value encountered in long_scalars\n"
     ]
    },
    {
     "name": "stdout",
     "output_type": "stream",
     "text": [
      "=== rates === 0.00013000000000000002\n"
     ]
    },
    {
     "name": "stderr",
     "output_type": "stream",
     "text": [
      "/opt/conda/lib/python3.7/site-packages/ipykernel_launcher.py:42: RuntimeWarning: invalid value encountered in long_scalars\n"
     ]
    },
    {
     "name": "stdout",
     "output_type": "stream",
     "text": [
      "=== rates === 0.00014\n"
     ]
    },
    {
     "name": "stderr",
     "output_type": "stream",
     "text": [
      "/opt/conda/lib/python3.7/site-packages/ipykernel_launcher.py:42: RuntimeWarning: invalid value encountered in long_scalars\n"
     ]
    },
    {
     "name": "stdout",
     "output_type": "stream",
     "text": [
      "=== rates === 0.00015000000000000001\n"
     ]
    },
    {
     "name": "stderr",
     "output_type": "stream",
     "text": [
      "/opt/conda/lib/python3.7/site-packages/ipykernel_launcher.py:42: RuntimeWarning: invalid value encountered in long_scalars\n"
     ]
    },
    {
     "name": "stdout",
     "output_type": "stream",
     "text": [
      "=== rates === 0.00015999999999999999\n"
     ]
    },
    {
     "name": "stderr",
     "output_type": "stream",
     "text": [
      "/opt/conda/lib/python3.7/site-packages/ipykernel_launcher.py:42: RuntimeWarning: invalid value encountered in long_scalars\n"
     ]
    },
    {
     "name": "stdout",
     "output_type": "stream",
     "text": [
      "=== rates === 0.00017\n"
     ]
    },
    {
     "name": "stderr",
     "output_type": "stream",
     "text": [
      "/opt/conda/lib/python3.7/site-packages/ipykernel_launcher.py:42: RuntimeWarning: invalid value encountered in long_scalars\n"
     ]
    },
    {
     "name": "stdout",
     "output_type": "stream",
     "text": [
      "=== rates === 0.00017999999999999998\n"
     ]
    },
    {
     "name": "stderr",
     "output_type": "stream",
     "text": [
      "/opt/conda/lib/python3.7/site-packages/ipykernel_launcher.py:42: RuntimeWarning: invalid value encountered in long_scalars\n"
     ]
    },
    {
     "name": "stdout",
     "output_type": "stream",
     "text": [
      "=== rates === 0.00019\n",
      "=== best recall === 0.9259259259259259\n",
      "=== rates === 0.00019999999999999998\n",
      "=== rates === 0.00021\n",
      "=== rates === 0.00021999999999999998\n",
      "=== rates === 0.00023\n",
      "=== rates === 0.00023999999999999998\n",
      "=== rates === 0.00025\n",
      "=== rates === 0.00026\n",
      "=== rates === 0.00027\n",
      "=== rates === 0.00028\n",
      "=== rates === 0.00029\n",
      "=== rates === 0.0003\n",
      "=== rates === 0.00031\n",
      "=== rates === 0.00031999999999999997\n",
      "=== rates === 0.00033\n",
      "=== rates === 0.00033999999999999997\n",
      "=== rates === 0.00035\n",
      "=== rates === 0.00035999999999999997\n",
      "=== rates === 0.00036999999999999994\n",
      "=== rates === 0.00037999999999999997\n",
      "=== rates === 0.00039\n",
      "=== rates === 0.00039999999999999996\n",
      "=== rates === 0.00040999999999999994\n",
      "=== rates === 0.00041999999999999996\n",
      "=== rates === 0.00043\n",
      "=== rates === 0.00043999999999999996\n",
      "=== rates === 0.00044999999999999993\n",
      "=== rates === 0.00045999999999999996\n",
      "=== rates === 0.00047\n",
      "=== rates === 0.00047999999999999996\n",
      "=== rates === 0.00049\n",
      "12/12 [==============================] - 0s 3ms/step - loss: 0.4305 - accuracy: 0.8207\n",
      "Accuracy: 82.0728\n",
      "Model: \"sequential_40\"\n",
      "_________________________________________________________________\n",
      "Layer (type)                 Output Shape              Param #   \n",
      "=================================================================\n",
      "flatten_40 (Flatten)         (None, 26)                0         \n",
      "_________________________________________________________________\n",
      "dense_214 (Dense)            (None, 37)                999       \n",
      "_________________________________________________________________\n",
      "dense_215 (Dense)            (None, 37)                1406      \n",
      "_________________________________________________________________\n",
      "dense_216 (Dense)            (None, 37)                1406      \n",
      "_________________________________________________________________\n",
      "dense_217 (Dense)            (None, 37)                1406      \n",
      "_________________________________________________________________\n",
      "dense_218 (Dense)            (None, 37)                1406      \n",
      "_________________________________________________________________\n",
      "dense_219 (Dense)            (None, 37)                1406      \n",
      "_________________________________________________________________\n",
      "dense_220 (Dense)            (None, 2)                 76        \n",
      "=================================================================\n",
      "Total params: 8,105\n",
      "Trainable params: 8,105\n",
      "Non-trainable params: 0\n",
      "_________________________________________________________________\n",
      "None\n",
      "=== rates === 0.0001\n",
      "=== best recall === 0.38375350140056025\n",
      "=== rates === 0.00011\n"
     ]
    },
    {
     "name": "stderr",
     "output_type": "stream",
     "text": [
      "/opt/conda/lib/python3.7/site-packages/ipykernel_launcher.py:42: RuntimeWarning: invalid value encountered in long_scalars\n"
     ]
    },
    {
     "name": "stdout",
     "output_type": "stream",
     "text": [
      "=== rates === 0.00012\n"
     ]
    },
    {
     "name": "stderr",
     "output_type": "stream",
     "text": [
      "/opt/conda/lib/python3.7/site-packages/ipykernel_launcher.py:42: RuntimeWarning: invalid value encountered in long_scalars\n"
     ]
    },
    {
     "name": "stdout",
     "output_type": "stream",
     "text": [
      "=== rates === 0.00013000000000000002\n"
     ]
    },
    {
     "name": "stderr",
     "output_type": "stream",
     "text": [
      "/opt/conda/lib/python3.7/site-packages/ipykernel_launcher.py:42: RuntimeWarning: invalid value encountered in long_scalars\n"
     ]
    },
    {
     "name": "stdout",
     "output_type": "stream",
     "text": [
      "=== rates === 0.00014\n"
     ]
    },
    {
     "name": "stderr",
     "output_type": "stream",
     "text": [
      "/opt/conda/lib/python3.7/site-packages/ipykernel_launcher.py:42: RuntimeWarning: invalid value encountered in long_scalars\n"
     ]
    },
    {
     "name": "stdout",
     "output_type": "stream",
     "text": [
      "=== rates === 0.00015000000000000001\n"
     ]
    },
    {
     "name": "stderr",
     "output_type": "stream",
     "text": [
      "/opt/conda/lib/python3.7/site-packages/ipykernel_launcher.py:42: RuntimeWarning: invalid value encountered in long_scalars\n"
     ]
    },
    {
     "name": "stdout",
     "output_type": "stream",
     "text": [
      "=== rates === 0.00015999999999999999\n"
     ]
    },
    {
     "name": "stderr",
     "output_type": "stream",
     "text": [
      "/opt/conda/lib/python3.7/site-packages/ipykernel_launcher.py:42: RuntimeWarning: invalid value encountered in long_scalars\n"
     ]
    },
    {
     "name": "stdout",
     "output_type": "stream",
     "text": [
      "=== rates === 0.00017\n"
     ]
    },
    {
     "name": "stderr",
     "output_type": "stream",
     "text": [
      "/opt/conda/lib/python3.7/site-packages/ipykernel_launcher.py:42: RuntimeWarning: invalid value encountered in long_scalars\n"
     ]
    },
    {
     "name": "stdout",
     "output_type": "stream",
     "text": [
      "=== rates === 0.00017999999999999998\n"
     ]
    },
    {
     "name": "stderr",
     "output_type": "stream",
     "text": [
      "/opt/conda/lib/python3.7/site-packages/ipykernel_launcher.py:42: RuntimeWarning: invalid value encountered in long_scalars\n"
     ]
    },
    {
     "name": "stdout",
     "output_type": "stream",
     "text": [
      "=== rates === 0.00019\n"
     ]
    },
    {
     "name": "stderr",
     "output_type": "stream",
     "text": [
      "/opt/conda/lib/python3.7/site-packages/ipykernel_launcher.py:42: RuntimeWarning: invalid value encountered in long_scalars\n"
     ]
    },
    {
     "name": "stdout",
     "output_type": "stream",
     "text": [
      "=== rates === 0.00019999999999999998\n"
     ]
    },
    {
     "name": "stderr",
     "output_type": "stream",
     "text": [
      "/opt/conda/lib/python3.7/site-packages/ipykernel_launcher.py:42: RuntimeWarning: invalid value encountered in long_scalars\n"
     ]
    },
    {
     "name": "stdout",
     "output_type": "stream",
     "text": [
      "=== rates === 0.00021\n"
     ]
    },
    {
     "name": "stderr",
     "output_type": "stream",
     "text": [
      "/opt/conda/lib/python3.7/site-packages/ipykernel_launcher.py:42: RuntimeWarning: invalid value encountered in long_scalars\n"
     ]
    },
    {
     "name": "stdout",
     "output_type": "stream",
     "text": [
      "=== rates === 0.00021999999999999998\n"
     ]
    },
    {
     "name": "stderr",
     "output_type": "stream",
     "text": [
      "/opt/conda/lib/python3.7/site-packages/ipykernel_launcher.py:42: RuntimeWarning: invalid value encountered in long_scalars\n"
     ]
    },
    {
     "name": "stdout",
     "output_type": "stream",
     "text": [
      "=== rates === 0.00023\n"
     ]
    },
    {
     "name": "stderr",
     "output_type": "stream",
     "text": [
      "/opt/conda/lib/python3.7/site-packages/ipykernel_launcher.py:42: RuntimeWarning: invalid value encountered in long_scalars\n"
     ]
    },
    {
     "name": "stdout",
     "output_type": "stream",
     "text": [
      "=== rates === 0.00023999999999999998\n"
     ]
    },
    {
     "name": "stderr",
     "output_type": "stream",
     "text": [
      "/opt/conda/lib/python3.7/site-packages/ipykernel_launcher.py:42: RuntimeWarning: invalid value encountered in long_scalars\n"
     ]
    },
    {
     "name": "stdout",
     "output_type": "stream",
     "text": [
      "=== rates === 0.00025\n",
      "=== best recall === 0.8315789473684211\n",
      "=== rates === 0.00026\n",
      "=== rates === 0.00027\n",
      "=== rates === 0.00028\n",
      "=== rates === 0.00029\n",
      "=== rates === 0.0003\n",
      "=== rates === 0.00031\n",
      "=== rates === 0.00031999999999999997\n",
      "=== best recall === 0.8365384615384616\n",
      "=== rates === 0.00033\n",
      "=== best recall === 0.8645833333333334\n",
      "=== rates === 0.00033999999999999997\n",
      "=== rates === 0.00035\n",
      "=== best recall === 0.8686868686868687\n",
      "=== rates === 0.00035999999999999997\n",
      "=== rates === 0.00036999999999999994\n",
      "=== rates === 0.00037999999999999997\n",
      "=== rates === 0.00039\n",
      "=== best recall === 0.8829787234042553\n",
      "=== rates === 0.00039999999999999996\n",
      "=== best recall === 0.8924731182795699\n",
      "=== rates === 0.00040999999999999994\n",
      "=== rates === 0.00041999999999999996\n",
      "=== rates === 0.00043\n",
      "=== rates === 0.00043999999999999996\n",
      "=== rates === 0.00044999999999999993\n",
      "=== rates === 0.00045999999999999996\n",
      "=== rates === 0.00047\n",
      "=== rates === 0.00047999999999999996\n",
      "=== rates === 0.00049\n",
      "12/12 [==============================] - 0s 3ms/step - loss: 0.4374 - accuracy: 0.8151\n",
      "Accuracy: 81.5126\n",
      "Model: \"sequential_41\"\n",
      "_________________________________________________________________\n",
      "Layer (type)                 Output Shape              Param #   \n",
      "=================================================================\n",
      "flatten_41 (Flatten)         (None, 26)                0         \n",
      "_________________________________________________________________\n",
      "dense_221 (Dense)            (None, 47)                1269      \n",
      "_________________________________________________________________\n",
      "dense_222 (Dense)            (None, 47)                2256      \n",
      "_________________________________________________________________\n",
      "dense_223 (Dense)            (None, 47)                2256      \n",
      "_________________________________________________________________\n",
      "dense_224 (Dense)            (None, 47)                2256      \n",
      "_________________________________________________________________\n",
      "dense_225 (Dense)            (None, 47)                2256      \n",
      "_________________________________________________________________\n",
      "dense_226 (Dense)            (None, 47)                2256      \n",
      "_________________________________________________________________\n",
      "dense_227 (Dense)            (None, 47)                2256      \n",
      "_________________________________________________________________\n",
      "dense_228 (Dense)            (None, 47)                2256      \n",
      "_________________________________________________________________\n",
      "dense_229 (Dense)            (None, 2)                 96        \n",
      "=================================================================\n",
      "Total params: 17,157\n",
      "Trainable params: 17,157\n",
      "Non-trainable params: 0\n",
      "_________________________________________________________________\n",
      "None\n",
      "=== rates === 0.0001\n"
     ]
    },
    {
     "name": "stderr",
     "output_type": "stream",
     "text": [
      "/opt/conda/lib/python3.7/site-packages/ipykernel_launcher.py:42: RuntimeWarning: invalid value encountered in long_scalars\n"
     ]
    },
    {
     "name": "stdout",
     "output_type": "stream",
     "text": [
      "=== rates === 0.00011\n"
     ]
    },
    {
     "name": "stderr",
     "output_type": "stream",
     "text": [
      "/opt/conda/lib/python3.7/site-packages/ipykernel_launcher.py:42: RuntimeWarning: invalid value encountered in long_scalars\n"
     ]
    },
    {
     "name": "stdout",
     "output_type": "stream",
     "text": [
      "=== rates === 0.00012\n"
     ]
    },
    {
     "name": "stderr",
     "output_type": "stream",
     "text": [
      "/opt/conda/lib/python3.7/site-packages/ipykernel_launcher.py:42: RuntimeWarning: invalid value encountered in long_scalars\n"
     ]
    },
    {
     "name": "stdout",
     "output_type": "stream",
     "text": [
      "=== rates === 0.00013000000000000002\n"
     ]
    },
    {
     "name": "stderr",
     "output_type": "stream",
     "text": [
      "/opt/conda/lib/python3.7/site-packages/ipykernel_launcher.py:42: RuntimeWarning: invalid value encountered in long_scalars\n"
     ]
    },
    {
     "name": "stdout",
     "output_type": "stream",
     "text": [
      "=== rates === 0.00014\n"
     ]
    },
    {
     "name": "stderr",
     "output_type": "stream",
     "text": [
      "/opt/conda/lib/python3.7/site-packages/ipykernel_launcher.py:42: RuntimeWarning: invalid value encountered in long_scalars\n"
     ]
    },
    {
     "name": "stdout",
     "output_type": "stream",
     "text": [
      "=== rates === 0.00015000000000000001\n"
     ]
    },
    {
     "name": "stderr",
     "output_type": "stream",
     "text": [
      "/opt/conda/lib/python3.7/site-packages/ipykernel_launcher.py:42: RuntimeWarning: invalid value encountered in long_scalars\n"
     ]
    },
    {
     "name": "stdout",
     "output_type": "stream",
     "text": [
      "=== rates === 0.00015999999999999999\n"
     ]
    },
    {
     "name": "stderr",
     "output_type": "stream",
     "text": [
      "/opt/conda/lib/python3.7/site-packages/ipykernel_launcher.py:42: RuntimeWarning: invalid value encountered in long_scalars\n"
     ]
    },
    {
     "name": "stdout",
     "output_type": "stream",
     "text": [
      "=== rates === 0.00017\n"
     ]
    },
    {
     "name": "stderr",
     "output_type": "stream",
     "text": [
      "/opt/conda/lib/python3.7/site-packages/ipykernel_launcher.py:42: RuntimeWarning: invalid value encountered in long_scalars\n"
     ]
    },
    {
     "name": "stdout",
     "output_type": "stream",
     "text": [
      "=== rates === 0.00017999999999999998\n"
     ]
    },
    {
     "name": "stderr",
     "output_type": "stream",
     "text": [
      "/opt/conda/lib/python3.7/site-packages/ipykernel_launcher.py:42: RuntimeWarning: invalid value encountered in long_scalars\n"
     ]
    },
    {
     "name": "stdout",
     "output_type": "stream",
     "text": [
      "=== rates === 0.00019\n"
     ]
    },
    {
     "name": "stderr",
     "output_type": "stream",
     "text": [
      "/opt/conda/lib/python3.7/site-packages/ipykernel_launcher.py:42: RuntimeWarning: invalid value encountered in long_scalars\n"
     ]
    },
    {
     "name": "stdout",
     "output_type": "stream",
     "text": [
      "=== rates === 0.00019999999999999998\n"
     ]
    },
    {
     "name": "stderr",
     "output_type": "stream",
     "text": [
      "/opt/conda/lib/python3.7/site-packages/ipykernel_launcher.py:42: RuntimeWarning: invalid value encountered in long_scalars\n"
     ]
    },
    {
     "name": "stdout",
     "output_type": "stream",
     "text": [
      "=== rates === 0.00021\n"
     ]
    },
    {
     "name": "stderr",
     "output_type": "stream",
     "text": [
      "/opt/conda/lib/python3.7/site-packages/ipykernel_launcher.py:42: RuntimeWarning: invalid value encountered in long_scalars\n"
     ]
    },
    {
     "name": "stdout",
     "output_type": "stream",
     "text": [
      "=== rates === 0.00021999999999999998\n"
     ]
    },
    {
     "name": "stderr",
     "output_type": "stream",
     "text": [
      "/opt/conda/lib/python3.7/site-packages/ipykernel_launcher.py:42: RuntimeWarning: invalid value encountered in long_scalars\n"
     ]
    },
    {
     "name": "stdout",
     "output_type": "stream",
     "text": [
      "=== rates === 0.00023\n"
     ]
    },
    {
     "name": "stderr",
     "output_type": "stream",
     "text": [
      "/opt/conda/lib/python3.7/site-packages/ipykernel_launcher.py:42: RuntimeWarning: invalid value encountered in long_scalars\n"
     ]
    },
    {
     "name": "stdout",
     "output_type": "stream",
     "text": [
      "=== rates === 0.00023999999999999998\n"
     ]
    },
    {
     "name": "stderr",
     "output_type": "stream",
     "text": [
      "/opt/conda/lib/python3.7/site-packages/ipykernel_launcher.py:42: RuntimeWarning: invalid value encountered in long_scalars\n"
     ]
    },
    {
     "name": "stdout",
     "output_type": "stream",
     "text": [
      "=== rates === 0.00025\n"
     ]
    },
    {
     "name": "stderr",
     "output_type": "stream",
     "text": [
      "/opt/conda/lib/python3.7/site-packages/ipykernel_launcher.py:42: RuntimeWarning: invalid value encountered in long_scalars\n"
     ]
    },
    {
     "name": "stdout",
     "output_type": "stream",
     "text": [
      "=== rates === 0.00026\n",
      "=== best recall === 0.7603305785123967\n",
      "=== rates === 0.00027\n",
      "=== rates === 0.00028\n",
      "=== rates === 0.00029\n",
      "=== rates === 0.0003\n",
      "=== best recall === 0.7796610169491526\n",
      "=== rates === 0.00031\n",
      "=== rates === 0.00031999999999999997\n",
      "=== best recall === 0.7913043478260869\n",
      "=== rates === 0.00033\n",
      "=== best recall === 0.8035714285714286\n",
      "=== rates === 0.00033999999999999997\n",
      "=== best recall === 0.8365384615384616\n",
      "=== rates === 0.00035\n",
      "=== best recall === 0.8514851485148515\n",
      "=== rates === 0.00035999999999999997\n",
      "=== best recall === 0.86\n",
      "=== rates === 0.00036999999999999994\n",
      "=== rates === 0.00037999999999999997\n",
      "=== rates === 0.00039\n",
      "=== best recall === 0.8602150537634409\n",
      "=== rates === 0.00039999999999999996\n",
      "=== rates === 0.00040999999999999994\n",
      "=== best recall === 0.8666666666666667\n",
      "=== rates === 0.00041999999999999996\n",
      "=== rates === 0.00043\n",
      "=== rates === 0.00043999999999999996\n",
      "=== best recall === 0.8863636363636364\n",
      "=== rates === 0.00044999999999999993\n",
      "=== rates === 0.00045999999999999996\n",
      "=== rates === 0.00047\n",
      "=== rates === 0.00047999999999999996\n",
      "=== rates === 0.00049\n",
      "12/12 [==============================] - 0s 3ms/step - loss: 0.4458 - accuracy: 0.8095\n",
      "Accuracy: 80.9524\n",
      "Model: \"sequential_42\"\n",
      "_________________________________________________________________\n",
      "Layer (type)                 Output Shape              Param #   \n",
      "=================================================================\n",
      "flatten_42 (Flatten)         (None, 26)                0         \n",
      "_________________________________________________________________\n",
      "dense_230 (Dense)            (None, 33)                891       \n",
      "_________________________________________________________________\n",
      "dense_231 (Dense)            (None, 33)                1122      \n",
      "_________________________________________________________________\n",
      "dense_232 (Dense)            (None, 33)                1122      \n",
      "_________________________________________________________________\n",
      "dense_233 (Dense)            (None, 2)                 68        \n",
      "=================================================================\n",
      "Total params: 3,203\n",
      "Trainable params: 3,203\n",
      "Non-trainable params: 0\n",
      "_________________________________________________________________\n",
      "None\n",
      "=== rates === 0.0001\n"
     ]
    },
    {
     "name": "stderr",
     "output_type": "stream",
     "text": [
      "/opt/conda/lib/python3.7/site-packages/ipykernel_launcher.py:42: RuntimeWarning: invalid value encountered in long_scalars\n"
     ]
    },
    {
     "name": "stdout",
     "output_type": "stream",
     "text": [
      "=== rates === 0.00011\n"
     ]
    },
    {
     "name": "stderr",
     "output_type": "stream",
     "text": [
      "/opt/conda/lib/python3.7/site-packages/ipykernel_launcher.py:42: RuntimeWarning: invalid value encountered in long_scalars\n"
     ]
    },
    {
     "name": "stdout",
     "output_type": "stream",
     "text": [
      "=== rates === 0.00012\n"
     ]
    },
    {
     "name": "stderr",
     "output_type": "stream",
     "text": [
      "/opt/conda/lib/python3.7/site-packages/ipykernel_launcher.py:42: RuntimeWarning: invalid value encountered in long_scalars\n"
     ]
    },
    {
     "name": "stdout",
     "output_type": "stream",
     "text": [
      "=== rates === 0.00013000000000000002\n"
     ]
    },
    {
     "name": "stderr",
     "output_type": "stream",
     "text": [
      "/opt/conda/lib/python3.7/site-packages/ipykernel_launcher.py:42: RuntimeWarning: invalid value encountered in long_scalars\n"
     ]
    },
    {
     "name": "stdout",
     "output_type": "stream",
     "text": [
      "=== rates === 0.00014\n"
     ]
    },
    {
     "name": "stderr",
     "output_type": "stream",
     "text": [
      "/opt/conda/lib/python3.7/site-packages/ipykernel_launcher.py:42: RuntimeWarning: invalid value encountered in long_scalars\n"
     ]
    },
    {
     "name": "stdout",
     "output_type": "stream",
     "text": [
      "=== rates === 0.00015000000000000001\n"
     ]
    },
    {
     "name": "stderr",
     "output_type": "stream",
     "text": [
      "/opt/conda/lib/python3.7/site-packages/ipykernel_launcher.py:42: RuntimeWarning: invalid value encountered in long_scalars\n"
     ]
    },
    {
     "name": "stdout",
     "output_type": "stream",
     "text": [
      "=== rates === 0.00015999999999999999\n"
     ]
    },
    {
     "name": "stderr",
     "output_type": "stream",
     "text": [
      "/opt/conda/lib/python3.7/site-packages/ipykernel_launcher.py:42: RuntimeWarning: invalid value encountered in long_scalars\n"
     ]
    },
    {
     "name": "stdout",
     "output_type": "stream",
     "text": [
      "=== rates === 0.00017\n"
     ]
    },
    {
     "name": "stderr",
     "output_type": "stream",
     "text": [
      "/opt/conda/lib/python3.7/site-packages/ipykernel_launcher.py:42: RuntimeWarning: invalid value encountered in long_scalars\n"
     ]
    },
    {
     "name": "stdout",
     "output_type": "stream",
     "text": [
      "=== rates === 0.00017999999999999998\n"
     ]
    },
    {
     "name": "stderr",
     "output_type": "stream",
     "text": [
      "/opt/conda/lib/python3.7/site-packages/ipykernel_launcher.py:42: RuntimeWarning: invalid value encountered in long_scalars\n"
     ]
    },
    {
     "name": "stdout",
     "output_type": "stream",
     "text": [
      "=== rates === 0.00019\n",
      "=== best recall === 1.0\n",
      "=== rates === 0.00019999999999999998\n",
      "=== rates === 0.00021\n",
      "=== rates === 0.00021999999999999998\n",
      "=== rates === 0.00023\n",
      "=== rates === 0.00023999999999999998\n",
      "=== rates === 0.00025\n",
      "=== rates === 0.00026\n",
      "=== rates === 0.00027\n",
      "=== rates === 0.00028\n",
      "=== rates === 0.00029\n",
      "=== rates === 0.0003\n",
      "=== rates === 0.00031\n",
      "=== rates === 0.00031999999999999997\n",
      "=== rates === 0.00033\n",
      "=== rates === 0.00033999999999999997\n",
      "=== rates === 0.00035\n",
      "=== rates === 0.00035999999999999997\n",
      "=== rates === 0.00036999999999999994\n",
      "=== rates === 0.00037999999999999997\n",
      "=== rates === 0.00039\n",
      "=== rates === 0.00039999999999999996\n",
      "=== rates === 0.00040999999999999994\n",
      "=== rates === 0.00041999999999999996\n",
      "=== rates === 0.00043\n",
      "=== rates === 0.00043999999999999996\n",
      "=== rates === 0.00044999999999999993\n",
      "=== rates === 0.00045999999999999996\n",
      "=== rates === 0.00047\n",
      "=== rates === 0.00047999999999999996\n",
      "=== rates === 0.00049\n",
      "12/12 [==============================] - 0s 2ms/step - loss: 0.4334 - accuracy: 0.8263\n",
      "Accuracy: 82.6331\n",
      "=== best recall overall === 0.8947368421052632\n",
      "Model: \"sequential_43\"\n",
      "_________________________________________________________________\n",
      "Layer (type)                 Output Shape              Param #   \n",
      "=================================================================\n",
      "flatten_43 (Flatten)         (None, 26)                0         \n",
      "_________________________________________________________________\n",
      "dense_234 (Dense)            (None, 32)                864       \n",
      "_________________________________________________________________\n",
      "dense_235 (Dense)            (None, 32)                1056      \n",
      "_________________________________________________________________\n",
      "dense_236 (Dense)            (None, 32)                1056      \n",
      "_________________________________________________________________\n",
      "dense_237 (Dense)            (None, 32)                1056      \n",
      "_________________________________________________________________\n",
      "dense_238 (Dense)            (None, 32)                1056      \n",
      "_________________________________________________________________\n",
      "dense_239 (Dense)            (None, 32)                1056      \n",
      "_________________________________________________________________\n",
      "dense_240 (Dense)            (None, 32)                1056      \n",
      "_________________________________________________________________\n",
      "dense_241 (Dense)            (None, 32)                1056      \n",
      "_________________________________________________________________\n",
      "dense_242 (Dense)            (None, 2)                 66        \n",
      "=================================================================\n",
      "Total params: 8,322\n",
      "Trainable params: 8,322\n",
      "Non-trainable params: 0\n",
      "_________________________________________________________________\n",
      "None\n",
      "=== rates === 0.0001\n",
      "=== best recall === 0.38375350140056025\n",
      "=== rates === 0.00011\n"
     ]
    },
    {
     "name": "stderr",
     "output_type": "stream",
     "text": [
      "/opt/conda/lib/python3.7/site-packages/ipykernel_launcher.py:42: RuntimeWarning: invalid value encountered in long_scalars\n"
     ]
    },
    {
     "name": "stdout",
     "output_type": "stream",
     "text": [
      "=== rates === 0.00012\n"
     ]
    },
    {
     "name": "stderr",
     "output_type": "stream",
     "text": [
      "/opt/conda/lib/python3.7/site-packages/ipykernel_launcher.py:42: RuntimeWarning: invalid value encountered in long_scalars\n"
     ]
    },
    {
     "name": "stdout",
     "output_type": "stream",
     "text": [
      "=== rates === 0.00013000000000000002\n"
     ]
    },
    {
     "name": "stderr",
     "output_type": "stream",
     "text": [
      "/opt/conda/lib/python3.7/site-packages/ipykernel_launcher.py:42: RuntimeWarning: invalid value encountered in long_scalars\n"
     ]
    },
    {
     "name": "stdout",
     "output_type": "stream",
     "text": [
      "=== rates === 0.00014\n"
     ]
    },
    {
     "name": "stderr",
     "output_type": "stream",
     "text": [
      "/opt/conda/lib/python3.7/site-packages/ipykernel_launcher.py:42: RuntimeWarning: invalid value encountered in long_scalars\n"
     ]
    },
    {
     "name": "stdout",
     "output_type": "stream",
     "text": [
      "=== rates === 0.00015000000000000001\n"
     ]
    },
    {
     "name": "stderr",
     "output_type": "stream",
     "text": [
      "/opt/conda/lib/python3.7/site-packages/ipykernel_launcher.py:42: RuntimeWarning: invalid value encountered in long_scalars\n"
     ]
    },
    {
     "name": "stdout",
     "output_type": "stream",
     "text": [
      "=== rates === 0.00015999999999999999\n"
     ]
    },
    {
     "name": "stderr",
     "output_type": "stream",
     "text": [
      "/opt/conda/lib/python3.7/site-packages/ipykernel_launcher.py:42: RuntimeWarning: invalid value encountered in long_scalars\n"
     ]
    },
    {
     "name": "stdout",
     "output_type": "stream",
     "text": [
      "=== rates === 0.00017\n"
     ]
    },
    {
     "name": "stderr",
     "output_type": "stream",
     "text": [
      "/opt/conda/lib/python3.7/site-packages/ipykernel_launcher.py:42: RuntimeWarning: invalid value encountered in long_scalars\n"
     ]
    },
    {
     "name": "stdout",
     "output_type": "stream",
     "text": [
      "=== rates === 0.00017999999999999998\n"
     ]
    },
    {
     "name": "stderr",
     "output_type": "stream",
     "text": [
      "/opt/conda/lib/python3.7/site-packages/ipykernel_launcher.py:42: RuntimeWarning: invalid value encountered in long_scalars\n"
     ]
    },
    {
     "name": "stdout",
     "output_type": "stream",
     "text": [
      "=== rates === 0.00019\n"
     ]
    },
    {
     "name": "stderr",
     "output_type": "stream",
     "text": [
      "/opt/conda/lib/python3.7/site-packages/ipykernel_launcher.py:42: RuntimeWarning: invalid value encountered in long_scalars\n"
     ]
    },
    {
     "name": "stdout",
     "output_type": "stream",
     "text": [
      "=== rates === 0.00019999999999999998\n"
     ]
    },
    {
     "name": "stderr",
     "output_type": "stream",
     "text": [
      "/opt/conda/lib/python3.7/site-packages/ipykernel_launcher.py:42: RuntimeWarning: invalid value encountered in long_scalars\n"
     ]
    },
    {
     "name": "stdout",
     "output_type": "stream",
     "text": [
      "=== rates === 0.00021\n"
     ]
    },
    {
     "name": "stderr",
     "output_type": "stream",
     "text": [
      "/opt/conda/lib/python3.7/site-packages/ipykernel_launcher.py:42: RuntimeWarning: invalid value encountered in long_scalars\n"
     ]
    },
    {
     "name": "stdout",
     "output_type": "stream",
     "text": [
      "=== rates === 0.00021999999999999998\n"
     ]
    },
    {
     "name": "stderr",
     "output_type": "stream",
     "text": [
      "/opt/conda/lib/python3.7/site-packages/ipykernel_launcher.py:42: RuntimeWarning: invalid value encountered in long_scalars\n"
     ]
    },
    {
     "name": "stdout",
     "output_type": "stream",
     "text": [
      "=== rates === 0.00023\n"
     ]
    },
    {
     "name": "stderr",
     "output_type": "stream",
     "text": [
      "/opt/conda/lib/python3.7/site-packages/ipykernel_launcher.py:42: RuntimeWarning: invalid value encountered in long_scalars\n"
     ]
    },
    {
     "name": "stdout",
     "output_type": "stream",
     "text": [
      "=== rates === 0.00023999999999999998\n"
     ]
    },
    {
     "name": "stderr",
     "output_type": "stream",
     "text": [
      "/opt/conda/lib/python3.7/site-packages/ipykernel_launcher.py:42: RuntimeWarning: invalid value encountered in long_scalars\n"
     ]
    },
    {
     "name": "stdout",
     "output_type": "stream",
     "text": [
      "=== rates === 0.00025\n"
     ]
    },
    {
     "name": "stderr",
     "output_type": "stream",
     "text": [
      "/opt/conda/lib/python3.7/site-packages/ipykernel_launcher.py:42: RuntimeWarning: invalid value encountered in long_scalars\n"
     ]
    },
    {
     "name": "stdout",
     "output_type": "stream",
     "text": [
      "=== rates === 0.00026\n"
     ]
    },
    {
     "name": "stderr",
     "output_type": "stream",
     "text": [
      "/opt/conda/lib/python3.7/site-packages/ipykernel_launcher.py:42: RuntimeWarning: invalid value encountered in long_scalars\n"
     ]
    },
    {
     "name": "stdout",
     "output_type": "stream",
     "text": [
      "=== rates === 0.00027\n"
     ]
    },
    {
     "name": "stderr",
     "output_type": "stream",
     "text": [
      "/opt/conda/lib/python3.7/site-packages/ipykernel_launcher.py:42: RuntimeWarning: invalid value encountered in long_scalars\n"
     ]
    },
    {
     "name": "stdout",
     "output_type": "stream",
     "text": [
      "=== rates === 0.00028\n"
     ]
    },
    {
     "name": "stderr",
     "output_type": "stream",
     "text": [
      "/opt/conda/lib/python3.7/site-packages/ipykernel_launcher.py:42: RuntimeWarning: invalid value encountered in long_scalars\n"
     ]
    },
    {
     "name": "stdout",
     "output_type": "stream",
     "text": [
      "=== rates === 0.00029\n"
     ]
    },
    {
     "name": "stderr",
     "output_type": "stream",
     "text": [
      "/opt/conda/lib/python3.7/site-packages/ipykernel_launcher.py:42: RuntimeWarning: invalid value encountered in long_scalars\n"
     ]
    },
    {
     "name": "stdout",
     "output_type": "stream",
     "text": [
      "=== rates === 0.0003\n",
      "=== best recall === 0.7480314960629921\n",
      "=== rates === 0.00031\n",
      "=== rates === 0.00031999999999999997\n",
      "=== rates === 0.00033\n",
      "=== rates === 0.00033999999999999997\n",
      "=== best recall === 0.7538461538461538\n",
      "=== rates === 0.00035\n",
      "=== rates === 0.00035999999999999997\n",
      "=== rates === 0.00036999999999999994\n",
      "=== rates === 0.00037999999999999997\n",
      "=== rates === 0.00039\n",
      "=== best recall === 0.768595041322314\n",
      "=== rates === 0.00039999999999999996\n",
      "=== best recall === 0.775\n",
      "=== rates === 0.00040999999999999994\n",
      "=== best recall === 0.7815126050420168\n",
      "=== rates === 0.00041999999999999996\n",
      "=== best recall === 0.7982456140350878\n",
      "=== rates === 0.00043\n",
      "=== best recall === 0.8125\n",
      "=== rates === 0.00043999999999999996\n",
      "=== rates === 0.00044999999999999993\n",
      "=== rates === 0.00045999999999999996\n",
      "=== rates === 0.00047\n",
      "=== best recall === 0.8272727272727273\n",
      "=== rates === 0.00047999999999999996\n",
      "=== best recall === 0.8333333333333334\n",
      "=== rates === 0.00049\n",
      "=== best recall === 0.8421052631578947\n",
      "12/12 [==============================] - 0s 3ms/step - loss: 0.4417 - accuracy: 0.8067\n",
      "Accuracy: 80.6723\n",
      "Model: \"sequential_44\"\n",
      "_________________________________________________________________\n",
      "Layer (type)                 Output Shape              Param #   \n",
      "=================================================================\n",
      "flatten_44 (Flatten)         (None, 26)                0         \n",
      "_________________________________________________________________\n",
      "dense_243 (Dense)            (None, 21)                567       \n",
      "_________________________________________________________________\n",
      "dense_244 (Dense)            (None, 21)                462       \n",
      "_________________________________________________________________\n",
      "dense_245 (Dense)            (None, 21)                462       \n",
      "_________________________________________________________________\n",
      "dense_246 (Dense)            (None, 21)                462       \n",
      "_________________________________________________________________\n",
      "dense_247 (Dense)            (None, 2)                 44        \n",
      "=================================================================\n",
      "Total params: 1,997\n",
      "Trainable params: 1,997\n",
      "Non-trainable params: 0\n",
      "_________________________________________________________________\n",
      "None\n",
      "=== rates === 0.0001\n"
     ]
    },
    {
     "name": "stderr",
     "output_type": "stream",
     "text": [
      "/opt/conda/lib/python3.7/site-packages/ipykernel_launcher.py:42: RuntimeWarning: invalid value encountered in long_scalars\n"
     ]
    },
    {
     "name": "stdout",
     "output_type": "stream",
     "text": [
      "=== rates === 0.00011\n"
     ]
    },
    {
     "name": "stderr",
     "output_type": "stream",
     "text": [
      "/opt/conda/lib/python3.7/site-packages/ipykernel_launcher.py:42: RuntimeWarning: invalid value encountered in long_scalars\n"
     ]
    },
    {
     "name": "stdout",
     "output_type": "stream",
     "text": [
      "=== rates === 0.00012\n"
     ]
    },
    {
     "name": "stderr",
     "output_type": "stream",
     "text": [
      "/opt/conda/lib/python3.7/site-packages/ipykernel_launcher.py:42: RuntimeWarning: invalid value encountered in long_scalars\n"
     ]
    },
    {
     "name": "stdout",
     "output_type": "stream",
     "text": [
      "=== rates === 0.00013000000000000002\n"
     ]
    },
    {
     "name": "stderr",
     "output_type": "stream",
     "text": [
      "/opt/conda/lib/python3.7/site-packages/ipykernel_launcher.py:42: RuntimeWarning: invalid value encountered in long_scalars\n"
     ]
    },
    {
     "name": "stdout",
     "output_type": "stream",
     "text": [
      "=== rates === 0.00014\n"
     ]
    },
    {
     "name": "stderr",
     "output_type": "stream",
     "text": [
      "/opt/conda/lib/python3.7/site-packages/ipykernel_launcher.py:42: RuntimeWarning: invalid value encountered in long_scalars\n"
     ]
    },
    {
     "name": "stdout",
     "output_type": "stream",
     "text": [
      "=== rates === 0.00015000000000000001\n"
     ]
    },
    {
     "name": "stderr",
     "output_type": "stream",
     "text": [
      "/opt/conda/lib/python3.7/site-packages/ipykernel_launcher.py:42: RuntimeWarning: invalid value encountered in long_scalars\n"
     ]
    },
    {
     "name": "stdout",
     "output_type": "stream",
     "text": [
      "=== rates === 0.00015999999999999999\n"
     ]
    },
    {
     "name": "stderr",
     "output_type": "stream",
     "text": [
      "/opt/conda/lib/python3.7/site-packages/ipykernel_launcher.py:42: RuntimeWarning: invalid value encountered in long_scalars\n"
     ]
    },
    {
     "name": "stdout",
     "output_type": "stream",
     "text": [
      "=== rates === 0.00017\n"
     ]
    },
    {
     "name": "stderr",
     "output_type": "stream",
     "text": [
      "/opt/conda/lib/python3.7/site-packages/ipykernel_launcher.py:42: RuntimeWarning: invalid value encountered in long_scalars\n"
     ]
    },
    {
     "name": "stdout",
     "output_type": "stream",
     "text": [
      "=== rates === 0.00017999999999999998\n"
     ]
    },
    {
     "name": "stderr",
     "output_type": "stream",
     "text": [
      "/opt/conda/lib/python3.7/site-packages/ipykernel_launcher.py:42: RuntimeWarning: invalid value encountered in long_scalars\n"
     ]
    },
    {
     "name": "stdout",
     "output_type": "stream",
     "text": [
      "=== rates === 0.00019\n"
     ]
    },
    {
     "name": "stderr",
     "output_type": "stream",
     "text": [
      "/opt/conda/lib/python3.7/site-packages/ipykernel_launcher.py:42: RuntimeWarning: invalid value encountered in long_scalars\n"
     ]
    },
    {
     "name": "stdout",
     "output_type": "stream",
     "text": [
      "=== rates === 0.00019999999999999998\n"
     ]
    },
    {
     "name": "stderr",
     "output_type": "stream",
     "text": [
      "/opt/conda/lib/python3.7/site-packages/ipykernel_launcher.py:42: RuntimeWarning: invalid value encountered in long_scalars\n"
     ]
    },
    {
     "name": "stdout",
     "output_type": "stream",
     "text": [
      "=== rates === 0.00021\n"
     ]
    },
    {
     "name": "stderr",
     "output_type": "stream",
     "text": [
      "/opt/conda/lib/python3.7/site-packages/ipykernel_launcher.py:42: RuntimeWarning: invalid value encountered in long_scalars\n"
     ]
    },
    {
     "name": "stdout",
     "output_type": "stream",
     "text": [
      "=== rates === 0.00021999999999999998\n",
      "=== best recall === 1.0\n",
      "=== rates === 0.00023\n",
      "=== rates === 0.00023999999999999998\n",
      "=== rates === 0.00025\n",
      "=== rates === 0.00026\n",
      "=== rates === 0.00027\n",
      "=== rates === 0.00028\n",
      "=== rates === 0.00029\n",
      "=== rates === 0.0003\n",
      "=== rates === 0.00031\n",
      "=== rates === 0.00031999999999999997\n",
      "=== rates === 0.00033\n",
      "=== rates === 0.00033999999999999997\n",
      "=== rates === 0.00035\n",
      "=== rates === 0.00035999999999999997\n",
      "=== rates === 0.00036999999999999994\n",
      "=== rates === 0.00037999999999999997\n",
      "=== rates === 0.00039\n",
      "=== rates === 0.00039999999999999996\n",
      "=== rates === 0.00040999999999999994\n",
      "=== rates === 0.00041999999999999996\n",
      "=== rates === 0.00043\n",
      "=== rates === 0.00043999999999999996\n",
      "=== rates === 0.00044999999999999993\n",
      "=== rates === 0.00045999999999999996\n",
      "=== rates === 0.00047\n",
      "=== rates === 0.00047999999999999996\n",
      "=== rates === 0.00049\n",
      "12/12 [==============================] - 0s 3ms/step - loss: 0.4335 - accuracy: 0.8123\n",
      "Accuracy: 81.2325\n",
      "Model: \"sequential_45\"\n",
      "_________________________________________________________________\n",
      "Layer (type)                 Output Shape              Param #   \n",
      "=================================================================\n",
      "flatten_45 (Flatten)         (None, 26)                0         \n",
      "_________________________________________________________________\n",
      "dense_248 (Dense)            (None, 28)                756       \n",
      "_________________________________________________________________\n",
      "dense_249 (Dense)            (None, 28)                812       \n",
      "_________________________________________________________________\n",
      "dense_250 (Dense)            (None, 28)                812       \n",
      "_________________________________________________________________\n",
      "dense_251 (Dense)            (None, 28)                812       \n",
      "_________________________________________________________________\n",
      "dense_252 (Dense)            (None, 28)                812       \n",
      "_________________________________________________________________\n",
      "dense_253 (Dense)            (None, 2)                 58        \n",
      "=================================================================\n",
      "Total params: 4,062\n",
      "Trainable params: 4,062\n",
      "Non-trainable params: 0\n",
      "_________________________________________________________________\n",
      "None\n",
      "=== rates === 0.0001\n",
      "=== best recall === 0.38375350140056025\n",
      "=== rates === 0.00011\n"
     ]
    },
    {
     "name": "stderr",
     "output_type": "stream",
     "text": [
      "/opt/conda/lib/python3.7/site-packages/ipykernel_launcher.py:42: RuntimeWarning: invalid value encountered in long_scalars\n"
     ]
    },
    {
     "name": "stdout",
     "output_type": "stream",
     "text": [
      "=== rates === 0.00012\n"
     ]
    },
    {
     "name": "stderr",
     "output_type": "stream",
     "text": [
      "/opt/conda/lib/python3.7/site-packages/ipykernel_launcher.py:42: RuntimeWarning: invalid value encountered in long_scalars\n"
     ]
    },
    {
     "name": "stdout",
     "output_type": "stream",
     "text": [
      "=== rates === 0.00013000000000000002\n"
     ]
    },
    {
     "name": "stderr",
     "output_type": "stream",
     "text": [
      "/opt/conda/lib/python3.7/site-packages/ipykernel_launcher.py:42: RuntimeWarning: invalid value encountered in long_scalars\n"
     ]
    },
    {
     "name": "stdout",
     "output_type": "stream",
     "text": [
      "=== rates === 0.00014\n"
     ]
    },
    {
     "name": "stderr",
     "output_type": "stream",
     "text": [
      "/opt/conda/lib/python3.7/site-packages/ipykernel_launcher.py:42: RuntimeWarning: invalid value encountered in long_scalars\n"
     ]
    },
    {
     "name": "stdout",
     "output_type": "stream",
     "text": [
      "=== rates === 0.00015000000000000001\n"
     ]
    },
    {
     "name": "stderr",
     "output_type": "stream",
     "text": [
      "/opt/conda/lib/python3.7/site-packages/ipykernel_launcher.py:42: RuntimeWarning: invalid value encountered in long_scalars\n"
     ]
    },
    {
     "name": "stdout",
     "output_type": "stream",
     "text": [
      "=== rates === 0.00015999999999999999\n"
     ]
    },
    {
     "name": "stderr",
     "output_type": "stream",
     "text": [
      "/opt/conda/lib/python3.7/site-packages/ipykernel_launcher.py:42: RuntimeWarning: invalid value encountered in long_scalars\n"
     ]
    },
    {
     "name": "stdout",
     "output_type": "stream",
     "text": [
      "=== rates === 0.00017\n"
     ]
    },
    {
     "name": "stderr",
     "output_type": "stream",
     "text": [
      "/opt/conda/lib/python3.7/site-packages/ipykernel_launcher.py:42: RuntimeWarning: invalid value encountered in long_scalars\n"
     ]
    },
    {
     "name": "stdout",
     "output_type": "stream",
     "text": [
      "=== rates === 0.00017999999999999998\n"
     ]
    },
    {
     "name": "stderr",
     "output_type": "stream",
     "text": [
      "/opt/conda/lib/python3.7/site-packages/ipykernel_launcher.py:42: RuntimeWarning: invalid value encountered in long_scalars\n"
     ]
    },
    {
     "name": "stdout",
     "output_type": "stream",
     "text": [
      "=== rates === 0.00019\n"
     ]
    },
    {
     "name": "stderr",
     "output_type": "stream",
     "text": [
      "/opt/conda/lib/python3.7/site-packages/ipykernel_launcher.py:42: RuntimeWarning: invalid value encountered in long_scalars\n"
     ]
    },
    {
     "name": "stdout",
     "output_type": "stream",
     "text": [
      "=== rates === 0.00019999999999999998\n"
     ]
    },
    {
     "name": "stderr",
     "output_type": "stream",
     "text": [
      "/opt/conda/lib/python3.7/site-packages/ipykernel_launcher.py:42: RuntimeWarning: invalid value encountered in long_scalars\n"
     ]
    },
    {
     "name": "stdout",
     "output_type": "stream",
     "text": [
      "=== rates === 0.00021\n"
     ]
    },
    {
     "name": "stderr",
     "output_type": "stream",
     "text": [
      "/opt/conda/lib/python3.7/site-packages/ipykernel_launcher.py:42: RuntimeWarning: invalid value encountered in long_scalars\n"
     ]
    },
    {
     "name": "stdout",
     "output_type": "stream",
     "text": [
      "=== rates === 0.00021999999999999998\n"
     ]
    },
    {
     "name": "stderr",
     "output_type": "stream",
     "text": [
      "/opt/conda/lib/python3.7/site-packages/ipykernel_launcher.py:42: RuntimeWarning: invalid value encountered in long_scalars\n"
     ]
    },
    {
     "name": "stdout",
     "output_type": "stream",
     "text": [
      "=== rates === 0.00023\n"
     ]
    },
    {
     "name": "stderr",
     "output_type": "stream",
     "text": [
      "/opt/conda/lib/python3.7/site-packages/ipykernel_launcher.py:42: RuntimeWarning: invalid value encountered in long_scalars\n"
     ]
    },
    {
     "name": "stdout",
     "output_type": "stream",
     "text": [
      "=== rates === 0.00023999999999999998\n",
      "=== best recall === 0.9696969696969697\n",
      "=== rates === 0.00025\n",
      "=== rates === 0.00026\n",
      "=== rates === 0.00027\n",
      "=== rates === 0.00028\n",
      "=== rates === 0.00029\n",
      "=== rates === 0.0003\n",
      "=== rates === 0.00031\n",
      "=== rates === 0.00031999999999999997\n",
      "=== rates === 0.00033\n",
      "=== rates === 0.00033999999999999997\n",
      "=== rates === 0.00035\n",
      "=== rates === 0.00035999999999999997\n",
      "=== rates === 0.00036999999999999994\n",
      "=== rates === 0.00037999999999999997\n",
      "=== rates === 0.00039\n",
      "=== rates === 0.00039999999999999996\n",
      "=== rates === 0.00040999999999999994\n",
      "=== rates === 0.00041999999999999996\n",
      "=== rates === 0.00043\n",
      "=== rates === 0.00043999999999999996\n",
      "=== rates === 0.00044999999999999993\n",
      "=== rates === 0.00045999999999999996\n",
      "=== rates === 0.00047\n",
      "=== rates === 0.00047999999999999996\n",
      "=== rates === 0.00049\n",
      "12/12 [==============================] - 0s 3ms/step - loss: 0.4279 - accuracy: 0.8123\n",
      "Accuracy: 81.2325\n",
      "Model: \"sequential_46\"\n",
      "_________________________________________________________________\n",
      "Layer (type)                 Output Shape              Param #   \n",
      "=================================================================\n",
      "flatten_46 (Flatten)         (None, 26)                0         \n",
      "_________________________________________________________________\n",
      "dense_254 (Dense)            (None, 49)                1323      \n",
      "_________________________________________________________________\n",
      "dense_255 (Dense)            (None, 49)                2450      \n",
      "_________________________________________________________________\n",
      "dense_256 (Dense)            (None, 49)                2450      \n",
      "_________________________________________________________________\n",
      "dense_257 (Dense)            (None, 49)                2450      \n",
      "_________________________________________________________________\n",
      "dense_258 (Dense)            (None, 49)                2450      \n",
      "_________________________________________________________________\n",
      "dense_259 (Dense)            (None, 49)                2450      \n",
      "_________________________________________________________________\n",
      "dense_260 (Dense)            (None, 2)                 100       \n",
      "=================================================================\n",
      "Total params: 13,673\n",
      "Trainable params: 13,673\n",
      "Non-trainable params: 0\n",
      "_________________________________________________________________\n",
      "None\n",
      "=== rates === 0.0001\n"
     ]
    },
    {
     "name": "stderr",
     "output_type": "stream",
     "text": [
      "/opt/conda/lib/python3.7/site-packages/ipykernel_launcher.py:42: RuntimeWarning: invalid value encountered in long_scalars\n"
     ]
    },
    {
     "name": "stdout",
     "output_type": "stream",
     "text": [
      "=== rates === 0.00011\n"
     ]
    },
    {
     "name": "stderr",
     "output_type": "stream",
     "text": [
      "/opt/conda/lib/python3.7/site-packages/ipykernel_launcher.py:42: RuntimeWarning: invalid value encountered in long_scalars\n"
     ]
    },
    {
     "name": "stdout",
     "output_type": "stream",
     "text": [
      "=== rates === 0.00012\n"
     ]
    },
    {
     "name": "stderr",
     "output_type": "stream",
     "text": [
      "/opt/conda/lib/python3.7/site-packages/ipykernel_launcher.py:42: RuntimeWarning: invalid value encountered in long_scalars\n"
     ]
    },
    {
     "name": "stdout",
     "output_type": "stream",
     "text": [
      "=== rates === 0.00013000000000000002\n"
     ]
    },
    {
     "name": "stderr",
     "output_type": "stream",
     "text": [
      "/opt/conda/lib/python3.7/site-packages/ipykernel_launcher.py:42: RuntimeWarning: invalid value encountered in long_scalars\n"
     ]
    },
    {
     "name": "stdout",
     "output_type": "stream",
     "text": [
      "=== rates === 0.00014\n"
     ]
    },
    {
     "name": "stderr",
     "output_type": "stream",
     "text": [
      "/opt/conda/lib/python3.7/site-packages/ipykernel_launcher.py:42: RuntimeWarning: invalid value encountered in long_scalars\n"
     ]
    },
    {
     "name": "stdout",
     "output_type": "stream",
     "text": [
      "=== rates === 0.00015000000000000001\n"
     ]
    },
    {
     "name": "stderr",
     "output_type": "stream",
     "text": [
      "/opt/conda/lib/python3.7/site-packages/ipykernel_launcher.py:42: RuntimeWarning: invalid value encountered in long_scalars\n"
     ]
    },
    {
     "name": "stdout",
     "output_type": "stream",
     "text": [
      "=== rates === 0.00015999999999999999\n"
     ]
    },
    {
     "name": "stderr",
     "output_type": "stream",
     "text": [
      "/opt/conda/lib/python3.7/site-packages/ipykernel_launcher.py:42: RuntimeWarning: invalid value encountered in long_scalars\n"
     ]
    },
    {
     "name": "stdout",
     "output_type": "stream",
     "text": [
      "=== rates === 0.00017\n"
     ]
    },
    {
     "name": "stderr",
     "output_type": "stream",
     "text": [
      "/opt/conda/lib/python3.7/site-packages/ipykernel_launcher.py:42: RuntimeWarning: invalid value encountered in long_scalars\n"
     ]
    },
    {
     "name": "stdout",
     "output_type": "stream",
     "text": [
      "=== rates === 0.00017999999999999998\n"
     ]
    },
    {
     "name": "stderr",
     "output_type": "stream",
     "text": [
      "/opt/conda/lib/python3.7/site-packages/ipykernel_launcher.py:42: RuntimeWarning: invalid value encountered in long_scalars\n"
     ]
    },
    {
     "name": "stdout",
     "output_type": "stream",
     "text": [
      "=== rates === 0.00019\n"
     ]
    },
    {
     "name": "stderr",
     "output_type": "stream",
     "text": [
      "/opt/conda/lib/python3.7/site-packages/ipykernel_launcher.py:42: RuntimeWarning: invalid value encountered in long_scalars\n"
     ]
    },
    {
     "name": "stdout",
     "output_type": "stream",
     "text": [
      "=== rates === 0.00019999999999999998\n"
     ]
    },
    {
     "name": "stderr",
     "output_type": "stream",
     "text": [
      "/opt/conda/lib/python3.7/site-packages/ipykernel_launcher.py:42: RuntimeWarning: invalid value encountered in long_scalars\n"
     ]
    },
    {
     "name": "stdout",
     "output_type": "stream",
     "text": [
      "=== rates === 0.00021\n"
     ]
    },
    {
     "name": "stderr",
     "output_type": "stream",
     "text": [
      "/opt/conda/lib/python3.7/site-packages/ipykernel_launcher.py:42: RuntimeWarning: invalid value encountered in long_scalars\n"
     ]
    },
    {
     "name": "stdout",
     "output_type": "stream",
     "text": [
      "=== rates === 0.00021999999999999998\n",
      "=== best recall === 0.8152173913043478\n",
      "=== rates === 0.00023\n",
      "=== rates === 0.00023999999999999998\n",
      "=== rates === 0.00025\n",
      "=== rates === 0.00026\n",
      "=== rates === 0.00027\n",
      "=== rates === 0.00028\n",
      "=== rates === 0.00029\n",
      "=== best recall === 0.8165137614678899\n",
      "=== rates === 0.0003\n",
      "=== best recall === 0.8484848484848485\n",
      "=== rates === 0.00031\n",
      "=== best recall === 0.8686868686868687\n",
      "=== rates === 0.00031999999999999997\n",
      "=== rates === 0.00033\n",
      "=== rates === 0.00033999999999999997\n",
      "=== rates === 0.00035\n",
      "=== rates === 0.00035999999999999997\n",
      "=== rates === 0.00036999999999999994\n",
      "=== rates === 0.00037999999999999997\n",
      "=== best recall === 0.8723404255319149\n",
      "=== rates === 0.00039\n",
      "=== best recall === 0.8913043478260869\n",
      "=== rates === 0.00039999999999999996\n",
      "=== rates === 0.00040999999999999994\n",
      "=== rates === 0.00041999999999999996\n",
      "=== rates === 0.00043\n",
      "=== rates === 0.00043999999999999996\n",
      "=== rates === 0.00044999999999999993\n",
      "=== rates === 0.00045999999999999996\n",
      "=== rates === 0.00047\n",
      "=== rates === 0.00047999999999999996\n",
      "=== rates === 0.00049\n",
      "12/12 [==============================] - 0s 4ms/step - loss: 0.4399 - accuracy: 0.8179\n",
      "Accuracy: 81.7927\n",
      "Model: \"sequential_47\"\n",
      "_________________________________________________________________\n",
      "Layer (type)                 Output Shape              Param #   \n",
      "=================================================================\n",
      "flatten_47 (Flatten)         (None, 26)                0         \n",
      "_________________________________________________________________\n",
      "dense_261 (Dense)            (None, 31)                837       \n",
      "_________________________________________________________________\n",
      "dense_262 (Dense)            (None, 31)                992       \n",
      "_________________________________________________________________\n",
      "dense_263 (Dense)            (None, 31)                992       \n",
      "_________________________________________________________________\n",
      "dense_264 (Dense)            (None, 31)                992       \n",
      "_________________________________________________________________\n",
      "dense_265 (Dense)            (None, 31)                992       \n",
      "_________________________________________________________________\n",
      "dense_266 (Dense)            (None, 31)                992       \n",
      "_________________________________________________________________\n",
      "dense_267 (Dense)            (None, 31)                992       \n",
      "_________________________________________________________________\n",
      "dense_268 (Dense)            (None, 31)                992       \n",
      "_________________________________________________________________\n",
      "dense_269 (Dense)            (None, 2)                 64        \n",
      "=================================================================\n",
      "Total params: 7,845\n",
      "Trainable params: 7,845\n",
      "Non-trainable params: 0\n",
      "_________________________________________________________________\n",
      "None\n",
      "=== rates === 0.0001\n"
     ]
    },
    {
     "name": "stderr",
     "output_type": "stream",
     "text": [
      "/opt/conda/lib/python3.7/site-packages/ipykernel_launcher.py:42: RuntimeWarning: invalid value encountered in long_scalars\n"
     ]
    },
    {
     "name": "stdout",
     "output_type": "stream",
     "text": [
      "=== rates === 0.00011\n"
     ]
    },
    {
     "name": "stderr",
     "output_type": "stream",
     "text": [
      "/opt/conda/lib/python3.7/site-packages/ipykernel_launcher.py:42: RuntimeWarning: invalid value encountered in long_scalars\n"
     ]
    },
    {
     "name": "stdout",
     "output_type": "stream",
     "text": [
      "=== rates === 0.00012\n"
     ]
    },
    {
     "name": "stderr",
     "output_type": "stream",
     "text": [
      "/opt/conda/lib/python3.7/site-packages/ipykernel_launcher.py:42: RuntimeWarning: invalid value encountered in long_scalars\n"
     ]
    },
    {
     "name": "stdout",
     "output_type": "stream",
     "text": [
      "=== rates === 0.00013000000000000002\n"
     ]
    },
    {
     "name": "stderr",
     "output_type": "stream",
     "text": [
      "/opt/conda/lib/python3.7/site-packages/ipykernel_launcher.py:42: RuntimeWarning: invalid value encountered in long_scalars\n"
     ]
    },
    {
     "name": "stdout",
     "output_type": "stream",
     "text": [
      "=== rates === 0.00014\n"
     ]
    },
    {
     "name": "stderr",
     "output_type": "stream",
     "text": [
      "/opt/conda/lib/python3.7/site-packages/ipykernel_launcher.py:42: RuntimeWarning: invalid value encountered in long_scalars\n"
     ]
    },
    {
     "name": "stdout",
     "output_type": "stream",
     "text": [
      "=== rates === 0.00015000000000000001\n"
     ]
    },
    {
     "name": "stderr",
     "output_type": "stream",
     "text": [
      "/opt/conda/lib/python3.7/site-packages/ipykernel_launcher.py:42: RuntimeWarning: invalid value encountered in long_scalars\n"
     ]
    },
    {
     "name": "stdout",
     "output_type": "stream",
     "text": [
      "=== rates === 0.00015999999999999999\n"
     ]
    },
    {
     "name": "stderr",
     "output_type": "stream",
     "text": [
      "/opt/conda/lib/python3.7/site-packages/ipykernel_launcher.py:42: RuntimeWarning: invalid value encountered in long_scalars\n"
     ]
    },
    {
     "name": "stdout",
     "output_type": "stream",
     "text": [
      "=== rates === 0.00017\n"
     ]
    },
    {
     "name": "stderr",
     "output_type": "stream",
     "text": [
      "/opt/conda/lib/python3.7/site-packages/ipykernel_launcher.py:42: RuntimeWarning: invalid value encountered in long_scalars\n"
     ]
    },
    {
     "name": "stdout",
     "output_type": "stream",
     "text": [
      "=== rates === 0.00017999999999999998\n"
     ]
    },
    {
     "name": "stderr",
     "output_type": "stream",
     "text": [
      "/opt/conda/lib/python3.7/site-packages/ipykernel_launcher.py:42: RuntimeWarning: invalid value encountered in long_scalars\n"
     ]
    },
    {
     "name": "stdout",
     "output_type": "stream",
     "text": [
      "=== rates === 0.00019\n"
     ]
    },
    {
     "name": "stderr",
     "output_type": "stream",
     "text": [
      "/opt/conda/lib/python3.7/site-packages/ipykernel_launcher.py:42: RuntimeWarning: invalid value encountered in long_scalars\n"
     ]
    },
    {
     "name": "stdout",
     "output_type": "stream",
     "text": [
      "=== rates === 0.00019999999999999998\n"
     ]
    },
    {
     "name": "stderr",
     "output_type": "stream",
     "text": [
      "/opt/conda/lib/python3.7/site-packages/ipykernel_launcher.py:42: RuntimeWarning: invalid value encountered in long_scalars\n"
     ]
    },
    {
     "name": "stdout",
     "output_type": "stream",
     "text": [
      "=== rates === 0.00021\n"
     ]
    },
    {
     "name": "stderr",
     "output_type": "stream",
     "text": [
      "/opt/conda/lib/python3.7/site-packages/ipykernel_launcher.py:42: RuntimeWarning: invalid value encountered in long_scalars\n"
     ]
    },
    {
     "name": "stdout",
     "output_type": "stream",
     "text": [
      "=== rates === 0.00021999999999999998\n"
     ]
    },
    {
     "name": "stderr",
     "output_type": "stream",
     "text": [
      "/opt/conda/lib/python3.7/site-packages/ipykernel_launcher.py:42: RuntimeWarning: invalid value encountered in long_scalars\n"
     ]
    },
    {
     "name": "stdout",
     "output_type": "stream",
     "text": [
      "=== rates === 0.00023\n"
     ]
    },
    {
     "name": "stderr",
     "output_type": "stream",
     "text": [
      "/opt/conda/lib/python3.7/site-packages/ipykernel_launcher.py:42: RuntimeWarning: invalid value encountered in long_scalars\n"
     ]
    },
    {
     "name": "stdout",
     "output_type": "stream",
     "text": [
      "=== rates === 0.00023999999999999998\n"
     ]
    },
    {
     "name": "stderr",
     "output_type": "stream",
     "text": [
      "/opt/conda/lib/python3.7/site-packages/ipykernel_launcher.py:42: RuntimeWarning: invalid value encountered in long_scalars\n"
     ]
    },
    {
     "name": "stdout",
     "output_type": "stream",
     "text": [
      "=== rates === 0.00025\n"
     ]
    },
    {
     "name": "stderr",
     "output_type": "stream",
     "text": [
      "/opt/conda/lib/python3.7/site-packages/ipykernel_launcher.py:42: RuntimeWarning: invalid value encountered in long_scalars\n"
     ]
    },
    {
     "name": "stdout",
     "output_type": "stream",
     "text": [
      "=== rates === 0.00026\n"
     ]
    },
    {
     "name": "stderr",
     "output_type": "stream",
     "text": [
      "/opt/conda/lib/python3.7/site-packages/ipykernel_launcher.py:42: RuntimeWarning: invalid value encountered in long_scalars\n"
     ]
    },
    {
     "name": "stdout",
     "output_type": "stream",
     "text": [
      "=== rates === 0.00027\n"
     ]
    },
    {
     "name": "stderr",
     "output_type": "stream",
     "text": [
      "/opt/conda/lib/python3.7/site-packages/ipykernel_launcher.py:42: RuntimeWarning: invalid value encountered in long_scalars\n"
     ]
    },
    {
     "name": "stdout",
     "output_type": "stream",
     "text": [
      "=== rates === 0.00028\n"
     ]
    },
    {
     "name": "stderr",
     "output_type": "stream",
     "text": [
      "/opt/conda/lib/python3.7/site-packages/ipykernel_launcher.py:42: RuntimeWarning: invalid value encountered in long_scalars\n"
     ]
    },
    {
     "name": "stdout",
     "output_type": "stream",
     "text": [
      "=== rates === 0.00029\n"
     ]
    },
    {
     "name": "stderr",
     "output_type": "stream",
     "text": [
      "/opt/conda/lib/python3.7/site-packages/ipykernel_launcher.py:42: RuntimeWarning: invalid value encountered in long_scalars\n"
     ]
    },
    {
     "name": "stdout",
     "output_type": "stream",
     "text": [
      "=== rates === 0.0003\n",
      "=== best recall === 0.7479674796747967\n",
      "=== rates === 0.00031\n",
      "=== best recall === 0.753968253968254\n",
      "=== rates === 0.00031999999999999997\n",
      "=== rates === 0.00033\n",
      "=== rates === 0.00033999999999999997\n",
      "=== rates === 0.00035\n",
      "=== rates === 0.00035999999999999997\n",
      "=== best recall === 0.7647058823529411\n",
      "=== rates === 0.00036999999999999994\n",
      "=== best recall === 0.782608695652174\n",
      "=== rates === 0.00037999999999999997\n",
      "=== best recall === 0.8108108108108109\n",
      "=== rates === 0.00039\n",
      "=== best recall === 0.8256880733944955\n",
      "=== rates === 0.00039999999999999996\n",
      "=== best recall === 0.8333333333333334\n",
      "=== rates === 0.00040999999999999994\n",
      "=== best recall === 0.8529411764705882\n",
      "=== rates === 0.00041999999999999996\n",
      "=== rates === 0.00043\n",
      "=== best recall === 0.8686868686868687\n",
      "=== rates === 0.00043999999999999996\n",
      "=== rates === 0.00044999999999999993\n",
      "=== rates === 0.00045999999999999996\n",
      "=== rates === 0.00047\n",
      "=== rates === 0.00047999999999999996\n",
      "=== rates === 0.00049\n",
      "12/12 [==============================] - 0s 3ms/step - loss: 0.4407 - accuracy: 0.8067\n",
      "Accuracy: 80.6723\n",
      "Model: \"sequential_48\"\n",
      "_________________________________________________________________\n",
      "Layer (type)                 Output Shape              Param #   \n",
      "=================================================================\n",
      "flatten_48 (Flatten)         (None, 26)                0         \n",
      "_________________________________________________________________\n",
      "dense_270 (Dense)            (None, 21)                567       \n",
      "_________________________________________________________________\n",
      "dense_271 (Dense)            (None, 21)                462       \n",
      "_________________________________________________________________\n",
      "dense_272 (Dense)            (None, 2)                 44        \n",
      "=================================================================\n",
      "Total params: 1,073\n",
      "Trainable params: 1,073\n",
      "Non-trainable params: 0\n",
      "_________________________________________________________________\n",
      "None\n",
      "=== rates === 0.0001\n",
      "=== best recall === 0.53125\n",
      "=== rates === 0.00011\n"
     ]
    },
    {
     "name": "stderr",
     "output_type": "stream",
     "text": [
      "/opt/conda/lib/python3.7/site-packages/ipykernel_launcher.py:42: RuntimeWarning: invalid value encountered in long_scalars\n"
     ]
    },
    {
     "name": "stdout",
     "output_type": "stream",
     "text": [
      "=== rates === 0.00012\n"
     ]
    },
    {
     "name": "stderr",
     "output_type": "stream",
     "text": [
      "/opt/conda/lib/python3.7/site-packages/ipykernel_launcher.py:42: RuntimeWarning: invalid value encountered in long_scalars\n"
     ]
    },
    {
     "name": "stdout",
     "output_type": "stream",
     "text": [
      "=== rates === 0.00013000000000000002\n"
     ]
    },
    {
     "name": "stderr",
     "output_type": "stream",
     "text": [
      "/opt/conda/lib/python3.7/site-packages/ipykernel_launcher.py:42: RuntimeWarning: invalid value encountered in long_scalars\n"
     ]
    },
    {
     "name": "stdout",
     "output_type": "stream",
     "text": [
      "=== rates === 0.00014\n"
     ]
    },
    {
     "name": "stderr",
     "output_type": "stream",
     "text": [
      "/opt/conda/lib/python3.7/site-packages/ipykernel_launcher.py:42: RuntimeWarning: invalid value encountered in long_scalars\n"
     ]
    },
    {
     "name": "stdout",
     "output_type": "stream",
     "text": [
      "=== rates === 0.00015000000000000001\n"
     ]
    },
    {
     "name": "stderr",
     "output_type": "stream",
     "text": [
      "/opt/conda/lib/python3.7/site-packages/ipykernel_launcher.py:42: RuntimeWarning: invalid value encountered in long_scalars\n"
     ]
    },
    {
     "name": "stdout",
     "output_type": "stream",
     "text": [
      "=== rates === 0.00015999999999999999\n"
     ]
    },
    {
     "name": "stderr",
     "output_type": "stream",
     "text": [
      "/opt/conda/lib/python3.7/site-packages/ipykernel_launcher.py:42: RuntimeWarning: invalid value encountered in long_scalars\n"
     ]
    },
    {
     "name": "stdout",
     "output_type": "stream",
     "text": [
      "=== rates === 0.00017\n"
     ]
    },
    {
     "name": "stderr",
     "output_type": "stream",
     "text": [
      "/opt/conda/lib/python3.7/site-packages/ipykernel_launcher.py:42: RuntimeWarning: invalid value encountered in long_scalars\n"
     ]
    },
    {
     "name": "stdout",
     "output_type": "stream",
     "text": [
      "=== rates === 0.00017999999999999998\n"
     ]
    },
    {
     "name": "stderr",
     "output_type": "stream",
     "text": [
      "/opt/conda/lib/python3.7/site-packages/ipykernel_launcher.py:42: RuntimeWarning: invalid value encountered in long_scalars\n"
     ]
    },
    {
     "name": "stdout",
     "output_type": "stream",
     "text": [
      "=== rates === 0.00019\n",
      "=== best recall === 1.0\n",
      "=== rates === 0.00019999999999999998\n",
      "=== rates === 0.00021\n",
      "=== rates === 0.00021999999999999998\n",
      "=== rates === 0.00023\n",
      "=== rates === 0.00023999999999999998\n",
      "=== rates === 0.00025\n",
      "=== rates === 0.00026\n",
      "=== rates === 0.00027\n",
      "=== rates === 0.00028\n",
      "=== rates === 0.00029\n",
      "=== rates === 0.0003\n",
      "=== rates === 0.00031\n",
      "=== rates === 0.00031999999999999997\n",
      "=== rates === 0.00033\n",
      "=== rates === 0.00033999999999999997\n",
      "=== rates === 0.00035\n",
      "=== rates === 0.00035999999999999997\n",
      "=== rates === 0.00036999999999999994\n",
      "=== rates === 0.00037999999999999997\n",
      "=== rates === 0.00039\n",
      "=== rates === 0.00039999999999999996\n",
      "=== rates === 0.00040999999999999994\n",
      "=== rates === 0.00041999999999999996\n",
      "=== rates === 0.00043\n",
      "=== rates === 0.00043999999999999996\n",
      "=== rates === 0.00044999999999999993\n",
      "=== rates === 0.00045999999999999996\n",
      "=== rates === 0.00047\n",
      "=== rates === 0.00047999999999999996\n",
      "=== rates === 0.00049\n",
      "12/12 [==============================] - 0s 2ms/step - loss: 0.4226 - accuracy: 0.8179\n",
      "Accuracy: 81.7927\n",
      "Model: \"sequential_49\"\n",
      "_________________________________________________________________\n",
      "Layer (type)                 Output Shape              Param #   \n",
      "=================================================================\n",
      "flatten_49 (Flatten)         (None, 26)                0         \n",
      "_________________________________________________________________\n",
      "dense_273 (Dense)            (None, 30)                810       \n",
      "_________________________________________________________________\n",
      "dense_274 (Dense)            (None, 30)                930       \n",
      "_________________________________________________________________\n",
      "dense_275 (Dense)            (None, 30)                930       \n",
      "_________________________________________________________________\n",
      "dense_276 (Dense)            (None, 30)                930       \n",
      "_________________________________________________________________\n",
      "dense_277 (Dense)            (None, 2)                 62        \n",
      "=================================================================\n",
      "Total params: 3,662\n",
      "Trainable params: 3,662\n",
      "Non-trainable params: 0\n",
      "_________________________________________________________________\n",
      "None\n",
      "=== rates === 0.0001\n"
     ]
    },
    {
     "name": "stderr",
     "output_type": "stream",
     "text": [
      "/opt/conda/lib/python3.7/site-packages/ipykernel_launcher.py:42: RuntimeWarning: invalid value encountered in long_scalars\n"
     ]
    },
    {
     "name": "stdout",
     "output_type": "stream",
     "text": [
      "=== rates === 0.00011\n"
     ]
    },
    {
     "name": "stderr",
     "output_type": "stream",
     "text": [
      "/opt/conda/lib/python3.7/site-packages/ipykernel_launcher.py:42: RuntimeWarning: invalid value encountered in long_scalars\n"
     ]
    },
    {
     "name": "stdout",
     "output_type": "stream",
     "text": [
      "=== rates === 0.00012\n"
     ]
    },
    {
     "name": "stderr",
     "output_type": "stream",
     "text": [
      "/opt/conda/lib/python3.7/site-packages/ipykernel_launcher.py:42: RuntimeWarning: invalid value encountered in long_scalars\n"
     ]
    },
    {
     "name": "stdout",
     "output_type": "stream",
     "text": [
      "=== rates === 0.00013000000000000002\n"
     ]
    },
    {
     "name": "stderr",
     "output_type": "stream",
     "text": [
      "/opt/conda/lib/python3.7/site-packages/ipykernel_launcher.py:42: RuntimeWarning: invalid value encountered in long_scalars\n"
     ]
    },
    {
     "name": "stdout",
     "output_type": "stream",
     "text": [
      "=== rates === 0.00014\n"
     ]
    },
    {
     "name": "stderr",
     "output_type": "stream",
     "text": [
      "/opt/conda/lib/python3.7/site-packages/ipykernel_launcher.py:42: RuntimeWarning: invalid value encountered in long_scalars\n"
     ]
    },
    {
     "name": "stdout",
     "output_type": "stream",
     "text": [
      "=== rates === 0.00015000000000000001\n"
     ]
    },
    {
     "name": "stderr",
     "output_type": "stream",
     "text": [
      "/opt/conda/lib/python3.7/site-packages/ipykernel_launcher.py:42: RuntimeWarning: invalid value encountered in long_scalars\n"
     ]
    },
    {
     "name": "stdout",
     "output_type": "stream",
     "text": [
      "=== rates === 0.00015999999999999999\n"
     ]
    },
    {
     "name": "stderr",
     "output_type": "stream",
     "text": [
      "/opt/conda/lib/python3.7/site-packages/ipykernel_launcher.py:42: RuntimeWarning: invalid value encountered in long_scalars\n"
     ]
    },
    {
     "name": "stdout",
     "output_type": "stream",
     "text": [
      "=== rates === 0.00017\n"
     ]
    },
    {
     "name": "stderr",
     "output_type": "stream",
     "text": [
      "/opt/conda/lib/python3.7/site-packages/ipykernel_launcher.py:42: RuntimeWarning: invalid value encountered in long_scalars\n"
     ]
    },
    {
     "name": "stdout",
     "output_type": "stream",
     "text": [
      "=== rates === 0.00017999999999999998\n"
     ]
    },
    {
     "name": "stderr",
     "output_type": "stream",
     "text": [
      "/opt/conda/lib/python3.7/site-packages/ipykernel_launcher.py:42: RuntimeWarning: invalid value encountered in long_scalars\n"
     ]
    },
    {
     "name": "stdout",
     "output_type": "stream",
     "text": [
      "=== rates === 0.00019\n"
     ]
    },
    {
     "name": "stderr",
     "output_type": "stream",
     "text": [
      "/opt/conda/lib/python3.7/site-packages/ipykernel_launcher.py:42: RuntimeWarning: invalid value encountered in long_scalars\n"
     ]
    },
    {
     "name": "stdout",
     "output_type": "stream",
     "text": [
      "=== rates === 0.00019999999999999998\n"
     ]
    },
    {
     "name": "stderr",
     "output_type": "stream",
     "text": [
      "/opt/conda/lib/python3.7/site-packages/ipykernel_launcher.py:42: RuntimeWarning: invalid value encountered in long_scalars\n"
     ]
    },
    {
     "name": "stdout",
     "output_type": "stream",
     "text": [
      "=== rates === 0.00021\n",
      "=== best recall === 0.967741935483871\n",
      "=== rates === 0.00021999999999999998\n",
      "=== rates === 0.00023\n",
      "=== rates === 0.00023999999999999998\n",
      "=== rates === 0.00025\n",
      "=== rates === 0.00026\n",
      "=== rates === 0.00027\n",
      "=== rates === 0.00028\n",
      "=== rates === 0.00029\n",
      "=== rates === 0.0003\n",
      "=== rates === 0.00031\n",
      "=== rates === 0.00031999999999999997\n",
      "=== rates === 0.00033\n",
      "=== rates === 0.00033999999999999997\n",
      "=== rates === 0.00035\n",
      "=== rates === 0.00035999999999999997\n",
      "=== rates === 0.00036999999999999994\n",
      "=== rates === 0.00037999999999999997\n",
      "=== rates === 0.00039\n",
      "=== rates === 0.00039999999999999996\n",
      "=== rates === 0.00040999999999999994\n",
      "=== rates === 0.00041999999999999996\n",
      "=== rates === 0.00043\n",
      "=== rates === 0.00043999999999999996\n",
      "=== rates === 0.00044999999999999993\n",
      "=== rates === 0.00045999999999999996\n",
      "=== rates === 0.00047\n",
      "=== rates === 0.00047999999999999996\n",
      "=== rates === 0.00049\n",
      "12/12 [==============================] - 0s 2ms/step - loss: 0.4305 - accuracy: 0.8207\n",
      "Accuracy: 82.0728\n",
      "Model: \"sequential_50\"\n",
      "_________________________________________________________________\n",
      "Layer (type)                 Output Shape              Param #   \n",
      "=================================================================\n",
      "flatten_50 (Flatten)         (None, 26)                0         \n",
      "_________________________________________________________________\n",
      "dense_278 (Dense)            (None, 27)                729       \n",
      "_________________________________________________________________\n",
      "dense_279 (Dense)            (None, 2)                 56        \n",
      "=================================================================\n",
      "Total params: 785\n",
      "Trainable params: 785\n",
      "Non-trainable params: 0\n",
      "_________________________________________________________________\n",
      "None\n",
      "=== rates === 0.0001\n"
     ]
    },
    {
     "name": "stderr",
     "output_type": "stream",
     "text": [
      "/opt/conda/lib/python3.7/site-packages/ipykernel_launcher.py:42: RuntimeWarning: invalid value encountered in long_scalars\n"
     ]
    },
    {
     "name": "stdout",
     "output_type": "stream",
     "text": [
      "=== rates === 0.00011\n"
     ]
    },
    {
     "name": "stderr",
     "output_type": "stream",
     "text": [
      "/opt/conda/lib/python3.7/site-packages/ipykernel_launcher.py:42: RuntimeWarning: invalid value encountered in long_scalars\n"
     ]
    },
    {
     "name": "stdout",
     "output_type": "stream",
     "text": [
      "=== rates === 0.00012\n"
     ]
    },
    {
     "name": "stderr",
     "output_type": "stream",
     "text": [
      "/opt/conda/lib/python3.7/site-packages/ipykernel_launcher.py:42: RuntimeWarning: invalid value encountered in long_scalars\n"
     ]
    },
    {
     "name": "stdout",
     "output_type": "stream",
     "text": [
      "=== rates === 0.00013000000000000002\n"
     ]
    },
    {
     "name": "stderr",
     "output_type": "stream",
     "text": [
      "/opt/conda/lib/python3.7/site-packages/ipykernel_launcher.py:42: RuntimeWarning: invalid value encountered in long_scalars\n"
     ]
    },
    {
     "name": "stdout",
     "output_type": "stream",
     "text": [
      "=== rates === 0.00014\n"
     ]
    },
    {
     "name": "stderr",
     "output_type": "stream",
     "text": [
      "/opt/conda/lib/python3.7/site-packages/ipykernel_launcher.py:42: RuntimeWarning: invalid value encountered in long_scalars\n"
     ]
    },
    {
     "name": "stdout",
     "output_type": "stream",
     "text": [
      "=== rates === 0.00015000000000000001\n",
      "=== best recall === 1.0\n",
      "=== rates === 0.00015999999999999999\n",
      "=== rates === 0.00017\n",
      "=== rates === 0.00017999999999999998\n",
      "=== rates === 0.00019\n",
      "=== rates === 0.00019999999999999998\n",
      "=== rates === 0.00021\n",
      "=== rates === 0.00021999999999999998\n",
      "=== rates === 0.00023\n",
      "=== rates === 0.00023999999999999998\n",
      "=== rates === 0.00025\n",
      "=== rates === 0.00026\n",
      "=== rates === 0.00027\n",
      "=== rates === 0.00028\n",
      "=== rates === 0.00029\n",
      "=== rates === 0.0003\n",
      "=== rates === 0.00031\n",
      "=== rates === 0.00031999999999999997\n",
      "=== rates === 0.00033\n",
      "=== rates === 0.00033999999999999997\n",
      "=== rates === 0.00035\n",
      "=== rates === 0.00035999999999999997\n",
      "=== rates === 0.00036999999999999994\n",
      "=== rates === 0.00037999999999999997\n",
      "=== rates === 0.00039\n",
      "=== rates === 0.00039999999999999996\n",
      "=== rates === 0.00040999999999999994\n",
      "=== rates === 0.00041999999999999996\n",
      "=== rates === 0.00043\n",
      "=== rates === 0.00043999999999999996\n",
      "=== rates === 0.00044999999999999993\n",
      "=== rates === 0.00045999999999999996\n",
      "=== rates === 0.00047\n",
      "=== rates === 0.00047999999999999996\n",
      "=== rates === 0.00049\n",
      "12/12 [==============================] - 0s 2ms/step - loss: 0.4240 - accuracy: 0.8067\n",
      "Accuracy: 80.6723\n",
      "Model: \"sequential_51\"\n",
      "_________________________________________________________________\n",
      "Layer (type)                 Output Shape              Param #   \n",
      "=================================================================\n",
      "flatten_51 (Flatten)         (None, 26)                0         \n",
      "_________________________________________________________________\n",
      "dense_280 (Dense)            (None, 27)                729       \n",
      "_________________________________________________________________\n",
      "dense_281 (Dense)            (None, 27)                756       \n",
      "_________________________________________________________________\n",
      "dense_282 (Dense)            (None, 27)                756       \n",
      "_________________________________________________________________\n",
      "dense_283 (Dense)            (None, 27)                756       \n",
      "_________________________________________________________________\n",
      "dense_284 (Dense)            (None, 2)                 56        \n",
      "=================================================================\n",
      "Total params: 3,053\n",
      "Trainable params: 3,053\n",
      "Non-trainable params: 0\n",
      "_________________________________________________________________\n",
      "None\n",
      "=== rates === 0.0001\n"
     ]
    },
    {
     "name": "stderr",
     "output_type": "stream",
     "text": [
      "/opt/conda/lib/python3.7/site-packages/ipykernel_launcher.py:42: RuntimeWarning: invalid value encountered in long_scalars\n"
     ]
    },
    {
     "name": "stdout",
     "output_type": "stream",
     "text": [
      "=== rates === 0.00011\n"
     ]
    },
    {
     "name": "stderr",
     "output_type": "stream",
     "text": [
      "/opt/conda/lib/python3.7/site-packages/ipykernel_launcher.py:42: RuntimeWarning: invalid value encountered in long_scalars\n"
     ]
    },
    {
     "name": "stdout",
     "output_type": "stream",
     "text": [
      "=== rates === 0.00012\n"
     ]
    },
    {
     "name": "stderr",
     "output_type": "stream",
     "text": [
      "/opt/conda/lib/python3.7/site-packages/ipykernel_launcher.py:42: RuntimeWarning: invalid value encountered in long_scalars\n"
     ]
    },
    {
     "name": "stdout",
     "output_type": "stream",
     "text": [
      "=== rates === 0.00013000000000000002\n"
     ]
    },
    {
     "name": "stderr",
     "output_type": "stream",
     "text": [
      "/opt/conda/lib/python3.7/site-packages/ipykernel_launcher.py:42: RuntimeWarning: invalid value encountered in long_scalars\n"
     ]
    },
    {
     "name": "stdout",
     "output_type": "stream",
     "text": [
      "=== rates === 0.00014\n"
     ]
    },
    {
     "name": "stderr",
     "output_type": "stream",
     "text": [
      "/opt/conda/lib/python3.7/site-packages/ipykernel_launcher.py:42: RuntimeWarning: invalid value encountered in long_scalars\n"
     ]
    },
    {
     "name": "stdout",
     "output_type": "stream",
     "text": [
      "=== rates === 0.00015000000000000001\n"
     ]
    },
    {
     "name": "stderr",
     "output_type": "stream",
     "text": [
      "/opt/conda/lib/python3.7/site-packages/ipykernel_launcher.py:42: RuntimeWarning: invalid value encountered in long_scalars\n"
     ]
    },
    {
     "name": "stdout",
     "output_type": "stream",
     "text": [
      "=== rates === 0.00015999999999999999\n"
     ]
    },
    {
     "name": "stderr",
     "output_type": "stream",
     "text": [
      "/opt/conda/lib/python3.7/site-packages/ipykernel_launcher.py:42: RuntimeWarning: invalid value encountered in long_scalars\n"
     ]
    },
    {
     "name": "stdout",
     "output_type": "stream",
     "text": [
      "=== rates === 0.00017\n"
     ]
    },
    {
     "name": "stderr",
     "output_type": "stream",
     "text": [
      "/opt/conda/lib/python3.7/site-packages/ipykernel_launcher.py:42: RuntimeWarning: invalid value encountered in long_scalars\n"
     ]
    },
    {
     "name": "stdout",
     "output_type": "stream",
     "text": [
      "=== rates === 0.00017999999999999998\n"
     ]
    },
    {
     "name": "stderr",
     "output_type": "stream",
     "text": [
      "/opt/conda/lib/python3.7/site-packages/ipykernel_launcher.py:42: RuntimeWarning: invalid value encountered in long_scalars\n"
     ]
    },
    {
     "name": "stdout",
     "output_type": "stream",
     "text": [
      "=== rates === 0.00019\n"
     ]
    },
    {
     "name": "stderr",
     "output_type": "stream",
     "text": [
      "/opt/conda/lib/python3.7/site-packages/ipykernel_launcher.py:42: RuntimeWarning: invalid value encountered in long_scalars\n"
     ]
    },
    {
     "name": "stdout",
     "output_type": "stream",
     "text": [
      "=== rates === 0.00019999999999999998\n"
     ]
    },
    {
     "name": "stderr",
     "output_type": "stream",
     "text": [
      "/opt/conda/lib/python3.7/site-packages/ipykernel_launcher.py:42: RuntimeWarning: invalid value encountered in long_scalars\n"
     ]
    },
    {
     "name": "stdout",
     "output_type": "stream",
     "text": [
      "=== rates === 0.00021\n"
     ]
    },
    {
     "name": "stderr",
     "output_type": "stream",
     "text": [
      "/opt/conda/lib/python3.7/site-packages/ipykernel_launcher.py:42: RuntimeWarning: invalid value encountered in long_scalars\n"
     ]
    },
    {
     "name": "stdout",
     "output_type": "stream",
     "text": [
      "=== rates === 0.00021999999999999998\n",
      "=== best recall === 0.875\n",
      "=== rates === 0.00023\n",
      "=== best recall === 0.9178082191780822\n",
      "=== rates === 0.00023999999999999998\n",
      "=== rates === 0.00025\n",
      "=== rates === 0.00026\n",
      "=== rates === 0.00027\n",
      "=== rates === 0.00028\n",
      "=== rates === 0.00029\n",
      "=== rates === 0.0003\n",
      "=== rates === 0.00031\n",
      "=== rates === 0.00031999999999999997\n",
      "=== rates === 0.00033\n",
      "=== rates === 0.00033999999999999997\n",
      "=== rates === 0.00035\n",
      "=== rates === 0.00035999999999999997\n",
      "=== rates === 0.00036999999999999994\n",
      "=== rates === 0.00037999999999999997\n",
      "=== rates === 0.00039\n",
      "=== rates === 0.00039999999999999996\n",
      "=== rates === 0.00040999999999999994\n",
      "=== rates === 0.00041999999999999996\n",
      "=== rates === 0.00043\n",
      "=== rates === 0.00043999999999999996\n",
      "=== rates === 0.00044999999999999993\n",
      "=== rates === 0.00045999999999999996\n",
      "=== rates === 0.00047\n",
      "=== rates === 0.00047999999999999996\n",
      "=== rates === 0.00049\n",
      "12/12 [==============================] - 0s 2ms/step - loss: 0.4319 - accuracy: 0.8151\n",
      "Accuracy: 81.5126\n",
      "Model: \"sequential_52\"\n",
      "_________________________________________________________________\n",
      "Layer (type)                 Output Shape              Param #   \n",
      "=================================================================\n",
      "flatten_52 (Flatten)         (None, 26)                0         \n",
      "_________________________________________________________________\n",
      "dense_285 (Dense)            (None, 31)                837       \n",
      "_________________________________________________________________\n",
      "dense_286 (Dense)            (None, 31)                992       \n",
      "_________________________________________________________________\n",
      "dense_287 (Dense)            (None, 31)                992       \n",
      "_________________________________________________________________\n",
      "dense_288 (Dense)            (None, 31)                992       \n",
      "_________________________________________________________________\n",
      "dense_289 (Dense)            (None, 31)                992       \n",
      "_________________________________________________________________\n",
      "dense_290 (Dense)            (None, 31)                992       \n",
      "_________________________________________________________________\n",
      "dense_291 (Dense)            (None, 31)                992       \n",
      "_________________________________________________________________\n",
      "dense_292 (Dense)            (None, 31)                992       \n",
      "_________________________________________________________________\n",
      "dense_293 (Dense)            (None, 2)                 64        \n",
      "=================================================================\n",
      "Total params: 7,845\n",
      "Trainable params: 7,845\n",
      "Non-trainable params: 0\n",
      "_________________________________________________________________\n",
      "None\n",
      "=== rates === 0.0001\n"
     ]
    },
    {
     "name": "stderr",
     "output_type": "stream",
     "text": [
      "/opt/conda/lib/python3.7/site-packages/ipykernel_launcher.py:42: RuntimeWarning: invalid value encountered in long_scalars\n"
     ]
    },
    {
     "name": "stdout",
     "output_type": "stream",
     "text": [
      "=== rates === 0.00011\n"
     ]
    },
    {
     "name": "stderr",
     "output_type": "stream",
     "text": [
      "/opt/conda/lib/python3.7/site-packages/ipykernel_launcher.py:42: RuntimeWarning: invalid value encountered in long_scalars\n"
     ]
    },
    {
     "name": "stdout",
     "output_type": "stream",
     "text": [
      "=== rates === 0.00012\n"
     ]
    },
    {
     "name": "stderr",
     "output_type": "stream",
     "text": [
      "/opt/conda/lib/python3.7/site-packages/ipykernel_launcher.py:42: RuntimeWarning: invalid value encountered in long_scalars\n"
     ]
    },
    {
     "name": "stdout",
     "output_type": "stream",
     "text": [
      "=== rates === 0.00013000000000000002\n"
     ]
    },
    {
     "name": "stderr",
     "output_type": "stream",
     "text": [
      "/opt/conda/lib/python3.7/site-packages/ipykernel_launcher.py:42: RuntimeWarning: invalid value encountered in long_scalars\n"
     ]
    },
    {
     "name": "stdout",
     "output_type": "stream",
     "text": [
      "=== rates === 0.00014\n"
     ]
    },
    {
     "name": "stderr",
     "output_type": "stream",
     "text": [
      "/opt/conda/lib/python3.7/site-packages/ipykernel_launcher.py:42: RuntimeWarning: invalid value encountered in long_scalars\n"
     ]
    },
    {
     "name": "stdout",
     "output_type": "stream",
     "text": [
      "=== rates === 0.00015000000000000001\n"
     ]
    },
    {
     "name": "stderr",
     "output_type": "stream",
     "text": [
      "/opt/conda/lib/python3.7/site-packages/ipykernel_launcher.py:42: RuntimeWarning: invalid value encountered in long_scalars\n"
     ]
    },
    {
     "name": "stdout",
     "output_type": "stream",
     "text": [
      "=== rates === 0.00015999999999999999\n"
     ]
    },
    {
     "name": "stderr",
     "output_type": "stream",
     "text": [
      "/opt/conda/lib/python3.7/site-packages/ipykernel_launcher.py:42: RuntimeWarning: invalid value encountered in long_scalars\n"
     ]
    },
    {
     "name": "stdout",
     "output_type": "stream",
     "text": [
      "=== rates === 0.00017\n"
     ]
    },
    {
     "name": "stderr",
     "output_type": "stream",
     "text": [
      "/opt/conda/lib/python3.7/site-packages/ipykernel_launcher.py:42: RuntimeWarning: invalid value encountered in long_scalars\n"
     ]
    },
    {
     "name": "stdout",
     "output_type": "stream",
     "text": [
      "=== rates === 0.00017999999999999998\n"
     ]
    },
    {
     "name": "stderr",
     "output_type": "stream",
     "text": [
      "/opt/conda/lib/python3.7/site-packages/ipykernel_launcher.py:42: RuntimeWarning: invalid value encountered in long_scalars\n"
     ]
    },
    {
     "name": "stdout",
     "output_type": "stream",
     "text": [
      "=== rates === 0.00019\n"
     ]
    },
    {
     "name": "stderr",
     "output_type": "stream",
     "text": [
      "/opt/conda/lib/python3.7/site-packages/ipykernel_launcher.py:42: RuntimeWarning: invalid value encountered in long_scalars\n"
     ]
    },
    {
     "name": "stdout",
     "output_type": "stream",
     "text": [
      "=== rates === 0.00019999999999999998\n"
     ]
    },
    {
     "name": "stderr",
     "output_type": "stream",
     "text": [
      "/opt/conda/lib/python3.7/site-packages/ipykernel_launcher.py:42: RuntimeWarning: invalid value encountered in long_scalars\n"
     ]
    },
    {
     "name": "stdout",
     "output_type": "stream",
     "text": [
      "=== rates === 0.00021\n"
     ]
    },
    {
     "name": "stderr",
     "output_type": "stream",
     "text": [
      "/opt/conda/lib/python3.7/site-packages/ipykernel_launcher.py:42: RuntimeWarning: invalid value encountered in long_scalars\n"
     ]
    },
    {
     "name": "stdout",
     "output_type": "stream",
     "text": [
      "=== rates === 0.00021999999999999998\n"
     ]
    },
    {
     "name": "stderr",
     "output_type": "stream",
     "text": [
      "/opt/conda/lib/python3.7/site-packages/ipykernel_launcher.py:42: RuntimeWarning: invalid value encountered in long_scalars\n"
     ]
    },
    {
     "name": "stdout",
     "output_type": "stream",
     "text": [
      "=== rates === 0.00023\n"
     ]
    },
    {
     "name": "stderr",
     "output_type": "stream",
     "text": [
      "/opt/conda/lib/python3.7/site-packages/ipykernel_launcher.py:42: RuntimeWarning: invalid value encountered in long_scalars\n"
     ]
    },
    {
     "name": "stdout",
     "output_type": "stream",
     "text": [
      "=== rates === 0.00023999999999999998\n"
     ]
    },
    {
     "name": "stderr",
     "output_type": "stream",
     "text": [
      "/opt/conda/lib/python3.7/site-packages/ipykernel_launcher.py:42: RuntimeWarning: invalid value encountered in long_scalars\n"
     ]
    },
    {
     "name": "stdout",
     "output_type": "stream",
     "text": [
      "=== rates === 0.00025\n"
     ]
    },
    {
     "name": "stderr",
     "output_type": "stream",
     "text": [
      "/opt/conda/lib/python3.7/site-packages/ipykernel_launcher.py:42: RuntimeWarning: invalid value encountered in long_scalars\n"
     ]
    },
    {
     "name": "stdout",
     "output_type": "stream",
     "text": [
      "=== rates === 0.00026\n"
     ]
    },
    {
     "name": "stderr",
     "output_type": "stream",
     "text": [
      "/opt/conda/lib/python3.7/site-packages/ipykernel_launcher.py:42: RuntimeWarning: invalid value encountered in long_scalars\n"
     ]
    },
    {
     "name": "stdout",
     "output_type": "stream",
     "text": [
      "=== rates === 0.00027\n"
     ]
    },
    {
     "name": "stderr",
     "output_type": "stream",
     "text": [
      "/opt/conda/lib/python3.7/site-packages/ipykernel_launcher.py:42: RuntimeWarning: invalid value encountered in long_scalars\n"
     ]
    },
    {
     "name": "stdout",
     "output_type": "stream",
     "text": [
      "=== rates === 0.00028\n"
     ]
    },
    {
     "name": "stderr",
     "output_type": "stream",
     "text": [
      "/opt/conda/lib/python3.7/site-packages/ipykernel_launcher.py:42: RuntimeWarning: invalid value encountered in long_scalars\n"
     ]
    },
    {
     "name": "stdout",
     "output_type": "stream",
     "text": [
      "=== rates === 0.00029\n"
     ]
    },
    {
     "name": "stderr",
     "output_type": "stream",
     "text": [
      "/opt/conda/lib/python3.7/site-packages/ipykernel_launcher.py:42: RuntimeWarning: invalid value encountered in long_scalars\n"
     ]
    },
    {
     "name": "stdout",
     "output_type": "stream",
     "text": [
      "=== rates === 0.0003\n",
      "=== best recall === 0.7586206896551724\n",
      "=== rates === 0.00031\n",
      "=== rates === 0.00031999999999999997\n",
      "=== rates === 0.00033\n",
      "=== rates === 0.00033999999999999997\n",
      "=== rates === 0.00035\n",
      "=== rates === 0.00035999999999999997\n",
      "=== best recall === 0.775\n",
      "=== rates === 0.00036999999999999994\n",
      "=== rates === 0.00037999999999999997\n",
      "=== best recall === 0.7815126050420168\n",
      "=== rates === 0.00039\n",
      "=== rates === 0.00039999999999999996\n",
      "=== best recall === 0.8230088495575221\n",
      "=== rates === 0.00040999999999999994\n",
      "=== rates === 0.00041999999999999996\n",
      "=== rates === 0.00043\n",
      "=== rates === 0.00043999999999999996\n",
      "=== rates === 0.00044999999999999993\n",
      "=== rates === 0.00045999999999999996\n",
      "=== best recall === 0.839622641509434\n",
      "=== rates === 0.00047\n",
      "=== best recall === 0.8431372549019608\n",
      "=== rates === 0.00047999999999999996\n",
      "=== rates === 0.00049\n",
      "12/12 [==============================] - 0s 3ms/step - loss: 0.4355 - accuracy: 0.8067\n",
      "Accuracy: 80.6723\n",
      "Model: \"sequential_53\"\n",
      "_________________________________________________________________\n",
      "Layer (type)                 Output Shape              Param #   \n",
      "=================================================================\n",
      "flatten_53 (Flatten)         (None, 26)                0         \n",
      "_________________________________________________________________\n",
      "dense_294 (Dense)            (None, 30)                810       \n",
      "_________________________________________________________________\n",
      "dense_295 (Dense)            (None, 30)                930       \n",
      "_________________________________________________________________\n",
      "dense_296 (Dense)            (None, 30)                930       \n",
      "_________________________________________________________________\n",
      "dense_297 (Dense)            (None, 30)                930       \n",
      "_________________________________________________________________\n",
      "dense_298 (Dense)            (None, 30)                930       \n",
      "_________________________________________________________________\n",
      "dense_299 (Dense)            (None, 2)                 62        \n",
      "=================================================================\n",
      "Total params: 4,592\n",
      "Trainable params: 4,592\n",
      "Non-trainable params: 0\n",
      "_________________________________________________________________\n",
      "None\n",
      "=== rates === 0.0001\n"
     ]
    },
    {
     "name": "stderr",
     "output_type": "stream",
     "text": [
      "/opt/conda/lib/python3.7/site-packages/ipykernel_launcher.py:42: RuntimeWarning: invalid value encountered in long_scalars\n"
     ]
    },
    {
     "name": "stdout",
     "output_type": "stream",
     "text": [
      "=== rates === 0.00011\n"
     ]
    },
    {
     "name": "stderr",
     "output_type": "stream",
     "text": [
      "/opt/conda/lib/python3.7/site-packages/ipykernel_launcher.py:42: RuntimeWarning: invalid value encountered in long_scalars\n"
     ]
    },
    {
     "name": "stdout",
     "output_type": "stream",
     "text": [
      "=== rates === 0.00012\n"
     ]
    },
    {
     "name": "stderr",
     "output_type": "stream",
     "text": [
      "/opt/conda/lib/python3.7/site-packages/ipykernel_launcher.py:42: RuntimeWarning: invalid value encountered in long_scalars\n"
     ]
    },
    {
     "name": "stdout",
     "output_type": "stream",
     "text": [
      "=== rates === 0.00013000000000000002\n"
     ]
    },
    {
     "name": "stderr",
     "output_type": "stream",
     "text": [
      "/opt/conda/lib/python3.7/site-packages/ipykernel_launcher.py:42: RuntimeWarning: invalid value encountered in long_scalars\n"
     ]
    },
    {
     "name": "stdout",
     "output_type": "stream",
     "text": [
      "=== rates === 0.00014\n"
     ]
    },
    {
     "name": "stderr",
     "output_type": "stream",
     "text": [
      "/opt/conda/lib/python3.7/site-packages/ipykernel_launcher.py:42: RuntimeWarning: invalid value encountered in long_scalars\n"
     ]
    },
    {
     "name": "stdout",
     "output_type": "stream",
     "text": [
      "=== rates === 0.00015000000000000001\n"
     ]
    },
    {
     "name": "stderr",
     "output_type": "stream",
     "text": [
      "/opt/conda/lib/python3.7/site-packages/ipykernel_launcher.py:42: RuntimeWarning: invalid value encountered in long_scalars\n"
     ]
    },
    {
     "name": "stdout",
     "output_type": "stream",
     "text": [
      "=== rates === 0.00015999999999999999\n"
     ]
    },
    {
     "name": "stderr",
     "output_type": "stream",
     "text": [
      "/opt/conda/lib/python3.7/site-packages/ipykernel_launcher.py:42: RuntimeWarning: invalid value encountered in long_scalars\n"
     ]
    },
    {
     "name": "stdout",
     "output_type": "stream",
     "text": [
      "=== rates === 0.00017\n"
     ]
    },
    {
     "name": "stderr",
     "output_type": "stream",
     "text": [
      "/opt/conda/lib/python3.7/site-packages/ipykernel_launcher.py:42: RuntimeWarning: invalid value encountered in long_scalars\n"
     ]
    },
    {
     "name": "stdout",
     "output_type": "stream",
     "text": [
      "=== rates === 0.00017999999999999998\n"
     ]
    },
    {
     "name": "stderr",
     "output_type": "stream",
     "text": [
      "/opt/conda/lib/python3.7/site-packages/ipykernel_launcher.py:42: RuntimeWarning: invalid value encountered in long_scalars\n"
     ]
    },
    {
     "name": "stdout",
     "output_type": "stream",
     "text": [
      "=== rates === 0.00019\n"
     ]
    },
    {
     "name": "stderr",
     "output_type": "stream",
     "text": [
      "/opt/conda/lib/python3.7/site-packages/ipykernel_launcher.py:42: RuntimeWarning: invalid value encountered in long_scalars\n"
     ]
    },
    {
     "name": "stdout",
     "output_type": "stream",
     "text": [
      "=== rates === 0.00019999999999999998\n"
     ]
    },
    {
     "name": "stderr",
     "output_type": "stream",
     "text": [
      "/opt/conda/lib/python3.7/site-packages/ipykernel_launcher.py:42: RuntimeWarning: invalid value encountered in long_scalars\n"
     ]
    },
    {
     "name": "stdout",
     "output_type": "stream",
     "text": [
      "=== rates === 0.00021\n"
     ]
    },
    {
     "name": "stderr",
     "output_type": "stream",
     "text": [
      "/opt/conda/lib/python3.7/site-packages/ipykernel_launcher.py:42: RuntimeWarning: invalid value encountered in long_scalars\n"
     ]
    },
    {
     "name": "stdout",
     "output_type": "stream",
     "text": [
      "=== rates === 0.00021999999999999998\n"
     ]
    },
    {
     "name": "stderr",
     "output_type": "stream",
     "text": [
      "/opt/conda/lib/python3.7/site-packages/ipykernel_launcher.py:42: RuntimeWarning: invalid value encountered in long_scalars\n"
     ]
    },
    {
     "name": "stdout",
     "output_type": "stream",
     "text": [
      "=== rates === 0.00023\n",
      "=== best recall === 0.9552238805970149\n",
      "=== rates === 0.00023999999999999998\n",
      "=== rates === 0.00025\n",
      "=== rates === 0.00026\n",
      "=== rates === 0.00027\n",
      "=== rates === 0.00028\n",
      "=== rates === 0.00029\n",
      "=== rates === 0.0003\n",
      "=== rates === 0.00031\n",
      "=== rates === 0.00031999999999999997\n",
      "=== rates === 0.00033\n",
      "=== rates === 0.00033999999999999997\n",
      "=== rates === 0.00035\n",
      "=== rates === 0.00035999999999999997\n",
      "=== rates === 0.00036999999999999994\n",
      "=== rates === 0.00037999999999999997\n",
      "=== rates === 0.00039\n",
      "=== rates === 0.00039999999999999996\n",
      "=== rates === 0.00040999999999999994\n",
      "=== rates === 0.00041999999999999996\n",
      "=== rates === 0.00043\n",
      "=== rates === 0.00043999999999999996\n",
      "=== rates === 0.00044999999999999993\n",
      "=== rates === 0.00045999999999999996\n",
      "=== rates === 0.00047\n",
      "=== rates === 0.00047999999999999996\n",
      "=== rates === 0.00049\n",
      "12/12 [==============================] - 0s 3ms/step - loss: 0.4331 - accuracy: 0.8207\n",
      "Accuracy: 82.0728\n",
      "Model: \"sequential_54\"\n",
      "_________________________________________________________________\n",
      "Layer (type)                 Output Shape              Param #   \n",
      "=================================================================\n",
      "flatten_54 (Flatten)         (None, 26)                0         \n",
      "_________________________________________________________________\n",
      "dense_300 (Dense)            (None, 26)                702       \n",
      "_________________________________________________________________\n",
      "dense_301 (Dense)            (None, 26)                702       \n",
      "_________________________________________________________________\n",
      "dense_302 (Dense)            (None, 26)                702       \n",
      "_________________________________________________________________\n",
      "dense_303 (Dense)            (None, 26)                702       \n",
      "_________________________________________________________________\n",
      "dense_304 (Dense)            (None, 2)                 54        \n",
      "=================================================================\n",
      "Total params: 2,862\n",
      "Trainable params: 2,862\n",
      "Non-trainable params: 0\n",
      "_________________________________________________________________\n",
      "None\n",
      "=== rates === 0.0001\n"
     ]
    },
    {
     "name": "stderr",
     "output_type": "stream",
     "text": [
      "/opt/conda/lib/python3.7/site-packages/ipykernel_launcher.py:42: RuntimeWarning: invalid value encountered in long_scalars\n"
     ]
    },
    {
     "name": "stdout",
     "output_type": "stream",
     "text": [
      "=== rates === 0.00011\n"
     ]
    },
    {
     "name": "stderr",
     "output_type": "stream",
     "text": [
      "/opt/conda/lib/python3.7/site-packages/ipykernel_launcher.py:42: RuntimeWarning: invalid value encountered in long_scalars\n"
     ]
    },
    {
     "name": "stdout",
     "output_type": "stream",
     "text": [
      "=== rates === 0.00012\n"
     ]
    },
    {
     "name": "stderr",
     "output_type": "stream",
     "text": [
      "/opt/conda/lib/python3.7/site-packages/ipykernel_launcher.py:42: RuntimeWarning: invalid value encountered in long_scalars\n"
     ]
    },
    {
     "name": "stdout",
     "output_type": "stream",
     "text": [
      "=== rates === 0.00013000000000000002\n"
     ]
    },
    {
     "name": "stderr",
     "output_type": "stream",
     "text": [
      "/opt/conda/lib/python3.7/site-packages/ipykernel_launcher.py:42: RuntimeWarning: invalid value encountered in long_scalars\n"
     ]
    },
    {
     "name": "stdout",
     "output_type": "stream",
     "text": [
      "=== rates === 0.00014\n"
     ]
    },
    {
     "name": "stderr",
     "output_type": "stream",
     "text": [
      "/opt/conda/lib/python3.7/site-packages/ipykernel_launcher.py:42: RuntimeWarning: invalid value encountered in long_scalars\n"
     ]
    },
    {
     "name": "stdout",
     "output_type": "stream",
     "text": [
      "=== rates === 0.00015000000000000001\n"
     ]
    },
    {
     "name": "stderr",
     "output_type": "stream",
     "text": [
      "/opt/conda/lib/python3.7/site-packages/ipykernel_launcher.py:42: RuntimeWarning: invalid value encountered in long_scalars\n"
     ]
    },
    {
     "name": "stdout",
     "output_type": "stream",
     "text": [
      "=== rates === 0.00015999999999999999\n"
     ]
    },
    {
     "name": "stderr",
     "output_type": "stream",
     "text": [
      "/opt/conda/lib/python3.7/site-packages/ipykernel_launcher.py:42: RuntimeWarning: invalid value encountered in long_scalars\n"
     ]
    },
    {
     "name": "stdout",
     "output_type": "stream",
     "text": [
      "=== rates === 0.00017\n"
     ]
    },
    {
     "name": "stderr",
     "output_type": "stream",
     "text": [
      "/opt/conda/lib/python3.7/site-packages/ipykernel_launcher.py:42: RuntimeWarning: invalid value encountered in long_scalars\n"
     ]
    },
    {
     "name": "stdout",
     "output_type": "stream",
     "text": [
      "=== rates === 0.00017999999999999998\n"
     ]
    },
    {
     "name": "stderr",
     "output_type": "stream",
     "text": [
      "/opt/conda/lib/python3.7/site-packages/ipykernel_launcher.py:42: RuntimeWarning: invalid value encountered in long_scalars\n"
     ]
    },
    {
     "name": "stdout",
     "output_type": "stream",
     "text": [
      "=== rates === 0.00019\n"
     ]
    },
    {
     "name": "stderr",
     "output_type": "stream",
     "text": [
      "/opt/conda/lib/python3.7/site-packages/ipykernel_launcher.py:42: RuntimeWarning: invalid value encountered in long_scalars\n"
     ]
    },
    {
     "name": "stdout",
     "output_type": "stream",
     "text": [
      "=== rates === 0.00019999999999999998\n"
     ]
    },
    {
     "name": "stderr",
     "output_type": "stream",
     "text": [
      "/opt/conda/lib/python3.7/site-packages/ipykernel_launcher.py:42: RuntimeWarning: invalid value encountered in long_scalars\n"
     ]
    },
    {
     "name": "stdout",
     "output_type": "stream",
     "text": [
      "=== rates === 0.00021\n"
     ]
    },
    {
     "name": "stderr",
     "output_type": "stream",
     "text": [
      "/opt/conda/lib/python3.7/site-packages/ipykernel_launcher.py:42: RuntimeWarning: invalid value encountered in long_scalars\n"
     ]
    },
    {
     "name": "stdout",
     "output_type": "stream",
     "text": [
      "=== rates === 0.00021999999999999998\n",
      "=== best recall === 1.0\n",
      "=== rates === 0.00023\n",
      "=== rates === 0.00023999999999999998\n",
      "=== rates === 0.00025\n",
      "=== rates === 0.00026\n",
      "=== rates === 0.00027\n",
      "=== rates === 0.00028\n",
      "=== rates === 0.00029\n",
      "=== rates === 0.0003\n",
      "=== rates === 0.00031\n",
      "=== rates === 0.00031999999999999997\n",
      "=== rates === 0.00033\n",
      "=== rates === 0.00033999999999999997\n",
      "=== rates === 0.00035\n",
      "=== rates === 0.00035999999999999997\n",
      "=== rates === 0.00036999999999999994\n",
      "=== rates === 0.00037999999999999997\n",
      "=== rates === 0.00039\n",
      "=== rates === 0.00039999999999999996\n",
      "=== rates === 0.00040999999999999994\n",
      "=== rates === 0.00041999999999999996\n",
      "=== rates === 0.00043\n",
      "=== rates === 0.00043999999999999996\n",
      "=== rates === 0.00044999999999999993\n",
      "=== rates === 0.00045999999999999996\n",
      "=== rates === 0.00047\n",
      "=== rates === 0.00047999999999999996\n",
      "=== rates === 0.00049\n",
      "12/12 [==============================] - 0s 2ms/step - loss: 0.4329 - accuracy: 0.8151\n",
      "Accuracy: 81.5126\n",
      "Model: \"sequential_55\"\n",
      "_________________________________________________________________\n",
      "Layer (type)                 Output Shape              Param #   \n",
      "=================================================================\n",
      "flatten_55 (Flatten)         (None, 26)                0         \n",
      "_________________________________________________________________\n",
      "dense_305 (Dense)            (None, 45)                1215      \n",
      "_________________________________________________________________\n",
      "dense_306 (Dense)            (None, 45)                2070      \n",
      "_________________________________________________________________\n",
      "dense_307 (Dense)            (None, 45)                2070      \n",
      "_________________________________________________________________\n",
      "dense_308 (Dense)            (None, 45)                2070      \n",
      "_________________________________________________________________\n",
      "dense_309 (Dense)            (None, 45)                2070      \n",
      "_________________________________________________________________\n",
      "dense_310 (Dense)            (None, 2)                 92        \n",
      "=================================================================\n",
      "Total params: 9,587\n",
      "Trainable params: 9,587\n",
      "Non-trainable params: 0\n",
      "_________________________________________________________________\n",
      "None\n",
      "=== rates === 0.0001\n"
     ]
    },
    {
     "name": "stderr",
     "output_type": "stream",
     "text": [
      "/opt/conda/lib/python3.7/site-packages/ipykernel_launcher.py:42: RuntimeWarning: invalid value encountered in long_scalars\n"
     ]
    },
    {
     "name": "stdout",
     "output_type": "stream",
     "text": [
      "=== rates === 0.00011\n"
     ]
    },
    {
     "name": "stderr",
     "output_type": "stream",
     "text": [
      "/opt/conda/lib/python3.7/site-packages/ipykernel_launcher.py:42: RuntimeWarning: invalid value encountered in long_scalars\n"
     ]
    },
    {
     "name": "stdout",
     "output_type": "stream",
     "text": [
      "=== rates === 0.00012\n"
     ]
    },
    {
     "name": "stderr",
     "output_type": "stream",
     "text": [
      "/opt/conda/lib/python3.7/site-packages/ipykernel_launcher.py:42: RuntimeWarning: invalid value encountered in long_scalars\n"
     ]
    },
    {
     "name": "stdout",
     "output_type": "stream",
     "text": [
      "=== rates === 0.00013000000000000002\n"
     ]
    },
    {
     "name": "stderr",
     "output_type": "stream",
     "text": [
      "/opt/conda/lib/python3.7/site-packages/ipykernel_launcher.py:42: RuntimeWarning: invalid value encountered in long_scalars\n"
     ]
    },
    {
     "name": "stdout",
     "output_type": "stream",
     "text": [
      "=== rates === 0.00014\n"
     ]
    },
    {
     "name": "stderr",
     "output_type": "stream",
     "text": [
      "/opt/conda/lib/python3.7/site-packages/ipykernel_launcher.py:42: RuntimeWarning: invalid value encountered in long_scalars\n"
     ]
    },
    {
     "name": "stdout",
     "output_type": "stream",
     "text": [
      "=== rates === 0.00015000000000000001\n"
     ]
    },
    {
     "name": "stderr",
     "output_type": "stream",
     "text": [
      "/opt/conda/lib/python3.7/site-packages/ipykernel_launcher.py:42: RuntimeWarning: invalid value encountered in long_scalars\n"
     ]
    },
    {
     "name": "stdout",
     "output_type": "stream",
     "text": [
      "=== rates === 0.00015999999999999999\n"
     ]
    },
    {
     "name": "stderr",
     "output_type": "stream",
     "text": [
      "/opt/conda/lib/python3.7/site-packages/ipykernel_launcher.py:42: RuntimeWarning: invalid value encountered in long_scalars\n"
     ]
    },
    {
     "name": "stdout",
     "output_type": "stream",
     "text": [
      "=== rates === 0.00017\n"
     ]
    },
    {
     "name": "stderr",
     "output_type": "stream",
     "text": [
      "/opt/conda/lib/python3.7/site-packages/ipykernel_launcher.py:42: RuntimeWarning: invalid value encountered in long_scalars\n"
     ]
    },
    {
     "name": "stdout",
     "output_type": "stream",
     "text": [
      "=== rates === 0.00017999999999999998\n"
     ]
    },
    {
     "name": "stderr",
     "output_type": "stream",
     "text": [
      "/opt/conda/lib/python3.7/site-packages/ipykernel_launcher.py:42: RuntimeWarning: invalid value encountered in long_scalars\n"
     ]
    },
    {
     "name": "stdout",
     "output_type": "stream",
     "text": [
      "=== rates === 0.00019\n"
     ]
    },
    {
     "name": "stderr",
     "output_type": "stream",
     "text": [
      "/opt/conda/lib/python3.7/site-packages/ipykernel_launcher.py:42: RuntimeWarning: invalid value encountered in long_scalars\n"
     ]
    },
    {
     "name": "stdout",
     "output_type": "stream",
     "text": [
      "=== rates === 0.00019999999999999998\n",
      "=== best recall === 0.8421052631578947\n",
      "=== rates === 0.00021\n",
      "=== rates === 0.00021999999999999998\n",
      "=== rates === 0.00023\n",
      "=== rates === 0.00023999999999999998\n",
      "=== rates === 0.00025\n",
      "=== rates === 0.00026\n",
      "=== rates === 0.00027\n",
      "=== rates === 0.00028\n",
      "=== rates === 0.00029\n",
      "=== rates === 0.0003\n",
      "=== best recall === 0.8469387755102041\n",
      "=== rates === 0.00031\n",
      "=== best recall === 0.8514851485148515\n",
      "=== rates === 0.00031999999999999997\n",
      "=== best recall === 0.86\n",
      "=== rates === 0.00033\n",
      "=== rates === 0.00033999999999999997\n",
      "=== rates === 0.00035\n",
      "=== rates === 0.00035999999999999997\n",
      "=== rates === 0.00036999999999999994\n",
      "=== rates === 0.00037999999999999997\n",
      "=== best recall === 0.8723404255319149\n",
      "=== rates === 0.00039\n",
      "=== best recall === 0.8817204301075269\n",
      "=== rates === 0.00039999999999999996\n",
      "=== best recall === 0.8913043478260869\n",
      "=== rates === 0.00040999999999999994\n",
      "=== rates === 0.00041999999999999996\n",
      "=== rates === 0.00043\n",
      "=== rates === 0.00043999999999999996\n",
      "=== rates === 0.00044999999999999993\n",
      "=== rates === 0.00045999999999999996\n",
      "=== rates === 0.00047\n",
      "=== rates === 0.00047999999999999996\n",
      "=== rates === 0.00049\n",
      "12/12 [==============================] - 0s 3ms/step - loss: 0.4386 - accuracy: 0.8095\n",
      "Accuracy: 80.9524\n",
      "Model: \"sequential_56\"\n",
      "_________________________________________________________________\n",
      "Layer (type)                 Output Shape              Param #   \n",
      "=================================================================\n",
      "flatten_56 (Flatten)         (None, 26)                0         \n",
      "_________________________________________________________________\n",
      "dense_311 (Dense)            (None, 21)                567       \n",
      "_________________________________________________________________\n",
      "dense_312 (Dense)            (None, 21)                462       \n",
      "_________________________________________________________________\n",
      "dense_313 (Dense)            (None, 21)                462       \n",
      "_________________________________________________________________\n",
      "dense_314 (Dense)            (None, 21)                462       \n",
      "_________________________________________________________________\n",
      "dense_315 (Dense)            (None, 21)                462       \n",
      "_________________________________________________________________\n",
      "dense_316 (Dense)            (None, 2)                 44        \n",
      "=================================================================\n",
      "Total params: 2,459\n",
      "Trainable params: 2,459\n",
      "Non-trainable params: 0\n",
      "_________________________________________________________________\n",
      "None\n",
      "=== rates === 0.0001\n"
     ]
    },
    {
     "name": "stderr",
     "output_type": "stream",
     "text": [
      "/opt/conda/lib/python3.7/site-packages/ipykernel_launcher.py:42: RuntimeWarning: invalid value encountered in long_scalars\n"
     ]
    },
    {
     "name": "stdout",
     "output_type": "stream",
     "text": [
      "=== rates === 0.00011\n"
     ]
    },
    {
     "name": "stderr",
     "output_type": "stream",
     "text": [
      "/opt/conda/lib/python3.7/site-packages/ipykernel_launcher.py:42: RuntimeWarning: invalid value encountered in long_scalars\n"
     ]
    },
    {
     "name": "stdout",
     "output_type": "stream",
     "text": [
      "=== rates === 0.00012\n"
     ]
    },
    {
     "name": "stderr",
     "output_type": "stream",
     "text": [
      "/opt/conda/lib/python3.7/site-packages/ipykernel_launcher.py:42: RuntimeWarning: invalid value encountered in long_scalars\n"
     ]
    },
    {
     "name": "stdout",
     "output_type": "stream",
     "text": [
      "=== rates === 0.00013000000000000002\n"
     ]
    },
    {
     "name": "stderr",
     "output_type": "stream",
     "text": [
      "/opt/conda/lib/python3.7/site-packages/ipykernel_launcher.py:42: RuntimeWarning: invalid value encountered in long_scalars\n"
     ]
    },
    {
     "name": "stdout",
     "output_type": "stream",
     "text": [
      "=== rates === 0.00014\n"
     ]
    },
    {
     "name": "stderr",
     "output_type": "stream",
     "text": [
      "/opt/conda/lib/python3.7/site-packages/ipykernel_launcher.py:42: RuntimeWarning: invalid value encountered in long_scalars\n"
     ]
    },
    {
     "name": "stdout",
     "output_type": "stream",
     "text": [
      "=== rates === 0.00015000000000000001\n"
     ]
    },
    {
     "name": "stderr",
     "output_type": "stream",
     "text": [
      "/opt/conda/lib/python3.7/site-packages/ipykernel_launcher.py:42: RuntimeWarning: invalid value encountered in long_scalars\n"
     ]
    },
    {
     "name": "stdout",
     "output_type": "stream",
     "text": [
      "=== rates === 0.00015999999999999999\n"
     ]
    },
    {
     "name": "stderr",
     "output_type": "stream",
     "text": [
      "/opt/conda/lib/python3.7/site-packages/ipykernel_launcher.py:42: RuntimeWarning: invalid value encountered in long_scalars\n"
     ]
    },
    {
     "name": "stdout",
     "output_type": "stream",
     "text": [
      "=== rates === 0.00017\n"
     ]
    },
    {
     "name": "stderr",
     "output_type": "stream",
     "text": [
      "/opt/conda/lib/python3.7/site-packages/ipykernel_launcher.py:42: RuntimeWarning: invalid value encountered in long_scalars\n"
     ]
    },
    {
     "name": "stdout",
     "output_type": "stream",
     "text": [
      "=== rates === 0.00017999999999999998\n"
     ]
    },
    {
     "name": "stderr",
     "output_type": "stream",
     "text": [
      "/opt/conda/lib/python3.7/site-packages/ipykernel_launcher.py:42: RuntimeWarning: invalid value encountered in long_scalars\n"
     ]
    },
    {
     "name": "stdout",
     "output_type": "stream",
     "text": [
      "=== rates === 0.00019\n"
     ]
    },
    {
     "name": "stderr",
     "output_type": "stream",
     "text": [
      "/opt/conda/lib/python3.7/site-packages/ipykernel_launcher.py:42: RuntimeWarning: invalid value encountered in long_scalars\n"
     ]
    },
    {
     "name": "stdout",
     "output_type": "stream",
     "text": [
      "=== rates === 0.00019999999999999998\n"
     ]
    },
    {
     "name": "stderr",
     "output_type": "stream",
     "text": [
      "/opt/conda/lib/python3.7/site-packages/ipykernel_launcher.py:42: RuntimeWarning: invalid value encountered in long_scalars\n"
     ]
    },
    {
     "name": "stdout",
     "output_type": "stream",
     "text": [
      "=== rates === 0.00021\n"
     ]
    },
    {
     "name": "stderr",
     "output_type": "stream",
     "text": [
      "/opt/conda/lib/python3.7/site-packages/ipykernel_launcher.py:42: RuntimeWarning: invalid value encountered in long_scalars\n"
     ]
    },
    {
     "name": "stdout",
     "output_type": "stream",
     "text": [
      "=== rates === 0.00021999999999999998\n"
     ]
    },
    {
     "name": "stderr",
     "output_type": "stream",
     "text": [
      "/opt/conda/lib/python3.7/site-packages/ipykernel_launcher.py:42: RuntimeWarning: invalid value encountered in long_scalars\n"
     ]
    },
    {
     "name": "stdout",
     "output_type": "stream",
     "text": [
      "=== rates === 0.00023\n"
     ]
    },
    {
     "name": "stderr",
     "output_type": "stream",
     "text": [
      "/opt/conda/lib/python3.7/site-packages/ipykernel_launcher.py:42: RuntimeWarning: invalid value encountered in long_scalars\n"
     ]
    },
    {
     "name": "stdout",
     "output_type": "stream",
     "text": [
      "=== rates === 0.00023999999999999998\n"
     ]
    },
    {
     "name": "stderr",
     "output_type": "stream",
     "text": [
      "/opt/conda/lib/python3.7/site-packages/ipykernel_launcher.py:42: RuntimeWarning: invalid value encountered in long_scalars\n"
     ]
    },
    {
     "name": "stdout",
     "output_type": "stream",
     "text": [
      "=== rates === 0.00025\n"
     ]
    },
    {
     "name": "stderr",
     "output_type": "stream",
     "text": [
      "/opt/conda/lib/python3.7/site-packages/ipykernel_launcher.py:42: RuntimeWarning: invalid value encountered in long_scalars\n"
     ]
    },
    {
     "name": "stdout",
     "output_type": "stream",
     "text": [
      "=== rates === 0.00026\n",
      "=== best recall === 0.8421052631578947\n",
      "=== rates === 0.00027\n",
      "=== rates === 0.00028\n",
      "=== rates === 0.00029\n",
      "=== rates === 0.0003\n",
      "=== rates === 0.00031\n",
      "=== rates === 0.00031999999999999997\n",
      "=== rates === 0.00033\n",
      "=== rates === 0.00033999999999999997\n",
      "=== rates === 0.00035\n",
      "=== rates === 0.00035999999999999997\n",
      "=== rates === 0.00036999999999999994\n",
      "=== rates === 0.00037999999999999997\n",
      "=== rates === 0.00039\n",
      "=== best recall === 0.8673469387755102\n",
      "=== rates === 0.00039999999999999996\n",
      "=== best recall === 0.8854166666666666\n",
      "=== rates === 0.00040999999999999994\n",
      "=== rates === 0.00041999999999999996\n",
      "=== rates === 0.00043\n",
      "=== rates === 0.00043999999999999996\n",
      "=== rates === 0.00044999999999999993\n",
      "=== rates === 0.00045999999999999996\n",
      "=== rates === 0.00047\n",
      "=== rates === 0.00047999999999999996\n",
      "=== rates === 0.00049\n",
      "12/12 [==============================] - 0s 3ms/step - loss: 0.4283 - accuracy: 0.8095\n",
      "Accuracy: 80.9524\n",
      "Model: \"sequential_57\"\n",
      "_________________________________________________________________\n",
      "Layer (type)                 Output Shape              Param #   \n",
      "=================================================================\n",
      "flatten_57 (Flatten)         (None, 26)                0         \n",
      "_________________________________________________________________\n",
      "dense_317 (Dense)            (None, 29)                783       \n",
      "_________________________________________________________________\n",
      "dense_318 (Dense)            (None, 29)                870       \n",
      "_________________________________________________________________\n",
      "dense_319 (Dense)            (None, 29)                870       \n",
      "_________________________________________________________________\n",
      "dense_320 (Dense)            (None, 29)                870       \n",
      "_________________________________________________________________\n",
      "dense_321 (Dense)            (None, 2)                 60        \n",
      "=================================================================\n",
      "Total params: 3,453\n",
      "Trainable params: 3,453\n",
      "Non-trainable params: 0\n",
      "_________________________________________________________________\n",
      "None\n",
      "=== rates === 0.0001\n"
     ]
    },
    {
     "name": "stderr",
     "output_type": "stream",
     "text": [
      "/opt/conda/lib/python3.7/site-packages/ipykernel_launcher.py:42: RuntimeWarning: invalid value encountered in long_scalars\n"
     ]
    },
    {
     "name": "stdout",
     "output_type": "stream",
     "text": [
      "=== rates === 0.00011\n"
     ]
    },
    {
     "name": "stderr",
     "output_type": "stream",
     "text": [
      "/opt/conda/lib/python3.7/site-packages/ipykernel_launcher.py:42: RuntimeWarning: invalid value encountered in long_scalars\n"
     ]
    },
    {
     "name": "stdout",
     "output_type": "stream",
     "text": [
      "=== rates === 0.00012\n"
     ]
    },
    {
     "name": "stderr",
     "output_type": "stream",
     "text": [
      "/opt/conda/lib/python3.7/site-packages/ipykernel_launcher.py:42: RuntimeWarning: invalid value encountered in long_scalars\n"
     ]
    },
    {
     "name": "stdout",
     "output_type": "stream",
     "text": [
      "=== rates === 0.00013000000000000002\n"
     ]
    },
    {
     "name": "stderr",
     "output_type": "stream",
     "text": [
      "/opt/conda/lib/python3.7/site-packages/ipykernel_launcher.py:42: RuntimeWarning: invalid value encountered in long_scalars\n"
     ]
    },
    {
     "name": "stdout",
     "output_type": "stream",
     "text": [
      "=== rates === 0.00014\n"
     ]
    },
    {
     "name": "stderr",
     "output_type": "stream",
     "text": [
      "/opt/conda/lib/python3.7/site-packages/ipykernel_launcher.py:42: RuntimeWarning: invalid value encountered in long_scalars\n"
     ]
    },
    {
     "name": "stdout",
     "output_type": "stream",
     "text": [
      "=== rates === 0.00015000000000000001\n"
     ]
    },
    {
     "name": "stderr",
     "output_type": "stream",
     "text": [
      "/opt/conda/lib/python3.7/site-packages/ipykernel_launcher.py:42: RuntimeWarning: invalid value encountered in long_scalars\n"
     ]
    },
    {
     "name": "stdout",
     "output_type": "stream",
     "text": [
      "=== rates === 0.00015999999999999999\n"
     ]
    },
    {
     "name": "stderr",
     "output_type": "stream",
     "text": [
      "/opt/conda/lib/python3.7/site-packages/ipykernel_launcher.py:42: RuntimeWarning: invalid value encountered in long_scalars\n"
     ]
    },
    {
     "name": "stdout",
     "output_type": "stream",
     "text": [
      "=== rates === 0.00017\n"
     ]
    },
    {
     "name": "stderr",
     "output_type": "stream",
     "text": [
      "/opt/conda/lib/python3.7/site-packages/ipykernel_launcher.py:42: RuntimeWarning: invalid value encountered in long_scalars\n"
     ]
    },
    {
     "name": "stdout",
     "output_type": "stream",
     "text": [
      "=== rates === 0.00017999999999999998\n"
     ]
    },
    {
     "name": "stderr",
     "output_type": "stream",
     "text": [
      "/opt/conda/lib/python3.7/site-packages/ipykernel_launcher.py:42: RuntimeWarning: invalid value encountered in long_scalars\n"
     ]
    },
    {
     "name": "stdout",
     "output_type": "stream",
     "text": [
      "=== rates === 0.00019\n"
     ]
    },
    {
     "name": "stderr",
     "output_type": "stream",
     "text": [
      "/opt/conda/lib/python3.7/site-packages/ipykernel_launcher.py:42: RuntimeWarning: invalid value encountered in long_scalars\n"
     ]
    },
    {
     "name": "stdout",
     "output_type": "stream",
     "text": [
      "=== rates === 0.00019999999999999998\n"
     ]
    },
    {
     "name": "stderr",
     "output_type": "stream",
     "text": [
      "/opt/conda/lib/python3.7/site-packages/ipykernel_launcher.py:42: RuntimeWarning: invalid value encountered in long_scalars\n"
     ]
    },
    {
     "name": "stdout",
     "output_type": "stream",
     "text": [
      "=== rates === 0.00021\n",
      "=== best recall === 0.75\n",
      "=== rates === 0.00021999999999999998\n",
      "=== best recall === 0.8958333333333334\n",
      "=== rates === 0.00023\n",
      "=== rates === 0.00023999999999999998\n",
      "=== rates === 0.00025\n",
      "=== rates === 0.00026\n",
      "=== rates === 0.00027\n",
      "=== rates === 0.00028\n",
      "=== rates === 0.00029\n",
      "=== rates === 0.0003\n",
      "=== rates === 0.00031\n",
      "=== rates === 0.00031999999999999997\n",
      "=== rates === 0.00033\n",
      "=== rates === 0.00033999999999999997\n",
      "=== rates === 0.00035\n",
      "=== rates === 0.00035999999999999997\n",
      "=== rates === 0.00036999999999999994\n",
      "=== rates === 0.00037999999999999997\n",
      "=== rates === 0.00039\n",
      "=== rates === 0.00039999999999999996\n",
      "=== rates === 0.00040999999999999994\n",
      "=== rates === 0.00041999999999999996\n",
      "=== rates === 0.00043\n",
      "=== rates === 0.00043999999999999996\n",
      "=== rates === 0.00044999999999999993\n",
      "=== rates === 0.00045999999999999996\n",
      "=== rates === 0.00047\n",
      "=== rates === 0.00047999999999999996\n",
      "=== rates === 0.00049\n",
      "12/12 [==============================] - 0s 3ms/step - loss: 0.4329 - accuracy: 0.8207\n",
      "Accuracy: 82.0728\n",
      "Model: \"sequential_58\"\n",
      "_________________________________________________________________\n",
      "Layer (type)                 Output Shape              Param #   \n",
      "=================================================================\n",
      "flatten_58 (Flatten)         (None, 26)                0         \n",
      "_________________________________________________________________\n",
      "dense_322 (Dense)            (None, 30)                810       \n",
      "_________________________________________________________________\n",
      "dense_323 (Dense)            (None, 30)                930       \n",
      "_________________________________________________________________\n",
      "dense_324 (Dense)            (None, 30)                930       \n",
      "_________________________________________________________________\n",
      "dense_325 (Dense)            (None, 2)                 62        \n",
      "=================================================================\n",
      "Total params: 2,732\n",
      "Trainable params: 2,732\n",
      "Non-trainable params: 0\n",
      "_________________________________________________________________\n",
      "None\n",
      "=== rates === 0.0001\n",
      "=== best recall === 0.38375350140056025\n",
      "=== rates === 0.00011\n"
     ]
    },
    {
     "name": "stderr",
     "output_type": "stream",
     "text": [
      "/opt/conda/lib/python3.7/site-packages/ipykernel_launcher.py:42: RuntimeWarning: invalid value encountered in long_scalars\n"
     ]
    },
    {
     "name": "stdout",
     "output_type": "stream",
     "text": [
      "=== rates === 0.00012\n"
     ]
    },
    {
     "name": "stderr",
     "output_type": "stream",
     "text": [
      "/opt/conda/lib/python3.7/site-packages/ipykernel_launcher.py:42: RuntimeWarning: invalid value encountered in long_scalars\n"
     ]
    },
    {
     "name": "stdout",
     "output_type": "stream",
     "text": [
      "=== rates === 0.00013000000000000002\n"
     ]
    },
    {
     "name": "stderr",
     "output_type": "stream",
     "text": [
      "/opt/conda/lib/python3.7/site-packages/ipykernel_launcher.py:42: RuntimeWarning: invalid value encountered in long_scalars\n"
     ]
    },
    {
     "name": "stdout",
     "output_type": "stream",
     "text": [
      "=== rates === 0.00014\n"
     ]
    },
    {
     "name": "stderr",
     "output_type": "stream",
     "text": [
      "/opt/conda/lib/python3.7/site-packages/ipykernel_launcher.py:42: RuntimeWarning: invalid value encountered in long_scalars\n"
     ]
    },
    {
     "name": "stdout",
     "output_type": "stream",
     "text": [
      "=== rates === 0.00015000000000000001\n"
     ]
    },
    {
     "name": "stderr",
     "output_type": "stream",
     "text": [
      "/opt/conda/lib/python3.7/site-packages/ipykernel_launcher.py:42: RuntimeWarning: invalid value encountered in long_scalars\n"
     ]
    },
    {
     "name": "stdout",
     "output_type": "stream",
     "text": [
      "=== rates === 0.00015999999999999999\n"
     ]
    },
    {
     "name": "stderr",
     "output_type": "stream",
     "text": [
      "/opt/conda/lib/python3.7/site-packages/ipykernel_launcher.py:42: RuntimeWarning: invalid value encountered in long_scalars\n"
     ]
    },
    {
     "name": "stdout",
     "output_type": "stream",
     "text": [
      "=== rates === 0.00017\n"
     ]
    },
    {
     "name": "stderr",
     "output_type": "stream",
     "text": [
      "/opt/conda/lib/python3.7/site-packages/ipykernel_launcher.py:42: RuntimeWarning: invalid value encountered in long_scalars\n"
     ]
    },
    {
     "name": "stdout",
     "output_type": "stream",
     "text": [
      "=== rates === 0.00017999999999999998\n"
     ]
    },
    {
     "name": "stderr",
     "output_type": "stream",
     "text": [
      "/opt/conda/lib/python3.7/site-packages/ipykernel_launcher.py:42: RuntimeWarning: invalid value encountered in long_scalars\n"
     ]
    },
    {
     "name": "stdout",
     "output_type": "stream",
     "text": [
      "=== rates === 0.00019\n"
     ]
    },
    {
     "name": "stderr",
     "output_type": "stream",
     "text": [
      "/opt/conda/lib/python3.7/site-packages/ipykernel_launcher.py:42: RuntimeWarning: invalid value encountered in long_scalars\n"
     ]
    },
    {
     "name": "stdout",
     "output_type": "stream",
     "text": [
      "=== rates === 0.00019999999999999998\n",
      "=== best recall === 0.9285714285714286\n",
      "=== rates === 0.00021\n",
      "=== best recall === 0.9795918367346939\n",
      "=== rates === 0.00021999999999999998\n",
      "=== rates === 0.00023\n",
      "=== rates === 0.00023999999999999998\n",
      "=== rates === 0.00025\n",
      "=== rates === 0.00026\n",
      "=== rates === 0.00027\n",
      "=== rates === 0.00028\n",
      "=== rates === 0.00029\n",
      "=== rates === 0.0003\n",
      "=== rates === 0.00031\n",
      "=== rates === 0.00031999999999999997\n",
      "=== rates === 0.00033\n",
      "=== rates === 0.00033999999999999997\n",
      "=== rates === 0.00035\n",
      "=== rates === 0.00035999999999999997\n",
      "=== rates === 0.00036999999999999994\n",
      "=== rates === 0.00037999999999999997\n",
      "=== rates === 0.00039\n",
      "=== rates === 0.00039999999999999996\n",
      "=== rates === 0.00040999999999999994\n",
      "=== rates === 0.00041999999999999996\n",
      "=== rates === 0.00043\n",
      "=== rates === 0.00043999999999999996\n",
      "=== rates === 0.00044999999999999993\n",
      "=== rates === 0.00045999999999999996\n",
      "=== rates === 0.00047\n",
      "=== rates === 0.00047999999999999996\n",
      "=== rates === 0.00049\n",
      "12/12 [==============================] - 0s 2ms/step - loss: 0.4332 - accuracy: 0.8151\n",
      "Accuracy: 81.5126\n",
      "Model: \"sequential_59\"\n",
      "_________________________________________________________________\n",
      "Layer (type)                 Output Shape              Param #   \n",
      "=================================================================\n",
      "flatten_59 (Flatten)         (None, 26)                0         \n",
      "_________________________________________________________________\n",
      "dense_326 (Dense)            (None, 41)                1107      \n",
      "_________________________________________________________________\n",
      "dense_327 (Dense)            (None, 41)                1722      \n",
      "_________________________________________________________________\n",
      "dense_328 (Dense)            (None, 2)                 84        \n",
      "=================================================================\n",
      "Total params: 2,913\n",
      "Trainable params: 2,913\n",
      "Non-trainable params: 0\n",
      "_________________________________________________________________\n",
      "None\n",
      "=== rates === 0.0001\n"
     ]
    },
    {
     "name": "stderr",
     "output_type": "stream",
     "text": [
      "/opt/conda/lib/python3.7/site-packages/ipykernel_launcher.py:42: RuntimeWarning: invalid value encountered in long_scalars\n"
     ]
    },
    {
     "name": "stdout",
     "output_type": "stream",
     "text": [
      "=== rates === 0.00011\n"
     ]
    },
    {
     "name": "stderr",
     "output_type": "stream",
     "text": [
      "/opt/conda/lib/python3.7/site-packages/ipykernel_launcher.py:42: RuntimeWarning: invalid value encountered in long_scalars\n"
     ]
    },
    {
     "name": "stdout",
     "output_type": "stream",
     "text": [
      "=== rates === 0.00012\n"
     ]
    },
    {
     "name": "stderr",
     "output_type": "stream",
     "text": [
      "/opt/conda/lib/python3.7/site-packages/ipykernel_launcher.py:42: RuntimeWarning: invalid value encountered in long_scalars\n"
     ]
    },
    {
     "name": "stdout",
     "output_type": "stream",
     "text": [
      "=== rates === 0.00013000000000000002\n"
     ]
    },
    {
     "name": "stderr",
     "output_type": "stream",
     "text": [
      "/opt/conda/lib/python3.7/site-packages/ipykernel_launcher.py:42: RuntimeWarning: invalid value encountered in long_scalars\n"
     ]
    },
    {
     "name": "stdout",
     "output_type": "stream",
     "text": [
      "=== rates === 0.00014\n"
     ]
    },
    {
     "name": "stderr",
     "output_type": "stream",
     "text": [
      "/opt/conda/lib/python3.7/site-packages/ipykernel_launcher.py:42: RuntimeWarning: invalid value encountered in long_scalars\n"
     ]
    },
    {
     "name": "stdout",
     "output_type": "stream",
     "text": [
      "=== rates === 0.00015000000000000001\n"
     ]
    },
    {
     "name": "stderr",
     "output_type": "stream",
     "text": [
      "/opt/conda/lib/python3.7/site-packages/ipykernel_launcher.py:42: RuntimeWarning: invalid value encountered in long_scalars\n"
     ]
    },
    {
     "name": "stdout",
     "output_type": "stream",
     "text": [
      "=== rates === 0.00015999999999999999\n",
      "=== best recall === 1.0\n",
      "=== rates === 0.00017\n",
      "=== rates === 0.00017999999999999998\n",
      "=== rates === 0.00019\n",
      "=== rates === 0.00019999999999999998\n",
      "=== rates === 0.00021\n",
      "=== rates === 0.00021999999999999998\n",
      "=== rates === 0.00023\n",
      "=== rates === 0.00023999999999999998\n",
      "=== rates === 0.00025\n",
      "=== rates === 0.00026\n",
      "=== rates === 0.00027\n",
      "=== rates === 0.00028\n",
      "=== rates === 0.00029\n",
      "=== rates === 0.0003\n",
      "=== rates === 0.00031\n",
      "=== rates === 0.00031999999999999997\n",
      "=== rates === 0.00033\n",
      "=== rates === 0.00033999999999999997\n",
      "=== rates === 0.00035\n",
      "=== rates === 0.00035999999999999997\n",
      "=== rates === 0.00036999999999999994\n",
      "=== rates === 0.00037999999999999997\n",
      "=== rates === 0.00039\n",
      "=== rates === 0.00039999999999999996\n",
      "=== rates === 0.00040999999999999994\n",
      "=== rates === 0.00041999999999999996\n",
      "=== rates === 0.00043\n",
      "=== rates === 0.00043999999999999996\n",
      "=== rates === 0.00044999999999999993\n",
      "=== rates === 0.00045999999999999996\n",
      "=== rates === 0.00047\n",
      "=== rates === 0.00047999999999999996\n",
      "=== rates === 0.00049\n",
      "12/12 [==============================] - 0s 3ms/step - loss: 0.4269 - accuracy: 0.8151\n",
      "Accuracy: 81.5126\n",
      "Model: \"sequential_60\"\n",
      "_________________________________________________________________\n",
      "Layer (type)                 Output Shape              Param #   \n",
      "=================================================================\n",
      "flatten_60 (Flatten)         (None, 26)                0         \n",
      "_________________________________________________________________\n",
      "dense_329 (Dense)            (None, 31)                837       \n",
      "_________________________________________________________________\n",
      "dense_330 (Dense)            (None, 31)                992       \n",
      "_________________________________________________________________\n",
      "dense_331 (Dense)            (None, 31)                992       \n",
      "_________________________________________________________________\n",
      "dense_332 (Dense)            (None, 31)                992       \n",
      "_________________________________________________________________\n",
      "dense_333 (Dense)            (None, 31)                992       \n",
      "_________________________________________________________________\n",
      "dense_334 (Dense)            (None, 31)                992       \n",
      "_________________________________________________________________\n",
      "dense_335 (Dense)            (None, 31)                992       \n",
      "_________________________________________________________________\n",
      "dense_336 (Dense)            (None, 2)                 64        \n",
      "=================================================================\n",
      "Total params: 6,853\n",
      "Trainable params: 6,853\n",
      "Non-trainable params: 0\n",
      "_________________________________________________________________\n",
      "None\n",
      "=== rates === 0.0001\n"
     ]
    },
    {
     "name": "stderr",
     "output_type": "stream",
     "text": [
      "/opt/conda/lib/python3.7/site-packages/ipykernel_launcher.py:42: RuntimeWarning: invalid value encountered in long_scalars\n"
     ]
    },
    {
     "name": "stdout",
     "output_type": "stream",
     "text": [
      "=== rates === 0.00011\n"
     ]
    },
    {
     "name": "stderr",
     "output_type": "stream",
     "text": [
      "/opt/conda/lib/python3.7/site-packages/ipykernel_launcher.py:42: RuntimeWarning: invalid value encountered in long_scalars\n"
     ]
    },
    {
     "name": "stdout",
     "output_type": "stream",
     "text": [
      "=== rates === 0.00012\n"
     ]
    },
    {
     "name": "stderr",
     "output_type": "stream",
     "text": [
      "/opt/conda/lib/python3.7/site-packages/ipykernel_launcher.py:42: RuntimeWarning: invalid value encountered in long_scalars\n"
     ]
    },
    {
     "name": "stdout",
     "output_type": "stream",
     "text": [
      "=== rates === 0.00013000000000000002\n"
     ]
    },
    {
     "name": "stderr",
     "output_type": "stream",
     "text": [
      "/opt/conda/lib/python3.7/site-packages/ipykernel_launcher.py:42: RuntimeWarning: invalid value encountered in long_scalars\n"
     ]
    },
    {
     "name": "stdout",
     "output_type": "stream",
     "text": [
      "=== rates === 0.00014\n"
     ]
    },
    {
     "name": "stderr",
     "output_type": "stream",
     "text": [
      "/opt/conda/lib/python3.7/site-packages/ipykernel_launcher.py:42: RuntimeWarning: invalid value encountered in long_scalars\n"
     ]
    },
    {
     "name": "stdout",
     "output_type": "stream",
     "text": [
      "=== rates === 0.00015000000000000001\n"
     ]
    },
    {
     "name": "stderr",
     "output_type": "stream",
     "text": [
      "/opt/conda/lib/python3.7/site-packages/ipykernel_launcher.py:42: RuntimeWarning: invalid value encountered in long_scalars\n"
     ]
    },
    {
     "name": "stdout",
     "output_type": "stream",
     "text": [
      "=== rates === 0.00015999999999999999\n"
     ]
    },
    {
     "name": "stderr",
     "output_type": "stream",
     "text": [
      "/opt/conda/lib/python3.7/site-packages/ipykernel_launcher.py:42: RuntimeWarning: invalid value encountered in long_scalars\n"
     ]
    },
    {
     "name": "stdout",
     "output_type": "stream",
     "text": [
      "=== rates === 0.00017\n"
     ]
    },
    {
     "name": "stderr",
     "output_type": "stream",
     "text": [
      "/opt/conda/lib/python3.7/site-packages/ipykernel_launcher.py:42: RuntimeWarning: invalid value encountered in long_scalars\n"
     ]
    },
    {
     "name": "stdout",
     "output_type": "stream",
     "text": [
      "=== rates === 0.00017999999999999998\n"
     ]
    },
    {
     "name": "stderr",
     "output_type": "stream",
     "text": [
      "/opt/conda/lib/python3.7/site-packages/ipykernel_launcher.py:42: RuntimeWarning: invalid value encountered in long_scalars\n"
     ]
    },
    {
     "name": "stdout",
     "output_type": "stream",
     "text": [
      "=== rates === 0.00019\n"
     ]
    },
    {
     "name": "stderr",
     "output_type": "stream",
     "text": [
      "/opt/conda/lib/python3.7/site-packages/ipykernel_launcher.py:42: RuntimeWarning: invalid value encountered in long_scalars\n"
     ]
    },
    {
     "name": "stdout",
     "output_type": "stream",
     "text": [
      "=== rates === 0.00019999999999999998\n"
     ]
    },
    {
     "name": "stderr",
     "output_type": "stream",
     "text": [
      "/opt/conda/lib/python3.7/site-packages/ipykernel_launcher.py:42: RuntimeWarning: invalid value encountered in long_scalars\n"
     ]
    },
    {
     "name": "stdout",
     "output_type": "stream",
     "text": [
      "=== rates === 0.00021\n"
     ]
    },
    {
     "name": "stderr",
     "output_type": "stream",
     "text": [
      "/opt/conda/lib/python3.7/site-packages/ipykernel_launcher.py:42: RuntimeWarning: invalid value encountered in long_scalars\n"
     ]
    },
    {
     "name": "stdout",
     "output_type": "stream",
     "text": [
      "=== rates === 0.00021999999999999998\n"
     ]
    },
    {
     "name": "stderr",
     "output_type": "stream",
     "text": [
      "/opt/conda/lib/python3.7/site-packages/ipykernel_launcher.py:42: RuntimeWarning: invalid value encountered in long_scalars\n"
     ]
    },
    {
     "name": "stdout",
     "output_type": "stream",
     "text": [
      "=== rates === 0.00023\n"
     ]
    },
    {
     "name": "stderr",
     "output_type": "stream",
     "text": [
      "/opt/conda/lib/python3.7/site-packages/ipykernel_launcher.py:42: RuntimeWarning: invalid value encountered in long_scalars\n"
     ]
    },
    {
     "name": "stdout",
     "output_type": "stream",
     "text": [
      "=== rates === 0.00023999999999999998\n"
     ]
    },
    {
     "name": "stderr",
     "output_type": "stream",
     "text": [
      "/opt/conda/lib/python3.7/site-packages/ipykernel_launcher.py:42: RuntimeWarning: invalid value encountered in long_scalars\n"
     ]
    },
    {
     "name": "stdout",
     "output_type": "stream",
     "text": [
      "=== rates === 0.00025\n",
      "=== best recall === 0.95\n",
      "=== rates === 0.00026\n",
      "=== rates === 0.00027\n",
      "=== rates === 0.00028\n",
      "=== rates === 0.00029\n",
      "=== rates === 0.0003\n",
      "=== rates === 0.00031\n",
      "=== rates === 0.00031999999999999997\n",
      "=== rates === 0.00033\n",
      "=== rates === 0.00033999999999999997\n",
      "=== rates === 0.00035\n",
      "=== rates === 0.00035999999999999997\n",
      "=== rates === 0.00036999999999999994\n",
      "=== rates === 0.00037999999999999997\n",
      "=== rates === 0.00039\n",
      "=== rates === 0.00039999999999999996\n",
      "=== rates === 0.00040999999999999994\n",
      "=== rates === 0.00041999999999999996\n",
      "=== rates === 0.00043\n",
      "=== rates === 0.00043999999999999996\n",
      "=== rates === 0.00044999999999999993\n",
      "=== rates === 0.00045999999999999996\n",
      "=== rates === 0.00047\n",
      "=== rates === 0.00047999999999999996\n",
      "=== rates === 0.00049\n",
      "12/12 [==============================] - 0s 3ms/step - loss: 0.4334 - accuracy: 0.8151\n",
      "Accuracy: 81.5126\n",
      "Model: \"sequential_61\"\n",
      "_________________________________________________________________\n",
      "Layer (type)                 Output Shape              Param #   \n",
      "=================================================================\n",
      "flatten_61 (Flatten)         (None, 26)                0         \n",
      "_________________________________________________________________\n",
      "dense_337 (Dense)            (None, 46)                1242      \n",
      "_________________________________________________________________\n",
      "dense_338 (Dense)            (None, 46)                2162      \n",
      "_________________________________________________________________\n",
      "dense_339 (Dense)            (None, 46)                2162      \n",
      "_________________________________________________________________\n",
      "dense_340 (Dense)            (None, 46)                2162      \n",
      "_________________________________________________________________\n",
      "dense_341 (Dense)            (None, 46)                2162      \n",
      "_________________________________________________________________\n",
      "dense_342 (Dense)            (None, 46)                2162      \n",
      "_________________________________________________________________\n",
      "dense_343 (Dense)            (None, 46)                2162      \n",
      "_________________________________________________________________\n",
      "dense_344 (Dense)            (None, 46)                2162      \n",
      "_________________________________________________________________\n",
      "dense_345 (Dense)            (None, 2)                 94        \n",
      "=================================================================\n",
      "Total params: 16,470\n",
      "Trainable params: 16,470\n",
      "Non-trainable params: 0\n",
      "_________________________________________________________________\n",
      "None\n",
      "=== rates === 0.0001\n"
     ]
    },
    {
     "name": "stderr",
     "output_type": "stream",
     "text": [
      "/opt/conda/lib/python3.7/site-packages/ipykernel_launcher.py:42: RuntimeWarning: invalid value encountered in long_scalars\n"
     ]
    },
    {
     "name": "stdout",
     "output_type": "stream",
     "text": [
      "=== rates === 0.00011\n"
     ]
    },
    {
     "name": "stderr",
     "output_type": "stream",
     "text": [
      "/opt/conda/lib/python3.7/site-packages/ipykernel_launcher.py:42: RuntimeWarning: invalid value encountered in long_scalars\n"
     ]
    },
    {
     "name": "stdout",
     "output_type": "stream",
     "text": [
      "=== rates === 0.00012\n"
     ]
    },
    {
     "name": "stderr",
     "output_type": "stream",
     "text": [
      "/opt/conda/lib/python3.7/site-packages/ipykernel_launcher.py:42: RuntimeWarning: invalid value encountered in long_scalars\n"
     ]
    },
    {
     "name": "stdout",
     "output_type": "stream",
     "text": [
      "=== rates === 0.00013000000000000002\n"
     ]
    },
    {
     "name": "stderr",
     "output_type": "stream",
     "text": [
      "/opt/conda/lib/python3.7/site-packages/ipykernel_launcher.py:42: RuntimeWarning: invalid value encountered in long_scalars\n"
     ]
    },
    {
     "name": "stdout",
     "output_type": "stream",
     "text": [
      "=== rates === 0.00014\n"
     ]
    },
    {
     "name": "stderr",
     "output_type": "stream",
     "text": [
      "/opt/conda/lib/python3.7/site-packages/ipykernel_launcher.py:42: RuntimeWarning: invalid value encountered in long_scalars\n"
     ]
    },
    {
     "name": "stdout",
     "output_type": "stream",
     "text": [
      "=== rates === 0.00015000000000000001\n"
     ]
    },
    {
     "name": "stderr",
     "output_type": "stream",
     "text": [
      "/opt/conda/lib/python3.7/site-packages/ipykernel_launcher.py:42: RuntimeWarning: invalid value encountered in long_scalars\n"
     ]
    },
    {
     "name": "stdout",
     "output_type": "stream",
     "text": [
      "=== rates === 0.00015999999999999999\n"
     ]
    },
    {
     "name": "stderr",
     "output_type": "stream",
     "text": [
      "/opt/conda/lib/python3.7/site-packages/ipykernel_launcher.py:42: RuntimeWarning: invalid value encountered in long_scalars\n"
     ]
    },
    {
     "name": "stdout",
     "output_type": "stream",
     "text": [
      "=== rates === 0.00017\n"
     ]
    },
    {
     "name": "stderr",
     "output_type": "stream",
     "text": [
      "/opt/conda/lib/python3.7/site-packages/ipykernel_launcher.py:42: RuntimeWarning: invalid value encountered in long_scalars\n"
     ]
    },
    {
     "name": "stdout",
     "output_type": "stream",
     "text": [
      "=== rates === 0.00017999999999999998\n"
     ]
    },
    {
     "name": "stderr",
     "output_type": "stream",
     "text": [
      "/opt/conda/lib/python3.7/site-packages/ipykernel_launcher.py:42: RuntimeWarning: invalid value encountered in long_scalars\n"
     ]
    },
    {
     "name": "stdout",
     "output_type": "stream",
     "text": [
      "=== rates === 0.00019\n"
     ]
    },
    {
     "name": "stderr",
     "output_type": "stream",
     "text": [
      "/opt/conda/lib/python3.7/site-packages/ipykernel_launcher.py:42: RuntimeWarning: invalid value encountered in long_scalars\n"
     ]
    },
    {
     "name": "stdout",
     "output_type": "stream",
     "text": [
      "=== rates === 0.00019999999999999998\n"
     ]
    },
    {
     "name": "stderr",
     "output_type": "stream",
     "text": [
      "/opt/conda/lib/python3.7/site-packages/ipykernel_launcher.py:42: RuntimeWarning: invalid value encountered in long_scalars\n"
     ]
    },
    {
     "name": "stdout",
     "output_type": "stream",
     "text": [
      "=== rates === 0.00021\n"
     ]
    },
    {
     "name": "stderr",
     "output_type": "stream",
     "text": [
      "/opt/conda/lib/python3.7/site-packages/ipykernel_launcher.py:42: RuntimeWarning: invalid value encountered in long_scalars\n"
     ]
    },
    {
     "name": "stdout",
     "output_type": "stream",
     "text": [
      "=== rates === 0.00021999999999999998\n"
     ]
    },
    {
     "name": "stderr",
     "output_type": "stream",
     "text": [
      "/opt/conda/lib/python3.7/site-packages/ipykernel_launcher.py:42: RuntimeWarning: invalid value encountered in long_scalars\n"
     ]
    },
    {
     "name": "stdout",
     "output_type": "stream",
     "text": [
      "=== rates === 0.00023\n"
     ]
    },
    {
     "name": "stderr",
     "output_type": "stream",
     "text": [
      "/opt/conda/lib/python3.7/site-packages/ipykernel_launcher.py:42: RuntimeWarning: invalid value encountered in long_scalars\n"
     ]
    },
    {
     "name": "stdout",
     "output_type": "stream",
     "text": [
      "=== rates === 0.00023999999999999998\n"
     ]
    },
    {
     "name": "stderr",
     "output_type": "stream",
     "text": [
      "/opt/conda/lib/python3.7/site-packages/ipykernel_launcher.py:42: RuntimeWarning: invalid value encountered in long_scalars\n"
     ]
    },
    {
     "name": "stdout",
     "output_type": "stream",
     "text": [
      "=== rates === 0.00025\n"
     ]
    },
    {
     "name": "stderr",
     "output_type": "stream",
     "text": [
      "/opt/conda/lib/python3.7/site-packages/ipykernel_launcher.py:42: RuntimeWarning: invalid value encountered in long_scalars\n"
     ]
    },
    {
     "name": "stdout",
     "output_type": "stream",
     "text": [
      "=== rates === 0.00026\n"
     ]
    },
    {
     "name": "stderr",
     "output_type": "stream",
     "text": [
      "/opt/conda/lib/python3.7/site-packages/ipykernel_launcher.py:42: RuntimeWarning: invalid value encountered in long_scalars\n"
     ]
    },
    {
     "name": "stdout",
     "output_type": "stream",
     "text": [
      "=== rates === 0.00027\n"
     ]
    },
    {
     "name": "stderr",
     "output_type": "stream",
     "text": [
      "/opt/conda/lib/python3.7/site-packages/ipykernel_launcher.py:42: RuntimeWarning: invalid value encountered in long_scalars\n"
     ]
    },
    {
     "name": "stdout",
     "output_type": "stream",
     "text": [
      "=== rates === 0.00028\n",
      "=== best recall === 0.7480314960629921\n",
      "=== rates === 0.00029\n",
      "=== rates === 0.0003\n",
      "=== best recall === 0.753968253968254\n",
      "=== rates === 0.00031\n",
      "=== rates === 0.00031999999999999997\n",
      "=== rates === 0.00033\n",
      "=== best recall === 0.768595041322314\n",
      "=== rates === 0.00033999999999999997\n",
      "=== best recall === 0.7982456140350878\n",
      "=== rates === 0.00035\n",
      "=== best recall === 0.8125\n",
      "=== rates === 0.00035999999999999997\n",
      "=== best recall === 0.8446601941747572\n",
      "=== rates === 0.00036999999999999994\n",
      "=== best recall === 0.8514851485148515\n",
      "=== rates === 0.00037999999999999997\n",
      "=== rates === 0.00039\n",
      "=== rates === 0.00039999999999999996\n",
      "=== rates === 0.00040999999999999994\n",
      "=== rates === 0.00041999999999999996\n",
      "=== rates === 0.00043\n",
      "=== best recall === 0.8556701030927835\n",
      "=== rates === 0.00043999999999999996\n",
      "=== rates === 0.00044999999999999993\n",
      "=== best recall === 0.8586956521739131\n",
      "=== rates === 0.00045999999999999996\n",
      "=== rates === 0.00047\n",
      "=== rates === 0.00047999999999999996\n",
      "=== rates === 0.00049\n",
      "=== best recall === 0.8631578947368421\n",
      "12/12 [==============================] - 0s 4ms/step - loss: 0.4462 - accuracy: 0.8235\n",
      "Accuracy: 82.3529\n",
      "Model: \"sequential_62\"\n",
      "_________________________________________________________________\n",
      "Layer (type)                 Output Shape              Param #   \n",
      "=================================================================\n",
      "flatten_62 (Flatten)         (None, 26)                0         \n",
      "_________________________________________________________________\n",
      "dense_346 (Dense)            (None, 27)                729       \n",
      "_________________________________________________________________\n",
      "dense_347 (Dense)            (None, 27)                756       \n",
      "_________________________________________________________________\n",
      "dense_348 (Dense)            (None, 27)                756       \n",
      "_________________________________________________________________\n",
      "dense_349 (Dense)            (None, 27)                756       \n",
      "_________________________________________________________________\n",
      "dense_350 (Dense)            (None, 2)                 56        \n",
      "=================================================================\n",
      "Total params: 3,053\n",
      "Trainable params: 3,053\n",
      "Non-trainable params: 0\n",
      "_________________________________________________________________\n",
      "None\n",
      "=== rates === 0.0001\n"
     ]
    },
    {
     "name": "stderr",
     "output_type": "stream",
     "text": [
      "/opt/conda/lib/python3.7/site-packages/ipykernel_launcher.py:42: RuntimeWarning: invalid value encountered in long_scalars\n"
     ]
    },
    {
     "name": "stdout",
     "output_type": "stream",
     "text": [
      "=== rates === 0.00011\n"
     ]
    },
    {
     "name": "stderr",
     "output_type": "stream",
     "text": [
      "/opt/conda/lib/python3.7/site-packages/ipykernel_launcher.py:42: RuntimeWarning: invalid value encountered in long_scalars\n"
     ]
    },
    {
     "name": "stdout",
     "output_type": "stream",
     "text": [
      "=== rates === 0.00012\n"
     ]
    },
    {
     "name": "stderr",
     "output_type": "stream",
     "text": [
      "/opt/conda/lib/python3.7/site-packages/ipykernel_launcher.py:42: RuntimeWarning: invalid value encountered in long_scalars\n"
     ]
    },
    {
     "name": "stdout",
     "output_type": "stream",
     "text": [
      "=== rates === 0.00013000000000000002\n"
     ]
    },
    {
     "name": "stderr",
     "output_type": "stream",
     "text": [
      "/opt/conda/lib/python3.7/site-packages/ipykernel_launcher.py:42: RuntimeWarning: invalid value encountered in long_scalars\n"
     ]
    },
    {
     "name": "stdout",
     "output_type": "stream",
     "text": [
      "=== rates === 0.00014\n"
     ]
    },
    {
     "name": "stderr",
     "output_type": "stream",
     "text": [
      "/opt/conda/lib/python3.7/site-packages/ipykernel_launcher.py:42: RuntimeWarning: invalid value encountered in long_scalars\n"
     ]
    },
    {
     "name": "stdout",
     "output_type": "stream",
     "text": [
      "=== rates === 0.00015000000000000001\n"
     ]
    },
    {
     "name": "stderr",
     "output_type": "stream",
     "text": [
      "/opt/conda/lib/python3.7/site-packages/ipykernel_launcher.py:42: RuntimeWarning: invalid value encountered in long_scalars\n"
     ]
    },
    {
     "name": "stdout",
     "output_type": "stream",
     "text": [
      "=== rates === 0.00015999999999999999\n"
     ]
    },
    {
     "name": "stderr",
     "output_type": "stream",
     "text": [
      "/opt/conda/lib/python3.7/site-packages/ipykernel_launcher.py:42: RuntimeWarning: invalid value encountered in long_scalars\n"
     ]
    },
    {
     "name": "stdout",
     "output_type": "stream",
     "text": [
      "=== rates === 0.00017\n"
     ]
    },
    {
     "name": "stderr",
     "output_type": "stream",
     "text": [
      "/opt/conda/lib/python3.7/site-packages/ipykernel_launcher.py:42: RuntimeWarning: invalid value encountered in long_scalars\n"
     ]
    },
    {
     "name": "stdout",
     "output_type": "stream",
     "text": [
      "=== rates === 0.00017999999999999998\n"
     ]
    },
    {
     "name": "stderr",
     "output_type": "stream",
     "text": [
      "/opt/conda/lib/python3.7/site-packages/ipykernel_launcher.py:42: RuntimeWarning: invalid value encountered in long_scalars\n"
     ]
    },
    {
     "name": "stdout",
     "output_type": "stream",
     "text": [
      "=== rates === 0.00019\n"
     ]
    },
    {
     "name": "stderr",
     "output_type": "stream",
     "text": [
      "/opt/conda/lib/python3.7/site-packages/ipykernel_launcher.py:42: RuntimeWarning: invalid value encountered in long_scalars\n"
     ]
    },
    {
     "name": "stdout",
     "output_type": "stream",
     "text": [
      "=== rates === 0.00019999999999999998\n"
     ]
    },
    {
     "name": "stderr",
     "output_type": "stream",
     "text": [
      "/opt/conda/lib/python3.7/site-packages/ipykernel_launcher.py:42: RuntimeWarning: invalid value encountered in long_scalars\n"
     ]
    },
    {
     "name": "stdout",
     "output_type": "stream",
     "text": [
      "=== rates === 0.00021\n"
     ]
    },
    {
     "name": "stderr",
     "output_type": "stream",
     "text": [
      "/opt/conda/lib/python3.7/site-packages/ipykernel_launcher.py:42: RuntimeWarning: invalid value encountered in long_scalars\n"
     ]
    },
    {
     "name": "stdout",
     "output_type": "stream",
     "text": [
      "=== rates === 0.00021999999999999998\n",
      "=== best recall === 0.9583333333333334\n",
      "=== rates === 0.00023\n",
      "=== rates === 0.00023999999999999998\n",
      "=== rates === 0.00025\n",
      "=== rates === 0.00026\n",
      "=== rates === 0.00027\n",
      "=== rates === 0.00028\n",
      "=== rates === 0.00029\n",
      "=== rates === 0.0003\n",
      "=== rates === 0.00031\n",
      "=== rates === 0.00031999999999999997\n",
      "=== rates === 0.00033\n",
      "=== rates === 0.00033999999999999997\n",
      "=== rates === 0.00035\n",
      "=== rates === 0.00035999999999999997\n",
      "=== rates === 0.00036999999999999994\n",
      "=== rates === 0.00037999999999999997\n",
      "=== rates === 0.00039\n",
      "=== rates === 0.00039999999999999996\n",
      "=== rates === 0.00040999999999999994\n",
      "=== rates === 0.00041999999999999996\n",
      "=== rates === 0.00043\n",
      "=== rates === 0.00043999999999999996\n",
      "=== rates === 0.00044999999999999993\n",
      "=== rates === 0.00045999999999999996\n",
      "=== rates === 0.00047\n",
      "=== rates === 0.00047999999999999996\n",
      "=== rates === 0.00049\n",
      "12/12 [==============================] - 0s 3ms/step - loss: 0.4325 - accuracy: 0.8151\n",
      "Accuracy: 81.5126\n",
      "Model: \"sequential_63\"\n",
      "_________________________________________________________________\n",
      "Layer (type)                 Output Shape              Param #   \n",
      "=================================================================\n",
      "flatten_63 (Flatten)         (None, 26)                0         \n",
      "_________________________________________________________________\n",
      "dense_351 (Dense)            (None, 31)                837       \n",
      "_________________________________________________________________\n",
      "dense_352 (Dense)            (None, 31)                992       \n",
      "_________________________________________________________________\n",
      "dense_353 (Dense)            (None, 31)                992       \n",
      "_________________________________________________________________\n",
      "dense_354 (Dense)            (None, 31)                992       \n",
      "_________________________________________________________________\n",
      "dense_355 (Dense)            (None, 31)                992       \n",
      "_________________________________________________________________\n",
      "dense_356 (Dense)            (None, 2)                 64        \n",
      "=================================================================\n",
      "Total params: 4,869\n",
      "Trainable params: 4,869\n",
      "Non-trainable params: 0\n",
      "_________________________________________________________________\n",
      "None\n",
      "=== rates === 0.0001\n"
     ]
    },
    {
     "name": "stderr",
     "output_type": "stream",
     "text": [
      "/opt/conda/lib/python3.7/site-packages/ipykernel_launcher.py:42: RuntimeWarning: invalid value encountered in long_scalars\n"
     ]
    },
    {
     "name": "stdout",
     "output_type": "stream",
     "text": [
      "=== rates === 0.00011\n"
     ]
    },
    {
     "name": "stderr",
     "output_type": "stream",
     "text": [
      "/opt/conda/lib/python3.7/site-packages/ipykernel_launcher.py:42: RuntimeWarning: invalid value encountered in long_scalars\n"
     ]
    },
    {
     "name": "stdout",
     "output_type": "stream",
     "text": [
      "=== rates === 0.00012\n"
     ]
    },
    {
     "name": "stderr",
     "output_type": "stream",
     "text": [
      "/opt/conda/lib/python3.7/site-packages/ipykernel_launcher.py:42: RuntimeWarning: invalid value encountered in long_scalars\n"
     ]
    },
    {
     "name": "stdout",
     "output_type": "stream",
     "text": [
      "=== rates === 0.00013000000000000002\n"
     ]
    },
    {
     "name": "stderr",
     "output_type": "stream",
     "text": [
      "/opt/conda/lib/python3.7/site-packages/ipykernel_launcher.py:42: RuntimeWarning: invalid value encountered in long_scalars\n"
     ]
    },
    {
     "name": "stdout",
     "output_type": "stream",
     "text": [
      "=== rates === 0.00014\n"
     ]
    },
    {
     "name": "stderr",
     "output_type": "stream",
     "text": [
      "/opt/conda/lib/python3.7/site-packages/ipykernel_launcher.py:42: RuntimeWarning: invalid value encountered in long_scalars\n"
     ]
    },
    {
     "name": "stdout",
     "output_type": "stream",
     "text": [
      "=== rates === 0.00015000000000000001\n"
     ]
    },
    {
     "name": "stderr",
     "output_type": "stream",
     "text": [
      "/opt/conda/lib/python3.7/site-packages/ipykernel_launcher.py:42: RuntimeWarning: invalid value encountered in long_scalars\n"
     ]
    },
    {
     "name": "stdout",
     "output_type": "stream",
     "text": [
      "=== rates === 0.00015999999999999999\n"
     ]
    },
    {
     "name": "stderr",
     "output_type": "stream",
     "text": [
      "/opt/conda/lib/python3.7/site-packages/ipykernel_launcher.py:42: RuntimeWarning: invalid value encountered in long_scalars\n"
     ]
    },
    {
     "name": "stdout",
     "output_type": "stream",
     "text": [
      "=== rates === 0.00017\n"
     ]
    },
    {
     "name": "stderr",
     "output_type": "stream",
     "text": [
      "/opt/conda/lib/python3.7/site-packages/ipykernel_launcher.py:42: RuntimeWarning: invalid value encountered in long_scalars\n"
     ]
    },
    {
     "name": "stdout",
     "output_type": "stream",
     "text": [
      "=== rates === 0.00017999999999999998\n"
     ]
    },
    {
     "name": "stderr",
     "output_type": "stream",
     "text": [
      "/opt/conda/lib/python3.7/site-packages/ipykernel_launcher.py:42: RuntimeWarning: invalid value encountered in long_scalars\n"
     ]
    },
    {
     "name": "stdout",
     "output_type": "stream",
     "text": [
      "=== rates === 0.00019\n"
     ]
    },
    {
     "name": "stderr",
     "output_type": "stream",
     "text": [
      "/opt/conda/lib/python3.7/site-packages/ipykernel_launcher.py:42: RuntimeWarning: invalid value encountered in long_scalars\n"
     ]
    },
    {
     "name": "stdout",
     "output_type": "stream",
     "text": [
      "=== rates === 0.00019999999999999998\n"
     ]
    },
    {
     "name": "stderr",
     "output_type": "stream",
     "text": [
      "/opt/conda/lib/python3.7/site-packages/ipykernel_launcher.py:42: RuntimeWarning: invalid value encountered in long_scalars\n"
     ]
    },
    {
     "name": "stdout",
     "output_type": "stream",
     "text": [
      "=== rates === 0.00021\n"
     ]
    },
    {
     "name": "stderr",
     "output_type": "stream",
     "text": [
      "/opt/conda/lib/python3.7/site-packages/ipykernel_launcher.py:42: RuntimeWarning: invalid value encountered in long_scalars\n"
     ]
    },
    {
     "name": "stdout",
     "output_type": "stream",
     "text": [
      "=== rates === 0.00021999999999999998\n"
     ]
    },
    {
     "name": "stderr",
     "output_type": "stream",
     "text": [
      "/opt/conda/lib/python3.7/site-packages/ipykernel_launcher.py:42: RuntimeWarning: invalid value encountered in long_scalars\n"
     ]
    },
    {
     "name": "stdout",
     "output_type": "stream",
     "text": [
      "=== rates === 0.00023\n",
      "=== best recall === 0.8082191780821918\n",
      "=== rates === 0.00023999999999999998\n",
      "=== best recall === 0.8130841121495327\n",
      "=== rates === 0.00025\n",
      "=== rates === 0.00026\n",
      "=== rates === 0.00027\n",
      "=== rates === 0.00028\n",
      "=== rates === 0.00029\n",
      "=== rates === 0.0003\n",
      "=== rates === 0.00031\n",
      "=== best recall === 0.8165137614678899\n",
      "=== rates === 0.00031999999999999997\n",
      "=== best recall === 0.8240740740740741\n",
      "=== rates === 0.00033\n",
      "=== best recall === 0.8529411764705882\n",
      "=== rates === 0.00033999999999999997\n",
      "=== best recall === 0.8631578947368421\n",
      "=== rates === 0.00035\n",
      "=== best recall === 0.8686868686868687\n",
      "=== rates === 0.00035999999999999997\n",
      "=== rates === 0.00036999999999999994\n",
      "=== rates === 0.00037999999999999997\n",
      "=== rates === 0.00039\n",
      "=== best recall === 0.8817204301075269\n",
      "=== rates === 0.00039999999999999996\n",
      "=== best recall === 0.8829787234042553\n",
      "=== rates === 0.00040999999999999994\n",
      "=== rates === 0.00041999999999999996\n",
      "=== rates === 0.00043\n",
      "=== best recall === 0.8913043478260869\n",
      "=== rates === 0.00043999999999999996\n",
      "=== rates === 0.00044999999999999993\n",
      "=== rates === 0.00045999999999999996\n",
      "=== rates === 0.00047\n",
      "=== rates === 0.00047999999999999996\n",
      "=== rates === 0.00049\n",
      "12/12 [==============================] - 0s 3ms/step - loss: 0.4362 - accuracy: 0.8123\n",
      "Accuracy: 81.2325\n",
      "Model: \"sequential_64\"\n",
      "_________________________________________________________________\n",
      "Layer (type)                 Output Shape              Param #   \n",
      "=================================================================\n",
      "flatten_64 (Flatten)         (None, 26)                0         \n",
      "_________________________________________________________________\n",
      "dense_357 (Dense)            (None, 27)                729       \n",
      "_________________________________________________________________\n",
      "dense_358 (Dense)            (None, 2)                 56        \n",
      "=================================================================\n",
      "Total params: 785\n",
      "Trainable params: 785\n",
      "Non-trainable params: 0\n",
      "_________________________________________________________________\n",
      "None\n",
      "=== rates === 0.0001\n"
     ]
    },
    {
     "name": "stderr",
     "output_type": "stream",
     "text": [
      "/opt/conda/lib/python3.7/site-packages/ipykernel_launcher.py:42: RuntimeWarning: invalid value encountered in long_scalars\n"
     ]
    },
    {
     "name": "stdout",
     "output_type": "stream",
     "text": [
      "=== rates === 0.00011\n"
     ]
    },
    {
     "name": "stderr",
     "output_type": "stream",
     "text": [
      "/opt/conda/lib/python3.7/site-packages/ipykernel_launcher.py:42: RuntimeWarning: invalid value encountered in long_scalars\n"
     ]
    },
    {
     "name": "stdout",
     "output_type": "stream",
     "text": [
      "=== rates === 0.00012\n"
     ]
    },
    {
     "name": "stderr",
     "output_type": "stream",
     "text": [
      "/opt/conda/lib/python3.7/site-packages/ipykernel_launcher.py:42: RuntimeWarning: invalid value encountered in long_scalars\n"
     ]
    },
    {
     "name": "stdout",
     "output_type": "stream",
     "text": [
      "=== rates === 0.00013000000000000002\n",
      "=== best recall === 1.0\n",
      "=== rates === 0.00014\n",
      "=== rates === 0.00015000000000000001\n",
      "=== rates === 0.00015999999999999999\n",
      "=== rates === 0.00017\n",
      "=== rates === 0.00017999999999999998\n",
      "=== rates === 0.00019\n",
      "=== rates === 0.00019999999999999998\n",
      "=== rates === 0.00021\n",
      "=== rates === 0.00021999999999999998\n",
      "=== rates === 0.00023\n",
      "=== rates === 0.00023999999999999998\n",
      "=== rates === 0.00025\n",
      "=== rates === 0.00026\n",
      "=== rates === 0.00027\n",
      "=== rates === 0.00028\n",
      "=== rates === 0.00029\n",
      "=== rates === 0.0003\n",
      "=== rates === 0.00031\n",
      "=== rates === 0.00031999999999999997\n",
      "=== rates === 0.00033\n",
      "=== rates === 0.00033999999999999997\n",
      "=== rates === 0.00035\n",
      "=== rates === 0.00035999999999999997\n",
      "=== rates === 0.00036999999999999994\n",
      "=== rates === 0.00037999999999999997\n",
      "=== rates === 0.00039\n",
      "=== rates === 0.00039999999999999996\n",
      "=== rates === 0.00040999999999999994\n",
      "=== rates === 0.00041999999999999996\n",
      "=== rates === 0.00043\n",
      "=== rates === 0.00043999999999999996\n",
      "=== rates === 0.00044999999999999993\n",
      "=== rates === 0.00045999999999999996\n",
      "=== rates === 0.00047\n",
      "=== rates === 0.00047999999999999996\n",
      "=== rates === 0.00049\n",
      "12/12 [==============================] - 0s 2ms/step - loss: 0.4239 - accuracy: 0.8067\n",
      "Accuracy: 80.6723\n",
      "Model: \"sequential_65\"\n",
      "_________________________________________________________________\n",
      "Layer (type)                 Output Shape              Param #   \n",
      "=================================================================\n",
      "flatten_65 (Flatten)         (None, 26)                0         \n",
      "_________________________________________________________________\n",
      "dense_359 (Dense)            (None, 27)                729       \n",
      "_________________________________________________________________\n",
      "dense_360 (Dense)            (None, 27)                756       \n",
      "_________________________________________________________________\n",
      "dense_361 (Dense)            (None, 2)                 56        \n",
      "=================================================================\n",
      "Total params: 1,541\n",
      "Trainable params: 1,541\n",
      "Non-trainable params: 0\n",
      "_________________________________________________________________\n",
      "None\n",
      "=== rates === 0.0001\n"
     ]
    },
    {
     "name": "stderr",
     "output_type": "stream",
     "text": [
      "/opt/conda/lib/python3.7/site-packages/ipykernel_launcher.py:42: RuntimeWarning: invalid value encountered in long_scalars\n"
     ]
    },
    {
     "name": "stdout",
     "output_type": "stream",
     "text": [
      "=== rates === 0.00011\n"
     ]
    },
    {
     "name": "stderr",
     "output_type": "stream",
     "text": [
      "/opt/conda/lib/python3.7/site-packages/ipykernel_launcher.py:42: RuntimeWarning: invalid value encountered in long_scalars\n"
     ]
    },
    {
     "name": "stdout",
     "output_type": "stream",
     "text": [
      "=== rates === 0.00012\n"
     ]
    },
    {
     "name": "stderr",
     "output_type": "stream",
     "text": [
      "/opt/conda/lib/python3.7/site-packages/ipykernel_launcher.py:42: RuntimeWarning: invalid value encountered in long_scalars\n"
     ]
    },
    {
     "name": "stdout",
     "output_type": "stream",
     "text": [
      "=== rates === 0.00013000000000000002\n"
     ]
    },
    {
     "name": "stderr",
     "output_type": "stream",
     "text": [
      "/opt/conda/lib/python3.7/site-packages/ipykernel_launcher.py:42: RuntimeWarning: invalid value encountered in long_scalars\n"
     ]
    },
    {
     "name": "stdout",
     "output_type": "stream",
     "text": [
      "=== rates === 0.00014\n"
     ]
    },
    {
     "name": "stderr",
     "output_type": "stream",
     "text": [
      "/opt/conda/lib/python3.7/site-packages/ipykernel_launcher.py:42: RuntimeWarning: invalid value encountered in long_scalars\n"
     ]
    },
    {
     "name": "stdout",
     "output_type": "stream",
     "text": [
      "=== rates === 0.00015000000000000001\n"
     ]
    },
    {
     "name": "stderr",
     "output_type": "stream",
     "text": [
      "/opt/conda/lib/python3.7/site-packages/ipykernel_launcher.py:42: RuntimeWarning: invalid value encountered in long_scalars\n"
     ]
    },
    {
     "name": "stdout",
     "output_type": "stream",
     "text": [
      "=== rates === 0.00015999999999999999\n"
     ]
    },
    {
     "name": "stderr",
     "output_type": "stream",
     "text": [
      "/opt/conda/lib/python3.7/site-packages/ipykernel_launcher.py:42: RuntimeWarning: invalid value encountered in long_scalars\n"
     ]
    },
    {
     "name": "stdout",
     "output_type": "stream",
     "text": [
      "=== rates === 0.00017\n",
      "=== best recall === 0.8888888888888888\n",
      "=== rates === 0.00017999999999999998\n",
      "=== best recall === 0.9655172413793104\n",
      "=== rates === 0.00019\n",
      "=== rates === 0.00019999999999999998\n",
      "=== rates === 0.00021\n",
      "=== rates === 0.00021999999999999998\n",
      "=== rates === 0.00023\n",
      "=== rates === 0.00023999999999999998\n",
      "=== rates === 0.00025\n",
      "=== rates === 0.00026\n",
      "=== rates === 0.00027\n",
      "=== rates === 0.00028\n",
      "=== rates === 0.00029\n",
      "=== rates === 0.0003\n",
      "=== rates === 0.00031\n",
      "=== rates === 0.00031999999999999997\n",
      "=== rates === 0.00033\n",
      "=== rates === 0.00033999999999999997\n",
      "=== rates === 0.00035\n",
      "=== rates === 0.00035999999999999997\n",
      "=== rates === 0.00036999999999999994\n",
      "=== rates === 0.00037999999999999997\n",
      "=== rates === 0.00039\n",
      "=== rates === 0.00039999999999999996\n",
      "=== rates === 0.00040999999999999994\n",
      "=== rates === 0.00041999999999999996\n",
      "=== rates === 0.00043\n",
      "=== rates === 0.00043999999999999996\n",
      "=== rates === 0.00044999999999999993\n",
      "=== rates === 0.00045999999999999996\n",
      "=== rates === 0.00047\n",
      "=== rates === 0.00047999999999999996\n",
      "=== rates === 0.00049\n",
      "12/12 [==============================] - 0s 3ms/step - loss: 0.4232 - accuracy: 0.8151\n",
      "Accuracy: 81.5126\n",
      "Model: \"sequential_66\"\n",
      "_________________________________________________________________\n",
      "Layer (type)                 Output Shape              Param #   \n",
      "=================================================================\n",
      "flatten_66 (Flatten)         (None, 26)                0         \n",
      "_________________________________________________________________\n",
      "dense_362 (Dense)            (None, 37)                999       \n",
      "_________________________________________________________________\n",
      "dense_363 (Dense)            (None, 37)                1406      \n",
      "_________________________________________________________________\n",
      "dense_364 (Dense)            (None, 2)                 76        \n",
      "=================================================================\n",
      "Total params: 2,481\n",
      "Trainable params: 2,481\n",
      "Non-trainable params: 0\n",
      "_________________________________________________________________\n",
      "None\n",
      "=== rates === 0.0001\n"
     ]
    },
    {
     "name": "stderr",
     "output_type": "stream",
     "text": [
      "/opt/conda/lib/python3.7/site-packages/ipykernel_launcher.py:42: RuntimeWarning: invalid value encountered in long_scalars\n"
     ]
    },
    {
     "name": "stdout",
     "output_type": "stream",
     "text": [
      "=== rates === 0.00011\n"
     ]
    },
    {
     "name": "stderr",
     "output_type": "stream",
     "text": [
      "/opt/conda/lib/python3.7/site-packages/ipykernel_launcher.py:42: RuntimeWarning: invalid value encountered in long_scalars\n"
     ]
    },
    {
     "name": "stdout",
     "output_type": "stream",
     "text": [
      "=== rates === 0.00012\n"
     ]
    },
    {
     "name": "stderr",
     "output_type": "stream",
     "text": [
      "/opt/conda/lib/python3.7/site-packages/ipykernel_launcher.py:42: RuntimeWarning: invalid value encountered in long_scalars\n"
     ]
    },
    {
     "name": "stdout",
     "output_type": "stream",
     "text": [
      "=== rates === 0.00013000000000000002\n"
     ]
    },
    {
     "name": "stderr",
     "output_type": "stream",
     "text": [
      "/opt/conda/lib/python3.7/site-packages/ipykernel_launcher.py:42: RuntimeWarning: invalid value encountered in long_scalars\n"
     ]
    },
    {
     "name": "stdout",
     "output_type": "stream",
     "text": [
      "=== rates === 0.00014\n"
     ]
    },
    {
     "name": "stderr",
     "output_type": "stream",
     "text": [
      "/opt/conda/lib/python3.7/site-packages/ipykernel_launcher.py:42: RuntimeWarning: invalid value encountered in long_scalars\n"
     ]
    },
    {
     "name": "stdout",
     "output_type": "stream",
     "text": [
      "=== rates === 0.00015000000000000001\n"
     ]
    },
    {
     "name": "stderr",
     "output_type": "stream",
     "text": [
      "/opt/conda/lib/python3.7/site-packages/ipykernel_launcher.py:42: RuntimeWarning: invalid value encountered in long_scalars\n"
     ]
    },
    {
     "name": "stdout",
     "output_type": "stream",
     "text": [
      "=== rates === 0.00015999999999999999\n",
      "=== best recall === 1.0\n",
      "=== rates === 0.00017\n",
      "=== rates === 0.00017999999999999998\n",
      "=== rates === 0.00019\n",
      "=== rates === 0.00019999999999999998\n",
      "=== rates === 0.00021\n",
      "=== rates === 0.00021999999999999998\n",
      "=== rates === 0.00023\n",
      "=== rates === 0.00023999999999999998\n",
      "=== rates === 0.00025\n",
      "=== rates === 0.00026\n",
      "=== rates === 0.00027\n",
      "=== rates === 0.00028\n",
      "=== rates === 0.00029\n",
      "=== rates === 0.0003\n",
      "=== rates === 0.00031\n",
      "=== rates === 0.00031999999999999997\n",
      "=== rates === 0.00033\n",
      "=== rates === 0.00033999999999999997\n",
      "=== rates === 0.00035\n",
      "=== rates === 0.00035999999999999997\n",
      "=== rates === 0.00036999999999999994\n",
      "=== rates === 0.00037999999999999997\n",
      "=== rates === 0.00039\n",
      "=== rates === 0.00039999999999999996\n",
      "=== rates === 0.00040999999999999994\n",
      "=== rates === 0.00041999999999999996\n",
      "=== rates === 0.00043\n",
      "=== rates === 0.00043999999999999996\n",
      "=== rates === 0.00044999999999999993\n",
      "=== rates === 0.00045999999999999996\n",
      "=== rates === 0.00047\n",
      "=== rates === 0.00047999999999999996\n",
      "=== rates === 0.00049\n",
      "12/12 [==============================] - 0s 2ms/step - loss: 0.4285 - accuracy: 0.8151\n",
      "Accuracy: 81.5126\n",
      "Model: \"sequential_67\"\n",
      "_________________________________________________________________\n",
      "Layer (type)                 Output Shape              Param #   \n",
      "=================================================================\n",
      "flatten_67 (Flatten)         (None, 26)                0         \n",
      "_________________________________________________________________\n",
      "dense_365 (Dense)            (None, 36)                972       \n",
      "_________________________________________________________________\n",
      "dense_366 (Dense)            (None, 36)                1332      \n",
      "_________________________________________________________________\n",
      "dense_367 (Dense)            (None, 36)                1332      \n",
      "_________________________________________________________________\n",
      "dense_368 (Dense)            (None, 36)                1332      \n",
      "_________________________________________________________________\n",
      "dense_369 (Dense)            (None, 36)                1332      \n",
      "_________________________________________________________________\n",
      "dense_370 (Dense)            (None, 36)                1332      \n",
      "_________________________________________________________________\n",
      "dense_371 (Dense)            (None, 36)                1332      \n",
      "_________________________________________________________________\n",
      "dense_372 (Dense)            (None, 2)                 74        \n",
      "=================================================================\n",
      "Total params: 9,038\n",
      "Trainable params: 9,038\n",
      "Non-trainable params: 0\n",
      "_________________________________________________________________\n",
      "None\n",
      "=== rates === 0.0001\n"
     ]
    },
    {
     "name": "stderr",
     "output_type": "stream",
     "text": [
      "/opt/conda/lib/python3.7/site-packages/ipykernel_launcher.py:42: RuntimeWarning: invalid value encountered in long_scalars\n"
     ]
    },
    {
     "name": "stdout",
     "output_type": "stream",
     "text": [
      "=== rates === 0.00011\n"
     ]
    },
    {
     "name": "stderr",
     "output_type": "stream",
     "text": [
      "/opt/conda/lib/python3.7/site-packages/ipykernel_launcher.py:42: RuntimeWarning: invalid value encountered in long_scalars\n"
     ]
    },
    {
     "name": "stdout",
     "output_type": "stream",
     "text": [
      "=== rates === 0.00012\n"
     ]
    },
    {
     "name": "stderr",
     "output_type": "stream",
     "text": [
      "/opt/conda/lib/python3.7/site-packages/ipykernel_launcher.py:42: RuntimeWarning: invalid value encountered in long_scalars\n"
     ]
    },
    {
     "name": "stdout",
     "output_type": "stream",
     "text": [
      "=== rates === 0.00013000000000000002\n"
     ]
    },
    {
     "name": "stderr",
     "output_type": "stream",
     "text": [
      "/opt/conda/lib/python3.7/site-packages/ipykernel_launcher.py:42: RuntimeWarning: invalid value encountered in long_scalars\n"
     ]
    },
    {
     "name": "stdout",
     "output_type": "stream",
     "text": [
      "=== rates === 0.00014\n"
     ]
    },
    {
     "name": "stderr",
     "output_type": "stream",
     "text": [
      "/opt/conda/lib/python3.7/site-packages/ipykernel_launcher.py:42: RuntimeWarning: invalid value encountered in long_scalars\n"
     ]
    },
    {
     "name": "stdout",
     "output_type": "stream",
     "text": [
      "=== rates === 0.00015000000000000001\n"
     ]
    },
    {
     "name": "stderr",
     "output_type": "stream",
     "text": [
      "/opt/conda/lib/python3.7/site-packages/ipykernel_launcher.py:42: RuntimeWarning: invalid value encountered in long_scalars\n"
     ]
    },
    {
     "name": "stdout",
     "output_type": "stream",
     "text": [
      "=== rates === 0.00015999999999999999\n"
     ]
    },
    {
     "name": "stderr",
     "output_type": "stream",
     "text": [
      "/opt/conda/lib/python3.7/site-packages/ipykernel_launcher.py:42: RuntimeWarning: invalid value encountered in long_scalars\n"
     ]
    },
    {
     "name": "stdout",
     "output_type": "stream",
     "text": [
      "=== rates === 0.00017\n"
     ]
    },
    {
     "name": "stderr",
     "output_type": "stream",
     "text": [
      "/opt/conda/lib/python3.7/site-packages/ipykernel_launcher.py:42: RuntimeWarning: invalid value encountered in long_scalars\n"
     ]
    },
    {
     "name": "stdout",
     "output_type": "stream",
     "text": [
      "=== rates === 0.00017999999999999998\n"
     ]
    },
    {
     "name": "stderr",
     "output_type": "stream",
     "text": [
      "/opt/conda/lib/python3.7/site-packages/ipykernel_launcher.py:42: RuntimeWarning: invalid value encountered in long_scalars\n"
     ]
    },
    {
     "name": "stdout",
     "output_type": "stream",
     "text": [
      "=== rates === 0.00019\n"
     ]
    },
    {
     "name": "stderr",
     "output_type": "stream",
     "text": [
      "/opt/conda/lib/python3.7/site-packages/ipykernel_launcher.py:42: RuntimeWarning: invalid value encountered in long_scalars\n"
     ]
    },
    {
     "name": "stdout",
     "output_type": "stream",
     "text": [
      "=== rates === 0.00019999999999999998\n"
     ]
    },
    {
     "name": "stderr",
     "output_type": "stream",
     "text": [
      "/opt/conda/lib/python3.7/site-packages/ipykernel_launcher.py:42: RuntimeWarning: invalid value encountered in long_scalars\n"
     ]
    },
    {
     "name": "stdout",
     "output_type": "stream",
     "text": [
      "=== rates === 0.00021\n"
     ]
    },
    {
     "name": "stderr",
     "output_type": "stream",
     "text": [
      "/opt/conda/lib/python3.7/site-packages/ipykernel_launcher.py:42: RuntimeWarning: invalid value encountered in long_scalars\n"
     ]
    },
    {
     "name": "stdout",
     "output_type": "stream",
     "text": [
      "=== rates === 0.00021999999999999998\n"
     ]
    },
    {
     "name": "stderr",
     "output_type": "stream",
     "text": [
      "/opt/conda/lib/python3.7/site-packages/ipykernel_launcher.py:42: RuntimeWarning: invalid value encountered in long_scalars\n"
     ]
    },
    {
     "name": "stdout",
     "output_type": "stream",
     "text": [
      "=== rates === 0.00023\n"
     ]
    },
    {
     "name": "stderr",
     "output_type": "stream",
     "text": [
      "/opt/conda/lib/python3.7/site-packages/ipykernel_launcher.py:42: RuntimeWarning: invalid value encountered in long_scalars\n"
     ]
    },
    {
     "name": "stdout",
     "output_type": "stream",
     "text": [
      "=== rates === 0.00023999999999999998\n"
     ]
    },
    {
     "name": "stderr",
     "output_type": "stream",
     "text": [
      "/opt/conda/lib/python3.7/site-packages/ipykernel_launcher.py:42: RuntimeWarning: invalid value encountered in long_scalars\n"
     ]
    },
    {
     "name": "stdout",
     "output_type": "stream",
     "text": [
      "=== rates === 0.00025\n"
     ]
    },
    {
     "name": "stderr",
     "output_type": "stream",
     "text": [
      "/opt/conda/lib/python3.7/site-packages/ipykernel_launcher.py:42: RuntimeWarning: invalid value encountered in long_scalars\n"
     ]
    },
    {
     "name": "stdout",
     "output_type": "stream",
     "text": [
      "=== rates === 0.00026\n",
      "=== best recall === 0.8470588235294118\n",
      "=== rates === 0.00027\n",
      "=== rates === 0.00028\n",
      "=== rates === 0.00029\n",
      "=== rates === 0.0003\n",
      "=== rates === 0.00031\n",
      "=== rates === 0.00031999999999999997\n",
      "=== rates === 0.00033\n",
      "=== rates === 0.00033999999999999997\n",
      "=== rates === 0.00035\n",
      "=== rates === 0.00035999999999999997\n",
      "=== rates === 0.00036999999999999994\n",
      "=== best recall === 0.8514851485148515\n",
      "=== rates === 0.00037999999999999997\n",
      "=== rates === 0.00039\n",
      "=== rates === 0.00039999999999999996\n",
      "=== rates === 0.00040999999999999994\n",
      "=== rates === 0.00041999999999999996\n",
      "=== rates === 0.00043\n",
      "=== rates === 0.00043999999999999996\n",
      "=== best recall === 0.8556701030927835\n",
      "=== rates === 0.00044999999999999993\n",
      "=== best recall === 0.8723404255319149\n",
      "=== rates === 0.00045999999999999996\n",
      "=== rates === 0.00047\n",
      "=== rates === 0.00047999999999999996\n",
      "=== rates === 0.00049\n",
      "=== best recall === 0.8817204301075269\n",
      "12/12 [==============================] - 0s 3ms/step - loss: 0.4453 - accuracy: 0.8095\n",
      "Accuracy: 80.9524\n",
      "Model: \"sequential_68\"\n",
      "_________________________________________________________________\n",
      "Layer (type)                 Output Shape              Param #   \n",
      "=================================================================\n",
      "flatten_68 (Flatten)         (None, 26)                0         \n",
      "_________________________________________________________________\n",
      "dense_373 (Dense)            (None, 40)                1080      \n",
      "_________________________________________________________________\n",
      "dense_374 (Dense)            (None, 40)                1640      \n",
      "_________________________________________________________________\n",
      "dense_375 (Dense)            (None, 40)                1640      \n",
      "_________________________________________________________________\n",
      "dense_376 (Dense)            (None, 40)                1640      \n",
      "_________________________________________________________________\n",
      "dense_377 (Dense)            (None, 40)                1640      \n",
      "_________________________________________________________________\n",
      "dense_378 (Dense)            (None, 40)                1640      \n",
      "_________________________________________________________________\n",
      "dense_379 (Dense)            (None, 40)                1640      \n",
      "_________________________________________________________________\n",
      "dense_380 (Dense)            (None, 2)                 82        \n",
      "=================================================================\n",
      "Total params: 11,002\n",
      "Trainable params: 11,002\n",
      "Non-trainable params: 0\n",
      "_________________________________________________________________\n",
      "None\n",
      "=== rates === 0.0001\n"
     ]
    },
    {
     "name": "stderr",
     "output_type": "stream",
     "text": [
      "/opt/conda/lib/python3.7/site-packages/ipykernel_launcher.py:42: RuntimeWarning: invalid value encountered in long_scalars\n"
     ]
    },
    {
     "name": "stdout",
     "output_type": "stream",
     "text": [
      "=== rates === 0.00011\n"
     ]
    },
    {
     "name": "stderr",
     "output_type": "stream",
     "text": [
      "/opt/conda/lib/python3.7/site-packages/ipykernel_launcher.py:42: RuntimeWarning: invalid value encountered in long_scalars\n"
     ]
    },
    {
     "name": "stdout",
     "output_type": "stream",
     "text": [
      "=== rates === 0.00012\n"
     ]
    },
    {
     "name": "stderr",
     "output_type": "stream",
     "text": [
      "/opt/conda/lib/python3.7/site-packages/ipykernel_launcher.py:42: RuntimeWarning: invalid value encountered in long_scalars\n"
     ]
    },
    {
     "name": "stdout",
     "output_type": "stream",
     "text": [
      "=== rates === 0.00013000000000000002\n"
     ]
    },
    {
     "name": "stderr",
     "output_type": "stream",
     "text": [
      "/opt/conda/lib/python3.7/site-packages/ipykernel_launcher.py:42: RuntimeWarning: invalid value encountered in long_scalars\n"
     ]
    },
    {
     "name": "stdout",
     "output_type": "stream",
     "text": [
      "=== rates === 0.00014\n"
     ]
    },
    {
     "name": "stderr",
     "output_type": "stream",
     "text": [
      "/opt/conda/lib/python3.7/site-packages/ipykernel_launcher.py:42: RuntimeWarning: invalid value encountered in long_scalars\n"
     ]
    },
    {
     "name": "stdout",
     "output_type": "stream",
     "text": [
      "=== rates === 0.00015000000000000001\n"
     ]
    },
    {
     "name": "stderr",
     "output_type": "stream",
     "text": [
      "/opt/conda/lib/python3.7/site-packages/ipykernel_launcher.py:42: RuntimeWarning: invalid value encountered in long_scalars\n"
     ]
    },
    {
     "name": "stdout",
     "output_type": "stream",
     "text": [
      "=== rates === 0.00015999999999999999\n"
     ]
    },
    {
     "name": "stderr",
     "output_type": "stream",
     "text": [
      "/opt/conda/lib/python3.7/site-packages/ipykernel_launcher.py:42: RuntimeWarning: invalid value encountered in long_scalars\n"
     ]
    },
    {
     "name": "stdout",
     "output_type": "stream",
     "text": [
      "=== rates === 0.00017\n"
     ]
    },
    {
     "name": "stderr",
     "output_type": "stream",
     "text": [
      "/opt/conda/lib/python3.7/site-packages/ipykernel_launcher.py:42: RuntimeWarning: invalid value encountered in long_scalars\n"
     ]
    },
    {
     "name": "stdout",
     "output_type": "stream",
     "text": [
      "=== rates === 0.00017999999999999998\n"
     ]
    },
    {
     "name": "stderr",
     "output_type": "stream",
     "text": [
      "/opt/conda/lib/python3.7/site-packages/ipykernel_launcher.py:42: RuntimeWarning: invalid value encountered in long_scalars\n"
     ]
    },
    {
     "name": "stdout",
     "output_type": "stream",
     "text": [
      "=== rates === 0.00019\n"
     ]
    },
    {
     "name": "stderr",
     "output_type": "stream",
     "text": [
      "/opt/conda/lib/python3.7/site-packages/ipykernel_launcher.py:42: RuntimeWarning: invalid value encountered in long_scalars\n"
     ]
    },
    {
     "name": "stdout",
     "output_type": "stream",
     "text": [
      "=== rates === 0.00019999999999999998\n"
     ]
    },
    {
     "name": "stderr",
     "output_type": "stream",
     "text": [
      "/opt/conda/lib/python3.7/site-packages/ipykernel_launcher.py:42: RuntimeWarning: invalid value encountered in long_scalars\n"
     ]
    },
    {
     "name": "stdout",
     "output_type": "stream",
     "text": [
      "=== rates === 0.00021\n"
     ]
    },
    {
     "name": "stderr",
     "output_type": "stream",
     "text": [
      "/opt/conda/lib/python3.7/site-packages/ipykernel_launcher.py:42: RuntimeWarning: invalid value encountered in long_scalars\n"
     ]
    },
    {
     "name": "stdout",
     "output_type": "stream",
     "text": [
      "=== rates === 0.00021999999999999998\n"
     ]
    },
    {
     "name": "stderr",
     "output_type": "stream",
     "text": [
      "/opt/conda/lib/python3.7/site-packages/ipykernel_launcher.py:42: RuntimeWarning: invalid value encountered in long_scalars\n"
     ]
    },
    {
     "name": "stdout",
     "output_type": "stream",
     "text": [
      "=== rates === 0.00023\n"
     ]
    },
    {
     "name": "stderr",
     "output_type": "stream",
     "text": [
      "/opt/conda/lib/python3.7/site-packages/ipykernel_launcher.py:42: RuntimeWarning: invalid value encountered in long_scalars\n"
     ]
    },
    {
     "name": "stdout",
     "output_type": "stream",
     "text": [
      "=== rates === 0.00023999999999999998\n",
      "=== best recall === 0.8674698795180723\n",
      "=== rates === 0.00025\n",
      "=== rates === 0.00026\n",
      "=== rates === 0.00027\n",
      "=== rates === 0.00028\n",
      "=== rates === 0.00029\n",
      "=== rates === 0.0003\n",
      "=== rates === 0.00031\n",
      "=== rates === 0.00031999999999999997\n",
      "=== rates === 0.00033\n",
      "=== rates === 0.00033999999999999997\n",
      "=== rates === 0.00035\n",
      "=== rates === 0.00035999999999999997\n",
      "=== rates === 0.00036999999999999994\n",
      "=== rates === 0.00037999999999999997\n",
      "=== rates === 0.00039\n",
      "=== rates === 0.00039999999999999996\n",
      "=== rates === 0.00040999999999999994\n",
      "=== rates === 0.00041999999999999996\n",
      "=== rates === 0.00043\n",
      "=== rates === 0.00043999999999999996\n",
      "=== rates === 0.00044999999999999993\n",
      "=== rates === 0.00045999999999999996\n",
      "=== rates === 0.00047\n",
      "=== rates === 0.00047999999999999996\n",
      "=== rates === 0.00049\n",
      "12/12 [==============================] - 0s 3ms/step - loss: 0.4325 - accuracy: 0.8123\n",
      "Accuracy: 81.2325\n",
      "Model: \"sequential_69\"\n",
      "_________________________________________________________________\n",
      "Layer (type)                 Output Shape              Param #   \n",
      "=================================================================\n",
      "flatten_69 (Flatten)         (None, 26)                0         \n",
      "_________________________________________________________________\n",
      "dense_381 (Dense)            (None, 34)                918       \n",
      "_________________________________________________________________\n",
      "dense_382 (Dense)            (None, 34)                1190      \n",
      "_________________________________________________________________\n",
      "dense_383 (Dense)            (None, 34)                1190      \n",
      "_________________________________________________________________\n",
      "dense_384 (Dense)            (None, 34)                1190      \n",
      "_________________________________________________________________\n",
      "dense_385 (Dense)            (None, 2)                 70        \n",
      "=================================================================\n",
      "Total params: 4,558\n",
      "Trainable params: 4,558\n",
      "Non-trainable params: 0\n",
      "_________________________________________________________________\n",
      "None\n",
      "=== rates === 0.0001\n"
     ]
    },
    {
     "name": "stderr",
     "output_type": "stream",
     "text": [
      "/opt/conda/lib/python3.7/site-packages/ipykernel_launcher.py:42: RuntimeWarning: invalid value encountered in long_scalars\n"
     ]
    },
    {
     "name": "stdout",
     "output_type": "stream",
     "text": [
      "=== rates === 0.00011\n"
     ]
    },
    {
     "name": "stderr",
     "output_type": "stream",
     "text": [
      "/opt/conda/lib/python3.7/site-packages/ipykernel_launcher.py:42: RuntimeWarning: invalid value encountered in long_scalars\n"
     ]
    },
    {
     "name": "stdout",
     "output_type": "stream",
     "text": [
      "=== rates === 0.00012\n"
     ]
    },
    {
     "name": "stderr",
     "output_type": "stream",
     "text": [
      "/opt/conda/lib/python3.7/site-packages/ipykernel_launcher.py:42: RuntimeWarning: invalid value encountered in long_scalars\n"
     ]
    },
    {
     "name": "stdout",
     "output_type": "stream",
     "text": [
      "=== rates === 0.00013000000000000002\n"
     ]
    },
    {
     "name": "stderr",
     "output_type": "stream",
     "text": [
      "/opt/conda/lib/python3.7/site-packages/ipykernel_launcher.py:42: RuntimeWarning: invalid value encountered in long_scalars\n"
     ]
    },
    {
     "name": "stdout",
     "output_type": "stream",
     "text": [
      "=== rates === 0.00014\n"
     ]
    },
    {
     "name": "stderr",
     "output_type": "stream",
     "text": [
      "/opt/conda/lib/python3.7/site-packages/ipykernel_launcher.py:42: RuntimeWarning: invalid value encountered in long_scalars\n"
     ]
    },
    {
     "name": "stdout",
     "output_type": "stream",
     "text": [
      "=== rates === 0.00015000000000000001\n"
     ]
    },
    {
     "name": "stderr",
     "output_type": "stream",
     "text": [
      "/opt/conda/lib/python3.7/site-packages/ipykernel_launcher.py:42: RuntimeWarning: invalid value encountered in long_scalars\n"
     ]
    },
    {
     "name": "stdout",
     "output_type": "stream",
     "text": [
      "=== rates === 0.00015999999999999999\n"
     ]
    },
    {
     "name": "stderr",
     "output_type": "stream",
     "text": [
      "/opt/conda/lib/python3.7/site-packages/ipykernel_launcher.py:42: RuntimeWarning: invalid value encountered in long_scalars\n"
     ]
    },
    {
     "name": "stdout",
     "output_type": "stream",
     "text": [
      "=== rates === 0.00017\n"
     ]
    },
    {
     "name": "stderr",
     "output_type": "stream",
     "text": [
      "/opt/conda/lib/python3.7/site-packages/ipykernel_launcher.py:42: RuntimeWarning: invalid value encountered in long_scalars\n"
     ]
    },
    {
     "name": "stdout",
     "output_type": "stream",
     "text": [
      "=== rates === 0.00017999999999999998\n"
     ]
    },
    {
     "name": "stderr",
     "output_type": "stream",
     "text": [
      "/opt/conda/lib/python3.7/site-packages/ipykernel_launcher.py:42: RuntimeWarning: invalid value encountered in long_scalars\n"
     ]
    },
    {
     "name": "stdout",
     "output_type": "stream",
     "text": [
      "=== rates === 0.00019\n"
     ]
    },
    {
     "name": "stderr",
     "output_type": "stream",
     "text": [
      "/opt/conda/lib/python3.7/site-packages/ipykernel_launcher.py:42: RuntimeWarning: invalid value encountered in long_scalars\n"
     ]
    },
    {
     "name": "stdout",
     "output_type": "stream",
     "text": [
      "=== rates === 0.00019999999999999998\n",
      "=== best recall === 0.875\n",
      "=== rates === 0.00021\n",
      "=== best recall === 0.8888888888888888\n",
      "=== rates === 0.00021999999999999998\n",
      "=== rates === 0.00023\n",
      "=== rates === 0.00023999999999999998\n",
      "=== rates === 0.00025\n",
      "=== rates === 0.00026\n",
      "=== rates === 0.00027\n",
      "=== rates === 0.00028\n",
      "=== rates === 0.00029\n",
      "=== rates === 0.0003\n",
      "=== rates === 0.00031\n",
      "=== rates === 0.00031999999999999997\n",
      "=== rates === 0.00033\n",
      "=== rates === 0.00033999999999999997\n",
      "=== rates === 0.00035\n",
      "=== rates === 0.00035999999999999997\n",
      "=== rates === 0.00036999999999999994\n",
      "=== rates === 0.00037999999999999997\n",
      "=== rates === 0.00039\n",
      "=== rates === 0.00039999999999999996\n",
      "=== rates === 0.00040999999999999994\n",
      "=== rates === 0.00041999999999999996\n",
      "=== rates === 0.00043\n",
      "=== rates === 0.00043999999999999996\n",
      "=== rates === 0.00044999999999999993\n",
      "=== rates === 0.00045999999999999996\n",
      "=== rates === 0.00047\n",
      "=== rates === 0.00047999999999999996\n",
      "=== rates === 0.00049\n",
      "12/12 [==============================] - 0s 2ms/step - loss: 0.4332 - accuracy: 0.8151\n",
      "Accuracy: 81.5126\n",
      "Model: \"sequential_70\"\n",
      "_________________________________________________________________\n",
      "Layer (type)                 Output Shape              Param #   \n",
      "=================================================================\n",
      "flatten_70 (Flatten)         (None, 26)                0         \n",
      "_________________________________________________________________\n",
      "dense_386 (Dense)            (None, 46)                1242      \n",
      "_________________________________________________________________\n",
      "dense_387 (Dense)            (None, 46)                2162      \n",
      "_________________________________________________________________\n",
      "dense_388 (Dense)            (None, 46)                2162      \n",
      "_________________________________________________________________\n",
      "dense_389 (Dense)            (None, 46)                2162      \n",
      "_________________________________________________________________\n",
      "dense_390 (Dense)            (None, 46)                2162      \n",
      "_________________________________________________________________\n",
      "dense_391 (Dense)            (None, 46)                2162      \n",
      "_________________________________________________________________\n",
      "dense_392 (Dense)            (None, 2)                 94        \n",
      "=================================================================\n",
      "Total params: 12,146\n",
      "Trainable params: 12,146\n",
      "Non-trainable params: 0\n",
      "_________________________________________________________________\n",
      "None\n",
      "=== rates === 0.0001\n"
     ]
    },
    {
     "name": "stderr",
     "output_type": "stream",
     "text": [
      "/opt/conda/lib/python3.7/site-packages/ipykernel_launcher.py:42: RuntimeWarning: invalid value encountered in long_scalars\n"
     ]
    },
    {
     "name": "stdout",
     "output_type": "stream",
     "text": [
      "=== rates === 0.00011\n"
     ]
    },
    {
     "name": "stderr",
     "output_type": "stream",
     "text": [
      "/opt/conda/lib/python3.7/site-packages/ipykernel_launcher.py:42: RuntimeWarning: invalid value encountered in long_scalars\n"
     ]
    },
    {
     "name": "stdout",
     "output_type": "stream",
     "text": [
      "=== rates === 0.00012\n"
     ]
    },
    {
     "name": "stderr",
     "output_type": "stream",
     "text": [
      "/opt/conda/lib/python3.7/site-packages/ipykernel_launcher.py:42: RuntimeWarning: invalid value encountered in long_scalars\n"
     ]
    },
    {
     "name": "stdout",
     "output_type": "stream",
     "text": [
      "=== rates === 0.00013000000000000002\n"
     ]
    },
    {
     "name": "stderr",
     "output_type": "stream",
     "text": [
      "/opt/conda/lib/python3.7/site-packages/ipykernel_launcher.py:42: RuntimeWarning: invalid value encountered in long_scalars\n"
     ]
    },
    {
     "name": "stdout",
     "output_type": "stream",
     "text": [
      "=== rates === 0.00014\n"
     ]
    },
    {
     "name": "stderr",
     "output_type": "stream",
     "text": [
      "/opt/conda/lib/python3.7/site-packages/ipykernel_launcher.py:42: RuntimeWarning: invalid value encountered in long_scalars\n"
     ]
    },
    {
     "name": "stdout",
     "output_type": "stream",
     "text": [
      "=== rates === 0.00015000000000000001\n"
     ]
    },
    {
     "name": "stderr",
     "output_type": "stream",
     "text": [
      "/opt/conda/lib/python3.7/site-packages/ipykernel_launcher.py:42: RuntimeWarning: invalid value encountered in long_scalars\n"
     ]
    },
    {
     "name": "stdout",
     "output_type": "stream",
     "text": [
      "=== rates === 0.00015999999999999999\n"
     ]
    },
    {
     "name": "stderr",
     "output_type": "stream",
     "text": [
      "/opt/conda/lib/python3.7/site-packages/ipykernel_launcher.py:42: RuntimeWarning: invalid value encountered in long_scalars\n"
     ]
    },
    {
     "name": "stdout",
     "output_type": "stream",
     "text": [
      "=== rates === 0.00017\n"
     ]
    },
    {
     "name": "stderr",
     "output_type": "stream",
     "text": [
      "/opt/conda/lib/python3.7/site-packages/ipykernel_launcher.py:42: RuntimeWarning: invalid value encountered in long_scalars\n"
     ]
    },
    {
     "name": "stdout",
     "output_type": "stream",
     "text": [
      "=== rates === 0.00017999999999999998\n"
     ]
    },
    {
     "name": "stderr",
     "output_type": "stream",
     "text": [
      "/opt/conda/lib/python3.7/site-packages/ipykernel_launcher.py:42: RuntimeWarning: invalid value encountered in long_scalars\n"
     ]
    },
    {
     "name": "stdout",
     "output_type": "stream",
     "text": [
      "=== rates === 0.00019\n"
     ]
    },
    {
     "name": "stderr",
     "output_type": "stream",
     "text": [
      "/opt/conda/lib/python3.7/site-packages/ipykernel_launcher.py:42: RuntimeWarning: invalid value encountered in long_scalars\n"
     ]
    },
    {
     "name": "stdout",
     "output_type": "stream",
     "text": [
      "=== rates === 0.00019999999999999998\n"
     ]
    },
    {
     "name": "stderr",
     "output_type": "stream",
     "text": [
      "/opt/conda/lib/python3.7/site-packages/ipykernel_launcher.py:42: RuntimeWarning: invalid value encountered in long_scalars\n"
     ]
    },
    {
     "name": "stdout",
     "output_type": "stream",
     "text": [
      "=== rates === 0.00021\n",
      "=== best recall === 1.0\n",
      "=== rates === 0.00021999999999999998\n",
      "=== rates === 0.00023\n",
      "=== rates === 0.00023999999999999998\n",
      "=== rates === 0.00025\n",
      "=== rates === 0.00026\n",
      "=== rates === 0.00027\n",
      "=== rates === 0.00028\n",
      "=== rates === 0.00029\n",
      "=== rates === 0.0003\n",
      "=== rates === 0.00031\n",
      "=== rates === 0.00031999999999999997\n",
      "=== rates === 0.00033\n",
      "=== rates === 0.00033999999999999997\n",
      "=== rates === 0.00035\n",
      "=== rates === 0.00035999999999999997\n",
      "=== rates === 0.00036999999999999994\n",
      "=== rates === 0.00037999999999999997\n",
      "=== rates === 0.00039\n",
      "=== rates === 0.00039999999999999996\n",
      "=== rates === 0.00040999999999999994\n",
      "=== rates === 0.00041999999999999996\n",
      "=== rates === 0.00043\n",
      "=== rates === 0.00043999999999999996\n",
      "=== rates === 0.00044999999999999993\n",
      "=== rates === 0.00045999999999999996\n",
      "=== rates === 0.00047\n",
      "=== rates === 0.00047999999999999996\n",
      "=== rates === 0.00049\n",
      "12/12 [==============================] - 0s 3ms/step - loss: 0.4323 - accuracy: 0.8151\n",
      "Accuracy: 81.5126\n",
      "Model: \"sequential_71\"\n",
      "_________________________________________________________________\n",
      "Layer (type)                 Output Shape              Param #   \n",
      "=================================================================\n",
      "flatten_71 (Flatten)         (None, 26)                0         \n",
      "_________________________________________________________________\n",
      "dense_393 (Dense)            (None, 23)                621       \n",
      "_________________________________________________________________\n",
      "dense_394 (Dense)            (None, 23)                552       \n",
      "_________________________________________________________________\n",
      "dense_395 (Dense)            (None, 23)                552       \n",
      "_________________________________________________________________\n",
      "dense_396 (Dense)            (None, 23)                552       \n",
      "_________________________________________________________________\n",
      "dense_397 (Dense)            (None, 2)                 48        \n",
      "=================================================================\n",
      "Total params: 2,325\n",
      "Trainable params: 2,325\n",
      "Non-trainable params: 0\n",
      "_________________________________________________________________\n",
      "None\n",
      "=== rates === 0.0001\n"
     ]
    },
    {
     "name": "stderr",
     "output_type": "stream",
     "text": [
      "/opt/conda/lib/python3.7/site-packages/ipykernel_launcher.py:42: RuntimeWarning: invalid value encountered in long_scalars\n"
     ]
    },
    {
     "name": "stdout",
     "output_type": "stream",
     "text": [
      "=== rates === 0.00011\n"
     ]
    },
    {
     "name": "stderr",
     "output_type": "stream",
     "text": [
      "/opt/conda/lib/python3.7/site-packages/ipykernel_launcher.py:42: RuntimeWarning: invalid value encountered in long_scalars\n"
     ]
    },
    {
     "name": "stdout",
     "output_type": "stream",
     "text": [
      "=== rates === 0.00012\n"
     ]
    },
    {
     "name": "stderr",
     "output_type": "stream",
     "text": [
      "/opt/conda/lib/python3.7/site-packages/ipykernel_launcher.py:42: RuntimeWarning: invalid value encountered in long_scalars\n"
     ]
    },
    {
     "name": "stdout",
     "output_type": "stream",
     "text": [
      "=== rates === 0.00013000000000000002\n"
     ]
    },
    {
     "name": "stderr",
     "output_type": "stream",
     "text": [
      "/opt/conda/lib/python3.7/site-packages/ipykernel_launcher.py:42: RuntimeWarning: invalid value encountered in long_scalars\n"
     ]
    },
    {
     "name": "stdout",
     "output_type": "stream",
     "text": [
      "=== rates === 0.00014\n"
     ]
    },
    {
     "name": "stderr",
     "output_type": "stream",
     "text": [
      "/opt/conda/lib/python3.7/site-packages/ipykernel_launcher.py:42: RuntimeWarning: invalid value encountered in long_scalars\n"
     ]
    },
    {
     "name": "stdout",
     "output_type": "stream",
     "text": [
      "=== rates === 0.00015000000000000001\n"
     ]
    },
    {
     "name": "stderr",
     "output_type": "stream",
     "text": [
      "/opt/conda/lib/python3.7/site-packages/ipykernel_launcher.py:42: RuntimeWarning: invalid value encountered in long_scalars\n"
     ]
    },
    {
     "name": "stdout",
     "output_type": "stream",
     "text": [
      "=== rates === 0.00015999999999999999\n"
     ]
    },
    {
     "name": "stderr",
     "output_type": "stream",
     "text": [
      "/opt/conda/lib/python3.7/site-packages/ipykernel_launcher.py:42: RuntimeWarning: invalid value encountered in long_scalars\n"
     ]
    },
    {
     "name": "stdout",
     "output_type": "stream",
     "text": [
      "=== rates === 0.00017\n"
     ]
    },
    {
     "name": "stderr",
     "output_type": "stream",
     "text": [
      "/opt/conda/lib/python3.7/site-packages/ipykernel_launcher.py:42: RuntimeWarning: invalid value encountered in long_scalars\n"
     ]
    },
    {
     "name": "stdout",
     "output_type": "stream",
     "text": [
      "=== rates === 0.00017999999999999998\n"
     ]
    },
    {
     "name": "stderr",
     "output_type": "stream",
     "text": [
      "/opt/conda/lib/python3.7/site-packages/ipykernel_launcher.py:42: RuntimeWarning: invalid value encountered in long_scalars\n"
     ]
    },
    {
     "name": "stdout",
     "output_type": "stream",
     "text": [
      "=== rates === 0.00019\n"
     ]
    },
    {
     "name": "stderr",
     "output_type": "stream",
     "text": [
      "/opt/conda/lib/python3.7/site-packages/ipykernel_launcher.py:42: RuntimeWarning: invalid value encountered in long_scalars\n"
     ]
    },
    {
     "name": "stdout",
     "output_type": "stream",
     "text": [
      "=== rates === 0.00019999999999999998\n"
     ]
    },
    {
     "name": "stderr",
     "output_type": "stream",
     "text": [
      "/opt/conda/lib/python3.7/site-packages/ipykernel_launcher.py:42: RuntimeWarning: invalid value encountered in long_scalars\n"
     ]
    },
    {
     "name": "stdout",
     "output_type": "stream",
     "text": [
      "=== rates === 0.00021\n"
     ]
    },
    {
     "name": "stderr",
     "output_type": "stream",
     "text": [
      "/opt/conda/lib/python3.7/site-packages/ipykernel_launcher.py:42: RuntimeWarning: invalid value encountered in long_scalars\n"
     ]
    },
    {
     "name": "stdout",
     "output_type": "stream",
     "text": [
      "=== rates === 0.00021999999999999998\n"
     ]
    },
    {
     "name": "stderr",
     "output_type": "stream",
     "text": [
      "/opt/conda/lib/python3.7/site-packages/ipykernel_launcher.py:42: RuntimeWarning: invalid value encountered in long_scalars\n"
     ]
    },
    {
     "name": "stdout",
     "output_type": "stream",
     "text": [
      "=== rates === 0.00023\n"
     ]
    },
    {
     "name": "stderr",
     "output_type": "stream",
     "text": [
      "/opt/conda/lib/python3.7/site-packages/ipykernel_launcher.py:42: RuntimeWarning: invalid value encountered in long_scalars\n"
     ]
    },
    {
     "name": "stdout",
     "output_type": "stream",
     "text": [
      "=== rates === 0.00023999999999999998\n",
      "=== best recall === 0.9411764705882353\n",
      "=== rates === 0.00025\n",
      "=== rates === 0.00026\n",
      "=== rates === 0.00027\n",
      "=== rates === 0.00028\n",
      "=== rates === 0.00029\n",
      "=== rates === 0.0003\n",
      "=== rates === 0.00031\n",
      "=== rates === 0.00031999999999999997\n",
      "=== rates === 0.00033\n",
      "=== rates === 0.00033999999999999997\n",
      "=== rates === 0.00035\n",
      "=== rates === 0.00035999999999999997\n",
      "=== rates === 0.00036999999999999994\n",
      "=== rates === 0.00037999999999999997\n",
      "=== rates === 0.00039\n",
      "=== rates === 0.00039999999999999996\n",
      "=== rates === 0.00040999999999999994\n",
      "=== rates === 0.00041999999999999996\n",
      "=== rates === 0.00043\n",
      "=== rates === 0.00043999999999999996\n",
      "=== rates === 0.00044999999999999993\n",
      "=== rates === 0.00045999999999999996\n",
      "=== rates === 0.00047\n",
      "=== rates === 0.00047999999999999996\n",
      "=== rates === 0.00049\n",
      "12/12 [==============================] - 0s 2ms/step - loss: 0.4301 - accuracy: 0.8151\n",
      "Accuracy: 81.5126\n",
      "Model: \"sequential_72\"\n",
      "_________________________________________________________________\n",
      "Layer (type)                 Output Shape              Param #   \n",
      "=================================================================\n",
      "flatten_72 (Flatten)         (None, 26)                0         \n",
      "_________________________________________________________________\n",
      "dense_398 (Dense)            (None, 49)                1323      \n",
      "_________________________________________________________________\n",
      "dense_399 (Dense)            (None, 49)                2450      \n",
      "_________________________________________________________________\n",
      "dense_400 (Dense)            (None, 49)                2450      \n",
      "_________________________________________________________________\n",
      "dense_401 (Dense)            (None, 49)                2450      \n",
      "_________________________________________________________________\n",
      "dense_402 (Dense)            (None, 49)                2450      \n",
      "_________________________________________________________________\n",
      "dense_403 (Dense)            (None, 49)                2450      \n",
      "_________________________________________________________________\n",
      "dense_404 (Dense)            (None, 49)                2450      \n",
      "_________________________________________________________________\n",
      "dense_405 (Dense)            (None, 2)                 100       \n",
      "=================================================================\n",
      "Total params: 16,123\n",
      "Trainable params: 16,123\n",
      "Non-trainable params: 0\n",
      "_________________________________________________________________\n",
      "None\n",
      "=== rates === 0.0001\n"
     ]
    },
    {
     "name": "stderr",
     "output_type": "stream",
     "text": [
      "/opt/conda/lib/python3.7/site-packages/ipykernel_launcher.py:42: RuntimeWarning: invalid value encountered in long_scalars\n"
     ]
    },
    {
     "name": "stdout",
     "output_type": "stream",
     "text": [
      "=== rates === 0.00011\n"
     ]
    },
    {
     "name": "stderr",
     "output_type": "stream",
     "text": [
      "/opt/conda/lib/python3.7/site-packages/ipykernel_launcher.py:42: RuntimeWarning: invalid value encountered in long_scalars\n"
     ]
    },
    {
     "name": "stdout",
     "output_type": "stream",
     "text": [
      "=== rates === 0.00012\n"
     ]
    },
    {
     "name": "stderr",
     "output_type": "stream",
     "text": [
      "/opt/conda/lib/python3.7/site-packages/ipykernel_launcher.py:42: RuntimeWarning: invalid value encountered in long_scalars\n"
     ]
    },
    {
     "name": "stdout",
     "output_type": "stream",
     "text": [
      "=== rates === 0.00013000000000000002\n"
     ]
    },
    {
     "name": "stderr",
     "output_type": "stream",
     "text": [
      "/opt/conda/lib/python3.7/site-packages/ipykernel_launcher.py:42: RuntimeWarning: invalid value encountered in long_scalars\n"
     ]
    },
    {
     "name": "stdout",
     "output_type": "stream",
     "text": [
      "=== rates === 0.00014\n"
     ]
    },
    {
     "name": "stderr",
     "output_type": "stream",
     "text": [
      "/opt/conda/lib/python3.7/site-packages/ipykernel_launcher.py:42: RuntimeWarning: invalid value encountered in long_scalars\n"
     ]
    },
    {
     "name": "stdout",
     "output_type": "stream",
     "text": [
      "=== rates === 0.00015000000000000001\n"
     ]
    },
    {
     "name": "stderr",
     "output_type": "stream",
     "text": [
      "/opt/conda/lib/python3.7/site-packages/ipykernel_launcher.py:42: RuntimeWarning: invalid value encountered in long_scalars\n"
     ]
    },
    {
     "name": "stdout",
     "output_type": "stream",
     "text": [
      "=== rates === 0.00015999999999999999\n"
     ]
    },
    {
     "name": "stderr",
     "output_type": "stream",
     "text": [
      "/opt/conda/lib/python3.7/site-packages/ipykernel_launcher.py:42: RuntimeWarning: invalid value encountered in long_scalars\n"
     ]
    },
    {
     "name": "stdout",
     "output_type": "stream",
     "text": [
      "=== rates === 0.00017\n"
     ]
    },
    {
     "name": "stderr",
     "output_type": "stream",
     "text": [
      "/opt/conda/lib/python3.7/site-packages/ipykernel_launcher.py:42: RuntimeWarning: invalid value encountered in long_scalars\n"
     ]
    },
    {
     "name": "stdout",
     "output_type": "stream",
     "text": [
      "=== rates === 0.00017999999999999998\n"
     ]
    },
    {
     "name": "stderr",
     "output_type": "stream",
     "text": [
      "/opt/conda/lib/python3.7/site-packages/ipykernel_launcher.py:42: RuntimeWarning: invalid value encountered in long_scalars\n"
     ]
    },
    {
     "name": "stdout",
     "output_type": "stream",
     "text": [
      "=== rates === 0.00019\n"
     ]
    },
    {
     "name": "stderr",
     "output_type": "stream",
     "text": [
      "/opt/conda/lib/python3.7/site-packages/ipykernel_launcher.py:42: RuntimeWarning: invalid value encountered in long_scalars\n"
     ]
    },
    {
     "name": "stdout",
     "output_type": "stream",
     "text": [
      "=== rates === 0.00019999999999999998\n"
     ]
    },
    {
     "name": "stderr",
     "output_type": "stream",
     "text": [
      "/opt/conda/lib/python3.7/site-packages/ipykernel_launcher.py:42: RuntimeWarning: invalid value encountered in long_scalars\n"
     ]
    },
    {
     "name": "stdout",
     "output_type": "stream",
     "text": [
      "=== rates === 0.00021\n"
     ]
    },
    {
     "name": "stderr",
     "output_type": "stream",
     "text": [
      "/opt/conda/lib/python3.7/site-packages/ipykernel_launcher.py:42: RuntimeWarning: invalid value encountered in long_scalars\n"
     ]
    },
    {
     "name": "stdout",
     "output_type": "stream",
     "text": [
      "=== rates === 0.00021999999999999998\n"
     ]
    },
    {
     "name": "stderr",
     "output_type": "stream",
     "text": [
      "/opt/conda/lib/python3.7/site-packages/ipykernel_launcher.py:42: RuntimeWarning: invalid value encountered in long_scalars\n"
     ]
    },
    {
     "name": "stdout",
     "output_type": "stream",
     "text": [
      "=== rates === 0.00023\n",
      "=== best recall === 0.75\n",
      "=== rates === 0.00023999999999999998\n",
      "=== rates === 0.00025\n",
      "=== rates === 0.00026\n",
      "=== best recall === 0.7647058823529411\n",
      "=== rates === 0.00027\n",
      "=== rates === 0.00028\n",
      "=== best recall === 0.7739130434782608\n",
      "=== rates === 0.00029\n",
      "=== best recall === 0.8113207547169812\n",
      "=== rates === 0.0003\n",
      "=== best recall === 0.8349514563106796\n",
      "=== rates === 0.00031\n",
      "=== best recall === 0.8829787234042553\n",
      "=== rates === 0.00031999999999999997\n",
      "=== rates === 0.00033\n",
      "=== rates === 0.00033999999999999997\n",
      "=== best recall === 0.8854166666666666\n",
      "=== rates === 0.00035\n",
      "=== rates === 0.00035999999999999997\n",
      "=== rates === 0.00036999999999999994\n",
      "=== rates === 0.00037999999999999997\n",
      "=== rates === 0.00039\n",
      "=== rates === 0.00039999999999999996\n",
      "=== rates === 0.00040999999999999994\n",
      "=== rates === 0.00041999999999999996\n",
      "=== rates === 0.00043\n",
      "=== rates === 0.00043999999999999996\n",
      "=== rates === 0.00044999999999999993\n",
      "=== rates === 0.00045999999999999996\n",
      "=== rates === 0.00047\n",
      "=== rates === 0.00047999999999999996\n",
      "=== rates === 0.00049\n",
      "12/12 [==============================] - 0s 4ms/step - loss: 0.4364 - accuracy: 0.8151\n",
      "Accuracy: 81.5126\n",
      "Model: \"sequential_73\"\n",
      "_________________________________________________________________\n",
      "Layer (type)                 Output Shape              Param #   \n",
      "=================================================================\n",
      "flatten_73 (Flatten)         (None, 26)                0         \n",
      "_________________________________________________________________\n",
      "dense_406 (Dense)            (None, 40)                1080      \n",
      "_________________________________________________________________\n",
      "dense_407 (Dense)            (None, 40)                1640      \n",
      "_________________________________________________________________\n",
      "dense_408 (Dense)            (None, 40)                1640      \n",
      "_________________________________________________________________\n",
      "dense_409 (Dense)            (None, 2)                 82        \n",
      "=================================================================\n",
      "Total params: 4,442\n",
      "Trainable params: 4,442\n",
      "Non-trainable params: 0\n",
      "_________________________________________________________________\n",
      "None\n",
      "=== rates === 0.0001\n"
     ]
    },
    {
     "name": "stderr",
     "output_type": "stream",
     "text": [
      "/opt/conda/lib/python3.7/site-packages/ipykernel_launcher.py:42: RuntimeWarning: invalid value encountered in long_scalars\n"
     ]
    },
    {
     "name": "stdout",
     "output_type": "stream",
     "text": [
      "=== rates === 0.00011\n"
     ]
    },
    {
     "name": "stderr",
     "output_type": "stream",
     "text": [
      "/opt/conda/lib/python3.7/site-packages/ipykernel_launcher.py:42: RuntimeWarning: invalid value encountered in long_scalars\n"
     ]
    },
    {
     "name": "stdout",
     "output_type": "stream",
     "text": [
      "=== rates === 0.00012\n"
     ]
    },
    {
     "name": "stderr",
     "output_type": "stream",
     "text": [
      "/opt/conda/lib/python3.7/site-packages/ipykernel_launcher.py:42: RuntimeWarning: invalid value encountered in long_scalars\n"
     ]
    },
    {
     "name": "stdout",
     "output_type": "stream",
     "text": [
      "=== rates === 0.00013000000000000002\n"
     ]
    },
    {
     "name": "stderr",
     "output_type": "stream",
     "text": [
      "/opt/conda/lib/python3.7/site-packages/ipykernel_launcher.py:42: RuntimeWarning: invalid value encountered in long_scalars\n"
     ]
    },
    {
     "name": "stdout",
     "output_type": "stream",
     "text": [
      "=== rates === 0.00014\n"
     ]
    },
    {
     "name": "stderr",
     "output_type": "stream",
     "text": [
      "/opt/conda/lib/python3.7/site-packages/ipykernel_launcher.py:42: RuntimeWarning: invalid value encountered in long_scalars\n"
     ]
    },
    {
     "name": "stdout",
     "output_type": "stream",
     "text": [
      "=== rates === 0.00015000000000000001\n"
     ]
    },
    {
     "name": "stderr",
     "output_type": "stream",
     "text": [
      "/opt/conda/lib/python3.7/site-packages/ipykernel_launcher.py:42: RuntimeWarning: invalid value encountered in long_scalars\n"
     ]
    },
    {
     "name": "stdout",
     "output_type": "stream",
     "text": [
      "=== rates === 0.00015999999999999999\n"
     ]
    },
    {
     "name": "stderr",
     "output_type": "stream",
     "text": [
      "/opt/conda/lib/python3.7/site-packages/ipykernel_launcher.py:42: RuntimeWarning: invalid value encountered in long_scalars\n"
     ]
    },
    {
     "name": "stdout",
     "output_type": "stream",
     "text": [
      "=== rates === 0.00017\n"
     ]
    },
    {
     "name": "stderr",
     "output_type": "stream",
     "text": [
      "/opt/conda/lib/python3.7/site-packages/ipykernel_launcher.py:42: RuntimeWarning: invalid value encountered in long_scalars\n"
     ]
    },
    {
     "name": "stdout",
     "output_type": "stream",
     "text": [
      "=== rates === 0.00017999999999999998\n",
      "=== best recall === 1.0\n",
      "=== rates === 0.00019\n",
      "=== rates === 0.00019999999999999998\n",
      "=== rates === 0.00021\n",
      "=== rates === 0.00021999999999999998\n",
      "=== rates === 0.00023\n",
      "=== rates === 0.00023999999999999998\n",
      "=== rates === 0.00025\n",
      "=== rates === 0.00026\n",
      "=== rates === 0.00027\n",
      "=== rates === 0.00028\n",
      "=== rates === 0.00029\n",
      "=== rates === 0.0003\n",
      "=== rates === 0.00031\n",
      "=== rates === 0.00031999999999999997\n",
      "=== rates === 0.00033\n",
      "=== rates === 0.00033999999999999997\n",
      "=== rates === 0.00035\n",
      "=== rates === 0.00035999999999999997\n",
      "=== rates === 0.00036999999999999994\n",
      "=== rates === 0.00037999999999999997\n",
      "=== rates === 0.00039\n",
      "=== rates === 0.00039999999999999996\n",
      "=== rates === 0.00040999999999999994\n",
      "=== rates === 0.00041999999999999996\n",
      "=== rates === 0.00043\n",
      "=== rates === 0.00043999999999999996\n",
      "=== rates === 0.00044999999999999993\n",
      "=== rates === 0.00045999999999999996\n",
      "=== rates === 0.00047\n",
      "=== rates === 0.00047999999999999996\n",
      "=== rates === 0.00049\n",
      "12/12 [==============================] - 0s 3ms/step - loss: 0.4311 - accuracy: 0.8179\n",
      "Accuracy: 81.7927\n",
      "Model: \"sequential_74\"\n",
      "_________________________________________________________________\n",
      "Layer (type)                 Output Shape              Param #   \n",
      "=================================================================\n",
      "flatten_74 (Flatten)         (None, 26)                0         \n",
      "_________________________________________________________________\n",
      "dense_410 (Dense)            (None, 47)                1269      \n",
      "_________________________________________________________________\n",
      "dense_411 (Dense)            (None, 47)                2256      \n",
      "_________________________________________________________________\n",
      "dense_412 (Dense)            (None, 47)                2256      \n",
      "_________________________________________________________________\n",
      "dense_413 (Dense)            (None, 2)                 96        \n",
      "=================================================================\n",
      "Total params: 5,877\n",
      "Trainable params: 5,877\n",
      "Non-trainable params: 0\n",
      "_________________________________________________________________\n",
      "None\n",
      "=== rates === 0.0001\n"
     ]
    },
    {
     "name": "stderr",
     "output_type": "stream",
     "text": [
      "/opt/conda/lib/python3.7/site-packages/ipykernel_launcher.py:42: RuntimeWarning: invalid value encountered in long_scalars\n"
     ]
    },
    {
     "name": "stdout",
     "output_type": "stream",
     "text": [
      "=== rates === 0.00011\n"
     ]
    },
    {
     "name": "stderr",
     "output_type": "stream",
     "text": [
      "/opt/conda/lib/python3.7/site-packages/ipykernel_launcher.py:42: RuntimeWarning: invalid value encountered in long_scalars\n"
     ]
    },
    {
     "name": "stdout",
     "output_type": "stream",
     "text": [
      "=== rates === 0.00012\n"
     ]
    },
    {
     "name": "stderr",
     "output_type": "stream",
     "text": [
      "/opt/conda/lib/python3.7/site-packages/ipykernel_launcher.py:42: RuntimeWarning: invalid value encountered in long_scalars\n"
     ]
    },
    {
     "name": "stdout",
     "output_type": "stream",
     "text": [
      "=== rates === 0.00013000000000000002\n"
     ]
    },
    {
     "name": "stderr",
     "output_type": "stream",
     "text": [
      "/opt/conda/lib/python3.7/site-packages/ipykernel_launcher.py:42: RuntimeWarning: invalid value encountered in long_scalars\n"
     ]
    },
    {
     "name": "stdout",
     "output_type": "stream",
     "text": [
      "=== rates === 0.00014\n"
     ]
    },
    {
     "name": "stderr",
     "output_type": "stream",
     "text": [
      "/opt/conda/lib/python3.7/site-packages/ipykernel_launcher.py:42: RuntimeWarning: invalid value encountered in long_scalars\n"
     ]
    },
    {
     "name": "stdout",
     "output_type": "stream",
     "text": [
      "=== rates === 0.00015000000000000001\n"
     ]
    },
    {
     "name": "stderr",
     "output_type": "stream",
     "text": [
      "/opt/conda/lib/python3.7/site-packages/ipykernel_launcher.py:42: RuntimeWarning: invalid value encountered in long_scalars\n"
     ]
    },
    {
     "name": "stdout",
     "output_type": "stream",
     "text": [
      "=== rates === 0.00015999999999999999\n"
     ]
    },
    {
     "name": "stderr",
     "output_type": "stream",
     "text": [
      "/opt/conda/lib/python3.7/site-packages/ipykernel_launcher.py:42: RuntimeWarning: invalid value encountered in long_scalars\n"
     ]
    },
    {
     "name": "stdout",
     "output_type": "stream",
     "text": [
      "=== rates === 0.00017\n"
     ]
    },
    {
     "name": "stderr",
     "output_type": "stream",
     "text": [
      "/opt/conda/lib/python3.7/site-packages/ipykernel_launcher.py:42: RuntimeWarning: invalid value encountered in long_scalars\n"
     ]
    },
    {
     "name": "stdout",
     "output_type": "stream",
     "text": [
      "=== rates === 0.00017999999999999998\n",
      "=== best recall === 0.9230769230769231\n",
      "=== rates === 0.00019\n",
      "=== rates === 0.00019999999999999998\n",
      "=== rates === 0.00021\n",
      "=== rates === 0.00021999999999999998\n",
      "=== rates === 0.00023\n",
      "=== rates === 0.00023999999999999998\n",
      "=== rates === 0.00025\n",
      "=== rates === 0.00026\n",
      "=== rates === 0.00027\n",
      "=== rates === 0.00028\n",
      "=== rates === 0.00029\n",
      "=== rates === 0.0003\n",
      "=== rates === 0.00031\n",
      "=== rates === 0.00031999999999999997\n",
      "=== rates === 0.00033\n",
      "=== rates === 0.00033999999999999997\n",
      "=== rates === 0.00035\n",
      "=== rates === 0.00035999999999999997\n",
      "=== rates === 0.00036999999999999994\n",
      "=== rates === 0.00037999999999999997\n",
      "=== rates === 0.00039\n",
      "=== rates === 0.00039999999999999996\n",
      "=== rates === 0.00040999999999999994\n",
      "=== rates === 0.00041999999999999996\n",
      "=== rates === 0.00043\n",
      "=== rates === 0.00043999999999999996\n",
      "=== rates === 0.00044999999999999993\n",
      "=== rates === 0.00045999999999999996\n",
      "=== rates === 0.00047\n",
      "=== rates === 0.00047999999999999996\n",
      "=== rates === 0.00049\n",
      "12/12 [==============================] - 0s 16ms/step - loss: 0.4308 - accuracy: 0.8123\n",
      "Accuracy: 81.2325\n",
      "Model: \"sequential_75\"\n",
      "_________________________________________________________________\n",
      "Layer (type)                 Output Shape              Param #   \n",
      "=================================================================\n",
      "flatten_75 (Flatten)         (None, 26)                0         \n",
      "_________________________________________________________________\n",
      "dense_414 (Dense)            (None, 44)                1188      \n",
      "_________________________________________________________________\n",
      "dense_415 (Dense)            (None, 44)                1980      \n",
      "_________________________________________________________________\n",
      "dense_416 (Dense)            (None, 44)                1980      \n",
      "_________________________________________________________________\n",
      "dense_417 (Dense)            (None, 44)                1980      \n",
      "_________________________________________________________________\n",
      "dense_418 (Dense)            (None, 44)                1980      \n",
      "_________________________________________________________________\n",
      "dense_419 (Dense)            (None, 2)                 90        \n",
      "=================================================================\n",
      "Total params: 9,198\n",
      "Trainable params: 9,198\n",
      "Non-trainable params: 0\n",
      "_________________________________________________________________\n",
      "None\n",
      "=== rates === 0.0001\n",
      "=== best recall === 0.38375350140056025\n",
      "=== rates === 0.00011\n"
     ]
    },
    {
     "name": "stderr",
     "output_type": "stream",
     "text": [
      "/opt/conda/lib/python3.7/site-packages/ipykernel_launcher.py:42: RuntimeWarning: invalid value encountered in long_scalars\n"
     ]
    },
    {
     "name": "stdout",
     "output_type": "stream",
     "text": [
      "=== rates === 0.00012\n"
     ]
    },
    {
     "name": "stderr",
     "output_type": "stream",
     "text": [
      "/opt/conda/lib/python3.7/site-packages/ipykernel_launcher.py:42: RuntimeWarning: invalid value encountered in long_scalars\n"
     ]
    },
    {
     "name": "stdout",
     "output_type": "stream",
     "text": [
      "=== rates === 0.00013000000000000002\n"
     ]
    },
    {
     "name": "stderr",
     "output_type": "stream",
     "text": [
      "/opt/conda/lib/python3.7/site-packages/ipykernel_launcher.py:42: RuntimeWarning: invalid value encountered in long_scalars\n"
     ]
    },
    {
     "name": "stdout",
     "output_type": "stream",
     "text": [
      "=== rates === 0.00014\n"
     ]
    },
    {
     "name": "stderr",
     "output_type": "stream",
     "text": [
      "/opt/conda/lib/python3.7/site-packages/ipykernel_launcher.py:42: RuntimeWarning: invalid value encountered in long_scalars\n"
     ]
    },
    {
     "name": "stdout",
     "output_type": "stream",
     "text": [
      "=== rates === 0.00015000000000000001\n"
     ]
    },
    {
     "name": "stderr",
     "output_type": "stream",
     "text": [
      "/opt/conda/lib/python3.7/site-packages/ipykernel_launcher.py:42: RuntimeWarning: invalid value encountered in long_scalars\n"
     ]
    },
    {
     "name": "stdout",
     "output_type": "stream",
     "text": [
      "=== rates === 0.00015999999999999999\n"
     ]
    },
    {
     "name": "stderr",
     "output_type": "stream",
     "text": [
      "/opt/conda/lib/python3.7/site-packages/ipykernel_launcher.py:42: RuntimeWarning: invalid value encountered in long_scalars\n"
     ]
    },
    {
     "name": "stdout",
     "output_type": "stream",
     "text": [
      "=== rates === 0.00017\n"
     ]
    },
    {
     "name": "stderr",
     "output_type": "stream",
     "text": [
      "/opt/conda/lib/python3.7/site-packages/ipykernel_launcher.py:42: RuntimeWarning: invalid value encountered in long_scalars\n"
     ]
    },
    {
     "name": "stdout",
     "output_type": "stream",
     "text": [
      "=== rates === 0.00017999999999999998\n"
     ]
    },
    {
     "name": "stderr",
     "output_type": "stream",
     "text": [
      "/opt/conda/lib/python3.7/site-packages/ipykernel_launcher.py:42: RuntimeWarning: invalid value encountered in long_scalars\n"
     ]
    },
    {
     "name": "stdout",
     "output_type": "stream",
     "text": [
      "=== rates === 0.00019\n"
     ]
    },
    {
     "name": "stderr",
     "output_type": "stream",
     "text": [
      "/opt/conda/lib/python3.7/site-packages/ipykernel_launcher.py:42: RuntimeWarning: invalid value encountered in long_scalars\n"
     ]
    },
    {
     "name": "stdout",
     "output_type": "stream",
     "text": [
      "=== rates === 0.00019999999999999998\n"
     ]
    },
    {
     "name": "stderr",
     "output_type": "stream",
     "text": [
      "/opt/conda/lib/python3.7/site-packages/ipykernel_launcher.py:42: RuntimeWarning: invalid value encountered in long_scalars\n"
     ]
    },
    {
     "name": "stdout",
     "output_type": "stream",
     "text": [
      "=== rates === 0.00021\n"
     ]
    },
    {
     "name": "stderr",
     "output_type": "stream",
     "text": [
      "/opt/conda/lib/python3.7/site-packages/ipykernel_launcher.py:42: RuntimeWarning: invalid value encountered in long_scalars\n"
     ]
    },
    {
     "name": "stdout",
     "output_type": "stream",
     "text": [
      "=== rates === 0.00021999999999999998\n",
      "=== best recall === 0.9591836734693877\n",
      "=== rates === 0.00023\n",
      "=== rates === 0.00023999999999999998\n",
      "=== rates === 0.00025\n",
      "=== rates === 0.00026\n",
      "=== rates === 0.00027\n",
      "=== rates === 0.00028\n",
      "=== rates === 0.00029\n",
      "=== rates === 0.0003\n",
      "=== rates === 0.00031\n",
      "=== rates === 0.00031999999999999997\n",
      "=== rates === 0.00033\n",
      "=== rates === 0.00033999999999999997\n",
      "=== rates === 0.00035\n",
      "=== rates === 0.00035999999999999997\n",
      "=== rates === 0.00036999999999999994\n",
      "=== rates === 0.00037999999999999997\n",
      "=== rates === 0.00039\n",
      "=== rates === 0.00039999999999999996\n",
      "=== rates === 0.00040999999999999994\n",
      "=== rates === 0.00041999999999999996\n",
      "=== rates === 0.00043\n",
      "=== rates === 0.00043999999999999996\n",
      "=== rates === 0.00044999999999999993\n",
      "=== rates === 0.00045999999999999996\n",
      "=== rates === 0.00047\n",
      "=== rates === 0.00047999999999999996\n",
      "=== rates === 0.00049\n",
      "12/12 [==============================] - 0s 2ms/step - loss: 0.4311 - accuracy: 0.8123\n",
      "Accuracy: 81.2325\n",
      "Model: \"sequential_76\"\n",
      "_________________________________________________________________\n",
      "Layer (type)                 Output Shape              Param #   \n",
      "=================================================================\n",
      "flatten_76 (Flatten)         (None, 26)                0         \n",
      "_________________________________________________________________\n",
      "dense_420 (Dense)            (None, 22)                594       \n",
      "_________________________________________________________________\n",
      "dense_421 (Dense)            (None, 22)                506       \n",
      "_________________________________________________________________\n",
      "dense_422 (Dense)            (None, 22)                506       \n",
      "_________________________________________________________________\n",
      "dense_423 (Dense)            (None, 22)                506       \n",
      "_________________________________________________________________\n",
      "dense_424 (Dense)            (None, 22)                506       \n",
      "_________________________________________________________________\n",
      "dense_425 (Dense)            (None, 22)                506       \n",
      "_________________________________________________________________\n",
      "dense_426 (Dense)            (None, 22)                506       \n",
      "_________________________________________________________________\n",
      "dense_427 (Dense)            (None, 22)                506       \n",
      "_________________________________________________________________\n",
      "dense_428 (Dense)            (None, 2)                 46        \n",
      "=================================================================\n",
      "Total params: 4,182\n",
      "Trainable params: 4,182\n",
      "Non-trainable params: 0\n",
      "_________________________________________________________________\n",
      "None\n",
      "=== rates === 0.0001\n"
     ]
    },
    {
     "name": "stderr",
     "output_type": "stream",
     "text": [
      "/opt/conda/lib/python3.7/site-packages/ipykernel_launcher.py:42: RuntimeWarning: invalid value encountered in long_scalars\n"
     ]
    },
    {
     "name": "stdout",
     "output_type": "stream",
     "text": [
      "=== rates === 0.00011\n"
     ]
    },
    {
     "name": "stderr",
     "output_type": "stream",
     "text": [
      "/opt/conda/lib/python3.7/site-packages/ipykernel_launcher.py:42: RuntimeWarning: invalid value encountered in long_scalars\n"
     ]
    },
    {
     "name": "stdout",
     "output_type": "stream",
     "text": [
      "=== rates === 0.00012\n"
     ]
    },
    {
     "name": "stderr",
     "output_type": "stream",
     "text": [
      "/opt/conda/lib/python3.7/site-packages/ipykernel_launcher.py:42: RuntimeWarning: invalid value encountered in long_scalars\n"
     ]
    },
    {
     "name": "stdout",
     "output_type": "stream",
     "text": [
      "=== rates === 0.00013000000000000002\n"
     ]
    },
    {
     "name": "stderr",
     "output_type": "stream",
     "text": [
      "/opt/conda/lib/python3.7/site-packages/ipykernel_launcher.py:42: RuntimeWarning: invalid value encountered in long_scalars\n"
     ]
    },
    {
     "name": "stdout",
     "output_type": "stream",
     "text": [
      "=== rates === 0.00014\n"
     ]
    },
    {
     "name": "stderr",
     "output_type": "stream",
     "text": [
      "/opt/conda/lib/python3.7/site-packages/ipykernel_launcher.py:42: RuntimeWarning: invalid value encountered in long_scalars\n"
     ]
    },
    {
     "name": "stdout",
     "output_type": "stream",
     "text": [
      "=== rates === 0.00015000000000000001\n"
     ]
    },
    {
     "name": "stderr",
     "output_type": "stream",
     "text": [
      "/opt/conda/lib/python3.7/site-packages/ipykernel_launcher.py:42: RuntimeWarning: invalid value encountered in long_scalars\n"
     ]
    },
    {
     "name": "stdout",
     "output_type": "stream",
     "text": [
      "=== rates === 0.00015999999999999999\n"
     ]
    },
    {
     "name": "stderr",
     "output_type": "stream",
     "text": [
      "/opt/conda/lib/python3.7/site-packages/ipykernel_launcher.py:42: RuntimeWarning: invalid value encountered in long_scalars\n"
     ]
    },
    {
     "name": "stdout",
     "output_type": "stream",
     "text": [
      "=== rates === 0.00017\n"
     ]
    },
    {
     "name": "stderr",
     "output_type": "stream",
     "text": [
      "/opt/conda/lib/python3.7/site-packages/ipykernel_launcher.py:42: RuntimeWarning: invalid value encountered in long_scalars\n"
     ]
    },
    {
     "name": "stdout",
     "output_type": "stream",
     "text": [
      "=== rates === 0.00017999999999999998\n"
     ]
    },
    {
     "name": "stderr",
     "output_type": "stream",
     "text": [
      "/opt/conda/lib/python3.7/site-packages/ipykernel_launcher.py:42: RuntimeWarning: invalid value encountered in long_scalars\n"
     ]
    },
    {
     "name": "stdout",
     "output_type": "stream",
     "text": [
      "=== rates === 0.00019\n"
     ]
    },
    {
     "name": "stderr",
     "output_type": "stream",
     "text": [
      "/opt/conda/lib/python3.7/site-packages/ipykernel_launcher.py:42: RuntimeWarning: invalid value encountered in long_scalars\n"
     ]
    },
    {
     "name": "stdout",
     "output_type": "stream",
     "text": [
      "=== rates === 0.00019999999999999998\n"
     ]
    },
    {
     "name": "stderr",
     "output_type": "stream",
     "text": [
      "/opt/conda/lib/python3.7/site-packages/ipykernel_launcher.py:42: RuntimeWarning: invalid value encountered in long_scalars\n"
     ]
    },
    {
     "name": "stdout",
     "output_type": "stream",
     "text": [
      "=== rates === 0.00021\n"
     ]
    },
    {
     "name": "stderr",
     "output_type": "stream",
     "text": [
      "/opt/conda/lib/python3.7/site-packages/ipykernel_launcher.py:42: RuntimeWarning: invalid value encountered in long_scalars\n"
     ]
    },
    {
     "name": "stdout",
     "output_type": "stream",
     "text": [
      "=== rates === 0.00021999999999999998\n"
     ]
    },
    {
     "name": "stderr",
     "output_type": "stream",
     "text": [
      "/opt/conda/lib/python3.7/site-packages/ipykernel_launcher.py:42: RuntimeWarning: invalid value encountered in long_scalars\n"
     ]
    },
    {
     "name": "stdout",
     "output_type": "stream",
     "text": [
      "=== rates === 0.00023\n"
     ]
    },
    {
     "name": "stderr",
     "output_type": "stream",
     "text": [
      "/opt/conda/lib/python3.7/site-packages/ipykernel_launcher.py:42: RuntimeWarning: invalid value encountered in long_scalars\n"
     ]
    },
    {
     "name": "stdout",
     "output_type": "stream",
     "text": [
      "=== rates === 0.00023999999999999998\n"
     ]
    },
    {
     "name": "stderr",
     "output_type": "stream",
     "text": [
      "/opt/conda/lib/python3.7/site-packages/ipykernel_launcher.py:42: RuntimeWarning: invalid value encountered in long_scalars\n"
     ]
    },
    {
     "name": "stdout",
     "output_type": "stream",
     "text": [
      "=== rates === 0.00025\n"
     ]
    },
    {
     "name": "stderr",
     "output_type": "stream",
     "text": [
      "/opt/conda/lib/python3.7/site-packages/ipykernel_launcher.py:42: RuntimeWarning: invalid value encountered in long_scalars\n"
     ]
    },
    {
     "name": "stdout",
     "output_type": "stream",
     "text": [
      "=== rates === 0.00026\n"
     ]
    },
    {
     "name": "stderr",
     "output_type": "stream",
     "text": [
      "/opt/conda/lib/python3.7/site-packages/ipykernel_launcher.py:42: RuntimeWarning: invalid value encountered in long_scalars\n"
     ]
    },
    {
     "name": "stdout",
     "output_type": "stream",
     "text": [
      "=== rates === 0.00027\n"
     ]
    },
    {
     "name": "stderr",
     "output_type": "stream",
     "text": [
      "/opt/conda/lib/python3.7/site-packages/ipykernel_launcher.py:42: RuntimeWarning: invalid value encountered in long_scalars\n"
     ]
    },
    {
     "name": "stdout",
     "output_type": "stream",
     "text": [
      "=== rates === 0.00028\n"
     ]
    },
    {
     "name": "stderr",
     "output_type": "stream",
     "text": [
      "/opt/conda/lib/python3.7/site-packages/ipykernel_launcher.py:42: RuntimeWarning: invalid value encountered in long_scalars\n"
     ]
    },
    {
     "name": "stdout",
     "output_type": "stream",
     "text": [
      "=== rates === 0.00029\n"
     ]
    },
    {
     "name": "stderr",
     "output_type": "stream",
     "text": [
      "/opt/conda/lib/python3.7/site-packages/ipykernel_launcher.py:42: RuntimeWarning: invalid value encountered in long_scalars\n"
     ]
    },
    {
     "name": "stdout",
     "output_type": "stream",
     "text": [
      "=== rates === 0.0003\n"
     ]
    },
    {
     "name": "stderr",
     "output_type": "stream",
     "text": [
      "/opt/conda/lib/python3.7/site-packages/ipykernel_launcher.py:42: RuntimeWarning: invalid value encountered in long_scalars\n"
     ]
    },
    {
     "name": "stdout",
     "output_type": "stream",
     "text": [
      "=== rates === 0.00031\n"
     ]
    },
    {
     "name": "stderr",
     "output_type": "stream",
     "text": [
      "/opt/conda/lib/python3.7/site-packages/ipykernel_launcher.py:42: RuntimeWarning: invalid value encountered in long_scalars\n"
     ]
    },
    {
     "name": "stdout",
     "output_type": "stream",
     "text": [
      "=== rates === 0.00031999999999999997\n"
     ]
    },
    {
     "name": "stderr",
     "output_type": "stream",
     "text": [
      "/opt/conda/lib/python3.7/site-packages/ipykernel_launcher.py:42: RuntimeWarning: invalid value encountered in long_scalars\n"
     ]
    },
    {
     "name": "stdout",
     "output_type": "stream",
     "text": [
      "=== rates === 0.00033\n",
      "=== best recall === 0.8387096774193549\n",
      "=== rates === 0.00033999999999999997\n",
      "=== rates === 0.00035\n",
      "=== rates === 0.00035999999999999997\n",
      "=== rates === 0.00036999999999999994\n",
      "=== rates === 0.00037999999999999997\n",
      "=== rates === 0.00039\n",
      "=== rates === 0.00039999999999999996\n",
      "=== rates === 0.00040999999999999994\n",
      "=== rates === 0.00041999999999999996\n",
      "=== rates === 0.00043\n",
      "=== rates === 0.00043999999999999996\n",
      "=== rates === 0.00044999999999999993\n",
      "=== rates === 0.00045999999999999996\n",
      "=== rates === 0.00047\n",
      "=== rates === 0.00047999999999999996\n",
      "=== rates === 0.00049\n",
      "12/12 [==============================] - 0s 3ms/step - loss: 0.4397 - accuracy: 0.8095\n",
      "Accuracy: 80.9524\n",
      "Model: \"sequential_77\"\n",
      "_________________________________________________________________\n",
      "Layer (type)                 Output Shape              Param #   \n",
      "=================================================================\n",
      "flatten_77 (Flatten)         (None, 26)                0         \n",
      "_________________________________________________________________\n",
      "dense_429 (Dense)            (None, 50)                1350      \n",
      "_________________________________________________________________\n",
      "dense_430 (Dense)            (None, 50)                2550      \n",
      "_________________________________________________________________\n",
      "dense_431 (Dense)            (None, 50)                2550      \n",
      "_________________________________________________________________\n",
      "dense_432 (Dense)            (None, 50)                2550      \n",
      "_________________________________________________________________\n",
      "dense_433 (Dense)            (None, 50)                2550      \n",
      "_________________________________________________________________\n",
      "dense_434 (Dense)            (None, 50)                2550      \n",
      "_________________________________________________________________\n",
      "dense_435 (Dense)            (None, 50)                2550      \n",
      "_________________________________________________________________\n",
      "dense_436 (Dense)            (None, 2)                 102       \n",
      "=================================================================\n",
      "Total params: 16,752\n",
      "Trainable params: 16,752\n",
      "Non-trainable params: 0\n",
      "_________________________________________________________________\n",
      "None\n",
      "=== rates === 0.0001\n"
     ]
    },
    {
     "name": "stderr",
     "output_type": "stream",
     "text": [
      "/opt/conda/lib/python3.7/site-packages/ipykernel_launcher.py:42: RuntimeWarning: invalid value encountered in long_scalars\n"
     ]
    },
    {
     "name": "stdout",
     "output_type": "stream",
     "text": [
      "=== rates === 0.00011\n"
     ]
    },
    {
     "name": "stderr",
     "output_type": "stream",
     "text": [
      "/opt/conda/lib/python3.7/site-packages/ipykernel_launcher.py:42: RuntimeWarning: invalid value encountered in long_scalars\n"
     ]
    },
    {
     "name": "stdout",
     "output_type": "stream",
     "text": [
      "=== rates === 0.00012\n"
     ]
    },
    {
     "name": "stderr",
     "output_type": "stream",
     "text": [
      "/opt/conda/lib/python3.7/site-packages/ipykernel_launcher.py:42: RuntimeWarning: invalid value encountered in long_scalars\n"
     ]
    },
    {
     "name": "stdout",
     "output_type": "stream",
     "text": [
      "=== rates === 0.00013000000000000002\n"
     ]
    },
    {
     "name": "stderr",
     "output_type": "stream",
     "text": [
      "/opt/conda/lib/python3.7/site-packages/ipykernel_launcher.py:42: RuntimeWarning: invalid value encountered in long_scalars\n"
     ]
    },
    {
     "name": "stdout",
     "output_type": "stream",
     "text": [
      "=== rates === 0.00014\n"
     ]
    },
    {
     "name": "stderr",
     "output_type": "stream",
     "text": [
      "/opt/conda/lib/python3.7/site-packages/ipykernel_launcher.py:42: RuntimeWarning: invalid value encountered in long_scalars\n"
     ]
    },
    {
     "name": "stdout",
     "output_type": "stream",
     "text": [
      "=== rates === 0.00015000000000000001\n"
     ]
    },
    {
     "name": "stderr",
     "output_type": "stream",
     "text": [
      "/opt/conda/lib/python3.7/site-packages/ipykernel_launcher.py:42: RuntimeWarning: invalid value encountered in long_scalars\n"
     ]
    },
    {
     "name": "stdout",
     "output_type": "stream",
     "text": [
      "=== rates === 0.00015999999999999999\n"
     ]
    },
    {
     "name": "stderr",
     "output_type": "stream",
     "text": [
      "/opt/conda/lib/python3.7/site-packages/ipykernel_launcher.py:42: RuntimeWarning: invalid value encountered in long_scalars\n"
     ]
    },
    {
     "name": "stdout",
     "output_type": "stream",
     "text": [
      "=== rates === 0.00017\n"
     ]
    },
    {
     "name": "stderr",
     "output_type": "stream",
     "text": [
      "/opt/conda/lib/python3.7/site-packages/ipykernel_launcher.py:42: RuntimeWarning: invalid value encountered in long_scalars\n"
     ]
    },
    {
     "name": "stdout",
     "output_type": "stream",
     "text": [
      "=== rates === 0.00017999999999999998\n"
     ]
    },
    {
     "name": "stderr",
     "output_type": "stream",
     "text": [
      "/opt/conda/lib/python3.7/site-packages/ipykernel_launcher.py:42: RuntimeWarning: invalid value encountered in long_scalars\n"
     ]
    },
    {
     "name": "stdout",
     "output_type": "stream",
     "text": [
      "=== rates === 0.00019\n"
     ]
    },
    {
     "name": "stderr",
     "output_type": "stream",
     "text": [
      "/opt/conda/lib/python3.7/site-packages/ipykernel_launcher.py:42: RuntimeWarning: invalid value encountered in long_scalars\n"
     ]
    },
    {
     "name": "stdout",
     "output_type": "stream",
     "text": [
      "=== rates === 0.00019999999999999998\n"
     ]
    },
    {
     "name": "stderr",
     "output_type": "stream",
     "text": [
      "/opt/conda/lib/python3.7/site-packages/ipykernel_launcher.py:42: RuntimeWarning: invalid value encountered in long_scalars\n"
     ]
    },
    {
     "name": "stdout",
     "output_type": "stream",
     "text": [
      "=== rates === 0.00021\n"
     ]
    },
    {
     "name": "stderr",
     "output_type": "stream",
     "text": [
      "/opt/conda/lib/python3.7/site-packages/ipykernel_launcher.py:42: RuntimeWarning: invalid value encountered in long_scalars\n"
     ]
    },
    {
     "name": "stdout",
     "output_type": "stream",
     "text": [
      "=== rates === 0.00021999999999999998\n"
     ]
    },
    {
     "name": "stderr",
     "output_type": "stream",
     "text": [
      "/opt/conda/lib/python3.7/site-packages/ipykernel_launcher.py:42: RuntimeWarning: invalid value encountered in long_scalars\n"
     ]
    },
    {
     "name": "stdout",
     "output_type": "stream",
     "text": [
      "=== rates === 0.00023\n"
     ]
    },
    {
     "name": "stderr",
     "output_type": "stream",
     "text": [
      "/opt/conda/lib/python3.7/site-packages/ipykernel_launcher.py:42: RuntimeWarning: invalid value encountered in long_scalars\n"
     ]
    },
    {
     "name": "stdout",
     "output_type": "stream",
     "text": [
      "=== rates === 0.00023999999999999998\n",
      "=== best recall === 0.7603305785123967\n",
      "=== rates === 0.00025\n",
      "=== rates === 0.00026\n",
      "=== rates === 0.00027\n",
      "=== best recall === 0.7642276422764228\n",
      "=== rates === 0.00028\n",
      "=== best recall === 0.8053097345132744\n",
      "=== rates === 0.00029\n",
      "=== best recall === 0.8090909090909091\n",
      "=== rates === 0.0003\n",
      "=== best recall === 0.8571428571428571\n",
      "=== rates === 0.00031\n",
      "=== rates === 0.00031999999999999997\n",
      "=== best recall === 0.8686868686868687\n",
      "=== rates === 0.00033\n",
      "=== rates === 0.00033999999999999997\n",
      "=== rates === 0.00035\n",
      "=== best recall === 0.8842105263157894\n",
      "=== rates === 0.00035999999999999997\n",
      "=== rates === 0.00036999999999999994\n",
      "=== best recall === 0.8863636363636364\n",
      "=== rates === 0.00037999999999999997\n",
      "=== best recall === 0.8913043478260869\n",
      "=== rates === 0.00039\n",
      "=== rates === 0.00039999999999999996\n",
      "=== rates === 0.00040999999999999994\n",
      "=== rates === 0.00041999999999999996\n",
      "=== rates === 0.00043\n",
      "=== rates === 0.00043999999999999996\n",
      "=== rates === 0.00044999999999999993\n",
      "=== rates === 0.00045999999999999996\n",
      "=== rates === 0.00047\n",
      "=== rates === 0.00047999999999999996\n",
      "=== rates === 0.00049\n",
      "12/12 [==============================] - 0s 3ms/step - loss: 0.4453 - accuracy: 0.8095\n",
      "Accuracy: 80.9524\n",
      "Model: \"sequential_78\"\n",
      "_________________________________________________________________\n",
      "Layer (type)                 Output Shape              Param #   \n",
      "=================================================================\n",
      "flatten_78 (Flatten)         (None, 26)                0         \n",
      "_________________________________________________________________\n",
      "dense_437 (Dense)            (None, 21)                567       \n",
      "_________________________________________________________________\n",
      "dense_438 (Dense)            (None, 2)                 44        \n",
      "=================================================================\n",
      "Total params: 611\n",
      "Trainable params: 611\n",
      "Non-trainable params: 0\n",
      "_________________________________________________________________\n",
      "None\n",
      "=== rates === 0.0001\n",
      "=== best recall === 0.4166666666666667\n",
      "=== rates === 0.00011\n",
      "=== best recall === 0.5\n",
      "=== rates === 0.00012\n",
      "=== best recall === 0.7142857142857143\n",
      "=== rates === 0.00013000000000000002\n",
      "=== rates === 0.00014\n",
      "=== rates === 0.00015000000000000001\n",
      "=== best recall === 0.75\n",
      "=== rates === 0.00015999999999999999\n",
      "=== best recall === 0.85\n",
      "=== rates === 0.00017\n",
      "=== best recall === 0.8529411764705882\n",
      "=== rates === 0.00017999999999999998\n",
      "=== best recall === 0.8809523809523809\n",
      "=== rates === 0.00019\n",
      "=== best recall === 0.8867924528301887\n",
      "=== rates === 0.00019999999999999998\n",
      "=== rates === 0.00021\n",
      "=== rates === 0.00021999999999999998\n",
      "=== rates === 0.00023\n",
      "=== rates === 0.00023999999999999998\n",
      "=== rates === 0.00025\n",
      "=== rates === 0.00026\n",
      "=== rates === 0.00027\n",
      "=== rates === 0.00028\n",
      "=== rates === 0.00029\n",
      "=== rates === 0.0003\n",
      "=== rates === 0.00031\n",
      "=== rates === 0.00031999999999999997\n",
      "=== rates === 0.00033\n",
      "=== rates === 0.00033999999999999997\n",
      "=== rates === 0.00035\n",
      "=== rates === 0.00035999999999999997\n",
      "=== rates === 0.00036999999999999994\n",
      "=== rates === 0.00037999999999999997\n",
      "=== rates === 0.00039\n",
      "=== rates === 0.00039999999999999996\n",
      "=== rates === 0.00040999999999999994\n",
      "=== rates === 0.00041999999999999996\n",
      "=== rates === 0.00043\n",
      "=== rates === 0.00043999999999999996\n",
      "=== rates === 0.00044999999999999993\n",
      "=== rates === 0.00045999999999999996\n",
      "=== rates === 0.00047\n",
      "=== rates === 0.00047999999999999996\n",
      "=== rates === 0.00049\n",
      "12/12 [==============================] - 0s 2ms/step - loss: 0.4212 - accuracy: 0.8067\n",
      "Accuracy: 80.6723\n",
      "Model: \"sequential_79\"\n",
      "_________________________________________________________________\n",
      "Layer (type)                 Output Shape              Param #   \n",
      "=================================================================\n",
      "flatten_79 (Flatten)         (None, 26)                0         \n",
      "_________________________________________________________________\n",
      "dense_439 (Dense)            (None, 40)                1080      \n",
      "_________________________________________________________________\n",
      "dense_440 (Dense)            (None, 40)                1640      \n",
      "_________________________________________________________________\n",
      "dense_441 (Dense)            (None, 40)                1640      \n",
      "_________________________________________________________________\n",
      "dense_442 (Dense)            (None, 40)                1640      \n",
      "_________________________________________________________________\n",
      "dense_443 (Dense)            (None, 40)                1640      \n",
      "_________________________________________________________________\n",
      "dense_444 (Dense)            (None, 40)                1640      \n",
      "_________________________________________________________________\n",
      "dense_445 (Dense)            (None, 40)                1640      \n",
      "_________________________________________________________________\n",
      "dense_446 (Dense)            (None, 40)                1640      \n",
      "_________________________________________________________________\n",
      "dense_447 (Dense)            (None, 2)                 82        \n",
      "=================================================================\n",
      "Total params: 12,642\n",
      "Trainable params: 12,642\n",
      "Non-trainable params: 0\n",
      "_________________________________________________________________\n",
      "None\n",
      "=== rates === 0.0001\n"
     ]
    },
    {
     "name": "stderr",
     "output_type": "stream",
     "text": [
      "/opt/conda/lib/python3.7/site-packages/ipykernel_launcher.py:42: RuntimeWarning: invalid value encountered in long_scalars\n"
     ]
    },
    {
     "name": "stdout",
     "output_type": "stream",
     "text": [
      "=== rates === 0.00011\n"
     ]
    },
    {
     "name": "stderr",
     "output_type": "stream",
     "text": [
      "/opt/conda/lib/python3.7/site-packages/ipykernel_launcher.py:42: RuntimeWarning: invalid value encountered in long_scalars\n"
     ]
    },
    {
     "name": "stdout",
     "output_type": "stream",
     "text": [
      "=== rates === 0.00012\n"
     ]
    },
    {
     "name": "stderr",
     "output_type": "stream",
     "text": [
      "/opt/conda/lib/python3.7/site-packages/ipykernel_launcher.py:42: RuntimeWarning: invalid value encountered in long_scalars\n"
     ]
    },
    {
     "name": "stdout",
     "output_type": "stream",
     "text": [
      "=== rates === 0.00013000000000000002\n"
     ]
    },
    {
     "name": "stderr",
     "output_type": "stream",
     "text": [
      "/opt/conda/lib/python3.7/site-packages/ipykernel_launcher.py:42: RuntimeWarning: invalid value encountered in long_scalars\n"
     ]
    },
    {
     "name": "stdout",
     "output_type": "stream",
     "text": [
      "=== rates === 0.00014\n"
     ]
    },
    {
     "name": "stderr",
     "output_type": "stream",
     "text": [
      "/opt/conda/lib/python3.7/site-packages/ipykernel_launcher.py:42: RuntimeWarning: invalid value encountered in long_scalars\n"
     ]
    },
    {
     "name": "stdout",
     "output_type": "stream",
     "text": [
      "=== rates === 0.00015000000000000001\n"
     ]
    },
    {
     "name": "stderr",
     "output_type": "stream",
     "text": [
      "/opt/conda/lib/python3.7/site-packages/ipykernel_launcher.py:42: RuntimeWarning: invalid value encountered in long_scalars\n"
     ]
    },
    {
     "name": "stdout",
     "output_type": "stream",
     "text": [
      "=== rates === 0.00015999999999999999\n"
     ]
    },
    {
     "name": "stderr",
     "output_type": "stream",
     "text": [
      "/opt/conda/lib/python3.7/site-packages/ipykernel_launcher.py:42: RuntimeWarning: invalid value encountered in long_scalars\n"
     ]
    },
    {
     "name": "stdout",
     "output_type": "stream",
     "text": [
      "=== rates === 0.00017\n"
     ]
    },
    {
     "name": "stderr",
     "output_type": "stream",
     "text": [
      "/opt/conda/lib/python3.7/site-packages/ipykernel_launcher.py:42: RuntimeWarning: invalid value encountered in long_scalars\n"
     ]
    },
    {
     "name": "stdout",
     "output_type": "stream",
     "text": [
      "=== rates === 0.00017999999999999998\n"
     ]
    },
    {
     "name": "stderr",
     "output_type": "stream",
     "text": [
      "/opt/conda/lib/python3.7/site-packages/ipykernel_launcher.py:42: RuntimeWarning: invalid value encountered in long_scalars\n"
     ]
    },
    {
     "name": "stdout",
     "output_type": "stream",
     "text": [
      "=== rates === 0.00019\n"
     ]
    },
    {
     "name": "stderr",
     "output_type": "stream",
     "text": [
      "/opt/conda/lib/python3.7/site-packages/ipykernel_launcher.py:42: RuntimeWarning: invalid value encountered in long_scalars\n"
     ]
    },
    {
     "name": "stdout",
     "output_type": "stream",
     "text": [
      "=== rates === 0.00019999999999999998\n"
     ]
    },
    {
     "name": "stderr",
     "output_type": "stream",
     "text": [
      "/opt/conda/lib/python3.7/site-packages/ipykernel_launcher.py:42: RuntimeWarning: invalid value encountered in long_scalars\n"
     ]
    },
    {
     "name": "stdout",
     "output_type": "stream",
     "text": [
      "=== rates === 0.00021\n"
     ]
    },
    {
     "name": "stderr",
     "output_type": "stream",
     "text": [
      "/opt/conda/lib/python3.7/site-packages/ipykernel_launcher.py:42: RuntimeWarning: invalid value encountered in long_scalars\n"
     ]
    },
    {
     "name": "stdout",
     "output_type": "stream",
     "text": [
      "=== rates === 0.00021999999999999998\n"
     ]
    },
    {
     "name": "stderr",
     "output_type": "stream",
     "text": [
      "/opt/conda/lib/python3.7/site-packages/ipykernel_launcher.py:42: RuntimeWarning: invalid value encountered in long_scalars\n"
     ]
    },
    {
     "name": "stdout",
     "output_type": "stream",
     "text": [
      "=== rates === 0.00023\n"
     ]
    },
    {
     "name": "stderr",
     "output_type": "stream",
     "text": [
      "/opt/conda/lib/python3.7/site-packages/ipykernel_launcher.py:42: RuntimeWarning: invalid value encountered in long_scalars\n"
     ]
    },
    {
     "name": "stdout",
     "output_type": "stream",
     "text": [
      "=== rates === 0.00023999999999999998\n"
     ]
    },
    {
     "name": "stderr",
     "output_type": "stream",
     "text": [
      "/opt/conda/lib/python3.7/site-packages/ipykernel_launcher.py:42: RuntimeWarning: invalid value encountered in long_scalars\n"
     ]
    },
    {
     "name": "stdout",
     "output_type": "stream",
     "text": [
      "=== rates === 0.00025\n"
     ]
    },
    {
     "name": "stderr",
     "output_type": "stream",
     "text": [
      "/opt/conda/lib/python3.7/site-packages/ipykernel_launcher.py:42: RuntimeWarning: invalid value encountered in long_scalars\n"
     ]
    },
    {
     "name": "stdout",
     "output_type": "stream",
     "text": [
      "=== rates === 0.00026\n"
     ]
    },
    {
     "name": "stderr",
     "output_type": "stream",
     "text": [
      "/opt/conda/lib/python3.7/site-packages/ipykernel_launcher.py:42: RuntimeWarning: invalid value encountered in long_scalars\n"
     ]
    },
    {
     "name": "stdout",
     "output_type": "stream",
     "text": [
      "=== rates === 0.00027\n"
     ]
    },
    {
     "name": "stderr",
     "output_type": "stream",
     "text": [
      "/opt/conda/lib/python3.7/site-packages/ipykernel_launcher.py:42: RuntimeWarning: invalid value encountered in long_scalars\n"
     ]
    },
    {
     "name": "stdout",
     "output_type": "stream",
     "text": [
      "=== rates === 0.00028\n",
      "=== best recall === 0.7520661157024794\n",
      "=== rates === 0.00029\n",
      "=== best recall === 0.7560975609756098\n",
      "=== rates === 0.0003\n",
      "=== rates === 0.00031\n",
      "=== best recall === 0.7647058823529411\n",
      "=== rates === 0.00031999999999999997\n",
      "=== best recall === 0.7711864406779662\n",
      "=== rates === 0.00033\n",
      "=== best recall === 0.7982456140350878\n",
      "=== rates === 0.00033999999999999997\n",
      "=== best recall === 0.8053097345132744\n",
      "=== rates === 0.00035\n",
      "=== best recall === 0.8256880733944955\n",
      "=== rates === 0.00035999999999999997\n",
      "=== rates === 0.00036999999999999994\n",
      "=== best recall === 0.8431372549019608\n",
      "=== rates === 0.00037999999999999997\n",
      "=== best recall === 0.86\n",
      "=== rates === 0.00039\n",
      "=== rates === 0.00039999999999999996\n",
      "=== rates === 0.00040999999999999994\n",
      "=== rates === 0.00041999999999999996\n",
      "=== best recall === 0.8602150537634409\n",
      "=== rates === 0.00043\n",
      "=== rates === 0.00043999999999999996\n",
      "=== rates === 0.00044999999999999993\n",
      "=== rates === 0.00045999999999999996\n",
      "=== best recall === 0.8681318681318682\n",
      "=== rates === 0.00047\n",
      "=== rates === 0.00047999999999999996\n",
      "=== rates === 0.00049\n",
      "12/12 [==============================] - 0s 3ms/step - loss: 0.4375 - accuracy: 0.8067\n",
      "Accuracy: 80.6723\n",
      "Model: \"sequential_80\"\n",
      "_________________________________________________________________\n",
      "Layer (type)                 Output Shape              Param #   \n",
      "=================================================================\n",
      "flatten_80 (Flatten)         (None, 26)                0         \n",
      "_________________________________________________________________\n",
      "dense_448 (Dense)            (None, 32)                864       \n",
      "_________________________________________________________________\n",
      "dense_449 (Dense)            (None, 2)                 66        \n",
      "=================================================================\n",
      "Total params: 930\n",
      "Trainable params: 930\n",
      "Non-trainable params: 0\n",
      "_________________________________________________________________\n",
      "None\n",
      "=== rates === 0.0001\n",
      "=== best recall === 0.7058823529411765\n",
      "=== rates === 0.00011\n",
      "=== best recall === 1.0\n",
      "=== rates === 0.00012\n",
      "=== rates === 0.00013000000000000002\n"
     ]
    },
    {
     "name": "stderr",
     "output_type": "stream",
     "text": [
      "/opt/conda/lib/python3.7/site-packages/ipykernel_launcher.py:42: RuntimeWarning: invalid value encountered in long_scalars\n"
     ]
    },
    {
     "name": "stdout",
     "output_type": "stream",
     "text": [
      "=== rates === 0.00014\n",
      "=== rates === 0.00015000000000000001\n",
      "=== rates === 0.00015999999999999999\n",
      "=== rates === 0.00017\n",
      "=== rates === 0.00017999999999999998\n",
      "=== rates === 0.00019\n",
      "=== rates === 0.00019999999999999998\n",
      "=== rates === 0.00021\n",
      "=== rates === 0.00021999999999999998\n",
      "=== rates === 0.00023\n",
      "=== rates === 0.00023999999999999998\n",
      "=== rates === 0.00025\n",
      "=== rates === 0.00026\n",
      "=== rates === 0.00027\n",
      "=== rates === 0.00028\n",
      "=== rates === 0.00029\n",
      "=== rates === 0.0003\n",
      "=== rates === 0.00031\n",
      "=== rates === 0.00031999999999999997\n",
      "=== rates === 0.00033\n",
      "=== rates === 0.00033999999999999997\n",
      "=== rates === 0.00035\n",
      "=== rates === 0.00035999999999999997\n",
      "=== rates === 0.00036999999999999994\n",
      "=== rates === 0.00037999999999999997\n",
      "=== rates === 0.00039\n",
      "=== rates === 0.00039999999999999996\n",
      "=== rates === 0.00040999999999999994\n",
      "=== rates === 0.00041999999999999996\n",
      "=== rates === 0.00043\n",
      "=== rates === 0.00043999999999999996\n",
      "=== rates === 0.00044999999999999993\n",
      "=== rates === 0.00045999999999999996\n",
      "=== rates === 0.00047\n",
      "=== rates === 0.00047999999999999996\n",
      "=== rates === 0.00049\n",
      "12/12 [==============================] - 0s 2ms/step - loss: 0.4229 - accuracy: 0.8039\n",
      "Accuracy: 80.3922\n",
      "Model: \"sequential_81\"\n",
      "_________________________________________________________________\n",
      "Layer (type)                 Output Shape              Param #   \n",
      "=================================================================\n",
      "flatten_81 (Flatten)         (None, 26)                0         \n",
      "_________________________________________________________________\n",
      "dense_450 (Dense)            (None, 49)                1323      \n",
      "_________________________________________________________________\n",
      "dense_451 (Dense)            (None, 49)                2450      \n",
      "_________________________________________________________________\n",
      "dense_452 (Dense)            (None, 49)                2450      \n",
      "_________________________________________________________________\n",
      "dense_453 (Dense)            (None, 49)                2450      \n",
      "_________________________________________________________________\n",
      "dense_454 (Dense)            (None, 49)                2450      \n",
      "_________________________________________________________________\n",
      "dense_455 (Dense)            (None, 49)                2450      \n",
      "_________________________________________________________________\n",
      "dense_456 (Dense)            (None, 49)                2450      \n",
      "_________________________________________________________________\n",
      "dense_457 (Dense)            (None, 2)                 100       \n",
      "=================================================================\n",
      "Total params: 16,123\n",
      "Trainable params: 16,123\n",
      "Non-trainable params: 0\n",
      "_________________________________________________________________\n",
      "None\n",
      "=== rates === 0.0001\n"
     ]
    },
    {
     "name": "stderr",
     "output_type": "stream",
     "text": [
      "/opt/conda/lib/python3.7/site-packages/ipykernel_launcher.py:42: RuntimeWarning: invalid value encountered in long_scalars\n"
     ]
    },
    {
     "name": "stdout",
     "output_type": "stream",
     "text": [
      "=== rates === 0.00011\n"
     ]
    },
    {
     "name": "stderr",
     "output_type": "stream",
     "text": [
      "/opt/conda/lib/python3.7/site-packages/ipykernel_launcher.py:42: RuntimeWarning: invalid value encountered in long_scalars\n"
     ]
    },
    {
     "name": "stdout",
     "output_type": "stream",
     "text": [
      "=== rates === 0.00012\n"
     ]
    },
    {
     "name": "stderr",
     "output_type": "stream",
     "text": [
      "/opt/conda/lib/python3.7/site-packages/ipykernel_launcher.py:42: RuntimeWarning: invalid value encountered in long_scalars\n"
     ]
    },
    {
     "name": "stdout",
     "output_type": "stream",
     "text": [
      "=== rates === 0.00013000000000000002\n"
     ]
    },
    {
     "name": "stderr",
     "output_type": "stream",
     "text": [
      "/opt/conda/lib/python3.7/site-packages/ipykernel_launcher.py:42: RuntimeWarning: invalid value encountered in long_scalars\n"
     ]
    },
    {
     "name": "stdout",
     "output_type": "stream",
     "text": [
      "=== rates === 0.00014\n"
     ]
    },
    {
     "name": "stderr",
     "output_type": "stream",
     "text": [
      "/opt/conda/lib/python3.7/site-packages/ipykernel_launcher.py:42: RuntimeWarning: invalid value encountered in long_scalars\n"
     ]
    },
    {
     "name": "stdout",
     "output_type": "stream",
     "text": [
      "=== rates === 0.00015000000000000001\n"
     ]
    },
    {
     "name": "stderr",
     "output_type": "stream",
     "text": [
      "/opt/conda/lib/python3.7/site-packages/ipykernel_launcher.py:42: RuntimeWarning: invalid value encountered in long_scalars\n"
     ]
    },
    {
     "name": "stdout",
     "output_type": "stream",
     "text": [
      "=== rates === 0.00015999999999999999\n"
     ]
    },
    {
     "name": "stderr",
     "output_type": "stream",
     "text": [
      "/opt/conda/lib/python3.7/site-packages/ipykernel_launcher.py:42: RuntimeWarning: invalid value encountered in long_scalars\n"
     ]
    },
    {
     "name": "stdout",
     "output_type": "stream",
     "text": [
      "=== rates === 0.00017\n"
     ]
    },
    {
     "name": "stderr",
     "output_type": "stream",
     "text": [
      "/opt/conda/lib/python3.7/site-packages/ipykernel_launcher.py:42: RuntimeWarning: invalid value encountered in long_scalars\n"
     ]
    },
    {
     "name": "stdout",
     "output_type": "stream",
     "text": [
      "=== rates === 0.00017999999999999998\n"
     ]
    },
    {
     "name": "stderr",
     "output_type": "stream",
     "text": [
      "/opt/conda/lib/python3.7/site-packages/ipykernel_launcher.py:42: RuntimeWarning: invalid value encountered in long_scalars\n"
     ]
    },
    {
     "name": "stdout",
     "output_type": "stream",
     "text": [
      "=== rates === 0.00019\n"
     ]
    },
    {
     "name": "stderr",
     "output_type": "stream",
     "text": [
      "/opt/conda/lib/python3.7/site-packages/ipykernel_launcher.py:42: RuntimeWarning: invalid value encountered in long_scalars\n"
     ]
    },
    {
     "name": "stdout",
     "output_type": "stream",
     "text": [
      "=== rates === 0.00019999999999999998\n"
     ]
    },
    {
     "name": "stderr",
     "output_type": "stream",
     "text": [
      "/opt/conda/lib/python3.7/site-packages/ipykernel_launcher.py:42: RuntimeWarning: invalid value encountered in long_scalars\n"
     ]
    },
    {
     "name": "stdout",
     "output_type": "stream",
     "text": [
      "=== rates === 0.00021\n"
     ]
    },
    {
     "name": "stderr",
     "output_type": "stream",
     "text": [
      "/opt/conda/lib/python3.7/site-packages/ipykernel_launcher.py:42: RuntimeWarning: invalid value encountered in long_scalars\n"
     ]
    },
    {
     "name": "stdout",
     "output_type": "stream",
     "text": [
      "=== rates === 0.00021999999999999998\n"
     ]
    },
    {
     "name": "stderr",
     "output_type": "stream",
     "text": [
      "/opt/conda/lib/python3.7/site-packages/ipykernel_launcher.py:42: RuntimeWarning: invalid value encountered in long_scalars\n"
     ]
    },
    {
     "name": "stdout",
     "output_type": "stream",
     "text": [
      "=== rates === 0.00023\n",
      "=== best recall === 0.8173076923076923\n",
      "=== rates === 0.00023999999999999998\n",
      "=== rates === 0.00025\n",
      "=== rates === 0.00026\n",
      "=== rates === 0.00027\n",
      "=== rates === 0.00028\n",
      "=== rates === 0.00029\n",
      "=== rates === 0.0003\n",
      "=== best recall === 0.8317757009345794\n",
      "=== rates === 0.00031\n",
      "=== best recall === 0.8365384615384616\n",
      "=== rates === 0.00031999999999999997\n",
      "=== best recall === 0.8431372549019608\n",
      "=== rates === 0.00033\n",
      "=== best recall === 0.86\n",
      "=== rates === 0.00033999999999999997\n",
      "=== rates === 0.00035\n",
      "=== rates === 0.00035999999999999997\n",
      "=== rates === 0.00036999999999999994\n",
      "=== rates === 0.00037999999999999997\n",
      "=== rates === 0.00039\n",
      "=== best recall === 0.8645833333333334\n",
      "=== rates === 0.00039999999999999996\n",
      "=== best recall === 0.8666666666666667\n",
      "=== rates === 0.00040999999999999994\n",
      "=== rates === 0.00041999999999999996\n",
      "=== rates === 0.00043\n",
      "=== best recall === 0.8736842105263158\n",
      "=== rates === 0.00043999999999999996\n",
      "=== rates === 0.00044999999999999993\n",
      "=== rates === 0.00045999999999999996\n",
      "=== rates === 0.00047\n",
      "=== rates === 0.00047999999999999996\n",
      "=== best recall === 0.8791208791208791\n",
      "=== rates === 0.00049\n",
      "12/12 [==============================] - 0s 4ms/step - loss: 0.4512 - accuracy: 0.8151\n",
      "Accuracy: 81.5126\n",
      "Model: \"sequential_82\"\n",
      "_________________________________________________________________\n",
      "Layer (type)                 Output Shape              Param #   \n",
      "=================================================================\n",
      "flatten_82 (Flatten)         (None, 26)                0         \n",
      "_________________________________________________________________\n",
      "dense_458 (Dense)            (None, 35)                945       \n",
      "_________________________________________________________________\n",
      "dense_459 (Dense)            (None, 35)                1260      \n",
      "_________________________________________________________________\n",
      "dense_460 (Dense)            (None, 35)                1260      \n",
      "_________________________________________________________________\n",
      "dense_461 (Dense)            (None, 35)                1260      \n",
      "_________________________________________________________________\n",
      "dense_462 (Dense)            (None, 35)                1260      \n",
      "_________________________________________________________________\n",
      "dense_463 (Dense)            (None, 35)                1260      \n",
      "_________________________________________________________________\n",
      "dense_464 (Dense)            (None, 2)                 72        \n",
      "=================================================================\n",
      "Total params: 7,317\n",
      "Trainable params: 7,317\n",
      "Non-trainable params: 0\n",
      "_________________________________________________________________\n",
      "None\n",
      "=== rates === 0.0001\n"
     ]
    },
    {
     "name": "stderr",
     "output_type": "stream",
     "text": [
      "/opt/conda/lib/python3.7/site-packages/ipykernel_launcher.py:42: RuntimeWarning: invalid value encountered in long_scalars\n"
     ]
    },
    {
     "name": "stdout",
     "output_type": "stream",
     "text": [
      "=== rates === 0.00011\n"
     ]
    },
    {
     "name": "stderr",
     "output_type": "stream",
     "text": [
      "/opt/conda/lib/python3.7/site-packages/ipykernel_launcher.py:42: RuntimeWarning: invalid value encountered in long_scalars\n"
     ]
    },
    {
     "name": "stdout",
     "output_type": "stream",
     "text": [
      "=== rates === 0.00012\n"
     ]
    },
    {
     "name": "stderr",
     "output_type": "stream",
     "text": [
      "/opt/conda/lib/python3.7/site-packages/ipykernel_launcher.py:42: RuntimeWarning: invalid value encountered in long_scalars\n"
     ]
    },
    {
     "name": "stdout",
     "output_type": "stream",
     "text": [
      "=== rates === 0.00013000000000000002\n"
     ]
    },
    {
     "name": "stderr",
     "output_type": "stream",
     "text": [
      "/opt/conda/lib/python3.7/site-packages/ipykernel_launcher.py:42: RuntimeWarning: invalid value encountered in long_scalars\n"
     ]
    },
    {
     "name": "stdout",
     "output_type": "stream",
     "text": [
      "=== rates === 0.00014\n"
     ]
    },
    {
     "name": "stderr",
     "output_type": "stream",
     "text": [
      "/opt/conda/lib/python3.7/site-packages/ipykernel_launcher.py:42: RuntimeWarning: invalid value encountered in long_scalars\n"
     ]
    },
    {
     "name": "stdout",
     "output_type": "stream",
     "text": [
      "=== rates === 0.00015000000000000001\n"
     ]
    },
    {
     "name": "stderr",
     "output_type": "stream",
     "text": [
      "/opt/conda/lib/python3.7/site-packages/ipykernel_launcher.py:42: RuntimeWarning: invalid value encountered in long_scalars\n"
     ]
    },
    {
     "name": "stdout",
     "output_type": "stream",
     "text": [
      "=== rates === 0.00015999999999999999\n"
     ]
    },
    {
     "name": "stderr",
     "output_type": "stream",
     "text": [
      "/opt/conda/lib/python3.7/site-packages/ipykernel_launcher.py:42: RuntimeWarning: invalid value encountered in long_scalars\n"
     ]
    },
    {
     "name": "stdout",
     "output_type": "stream",
     "text": [
      "=== rates === 0.00017\n"
     ]
    },
    {
     "name": "stderr",
     "output_type": "stream",
     "text": [
      "/opt/conda/lib/python3.7/site-packages/ipykernel_launcher.py:42: RuntimeWarning: invalid value encountered in long_scalars\n"
     ]
    },
    {
     "name": "stdout",
     "output_type": "stream",
     "text": [
      "=== rates === 0.00017999999999999998\n"
     ]
    },
    {
     "name": "stderr",
     "output_type": "stream",
     "text": [
      "/opt/conda/lib/python3.7/site-packages/ipykernel_launcher.py:42: RuntimeWarning: invalid value encountered in long_scalars\n"
     ]
    },
    {
     "name": "stdout",
     "output_type": "stream",
     "text": [
      "=== rates === 0.00019\n"
     ]
    },
    {
     "name": "stderr",
     "output_type": "stream",
     "text": [
      "/opt/conda/lib/python3.7/site-packages/ipykernel_launcher.py:42: RuntimeWarning: invalid value encountered in long_scalars\n"
     ]
    },
    {
     "name": "stdout",
     "output_type": "stream",
     "text": [
      "=== rates === 0.00019999999999999998\n"
     ]
    },
    {
     "name": "stderr",
     "output_type": "stream",
     "text": [
      "/opt/conda/lib/python3.7/site-packages/ipykernel_launcher.py:42: RuntimeWarning: invalid value encountered in long_scalars\n"
     ]
    },
    {
     "name": "stdout",
     "output_type": "stream",
     "text": [
      "=== rates === 0.00021\n"
     ]
    },
    {
     "name": "stderr",
     "output_type": "stream",
     "text": [
      "/opt/conda/lib/python3.7/site-packages/ipykernel_launcher.py:42: RuntimeWarning: invalid value encountered in long_scalars\n"
     ]
    },
    {
     "name": "stdout",
     "output_type": "stream",
     "text": [
      "=== rates === 0.00021999999999999998\n"
     ]
    },
    {
     "name": "stderr",
     "output_type": "stream",
     "text": [
      "/opt/conda/lib/python3.7/site-packages/ipykernel_launcher.py:42: RuntimeWarning: invalid value encountered in long_scalars\n"
     ]
    },
    {
     "name": "stdout",
     "output_type": "stream",
     "text": [
      "=== rates === 0.00023\n"
     ]
    },
    {
     "name": "stderr",
     "output_type": "stream",
     "text": [
      "/opt/conda/lib/python3.7/site-packages/ipykernel_launcher.py:42: RuntimeWarning: invalid value encountered in long_scalars\n"
     ]
    },
    {
     "name": "stdout",
     "output_type": "stream",
     "text": [
      "=== rates === 0.00023999999999999998\n",
      "=== best recall === 0.8387096774193549\n",
      "=== rates === 0.00025\n",
      "=== rates === 0.00026\n",
      "=== rates === 0.00027\n",
      "=== rates === 0.00028\n",
      "=== rates === 0.00029\n",
      "=== rates === 0.0003\n",
      "=== rates === 0.00031\n",
      "=== rates === 0.00031999999999999997\n",
      "=== best recall === 0.87\n",
      "=== rates === 0.00033\n",
      "=== rates === 0.00033999999999999997\n",
      "=== rates === 0.00035\n",
      "=== rates === 0.00035999999999999997\n",
      "=== rates === 0.00036999999999999994\n",
      "=== rates === 0.00037999999999999997\n",
      "=== rates === 0.00039\n",
      "=== rates === 0.00039999999999999996\n",
      "=== rates === 0.00040999999999999994\n",
      "=== rates === 0.00041999999999999996\n",
      "=== rates === 0.00043\n",
      "=== rates === 0.00043999999999999996\n",
      "=== rates === 0.00044999999999999993\n",
      "=== best recall === 0.8913043478260869\n",
      "=== rates === 0.00045999999999999996\n",
      "=== rates === 0.00047\n",
      "=== rates === 0.00047999999999999996\n",
      "=== rates === 0.00049\n",
      "12/12 [==============================] - 0s 3ms/step - loss: 0.4499 - accuracy: 0.8011\n",
      "Accuracy: 80.1120\n",
      "Model: \"sequential_83\"\n",
      "_________________________________________________________________\n",
      "Layer (type)                 Output Shape              Param #   \n",
      "=================================================================\n",
      "flatten_83 (Flatten)         (None, 26)                0         \n",
      "_________________________________________________________________\n",
      "dense_465 (Dense)            (None, 50)                1350      \n",
      "_________________________________________________________________\n",
      "dense_466 (Dense)            (None, 2)                 102       \n",
      "=================================================================\n",
      "Total params: 1,452\n",
      "Trainable params: 1,452\n",
      "Non-trainable params: 0\n",
      "_________________________________________________________________\n",
      "None\n",
      "=== rates === 0.0001\n"
     ]
    },
    {
     "name": "stderr",
     "output_type": "stream",
     "text": [
      "/opt/conda/lib/python3.7/site-packages/ipykernel_launcher.py:42: RuntimeWarning: invalid value encountered in long_scalars\n"
     ]
    },
    {
     "name": "stdout",
     "output_type": "stream",
     "text": [
      "=== rates === 0.00011\n"
     ]
    },
    {
     "name": "stderr",
     "output_type": "stream",
     "text": [
      "/opt/conda/lib/python3.7/site-packages/ipykernel_launcher.py:42: RuntimeWarning: invalid value encountered in long_scalars\n"
     ]
    },
    {
     "name": "stdout",
     "output_type": "stream",
     "text": [
      "=== rates === 0.00012\n"
     ]
    },
    {
     "name": "stderr",
     "output_type": "stream",
     "text": [
      "/opt/conda/lib/python3.7/site-packages/ipykernel_launcher.py:42: RuntimeWarning: invalid value encountered in long_scalars\n"
     ]
    },
    {
     "name": "stdout",
     "output_type": "stream",
     "text": [
      "=== rates === 0.00013000000000000002\n"
     ]
    },
    {
     "name": "stderr",
     "output_type": "stream",
     "text": [
      "/opt/conda/lib/python3.7/site-packages/ipykernel_launcher.py:42: RuntimeWarning: invalid value encountered in long_scalars\n"
     ]
    },
    {
     "name": "stdout",
     "output_type": "stream",
     "text": [
      "=== rates === 0.00014\n",
      "=== best recall === 1.0\n",
      "=== rates === 0.00015000000000000001\n",
      "=== rates === 0.00015999999999999999\n",
      "=== rates === 0.00017\n",
      "=== rates === 0.00017999999999999998\n",
      "=== rates === 0.00019\n",
      "=== rates === 0.00019999999999999998\n",
      "=== rates === 0.00021\n",
      "=== rates === 0.00021999999999999998\n",
      "=== rates === 0.00023\n",
      "=== rates === 0.00023999999999999998\n",
      "=== rates === 0.00025\n",
      "=== rates === 0.00026\n",
      "=== rates === 0.00027\n",
      "=== rates === 0.00028\n",
      "=== rates === 0.00029\n",
      "=== rates === 0.0003\n",
      "=== rates === 0.00031\n",
      "=== rates === 0.00031999999999999997\n",
      "=== rates === 0.00033\n",
      "=== rates === 0.00033999999999999997\n",
      "=== rates === 0.00035\n",
      "=== rates === 0.00035999999999999997\n",
      "=== rates === 0.00036999999999999994\n",
      "=== rates === 0.00037999999999999997\n",
      "=== rates === 0.00039\n",
      "=== rates === 0.00039999999999999996\n",
      "=== rates === 0.00040999999999999994\n",
      "=== rates === 0.00041999999999999996\n",
      "=== rates === 0.00043\n",
      "=== rates === 0.00043999999999999996\n",
      "=== rates === 0.00044999999999999993\n",
      "=== rates === 0.00045999999999999996\n",
      "=== rates === 0.00047\n",
      "=== rates === 0.00047999999999999996\n",
      "=== rates === 0.00049\n",
      "12/12 [==============================] - 0s 2ms/step - loss: 0.4283 - accuracy: 0.8151\n",
      "Accuracy: 81.5126\n",
      "Model: \"sequential_84\"\n",
      "_________________________________________________________________\n",
      "Layer (type)                 Output Shape              Param #   \n",
      "=================================================================\n",
      "flatten_84 (Flatten)         (None, 26)                0         \n",
      "_________________________________________________________________\n",
      "dense_467 (Dense)            (None, 36)                972       \n",
      "_________________________________________________________________\n",
      "dense_468 (Dense)            (None, 36)                1332      \n",
      "_________________________________________________________________\n",
      "dense_469 (Dense)            (None, 36)                1332      \n",
      "_________________________________________________________________\n",
      "dense_470 (Dense)            (None, 36)                1332      \n",
      "_________________________________________________________________\n",
      "dense_471 (Dense)            (None, 2)                 74        \n",
      "=================================================================\n",
      "Total params: 5,042\n",
      "Trainable params: 5,042\n",
      "Non-trainable params: 0\n",
      "_________________________________________________________________\n",
      "None\n",
      "=== rates === 0.0001\n"
     ]
    },
    {
     "name": "stderr",
     "output_type": "stream",
     "text": [
      "/opt/conda/lib/python3.7/site-packages/ipykernel_launcher.py:42: RuntimeWarning: invalid value encountered in long_scalars\n"
     ]
    },
    {
     "name": "stdout",
     "output_type": "stream",
     "text": [
      "=== rates === 0.00011\n"
     ]
    },
    {
     "name": "stderr",
     "output_type": "stream",
     "text": [
      "/opt/conda/lib/python3.7/site-packages/ipykernel_launcher.py:42: RuntimeWarning: invalid value encountered in long_scalars\n"
     ]
    },
    {
     "name": "stdout",
     "output_type": "stream",
     "text": [
      "=== rates === 0.00012\n"
     ]
    },
    {
     "name": "stderr",
     "output_type": "stream",
     "text": [
      "/opt/conda/lib/python3.7/site-packages/ipykernel_launcher.py:42: RuntimeWarning: invalid value encountered in long_scalars\n"
     ]
    },
    {
     "name": "stdout",
     "output_type": "stream",
     "text": [
      "=== rates === 0.00013000000000000002\n"
     ]
    },
    {
     "name": "stderr",
     "output_type": "stream",
     "text": [
      "/opt/conda/lib/python3.7/site-packages/ipykernel_launcher.py:42: RuntimeWarning: invalid value encountered in long_scalars\n"
     ]
    },
    {
     "name": "stdout",
     "output_type": "stream",
     "text": [
      "=== rates === 0.00014\n"
     ]
    },
    {
     "name": "stderr",
     "output_type": "stream",
     "text": [
      "/opt/conda/lib/python3.7/site-packages/ipykernel_launcher.py:42: RuntimeWarning: invalid value encountered in long_scalars\n"
     ]
    },
    {
     "name": "stdout",
     "output_type": "stream",
     "text": [
      "=== rates === 0.00015000000000000001\n"
     ]
    },
    {
     "name": "stderr",
     "output_type": "stream",
     "text": [
      "/opt/conda/lib/python3.7/site-packages/ipykernel_launcher.py:42: RuntimeWarning: invalid value encountered in long_scalars\n"
     ]
    },
    {
     "name": "stdout",
     "output_type": "stream",
     "text": [
      "=== rates === 0.00015999999999999999\n"
     ]
    },
    {
     "name": "stderr",
     "output_type": "stream",
     "text": [
      "/opt/conda/lib/python3.7/site-packages/ipykernel_launcher.py:42: RuntimeWarning: invalid value encountered in long_scalars\n"
     ]
    },
    {
     "name": "stdout",
     "output_type": "stream",
     "text": [
      "=== rates === 0.00017\n"
     ]
    },
    {
     "name": "stderr",
     "output_type": "stream",
     "text": [
      "/opt/conda/lib/python3.7/site-packages/ipykernel_launcher.py:42: RuntimeWarning: invalid value encountered in long_scalars\n"
     ]
    },
    {
     "name": "stdout",
     "output_type": "stream",
     "text": [
      "=== rates === 0.00017999999999999998\n"
     ]
    },
    {
     "name": "stderr",
     "output_type": "stream",
     "text": [
      "/opt/conda/lib/python3.7/site-packages/ipykernel_launcher.py:42: RuntimeWarning: invalid value encountered in long_scalars\n"
     ]
    },
    {
     "name": "stdout",
     "output_type": "stream",
     "text": [
      "=== rates === 0.00019\n"
     ]
    },
    {
     "name": "stderr",
     "output_type": "stream",
     "text": [
      "/opt/conda/lib/python3.7/site-packages/ipykernel_launcher.py:42: RuntimeWarning: invalid value encountered in long_scalars\n"
     ]
    },
    {
     "name": "stdout",
     "output_type": "stream",
     "text": [
      "=== rates === 0.00019999999999999998\n",
      "=== best recall === 0.9411764705882353\n",
      "=== rates === 0.00021\n",
      "=== rates === 0.00021999999999999998\n",
      "=== rates === 0.00023\n",
      "=== rates === 0.00023999999999999998\n",
      "=== rates === 0.00025\n",
      "=== rates === 0.00026\n",
      "=== rates === 0.00027\n",
      "=== rates === 0.00028\n",
      "=== rates === 0.00029\n",
      "=== rates === 0.0003\n",
      "=== rates === 0.00031\n",
      "=== rates === 0.00031999999999999997\n",
      "=== rates === 0.00033\n",
      "=== rates === 0.00033999999999999997\n",
      "=== rates === 0.00035\n",
      "=== rates === 0.00035999999999999997\n",
      "=== rates === 0.00036999999999999994\n",
      "=== rates === 0.00037999999999999997\n",
      "=== rates === 0.00039\n",
      "=== rates === 0.00039999999999999996\n",
      "=== rates === 0.00040999999999999994\n",
      "=== rates === 0.00041999999999999996\n",
      "=== rates === 0.00043\n",
      "=== rates === 0.00043999999999999996\n",
      "=== rates === 0.00044999999999999993\n",
      "=== rates === 0.00045999999999999996\n",
      "=== rates === 0.00047\n",
      "=== rates === 0.00047999999999999996\n",
      "=== rates === 0.00049\n",
      "12/12 [==============================] - 0s 3ms/step - loss: 0.4304 - accuracy: 0.8151\n",
      "Accuracy: 81.5126\n",
      "Model: \"sequential_85\"\n",
      "_________________________________________________________________\n",
      "Layer (type)                 Output Shape              Param #   \n",
      "=================================================================\n",
      "flatten_85 (Flatten)         (None, 26)                0         \n",
      "_________________________________________________________________\n",
      "dense_472 (Dense)            (None, 26)                702       \n",
      "_________________________________________________________________\n",
      "dense_473 (Dense)            (None, 26)                702       \n",
      "_________________________________________________________________\n",
      "dense_474 (Dense)            (None, 26)                702       \n",
      "_________________________________________________________________\n",
      "dense_475 (Dense)            (None, 26)                702       \n",
      "_________________________________________________________________\n",
      "dense_476 (Dense)            (None, 26)                702       \n",
      "_________________________________________________________________\n",
      "dense_477 (Dense)            (None, 26)                702       \n",
      "_________________________________________________________________\n",
      "dense_478 (Dense)            (None, 26)                702       \n",
      "_________________________________________________________________\n",
      "dense_479 (Dense)            (None, 2)                 54        \n",
      "=================================================================\n",
      "Total params: 4,968\n",
      "Trainable params: 4,968\n",
      "Non-trainable params: 0\n",
      "_________________________________________________________________\n",
      "None\n",
      "=== rates === 0.0001\n"
     ]
    },
    {
     "name": "stderr",
     "output_type": "stream",
     "text": [
      "/opt/conda/lib/python3.7/site-packages/ipykernel_launcher.py:42: RuntimeWarning: invalid value encountered in long_scalars\n"
     ]
    },
    {
     "name": "stdout",
     "output_type": "stream",
     "text": [
      "=== rates === 0.00011\n"
     ]
    },
    {
     "name": "stderr",
     "output_type": "stream",
     "text": [
      "/opt/conda/lib/python3.7/site-packages/ipykernel_launcher.py:42: RuntimeWarning: invalid value encountered in long_scalars\n"
     ]
    },
    {
     "name": "stdout",
     "output_type": "stream",
     "text": [
      "=== rates === 0.00012\n"
     ]
    },
    {
     "name": "stderr",
     "output_type": "stream",
     "text": [
      "/opt/conda/lib/python3.7/site-packages/ipykernel_launcher.py:42: RuntimeWarning: invalid value encountered in long_scalars\n"
     ]
    },
    {
     "name": "stdout",
     "output_type": "stream",
     "text": [
      "=== rates === 0.00013000000000000002\n"
     ]
    },
    {
     "name": "stderr",
     "output_type": "stream",
     "text": [
      "/opt/conda/lib/python3.7/site-packages/ipykernel_launcher.py:42: RuntimeWarning: invalid value encountered in long_scalars\n"
     ]
    },
    {
     "name": "stdout",
     "output_type": "stream",
     "text": [
      "=== rates === 0.00014\n"
     ]
    },
    {
     "name": "stderr",
     "output_type": "stream",
     "text": [
      "/opt/conda/lib/python3.7/site-packages/ipykernel_launcher.py:42: RuntimeWarning: invalid value encountered in long_scalars\n"
     ]
    },
    {
     "name": "stdout",
     "output_type": "stream",
     "text": [
      "=== rates === 0.00015000000000000001\n"
     ]
    },
    {
     "name": "stderr",
     "output_type": "stream",
     "text": [
      "/opt/conda/lib/python3.7/site-packages/ipykernel_launcher.py:42: RuntimeWarning: invalid value encountered in long_scalars\n"
     ]
    },
    {
     "name": "stdout",
     "output_type": "stream",
     "text": [
      "=== rates === 0.00015999999999999999\n"
     ]
    },
    {
     "name": "stderr",
     "output_type": "stream",
     "text": [
      "/opt/conda/lib/python3.7/site-packages/ipykernel_launcher.py:42: RuntimeWarning: invalid value encountered in long_scalars\n"
     ]
    },
    {
     "name": "stdout",
     "output_type": "stream",
     "text": [
      "=== rates === 0.00017\n"
     ]
    },
    {
     "name": "stderr",
     "output_type": "stream",
     "text": [
      "/opt/conda/lib/python3.7/site-packages/ipykernel_launcher.py:42: RuntimeWarning: invalid value encountered in long_scalars\n"
     ]
    },
    {
     "name": "stdout",
     "output_type": "stream",
     "text": [
      "=== rates === 0.00017999999999999998\n"
     ]
    },
    {
     "name": "stderr",
     "output_type": "stream",
     "text": [
      "/opt/conda/lib/python3.7/site-packages/ipykernel_launcher.py:42: RuntimeWarning: invalid value encountered in long_scalars\n"
     ]
    },
    {
     "name": "stdout",
     "output_type": "stream",
     "text": [
      "=== rates === 0.00019\n"
     ]
    },
    {
     "name": "stderr",
     "output_type": "stream",
     "text": [
      "/opt/conda/lib/python3.7/site-packages/ipykernel_launcher.py:42: RuntimeWarning: invalid value encountered in long_scalars\n"
     ]
    },
    {
     "name": "stdout",
     "output_type": "stream",
     "text": [
      "=== rates === 0.00019999999999999998\n"
     ]
    },
    {
     "name": "stderr",
     "output_type": "stream",
     "text": [
      "/opt/conda/lib/python3.7/site-packages/ipykernel_launcher.py:42: RuntimeWarning: invalid value encountered in long_scalars\n"
     ]
    },
    {
     "name": "stdout",
     "output_type": "stream",
     "text": [
      "=== rates === 0.00021\n"
     ]
    },
    {
     "name": "stderr",
     "output_type": "stream",
     "text": [
      "/opt/conda/lib/python3.7/site-packages/ipykernel_launcher.py:42: RuntimeWarning: invalid value encountered in long_scalars\n"
     ]
    },
    {
     "name": "stdout",
     "output_type": "stream",
     "text": [
      "=== rates === 0.00021999999999999998\n"
     ]
    },
    {
     "name": "stderr",
     "output_type": "stream",
     "text": [
      "/opt/conda/lib/python3.7/site-packages/ipykernel_launcher.py:42: RuntimeWarning: invalid value encountered in long_scalars\n"
     ]
    },
    {
     "name": "stdout",
     "output_type": "stream",
     "text": [
      "=== rates === 0.00023\n"
     ]
    },
    {
     "name": "stderr",
     "output_type": "stream",
     "text": [
      "/opt/conda/lib/python3.7/site-packages/ipykernel_launcher.py:42: RuntimeWarning: invalid value encountered in long_scalars\n"
     ]
    },
    {
     "name": "stdout",
     "output_type": "stream",
     "text": [
      "=== rates === 0.00023999999999999998\n"
     ]
    },
    {
     "name": "stderr",
     "output_type": "stream",
     "text": [
      "/opt/conda/lib/python3.7/site-packages/ipykernel_launcher.py:42: RuntimeWarning: invalid value encountered in long_scalars\n"
     ]
    },
    {
     "name": "stdout",
     "output_type": "stream",
     "text": [
      "=== rates === 0.00025\n"
     ]
    },
    {
     "name": "stderr",
     "output_type": "stream",
     "text": [
      "/opt/conda/lib/python3.7/site-packages/ipykernel_launcher.py:42: RuntimeWarning: invalid value encountered in long_scalars\n"
     ]
    },
    {
     "name": "stdout",
     "output_type": "stream",
     "text": [
      "=== rates === 0.00026\n"
     ]
    },
    {
     "name": "stderr",
     "output_type": "stream",
     "text": [
      "/opt/conda/lib/python3.7/site-packages/ipykernel_launcher.py:42: RuntimeWarning: invalid value encountered in long_scalars\n"
     ]
    },
    {
     "name": "stdout",
     "output_type": "stream",
     "text": [
      "=== rates === 0.00027\n"
     ]
    },
    {
     "name": "stderr",
     "output_type": "stream",
     "text": [
      "/opt/conda/lib/python3.7/site-packages/ipykernel_launcher.py:42: RuntimeWarning: invalid value encountered in long_scalars\n"
     ]
    },
    {
     "name": "stdout",
     "output_type": "stream",
     "text": [
      "=== rates === 0.00028\n"
     ]
    },
    {
     "name": "stderr",
     "output_type": "stream",
     "text": [
      "/opt/conda/lib/python3.7/site-packages/ipykernel_launcher.py:42: RuntimeWarning: invalid value encountered in long_scalars\n"
     ]
    },
    {
     "name": "stdout",
     "output_type": "stream",
     "text": [
      "=== rates === 0.00029\n"
     ]
    },
    {
     "name": "stderr",
     "output_type": "stream",
     "text": [
      "/opt/conda/lib/python3.7/site-packages/ipykernel_launcher.py:42: RuntimeWarning: invalid value encountered in long_scalars\n"
     ]
    },
    {
     "name": "stdout",
     "output_type": "stream",
     "text": [
      "=== rates === 0.0003\n",
      "=== best recall === 0.7540983606557377\n",
      "=== rates === 0.00031\n",
      "=== best recall === 0.7559055118110236\n",
      "=== rates === 0.00031999999999999997\n",
      "=== rates === 0.00033\n",
      "=== rates === 0.00033999999999999997\n",
      "=== best recall === 0.7627118644067796\n",
      "=== rates === 0.00035\n",
      "=== best recall === 0.782608695652174\n",
      "=== rates === 0.00035999999999999997\n",
      "=== best recall === 0.8181818181818182\n",
      "=== rates === 0.00036999999999999994\n",
      "=== best recall === 0.8240740740740741\n",
      "=== rates === 0.00037999999999999997\n",
      "=== best recall === 0.8365384615384616\n",
      "=== rates === 0.00039\n",
      "=== best recall === 0.8514851485148515\n",
      "=== rates === 0.00039999999999999996\n",
      "=== rates === 0.00040999999999999994\n",
      "=== best recall === 0.86\n",
      "=== rates === 0.00041999999999999996\n",
      "=== rates === 0.00043\n",
      "=== rates === 0.00043999999999999996\n",
      "=== rates === 0.00044999999999999993\n",
      "=== rates === 0.00045999999999999996\n",
      "=== rates === 0.00047\n",
      "=== rates === 0.00047999999999999996\n",
      "=== rates === 0.00049\n",
      "12/12 [==============================] - 0s 4ms/step - loss: 0.4483 - accuracy: 0.8067\n",
      "Accuracy: 80.6723\n",
      "Model: \"sequential_86\"\n",
      "_________________________________________________________________\n",
      "Layer (type)                 Output Shape              Param #   \n",
      "=================================================================\n",
      "flatten_86 (Flatten)         (None, 26)                0         \n",
      "_________________________________________________________________\n",
      "dense_480 (Dense)            (None, 44)                1188      \n",
      "_________________________________________________________________\n",
      "dense_481 (Dense)            (None, 44)                1980      \n",
      "_________________________________________________________________\n",
      "dense_482 (Dense)            (None, 44)                1980      \n",
      "_________________________________________________________________\n",
      "dense_483 (Dense)            (None, 44)                1980      \n",
      "_________________________________________________________________\n",
      "dense_484 (Dense)            (None, 2)                 90        \n",
      "=================================================================\n",
      "Total params: 7,218\n",
      "Trainable params: 7,218\n",
      "Non-trainable params: 0\n",
      "_________________________________________________________________\n",
      "None\n",
      "=== rates === 0.0001\n"
     ]
    },
    {
     "name": "stderr",
     "output_type": "stream",
     "text": [
      "/opt/conda/lib/python3.7/site-packages/ipykernel_launcher.py:42: RuntimeWarning: invalid value encountered in long_scalars\n"
     ]
    },
    {
     "name": "stdout",
     "output_type": "stream",
     "text": [
      "=== rates === 0.00011\n"
     ]
    },
    {
     "name": "stderr",
     "output_type": "stream",
     "text": [
      "/opt/conda/lib/python3.7/site-packages/ipykernel_launcher.py:42: RuntimeWarning: invalid value encountered in long_scalars\n"
     ]
    },
    {
     "name": "stdout",
     "output_type": "stream",
     "text": [
      "=== rates === 0.00012\n"
     ]
    },
    {
     "name": "stderr",
     "output_type": "stream",
     "text": [
      "/opt/conda/lib/python3.7/site-packages/ipykernel_launcher.py:42: RuntimeWarning: invalid value encountered in long_scalars\n"
     ]
    },
    {
     "name": "stdout",
     "output_type": "stream",
     "text": [
      "=== rates === 0.00013000000000000002\n"
     ]
    },
    {
     "name": "stderr",
     "output_type": "stream",
     "text": [
      "/opt/conda/lib/python3.7/site-packages/ipykernel_launcher.py:42: RuntimeWarning: invalid value encountered in long_scalars\n"
     ]
    },
    {
     "name": "stdout",
     "output_type": "stream",
     "text": [
      "=== rates === 0.00014\n"
     ]
    },
    {
     "name": "stderr",
     "output_type": "stream",
     "text": [
      "/opt/conda/lib/python3.7/site-packages/ipykernel_launcher.py:42: RuntimeWarning: invalid value encountered in long_scalars\n"
     ]
    },
    {
     "name": "stdout",
     "output_type": "stream",
     "text": [
      "=== rates === 0.00015000000000000001\n"
     ]
    },
    {
     "name": "stderr",
     "output_type": "stream",
     "text": [
      "/opt/conda/lib/python3.7/site-packages/ipykernel_launcher.py:42: RuntimeWarning: invalid value encountered in long_scalars\n"
     ]
    },
    {
     "name": "stdout",
     "output_type": "stream",
     "text": [
      "=== rates === 0.00015999999999999999\n"
     ]
    },
    {
     "name": "stderr",
     "output_type": "stream",
     "text": [
      "/opt/conda/lib/python3.7/site-packages/ipykernel_launcher.py:42: RuntimeWarning: invalid value encountered in long_scalars\n"
     ]
    },
    {
     "name": "stdout",
     "output_type": "stream",
     "text": [
      "=== rates === 0.00017\n"
     ]
    },
    {
     "name": "stderr",
     "output_type": "stream",
     "text": [
      "/opt/conda/lib/python3.7/site-packages/ipykernel_launcher.py:42: RuntimeWarning: invalid value encountered in long_scalars\n"
     ]
    },
    {
     "name": "stdout",
     "output_type": "stream",
     "text": [
      "=== rates === 0.00017999999999999998\n"
     ]
    },
    {
     "name": "stderr",
     "output_type": "stream",
     "text": [
      "/opt/conda/lib/python3.7/site-packages/ipykernel_launcher.py:42: RuntimeWarning: invalid value encountered in long_scalars\n"
     ]
    },
    {
     "name": "stdout",
     "output_type": "stream",
     "text": [
      "=== rates === 0.00019\n"
     ]
    },
    {
     "name": "stderr",
     "output_type": "stream",
     "text": [
      "/opt/conda/lib/python3.7/site-packages/ipykernel_launcher.py:42: RuntimeWarning: invalid value encountered in long_scalars\n"
     ]
    },
    {
     "name": "stdout",
     "output_type": "stream",
     "text": [
      "=== rates === 0.00019999999999999998\n",
      "=== best recall === 0.9318181818181818\n",
      "=== rates === 0.00021\n",
      "=== rates === 0.00021999999999999998\n",
      "=== rates === 0.00023\n",
      "=== rates === 0.00023999999999999998\n",
      "=== rates === 0.00025\n",
      "=== rates === 0.00026\n",
      "=== rates === 0.00027\n",
      "=== rates === 0.00028\n",
      "=== rates === 0.00029\n",
      "=== rates === 0.0003\n",
      "=== rates === 0.00031\n",
      "=== rates === 0.00031999999999999997\n",
      "=== rates === 0.00033\n",
      "=== rates === 0.00033999999999999997\n",
      "=== rates === 0.00035\n",
      "=== rates === 0.00035999999999999997\n",
      "=== rates === 0.00036999999999999994\n",
      "=== rates === 0.00037999999999999997\n",
      "=== rates === 0.00039\n",
      "=== rates === 0.00039999999999999996\n",
      "=== rates === 0.00040999999999999994\n",
      "=== rates === 0.00041999999999999996\n",
      "=== rates === 0.00043\n",
      "=== rates === 0.00043999999999999996\n",
      "=== rates === 0.00044999999999999993\n",
      "=== rates === 0.00045999999999999996\n",
      "=== rates === 0.00047\n",
      "=== rates === 0.00047999999999999996\n",
      "=== rates === 0.00049\n",
      "12/12 [==============================] - 0s 3ms/step - loss: 0.4324 - accuracy: 0.8151\n",
      "Accuracy: 81.5126\n",
      "Model: \"sequential_87\"\n",
      "_________________________________________________________________\n",
      "Layer (type)                 Output Shape              Param #   \n",
      "=================================================================\n",
      "flatten_87 (Flatten)         (None, 26)                0         \n",
      "_________________________________________________________________\n",
      "dense_485 (Dense)            (None, 24)                648       \n",
      "_________________________________________________________________\n",
      "dense_486 (Dense)            (None, 24)                600       \n",
      "_________________________________________________________________\n",
      "dense_487 (Dense)            (None, 24)                600       \n",
      "_________________________________________________________________\n",
      "dense_488 (Dense)            (None, 2)                 50        \n",
      "=================================================================\n",
      "Total params: 1,898\n",
      "Trainable params: 1,898\n",
      "Non-trainable params: 0\n",
      "_________________________________________________________________\n",
      "None\n",
      "=== rates === 0.0001\n",
      "=== best recall === 0.38375350140056025\n",
      "=== rates === 0.00011\n"
     ]
    },
    {
     "name": "stderr",
     "output_type": "stream",
     "text": [
      "/opt/conda/lib/python3.7/site-packages/ipykernel_launcher.py:42: RuntimeWarning: invalid value encountered in long_scalars\n"
     ]
    },
    {
     "name": "stdout",
     "output_type": "stream",
     "text": [
      "=== rates === 0.00012\n"
     ]
    },
    {
     "name": "stderr",
     "output_type": "stream",
     "text": [
      "/opt/conda/lib/python3.7/site-packages/ipykernel_launcher.py:42: RuntimeWarning: invalid value encountered in long_scalars\n"
     ]
    },
    {
     "name": "stdout",
     "output_type": "stream",
     "text": [
      "=== rates === 0.00013000000000000002\n"
     ]
    },
    {
     "name": "stderr",
     "output_type": "stream",
     "text": [
      "/opt/conda/lib/python3.7/site-packages/ipykernel_launcher.py:42: RuntimeWarning: invalid value encountered in long_scalars\n"
     ]
    },
    {
     "name": "stdout",
     "output_type": "stream",
     "text": [
      "=== rates === 0.00014\n"
     ]
    },
    {
     "name": "stderr",
     "output_type": "stream",
     "text": [
      "/opt/conda/lib/python3.7/site-packages/ipykernel_launcher.py:42: RuntimeWarning: invalid value encountered in long_scalars\n"
     ]
    },
    {
     "name": "stdout",
     "output_type": "stream",
     "text": [
      "=== rates === 0.00015000000000000001\n"
     ]
    },
    {
     "name": "stderr",
     "output_type": "stream",
     "text": [
      "/opt/conda/lib/python3.7/site-packages/ipykernel_launcher.py:42: RuntimeWarning: invalid value encountered in long_scalars\n"
     ]
    },
    {
     "name": "stdout",
     "output_type": "stream",
     "text": [
      "=== rates === 0.00015999999999999999\n"
     ]
    },
    {
     "name": "stderr",
     "output_type": "stream",
     "text": [
      "/opt/conda/lib/python3.7/site-packages/ipykernel_launcher.py:42: RuntimeWarning: invalid value encountered in long_scalars\n"
     ]
    },
    {
     "name": "stdout",
     "output_type": "stream",
     "text": [
      "=== rates === 0.00017\n"
     ]
    },
    {
     "name": "stderr",
     "output_type": "stream",
     "text": [
      "/opt/conda/lib/python3.7/site-packages/ipykernel_launcher.py:42: RuntimeWarning: invalid value encountered in long_scalars\n"
     ]
    },
    {
     "name": "stdout",
     "output_type": "stream",
     "text": [
      "=== rates === 0.00017999999999999998\n"
     ]
    },
    {
     "name": "stderr",
     "output_type": "stream",
     "text": [
      "/opt/conda/lib/python3.7/site-packages/ipykernel_launcher.py:42: RuntimeWarning: invalid value encountered in long_scalars\n"
     ]
    },
    {
     "name": "stdout",
     "output_type": "stream",
     "text": [
      "=== rates === 0.00019\n"
     ]
    },
    {
     "name": "stderr",
     "output_type": "stream",
     "text": [
      "/opt/conda/lib/python3.7/site-packages/ipykernel_launcher.py:42: RuntimeWarning: invalid value encountered in long_scalars\n"
     ]
    },
    {
     "name": "stdout",
     "output_type": "stream",
     "text": [
      "=== rates === 0.00019999999999999998\n"
     ]
    },
    {
     "name": "stderr",
     "output_type": "stream",
     "text": [
      "/opt/conda/lib/python3.7/site-packages/ipykernel_launcher.py:42: RuntimeWarning: invalid value encountered in long_scalars\n"
     ]
    },
    {
     "name": "stdout",
     "output_type": "stream",
     "text": [
      "=== rates === 0.00021\n"
     ]
    },
    {
     "name": "stderr",
     "output_type": "stream",
     "text": [
      "/opt/conda/lib/python3.7/site-packages/ipykernel_launcher.py:42: RuntimeWarning: invalid value encountered in long_scalars\n"
     ]
    },
    {
     "name": "stdout",
     "output_type": "stream",
     "text": [
      "=== rates === 0.00021999999999999998\n",
      "=== best recall === 0.9230769230769231\n",
      "=== rates === 0.00023\n",
      "=== best recall === 0.9791666666666666\n",
      "=== rates === 0.00023999999999999998\n",
      "=== rates === 0.00025\n",
      "=== rates === 0.00026\n",
      "=== rates === 0.00027\n",
      "=== rates === 0.00028\n",
      "=== rates === 0.00029\n",
      "=== rates === 0.0003\n",
      "=== rates === 0.00031\n",
      "=== rates === 0.00031999999999999997\n",
      "=== rates === 0.00033\n",
      "=== rates === 0.00033999999999999997\n",
      "=== rates === 0.00035\n",
      "=== rates === 0.00035999999999999997\n",
      "=== rates === 0.00036999999999999994\n",
      "=== rates === 0.00037999999999999997\n",
      "=== rates === 0.00039\n",
      "=== rates === 0.00039999999999999996\n",
      "=== rates === 0.00040999999999999994\n",
      "=== rates === 0.00041999999999999996\n",
      "=== rates === 0.00043\n",
      "=== rates === 0.00043999999999999996\n",
      "=== rates === 0.00044999999999999993\n",
      "=== rates === 0.00045999999999999996\n",
      "=== rates === 0.00047\n",
      "=== rates === 0.00047999999999999996\n",
      "=== rates === 0.00049\n",
      "12/12 [==============================] - 0s 2ms/step - loss: 0.4274 - accuracy: 0.8207\n",
      "Accuracy: 82.0728\n",
      "Model: \"sequential_88\"\n",
      "_________________________________________________________________\n",
      "Layer (type)                 Output Shape              Param #   \n",
      "=================================================================\n",
      "flatten_88 (Flatten)         (None, 26)                0         \n",
      "_________________________________________________________________\n",
      "dense_489 (Dense)            (None, 45)                1215      \n",
      "_________________________________________________________________\n",
      "dense_490 (Dense)            (None, 45)                2070      \n",
      "_________________________________________________________________\n",
      "dense_491 (Dense)            (None, 45)                2070      \n",
      "_________________________________________________________________\n",
      "dense_492 (Dense)            (None, 2)                 92        \n",
      "=================================================================\n",
      "Total params: 5,447\n",
      "Trainable params: 5,447\n",
      "Non-trainable params: 0\n",
      "_________________________________________________________________\n",
      "None\n",
      "=== rates === 0.0001\n"
     ]
    },
    {
     "name": "stderr",
     "output_type": "stream",
     "text": [
      "/opt/conda/lib/python3.7/site-packages/ipykernel_launcher.py:42: RuntimeWarning: invalid value encountered in long_scalars\n"
     ]
    },
    {
     "name": "stdout",
     "output_type": "stream",
     "text": [
      "=== rates === 0.00011\n"
     ]
    },
    {
     "name": "stderr",
     "output_type": "stream",
     "text": [
      "/opt/conda/lib/python3.7/site-packages/ipykernel_launcher.py:42: RuntimeWarning: invalid value encountered in long_scalars\n"
     ]
    },
    {
     "name": "stdout",
     "output_type": "stream",
     "text": [
      "=== rates === 0.00012\n"
     ]
    },
    {
     "name": "stderr",
     "output_type": "stream",
     "text": [
      "/opt/conda/lib/python3.7/site-packages/ipykernel_launcher.py:42: RuntimeWarning: invalid value encountered in long_scalars\n"
     ]
    },
    {
     "name": "stdout",
     "output_type": "stream",
     "text": [
      "=== rates === 0.00013000000000000002\n"
     ]
    },
    {
     "name": "stderr",
     "output_type": "stream",
     "text": [
      "/opt/conda/lib/python3.7/site-packages/ipykernel_launcher.py:42: RuntimeWarning: invalid value encountered in long_scalars\n"
     ]
    },
    {
     "name": "stdout",
     "output_type": "stream",
     "text": [
      "=== rates === 0.00014\n"
     ]
    },
    {
     "name": "stderr",
     "output_type": "stream",
     "text": [
      "/opt/conda/lib/python3.7/site-packages/ipykernel_launcher.py:42: RuntimeWarning: invalid value encountered in long_scalars\n"
     ]
    },
    {
     "name": "stdout",
     "output_type": "stream",
     "text": [
      "=== rates === 0.00015000000000000001\n"
     ]
    },
    {
     "name": "stderr",
     "output_type": "stream",
     "text": [
      "/opt/conda/lib/python3.7/site-packages/ipykernel_launcher.py:42: RuntimeWarning: invalid value encountered in long_scalars\n"
     ]
    },
    {
     "name": "stdout",
     "output_type": "stream",
     "text": [
      "=== rates === 0.00015999999999999999\n"
     ]
    },
    {
     "name": "stderr",
     "output_type": "stream",
     "text": [
      "/opt/conda/lib/python3.7/site-packages/ipykernel_launcher.py:42: RuntimeWarning: invalid value encountered in long_scalars\n"
     ]
    },
    {
     "name": "stdout",
     "output_type": "stream",
     "text": [
      "=== rates === 0.00017\n",
      "=== best recall === 1.0\n",
      "=== rates === 0.00017999999999999998\n",
      "=== rates === 0.00019\n",
      "=== rates === 0.00019999999999999998\n",
      "=== rates === 0.00021\n",
      "=== rates === 0.00021999999999999998\n",
      "=== rates === 0.00023\n",
      "=== rates === 0.00023999999999999998\n",
      "=== rates === 0.00025\n",
      "=== rates === 0.00026\n",
      "=== rates === 0.00027\n",
      "=== rates === 0.00028\n",
      "=== rates === 0.00029\n",
      "=== rates === 0.0003\n",
      "=== rates === 0.00031\n",
      "=== rates === 0.00031999999999999997\n",
      "=== rates === 0.00033\n",
      "=== rates === 0.00033999999999999997\n",
      "=== rates === 0.00035\n",
      "=== rates === 0.00035999999999999997\n",
      "=== rates === 0.00036999999999999994\n",
      "=== rates === 0.00037999999999999997\n",
      "=== rates === 0.00039\n",
      "=== rates === 0.00039999999999999996\n",
      "=== rates === 0.00040999999999999994\n",
      "=== rates === 0.00041999999999999996\n",
      "=== rates === 0.00043\n",
      "=== rates === 0.00043999999999999996\n",
      "=== rates === 0.00044999999999999993\n",
      "=== rates === 0.00045999999999999996\n",
      "=== rates === 0.00047\n",
      "=== rates === 0.00047999999999999996\n",
      "=== rates === 0.00049\n",
      "12/12 [==============================] - 0s 3ms/step - loss: 0.4325 - accuracy: 0.8207\n",
      "Accuracy: 82.0728\n",
      "Model: \"sequential_89\"\n",
      "_________________________________________________________________\n",
      "Layer (type)                 Output Shape              Param #   \n",
      "=================================================================\n",
      "flatten_89 (Flatten)         (None, 26)                0         \n",
      "_________________________________________________________________\n",
      "dense_493 (Dense)            (None, 48)                1296      \n",
      "_________________________________________________________________\n",
      "dense_494 (Dense)            (None, 48)                2352      \n",
      "_________________________________________________________________\n",
      "dense_495 (Dense)            (None, 48)                2352      \n",
      "_________________________________________________________________\n",
      "dense_496 (Dense)            (None, 48)                2352      \n",
      "_________________________________________________________________\n",
      "dense_497 (Dense)            (None, 48)                2352      \n",
      "_________________________________________________________________\n",
      "dense_498 (Dense)            (None, 48)                2352      \n",
      "_________________________________________________________________\n",
      "dense_499 (Dense)            (None, 2)                 98        \n",
      "=================================================================\n",
      "Total params: 13,154\n",
      "Trainable params: 13,154\n",
      "Non-trainable params: 0\n",
      "_________________________________________________________________\n",
      "None\n",
      "=== rates === 0.0001\n"
     ]
    },
    {
     "name": "stderr",
     "output_type": "stream",
     "text": [
      "/opt/conda/lib/python3.7/site-packages/ipykernel_launcher.py:42: RuntimeWarning: invalid value encountered in long_scalars\n"
     ]
    },
    {
     "name": "stdout",
     "output_type": "stream",
     "text": [
      "=== rates === 0.00011\n"
     ]
    },
    {
     "name": "stderr",
     "output_type": "stream",
     "text": [
      "/opt/conda/lib/python3.7/site-packages/ipykernel_launcher.py:42: RuntimeWarning: invalid value encountered in long_scalars\n"
     ]
    },
    {
     "name": "stdout",
     "output_type": "stream",
     "text": [
      "=== rates === 0.00012\n"
     ]
    },
    {
     "name": "stderr",
     "output_type": "stream",
     "text": [
      "/opt/conda/lib/python3.7/site-packages/ipykernel_launcher.py:42: RuntimeWarning: invalid value encountered in long_scalars\n"
     ]
    },
    {
     "name": "stdout",
     "output_type": "stream",
     "text": [
      "=== rates === 0.00013000000000000002\n"
     ]
    },
    {
     "name": "stderr",
     "output_type": "stream",
     "text": [
      "/opt/conda/lib/python3.7/site-packages/ipykernel_launcher.py:42: RuntimeWarning: invalid value encountered in long_scalars\n"
     ]
    },
    {
     "name": "stdout",
     "output_type": "stream",
     "text": [
      "=== rates === 0.00014\n"
     ]
    },
    {
     "name": "stderr",
     "output_type": "stream",
     "text": [
      "/opt/conda/lib/python3.7/site-packages/ipykernel_launcher.py:42: RuntimeWarning: invalid value encountered in long_scalars\n"
     ]
    },
    {
     "name": "stdout",
     "output_type": "stream",
     "text": [
      "=== rates === 0.00015000000000000001\n"
     ]
    },
    {
     "name": "stderr",
     "output_type": "stream",
     "text": [
      "/opt/conda/lib/python3.7/site-packages/ipykernel_launcher.py:42: RuntimeWarning: invalid value encountered in long_scalars\n"
     ]
    },
    {
     "name": "stdout",
     "output_type": "stream",
     "text": [
      "=== rates === 0.00015999999999999999\n"
     ]
    },
    {
     "name": "stderr",
     "output_type": "stream",
     "text": [
      "/opt/conda/lib/python3.7/site-packages/ipykernel_launcher.py:42: RuntimeWarning: invalid value encountered in long_scalars\n"
     ]
    },
    {
     "name": "stdout",
     "output_type": "stream",
     "text": [
      "=== rates === 0.00017\n"
     ]
    },
    {
     "name": "stderr",
     "output_type": "stream",
     "text": [
      "/opt/conda/lib/python3.7/site-packages/ipykernel_launcher.py:42: RuntimeWarning: invalid value encountered in long_scalars\n"
     ]
    },
    {
     "name": "stdout",
     "output_type": "stream",
     "text": [
      "=== rates === 0.00017999999999999998\n"
     ]
    },
    {
     "name": "stderr",
     "output_type": "stream",
     "text": [
      "/opt/conda/lib/python3.7/site-packages/ipykernel_launcher.py:42: RuntimeWarning: invalid value encountered in long_scalars\n"
     ]
    },
    {
     "name": "stdout",
     "output_type": "stream",
     "text": [
      "=== rates === 0.00019\n"
     ]
    },
    {
     "name": "stderr",
     "output_type": "stream",
     "text": [
      "/opt/conda/lib/python3.7/site-packages/ipykernel_launcher.py:42: RuntimeWarning: invalid value encountered in long_scalars\n"
     ]
    },
    {
     "name": "stdout",
     "output_type": "stream",
     "text": [
      "=== rates === 0.00019999999999999998\n"
     ]
    },
    {
     "name": "stderr",
     "output_type": "stream",
     "text": [
      "/opt/conda/lib/python3.7/site-packages/ipykernel_launcher.py:42: RuntimeWarning: invalid value encountered in long_scalars\n"
     ]
    },
    {
     "name": "stdout",
     "output_type": "stream",
     "text": [
      "=== rates === 0.00021\n",
      "=== best recall === 0.8488372093023255\n",
      "=== rates === 0.00021999999999999998\n",
      "=== rates === 0.00023\n",
      "=== rates === 0.00023999999999999998\n",
      "=== rates === 0.00025\n",
      "=== rates === 0.00026\n",
      "=== rates === 0.00027\n",
      "=== rates === 0.00028\n",
      "=== rates === 0.00029\n",
      "=== best recall === 0.8529411764705882\n",
      "=== rates === 0.0003\n",
      "=== rates === 0.00031\n",
      "=== rates === 0.00031999999999999997\n",
      "=== best recall === 0.8686868686868687\n",
      "=== rates === 0.00033\n",
      "=== rates === 0.00033999999999999997\n",
      "=== rates === 0.00035\n",
      "=== rates === 0.00035999999999999997\n",
      "=== rates === 0.00036999999999999994\n",
      "=== rates === 0.00037999999999999997\n",
      "=== rates === 0.00039\n",
      "=== best recall === 0.8723404255319149\n",
      "=== rates === 0.00039999999999999996\n",
      "=== best recall === 0.8913043478260869\n",
      "=== rates === 0.00040999999999999994\n",
      "=== rates === 0.00041999999999999996\n",
      "=== rates === 0.00043\n",
      "=== rates === 0.00043999999999999996\n",
      "=== rates === 0.00044999999999999993\n",
      "=== rates === 0.00045999999999999996\n",
      "=== rates === 0.00047\n",
      "=== rates === 0.00047999999999999996\n",
      "=== rates === 0.00049\n",
      "12/12 [==============================] - 0s 3ms/step - loss: 0.4476 - accuracy: 0.8095\n",
      "Accuracy: 80.9524\n",
      "Model: \"sequential_90\"\n",
      "_________________________________________________________________\n",
      "Layer (type)                 Output Shape              Param #   \n",
      "=================================================================\n",
      "flatten_90 (Flatten)         (None, 26)                0         \n",
      "_________________________________________________________________\n",
      "dense_500 (Dense)            (None, 46)                1242      \n",
      "_________________________________________________________________\n",
      "dense_501 (Dense)            (None, 46)                2162      \n",
      "_________________________________________________________________\n",
      "dense_502 (Dense)            (None, 46)                2162      \n",
      "_________________________________________________________________\n",
      "dense_503 (Dense)            (None, 46)                2162      \n",
      "_________________________________________________________________\n",
      "dense_504 (Dense)            (None, 2)                 94        \n",
      "=================================================================\n",
      "Total params: 7,822\n",
      "Trainable params: 7,822\n",
      "Non-trainable params: 0\n",
      "_________________________________________________________________\n",
      "None\n",
      "=== rates === 0.0001\n"
     ]
    },
    {
     "name": "stderr",
     "output_type": "stream",
     "text": [
      "/opt/conda/lib/python3.7/site-packages/ipykernel_launcher.py:42: RuntimeWarning: invalid value encountered in long_scalars\n"
     ]
    },
    {
     "name": "stdout",
     "output_type": "stream",
     "text": [
      "=== rates === 0.00011\n"
     ]
    },
    {
     "name": "stderr",
     "output_type": "stream",
     "text": [
      "/opt/conda/lib/python3.7/site-packages/ipykernel_launcher.py:42: RuntimeWarning: invalid value encountered in long_scalars\n"
     ]
    },
    {
     "name": "stdout",
     "output_type": "stream",
     "text": [
      "=== rates === 0.00012\n"
     ]
    },
    {
     "name": "stderr",
     "output_type": "stream",
     "text": [
      "/opt/conda/lib/python3.7/site-packages/ipykernel_launcher.py:42: RuntimeWarning: invalid value encountered in long_scalars\n"
     ]
    },
    {
     "name": "stdout",
     "output_type": "stream",
     "text": [
      "=== rates === 0.00013000000000000002\n"
     ]
    },
    {
     "name": "stderr",
     "output_type": "stream",
     "text": [
      "/opt/conda/lib/python3.7/site-packages/ipykernel_launcher.py:42: RuntimeWarning: invalid value encountered in long_scalars\n"
     ]
    },
    {
     "name": "stdout",
     "output_type": "stream",
     "text": [
      "=== rates === 0.00014\n"
     ]
    },
    {
     "name": "stderr",
     "output_type": "stream",
     "text": [
      "/opt/conda/lib/python3.7/site-packages/ipykernel_launcher.py:42: RuntimeWarning: invalid value encountered in long_scalars\n"
     ]
    },
    {
     "name": "stdout",
     "output_type": "stream",
     "text": [
      "=== rates === 0.00015000000000000001\n"
     ]
    },
    {
     "name": "stderr",
     "output_type": "stream",
     "text": [
      "/opt/conda/lib/python3.7/site-packages/ipykernel_launcher.py:42: RuntimeWarning: invalid value encountered in long_scalars\n"
     ]
    },
    {
     "name": "stdout",
     "output_type": "stream",
     "text": [
      "=== rates === 0.00015999999999999999\n"
     ]
    },
    {
     "name": "stderr",
     "output_type": "stream",
     "text": [
      "/opt/conda/lib/python3.7/site-packages/ipykernel_launcher.py:42: RuntimeWarning: invalid value encountered in long_scalars\n"
     ]
    },
    {
     "name": "stdout",
     "output_type": "stream",
     "text": [
      "=== rates === 0.00017\n"
     ]
    },
    {
     "name": "stderr",
     "output_type": "stream",
     "text": [
      "/opt/conda/lib/python3.7/site-packages/ipykernel_launcher.py:42: RuntimeWarning: invalid value encountered in long_scalars\n"
     ]
    },
    {
     "name": "stdout",
     "output_type": "stream",
     "text": [
      "=== rates === 0.00017999999999999998\n"
     ]
    },
    {
     "name": "stderr",
     "output_type": "stream",
     "text": [
      "/opt/conda/lib/python3.7/site-packages/ipykernel_launcher.py:42: RuntimeWarning: invalid value encountered in long_scalars\n"
     ]
    },
    {
     "name": "stdout",
     "output_type": "stream",
     "text": [
      "=== rates === 0.00019\n"
     ]
    },
    {
     "name": "stderr",
     "output_type": "stream",
     "text": [
      "/opt/conda/lib/python3.7/site-packages/ipykernel_launcher.py:42: RuntimeWarning: invalid value encountered in long_scalars\n"
     ]
    },
    {
     "name": "stdout",
     "output_type": "stream",
     "text": [
      "=== rates === 0.00019999999999999998\n",
      "=== best recall === 0.9393939393939394\n",
      "=== rates === 0.00021\n",
      "=== rates === 0.00021999999999999998\n",
      "=== rates === 0.00023\n",
      "=== rates === 0.00023999999999999998\n",
      "=== rates === 0.00025\n",
      "=== rates === 0.00026\n",
      "=== rates === 0.00027\n",
      "=== rates === 0.00028\n",
      "=== rates === 0.00029\n",
      "=== rates === 0.0003\n",
      "=== rates === 0.00031\n",
      "=== rates === 0.00031999999999999997\n",
      "=== rates === 0.00033\n",
      "=== rates === 0.00033999999999999997\n",
      "=== rates === 0.00035\n",
      "=== rates === 0.00035999999999999997\n",
      "=== rates === 0.00036999999999999994\n",
      "=== rates === 0.00037999999999999997\n",
      "=== rates === 0.00039\n",
      "=== rates === 0.00039999999999999996\n",
      "=== rates === 0.00040999999999999994\n",
      "=== rates === 0.00041999999999999996\n",
      "=== rates === 0.00043\n",
      "=== rates === 0.00043999999999999996\n",
      "=== rates === 0.00044999999999999993\n",
      "=== rates === 0.00045999999999999996\n",
      "=== rates === 0.00047\n",
      "=== rates === 0.00047999999999999996\n",
      "=== rates === 0.00049\n",
      "12/12 [==============================] - 0s 3ms/step - loss: 0.4325 - accuracy: 0.8207\n",
      "Accuracy: 82.0728\n",
      "Model: \"sequential_91\"\n",
      "_________________________________________________________________\n",
      "Layer (type)                 Output Shape              Param #   \n",
      "=================================================================\n",
      "flatten_91 (Flatten)         (None, 26)                0         \n",
      "_________________________________________________________________\n",
      "dense_505 (Dense)            (None, 34)                918       \n",
      "_________________________________________________________________\n",
      "dense_506 (Dense)            (None, 34)                1190      \n",
      "_________________________________________________________________\n",
      "dense_507 (Dense)            (None, 2)                 70        \n",
      "=================================================================\n",
      "Total params: 2,178\n",
      "Trainable params: 2,178\n",
      "Non-trainable params: 0\n",
      "_________________________________________________________________\n",
      "None\n",
      "=== rates === 0.0001\n"
     ]
    },
    {
     "name": "stderr",
     "output_type": "stream",
     "text": [
      "/opt/conda/lib/python3.7/site-packages/ipykernel_launcher.py:42: RuntimeWarning: invalid value encountered in long_scalars\n"
     ]
    },
    {
     "name": "stdout",
     "output_type": "stream",
     "text": [
      "=== rates === 0.00011\n"
     ]
    },
    {
     "name": "stderr",
     "output_type": "stream",
     "text": [
      "/opt/conda/lib/python3.7/site-packages/ipykernel_launcher.py:42: RuntimeWarning: invalid value encountered in long_scalars\n"
     ]
    },
    {
     "name": "stdout",
     "output_type": "stream",
     "text": [
      "=== rates === 0.00012\n"
     ]
    },
    {
     "name": "stderr",
     "output_type": "stream",
     "text": [
      "/opt/conda/lib/python3.7/site-packages/ipykernel_launcher.py:42: RuntimeWarning: invalid value encountered in long_scalars\n"
     ]
    },
    {
     "name": "stdout",
     "output_type": "stream",
     "text": [
      "=== rates === 0.00013000000000000002\n"
     ]
    },
    {
     "name": "stderr",
     "output_type": "stream",
     "text": [
      "/opt/conda/lib/python3.7/site-packages/ipykernel_launcher.py:42: RuntimeWarning: invalid value encountered in long_scalars\n"
     ]
    },
    {
     "name": "stdout",
     "output_type": "stream",
     "text": [
      "=== rates === 0.00014\n"
     ]
    },
    {
     "name": "stderr",
     "output_type": "stream",
     "text": [
      "/opt/conda/lib/python3.7/site-packages/ipykernel_launcher.py:42: RuntimeWarning: invalid value encountered in long_scalars\n"
     ]
    },
    {
     "name": "stdout",
     "output_type": "stream",
     "text": [
      "=== rates === 0.00015000000000000001\n"
     ]
    },
    {
     "name": "stderr",
     "output_type": "stream",
     "text": [
      "/opt/conda/lib/python3.7/site-packages/ipykernel_launcher.py:42: RuntimeWarning: invalid value encountered in long_scalars\n"
     ]
    },
    {
     "name": "stdout",
     "output_type": "stream",
     "text": [
      "=== rates === 0.00015999999999999999\n",
      "=== best recall === 1.0\n",
      "=== rates === 0.00017\n",
      "=== rates === 0.00017999999999999998\n",
      "=== rates === 0.00019\n",
      "=== rates === 0.00019999999999999998\n",
      "=== rates === 0.00021\n",
      "=== rates === 0.00021999999999999998\n",
      "=== rates === 0.00023\n",
      "=== rates === 0.00023999999999999998\n",
      "=== rates === 0.00025\n",
      "=== rates === 0.00026\n",
      "=== rates === 0.00027\n",
      "=== rates === 0.00028\n",
      "=== rates === 0.00029\n",
      "=== rates === 0.0003\n",
      "=== rates === 0.00031\n",
      "=== rates === 0.00031999999999999997\n",
      "=== rates === 0.00033\n",
      "=== rates === 0.00033999999999999997\n",
      "=== rates === 0.00035\n",
      "=== rates === 0.00035999999999999997\n",
      "=== rates === 0.00036999999999999994\n",
      "=== rates === 0.00037999999999999997\n",
      "=== rates === 0.00039\n",
      "=== rates === 0.00039999999999999996\n",
      "=== rates === 0.00040999999999999994\n",
      "=== rates === 0.00041999999999999996\n",
      "=== rates === 0.00043\n",
      "=== rates === 0.00043999999999999996\n",
      "=== rates === 0.00044999999999999993\n",
      "=== rates === 0.00045999999999999996\n",
      "=== rates === 0.00047\n",
      "=== rates === 0.00047999999999999996\n",
      "=== rates === 0.00049\n",
      "12/12 [==============================] - 0s 2ms/step - loss: 0.4301 - accuracy: 0.8151\n",
      "Accuracy: 81.5126\n",
      "Model: \"sequential_92\"\n",
      "_________________________________________________________________\n",
      "Layer (type)                 Output Shape              Param #   \n",
      "=================================================================\n",
      "flatten_92 (Flatten)         (None, 26)                0         \n",
      "_________________________________________________________________\n",
      "dense_508 (Dense)            (None, 21)                567       \n",
      "_________________________________________________________________\n",
      "dense_509 (Dense)            (None, 21)                462       \n",
      "_________________________________________________________________\n",
      "dense_510 (Dense)            (None, 2)                 44        \n",
      "=================================================================\n",
      "Total params: 1,073\n",
      "Trainable params: 1,073\n",
      "Non-trainable params: 0\n",
      "_________________________________________________________________\n",
      "None\n",
      "=== rates === 0.0001\n"
     ]
    },
    {
     "name": "stderr",
     "output_type": "stream",
     "text": [
      "/opt/conda/lib/python3.7/site-packages/ipykernel_launcher.py:42: RuntimeWarning: invalid value encountered in long_scalars\n"
     ]
    },
    {
     "name": "stdout",
     "output_type": "stream",
     "text": [
      "=== rates === 0.00011\n"
     ]
    },
    {
     "name": "stderr",
     "output_type": "stream",
     "text": [
      "/opt/conda/lib/python3.7/site-packages/ipykernel_launcher.py:42: RuntimeWarning: invalid value encountered in long_scalars\n"
     ]
    },
    {
     "name": "stdout",
     "output_type": "stream",
     "text": [
      "=== rates === 0.00012\n"
     ]
    },
    {
     "name": "stderr",
     "output_type": "stream",
     "text": [
      "/opt/conda/lib/python3.7/site-packages/ipykernel_launcher.py:42: RuntimeWarning: invalid value encountered in long_scalars\n"
     ]
    },
    {
     "name": "stdout",
     "output_type": "stream",
     "text": [
      "=== rates === 0.00013000000000000002\n"
     ]
    },
    {
     "name": "stderr",
     "output_type": "stream",
     "text": [
      "/opt/conda/lib/python3.7/site-packages/ipykernel_launcher.py:42: RuntimeWarning: invalid value encountered in long_scalars\n"
     ]
    },
    {
     "name": "stdout",
     "output_type": "stream",
     "text": [
      "=== rates === 0.00014\n"
     ]
    },
    {
     "name": "stderr",
     "output_type": "stream",
     "text": [
      "/opt/conda/lib/python3.7/site-packages/ipykernel_launcher.py:42: RuntimeWarning: invalid value encountered in long_scalars\n"
     ]
    },
    {
     "name": "stdout",
     "output_type": "stream",
     "text": [
      "=== rates === 0.00015000000000000001\n"
     ]
    },
    {
     "name": "stderr",
     "output_type": "stream",
     "text": [
      "/opt/conda/lib/python3.7/site-packages/ipykernel_launcher.py:42: RuntimeWarning: invalid value encountered in long_scalars\n"
     ]
    },
    {
     "name": "stdout",
     "output_type": "stream",
     "text": [
      "=== rates === 0.00015999999999999999\n"
     ]
    },
    {
     "name": "stderr",
     "output_type": "stream",
     "text": [
      "/opt/conda/lib/python3.7/site-packages/ipykernel_launcher.py:42: RuntimeWarning: invalid value encountered in long_scalars\n"
     ]
    },
    {
     "name": "stdout",
     "output_type": "stream",
     "text": [
      "=== rates === 0.00017\n"
     ]
    },
    {
     "name": "stderr",
     "output_type": "stream",
     "text": [
      "/opt/conda/lib/python3.7/site-packages/ipykernel_launcher.py:42: RuntimeWarning: invalid value encountered in long_scalars\n"
     ]
    },
    {
     "name": "stdout",
     "output_type": "stream",
     "text": [
      "=== rates === 0.00017999999999999998\n"
     ]
    },
    {
     "name": "stderr",
     "output_type": "stream",
     "text": [
      "/opt/conda/lib/python3.7/site-packages/ipykernel_launcher.py:42: RuntimeWarning: invalid value encountered in long_scalars\n"
     ]
    },
    {
     "name": "stdout",
     "output_type": "stream",
     "text": [
      "=== rates === 0.00019\n",
      "=== best recall === 1.0\n",
      "=== rates === 0.00019999999999999998\n",
      "=== rates === 0.00021\n",
      "=== rates === 0.00021999999999999998\n",
      "=== rates === 0.00023\n",
      "=== rates === 0.00023999999999999998\n",
      "=== rates === 0.00025\n",
      "=== rates === 0.00026\n",
      "=== rates === 0.00027\n",
      "=== rates === 0.00028\n",
      "=== rates === 0.00029\n",
      "=== rates === 0.0003\n",
      "=== rates === 0.00031\n",
      "=== rates === 0.00031999999999999997\n",
      "=== rates === 0.00033\n",
      "=== rates === 0.00033999999999999997\n",
      "=== rates === 0.00035\n",
      "=== rates === 0.00035999999999999997\n",
      "=== rates === 0.00036999999999999994\n",
      "=== rates === 0.00037999999999999997\n",
      "=== rates === 0.00039\n",
      "=== rates === 0.00039999999999999996\n",
      "=== rates === 0.00040999999999999994\n",
      "=== rates === 0.00041999999999999996\n",
      "=== rates === 0.00043\n",
      "=== rates === 0.00043999999999999996\n",
      "=== rates === 0.00044999999999999993\n",
      "=== rates === 0.00045999999999999996\n",
      "=== rates === 0.00047\n",
      "=== rates === 0.00047999999999999996\n",
      "=== rates === 0.00049\n",
      "12/12 [==============================] - 0s 2ms/step - loss: 0.4246 - accuracy: 0.8123\n",
      "Accuracy: 81.2325\n",
      "Model: \"sequential_93\"\n",
      "_________________________________________________________________\n",
      "Layer (type)                 Output Shape              Param #   \n",
      "=================================================================\n",
      "flatten_93 (Flatten)         (None, 26)                0         \n",
      "_________________________________________________________________\n",
      "dense_511 (Dense)            (None, 30)                810       \n",
      "_________________________________________________________________\n",
      "dense_512 (Dense)            (None, 30)                930       \n",
      "_________________________________________________________________\n",
      "dense_513 (Dense)            (None, 2)                 62        \n",
      "=================================================================\n",
      "Total params: 1,802\n",
      "Trainable params: 1,802\n",
      "Non-trainable params: 0\n",
      "_________________________________________________________________\n",
      "None\n",
      "=== rates === 0.0001\n",
      "=== best recall === 0.4028776978417266\n",
      "=== rates === 0.00011\n"
     ]
    },
    {
     "name": "stderr",
     "output_type": "stream",
     "text": [
      "/opt/conda/lib/python3.7/site-packages/ipykernel_launcher.py:42: RuntimeWarning: invalid value encountered in long_scalars\n"
     ]
    },
    {
     "name": "stdout",
     "output_type": "stream",
     "text": [
      "=== rates === 0.00012\n"
     ]
    },
    {
     "name": "stderr",
     "output_type": "stream",
     "text": [
      "/opt/conda/lib/python3.7/site-packages/ipykernel_launcher.py:42: RuntimeWarning: invalid value encountered in long_scalars\n"
     ]
    },
    {
     "name": "stdout",
     "output_type": "stream",
     "text": [
      "=== rates === 0.00013000000000000002\n"
     ]
    },
    {
     "name": "stderr",
     "output_type": "stream",
     "text": [
      "/opt/conda/lib/python3.7/site-packages/ipykernel_launcher.py:42: RuntimeWarning: invalid value encountered in long_scalars\n"
     ]
    },
    {
     "name": "stdout",
     "output_type": "stream",
     "text": [
      "=== rates === 0.00014\n"
     ]
    },
    {
     "name": "stderr",
     "output_type": "stream",
     "text": [
      "/opt/conda/lib/python3.7/site-packages/ipykernel_launcher.py:42: RuntimeWarning: invalid value encountered in long_scalars\n"
     ]
    },
    {
     "name": "stdout",
     "output_type": "stream",
     "text": [
      "=== rates === 0.00015000000000000001\n"
     ]
    },
    {
     "name": "stderr",
     "output_type": "stream",
     "text": [
      "/opt/conda/lib/python3.7/site-packages/ipykernel_launcher.py:42: RuntimeWarning: invalid value encountered in long_scalars\n"
     ]
    },
    {
     "name": "stdout",
     "output_type": "stream",
     "text": [
      "=== rates === 0.00015999999999999999\n"
     ]
    },
    {
     "name": "stderr",
     "output_type": "stream",
     "text": [
      "/opt/conda/lib/python3.7/site-packages/ipykernel_launcher.py:42: RuntimeWarning: invalid value encountered in long_scalars\n"
     ]
    },
    {
     "name": "stdout",
     "output_type": "stream",
     "text": [
      "=== rates === 0.00017\n",
      "=== best recall === 0.8\n",
      "=== rates === 0.00017999999999999998\n",
      "=== best recall === 0.9583333333333334\n",
      "=== rates === 0.00019\n",
      "=== rates === 0.00019999999999999998\n",
      "=== rates === 0.00021\n",
      "=== rates === 0.00021999999999999998\n",
      "=== rates === 0.00023\n",
      "=== rates === 0.00023999999999999998\n",
      "=== rates === 0.00025\n",
      "=== rates === 0.00026\n",
      "=== rates === 0.00027\n",
      "=== rates === 0.00028\n",
      "=== rates === 0.00029\n",
      "=== rates === 0.0003\n",
      "=== rates === 0.00031\n",
      "=== rates === 0.00031999999999999997\n",
      "=== rates === 0.00033\n",
      "=== rates === 0.00033999999999999997\n",
      "=== rates === 0.00035\n",
      "=== rates === 0.00035999999999999997\n",
      "=== rates === 0.00036999999999999994\n",
      "=== rates === 0.00037999999999999997\n",
      "=== rates === 0.00039\n",
      "=== rates === 0.00039999999999999996\n",
      "=== rates === 0.00040999999999999994\n",
      "=== rates === 0.00041999999999999996\n",
      "=== rates === 0.00043\n",
      "=== rates === 0.00043999999999999996\n",
      "=== rates === 0.00044999999999999993\n",
      "=== rates === 0.00045999999999999996\n",
      "=== rates === 0.00047\n",
      "=== rates === 0.00047999999999999996\n",
      "=== rates === 0.00049\n",
      "12/12 [==============================] - 0s 2ms/step - loss: 0.4273 - accuracy: 0.8207\n",
      "Accuracy: 82.0728\n",
      "Model: \"sequential_94\"\n",
      "_________________________________________________________________\n",
      "Layer (type)                 Output Shape              Param #   \n",
      "=================================================================\n",
      "flatten_94 (Flatten)         (None, 26)                0         \n",
      "_________________________________________________________________\n",
      "dense_514 (Dense)            (None, 27)                729       \n",
      "_________________________________________________________________\n",
      "dense_515 (Dense)            (None, 27)                756       \n",
      "_________________________________________________________________\n",
      "dense_516 (Dense)            (None, 27)                756       \n",
      "_________________________________________________________________\n",
      "dense_517 (Dense)            (None, 27)                756       \n",
      "_________________________________________________________________\n",
      "dense_518 (Dense)            (None, 2)                 56        \n",
      "=================================================================\n",
      "Total params: 3,053\n",
      "Trainable params: 3,053\n",
      "Non-trainable params: 0\n",
      "_________________________________________________________________\n",
      "None\n",
      "=== rates === 0.0001\n"
     ]
    },
    {
     "name": "stderr",
     "output_type": "stream",
     "text": [
      "/opt/conda/lib/python3.7/site-packages/ipykernel_launcher.py:42: RuntimeWarning: invalid value encountered in long_scalars\n"
     ]
    },
    {
     "name": "stdout",
     "output_type": "stream",
     "text": [
      "=== rates === 0.00011\n"
     ]
    },
    {
     "name": "stderr",
     "output_type": "stream",
     "text": [
      "/opt/conda/lib/python3.7/site-packages/ipykernel_launcher.py:42: RuntimeWarning: invalid value encountered in long_scalars\n"
     ]
    },
    {
     "name": "stdout",
     "output_type": "stream",
     "text": [
      "=== rates === 0.00012\n"
     ]
    },
    {
     "name": "stderr",
     "output_type": "stream",
     "text": [
      "/opt/conda/lib/python3.7/site-packages/ipykernel_launcher.py:42: RuntimeWarning: invalid value encountered in long_scalars\n"
     ]
    },
    {
     "name": "stdout",
     "output_type": "stream",
     "text": [
      "=== rates === 0.00013000000000000002\n"
     ]
    },
    {
     "name": "stderr",
     "output_type": "stream",
     "text": [
      "/opt/conda/lib/python3.7/site-packages/ipykernel_launcher.py:42: RuntimeWarning: invalid value encountered in long_scalars\n"
     ]
    },
    {
     "name": "stdout",
     "output_type": "stream",
     "text": [
      "=== rates === 0.00014\n"
     ]
    },
    {
     "name": "stderr",
     "output_type": "stream",
     "text": [
      "/opt/conda/lib/python3.7/site-packages/ipykernel_launcher.py:42: RuntimeWarning: invalid value encountered in long_scalars\n"
     ]
    },
    {
     "name": "stdout",
     "output_type": "stream",
     "text": [
      "=== rates === 0.00015000000000000001\n"
     ]
    },
    {
     "name": "stderr",
     "output_type": "stream",
     "text": [
      "/opt/conda/lib/python3.7/site-packages/ipykernel_launcher.py:42: RuntimeWarning: invalid value encountered in long_scalars\n"
     ]
    },
    {
     "name": "stdout",
     "output_type": "stream",
     "text": [
      "=== rates === 0.00015999999999999999\n"
     ]
    },
    {
     "name": "stderr",
     "output_type": "stream",
     "text": [
      "/opt/conda/lib/python3.7/site-packages/ipykernel_launcher.py:42: RuntimeWarning: invalid value encountered in long_scalars\n"
     ]
    },
    {
     "name": "stdout",
     "output_type": "stream",
     "text": [
      "=== rates === 0.00017\n"
     ]
    },
    {
     "name": "stderr",
     "output_type": "stream",
     "text": [
      "/opt/conda/lib/python3.7/site-packages/ipykernel_launcher.py:42: RuntimeWarning: invalid value encountered in long_scalars\n"
     ]
    },
    {
     "name": "stdout",
     "output_type": "stream",
     "text": [
      "=== rates === 0.00017999999999999998\n"
     ]
    },
    {
     "name": "stderr",
     "output_type": "stream",
     "text": [
      "/opt/conda/lib/python3.7/site-packages/ipykernel_launcher.py:42: RuntimeWarning: invalid value encountered in long_scalars\n"
     ]
    },
    {
     "name": "stdout",
     "output_type": "stream",
     "text": [
      "=== rates === 0.00019\n"
     ]
    },
    {
     "name": "stderr",
     "output_type": "stream",
     "text": [
      "/opt/conda/lib/python3.7/site-packages/ipykernel_launcher.py:42: RuntimeWarning: invalid value encountered in long_scalars\n"
     ]
    },
    {
     "name": "stdout",
     "output_type": "stream",
     "text": [
      "=== rates === 0.00019999999999999998\n"
     ]
    },
    {
     "name": "stderr",
     "output_type": "stream",
     "text": [
      "/opt/conda/lib/python3.7/site-packages/ipykernel_launcher.py:42: RuntimeWarning: invalid value encountered in long_scalars\n"
     ]
    },
    {
     "name": "stdout",
     "output_type": "stream",
     "text": [
      "=== rates === 0.00021\n"
     ]
    },
    {
     "name": "stderr",
     "output_type": "stream",
     "text": [
      "/opt/conda/lib/python3.7/site-packages/ipykernel_launcher.py:42: RuntimeWarning: invalid value encountered in long_scalars\n"
     ]
    },
    {
     "name": "stdout",
     "output_type": "stream",
     "text": [
      "=== rates === 0.00021999999999999998\n",
      "=== best recall === 0.9714285714285714\n",
      "=== rates === 0.00023\n",
      "=== rates === 0.00023999999999999998\n",
      "=== rates === 0.00025\n",
      "=== rates === 0.00026\n",
      "=== rates === 0.00027\n",
      "=== rates === 0.00028\n",
      "=== rates === 0.00029\n",
      "=== rates === 0.0003\n",
      "=== rates === 0.00031\n",
      "=== rates === 0.00031999999999999997\n",
      "=== rates === 0.00033\n",
      "=== rates === 0.00033999999999999997\n",
      "=== rates === 0.00035\n",
      "=== rates === 0.00035999999999999997\n",
      "=== rates === 0.00036999999999999994\n",
      "=== rates === 0.00037999999999999997\n",
      "=== rates === 0.00039\n",
      "=== rates === 0.00039999999999999996\n",
      "=== rates === 0.00040999999999999994\n",
      "=== rates === 0.00041999999999999996\n",
      "=== rates === 0.00043\n",
      "=== rates === 0.00043999999999999996\n",
      "=== rates === 0.00044999999999999993\n",
      "=== rates === 0.00045999999999999996\n",
      "=== rates === 0.00047\n",
      "=== rates === 0.00047999999999999996\n",
      "=== rates === 0.00049\n",
      "12/12 [==============================] - 0s 3ms/step - loss: 0.4319 - accuracy: 0.8151\n",
      "Accuracy: 81.5126\n",
      "Model: \"sequential_95\"\n",
      "_________________________________________________________________\n",
      "Layer (type)                 Output Shape              Param #   \n",
      "=================================================================\n",
      "flatten_95 (Flatten)         (None, 26)                0         \n",
      "_________________________________________________________________\n",
      "dense_519 (Dense)            (None, 30)                810       \n",
      "_________________________________________________________________\n",
      "dense_520 (Dense)            (None, 30)                930       \n",
      "_________________________________________________________________\n",
      "dense_521 (Dense)            (None, 30)                930       \n",
      "_________________________________________________________________\n",
      "dense_522 (Dense)            (None, 30)                930       \n",
      "_________________________________________________________________\n",
      "dense_523 (Dense)            (None, 30)                930       \n",
      "_________________________________________________________________\n",
      "dense_524 (Dense)            (None, 30)                930       \n",
      "_________________________________________________________________\n",
      "dense_525 (Dense)            (None, 30)                930       \n",
      "_________________________________________________________________\n",
      "dense_526 (Dense)            (None, 30)                930       \n",
      "_________________________________________________________________\n",
      "dense_527 (Dense)            (None, 2)                 62        \n",
      "=================================================================\n",
      "Total params: 7,382\n",
      "Trainable params: 7,382\n",
      "Non-trainable params: 0\n",
      "_________________________________________________________________\n",
      "None\n",
      "=== rates === 0.0001\n",
      "=== best recall === 0.38375350140056025\n",
      "=== rates === 0.00011\n"
     ]
    },
    {
     "name": "stderr",
     "output_type": "stream",
     "text": [
      "/opt/conda/lib/python3.7/site-packages/ipykernel_launcher.py:42: RuntimeWarning: invalid value encountered in long_scalars\n"
     ]
    },
    {
     "name": "stdout",
     "output_type": "stream",
     "text": [
      "=== rates === 0.00012\n"
     ]
    },
    {
     "name": "stderr",
     "output_type": "stream",
     "text": [
      "/opt/conda/lib/python3.7/site-packages/ipykernel_launcher.py:42: RuntimeWarning: invalid value encountered in long_scalars\n"
     ]
    },
    {
     "name": "stdout",
     "output_type": "stream",
     "text": [
      "=== rates === 0.00013000000000000002\n"
     ]
    },
    {
     "name": "stderr",
     "output_type": "stream",
     "text": [
      "/opt/conda/lib/python3.7/site-packages/ipykernel_launcher.py:42: RuntimeWarning: invalid value encountered in long_scalars\n"
     ]
    },
    {
     "name": "stdout",
     "output_type": "stream",
     "text": [
      "=== rates === 0.00014\n"
     ]
    },
    {
     "name": "stderr",
     "output_type": "stream",
     "text": [
      "/opt/conda/lib/python3.7/site-packages/ipykernel_launcher.py:42: RuntimeWarning: invalid value encountered in long_scalars\n"
     ]
    },
    {
     "name": "stdout",
     "output_type": "stream",
     "text": [
      "=== rates === 0.00015000000000000001\n"
     ]
    },
    {
     "name": "stderr",
     "output_type": "stream",
     "text": [
      "/opt/conda/lib/python3.7/site-packages/ipykernel_launcher.py:42: RuntimeWarning: invalid value encountered in long_scalars\n"
     ]
    },
    {
     "name": "stdout",
     "output_type": "stream",
     "text": [
      "=== rates === 0.00015999999999999999\n"
     ]
    },
    {
     "name": "stderr",
     "output_type": "stream",
     "text": [
      "/opt/conda/lib/python3.7/site-packages/ipykernel_launcher.py:42: RuntimeWarning: invalid value encountered in long_scalars\n"
     ]
    },
    {
     "name": "stdout",
     "output_type": "stream",
     "text": [
      "=== rates === 0.00017\n"
     ]
    },
    {
     "name": "stderr",
     "output_type": "stream",
     "text": [
      "/opt/conda/lib/python3.7/site-packages/ipykernel_launcher.py:42: RuntimeWarning: invalid value encountered in long_scalars\n"
     ]
    },
    {
     "name": "stdout",
     "output_type": "stream",
     "text": [
      "=== rates === 0.00017999999999999998\n"
     ]
    },
    {
     "name": "stderr",
     "output_type": "stream",
     "text": [
      "/opt/conda/lib/python3.7/site-packages/ipykernel_launcher.py:42: RuntimeWarning: invalid value encountered in long_scalars\n"
     ]
    },
    {
     "name": "stdout",
     "output_type": "stream",
     "text": [
      "=== rates === 0.00019\n"
     ]
    },
    {
     "name": "stderr",
     "output_type": "stream",
     "text": [
      "/opt/conda/lib/python3.7/site-packages/ipykernel_launcher.py:42: RuntimeWarning: invalid value encountered in long_scalars\n"
     ]
    },
    {
     "name": "stdout",
     "output_type": "stream",
     "text": [
      "=== rates === 0.00019999999999999998\n"
     ]
    },
    {
     "name": "stderr",
     "output_type": "stream",
     "text": [
      "/opt/conda/lib/python3.7/site-packages/ipykernel_launcher.py:42: RuntimeWarning: invalid value encountered in long_scalars\n"
     ]
    },
    {
     "name": "stdout",
     "output_type": "stream",
     "text": [
      "=== rates === 0.00021\n"
     ]
    },
    {
     "name": "stderr",
     "output_type": "stream",
     "text": [
      "/opt/conda/lib/python3.7/site-packages/ipykernel_launcher.py:42: RuntimeWarning: invalid value encountered in long_scalars\n"
     ]
    },
    {
     "name": "stdout",
     "output_type": "stream",
     "text": [
      "=== rates === 0.00021999999999999998\n"
     ]
    },
    {
     "name": "stderr",
     "output_type": "stream",
     "text": [
      "/opt/conda/lib/python3.7/site-packages/ipykernel_launcher.py:42: RuntimeWarning: invalid value encountered in long_scalars\n"
     ]
    },
    {
     "name": "stdout",
     "output_type": "stream",
     "text": [
      "=== rates === 0.00023\n"
     ]
    },
    {
     "name": "stderr",
     "output_type": "stream",
     "text": [
      "/opt/conda/lib/python3.7/site-packages/ipykernel_launcher.py:42: RuntimeWarning: invalid value encountered in long_scalars\n"
     ]
    },
    {
     "name": "stdout",
     "output_type": "stream",
     "text": [
      "=== rates === 0.00023999999999999998\n"
     ]
    },
    {
     "name": "stderr",
     "output_type": "stream",
     "text": [
      "/opt/conda/lib/python3.7/site-packages/ipykernel_launcher.py:42: RuntimeWarning: invalid value encountered in long_scalars\n"
     ]
    },
    {
     "name": "stdout",
     "output_type": "stream",
     "text": [
      "=== rates === 0.00025\n"
     ]
    },
    {
     "name": "stderr",
     "output_type": "stream",
     "text": [
      "/opt/conda/lib/python3.7/site-packages/ipykernel_launcher.py:42: RuntimeWarning: invalid value encountered in long_scalars\n"
     ]
    },
    {
     "name": "stdout",
     "output_type": "stream",
     "text": [
      "=== rates === 0.00026\n"
     ]
    },
    {
     "name": "stderr",
     "output_type": "stream",
     "text": [
      "/opt/conda/lib/python3.7/site-packages/ipykernel_launcher.py:42: RuntimeWarning: invalid value encountered in long_scalars\n"
     ]
    },
    {
     "name": "stdout",
     "output_type": "stream",
     "text": [
      "=== rates === 0.00027\n"
     ]
    },
    {
     "name": "stderr",
     "output_type": "stream",
     "text": [
      "/opt/conda/lib/python3.7/site-packages/ipykernel_launcher.py:42: RuntimeWarning: invalid value encountered in long_scalars\n"
     ]
    },
    {
     "name": "stdout",
     "output_type": "stream",
     "text": [
      "=== rates === 0.00028\n"
     ]
    },
    {
     "name": "stderr",
     "output_type": "stream",
     "text": [
      "/opt/conda/lib/python3.7/site-packages/ipykernel_launcher.py:42: RuntimeWarning: invalid value encountered in long_scalars\n"
     ]
    },
    {
     "name": "stdout",
     "output_type": "stream",
     "text": [
      "=== rates === 0.00029\n"
     ]
    },
    {
     "name": "stderr",
     "output_type": "stream",
     "text": [
      "/opt/conda/lib/python3.7/site-packages/ipykernel_launcher.py:42: RuntimeWarning: invalid value encountered in long_scalars\n"
     ]
    },
    {
     "name": "stdout",
     "output_type": "stream",
     "text": [
      "=== rates === 0.0003\n"
     ]
    },
    {
     "name": "stderr",
     "output_type": "stream",
     "text": [
      "/opt/conda/lib/python3.7/site-packages/ipykernel_launcher.py:42: RuntimeWarning: invalid value encountered in long_scalars\n"
     ]
    },
    {
     "name": "stdout",
     "output_type": "stream",
     "text": [
      "=== rates === 0.00031\n"
     ]
    },
    {
     "name": "stderr",
     "output_type": "stream",
     "text": [
      "/opt/conda/lib/python3.7/site-packages/ipykernel_launcher.py:42: RuntimeWarning: invalid value encountered in long_scalars\n"
     ]
    },
    {
     "name": "stdout",
     "output_type": "stream",
     "text": [
      "=== rates === 0.00031999999999999997\n"
     ]
    },
    {
     "name": "stderr",
     "output_type": "stream",
     "text": [
      "/opt/conda/lib/python3.7/site-packages/ipykernel_launcher.py:42: RuntimeWarning: invalid value encountered in long_scalars\n"
     ]
    },
    {
     "name": "stdout",
     "output_type": "stream",
     "text": [
      "=== rates === 0.00033\n"
     ]
    },
    {
     "name": "stderr",
     "output_type": "stream",
     "text": [
      "/opt/conda/lib/python3.7/site-packages/ipykernel_launcher.py:42: RuntimeWarning: invalid value encountered in long_scalars\n"
     ]
    },
    {
     "name": "stdout",
     "output_type": "stream",
     "text": [
      "=== rates === 0.00033999999999999997\n",
      "=== best recall === 0.7603305785123967\n",
      "=== rates === 0.00035\n",
      "=== rates === 0.00035999999999999997\n",
      "=== rates === 0.00036999999999999994\n",
      "=== rates === 0.00037999999999999997\n",
      "=== best recall === 0.7711864406779662\n",
      "=== rates === 0.00039\n",
      "=== best recall === 0.7982456140350878\n",
      "=== rates === 0.00039999999999999996\n",
      "=== best recall === 0.8198198198198198\n",
      "=== rates === 0.00040999999999999994\n",
      "=== best recall === 0.8256880733944955\n",
      "=== rates === 0.00041999999999999996\n",
      "=== best recall === 0.8301886792452831\n",
      "=== rates === 0.00043\n",
      "=== best recall === 0.8514851485148515\n",
      "=== rates === 0.00043999999999999996\n",
      "=== best recall === 0.8541666666666666\n",
      "=== rates === 0.00044999999999999993\n",
      "=== rates === 0.00045999999999999996\n",
      "=== rates === 0.00047\n",
      "=== rates === 0.00047999999999999996\n",
      "=== rates === 0.00049\n",
      "12/12 [==============================] - 0s 3ms/step - loss: 0.4428 - accuracy: 0.8067\n",
      "Accuracy: 80.6723\n",
      "Model: \"sequential_96\"\n",
      "_________________________________________________________________\n",
      "Layer (type)                 Output Shape              Param #   \n",
      "=================================================================\n",
      "flatten_96 (Flatten)         (None, 26)                0         \n",
      "_________________________________________________________________\n",
      "dense_528 (Dense)            (None, 45)                1215      \n",
      "_________________________________________________________________\n",
      "dense_529 (Dense)            (None, 45)                2070      \n",
      "_________________________________________________________________\n",
      "dense_530 (Dense)            (None, 45)                2070      \n",
      "_________________________________________________________________\n",
      "dense_531 (Dense)            (None, 45)                2070      \n",
      "_________________________________________________________________\n",
      "dense_532 (Dense)            (None, 45)                2070      \n",
      "_________________________________________________________________\n",
      "dense_533 (Dense)            (None, 45)                2070      \n",
      "_________________________________________________________________\n",
      "dense_534 (Dense)            (None, 45)                2070      \n",
      "_________________________________________________________________\n",
      "dense_535 (Dense)            (None, 45)                2070      \n",
      "_________________________________________________________________\n",
      "dense_536 (Dense)            (None, 2)                 92        \n",
      "=================================================================\n",
      "Total params: 15,797\n",
      "Trainable params: 15,797\n",
      "Non-trainable params: 0\n",
      "_________________________________________________________________\n",
      "None\n",
      "=== rates === 0.0001\n"
     ]
    },
    {
     "name": "stderr",
     "output_type": "stream",
     "text": [
      "/opt/conda/lib/python3.7/site-packages/ipykernel_launcher.py:42: RuntimeWarning: invalid value encountered in long_scalars\n"
     ]
    },
    {
     "name": "stdout",
     "output_type": "stream",
     "text": [
      "=== rates === 0.00011\n"
     ]
    },
    {
     "name": "stderr",
     "output_type": "stream",
     "text": [
      "/opt/conda/lib/python3.7/site-packages/ipykernel_launcher.py:42: RuntimeWarning: invalid value encountered in long_scalars\n"
     ]
    },
    {
     "name": "stdout",
     "output_type": "stream",
     "text": [
      "=== rates === 0.00012\n"
     ]
    },
    {
     "name": "stderr",
     "output_type": "stream",
     "text": [
      "/opt/conda/lib/python3.7/site-packages/ipykernel_launcher.py:42: RuntimeWarning: invalid value encountered in long_scalars\n"
     ]
    },
    {
     "name": "stdout",
     "output_type": "stream",
     "text": [
      "=== rates === 0.00013000000000000002\n"
     ]
    },
    {
     "name": "stderr",
     "output_type": "stream",
     "text": [
      "/opt/conda/lib/python3.7/site-packages/ipykernel_launcher.py:42: RuntimeWarning: invalid value encountered in long_scalars\n"
     ]
    },
    {
     "name": "stdout",
     "output_type": "stream",
     "text": [
      "=== rates === 0.00014\n"
     ]
    },
    {
     "name": "stderr",
     "output_type": "stream",
     "text": [
      "/opt/conda/lib/python3.7/site-packages/ipykernel_launcher.py:42: RuntimeWarning: invalid value encountered in long_scalars\n"
     ]
    },
    {
     "name": "stdout",
     "output_type": "stream",
     "text": [
      "=== rates === 0.00015000000000000001\n"
     ]
    },
    {
     "name": "stderr",
     "output_type": "stream",
     "text": [
      "/opt/conda/lib/python3.7/site-packages/ipykernel_launcher.py:42: RuntimeWarning: invalid value encountered in long_scalars\n"
     ]
    },
    {
     "name": "stdout",
     "output_type": "stream",
     "text": [
      "=== rates === 0.00015999999999999999\n"
     ]
    },
    {
     "name": "stderr",
     "output_type": "stream",
     "text": [
      "/opt/conda/lib/python3.7/site-packages/ipykernel_launcher.py:42: RuntimeWarning: invalid value encountered in long_scalars\n"
     ]
    },
    {
     "name": "stdout",
     "output_type": "stream",
     "text": [
      "=== rates === 0.00017\n"
     ]
    },
    {
     "name": "stderr",
     "output_type": "stream",
     "text": [
      "/opt/conda/lib/python3.7/site-packages/ipykernel_launcher.py:42: RuntimeWarning: invalid value encountered in long_scalars\n"
     ]
    },
    {
     "name": "stdout",
     "output_type": "stream",
     "text": [
      "=== rates === 0.00017999999999999998\n"
     ]
    },
    {
     "name": "stderr",
     "output_type": "stream",
     "text": [
      "/opt/conda/lib/python3.7/site-packages/ipykernel_launcher.py:42: RuntimeWarning: invalid value encountered in long_scalars\n"
     ]
    },
    {
     "name": "stdout",
     "output_type": "stream",
     "text": [
      "=== rates === 0.00019\n"
     ]
    },
    {
     "name": "stderr",
     "output_type": "stream",
     "text": [
      "/opt/conda/lib/python3.7/site-packages/ipykernel_launcher.py:42: RuntimeWarning: invalid value encountered in long_scalars\n"
     ]
    },
    {
     "name": "stdout",
     "output_type": "stream",
     "text": [
      "=== rates === 0.00019999999999999998\n"
     ]
    },
    {
     "name": "stderr",
     "output_type": "stream",
     "text": [
      "/opt/conda/lib/python3.7/site-packages/ipykernel_launcher.py:42: RuntimeWarning: invalid value encountered in long_scalars\n"
     ]
    },
    {
     "name": "stdout",
     "output_type": "stream",
     "text": [
      "=== rates === 0.00021\n"
     ]
    },
    {
     "name": "stderr",
     "output_type": "stream",
     "text": [
      "/opt/conda/lib/python3.7/site-packages/ipykernel_launcher.py:42: RuntimeWarning: invalid value encountered in long_scalars\n"
     ]
    },
    {
     "name": "stdout",
     "output_type": "stream",
     "text": [
      "=== rates === 0.00021999999999999998\n"
     ]
    },
    {
     "name": "stderr",
     "output_type": "stream",
     "text": [
      "/opt/conda/lib/python3.7/site-packages/ipykernel_launcher.py:42: RuntimeWarning: invalid value encountered in long_scalars\n"
     ]
    },
    {
     "name": "stdout",
     "output_type": "stream",
     "text": [
      "=== rates === 0.00023\n"
     ]
    },
    {
     "name": "stderr",
     "output_type": "stream",
     "text": [
      "/opt/conda/lib/python3.7/site-packages/ipykernel_launcher.py:42: RuntimeWarning: invalid value encountered in long_scalars\n"
     ]
    },
    {
     "name": "stdout",
     "output_type": "stream",
     "text": [
      "=== rates === 0.00023999999999999998\n"
     ]
    },
    {
     "name": "stderr",
     "output_type": "stream",
     "text": [
      "/opt/conda/lib/python3.7/site-packages/ipykernel_launcher.py:42: RuntimeWarning: invalid value encountered in long_scalars\n"
     ]
    },
    {
     "name": "stdout",
     "output_type": "stream",
     "text": [
      "=== rates === 0.00025\n"
     ]
    },
    {
     "name": "stderr",
     "output_type": "stream",
     "text": [
      "/opt/conda/lib/python3.7/site-packages/ipykernel_launcher.py:42: RuntimeWarning: invalid value encountered in long_scalars\n"
     ]
    },
    {
     "name": "stdout",
     "output_type": "stream",
     "text": [
      "=== rates === 0.00026\n"
     ]
    },
    {
     "name": "stderr",
     "output_type": "stream",
     "text": [
      "/opt/conda/lib/python3.7/site-packages/ipykernel_launcher.py:42: RuntimeWarning: invalid value encountered in long_scalars\n"
     ]
    },
    {
     "name": "stdout",
     "output_type": "stream",
     "text": [
      "=== rates === 0.00027\n",
      "=== best recall === 0.7596899224806202\n",
      "=== rates === 0.00028\n",
      "=== rates === 0.00029\n",
      "=== best recall === 0.7723577235772358\n",
      "=== rates === 0.0003\n",
      "=== rates === 0.00031\n",
      "=== rates === 0.00031999999999999997\n",
      "=== best recall === 0.773109243697479\n",
      "=== rates === 0.00033\n",
      "=== best recall === 0.7796610169491526\n",
      "=== rates === 0.00033999999999999997\n",
      "=== best recall === 0.7982456140350878\n",
      "=== rates === 0.00035\n",
      "=== best recall === 0.8108108108108109\n",
      "=== rates === 0.00035999999999999997\n",
      "=== best recall === 0.8365384615384616\n",
      "=== rates === 0.00036999999999999994\n",
      "=== best recall === 0.8446601941747572\n",
      "=== rates === 0.00037999999999999997\n",
      "=== best recall === 0.8484848484848485\n",
      "=== rates === 0.00039\n",
      "=== rates === 0.00039999999999999996\n",
      "=== rates === 0.00040999999999999994\n",
      "=== rates === 0.00041999999999999996\n",
      "=== rates === 0.00043\n",
      "=== rates === 0.00043999999999999996\n",
      "=== rates === 0.00044999999999999993\n",
      "=== best recall === 0.8645833333333334\n",
      "=== rates === 0.00045999999999999996\n",
      "=== rates === 0.00047\n",
      "=== best recall === 0.865979381443299\n",
      "=== rates === 0.00047999999999999996\n",
      "=== rates === 0.00049\n",
      "12/12 [==============================] - 0s 3ms/step - loss: 0.4562 - accuracy: 0.8039\n",
      "Accuracy: 80.3922\n",
      "Model: \"sequential_97\"\n",
      "_________________________________________________________________\n",
      "Layer (type)                 Output Shape              Param #   \n",
      "=================================================================\n",
      "flatten_97 (Flatten)         (None, 26)                0         \n",
      "_________________________________________________________________\n",
      "dense_537 (Dense)            (None, 23)                621       \n",
      "_________________________________________________________________\n",
      "dense_538 (Dense)            (None, 2)                 48        \n",
      "=================================================================\n",
      "Total params: 669\n",
      "Trainable params: 669\n",
      "Non-trainable params: 0\n",
      "_________________________________________________________________\n",
      "None\n",
      "=== rates === 0.0001\n",
      "=== best recall === 0.42105263157894735\n",
      "=== rates === 0.00011\n",
      "=== best recall === 1.0\n",
      "=== rates === 0.00012\n"
     ]
    },
    {
     "name": "stderr",
     "output_type": "stream",
     "text": [
      "/opt/conda/lib/python3.7/site-packages/ipykernel_launcher.py:42: RuntimeWarning: invalid value encountered in long_scalars\n"
     ]
    },
    {
     "name": "stdout",
     "output_type": "stream",
     "text": [
      "=== rates === 0.00013000000000000002\n"
     ]
    },
    {
     "name": "stderr",
     "output_type": "stream",
     "text": [
      "/opt/conda/lib/python3.7/site-packages/ipykernel_launcher.py:42: RuntimeWarning: invalid value encountered in long_scalars\n"
     ]
    },
    {
     "name": "stdout",
     "output_type": "stream",
     "text": [
      "=== rates === 0.00014\n"
     ]
    },
    {
     "name": "stderr",
     "output_type": "stream",
     "text": [
      "/opt/conda/lib/python3.7/site-packages/ipykernel_launcher.py:42: RuntimeWarning: invalid value encountered in long_scalars\n"
     ]
    },
    {
     "name": "stdout",
     "output_type": "stream",
     "text": [
      "=== rates === 0.00015000000000000001\n"
     ]
    },
    {
     "name": "stderr",
     "output_type": "stream",
     "text": [
      "/opt/conda/lib/python3.7/site-packages/ipykernel_launcher.py:42: RuntimeWarning: invalid value encountered in long_scalars\n"
     ]
    },
    {
     "name": "stdout",
     "output_type": "stream",
     "text": [
      "=== rates === 0.00015999999999999999\n",
      "=== rates === 0.00017\n",
      "=== rates === 0.00017999999999999998\n",
      "=== rates === 0.00019\n",
      "=== rates === 0.00019999999999999998\n",
      "=== rates === 0.00021\n",
      "=== rates === 0.00021999999999999998\n",
      "=== rates === 0.00023\n",
      "=== rates === 0.00023999999999999998\n",
      "=== rates === 0.00025\n",
      "=== rates === 0.00026\n",
      "=== rates === 0.00027\n",
      "=== rates === 0.00028\n",
      "=== rates === 0.00029\n",
      "=== rates === 0.0003\n",
      "=== rates === 0.00031\n",
      "=== rates === 0.00031999999999999997\n",
      "=== rates === 0.00033\n",
      "=== rates === 0.00033999999999999997\n",
      "=== rates === 0.00035\n",
      "=== rates === 0.00035999999999999997\n",
      "=== rates === 0.00036999999999999994\n",
      "=== rates === 0.00037999999999999997\n",
      "=== rates === 0.00039\n",
      "=== rates === 0.00039999999999999996\n",
      "=== rates === 0.00040999999999999994\n",
      "=== rates === 0.00041999999999999996\n",
      "=== rates === 0.00043\n",
      "=== rates === 0.00043999999999999996\n",
      "=== rates === 0.00044999999999999993\n",
      "=== rates === 0.00045999999999999996\n",
      "=== rates === 0.00047\n",
      "=== rates === 0.00047999999999999996\n",
      "=== rates === 0.00049\n",
      "12/12 [==============================] - 0s 3ms/step - loss: 0.4265 - accuracy: 0.8011\n",
      "Accuracy: 80.1120\n",
      "Model: \"sequential_98\"\n",
      "_________________________________________________________________\n",
      "Layer (type)                 Output Shape              Param #   \n",
      "=================================================================\n",
      "flatten_98 (Flatten)         (None, 26)                0         \n",
      "_________________________________________________________________\n",
      "dense_539 (Dense)            (None, 25)                675       \n",
      "_________________________________________________________________\n",
      "dense_540 (Dense)            (None, 25)                650       \n",
      "_________________________________________________________________\n",
      "dense_541 (Dense)            (None, 25)                650       \n",
      "_________________________________________________________________\n",
      "dense_542 (Dense)            (None, 25)                650       \n",
      "_________________________________________________________________\n",
      "dense_543 (Dense)            (None, 25)                650       \n",
      "_________________________________________________________________\n",
      "dense_544 (Dense)            (None, 25)                650       \n",
      "_________________________________________________________________\n",
      "dense_545 (Dense)            (None, 25)                650       \n",
      "_________________________________________________________________\n",
      "dense_546 (Dense)            (None, 2)                 52        \n",
      "=================================================================\n",
      "Total params: 4,627\n",
      "Trainable params: 4,627\n",
      "Non-trainable params: 0\n",
      "_________________________________________________________________\n",
      "None\n",
      "=== rates === 0.0001\n"
     ]
    },
    {
     "name": "stderr",
     "output_type": "stream",
     "text": [
      "/opt/conda/lib/python3.7/site-packages/ipykernel_launcher.py:42: RuntimeWarning: invalid value encountered in long_scalars\n"
     ]
    },
    {
     "name": "stdout",
     "output_type": "stream",
     "text": [
      "=== rates === 0.00011\n"
     ]
    },
    {
     "name": "stderr",
     "output_type": "stream",
     "text": [
      "/opt/conda/lib/python3.7/site-packages/ipykernel_launcher.py:42: RuntimeWarning: invalid value encountered in long_scalars\n"
     ]
    },
    {
     "name": "stdout",
     "output_type": "stream",
     "text": [
      "=== rates === 0.00012\n"
     ]
    },
    {
     "name": "stderr",
     "output_type": "stream",
     "text": [
      "/opt/conda/lib/python3.7/site-packages/ipykernel_launcher.py:42: RuntimeWarning: invalid value encountered in long_scalars\n"
     ]
    },
    {
     "name": "stdout",
     "output_type": "stream",
     "text": [
      "=== rates === 0.00013000000000000002\n"
     ]
    },
    {
     "name": "stderr",
     "output_type": "stream",
     "text": [
      "/opt/conda/lib/python3.7/site-packages/ipykernel_launcher.py:42: RuntimeWarning: invalid value encountered in long_scalars\n"
     ]
    },
    {
     "name": "stdout",
     "output_type": "stream",
     "text": [
      "=== rates === 0.00014\n"
     ]
    },
    {
     "name": "stderr",
     "output_type": "stream",
     "text": [
      "/opt/conda/lib/python3.7/site-packages/ipykernel_launcher.py:42: RuntimeWarning: invalid value encountered in long_scalars\n"
     ]
    },
    {
     "name": "stdout",
     "output_type": "stream",
     "text": [
      "=== rates === 0.00015000000000000001\n"
     ]
    },
    {
     "name": "stderr",
     "output_type": "stream",
     "text": [
      "/opt/conda/lib/python3.7/site-packages/ipykernel_launcher.py:42: RuntimeWarning: invalid value encountered in long_scalars\n"
     ]
    },
    {
     "name": "stdout",
     "output_type": "stream",
     "text": [
      "=== rates === 0.00015999999999999999\n"
     ]
    },
    {
     "name": "stderr",
     "output_type": "stream",
     "text": [
      "/opt/conda/lib/python3.7/site-packages/ipykernel_launcher.py:42: RuntimeWarning: invalid value encountered in long_scalars\n"
     ]
    },
    {
     "name": "stdout",
     "output_type": "stream",
     "text": [
      "=== rates === 0.00017\n"
     ]
    },
    {
     "name": "stderr",
     "output_type": "stream",
     "text": [
      "/opt/conda/lib/python3.7/site-packages/ipykernel_launcher.py:42: RuntimeWarning: invalid value encountered in long_scalars\n"
     ]
    },
    {
     "name": "stdout",
     "output_type": "stream",
     "text": [
      "=== rates === 0.00017999999999999998\n"
     ]
    },
    {
     "name": "stderr",
     "output_type": "stream",
     "text": [
      "/opt/conda/lib/python3.7/site-packages/ipykernel_launcher.py:42: RuntimeWarning: invalid value encountered in long_scalars\n"
     ]
    },
    {
     "name": "stdout",
     "output_type": "stream",
     "text": [
      "=== rates === 0.00019\n"
     ]
    },
    {
     "name": "stderr",
     "output_type": "stream",
     "text": [
      "/opt/conda/lib/python3.7/site-packages/ipykernel_launcher.py:42: RuntimeWarning: invalid value encountered in long_scalars\n"
     ]
    },
    {
     "name": "stdout",
     "output_type": "stream",
     "text": [
      "=== rates === 0.00019999999999999998\n"
     ]
    },
    {
     "name": "stderr",
     "output_type": "stream",
     "text": [
      "/opt/conda/lib/python3.7/site-packages/ipykernel_launcher.py:42: RuntimeWarning: invalid value encountered in long_scalars\n"
     ]
    },
    {
     "name": "stdout",
     "output_type": "stream",
     "text": [
      "=== rates === 0.00021\n"
     ]
    },
    {
     "name": "stderr",
     "output_type": "stream",
     "text": [
      "/opt/conda/lib/python3.7/site-packages/ipykernel_launcher.py:42: RuntimeWarning: invalid value encountered in long_scalars\n"
     ]
    },
    {
     "name": "stdout",
     "output_type": "stream",
     "text": [
      "=== rates === 0.00021999999999999998\n"
     ]
    },
    {
     "name": "stderr",
     "output_type": "stream",
     "text": [
      "/opt/conda/lib/python3.7/site-packages/ipykernel_launcher.py:42: RuntimeWarning: invalid value encountered in long_scalars\n"
     ]
    },
    {
     "name": "stdout",
     "output_type": "stream",
     "text": [
      "=== rates === 0.00023\n"
     ]
    },
    {
     "name": "stderr",
     "output_type": "stream",
     "text": [
      "/opt/conda/lib/python3.7/site-packages/ipykernel_launcher.py:42: RuntimeWarning: invalid value encountered in long_scalars\n"
     ]
    },
    {
     "name": "stdout",
     "output_type": "stream",
     "text": [
      "=== rates === 0.00023999999999999998\n"
     ]
    },
    {
     "name": "stderr",
     "output_type": "stream",
     "text": [
      "/opt/conda/lib/python3.7/site-packages/ipykernel_launcher.py:42: RuntimeWarning: invalid value encountered in long_scalars\n"
     ]
    },
    {
     "name": "stdout",
     "output_type": "stream",
     "text": [
      "=== rates === 0.00025\n"
     ]
    },
    {
     "name": "stderr",
     "output_type": "stream",
     "text": [
      "/opt/conda/lib/python3.7/site-packages/ipykernel_launcher.py:42: RuntimeWarning: invalid value encountered in long_scalars\n"
     ]
    },
    {
     "name": "stdout",
     "output_type": "stream",
     "text": [
      "=== rates === 0.00026\n"
     ]
    },
    {
     "name": "stderr",
     "output_type": "stream",
     "text": [
      "/opt/conda/lib/python3.7/site-packages/ipykernel_launcher.py:42: RuntimeWarning: invalid value encountered in long_scalars\n"
     ]
    },
    {
     "name": "stdout",
     "output_type": "stream",
     "text": [
      "=== rates === 0.00027\n"
     ]
    },
    {
     "name": "stderr",
     "output_type": "stream",
     "text": [
      "/opt/conda/lib/python3.7/site-packages/ipykernel_launcher.py:42: RuntimeWarning: invalid value encountered in long_scalars\n"
     ]
    },
    {
     "name": "stdout",
     "output_type": "stream",
     "text": [
      "=== rates === 0.00028\n",
      "=== best recall === 0.75\n",
      "=== rates === 0.00029\n",
      "=== rates === 0.0003\n",
      "=== best recall === 0.7575757575757576\n",
      "=== rates === 0.00031\n",
      "=== rates === 0.00031999999999999997\n",
      "=== rates === 0.00033\n",
      "=== best recall === 0.768\n",
      "=== rates === 0.00033999999999999997\n",
      "=== rates === 0.00035\n",
      "=== best recall === 0.768595041322314\n",
      "=== rates === 0.00035999999999999997\n",
      "=== rates === 0.00036999999999999994\n",
      "=== best recall === 0.7815126050420168\n",
      "=== rates === 0.00037999999999999997\n",
      "=== best recall === 0.8017241379310345\n",
      "=== rates === 0.00039\n",
      "=== best recall === 0.8070175438596491\n",
      "=== rates === 0.00039999999999999996\n",
      "=== best recall === 0.8198198198198198\n",
      "=== rates === 0.00040999999999999994\n",
      "=== best recall === 0.8256880733944955\n",
      "=== rates === 0.00041999999999999996\n",
      "=== best recall === 0.8446601941747572\n",
      "=== rates === 0.00043\n",
      "=== best recall === 0.8514851485148515\n",
      "=== rates === 0.00043999999999999996\n",
      "=== rates === 0.00044999999999999993\n",
      "=== rates === 0.00045999999999999996\n",
      "=== rates === 0.00047\n",
      "=== rates === 0.00047999999999999996\n",
      "=== rates === 0.00049\n",
      "12/12 [==============================] - 0s 3ms/step - loss: 0.4394 - accuracy: 0.8151\n",
      "Accuracy: 81.5126\n",
      "Model: \"sequential_99\"\n",
      "_________________________________________________________________\n",
      "Layer (type)                 Output Shape              Param #   \n",
      "=================================================================\n",
      "flatten_99 (Flatten)         (None, 26)                0         \n",
      "_________________________________________________________________\n",
      "dense_547 (Dense)            (None, 23)                621       \n",
      "_________________________________________________________________\n",
      "dense_548 (Dense)            (None, 2)                 48        \n",
      "=================================================================\n",
      "Total params: 669\n",
      "Trainable params: 669\n",
      "Non-trainable params: 0\n",
      "_________________________________________________________________\n",
      "None\n",
      "=== rates === 0.0001\n",
      "=== best recall === 0.38375350140056025\n",
      "=== rates === 0.00011\n",
      "=== best recall === 0.5103448275862069\n",
      "=== rates === 0.00012\n",
      "=== best recall === 1.0\n",
      "=== rates === 0.00013000000000000002\n"
     ]
    },
    {
     "name": "stderr",
     "output_type": "stream",
     "text": [
      "/opt/conda/lib/python3.7/site-packages/ipykernel_launcher.py:42: RuntimeWarning: invalid value encountered in long_scalars\n"
     ]
    },
    {
     "name": "stdout",
     "output_type": "stream",
     "text": [
      "=== rates === 0.00014\n"
     ]
    },
    {
     "name": "stderr",
     "output_type": "stream",
     "text": [
      "/opt/conda/lib/python3.7/site-packages/ipykernel_launcher.py:42: RuntimeWarning: invalid value encountered in long_scalars\n"
     ]
    },
    {
     "name": "stdout",
     "output_type": "stream",
     "text": [
      "=== rates === 0.00015000000000000001\n"
     ]
    },
    {
     "name": "stderr",
     "output_type": "stream",
     "text": [
      "/opt/conda/lib/python3.7/site-packages/ipykernel_launcher.py:42: RuntimeWarning: invalid value encountered in long_scalars\n"
     ]
    },
    {
     "name": "stdout",
     "output_type": "stream",
     "text": [
      "=== rates === 0.00015999999999999999\n",
      "=== rates === 0.00017\n",
      "=== rates === 0.00017999999999999998\n",
      "=== rates === 0.00019\n",
      "=== rates === 0.00019999999999999998\n",
      "=== rates === 0.00021\n",
      "=== rates === 0.00021999999999999998\n",
      "=== rates === 0.00023\n",
      "=== rates === 0.00023999999999999998\n",
      "=== rates === 0.00025\n",
      "=== rates === 0.00026\n",
      "=== rates === 0.00027\n",
      "=== rates === 0.00028\n",
      "=== rates === 0.00029\n",
      "=== rates === 0.0003\n",
      "=== rates === 0.00031\n",
      "=== rates === 0.00031999999999999997\n",
      "=== rates === 0.00033\n",
      "=== rates === 0.00033999999999999997\n",
      "=== rates === 0.00035\n",
      "=== rates === 0.00035999999999999997\n",
      "=== rates === 0.00036999999999999994\n",
      "=== rates === 0.00037999999999999997\n",
      "=== rates === 0.00039\n",
      "=== rates === 0.00039999999999999996\n",
      "=== rates === 0.00040999999999999994\n",
      "=== rates === 0.00041999999999999996\n",
      "=== rates === 0.00043\n",
      "=== rates === 0.00043999999999999996\n",
      "=== rates === 0.00044999999999999993\n",
      "=== rates === 0.00045999999999999996\n",
      "=== rates === 0.00047\n",
      "=== rates === 0.00047999999999999996\n",
      "=== rates === 0.00049\n",
      "12/12 [==============================] - 0s 2ms/step - loss: 0.4252 - accuracy: 0.8039\n",
      "Accuracy: 80.3922\n",
      "Model: \"sequential_100\"\n",
      "_________________________________________________________________\n",
      "Layer (type)                 Output Shape              Param #   \n",
      "=================================================================\n",
      "flatten_100 (Flatten)        (None, 26)                0         \n",
      "_________________________________________________________________\n",
      "dense_549 (Dense)            (None, 48)                1296      \n",
      "_________________________________________________________________\n",
      "dense_550 (Dense)            (None, 48)                2352      \n",
      "_________________________________________________________________\n",
      "dense_551 (Dense)            (None, 48)                2352      \n",
      "_________________________________________________________________\n",
      "dense_552 (Dense)            (None, 2)                 98        \n",
      "=================================================================\n",
      "Total params: 6,098\n",
      "Trainable params: 6,098\n",
      "Non-trainable params: 0\n",
      "_________________________________________________________________\n",
      "None\n",
      "=== rates === 0.0001\n"
     ]
    },
    {
     "name": "stderr",
     "output_type": "stream",
     "text": [
      "/opt/conda/lib/python3.7/site-packages/ipykernel_launcher.py:42: RuntimeWarning: invalid value encountered in long_scalars\n"
     ]
    },
    {
     "name": "stdout",
     "output_type": "stream",
     "text": [
      "=== rates === 0.00011\n"
     ]
    },
    {
     "name": "stderr",
     "output_type": "stream",
     "text": [
      "/opt/conda/lib/python3.7/site-packages/ipykernel_launcher.py:42: RuntimeWarning: invalid value encountered in long_scalars\n"
     ]
    },
    {
     "name": "stdout",
     "output_type": "stream",
     "text": [
      "=== rates === 0.00012\n"
     ]
    },
    {
     "name": "stderr",
     "output_type": "stream",
     "text": [
      "/opt/conda/lib/python3.7/site-packages/ipykernel_launcher.py:42: RuntimeWarning: invalid value encountered in long_scalars\n"
     ]
    },
    {
     "name": "stdout",
     "output_type": "stream",
     "text": [
      "=== rates === 0.00013000000000000002\n"
     ]
    },
    {
     "name": "stderr",
     "output_type": "stream",
     "text": [
      "/opt/conda/lib/python3.7/site-packages/ipykernel_launcher.py:42: RuntimeWarning: invalid value encountered in long_scalars\n"
     ]
    },
    {
     "name": "stdout",
     "output_type": "stream",
     "text": [
      "=== rates === 0.00014\n"
     ]
    },
    {
     "name": "stderr",
     "output_type": "stream",
     "text": [
      "/opt/conda/lib/python3.7/site-packages/ipykernel_launcher.py:42: RuntimeWarning: invalid value encountered in long_scalars\n"
     ]
    },
    {
     "name": "stdout",
     "output_type": "stream",
     "text": [
      "=== rates === 0.00015000000000000001\n"
     ]
    },
    {
     "name": "stderr",
     "output_type": "stream",
     "text": [
      "/opt/conda/lib/python3.7/site-packages/ipykernel_launcher.py:42: RuntimeWarning: invalid value encountered in long_scalars\n"
     ]
    },
    {
     "name": "stdout",
     "output_type": "stream",
     "text": [
      "=== rates === 0.00015999999999999999\n"
     ]
    },
    {
     "name": "stderr",
     "output_type": "stream",
     "text": [
      "/opt/conda/lib/python3.7/site-packages/ipykernel_launcher.py:42: RuntimeWarning: invalid value encountered in long_scalars\n"
     ]
    },
    {
     "name": "stdout",
     "output_type": "stream",
     "text": [
      "=== rates === 0.00017\n"
     ]
    },
    {
     "name": "stderr",
     "output_type": "stream",
     "text": [
      "/opt/conda/lib/python3.7/site-packages/ipykernel_launcher.py:42: RuntimeWarning: invalid value encountered in long_scalars\n"
     ]
    },
    {
     "name": "stdout",
     "output_type": "stream",
     "text": [
      "=== rates === 0.00017999999999999998\n",
      "=== best recall === 0.9166666666666666\n",
      "=== rates === 0.00019\n",
      "=== best recall === 0.9302325581395349\n",
      "=== rates === 0.00019999999999999998\n",
      "=== rates === 0.00021\n",
      "=== rates === 0.00021999999999999998\n",
      "=== rates === 0.00023\n",
      "=== rates === 0.00023999999999999998\n",
      "=== rates === 0.00025\n",
      "=== rates === 0.00026\n",
      "=== rates === 0.00027\n",
      "=== rates === 0.00028\n",
      "=== rates === 0.00029\n",
      "=== rates === 0.0003\n",
      "=== rates === 0.00031\n",
      "=== rates === 0.00031999999999999997\n",
      "=== rates === 0.00033\n",
      "=== rates === 0.00033999999999999997\n",
      "=== rates === 0.00035\n",
      "=== rates === 0.00035999999999999997\n",
      "=== rates === 0.00036999999999999994\n",
      "=== rates === 0.00037999999999999997\n",
      "=== rates === 0.00039\n",
      "=== rates === 0.00039999999999999996\n",
      "=== rates === 0.00040999999999999994\n",
      "=== rates === 0.00041999999999999996\n",
      "=== rates === 0.00043\n",
      "=== rates === 0.00043999999999999996\n",
      "=== rates === 0.00044999999999999993\n",
      "=== rates === 0.00045999999999999996\n",
      "=== rates === 0.00047\n",
      "=== rates === 0.00047999999999999996\n",
      "=== rates === 0.00049\n",
      "12/12 [==============================] - 0s 2ms/step - loss: 0.4329 - accuracy: 0.8095\n",
      "Accuracy: 80.9524\n"
     ]
    }
   ],
   "source": [
    "import random\n",
    "\n",
    "best_recall_overall = recall_model\n",
    "\n",
    "attempts = range(0,100)\n",
    "\n",
    "\n",
    "for attempt in attempts:\n",
    "    no_columns = X_train.shape[1]\n",
    "    layers     = range(2, random.randint(3,10))\n",
    "    no_nodes   = random.randint(20,50)\n",
    "    \n",
    "    \n",
    "    model = tf.keras.Sequential()\n",
    "    model.add(tf.keras.layers.Flatten(input_shape=(no_columns,)))\n",
    "    \n",
    "    for layer in layers:\n",
    "        model.add(tf.keras.layers.Dense(no_nodes, activation=\"sigmoid\"))\n",
    "    \n",
    "    \n",
    "    model.add(tf.keras.layers.Dense(2, activation=\"softmax\"))\n",
    "    \n",
    "    print(model.summary())\n",
    "    \n",
    "    best_recall = 0.0\n",
    "    learning_rates = np.arange(0.0001,0.0005,0.00001)\n",
    "    for rate in learning_rates:\n",
    "        print(\"=== rates ===\", rate)\n",
    "        opt = tf.keras.optimizers.Adam(learning_rate = rate)\n",
    "        model.compile(optimizer= opt, \n",
    "                  loss = \"binary_crossentropy\",\n",
    "                  metrics=[\"accuracy\"])\n",
    "\n",
    "        history = model.fit(X_train,\n",
    "                        y_train_encode,\n",
    "                        validation_data=(X_test, y_test_encode),\n",
    "                        epochs = 10,\n",
    "                        verbose = False)\n",
    "        y_pred = model.predict(X_test)\n",
    "        Y_pred = np.argmax(model.predict(X_test),axis=1)\n",
    "        cm = confusion_matrix(y_test, Y_pred)\n",
    "        recall = cm[1][1]/(cm[0][1] + cm[1][1]) #TP/(TP+FN)\n",
    "    \n",
    "        if recall > best_recall:\n",
    "            best_recall = recall\n",
    "            best_rate   = rate \n",
    "            print(\"=== best recall ===\" , recall)\n",
    "\n",
    "        if best_recall == 1.0:\n",
    "            learning_rates = []\n",
    "\n",
    "    opt = tf.keras.optimizers.Adam(learning_rate = best_rate)\n",
    "    model.compile(optimizer= opt, \n",
    "              loss = \"binary_crossentropy\",\n",
    "              metrics=[\"accuracy\"])\n",
    "\n",
    "    history = model.fit(X_train,\n",
    "                    y_train_encode,\n",
    "                    validation_data=(X_test, y_test_encode),\n",
    "                    epochs = 800,\n",
    "                    verbose = False)\n",
    "    \n",
    "    _, accuracy = model.evaluate(X_test, y_test_encode)\n",
    "    print('Accuracy: %.4f' % (accuracy*100))\n",
    "    \n",
    "    y_pred = model.predict(X_test)\n",
    "    Y_pred = np.argmax(model.predict(X_test),axis=1)\n",
    "    cm = confusion_matrix(y_test, Y_pred)\n",
    "    recall = cm[1][1]/(cm[0][1] + cm[1][1]) #TP/(TP+FN)\n",
    "    \n",
    "    if recall > best_recall_overall:\n",
    "        best_recall_overall = recall\n",
    "        best_model = tf.keras.models.clone_model(model)\n",
    "        print(\"=== best recall overall ===\" , recall)\n",
    "    "
   ]
  },
  {
   "cell_type": "code",
   "execution_count": 79,
   "id": "bbc7a561",
   "metadata": {
    "execution": {
     "iopub.execute_input": "2022-12-06T20:20:14.600664Z",
     "iopub.status.busy": "2022-12-06T20:20:14.599967Z",
     "iopub.status.idle": "2022-12-06T20:20:14.606448Z",
     "shell.execute_reply": "2022-12-06T20:20:14.604526Z"
    },
    "papermill": {
     "duration": 0.331773,
     "end_time": "2022-12-06T20:20:14.609601",
     "exception": false,
     "start_time": "2022-12-06T20:20:14.277828",
     "status": "completed"
    },
    "tags": []
   },
   "outputs": [
    {
     "name": "stdout",
     "output_type": "stream",
     "text": [
      "Model: \"sequential_42\"\n",
      "_________________________________________________________________\n",
      "Layer (type)                 Output Shape              Param #   \n",
      "=================================================================\n",
      "flatten_42 (Flatten)         (None, 26)                0         \n",
      "_________________________________________________________________\n",
      "dense_230 (Dense)            (None, 33)                891       \n",
      "_________________________________________________________________\n",
      "dense_231 (Dense)            (None, 33)                1122      \n",
      "_________________________________________________________________\n",
      "dense_232 (Dense)            (None, 33)                1122      \n",
      "_________________________________________________________________\n",
      "dense_233 (Dense)            (None, 2)                 68        \n",
      "=================================================================\n",
      "Total params: 3,203\n",
      "Trainable params: 3,203\n",
      "Non-trainable params: 0\n",
      "_________________________________________________________________\n"
     ]
    }
   ],
   "source": [
    "best_model.summary()"
   ]
  },
  {
   "cell_type": "code",
   "execution_count": null,
   "id": "f6bfc543",
   "metadata": {
    "papermill": {
     "duration": 0.423657,
     "end_time": "2022-12-06T20:20:15.368469",
     "exception": false,
     "start_time": "2022-12-06T20:20:14.944812",
     "status": "completed"
    },
    "tags": []
   },
   "outputs": [],
   "source": []
  },
  {
   "cell_type": "code",
   "execution_count": null,
   "id": "0c56ef2a",
   "metadata": {
    "papermill": {
     "duration": 0.323395,
     "end_time": "2022-12-06T20:20:16.015362",
     "exception": false,
     "start_time": "2022-12-06T20:20:15.691967",
     "status": "completed"
    },
    "tags": []
   },
   "outputs": [],
   "source": []
  },
  {
   "cell_type": "code",
   "execution_count": null,
   "id": "748128b7",
   "metadata": {
    "papermill": {
     "duration": 0.330416,
     "end_time": "2022-12-06T20:20:16.668302",
     "exception": false,
     "start_time": "2022-12-06T20:20:16.337886",
     "status": "completed"
    },
    "tags": []
   },
   "outputs": [],
   "source": []
  },
  {
   "cell_type": "code",
   "execution_count": null,
   "id": "93e3e274",
   "metadata": {
    "papermill": {
     "duration": 0.321425,
     "end_time": "2022-12-06T20:20:17.313261",
     "exception": false,
     "start_time": "2022-12-06T20:20:16.991836",
     "status": "completed"
    },
    "tags": []
   },
   "outputs": [],
   "source": []
  },
  {
   "cell_type": "code",
   "execution_count": null,
   "id": "724dff3b",
   "metadata": {
    "papermill": {
     "duration": 0.424734,
     "end_time": "2022-12-06T20:20:18.054830",
     "exception": false,
     "start_time": "2022-12-06T20:20:17.630096",
     "status": "completed"
    },
    "tags": []
   },
   "outputs": [],
   "source": []
  },
  {
   "cell_type": "code",
   "execution_count": null,
   "id": "5a2bf71b",
   "metadata": {
    "papermill": {
     "duration": 0.316994,
     "end_time": "2022-12-06T20:20:18.693270",
     "exception": false,
     "start_time": "2022-12-06T20:20:18.376276",
     "status": "completed"
    },
    "tags": []
   },
   "outputs": [],
   "source": []
  }
 ],
 "metadata": {
  "kernelspec": {
   "display_name": "Python 3",
   "language": "python",
   "name": "python3"
  },
  "language_info": {
   "codemirror_mode": {
    "name": "ipython",
    "version": 3
   },
   "file_extension": ".py",
   "mimetype": "text/x-python",
   "name": "python",
   "nbconvert_exporter": "python",
   "pygments_lexer": "ipython3",
   "version": "3.7.12"
  },
  "papermill": {
   "default_parameters": {},
   "duration": 17042.457522,
   "end_time": "2022-12-06T20:20:22.330859",
   "environment_variables": {},
   "exception": null,
   "input_path": "__notebook__.ipynb",
   "output_path": "__notebook__.ipynb",
   "parameters": {},
   "start_time": "2022-12-06T15:36:19.873337",
   "version": "2.3.4"
  }
 },
 "nbformat": 4,
 "nbformat_minor": 5
}
