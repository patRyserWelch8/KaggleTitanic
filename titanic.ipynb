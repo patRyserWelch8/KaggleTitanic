{
 "cells": [
  {
   "cell_type": "code",
   "execution_count": 1,
   "id": "a4013fb5",
   "metadata": {
    "_cell_guid": "b1076dfc-b9ad-4769-8c92-a6c4dae69d19",
    "_uuid": "8f2839f25d086af736a60e9eeb907d3b93b6e0e5",
    "execution": {
     "iopub.execute_input": "2022-12-06T16:08:33.278417Z",
     "iopub.status.busy": "2022-12-06T16:08:33.277741Z",
     "iopub.status.idle": "2022-12-06T16:08:33.293844Z",
     "shell.execute_reply": "2022-12-06T16:08:33.292694Z"
    },
    "papermill": {
     "duration": 0.045715,
     "end_time": "2022-12-06T16:08:33.296614",
     "exception": false,
     "start_time": "2022-12-06T16:08:33.250899",
     "status": "completed"
    },
    "tags": []
   },
   "outputs": [
    {
     "name": "stdout",
     "output_type": "stream",
     "text": [
      "/kaggle/input/titanic/train.csv\n",
      "/kaggle/input/titanic/test.csv\n",
      "/kaggle/input/titanic/gender_submission.csv\n"
     ]
    }
   ],
   "source": [
    "# This Python 3 environment comes with many helpful analytics libraries installed\n",
    "# It is defined by the kaggle/python Docker image: https://github.com/kaggle/docker-python\n",
    "# For example, here's several helpful packages to load\n",
    "\n",
    "import numpy as np # linear algebra\n",
    "import pandas as pd # data processing, CSV file I/O (e.g. pd.read_csv)\n",
    "\n",
    "# Input data files are available in the read-only \"../input/\" directory\n",
    "# For example, running this (by clicking run or pressing Shift+Enter) will list all files under the input directory\n",
    "\n",
    "import os\n",
    "for dirname, _, filenames in os.walk('/kaggle/input'):\n",
    "    for filename in filenames:\n",
    "        print(os.path.join(dirname, filename))\n",
    "\n",
    "# You can write up to 20GB to the current directory (/kaggle/working/) that gets preserved as output when you create a version using \"Save & Run All\" \n",
    "# You can also write temporary files to /kaggle/temp/, but they won't be saved outside of the current session"
   ]
  },
  {
   "cell_type": "markdown",
   "id": "84e6b871",
   "metadata": {
    "papermill": {
     "duration": 0.020638,
     "end_time": "2022-12-06T16:08:33.339276",
     "exception": false,
     "start_time": "2022-12-06T16:08:33.318638",
     "status": "completed"
    },
    "tags": []
   },
   "source": [
    "# Libraries"
   ]
  },
  {
   "cell_type": "code",
   "execution_count": 2,
   "id": "816f3799",
   "metadata": {
    "execution": {
     "iopub.execute_input": "2022-12-06T16:08:33.382017Z",
     "iopub.status.busy": "2022-12-06T16:08:33.381591Z",
     "iopub.status.idle": "2022-12-06T16:08:42.086116Z",
     "shell.execute_reply": "2022-12-06T16:08:42.084925Z"
    },
    "papermill": {
     "duration": 8.728684,
     "end_time": "2022-12-06T16:08:42.088865",
     "exception": false,
     "start_time": "2022-12-06T16:08:33.360181",
     "status": "completed"
    },
    "tags": []
   },
   "outputs": [],
   "source": [
    "import numpy as np \n",
    "import pandas as pd \n",
    "import seaborn as sb\n",
    "import os\n",
    "import random as rand\n",
    "import matplotlib.pyplot as plt\n",
    "from sklearn.model_selection import StratifiedShuffleSplit\n",
    "import tensorflow as tf\n",
    "from tensorflow.keras.models import Model\n",
    "from tensorflow.keras.models import Sequential\n",
    "from keras.layers import Input\n",
    "from keras.layers import Dense\n",
    "from keras.layers import Flatten\n",
    "from sklearn.metrics import confusion_matrix"
   ]
  },
  {
   "cell_type": "markdown",
   "id": "2f5e0b52",
   "metadata": {
    "papermill": {
     "duration": 0.020115,
     "end_time": "2022-12-06T16:08:42.129516",
     "exception": false,
     "start_time": "2022-12-06T16:08:42.109401",
     "status": "completed"
    },
    "tags": []
   },
   "source": [
    "# Data engineering"
   ]
  },
  {
   "cell_type": "code",
   "execution_count": 3,
   "id": "2667062d",
   "metadata": {
    "execution": {
     "iopub.execute_input": "2022-12-06T16:08:42.172525Z",
     "iopub.status.busy": "2022-12-06T16:08:42.171508Z",
     "iopub.status.idle": "2022-12-06T16:08:43.291995Z",
     "shell.execute_reply": "2022-12-06T16:08:43.290368Z"
    },
    "papermill": {
     "duration": 1.145168,
     "end_time": "2022-12-06T16:08:43.294991",
     "exception": false,
     "start_time": "2022-12-06T16:08:42.149823",
     "status": "completed"
    },
    "tags": []
   },
   "outputs": [
    {
     "name": "stdout",
     "output_type": "stream",
     "text": [
      "gender_submission.csv  test.csv  train.csv\r\n"
     ]
    }
   ],
   "source": [
    "!ls ../input/titanic/"
   ]
  },
  {
   "cell_type": "code",
   "execution_count": 4,
   "id": "a3e0e31c",
   "metadata": {
    "execution": {
     "iopub.execute_input": "2022-12-06T16:08:43.340497Z",
     "iopub.status.busy": "2022-12-06T16:08:43.339106Z",
     "iopub.status.idle": "2022-12-06T16:08:43.346093Z",
     "shell.execute_reply": "2022-12-06T16:08:43.344649Z"
    },
    "papermill": {
     "duration": 0.032408,
     "end_time": "2022-12-06T16:08:43.348914",
     "exception": false,
     "start_time": "2022-12-06T16:08:43.316506",
     "status": "completed"
    },
    "tags": []
   },
   "outputs": [],
   "source": [
    "train_data_path = '../input/titanic/train.csv'\n",
    "test_data_path = '../input/titanic/test.csv'"
   ]
  },
  {
   "cell_type": "markdown",
   "id": "f7d34229",
   "metadata": {
    "papermill": {
     "duration": 0.020377,
     "end_time": "2022-12-06T16:08:43.389689",
     "exception": false,
     "start_time": "2022-12-06T16:08:43.369312",
     "status": "completed"
    },
    "tags": []
   },
   "source": [
    "## Test data \n",
    "Explore test data "
   ]
  },
  {
   "cell_type": "code",
   "execution_count": 5,
   "id": "fa64f535",
   "metadata": {
    "execution": {
     "iopub.execute_input": "2022-12-06T16:08:43.432868Z",
     "iopub.status.busy": "2022-12-06T16:08:43.431801Z",
     "iopub.status.idle": "2022-12-06T16:08:43.465450Z",
     "shell.execute_reply": "2022-12-06T16:08:43.464435Z"
    },
    "papermill": {
     "duration": 0.057565,
     "end_time": "2022-12-06T16:08:43.467605",
     "exception": false,
     "start_time": "2022-12-06T16:08:43.410040",
     "status": "completed"
    },
    "tags": []
   },
   "outputs": [
    {
     "data": {
      "text/plain": [
       "Index(['PassengerId', 'Survived', 'Pclass', 'Name', 'Sex', 'Age', 'SibSp',\n",
       "       'Parch', 'Ticket', 'Fare', 'Cabin', 'Embarked'],\n",
       "      dtype='object')"
      ]
     },
     "execution_count": 5,
     "metadata": {},
     "output_type": "execute_result"
    }
   ],
   "source": [
    "titanic_train = pd.read_csv(train_data_path)\n",
    "titanic_train.columns\n",
    "\n"
   ]
  },
  {
   "cell_type": "code",
   "execution_count": 6,
   "id": "d10f507a",
   "metadata": {
    "execution": {
     "iopub.execute_input": "2022-12-06T16:08:43.510255Z",
     "iopub.status.busy": "2022-12-06T16:08:43.509768Z",
     "iopub.status.idle": "2022-12-06T16:08:43.573264Z",
     "shell.execute_reply": "2022-12-06T16:08:43.572163Z"
    },
    "papermill": {
     "duration": 0.088362,
     "end_time": "2022-12-06T16:08:43.576230",
     "exception": false,
     "start_time": "2022-12-06T16:08:43.487868",
     "status": "completed"
    },
    "tags": []
   },
   "outputs": [
    {
     "data": {
      "text/html": [
       "<div>\n",
       "<style scoped>\n",
       "    .dataframe tbody tr th:only-of-type {\n",
       "        vertical-align: middle;\n",
       "    }\n",
       "\n",
       "    .dataframe tbody tr th {\n",
       "        vertical-align: top;\n",
       "    }\n",
       "\n",
       "    .dataframe thead th {\n",
       "        text-align: right;\n",
       "    }\n",
       "</style>\n",
       "<table border=\"1\" class=\"dataframe\">\n",
       "  <thead>\n",
       "    <tr style=\"text-align: right;\">\n",
       "      <th></th>\n",
       "      <th>PassengerId</th>\n",
       "      <th>Survived</th>\n",
       "      <th>Pclass</th>\n",
       "      <th>Age</th>\n",
       "      <th>SibSp</th>\n",
       "      <th>Parch</th>\n",
       "      <th>Fare</th>\n",
       "    </tr>\n",
       "  </thead>\n",
       "  <tbody>\n",
       "    <tr>\n",
       "      <th>count</th>\n",
       "      <td>891.000000</td>\n",
       "      <td>891.000000</td>\n",
       "      <td>891.000000</td>\n",
       "      <td>714.000000</td>\n",
       "      <td>891.000000</td>\n",
       "      <td>891.000000</td>\n",
       "      <td>891.000000</td>\n",
       "    </tr>\n",
       "    <tr>\n",
       "      <th>mean</th>\n",
       "      <td>446.000000</td>\n",
       "      <td>0.383838</td>\n",
       "      <td>2.308642</td>\n",
       "      <td>29.699118</td>\n",
       "      <td>0.523008</td>\n",
       "      <td>0.381594</td>\n",
       "      <td>32.204208</td>\n",
       "    </tr>\n",
       "    <tr>\n",
       "      <th>std</th>\n",
       "      <td>257.353842</td>\n",
       "      <td>0.486592</td>\n",
       "      <td>0.836071</td>\n",
       "      <td>14.526497</td>\n",
       "      <td>1.102743</td>\n",
       "      <td>0.806057</td>\n",
       "      <td>49.693429</td>\n",
       "    </tr>\n",
       "    <tr>\n",
       "      <th>min</th>\n",
       "      <td>1.000000</td>\n",
       "      <td>0.000000</td>\n",
       "      <td>1.000000</td>\n",
       "      <td>0.420000</td>\n",
       "      <td>0.000000</td>\n",
       "      <td>0.000000</td>\n",
       "      <td>0.000000</td>\n",
       "    </tr>\n",
       "    <tr>\n",
       "      <th>25%</th>\n",
       "      <td>223.500000</td>\n",
       "      <td>0.000000</td>\n",
       "      <td>2.000000</td>\n",
       "      <td>20.125000</td>\n",
       "      <td>0.000000</td>\n",
       "      <td>0.000000</td>\n",
       "      <td>7.910400</td>\n",
       "    </tr>\n",
       "    <tr>\n",
       "      <th>50%</th>\n",
       "      <td>446.000000</td>\n",
       "      <td>0.000000</td>\n",
       "      <td>3.000000</td>\n",
       "      <td>28.000000</td>\n",
       "      <td>0.000000</td>\n",
       "      <td>0.000000</td>\n",
       "      <td>14.454200</td>\n",
       "    </tr>\n",
       "    <tr>\n",
       "      <th>75%</th>\n",
       "      <td>668.500000</td>\n",
       "      <td>1.000000</td>\n",
       "      <td>3.000000</td>\n",
       "      <td>38.000000</td>\n",
       "      <td>1.000000</td>\n",
       "      <td>0.000000</td>\n",
       "      <td>31.000000</td>\n",
       "    </tr>\n",
       "    <tr>\n",
       "      <th>max</th>\n",
       "      <td>891.000000</td>\n",
       "      <td>1.000000</td>\n",
       "      <td>3.000000</td>\n",
       "      <td>80.000000</td>\n",
       "      <td>8.000000</td>\n",
       "      <td>6.000000</td>\n",
       "      <td>512.329200</td>\n",
       "    </tr>\n",
       "  </tbody>\n",
       "</table>\n",
       "</div>"
      ],
      "text/plain": [
       "       PassengerId    Survived      Pclass         Age       SibSp  \\\n",
       "count   891.000000  891.000000  891.000000  714.000000  891.000000   \n",
       "mean    446.000000    0.383838    2.308642   29.699118    0.523008   \n",
       "std     257.353842    0.486592    0.836071   14.526497    1.102743   \n",
       "min       1.000000    0.000000    1.000000    0.420000    0.000000   \n",
       "25%     223.500000    0.000000    2.000000   20.125000    0.000000   \n",
       "50%     446.000000    0.000000    3.000000   28.000000    0.000000   \n",
       "75%     668.500000    1.000000    3.000000   38.000000    1.000000   \n",
       "max     891.000000    1.000000    3.000000   80.000000    8.000000   \n",
       "\n",
       "            Parch        Fare  \n",
       "count  891.000000  891.000000  \n",
       "mean     0.381594   32.204208  \n",
       "std      0.806057   49.693429  \n",
       "min      0.000000    0.000000  \n",
       "25%      0.000000    7.910400  \n",
       "50%      0.000000   14.454200  \n",
       "75%      0.000000   31.000000  \n",
       "max      6.000000  512.329200  "
      ]
     },
     "execution_count": 6,
     "metadata": {},
     "output_type": "execute_result"
    }
   ],
   "source": [
    "titanic_train.describe()"
   ]
  },
  {
   "cell_type": "code",
   "execution_count": 7,
   "id": "458b0fac",
   "metadata": {
    "execution": {
     "iopub.execute_input": "2022-12-06T16:08:43.619906Z",
     "iopub.status.busy": "2022-12-06T16:08:43.619510Z",
     "iopub.status.idle": "2022-12-06T16:08:43.637506Z",
     "shell.execute_reply": "2022-12-06T16:08:43.636499Z"
    },
    "papermill": {
     "duration": 0.042414,
     "end_time": "2022-12-06T16:08:43.639713",
     "exception": false,
     "start_time": "2022-12-06T16:08:43.597299",
     "status": "completed"
    },
    "tags": []
   },
   "outputs": [
    {
     "data": {
      "text/html": [
       "<div>\n",
       "<style scoped>\n",
       "    .dataframe tbody tr th:only-of-type {\n",
       "        vertical-align: middle;\n",
       "    }\n",
       "\n",
       "    .dataframe tbody tr th {\n",
       "        vertical-align: top;\n",
       "    }\n",
       "\n",
       "    .dataframe thead th {\n",
       "        text-align: right;\n",
       "    }\n",
       "</style>\n",
       "<table border=\"1\" class=\"dataframe\">\n",
       "  <thead>\n",
       "    <tr style=\"text-align: right;\">\n",
       "      <th></th>\n",
       "      <th>PassengerId</th>\n",
       "      <th>Survived</th>\n",
       "      <th>Pclass</th>\n",
       "      <th>Name</th>\n",
       "      <th>Sex</th>\n",
       "      <th>Age</th>\n",
       "      <th>SibSp</th>\n",
       "      <th>Parch</th>\n",
       "      <th>Ticket</th>\n",
       "      <th>Fare</th>\n",
       "      <th>Cabin</th>\n",
       "      <th>Embarked</th>\n",
       "    </tr>\n",
       "  </thead>\n",
       "  <tbody>\n",
       "    <tr>\n",
       "      <th>0</th>\n",
       "      <td>1</td>\n",
       "      <td>0</td>\n",
       "      <td>3</td>\n",
       "      <td>Braund, Mr. Owen Harris</td>\n",
       "      <td>male</td>\n",
       "      <td>22.0</td>\n",
       "      <td>1</td>\n",
       "      <td>0</td>\n",
       "      <td>A/5 21171</td>\n",
       "      <td>7.2500</td>\n",
       "      <td>NaN</td>\n",
       "      <td>S</td>\n",
       "    </tr>\n",
       "    <tr>\n",
       "      <th>1</th>\n",
       "      <td>2</td>\n",
       "      <td>1</td>\n",
       "      <td>1</td>\n",
       "      <td>Cumings, Mrs. John Bradley (Florence Briggs Th...</td>\n",
       "      <td>female</td>\n",
       "      <td>38.0</td>\n",
       "      <td>1</td>\n",
       "      <td>0</td>\n",
       "      <td>PC 17599</td>\n",
       "      <td>71.2833</td>\n",
       "      <td>C85</td>\n",
       "      <td>C</td>\n",
       "    </tr>\n",
       "    <tr>\n",
       "      <th>2</th>\n",
       "      <td>3</td>\n",
       "      <td>1</td>\n",
       "      <td>3</td>\n",
       "      <td>Heikkinen, Miss. Laina</td>\n",
       "      <td>female</td>\n",
       "      <td>26.0</td>\n",
       "      <td>0</td>\n",
       "      <td>0</td>\n",
       "      <td>STON/O2. 3101282</td>\n",
       "      <td>7.9250</td>\n",
       "      <td>NaN</td>\n",
       "      <td>S</td>\n",
       "    </tr>\n",
       "    <tr>\n",
       "      <th>3</th>\n",
       "      <td>4</td>\n",
       "      <td>1</td>\n",
       "      <td>1</td>\n",
       "      <td>Futrelle, Mrs. Jacques Heath (Lily May Peel)</td>\n",
       "      <td>female</td>\n",
       "      <td>35.0</td>\n",
       "      <td>1</td>\n",
       "      <td>0</td>\n",
       "      <td>113803</td>\n",
       "      <td>53.1000</td>\n",
       "      <td>C123</td>\n",
       "      <td>S</td>\n",
       "    </tr>\n",
       "    <tr>\n",
       "      <th>4</th>\n",
       "      <td>5</td>\n",
       "      <td>0</td>\n",
       "      <td>3</td>\n",
       "      <td>Allen, Mr. William Henry</td>\n",
       "      <td>male</td>\n",
       "      <td>35.0</td>\n",
       "      <td>0</td>\n",
       "      <td>0</td>\n",
       "      <td>373450</td>\n",
       "      <td>8.0500</td>\n",
       "      <td>NaN</td>\n",
       "      <td>S</td>\n",
       "    </tr>\n",
       "  </tbody>\n",
       "</table>\n",
       "</div>"
      ],
      "text/plain": [
       "   PassengerId  Survived  Pclass  \\\n",
       "0            1         0       3   \n",
       "1            2         1       1   \n",
       "2            3         1       3   \n",
       "3            4         1       1   \n",
       "4            5         0       3   \n",
       "\n",
       "                                                Name     Sex   Age  SibSp  \\\n",
       "0                            Braund, Mr. Owen Harris    male  22.0      1   \n",
       "1  Cumings, Mrs. John Bradley (Florence Briggs Th...  female  38.0      1   \n",
       "2                             Heikkinen, Miss. Laina  female  26.0      0   \n",
       "3       Futrelle, Mrs. Jacques Heath (Lily May Peel)  female  35.0      1   \n",
       "4                           Allen, Mr. William Henry    male  35.0      0   \n",
       "\n",
       "   Parch            Ticket     Fare Cabin Embarked  \n",
       "0      0         A/5 21171   7.2500   NaN        S  \n",
       "1      0          PC 17599  71.2833   C85        C  \n",
       "2      0  STON/O2. 3101282   7.9250   NaN        S  \n",
       "3      0            113803  53.1000  C123        S  \n",
       "4      0            373450   8.0500   NaN        S  "
      ]
     },
     "execution_count": 7,
     "metadata": {},
     "output_type": "execute_result"
    }
   ],
   "source": [
    "titanic_train.head()"
   ]
  },
  {
   "cell_type": "markdown",
   "id": "7a635633",
   "metadata": {
    "papermill": {
     "duration": 0.020939,
     "end_time": "2022-12-06T16:08:43.682136",
     "exception": false,
     "start_time": "2022-12-06T16:08:43.661197",
     "status": "completed"
    },
    "tags": []
   },
   "source": [
    "## Test data"
   ]
  },
  {
   "cell_type": "code",
   "execution_count": 8,
   "id": "77fae83f",
   "metadata": {
    "execution": {
     "iopub.execute_input": "2022-12-06T16:08:43.726364Z",
     "iopub.status.busy": "2022-12-06T16:08:43.725591Z",
     "iopub.status.idle": "2022-12-06T16:08:43.742575Z",
     "shell.execute_reply": "2022-12-06T16:08:43.741223Z"
    },
    "papermill": {
     "duration": 0.042968,
     "end_time": "2022-12-06T16:08:43.745864",
     "exception": false,
     "start_time": "2022-12-06T16:08:43.702896",
     "status": "completed"
    },
    "tags": []
   },
   "outputs": [
    {
     "data": {
      "text/plain": [
       "Index(['PassengerId', 'Pclass', 'Name', 'Sex', 'Age', 'SibSp', 'Parch',\n",
       "       'Ticket', 'Fare', 'Cabin', 'Embarked'],\n",
       "      dtype='object')"
      ]
     },
     "execution_count": 8,
     "metadata": {},
     "output_type": "execute_result"
    }
   ],
   "source": [
    "titanic_test = pd.read_csv(test_data_path)\n",
    "titanic_test.columns"
   ]
  },
  {
   "cell_type": "code",
   "execution_count": 9,
   "id": "f4e8246d",
   "metadata": {
    "execution": {
     "iopub.execute_input": "2022-12-06T16:08:43.792970Z",
     "iopub.status.busy": "2022-12-06T16:08:43.792135Z",
     "iopub.status.idle": "2022-12-06T16:08:43.822389Z",
     "shell.execute_reply": "2022-12-06T16:08:43.821141Z"
    },
    "papermill": {
     "duration": 0.056685,
     "end_time": "2022-12-06T16:08:43.824960",
     "exception": false,
     "start_time": "2022-12-06T16:08:43.768275",
     "status": "completed"
    },
    "tags": []
   },
   "outputs": [
    {
     "data": {
      "text/html": [
       "<div>\n",
       "<style scoped>\n",
       "    .dataframe tbody tr th:only-of-type {\n",
       "        vertical-align: middle;\n",
       "    }\n",
       "\n",
       "    .dataframe tbody tr th {\n",
       "        vertical-align: top;\n",
       "    }\n",
       "\n",
       "    .dataframe thead th {\n",
       "        text-align: right;\n",
       "    }\n",
       "</style>\n",
       "<table border=\"1\" class=\"dataframe\">\n",
       "  <thead>\n",
       "    <tr style=\"text-align: right;\">\n",
       "      <th></th>\n",
       "      <th>PassengerId</th>\n",
       "      <th>Pclass</th>\n",
       "      <th>Age</th>\n",
       "      <th>SibSp</th>\n",
       "      <th>Parch</th>\n",
       "      <th>Fare</th>\n",
       "    </tr>\n",
       "  </thead>\n",
       "  <tbody>\n",
       "    <tr>\n",
       "      <th>count</th>\n",
       "      <td>418.000000</td>\n",
       "      <td>418.000000</td>\n",
       "      <td>332.000000</td>\n",
       "      <td>418.000000</td>\n",
       "      <td>418.000000</td>\n",
       "      <td>417.000000</td>\n",
       "    </tr>\n",
       "    <tr>\n",
       "      <th>mean</th>\n",
       "      <td>1100.500000</td>\n",
       "      <td>2.265550</td>\n",
       "      <td>30.272590</td>\n",
       "      <td>0.447368</td>\n",
       "      <td>0.392344</td>\n",
       "      <td>35.627188</td>\n",
       "    </tr>\n",
       "    <tr>\n",
       "      <th>std</th>\n",
       "      <td>120.810458</td>\n",
       "      <td>0.841838</td>\n",
       "      <td>14.181209</td>\n",
       "      <td>0.896760</td>\n",
       "      <td>0.981429</td>\n",
       "      <td>55.907576</td>\n",
       "    </tr>\n",
       "    <tr>\n",
       "      <th>min</th>\n",
       "      <td>892.000000</td>\n",
       "      <td>1.000000</td>\n",
       "      <td>0.170000</td>\n",
       "      <td>0.000000</td>\n",
       "      <td>0.000000</td>\n",
       "      <td>0.000000</td>\n",
       "    </tr>\n",
       "    <tr>\n",
       "      <th>25%</th>\n",
       "      <td>996.250000</td>\n",
       "      <td>1.000000</td>\n",
       "      <td>21.000000</td>\n",
       "      <td>0.000000</td>\n",
       "      <td>0.000000</td>\n",
       "      <td>7.895800</td>\n",
       "    </tr>\n",
       "    <tr>\n",
       "      <th>50%</th>\n",
       "      <td>1100.500000</td>\n",
       "      <td>3.000000</td>\n",
       "      <td>27.000000</td>\n",
       "      <td>0.000000</td>\n",
       "      <td>0.000000</td>\n",
       "      <td>14.454200</td>\n",
       "    </tr>\n",
       "    <tr>\n",
       "      <th>75%</th>\n",
       "      <td>1204.750000</td>\n",
       "      <td>3.000000</td>\n",
       "      <td>39.000000</td>\n",
       "      <td>1.000000</td>\n",
       "      <td>0.000000</td>\n",
       "      <td>31.500000</td>\n",
       "    </tr>\n",
       "    <tr>\n",
       "      <th>max</th>\n",
       "      <td>1309.000000</td>\n",
       "      <td>3.000000</td>\n",
       "      <td>76.000000</td>\n",
       "      <td>8.000000</td>\n",
       "      <td>9.000000</td>\n",
       "      <td>512.329200</td>\n",
       "    </tr>\n",
       "  </tbody>\n",
       "</table>\n",
       "</div>"
      ],
      "text/plain": [
       "       PassengerId      Pclass         Age       SibSp       Parch        Fare\n",
       "count   418.000000  418.000000  332.000000  418.000000  418.000000  417.000000\n",
       "mean   1100.500000    2.265550   30.272590    0.447368    0.392344   35.627188\n",
       "std     120.810458    0.841838   14.181209    0.896760    0.981429   55.907576\n",
       "min     892.000000    1.000000    0.170000    0.000000    0.000000    0.000000\n",
       "25%     996.250000    1.000000   21.000000    0.000000    0.000000    7.895800\n",
       "50%    1100.500000    3.000000   27.000000    0.000000    0.000000   14.454200\n",
       "75%    1204.750000    3.000000   39.000000    1.000000    0.000000   31.500000\n",
       "max    1309.000000    3.000000   76.000000    8.000000    9.000000  512.329200"
      ]
     },
     "execution_count": 9,
     "metadata": {},
     "output_type": "execute_result"
    }
   ],
   "source": [
    "titanic_test.describe()"
   ]
  },
  {
   "cell_type": "code",
   "execution_count": 10,
   "id": "be7ab7d4",
   "metadata": {
    "execution": {
     "iopub.execute_input": "2022-12-06T16:08:43.870799Z",
     "iopub.status.busy": "2022-12-06T16:08:43.869599Z",
     "iopub.status.idle": "2022-12-06T16:08:43.887985Z",
     "shell.execute_reply": "2022-12-06T16:08:43.886639Z"
    },
    "papermill": {
     "duration": 0.04437,
     "end_time": "2022-12-06T16:08:43.890628",
     "exception": false,
     "start_time": "2022-12-06T16:08:43.846258",
     "status": "completed"
    },
    "tags": []
   },
   "outputs": [
    {
     "data": {
      "text/html": [
       "<div>\n",
       "<style scoped>\n",
       "    .dataframe tbody tr th:only-of-type {\n",
       "        vertical-align: middle;\n",
       "    }\n",
       "\n",
       "    .dataframe tbody tr th {\n",
       "        vertical-align: top;\n",
       "    }\n",
       "\n",
       "    .dataframe thead th {\n",
       "        text-align: right;\n",
       "    }\n",
       "</style>\n",
       "<table border=\"1\" class=\"dataframe\">\n",
       "  <thead>\n",
       "    <tr style=\"text-align: right;\">\n",
       "      <th></th>\n",
       "      <th>PassengerId</th>\n",
       "      <th>Pclass</th>\n",
       "      <th>Name</th>\n",
       "      <th>Sex</th>\n",
       "      <th>Age</th>\n",
       "      <th>SibSp</th>\n",
       "      <th>Parch</th>\n",
       "      <th>Ticket</th>\n",
       "      <th>Fare</th>\n",
       "      <th>Cabin</th>\n",
       "      <th>Embarked</th>\n",
       "    </tr>\n",
       "  </thead>\n",
       "  <tbody>\n",
       "    <tr>\n",
       "      <th>0</th>\n",
       "      <td>892</td>\n",
       "      <td>3</td>\n",
       "      <td>Kelly, Mr. James</td>\n",
       "      <td>male</td>\n",
       "      <td>34.5</td>\n",
       "      <td>0</td>\n",
       "      <td>0</td>\n",
       "      <td>330911</td>\n",
       "      <td>7.8292</td>\n",
       "      <td>NaN</td>\n",
       "      <td>Q</td>\n",
       "    </tr>\n",
       "    <tr>\n",
       "      <th>1</th>\n",
       "      <td>893</td>\n",
       "      <td>3</td>\n",
       "      <td>Wilkes, Mrs. James (Ellen Needs)</td>\n",
       "      <td>female</td>\n",
       "      <td>47.0</td>\n",
       "      <td>1</td>\n",
       "      <td>0</td>\n",
       "      <td>363272</td>\n",
       "      <td>7.0000</td>\n",
       "      <td>NaN</td>\n",
       "      <td>S</td>\n",
       "    </tr>\n",
       "    <tr>\n",
       "      <th>2</th>\n",
       "      <td>894</td>\n",
       "      <td>2</td>\n",
       "      <td>Myles, Mr. Thomas Francis</td>\n",
       "      <td>male</td>\n",
       "      <td>62.0</td>\n",
       "      <td>0</td>\n",
       "      <td>0</td>\n",
       "      <td>240276</td>\n",
       "      <td>9.6875</td>\n",
       "      <td>NaN</td>\n",
       "      <td>Q</td>\n",
       "    </tr>\n",
       "    <tr>\n",
       "      <th>3</th>\n",
       "      <td>895</td>\n",
       "      <td>3</td>\n",
       "      <td>Wirz, Mr. Albert</td>\n",
       "      <td>male</td>\n",
       "      <td>27.0</td>\n",
       "      <td>0</td>\n",
       "      <td>0</td>\n",
       "      <td>315154</td>\n",
       "      <td>8.6625</td>\n",
       "      <td>NaN</td>\n",
       "      <td>S</td>\n",
       "    </tr>\n",
       "    <tr>\n",
       "      <th>4</th>\n",
       "      <td>896</td>\n",
       "      <td>3</td>\n",
       "      <td>Hirvonen, Mrs. Alexander (Helga E Lindqvist)</td>\n",
       "      <td>female</td>\n",
       "      <td>22.0</td>\n",
       "      <td>1</td>\n",
       "      <td>1</td>\n",
       "      <td>3101298</td>\n",
       "      <td>12.2875</td>\n",
       "      <td>NaN</td>\n",
       "      <td>S</td>\n",
       "    </tr>\n",
       "  </tbody>\n",
       "</table>\n",
       "</div>"
      ],
      "text/plain": [
       "   PassengerId  Pclass                                          Name     Sex  \\\n",
       "0          892       3                              Kelly, Mr. James    male   \n",
       "1          893       3              Wilkes, Mrs. James (Ellen Needs)  female   \n",
       "2          894       2                     Myles, Mr. Thomas Francis    male   \n",
       "3          895       3                              Wirz, Mr. Albert    male   \n",
       "4          896       3  Hirvonen, Mrs. Alexander (Helga E Lindqvist)  female   \n",
       "\n",
       "    Age  SibSp  Parch   Ticket     Fare Cabin Embarked  \n",
       "0  34.5      0      0   330911   7.8292   NaN        Q  \n",
       "1  47.0      1      0   363272   7.0000   NaN        S  \n",
       "2  62.0      0      0   240276   9.6875   NaN        Q  \n",
       "3  27.0      0      0   315154   8.6625   NaN        S  \n",
       "4  22.0      1      1  3101298  12.2875   NaN        S  "
      ]
     },
     "execution_count": 10,
     "metadata": {},
     "output_type": "execute_result"
    }
   ],
   "source": [
    "titanic_test.head()"
   ]
  },
  {
   "cell_type": "markdown",
   "id": "6605afa2",
   "metadata": {
    "papermill": {
     "duration": 0.021389,
     "end_time": "2022-12-06T16:08:43.934194",
     "exception": false,
     "start_time": "2022-12-06T16:08:43.912805",
     "status": "completed"
    },
    "tags": []
   },
   "source": [
    "# Data preparation"
   ]
  },
  {
   "cell_type": "markdown",
   "id": "e8720a0a",
   "metadata": {
    "papermill": {
     "duration": 0.021804,
     "end_time": "2022-12-06T16:08:43.977630",
     "exception": false,
     "start_time": "2022-12-06T16:08:43.955826",
     "status": "completed"
    },
    "tags": []
   },
   "source": [
    "## Select reduce columns "
   ]
  },
  {
   "cell_type": "code",
   "execution_count": 11,
   "id": "8ac8c9e9",
   "metadata": {
    "execution": {
     "iopub.execute_input": "2022-12-06T16:08:44.022908Z",
     "iopub.status.busy": "2022-12-06T16:08:44.022065Z",
     "iopub.status.idle": "2022-12-06T16:08:44.030919Z",
     "shell.execute_reply": "2022-12-06T16:08:44.029732Z"
    },
    "papermill": {
     "duration": 0.034237,
     "end_time": "2022-12-06T16:08:44.033291",
     "exception": false,
     "start_time": "2022-12-06T16:08:43.999054",
     "status": "completed"
    },
    "tags": []
   },
   "outputs": [
    {
     "data": {
      "text/plain": [
       "PassengerId      int64\n",
       "Survived         int64\n",
       "Pclass           int64\n",
       "Name            object\n",
       "Sex             object\n",
       "Age            float64\n",
       "SibSp            int64\n",
       "Parch            int64\n",
       "Ticket          object\n",
       "Fare           float64\n",
       "Cabin           object\n",
       "Embarked        object\n",
       "dtype: object"
      ]
     },
     "execution_count": 11,
     "metadata": {},
     "output_type": "execute_result"
    }
   ],
   "source": [
    "titanic_train.dtypes"
   ]
  },
  {
   "cell_type": "code",
   "execution_count": 12,
   "id": "82d15000",
   "metadata": {
    "execution": {
     "iopub.execute_input": "2022-12-06T16:08:44.078838Z",
     "iopub.status.busy": "2022-12-06T16:08:44.078188Z",
     "iopub.status.idle": "2022-12-06T16:08:44.086676Z",
     "shell.execute_reply": "2022-12-06T16:08:44.085541Z"
    },
    "papermill": {
     "duration": 0.034093,
     "end_time": "2022-12-06T16:08:44.088990",
     "exception": false,
     "start_time": "2022-12-06T16:08:44.054897",
     "status": "completed"
    },
    "tags": []
   },
   "outputs": [
    {
     "data": {
      "text/plain": [
       "PassengerId      int64\n",
       "Pclass           int64\n",
       "Name            object\n",
       "Sex             object\n",
       "Age            float64\n",
       "SibSp            int64\n",
       "Parch            int64\n",
       "Ticket          object\n",
       "Fare           float64\n",
       "Cabin           object\n",
       "Embarked        object\n",
       "dtype: object"
      ]
     },
     "execution_count": 12,
     "metadata": {},
     "output_type": "execute_result"
    }
   ],
   "source": [
    "titanic_test.dtypes"
   ]
  },
  {
   "cell_type": "markdown",
   "id": "7a17c1f1",
   "metadata": {
    "papermill": {
     "duration": 0.021382,
     "end_time": "2022-12-06T16:08:44.131860",
     "exception": false,
     "start_time": "2022-12-06T16:08:44.110478",
     "status": "completed"
    },
    "tags": []
   },
   "source": [
    "I propose to keep Pclass,Sex, Age, SibSP,Parch,Ticket, Fare,Cabin, Embarked, Survived"
   ]
  },
  {
   "cell_type": "code",
   "execution_count": 13,
   "id": "ca36a89b",
   "metadata": {
    "execution": {
     "iopub.execute_input": "2022-12-06T16:08:44.177755Z",
     "iopub.status.busy": "2022-12-06T16:08:44.177064Z",
     "iopub.status.idle": "2022-12-06T16:08:44.198246Z",
     "shell.execute_reply": "2022-12-06T16:08:44.196576Z"
    },
    "papermill": {
     "duration": 0.047271,
     "end_time": "2022-12-06T16:08:44.200976",
     "exception": false,
     "start_time": "2022-12-06T16:08:44.153705",
     "status": "completed"
    },
    "tags": []
   },
   "outputs": [
    {
     "data": {
      "text/html": [
       "<div>\n",
       "<style scoped>\n",
       "    .dataframe tbody tr th:only-of-type {\n",
       "        vertical-align: middle;\n",
       "    }\n",
       "\n",
       "    .dataframe tbody tr th {\n",
       "        vertical-align: top;\n",
       "    }\n",
       "\n",
       "    .dataframe thead th {\n",
       "        text-align: right;\n",
       "    }\n",
       "</style>\n",
       "<table border=\"1\" class=\"dataframe\">\n",
       "  <thead>\n",
       "    <tr style=\"text-align: right;\">\n",
       "      <th></th>\n",
       "      <th>PassengerId</th>\n",
       "      <th>Pclass</th>\n",
       "      <th>Sex</th>\n",
       "      <th>Age</th>\n",
       "      <th>SibSp</th>\n",
       "      <th>Parch</th>\n",
       "      <th>Ticket</th>\n",
       "      <th>Fare</th>\n",
       "      <th>Cabin</th>\n",
       "      <th>Embarked</th>\n",
       "      <th>Survived</th>\n",
       "    </tr>\n",
       "  </thead>\n",
       "  <tbody>\n",
       "    <tr>\n",
       "      <th>0</th>\n",
       "      <td>1</td>\n",
       "      <td>3</td>\n",
       "      <td>male</td>\n",
       "      <td>22.0</td>\n",
       "      <td>1</td>\n",
       "      <td>0</td>\n",
       "      <td>A/5 21171</td>\n",
       "      <td>7.2500</td>\n",
       "      <td>NaN</td>\n",
       "      <td>S</td>\n",
       "      <td>0</td>\n",
       "    </tr>\n",
       "    <tr>\n",
       "      <th>1</th>\n",
       "      <td>2</td>\n",
       "      <td>1</td>\n",
       "      <td>female</td>\n",
       "      <td>38.0</td>\n",
       "      <td>1</td>\n",
       "      <td>0</td>\n",
       "      <td>PC 17599</td>\n",
       "      <td>71.2833</td>\n",
       "      <td>C85</td>\n",
       "      <td>C</td>\n",
       "      <td>1</td>\n",
       "    </tr>\n",
       "    <tr>\n",
       "      <th>2</th>\n",
       "      <td>3</td>\n",
       "      <td>3</td>\n",
       "      <td>female</td>\n",
       "      <td>26.0</td>\n",
       "      <td>0</td>\n",
       "      <td>0</td>\n",
       "      <td>STON/O2. 3101282</td>\n",
       "      <td>7.9250</td>\n",
       "      <td>NaN</td>\n",
       "      <td>S</td>\n",
       "      <td>1</td>\n",
       "    </tr>\n",
       "    <tr>\n",
       "      <th>3</th>\n",
       "      <td>4</td>\n",
       "      <td>1</td>\n",
       "      <td>female</td>\n",
       "      <td>35.0</td>\n",
       "      <td>1</td>\n",
       "      <td>0</td>\n",
       "      <td>113803</td>\n",
       "      <td>53.1000</td>\n",
       "      <td>C123</td>\n",
       "      <td>S</td>\n",
       "      <td>1</td>\n",
       "    </tr>\n",
       "    <tr>\n",
       "      <th>4</th>\n",
       "      <td>5</td>\n",
       "      <td>3</td>\n",
       "      <td>male</td>\n",
       "      <td>35.0</td>\n",
       "      <td>0</td>\n",
       "      <td>0</td>\n",
       "      <td>373450</td>\n",
       "      <td>8.0500</td>\n",
       "      <td>NaN</td>\n",
       "      <td>S</td>\n",
       "      <td>0</td>\n",
       "    </tr>\n",
       "  </tbody>\n",
       "</table>\n",
       "</div>"
      ],
      "text/plain": [
       "   PassengerId  Pclass     Sex   Age  SibSp  Parch            Ticket     Fare  \\\n",
       "0            1       3    male  22.0      1      0         A/5 21171   7.2500   \n",
       "1            2       1  female  38.0      1      0          PC 17599  71.2833   \n",
       "2            3       3  female  26.0      0      0  STON/O2. 3101282   7.9250   \n",
       "3            4       1  female  35.0      1      0            113803  53.1000   \n",
       "4            5       3    male  35.0      0      0            373450   8.0500   \n",
       "\n",
       "  Cabin Embarked  Survived  \n",
       "0   NaN        S         0  \n",
       "1   C85        C         1  \n",
       "2   NaN        S         1  \n",
       "3  C123        S         1  \n",
       "4   NaN        S         0  "
      ]
     },
     "execution_count": 13,
     "metadata": {},
     "output_type": "execute_result"
    }
   ],
   "source": [
    "columns_to_keep = ['PassengerId','Pclass', 'Sex',  'Age',  'SibSp', 'Parch','Ticket', 'Fare','Cabin', 'Embarked', 'Survived']\n",
    "titanic_train = titanic_train.loc[:,columns_to_keep]\n",
    "titanic_train.head()"
   ]
  },
  {
   "cell_type": "code",
   "execution_count": 14,
   "id": "8ab578a4",
   "metadata": {
    "execution": {
     "iopub.execute_input": "2022-12-06T16:08:44.247820Z",
     "iopub.status.busy": "2022-12-06T16:08:44.247386Z",
     "iopub.status.idle": "2022-12-06T16:08:44.266620Z",
     "shell.execute_reply": "2022-12-06T16:08:44.265268Z"
    },
    "papermill": {
     "duration": 0.045869,
     "end_time": "2022-12-06T16:08:44.269105",
     "exception": false,
     "start_time": "2022-12-06T16:08:44.223236",
     "status": "completed"
    },
    "tags": []
   },
   "outputs": [
    {
     "data": {
      "text/html": [
       "<div>\n",
       "<style scoped>\n",
       "    .dataframe tbody tr th:only-of-type {\n",
       "        vertical-align: middle;\n",
       "    }\n",
       "\n",
       "    .dataframe tbody tr th {\n",
       "        vertical-align: top;\n",
       "    }\n",
       "\n",
       "    .dataframe thead th {\n",
       "        text-align: right;\n",
       "    }\n",
       "</style>\n",
       "<table border=\"1\" class=\"dataframe\">\n",
       "  <thead>\n",
       "    <tr style=\"text-align: right;\">\n",
       "      <th></th>\n",
       "      <th>PassengerId</th>\n",
       "      <th>Pclass</th>\n",
       "      <th>Sex</th>\n",
       "      <th>Age</th>\n",
       "      <th>SibSp</th>\n",
       "      <th>Parch</th>\n",
       "      <th>Ticket</th>\n",
       "      <th>Fare</th>\n",
       "      <th>Cabin</th>\n",
       "      <th>Embarked</th>\n",
       "    </tr>\n",
       "  </thead>\n",
       "  <tbody>\n",
       "    <tr>\n",
       "      <th>0</th>\n",
       "      <td>892</td>\n",
       "      <td>3</td>\n",
       "      <td>male</td>\n",
       "      <td>34.5</td>\n",
       "      <td>0</td>\n",
       "      <td>0</td>\n",
       "      <td>330911</td>\n",
       "      <td>7.8292</td>\n",
       "      <td>NaN</td>\n",
       "      <td>Q</td>\n",
       "    </tr>\n",
       "    <tr>\n",
       "      <th>1</th>\n",
       "      <td>893</td>\n",
       "      <td>3</td>\n",
       "      <td>female</td>\n",
       "      <td>47.0</td>\n",
       "      <td>1</td>\n",
       "      <td>0</td>\n",
       "      <td>363272</td>\n",
       "      <td>7.0000</td>\n",
       "      <td>NaN</td>\n",
       "      <td>S</td>\n",
       "    </tr>\n",
       "    <tr>\n",
       "      <th>2</th>\n",
       "      <td>894</td>\n",
       "      <td>2</td>\n",
       "      <td>male</td>\n",
       "      <td>62.0</td>\n",
       "      <td>0</td>\n",
       "      <td>0</td>\n",
       "      <td>240276</td>\n",
       "      <td>9.6875</td>\n",
       "      <td>NaN</td>\n",
       "      <td>Q</td>\n",
       "    </tr>\n",
       "    <tr>\n",
       "      <th>3</th>\n",
       "      <td>895</td>\n",
       "      <td>3</td>\n",
       "      <td>male</td>\n",
       "      <td>27.0</td>\n",
       "      <td>0</td>\n",
       "      <td>0</td>\n",
       "      <td>315154</td>\n",
       "      <td>8.6625</td>\n",
       "      <td>NaN</td>\n",
       "      <td>S</td>\n",
       "    </tr>\n",
       "    <tr>\n",
       "      <th>4</th>\n",
       "      <td>896</td>\n",
       "      <td>3</td>\n",
       "      <td>female</td>\n",
       "      <td>22.0</td>\n",
       "      <td>1</td>\n",
       "      <td>1</td>\n",
       "      <td>3101298</td>\n",
       "      <td>12.2875</td>\n",
       "      <td>NaN</td>\n",
       "      <td>S</td>\n",
       "    </tr>\n",
       "  </tbody>\n",
       "</table>\n",
       "</div>"
      ],
      "text/plain": [
       "   PassengerId  Pclass     Sex   Age  SibSp  Parch   Ticket     Fare Cabin  \\\n",
       "0          892       3    male  34.5      0      0   330911   7.8292   NaN   \n",
       "1          893       3  female  47.0      1      0   363272   7.0000   NaN   \n",
       "2          894       2    male  62.0      0      0   240276   9.6875   NaN   \n",
       "3          895       3    male  27.0      0      0   315154   8.6625   NaN   \n",
       "4          896       3  female  22.0      1      1  3101298  12.2875   NaN   \n",
       "\n",
       "  Embarked  \n",
       "0        Q  \n",
       "1        S  \n",
       "2        Q  \n",
       "3        S  \n",
       "4        S  "
      ]
     },
     "execution_count": 14,
     "metadata": {},
     "output_type": "execute_result"
    }
   ],
   "source": [
    "columns_to_keep = ['PassengerId','Pclass', 'Sex',  'Age',  'SibSp', 'Parch','Ticket', 'Fare','Cabin', 'Embarked']\n",
    "titanic_test = titanic_test.loc[:,columns_to_keep]\n",
    "titanic_test.head()"
   ]
  },
  {
   "cell_type": "markdown",
   "id": "f5f74de7",
   "metadata": {
    "papermill": {
     "duration": 0.022071,
     "end_time": "2022-12-06T16:08:44.314359",
     "exception": false,
     "start_time": "2022-12-06T16:08:44.292288",
     "status": "completed"
    },
    "tags": []
   },
   "source": [
    "# Passengers ID\n",
    "Drop. \n",
    "old : Transforms to float"
   ]
  },
  {
   "cell_type": "markdown",
   "id": "b661b7f5",
   "metadata": {
    "papermill": {
     "duration": 0.024419,
     "end_time": "2022-12-06T16:08:44.361200",
     "exception": false,
     "start_time": "2022-12-06T16:08:44.336781",
     "status": "completed"
    },
    "tags": []
   },
   "source": []
  },
  {
   "cell_type": "code",
   "execution_count": 15,
   "id": "446ad172",
   "metadata": {
    "execution": {
     "iopub.execute_input": "2022-12-06T16:08:44.409261Z",
     "iopub.status.busy": "2022-12-06T16:08:44.408590Z",
     "iopub.status.idle": "2022-12-06T16:08:44.414963Z",
     "shell.execute_reply": "2022-12-06T16:08:44.413985Z"
    },
    "papermill": {
     "duration": 0.033162,
     "end_time": "2022-12-06T16:08:44.417420",
     "exception": false,
     "start_time": "2022-12-06T16:08:44.384258",
     "status": "completed"
    },
    "tags": []
   },
   "outputs": [],
   "source": [
    "#titanic_train.drop(\"PassengerId\", axis = 1)\n",
    "#titanic_test.drop(\"PassengerId\", axis = 1)\n",
    "titanic_train[\"PassengerId\"] = titanic_train[\"PassengerId\"].astype(float)\n",
    "titanic_test[\"PassengerId\"]  = titanic_test[\"PassengerId\"].astype(float)"
   ]
  },
  {
   "cell_type": "markdown",
   "id": "d791de88",
   "metadata": {
    "papermill": {
     "duration": 0.022597,
     "end_time": "2022-12-06T16:08:44.463123",
     "exception": false,
     "start_time": "2022-12-06T16:08:44.440526",
     "status": "completed"
    },
    "tags": []
   },
   "source": [
    "# Number of sibling"
   ]
  },
  {
   "cell_type": "code",
   "execution_count": 16,
   "id": "c9260fed",
   "metadata": {
    "execution": {
     "iopub.execute_input": "2022-12-06T16:08:44.511224Z",
     "iopub.status.busy": "2022-12-06T16:08:44.510559Z",
     "iopub.status.idle": "2022-12-06T16:08:44.804179Z",
     "shell.execute_reply": "2022-12-06T16:08:44.802963Z"
    },
    "papermill": {
     "duration": 0.319985,
     "end_time": "2022-12-06T16:08:44.806632",
     "exception": false,
     "start_time": "2022-12-06T16:08:44.486647",
     "status": "completed"
    },
    "tags": []
   },
   "outputs": [
    {
     "name": "stdout",
     "output_type": "stream",
     "text": [
      "count    891.000000\n",
      "mean       0.523008\n",
      "std        1.102743\n",
      "min        0.000000\n",
      "25%        0.000000\n",
      "50%        0.000000\n",
      "75%        1.000000\n",
      "max        8.000000\n",
      "Name: SibSp, dtype: float64\n"
     ]
    },
    {
     "data": {
      "text/plain": [
       "(array([608., 209.,  28.,  16.,   0.,  18.,   5.,   0.,   0.,   7.]),\n",
       " array([0. , 0.8, 1.6, 2.4, 3.2, 4. , 4.8, 5.6, 6.4, 7.2, 8. ]),\n",
       " <BarContainer object of 10 artists>)"
      ]
     },
     "execution_count": 16,
     "metadata": {},
     "output_type": "execute_result"
    },
    {
     "data": {
      "image/png": "[encoded data removed]",
      "text/plain": [
       "<Figure size 432x288 with 1 Axes>"
      ]
     },
     "metadata": {
      "needs_background": "light"
     },
     "output_type": "display_data"
    }
   ],
   "source": [
    "print(titanic_train[\"SibSp\"].describe())\n",
    "plt.hist(titanic_train[\"SibSp\"])"
   ]
  },
  {
   "cell_type": "code",
   "execution_count": 17,
   "id": "5f9428ec",
   "metadata": {
    "execution": {
     "iopub.execute_input": "2022-12-06T16:08:44.854324Z",
     "iopub.status.busy": "2022-12-06T16:08:44.853871Z",
     "iopub.status.idle": "2022-12-06T16:08:45.103229Z",
     "shell.execute_reply": "2022-12-06T16:08:45.101718Z"
    },
    "papermill": {
     "duration": 0.276764,
     "end_time": "2022-12-06T16:08:45.106143",
     "exception": false,
     "start_time": "2022-12-06T16:08:44.829379",
     "status": "completed"
    },
    "tags": []
   },
   "outputs": [
    {
     "name": "stdout",
     "output_type": "stream",
     "text": [
      "count    418.000000\n",
      "mean       0.447368\n",
      "std        0.896760\n",
      "min        0.000000\n",
      "25%        0.000000\n",
      "50%        0.000000\n",
      "75%        1.000000\n",
      "max        8.000000\n",
      "Name: SibSp, dtype: float64\n"
     ]
    },
    {
     "data": {
      "text/plain": [
       "(array([283., 110.,  14.,   4.,   0.,   4.,   1.,   0.,   0.,   2.]),\n",
       " array([0. , 0.8, 1.6, 2.4, 3.2, 4. , 4.8, 5.6, 6.4, 7.2, 8. ]),\n",
       " <BarContainer object of 10 artists>)"
      ]
     },
     "execution_count": 17,
     "metadata": {},
     "output_type": "execute_result"
    },
    {
     "data": {
      "image/png": "[encoded data removed]",
      "text/plain": [
       "<Figure size 432x288 with 1 Axes>"
      ]
     },
     "metadata": {
      "needs_background": "light"
     },
     "output_type": "display_data"
    }
   ],
   "source": [
    "print(titanic_test[\"SibSp\"].describe())\n",
    "plt.hist(titanic_test[\"SibSp\"])"
   ]
  },
  {
   "cell_type": "markdown",
   "id": "a3dbc006",
   "metadata": {
    "papermill": {
     "duration": 0.022685,
     "end_time": "2022-12-06T16:08:45.152580",
     "exception": false,
     "start_time": "2022-12-06T16:08:45.129895",
     "status": "completed"
    },
    "tags": []
   },
   "source": []
  },
  {
   "cell_type": "code",
   "execution_count": 18,
   "id": "259eca02",
   "metadata": {
    "execution": {
     "iopub.execute_input": "2022-12-06T16:08:45.200671Z",
     "iopub.status.busy": "2022-12-06T16:08:45.200258Z",
     "iopub.status.idle": "2022-12-06T16:08:45.207379Z",
     "shell.execute_reply": "2022-12-06T16:08:45.206394Z"
    },
    "papermill": {
     "duration": 0.03411,
     "end_time": "2022-12-06T16:08:45.209965",
     "exception": false,
     "start_time": "2022-12-06T16:08:45.175855",
     "status": "completed"
    },
    "tags": []
   },
   "outputs": [],
   "source": [
    "def categorise_siblings(data):\n",
    "    cut_labels_9 = ['sib_0','sib_1','sib_2','sib_3', \n",
    "                    'sib_4','sib_5','sib_6','sib_7', 'sib_8']\n",
    "    cut_bins = [0,1,2,3,4,5,6,7,8,9]\n",
    "    data['Sib_cat'] = pd.cut(data['SibSp'], \n",
    "                             bins=cut_bins, \n",
    "                             labels=cut_labels_9)\n",
    "    \n",
    "    data['Sib_cat'] = data.Sib_cat.astype(str)\n",
    "    data.loc[data[\"Sib_cat\"] == 'nan', \"Sib_cat\"] = \"Sib_Unknown\"\n",
    "    \n",
    "    return data"
   ]
  },
  {
   "cell_type": "code",
   "execution_count": 19,
   "id": "b304b392",
   "metadata": {
    "execution": {
     "iopub.execute_input": "2022-12-06T16:08:45.258372Z",
     "iopub.status.busy": "2022-12-06T16:08:45.257888Z",
     "iopub.status.idle": "2022-12-06T16:08:45.264349Z",
     "shell.execute_reply": "2022-12-06T16:08:45.263171Z"
    },
    "papermill": {
     "duration": 0.033439,
     "end_time": "2022-12-06T16:08:45.266666",
     "exception": false,
     "start_time": "2022-12-06T16:08:45.233227",
     "status": "completed"
    },
    "tags": []
   },
   "outputs": [],
   "source": [
    "def transform_sibling_cat(data):\n",
    "    factors = data['Sib_cat'].unique()\n",
    "    gender_columns = pd.get_dummies(data['Sib_cat'])\n",
    "    columns = range(0,len(factors))\n",
    "    for column in columns:\n",
    "        data[factors[column]] = gender_columns.loc[:, factors[column]].astype(float)\n",
    "        \n",
    "    return data"
   ]
  },
  {
   "cell_type": "markdown",
   "id": "9a6d45ec",
   "metadata": {
    "papermill": {
     "duration": 0.022546,
     "end_time": "2022-12-06T16:08:45.312460",
     "exception": false,
     "start_time": "2022-12-06T16:08:45.289914",
     "status": "completed"
    },
    "tags": []
   },
   "source": []
  },
  {
   "cell_type": "code",
   "execution_count": 20,
   "id": "556c7679",
   "metadata": {
    "execution": {
     "iopub.execute_input": "2022-12-06T16:08:45.361111Z",
     "iopub.status.busy": "2022-12-06T16:08:45.360375Z",
     "iopub.status.idle": "2022-12-06T16:08:45.384514Z",
     "shell.execute_reply": "2022-12-06T16:08:45.383237Z"
    },
    "papermill": {
     "duration": 0.051476,
     "end_time": "2022-12-06T16:08:45.387156",
     "exception": false,
     "start_time": "2022-12-06T16:08:45.335680",
     "status": "completed"
    },
    "tags": []
   },
   "outputs": [
    {
     "data": {
      "text/plain": [
       "PassengerId    float64\n",
       "Pclass           int64\n",
       "Sex             object\n",
       "Age            float64\n",
       "Parch            int64\n",
       "Ticket          object\n",
       "Fare           float64\n",
       "Cabin           object\n",
       "Embarked        object\n",
       "Survived         int64\n",
       "sib_0          float64\n",
       "Sib_Unknown    float64\n",
       "sib_2          float64\n",
       "sib_3          float64\n",
       "sib_1          float64\n",
       "sib_4          float64\n",
       "sib_7          float64\n",
       "dtype: object"
      ]
     },
     "execution_count": 20,
     "metadata": {},
     "output_type": "execute_result"
    }
   ],
   "source": [
    "titanic_train = categorise_siblings(titanic_train)\n",
    "titanic_train = transform_sibling_cat(titanic_train)\n",
    "titanic_train = titanic_train.drop(\"SibSp\", axis = 1)\n",
    "titanic_train = titanic_train.drop(\"Sib_cat\", axis = 1)\n",
    "titanic_train.dtypes"
   ]
  },
  {
   "cell_type": "code",
   "execution_count": 21,
   "id": "43bac640",
   "metadata": {
    "execution": {
     "iopub.execute_input": "2022-12-06T16:08:45.435529Z",
     "iopub.status.busy": "2022-12-06T16:08:45.435003Z",
     "iopub.status.idle": "2022-12-06T16:08:45.442809Z",
     "shell.execute_reply": "2022-12-06T16:08:45.441496Z"
    },
    "papermill": {
     "duration": 0.034905,
     "end_time": "2022-12-06T16:08:45.445321",
     "exception": false,
     "start_time": "2022-12-06T16:08:45.410416",
     "status": "completed"
    },
    "tags": []
   },
   "outputs": [
    {
     "data": {
      "text/plain": [
       "(891, 17)"
      ]
     },
     "execution_count": 21,
     "metadata": {},
     "output_type": "execute_result"
    }
   ],
   "source": [
    "titanic_train.shape"
   ]
  },
  {
   "cell_type": "code",
   "execution_count": 22,
   "id": "84616212",
   "metadata": {
    "execution": {
     "iopub.execute_input": "2022-12-06T16:08:45.496223Z",
     "iopub.status.busy": "2022-12-06T16:08:45.495743Z",
     "iopub.status.idle": "2022-12-06T16:08:45.518719Z",
     "shell.execute_reply": "2022-12-06T16:08:45.517393Z"
    },
    "papermill": {
     "duration": 0.052172,
     "end_time": "2022-12-06T16:08:45.521510",
     "exception": false,
     "start_time": "2022-12-06T16:08:45.469338",
     "status": "completed"
    },
    "tags": []
   },
   "outputs": [
    {
     "data": {
      "text/plain": [
       "PassengerId    float64\n",
       "Pclass           int64\n",
       "Sex             object\n",
       "Age            float64\n",
       "Parch            int64\n",
       "Ticket          object\n",
       "Fare           float64\n",
       "Cabin           object\n",
       "Embarked        object\n",
       "Sib_Unknown    float64\n",
       "sib_0          float64\n",
       "sib_1          float64\n",
       "sib_2          float64\n",
       "sib_3          float64\n",
       "sib_4          float64\n",
       "sib_7          float64\n",
       "dtype: object"
      ]
     },
     "execution_count": 22,
     "metadata": {},
     "output_type": "execute_result"
    }
   ],
   "source": [
    "titanic_test = categorise_siblings(titanic_test)\n",
    "titanic_test = transform_sibling_cat(titanic_test)\n",
    "titanic_test = titanic_test.drop(\"SibSp\", axis = 1)\n",
    "titanic_test = titanic_test.drop(\"Sib_cat\", axis = 1)\n",
    "titanic_test.dtypes"
   ]
  },
  {
   "cell_type": "code",
   "execution_count": 23,
   "id": "3b7a744a",
   "metadata": {
    "execution": {
     "iopub.execute_input": "2022-12-06T16:08:45.571349Z",
     "iopub.status.busy": "2022-12-06T16:08:45.570909Z",
     "iopub.status.idle": "2022-12-06T16:08:45.578255Z",
     "shell.execute_reply": "2022-12-06T16:08:45.577000Z"
    },
    "papermill": {
     "duration": 0.034909,
     "end_time": "2022-12-06T16:08:45.580594",
     "exception": false,
     "start_time": "2022-12-06T16:08:45.545685",
     "status": "completed"
    },
    "tags": []
   },
   "outputs": [
    {
     "data": {
      "text/plain": [
       "(418, 16)"
      ]
     },
     "execution_count": 23,
     "metadata": {},
     "output_type": "execute_result"
    }
   ],
   "source": [
    "titanic_test.shape"
   ]
  },
  {
   "cell_type": "code",
   "execution_count": null,
   "id": "dad68d39",
   "metadata": {
    "papermill": {
     "duration": 0.023143,
     "end_time": "2022-12-06T16:08:45.627938",
     "exception": false,
     "start_time": "2022-12-06T16:08:45.604795",
     "status": "completed"
    },
    "tags": []
   },
   "outputs": [],
   "source": []
  },
  {
   "cell_type": "markdown",
   "id": "75b077ab",
   "metadata": {
    "papermill": {
     "duration": 0.023235,
     "end_time": "2022-12-06T16:08:45.675695",
     "exception": false,
     "start_time": "2022-12-06T16:08:45.652460",
     "status": "completed"
    },
    "tags": []
   },
   "source": [
    "# Transforming age into categories\n",
    "The categorise the age into 9 categories; unknown and one for each decade. The categories are then transformed in hot_coding format. "
   ]
  },
  {
   "cell_type": "markdown",
   "id": "21bf8816",
   "metadata": {
    "papermill": {
     "duration": 0.023145,
     "end_time": "2022-12-06T16:08:45.722059",
     "exception": false,
     "start_time": "2022-12-06T16:08:45.698914",
     "status": "completed"
    },
    "tags": []
   },
   "source": [
    "titanic_train['Age'].unique()"
   ]
  },
  {
   "cell_type": "code",
   "execution_count": 24,
   "id": "420dfea6",
   "metadata": {
    "execution": {
     "iopub.execute_input": "2022-12-06T16:08:45.771378Z",
     "iopub.status.busy": "2022-12-06T16:08:45.770167Z",
     "iopub.status.idle": "2022-12-06T16:08:45.998038Z",
     "shell.execute_reply": "2022-12-06T16:08:45.997139Z"
    },
    "papermill": {
     "duration": 0.255127,
     "end_time": "2022-12-06T16:08:46.000656",
     "exception": false,
     "start_time": "2022-12-06T16:08:45.745529",
     "status": "completed"
    },
    "tags": []
   },
   "outputs": [
    {
     "data": {
      "image/png": "[encoded data removed]",
      "text/plain": [
       "<Figure size 432x288 with 1 Axes>"
      ]
     },
     "metadata": {
      "needs_background": "light"
     },
     "output_type": "display_data"
    }
   ],
   "source": [
    "plt.hist(titanic_train['Age'], bins=10)\n",
    "plt.show()"
   ]
  },
  {
   "cell_type": "code",
   "execution_count": 25,
   "id": "efbfed18",
   "metadata": {
    "execution": {
     "iopub.execute_input": "2022-12-06T16:08:46.051132Z",
     "iopub.status.busy": "2022-12-06T16:08:46.049893Z",
     "iopub.status.idle": "2022-12-06T16:08:46.061187Z",
     "shell.execute_reply": "2022-12-06T16:08:46.060166Z"
    },
    "papermill": {
     "duration": 0.038811,
     "end_time": "2022-12-06T16:08:46.063469",
     "exception": false,
     "start_time": "2022-12-06T16:08:46.024658",
     "status": "completed"
    },
    "tags": []
   },
   "outputs": [
    {
     "data": {
      "text/plain": [
       "count    714.000000\n",
       "mean      29.699118\n",
       "std       14.526497\n",
       "min        0.420000\n",
       "25%       20.125000\n",
       "50%       28.000000\n",
       "75%       38.000000\n",
       "max       80.000000\n",
       "Name: Age, dtype: float64"
      ]
     },
     "execution_count": 25,
     "metadata": {},
     "output_type": "execute_result"
    }
   ],
   "source": [
    "titanic_train['Age'].describe()"
   ]
  },
  {
   "cell_type": "code",
   "execution_count": 26,
   "id": "8b885e57",
   "metadata": {
    "execution": {
     "iopub.execute_input": "2022-12-06T16:08:46.112699Z",
     "iopub.status.busy": "2022-12-06T16:08:46.112277Z",
     "iopub.status.idle": "2022-12-06T16:08:46.320413Z",
     "shell.execute_reply": "2022-12-06T16:08:46.319217Z"
    },
    "papermill": {
     "duration": 0.235651,
     "end_time": "2022-12-06T16:08:46.322774",
     "exception": false,
     "start_time": "2022-12-06T16:08:46.087123",
     "status": "completed"
    },
    "tags": []
   },
   "outputs": [
    {
     "data": {
      "image/png": "[encoded data removed]",
      "text/plain": [
       "<Figure size 432x288 with 1 Axes>"
      ]
     },
     "metadata": {
      "needs_background": "light"
     },
     "output_type": "display_data"
    }
   ],
   "source": [
    "plt.hist(titanic_test['Age'], bins=10)\n",
    "plt.show()"
   ]
  },
  {
   "cell_type": "code",
   "execution_count": 27,
   "id": "7efc1ee3",
   "metadata": {
    "execution": {
     "iopub.execute_input": "2022-12-06T16:08:46.372743Z",
     "iopub.status.busy": "2022-12-06T16:08:46.372323Z",
     "iopub.status.idle": "2022-12-06T16:08:46.384535Z",
     "shell.execute_reply": "2022-12-06T16:08:46.383245Z"
    },
    "papermill": {
     "duration": 0.040378,
     "end_time": "2022-12-06T16:08:46.387166",
     "exception": false,
     "start_time": "2022-12-06T16:08:46.346788",
     "status": "completed"
    },
    "tags": []
   },
   "outputs": [
    {
     "data": {
      "text/plain": [
       "count    332.000000\n",
       "mean      30.272590\n",
       "std       14.181209\n",
       "min        0.170000\n",
       "25%       21.000000\n",
       "50%       27.000000\n",
       "75%       39.000000\n",
       "max       76.000000\n",
       "Name: Age, dtype: float64"
      ]
     },
     "execution_count": 27,
     "metadata": {},
     "output_type": "execute_result"
    }
   ],
   "source": [
    "titanic_test['Age'].describe()"
   ]
  },
  {
   "cell_type": "code",
   "execution_count": 28,
   "id": "4b8e5987",
   "metadata": {
    "execution": {
     "iopub.execute_input": "2022-12-06T16:08:46.439611Z",
     "iopub.status.busy": "2022-12-06T16:08:46.439169Z",
     "iopub.status.idle": "2022-12-06T16:08:46.445790Z",
     "shell.execute_reply": "2022-12-06T16:08:46.444680Z"
    },
    "papermill": {
     "duration": 0.035942,
     "end_time": "2022-12-06T16:08:46.448473",
     "exception": false,
     "start_time": "2022-12-06T16:08:46.412531",
     "status": "completed"
    },
    "tags": []
   },
   "outputs": [],
   "source": [
    "def transform_age_cat(data):\n",
    "    factors = data['Age_cat'].unique()\n",
    "    gender_columns = pd.get_dummies(data['Age_cat'])\n",
    "    columns = range(0,len(factors))\n",
    "    for column in columns:\n",
    "        data[factors[column]] = gender_columns.loc[:, factors[column]].astype(float)\n",
    "        \n",
    "    return data\n"
   ]
  },
  {
   "cell_type": "code",
   "execution_count": 29,
   "id": "154ba8c9",
   "metadata": {
    "execution": {
     "iopub.execute_input": "2022-12-06T16:08:46.499898Z",
     "iopub.status.busy": "2022-12-06T16:08:46.498830Z",
     "iopub.status.idle": "2022-12-06T16:08:46.506278Z",
     "shell.execute_reply": "2022-12-06T16:08:46.505444Z"
    },
    "papermill": {
     "duration": 0.036073,
     "end_time": "2022-12-06T16:08:46.508636",
     "exception": false,
     "start_time": "2022-12-06T16:08:46.472563",
     "status": "completed"
    },
    "tags": []
   },
   "outputs": [],
   "source": [
    "def categorise_age(data):\n",
    "    cut_labels_8 = ['age_0-9','age_10-19','age_20-29','age_30-39', \n",
    "                    'age_40-49','age_50-59','age_60-69','age_70-79']\n",
    "    cut_bins = [0,10,20,30,40,50,60,70,80]\n",
    "    data['Age_cat'] = pd.cut(data['Age'], \n",
    "                             bins=cut_bins, \n",
    "                             labels=cut_labels_8)\n",
    "    data['Age_cat'] = data.Age_cat.astype(str)\n",
    "    data.loc[data[\"Age\"].isna(), \"Age_cat\"] = \"Age_Unknown\"\n",
    "    return data"
   ]
  },
  {
   "cell_type": "code",
   "execution_count": 30,
   "id": "85241392",
   "metadata": {
    "execution": {
     "iopub.execute_input": "2022-12-06T16:08:46.558692Z",
     "iopub.status.busy": "2022-12-06T16:08:46.557619Z",
     "iopub.status.idle": "2022-12-06T16:08:46.580541Z",
     "shell.execute_reply": "2022-12-06T16:08:46.579674Z"
    },
    "papermill": {
     "duration": 0.050701,
     "end_time": "2022-12-06T16:08:46.583143",
     "exception": false,
     "start_time": "2022-12-06T16:08:46.532442",
     "status": "completed"
    },
    "tags": []
   },
   "outputs": [
    {
     "data": {
      "text/plain": [
       "PassengerId    float64\n",
       "Pclass           int64\n",
       "Sex             object\n",
       "Parch            int64\n",
       "Ticket          object\n",
       "Fare           float64\n",
       "Cabin           object\n",
       "Embarked        object\n",
       "Survived         int64\n",
       "sib_0          float64\n",
       "Sib_Unknown    float64\n",
       "sib_2          float64\n",
       "sib_3          float64\n",
       "sib_1          float64\n",
       "sib_4          float64\n",
       "sib_7          float64\n",
       "age_20-29      float64\n",
       "age_30-39      float64\n",
       "Age_Unknown    float64\n",
       "age_50-59      float64\n",
       "age_0-9        float64\n",
       "age_10-19      float64\n",
       "age_60-69      float64\n",
       "age_40-49      float64\n",
       "age_70-79      float64\n",
       "dtype: object"
      ]
     },
     "execution_count": 30,
     "metadata": {},
     "output_type": "execute_result"
    }
   ],
   "source": [
    "titanic_train = categorise_age(titanic_train)\n",
    "titanic_train = transform_age_cat(titanic_train)\n",
    "titanic_train = titanic_train.drop(\"Age\", axis = 1)\n",
    "titanic_train = titanic_train.drop(\"Age_cat\", axis = 1)\n",
    "titanic_train.dtypes"
   ]
  },
  {
   "cell_type": "code",
   "execution_count": 31,
   "id": "f26478b2",
   "metadata": {
    "execution": {
     "iopub.execute_input": "2022-12-06T16:08:46.634849Z",
     "iopub.status.busy": "2022-12-06T16:08:46.634122Z",
     "iopub.status.idle": "2022-12-06T16:08:46.654770Z",
     "shell.execute_reply": "2022-12-06T16:08:46.653831Z"
    },
    "papermill": {
     "duration": 0.049699,
     "end_time": "2022-12-06T16:08:46.657157",
     "exception": false,
     "start_time": "2022-12-06T16:08:46.607458",
     "status": "completed"
    },
    "tags": []
   },
   "outputs": [
    {
     "data": {
      "text/plain": [
       "PassengerId    float64\n",
       "Pclass           int64\n",
       "Sex             object\n",
       "Parch            int64\n",
       "Ticket          object\n",
       "Fare           float64\n",
       "Cabin           object\n",
       "Embarked        object\n",
       "Sib_Unknown    float64\n",
       "sib_0          float64\n",
       "sib_1          float64\n",
       "sib_2          float64\n",
       "sib_3          float64\n",
       "sib_4          float64\n",
       "sib_7          float64\n",
       "age_30-39      float64\n",
       "age_40-49      float64\n",
       "age_60-69      float64\n",
       "age_20-29      float64\n",
       "age_10-19      float64\n",
       "Age_Unknown    float64\n",
       "age_50-59      float64\n",
       "age_0-9        float64\n",
       "age_70-79      float64\n",
       "dtype: object"
      ]
     },
     "execution_count": 31,
     "metadata": {},
     "output_type": "execute_result"
    }
   ],
   "source": [
    "titanic_test = categorise_age(titanic_test)\n",
    "titanic_test = transform_age_cat(titanic_test)\n",
    "titanic_test = titanic_test.drop(\"Age\", axis = 1)\n",
    "titanic_test = titanic_test.drop(\"Age_cat\", axis = 1)\n",
    "titanic_test.dtypes"
   ]
  },
  {
   "cell_type": "markdown",
   "id": "729681a2",
   "metadata": {
    "papermill": {
     "duration": 0.023807,
     "end_time": "2022-12-06T16:08:46.706533",
     "exception": false,
     "start_time": "2022-12-06T16:08:46.682726",
     "status": "completed"
    },
    "tags": []
   },
   "source": [
    "## Gender transformation to hot-coding \n",
    "We check the factor values are the same between both datasets. Then, we generate a hot coding of two columns; i.e., male and female. Both columns replace the Sex column."
   ]
  },
  {
   "cell_type": "code",
   "execution_count": 32,
   "id": "9594ce28",
   "metadata": {
    "execution": {
     "iopub.execute_input": "2022-12-06T16:08:46.758265Z",
     "iopub.status.busy": "2022-12-06T16:08:46.757523Z",
     "iopub.status.idle": "2022-12-06T16:08:46.764513Z",
     "shell.execute_reply": "2022-12-06T16:08:46.763271Z"
    },
    "papermill": {
     "duration": 0.035538,
     "end_time": "2022-12-06T16:08:46.766792",
     "exception": false,
     "start_time": "2022-12-06T16:08:46.731254",
     "status": "completed"
    },
    "tags": []
   },
   "outputs": [
    {
     "data": {
      "text/plain": [
       "array(['male', 'female'], dtype=object)"
      ]
     },
     "execution_count": 32,
     "metadata": {},
     "output_type": "execute_result"
    }
   ],
   "source": [
    "titanic_train['Sex'].unique()"
   ]
  },
  {
   "cell_type": "code",
   "execution_count": 33,
   "id": "028585bb",
   "metadata": {
    "execution": {
     "iopub.execute_input": "2022-12-06T16:08:46.817414Z",
     "iopub.status.busy": "2022-12-06T16:08:46.816620Z",
     "iopub.status.idle": "2022-12-06T16:08:46.824156Z",
     "shell.execute_reply": "2022-12-06T16:08:46.822848Z"
    },
    "papermill": {
     "duration": 0.0357,
     "end_time": "2022-12-06T16:08:46.826863",
     "exception": false,
     "start_time": "2022-12-06T16:08:46.791163",
     "status": "completed"
    },
    "tags": []
   },
   "outputs": [
    {
     "data": {
      "text/plain": [
       "array(['male', 'female'], dtype=object)"
      ]
     },
     "execution_count": 33,
     "metadata": {},
     "output_type": "execute_result"
    }
   ],
   "source": [
    "titanic_test['Sex'].unique()"
   ]
  },
  {
   "cell_type": "code",
   "execution_count": 34,
   "id": "82dca095",
   "metadata": {
    "execution": {
     "iopub.execute_input": "2022-12-06T16:08:46.880173Z",
     "iopub.status.busy": "2022-12-06T16:08:46.878942Z",
     "iopub.status.idle": "2022-12-06T16:08:46.885656Z",
     "shell.execute_reply": "2022-12-06T16:08:46.884806Z"
    },
    "papermill": {
     "duration": 0.035207,
     "end_time": "2022-12-06T16:08:46.887950",
     "exception": false,
     "start_time": "2022-12-06T16:08:46.852743",
     "status": "completed"
    },
    "tags": []
   },
   "outputs": [],
   "source": [
    "def transform_gender(data):\n",
    "    factors = data['Sex'].unique()\n",
    "    gender_columns = pd.get_dummies(data['Sex'])\n",
    "    columns = range(0,len(factors))\n",
    "    \n",
    "    for column in columns:\n",
    "        data[factors[column]] = gender_columns.loc[:,factors[column]].astype(float)\n",
    "        \n",
    "    return data\n",
    "    "
   ]
  },
  {
   "cell_type": "code",
   "execution_count": 35,
   "id": "b6c8b71d",
   "metadata": {
    "execution": {
     "iopub.execute_input": "2022-12-06T16:08:46.939439Z",
     "iopub.status.busy": "2022-12-06T16:08:46.938944Z",
     "iopub.status.idle": "2022-12-06T16:08:46.953916Z",
     "shell.execute_reply": "2022-12-06T16:08:46.952706Z"
    },
    "papermill": {
     "duration": 0.04436,
     "end_time": "2022-12-06T16:08:46.957167",
     "exception": false,
     "start_time": "2022-12-06T16:08:46.912807",
     "status": "completed"
    },
    "tags": []
   },
   "outputs": [
    {
     "data": {
      "text/plain": [
       "PassengerId    float64\n",
       "Pclass           int64\n",
       "Parch            int64\n",
       "Ticket          object\n",
       "Fare           float64\n",
       "Cabin           object\n",
       "Embarked        object\n",
       "Survived         int64\n",
       "sib_0          float64\n",
       "Sib_Unknown    float64\n",
       "sib_2          float64\n",
       "sib_3          float64\n",
       "sib_1          float64\n",
       "sib_4          float64\n",
       "sib_7          float64\n",
       "age_20-29      float64\n",
       "age_30-39      float64\n",
       "Age_Unknown    float64\n",
       "age_50-59      float64\n",
       "age_0-9        float64\n",
       "age_10-19      float64\n",
       "age_60-69      float64\n",
       "age_40-49      float64\n",
       "age_70-79      float64\n",
       "male           float64\n",
       "female         float64\n",
       "dtype: object"
      ]
     },
     "execution_count": 35,
     "metadata": {},
     "output_type": "execute_result"
    }
   ],
   "source": [
    "titanic_train = transform_gender(titanic_train)\n",
    "titanic_train.drop(\"Sex\", axis = 1, inplace = True)\n",
    "titanic_train.dtypes"
   ]
  },
  {
   "cell_type": "code",
   "execution_count": 36,
   "id": "76e67dd6",
   "metadata": {
    "execution": {
     "iopub.execute_input": "2022-12-06T16:08:47.011249Z",
     "iopub.status.busy": "2022-12-06T16:08:47.010413Z",
     "iopub.status.idle": "2022-12-06T16:08:47.046990Z",
     "shell.execute_reply": "2022-12-06T16:08:47.045749Z"
    },
    "papermill": {
     "duration": 0.067359,
     "end_time": "2022-12-06T16:08:47.049957",
     "exception": false,
     "start_time": "2022-12-06T16:08:46.982598",
     "status": "completed"
    },
    "tags": []
   },
   "outputs": [
    {
     "data": {
      "text/html": [
       "<div>\n",
       "<style scoped>\n",
       "    .dataframe tbody tr th:only-of-type {\n",
       "        vertical-align: middle;\n",
       "    }\n",
       "\n",
       "    .dataframe tbody tr th {\n",
       "        vertical-align: top;\n",
       "    }\n",
       "\n",
       "    .dataframe thead th {\n",
       "        text-align: right;\n",
       "    }\n",
       "</style>\n",
       "<table border=\"1\" class=\"dataframe\">\n",
       "  <thead>\n",
       "    <tr style=\"text-align: right;\">\n",
       "      <th></th>\n",
       "      <th>PassengerId</th>\n",
       "      <th>Pclass</th>\n",
       "      <th>Parch</th>\n",
       "      <th>Ticket</th>\n",
       "      <th>Fare</th>\n",
       "      <th>Cabin</th>\n",
       "      <th>Embarked</th>\n",
       "      <th>Sib_Unknown</th>\n",
       "      <th>sib_0</th>\n",
       "      <th>sib_1</th>\n",
       "      <th>...</th>\n",
       "      <th>age_40-49</th>\n",
       "      <th>age_60-69</th>\n",
       "      <th>age_20-29</th>\n",
       "      <th>age_10-19</th>\n",
       "      <th>Age_Unknown</th>\n",
       "      <th>age_50-59</th>\n",
       "      <th>age_0-9</th>\n",
       "      <th>age_70-79</th>\n",
       "      <th>male</th>\n",
       "      <th>female</th>\n",
       "    </tr>\n",
       "  </thead>\n",
       "  <tbody>\n",
       "    <tr>\n",
       "      <th>0</th>\n",
       "      <td>892.0</td>\n",
       "      <td>3</td>\n",
       "      <td>0</td>\n",
       "      <td>330911</td>\n",
       "      <td>7.8292</td>\n",
       "      <td>NaN</td>\n",
       "      <td>Q</td>\n",
       "      <td>1.0</td>\n",
       "      <td>0.0</td>\n",
       "      <td>0.0</td>\n",
       "      <td>...</td>\n",
       "      <td>0.0</td>\n",
       "      <td>0.0</td>\n",
       "      <td>0.0</td>\n",
       "      <td>0.0</td>\n",
       "      <td>0.0</td>\n",
       "      <td>0.0</td>\n",
       "      <td>0.0</td>\n",
       "      <td>0.0</td>\n",
       "      <td>1.0</td>\n",
       "      <td>0.0</td>\n",
       "    </tr>\n",
       "    <tr>\n",
       "      <th>1</th>\n",
       "      <td>893.0</td>\n",
       "      <td>3</td>\n",
       "      <td>0</td>\n",
       "      <td>363272</td>\n",
       "      <td>7.0000</td>\n",
       "      <td>NaN</td>\n",
       "      <td>S</td>\n",
       "      <td>0.0</td>\n",
       "      <td>1.0</td>\n",
       "      <td>0.0</td>\n",
       "      <td>...</td>\n",
       "      <td>1.0</td>\n",
       "      <td>0.0</td>\n",
       "      <td>0.0</td>\n",
       "      <td>0.0</td>\n",
       "      <td>0.0</td>\n",
       "      <td>0.0</td>\n",
       "      <td>0.0</td>\n",
       "      <td>0.0</td>\n",
       "      <td>0.0</td>\n",
       "      <td>1.0</td>\n",
       "    </tr>\n",
       "    <tr>\n",
       "      <th>2</th>\n",
       "      <td>894.0</td>\n",
       "      <td>2</td>\n",
       "      <td>0</td>\n",
       "      <td>240276</td>\n",
       "      <td>9.6875</td>\n",
       "      <td>NaN</td>\n",
       "      <td>Q</td>\n",
       "      <td>1.0</td>\n",
       "      <td>0.0</td>\n",
       "      <td>0.0</td>\n",
       "      <td>...</td>\n",
       "      <td>0.0</td>\n",
       "      <td>1.0</td>\n",
       "      <td>0.0</td>\n",
       "      <td>0.0</td>\n",
       "      <td>0.0</td>\n",
       "      <td>0.0</td>\n",
       "      <td>0.0</td>\n",
       "      <td>0.0</td>\n",
       "      <td>1.0</td>\n",
       "      <td>0.0</td>\n",
       "    </tr>\n",
       "    <tr>\n",
       "      <th>3</th>\n",
       "      <td>895.0</td>\n",
       "      <td>3</td>\n",
       "      <td>0</td>\n",
       "      <td>315154</td>\n",
       "      <td>8.6625</td>\n",
       "      <td>NaN</td>\n",
       "      <td>S</td>\n",
       "      <td>1.0</td>\n",
       "      <td>0.0</td>\n",
       "      <td>0.0</td>\n",
       "      <td>...</td>\n",
       "      <td>0.0</td>\n",
       "      <td>0.0</td>\n",
       "      <td>1.0</td>\n",
       "      <td>0.0</td>\n",
       "      <td>0.0</td>\n",
       "      <td>0.0</td>\n",
       "      <td>0.0</td>\n",
       "      <td>0.0</td>\n",
       "      <td>1.0</td>\n",
       "      <td>0.0</td>\n",
       "    </tr>\n",
       "    <tr>\n",
       "      <th>4</th>\n",
       "      <td>896.0</td>\n",
       "      <td>3</td>\n",
       "      <td>1</td>\n",
       "      <td>3101298</td>\n",
       "      <td>12.2875</td>\n",
       "      <td>NaN</td>\n",
       "      <td>S</td>\n",
       "      <td>0.0</td>\n",
       "      <td>1.0</td>\n",
       "      <td>0.0</td>\n",
       "      <td>...</td>\n",
       "      <td>0.0</td>\n",
       "      <td>0.0</td>\n",
       "      <td>1.0</td>\n",
       "      <td>0.0</td>\n",
       "      <td>0.0</td>\n",
       "      <td>0.0</td>\n",
       "      <td>0.0</td>\n",
       "      <td>0.0</td>\n",
       "      <td>0.0</td>\n",
       "      <td>1.0</td>\n",
       "    </tr>\n",
       "  </tbody>\n",
       "</table>\n",
       "<p>5 rows × 25 columns</p>\n",
       "</div>"
      ],
      "text/plain": [
       "   PassengerId  Pclass  Parch   Ticket     Fare Cabin Embarked  Sib_Unknown  \\\n",
       "0        892.0       3      0   330911   7.8292   NaN        Q          1.0   \n",
       "1        893.0       3      0   363272   7.0000   NaN        S          0.0   \n",
       "2        894.0       2      0   240276   9.6875   NaN        Q          1.0   \n",
       "3        895.0       3      0   315154   8.6625   NaN        S          1.0   \n",
       "4        896.0       3      1  3101298  12.2875   NaN        S          0.0   \n",
       "\n",
       "   sib_0  sib_1  ...  age_40-49  age_60-69  age_20-29  age_10-19  Age_Unknown  \\\n",
       "0    0.0    0.0  ...        0.0        0.0        0.0        0.0          0.0   \n",
       "1    1.0    0.0  ...        1.0        0.0        0.0        0.0          0.0   \n",
       "2    0.0    0.0  ...        0.0        1.0        0.0        0.0          0.0   \n",
       "3    0.0    0.0  ...        0.0        0.0        1.0        0.0          0.0   \n",
       "4    1.0    0.0  ...        0.0        0.0        1.0        0.0          0.0   \n",
       "\n",
       "   age_50-59  age_0-9  age_70-79  male  female  \n",
       "0        0.0      0.0        0.0   1.0     0.0  \n",
       "1        0.0      0.0        0.0   0.0     1.0  \n",
       "2        0.0      0.0        0.0   1.0     0.0  \n",
       "3        0.0      0.0        0.0   1.0     0.0  \n",
       "4        0.0      0.0        0.0   0.0     1.0  \n",
       "\n",
       "[5 rows x 25 columns]"
      ]
     },
     "execution_count": 36,
     "metadata": {},
     "output_type": "execute_result"
    }
   ],
   "source": [
    "titanic_test = transform_gender(titanic_test)\n",
    "titanic_test.drop(\"Sex\", axis = 1,inplace = True)\n",
    "titanic_test.head()"
   ]
  },
  {
   "cell_type": "markdown",
   "id": "cd69d85d",
   "metadata": {
    "papermill": {
     "duration": 0.024493,
     "end_time": "2022-12-06T16:08:47.099519",
     "exception": false,
     "start_time": "2022-12-06T16:08:47.075026",
     "status": "completed"
    },
    "tags": []
   },
   "source": [
    "## Cabin and Pclass\n",
    "\n",
    "The passenger class appears to drive whether a cabin is known. So, we propose to drop the cabin as the percentage of not known values is quite high. We apply an hot encoding the Pclass. "
   ]
  },
  {
   "cell_type": "code",
   "execution_count": 37,
   "id": "d1596525",
   "metadata": {
    "execution": {
     "iopub.execute_input": "2022-12-06T16:08:47.151546Z",
     "iopub.status.busy": "2022-12-06T16:08:47.151147Z",
     "iopub.status.idle": "2022-12-06T16:08:47.158327Z",
     "shell.execute_reply": "2022-12-06T16:08:47.157400Z"
    },
    "papermill": {
     "duration": 0.036512,
     "end_time": "2022-12-06T16:08:47.161170",
     "exception": false,
     "start_time": "2022-12-06T16:08:47.124658",
     "status": "completed"
    },
    "tags": []
   },
   "outputs": [
    {
     "data": {
      "text/plain": [
       "array([nan, 'C85', 'C123', 'E46', 'G6', 'C103', 'D56', 'A6',\n",
       "       'C23 C25 C27', 'B78', 'D33', 'B30', 'C52', 'B28', 'C83', 'F33',\n",
       "       'F G73', 'E31', 'A5', 'D10 D12', 'D26', 'C110', 'B58 B60', 'E101',\n",
       "       'F E69', 'D47', 'B86', 'F2', 'C2', 'E33', 'B19', 'A7', 'C49', 'F4',\n",
       "       'A32', 'B4', 'B80', 'A31', 'D36', 'D15', 'C93', 'C78', 'D35',\n",
       "       'C87', 'B77', 'E67', 'B94', 'C125', 'C99', 'C118', 'D7', 'A19',\n",
       "       'B49', 'D', 'C22 C26', 'C106', 'C65', 'E36', 'C54',\n",
       "       'B57 B59 B63 B66', 'C7', 'E34', 'C32', 'B18', 'C124', 'C91', 'E40',\n",
       "       'T', 'C128', 'D37', 'B35', 'E50', 'C82', 'B96 B98', 'E10', 'E44',\n",
       "       'A34', 'C104', 'C111', 'C92', 'E38', 'D21', 'E12', 'E63', 'A14',\n",
       "       'B37', 'C30', 'D20', 'B79', 'E25', 'D46', 'B73', 'C95', 'B38',\n",
       "       'B39', 'B22', 'C86', 'C70', 'A16', 'C101', 'C68', 'A10', 'E68',\n",
       "       'B41', 'A20', 'D19', 'D50', 'D9', 'A23', 'B50', 'A26', 'D48',\n",
       "       'E58', 'C126', 'B71', 'B51 B53 B55', 'D49', 'B5', 'B20', 'F G63',\n",
       "       'C62 C64', 'E24', 'C90', 'C45', 'E8', 'B101', 'D45', 'C46', 'D30',\n",
       "       'E121', 'D11', 'E77', 'F38', 'B3', 'D6', 'B82 B84', 'D17', 'A36',\n",
       "       'B102', 'B69', 'E49', 'C47', 'D28', 'E17', 'A24', 'C50', 'B42',\n",
       "       'C148'], dtype=object)"
      ]
     },
     "execution_count": 37,
     "metadata": {},
     "output_type": "execute_result"
    }
   ],
   "source": [
    "titanic_train['Cabin'].unique()"
   ]
  },
  {
   "cell_type": "code",
   "execution_count": 38,
   "id": "800a8098",
   "metadata": {
    "execution": {
     "iopub.execute_input": "2022-12-06T16:08:47.215492Z",
     "iopub.status.busy": "2022-12-06T16:08:47.215019Z",
     "iopub.status.idle": "2022-12-06T16:08:47.223211Z",
     "shell.execute_reply": "2022-12-06T16:08:47.221903Z"
    },
    "papermill": {
     "duration": 0.038526,
     "end_time": "2022-12-06T16:08:47.226040",
     "exception": false,
     "start_time": "2022-12-06T16:08:47.187514",
     "status": "completed"
    },
    "tags": []
   },
   "outputs": [
    {
     "name": "stdout",
     "output_type": "stream",
     "text": [
      "percentage of cabin  nan values - training  0.7710437710437711\n",
      "percentage of cabin  nan values - test  0.7822966507177034\n"
     ]
    }
   ],
   "source": [
    "print(\"percentage of cabin  nan values - training \", titanic_train['Cabin'].isna().sum()/titanic_train.shape[0])\n",
    "print(\"percentage of cabin  nan values - test \", titanic_test['Cabin'].isna().sum()/titanic_test.shape[0])"
   ]
  },
  {
   "cell_type": "code",
   "execution_count": 39,
   "id": "aea667df",
   "metadata": {
    "execution": {
     "iopub.execute_input": "2022-12-06T16:08:47.279406Z",
     "iopub.status.busy": "2022-12-06T16:08:47.278061Z",
     "iopub.status.idle": "2022-12-06T16:08:47.285782Z",
     "shell.execute_reply": "2022-12-06T16:08:47.284367Z"
    },
    "papermill": {
     "duration": 0.036851,
     "end_time": "2022-12-06T16:08:47.288153",
     "exception": false,
     "start_time": "2022-12-06T16:08:47.251302",
     "status": "completed"
    },
    "tags": []
   },
   "outputs": [
    {
     "data": {
      "text/plain": [
       "array([3, 1, 2])"
      ]
     },
     "execution_count": 39,
     "metadata": {},
     "output_type": "execute_result"
    }
   ],
   "source": [
    "titanic_train['Pclass'].unique()"
   ]
  },
  {
   "cell_type": "code",
   "execution_count": 40,
   "id": "56faa22e",
   "metadata": {
    "execution": {
     "iopub.execute_input": "2022-12-06T16:08:47.341435Z",
     "iopub.status.busy": "2022-12-06T16:08:47.340317Z",
     "iopub.status.idle": "2022-12-06T16:08:47.348942Z",
     "shell.execute_reply": "2022-12-06T16:08:47.347697Z"
    },
    "papermill": {
     "duration": 0.037575,
     "end_time": "2022-12-06T16:08:47.351257",
     "exception": false,
     "start_time": "2022-12-06T16:08:47.313682",
     "status": "completed"
    },
    "tags": []
   },
   "outputs": [
    {
     "data": {
      "text/plain": [
       "array([3, 2, 1])"
      ]
     },
     "execution_count": 40,
     "metadata": {},
     "output_type": "execute_result"
    }
   ],
   "source": [
    "titanic_test['Pclass'].unique()"
   ]
  },
  {
   "cell_type": "code",
   "execution_count": 41,
   "id": "d8bba6f3",
   "metadata": {
    "execution": {
     "iopub.execute_input": "2022-12-06T16:08:47.404304Z",
     "iopub.status.busy": "2022-12-06T16:08:47.403822Z",
     "iopub.status.idle": "2022-12-06T16:08:47.420115Z",
     "shell.execute_reply": "2022-12-06T16:08:47.418688Z"
    },
    "papermill": {
     "duration": 0.045768,
     "end_time": "2022-12-06T16:08:47.422497",
     "exception": false,
     "start_time": "2022-12-06T16:08:47.376729",
     "status": "completed"
    },
    "tags": []
   },
   "outputs": [
    {
     "data": {
      "text/html": [
       "<div>\n",
       "<style scoped>\n",
       "    .dataframe tbody tr th:only-of-type {\n",
       "        vertical-align: middle;\n",
       "    }\n",
       "\n",
       "    .dataframe tbody tr th {\n",
       "        vertical-align: top;\n",
       "    }\n",
       "\n",
       "    .dataframe thead th {\n",
       "        text-align: right;\n",
       "    }\n",
       "</style>\n",
       "<table border=\"1\" class=\"dataframe\">\n",
       "  <thead>\n",
       "    <tr style=\"text-align: right;\">\n",
       "      <th></th>\n",
       "      <th>Pclass</th>\n",
       "      <th>Cabin</th>\n",
       "    </tr>\n",
       "  </thead>\n",
       "  <tbody>\n",
       "    <tr>\n",
       "      <th>1</th>\n",
       "      <td>1</td>\n",
       "      <td>C85</td>\n",
       "    </tr>\n",
       "    <tr>\n",
       "      <th>3</th>\n",
       "      <td>1</td>\n",
       "      <td>C123</td>\n",
       "    </tr>\n",
       "    <tr>\n",
       "      <th>6</th>\n",
       "      <td>1</td>\n",
       "      <td>E46</td>\n",
       "    </tr>\n",
       "    <tr>\n",
       "      <th>11</th>\n",
       "      <td>1</td>\n",
       "      <td>C103</td>\n",
       "    </tr>\n",
       "    <tr>\n",
       "      <th>23</th>\n",
       "      <td>1</td>\n",
       "      <td>A6</td>\n",
       "    </tr>\n",
       "    <tr>\n",
       "      <th>...</th>\n",
       "      <td>...</td>\n",
       "      <td>...</td>\n",
       "    </tr>\n",
       "    <tr>\n",
       "      <th>871</th>\n",
       "      <td>1</td>\n",
       "      <td>D35</td>\n",
       "    </tr>\n",
       "    <tr>\n",
       "      <th>872</th>\n",
       "      <td>1</td>\n",
       "      <td>B51 B53 B55</td>\n",
       "    </tr>\n",
       "    <tr>\n",
       "      <th>879</th>\n",
       "      <td>1</td>\n",
       "      <td>C50</td>\n",
       "    </tr>\n",
       "    <tr>\n",
       "      <th>887</th>\n",
       "      <td>1</td>\n",
       "      <td>B42</td>\n",
       "    </tr>\n",
       "    <tr>\n",
       "      <th>889</th>\n",
       "      <td>1</td>\n",
       "      <td>C148</td>\n",
       "    </tr>\n",
       "  </tbody>\n",
       "</table>\n",
       "<p>216 rows × 2 columns</p>\n",
       "</div>"
      ],
      "text/plain": [
       "     Pclass        Cabin\n",
       "1         1          C85\n",
       "3         1         C123\n",
       "6         1          E46\n",
       "11        1         C103\n",
       "23        1           A6\n",
       "..      ...          ...\n",
       "871       1          D35\n",
       "872       1  B51 B53 B55\n",
       "879       1          C50\n",
       "887       1          B42\n",
       "889       1         C148\n",
       "\n",
       "[216 rows x 2 columns]"
      ]
     },
     "execution_count": 41,
     "metadata": {},
     "output_type": "execute_result"
    }
   ],
   "source": [
    "titanic_train.loc[titanic_train['Pclass'] == 1 ,['Pclass','Cabin']]"
   ]
  },
  {
   "cell_type": "code",
   "execution_count": 42,
   "id": "deededdc",
   "metadata": {
    "execution": {
     "iopub.execute_input": "2022-12-06T16:08:47.475974Z",
     "iopub.status.busy": "2022-12-06T16:08:47.475553Z",
     "iopub.status.idle": "2022-12-06T16:08:47.492058Z",
     "shell.execute_reply": "2022-12-06T16:08:47.490423Z"
    },
    "papermill": {
     "duration": 0.046183,
     "end_time": "2022-12-06T16:08:47.494766",
     "exception": false,
     "start_time": "2022-12-06T16:08:47.448583",
     "status": "completed"
    },
    "tags": []
   },
   "outputs": [
    {
     "data": {
      "text/html": [
       "<div>\n",
       "<style scoped>\n",
       "    .dataframe tbody tr th:only-of-type {\n",
       "        vertical-align: middle;\n",
       "    }\n",
       "\n",
       "    .dataframe tbody tr th {\n",
       "        vertical-align: top;\n",
       "    }\n",
       "\n",
       "    .dataframe thead th {\n",
       "        text-align: right;\n",
       "    }\n",
       "</style>\n",
       "<table border=\"1\" class=\"dataframe\">\n",
       "  <thead>\n",
       "    <tr style=\"text-align: right;\">\n",
       "      <th></th>\n",
       "      <th>Pclass</th>\n",
       "      <th>Cabin</th>\n",
       "    </tr>\n",
       "  </thead>\n",
       "  <tbody>\n",
       "    <tr>\n",
       "      <th>9</th>\n",
       "      <td>2</td>\n",
       "      <td>NaN</td>\n",
       "    </tr>\n",
       "    <tr>\n",
       "      <th>15</th>\n",
       "      <td>2</td>\n",
       "      <td>NaN</td>\n",
       "    </tr>\n",
       "    <tr>\n",
       "      <th>17</th>\n",
       "      <td>2</td>\n",
       "      <td>NaN</td>\n",
       "    </tr>\n",
       "    <tr>\n",
       "      <th>20</th>\n",
       "      <td>2</td>\n",
       "      <td>NaN</td>\n",
       "    </tr>\n",
       "    <tr>\n",
       "      <th>21</th>\n",
       "      <td>2</td>\n",
       "      <td>D56</td>\n",
       "    </tr>\n",
       "    <tr>\n",
       "      <th>...</th>\n",
       "      <td>...</td>\n",
       "      <td>...</td>\n",
       "    </tr>\n",
       "    <tr>\n",
       "      <th>866</th>\n",
       "      <td>2</td>\n",
       "      <td>NaN</td>\n",
       "    </tr>\n",
       "    <tr>\n",
       "      <th>874</th>\n",
       "      <td>2</td>\n",
       "      <td>NaN</td>\n",
       "    </tr>\n",
       "    <tr>\n",
       "      <th>880</th>\n",
       "      <td>2</td>\n",
       "      <td>NaN</td>\n",
       "    </tr>\n",
       "    <tr>\n",
       "      <th>883</th>\n",
       "      <td>2</td>\n",
       "      <td>NaN</td>\n",
       "    </tr>\n",
       "    <tr>\n",
       "      <th>886</th>\n",
       "      <td>2</td>\n",
       "      <td>NaN</td>\n",
       "    </tr>\n",
       "  </tbody>\n",
       "</table>\n",
       "<p>184 rows × 2 columns</p>\n",
       "</div>"
      ],
      "text/plain": [
       "     Pclass Cabin\n",
       "9         2   NaN\n",
       "15        2   NaN\n",
       "17        2   NaN\n",
       "20        2   NaN\n",
       "21        2   D56\n",
       "..      ...   ...\n",
       "866       2   NaN\n",
       "874       2   NaN\n",
       "880       2   NaN\n",
       "883       2   NaN\n",
       "886       2   NaN\n",
       "\n",
       "[184 rows x 2 columns]"
      ]
     },
     "execution_count": 42,
     "metadata": {},
     "output_type": "execute_result"
    }
   ],
   "source": [
    "titanic_train.loc[titanic_train['Pclass'] == 2 ,['Pclass','Cabin']]"
   ]
  },
  {
   "cell_type": "code",
   "execution_count": 43,
   "id": "36e8cb16",
   "metadata": {
    "execution": {
     "iopub.execute_input": "2022-12-06T16:08:47.550791Z",
     "iopub.status.busy": "2022-12-06T16:08:47.549857Z",
     "iopub.status.idle": "2022-12-06T16:08:47.567891Z",
     "shell.execute_reply": "2022-12-06T16:08:47.566607Z"
    },
    "papermill": {
     "duration": 0.048497,
     "end_time": "2022-12-06T16:08:47.570477",
     "exception": false,
     "start_time": "2022-12-06T16:08:47.521980",
     "status": "completed"
    },
    "tags": []
   },
   "outputs": [
    {
     "data": {
      "text/html": [
       "<div>\n",
       "<style scoped>\n",
       "    .dataframe tbody tr th:only-of-type {\n",
       "        vertical-align: middle;\n",
       "    }\n",
       "\n",
       "    .dataframe tbody tr th {\n",
       "        vertical-align: top;\n",
       "    }\n",
       "\n",
       "    .dataframe thead th {\n",
       "        text-align: right;\n",
       "    }\n",
       "</style>\n",
       "<table border=\"1\" class=\"dataframe\">\n",
       "  <thead>\n",
       "    <tr style=\"text-align: right;\">\n",
       "      <th></th>\n",
       "      <th>Pclass</th>\n",
       "      <th>Cabin</th>\n",
       "    </tr>\n",
       "  </thead>\n",
       "  <tbody>\n",
       "    <tr>\n",
       "      <th>0</th>\n",
       "      <td>3</td>\n",
       "      <td>NaN</td>\n",
       "    </tr>\n",
       "    <tr>\n",
       "      <th>2</th>\n",
       "      <td>3</td>\n",
       "      <td>NaN</td>\n",
       "    </tr>\n",
       "    <tr>\n",
       "      <th>4</th>\n",
       "      <td>3</td>\n",
       "      <td>NaN</td>\n",
       "    </tr>\n",
       "    <tr>\n",
       "      <th>5</th>\n",
       "      <td>3</td>\n",
       "      <td>NaN</td>\n",
       "    </tr>\n",
       "    <tr>\n",
       "      <th>7</th>\n",
       "      <td>3</td>\n",
       "      <td>NaN</td>\n",
       "    </tr>\n",
       "    <tr>\n",
       "      <th>...</th>\n",
       "      <td>...</td>\n",
       "      <td>...</td>\n",
       "    </tr>\n",
       "    <tr>\n",
       "      <th>882</th>\n",
       "      <td>3</td>\n",
       "      <td>NaN</td>\n",
       "    </tr>\n",
       "    <tr>\n",
       "      <th>884</th>\n",
       "      <td>3</td>\n",
       "      <td>NaN</td>\n",
       "    </tr>\n",
       "    <tr>\n",
       "      <th>885</th>\n",
       "      <td>3</td>\n",
       "      <td>NaN</td>\n",
       "    </tr>\n",
       "    <tr>\n",
       "      <th>888</th>\n",
       "      <td>3</td>\n",
       "      <td>NaN</td>\n",
       "    </tr>\n",
       "    <tr>\n",
       "      <th>890</th>\n",
       "      <td>3</td>\n",
       "      <td>NaN</td>\n",
       "    </tr>\n",
       "  </tbody>\n",
       "</table>\n",
       "<p>491 rows × 2 columns</p>\n",
       "</div>"
      ],
      "text/plain": [
       "     Pclass Cabin\n",
       "0         3   NaN\n",
       "2         3   NaN\n",
       "4         3   NaN\n",
       "5         3   NaN\n",
       "7         3   NaN\n",
       "..      ...   ...\n",
       "882       3   NaN\n",
       "884       3   NaN\n",
       "885       3   NaN\n",
       "888       3   NaN\n",
       "890       3   NaN\n",
       "\n",
       "[491 rows x 2 columns]"
      ]
     },
     "execution_count": 43,
     "metadata": {},
     "output_type": "execute_result"
    }
   ],
   "source": [
    "titanic_train.loc[titanic_train['Pclass'] == 3 ,['Pclass','Cabin']]"
   ]
  },
  {
   "cell_type": "code",
   "execution_count": 44,
   "id": "b005ee94",
   "metadata": {
    "execution": {
     "iopub.execute_input": "2022-12-06T16:08:47.625134Z",
     "iopub.status.busy": "2022-12-06T16:08:47.624676Z",
     "iopub.status.idle": "2022-12-06T16:08:47.881097Z",
     "shell.execute_reply": "2022-12-06T16:08:47.879770Z"
    },
    "papermill": {
     "duration": 0.286646,
     "end_time": "2022-12-06T16:08:47.883690",
     "exception": false,
     "start_time": "2022-12-06T16:08:47.597044",
     "status": "completed"
    },
    "tags": []
   },
   "outputs": [
    {
     "data": {
      "text/plain": [
       "<matplotlib.collections.PathCollection at 0x7f4ae1523590>"
      ]
     },
     "execution_count": 44,
     "metadata": {},
     "output_type": "execute_result"
    },
    {
     "data": {
      "image/png": "[encoded data removed]",
      "text/plain": [
       "<Figure size 432x288 with 1 Axes>"
      ]
     },
     "metadata": {
      "needs_background": "light"
     },
     "output_type": "display_data"
    }
   ],
   "source": [
    "xs = titanic_train.loc[titanic_train['Fare'] > 0,'Pclass']\n",
    "ys = np.log10(titanic_train.loc[titanic_train['Fare'] > 0,'Fare'])\n",
    "plt.scatter(xs,ys)"
   ]
  },
  {
   "cell_type": "code",
   "execution_count": 45,
   "id": "298116e2",
   "metadata": {
    "execution": {
     "iopub.execute_input": "2022-12-06T16:08:47.940893Z",
     "iopub.status.busy": "2022-12-06T16:08:47.939482Z",
     "iopub.status.idle": "2022-12-06T16:08:48.178141Z",
     "shell.execute_reply": "2022-12-06T16:08:48.176642Z"
    },
    "papermill": {
     "duration": 0.270691,
     "end_time": "2022-12-06T16:08:48.181305",
     "exception": false,
     "start_time": "2022-12-06T16:08:47.910614",
     "status": "completed"
    },
    "tags": []
   },
   "outputs": [
    {
     "data": {
      "text/plain": [
       "<matplotlib.collections.PathCollection at 0x7f4ae14a7e50>"
      ]
     },
     "execution_count": 45,
     "metadata": {},
     "output_type": "execute_result"
    },
    {
     "data": {
      "image/png": "[encoded data removed]",
      "text/plain": [
       "<Figure size 432x288 with 1 Axes>"
      ]
     },
     "metadata": {
      "needs_background": "light"
     },
     "output_type": "display_data"
    }
   ],
   "source": [
    "xs = titanic_test.loc[titanic_test['Fare'] > 0,'Pclass']\n",
    "ys = np.log10(titanic_test.loc[titanic_test['Fare'] > 0,'Fare'])\n",
    "plt.scatter(xs,ys)"
   ]
  },
  {
   "cell_type": "code",
   "execution_count": 46,
   "id": "84d8ed9c",
   "metadata": {
    "execution": {
     "iopub.execute_input": "2022-12-06T16:08:48.236828Z",
     "iopub.status.busy": "2022-12-06T16:08:48.236189Z",
     "iopub.status.idle": "2022-12-06T16:08:48.474120Z",
     "shell.execute_reply": "2022-12-06T16:08:48.472741Z"
    },
    "papermill": {
     "duration": 0.268851,
     "end_time": "2022-12-06T16:08:48.476777",
     "exception": false,
     "start_time": "2022-12-06T16:08:48.207926",
     "status": "completed"
    },
    "tags": []
   },
   "outputs": [
    {
     "data": {
      "text/plain": [
       "<matplotlib.collections.PathCollection at 0x7f4ae1429fd0>"
      ]
     },
     "execution_count": 46,
     "metadata": {},
     "output_type": "execute_result"
    },
    {
     "data": {
      "image/png": "[encoded data removed]",
      "text/plain": [
       "<Figure size 432x288 with 1 Axes>"
      ]
     },
     "metadata": {
      "needs_background": "light"
     },
     "output_type": "display_data"
    }
   ],
   "source": [
    "plt.scatter(titanic_train[\"Pclass\"],titanic_train[\"Fare\"])"
   ]
  },
  {
   "cell_type": "code",
   "execution_count": 47,
   "id": "3fe8de3f",
   "metadata": {
    "execution": {
     "iopub.execute_input": "2022-12-06T16:08:48.534507Z",
     "iopub.status.busy": "2022-12-06T16:08:48.534058Z",
     "iopub.status.idle": "2022-12-06T16:08:48.541295Z",
     "shell.execute_reply": "2022-12-06T16:08:48.539906Z"
    },
    "papermill": {
     "duration": 0.039104,
     "end_time": "2022-12-06T16:08:48.543623",
     "exception": false,
     "start_time": "2022-12-06T16:08:48.504519",
     "status": "completed"
    },
    "tags": []
   },
   "outputs": [],
   "source": [
    "def transform_Pclass(data):\n",
    "    factors = data['Pclass'].unique()\n",
    "    Pclass_columns = pd.get_dummies(data['Pclass'])\n",
    "    columns = range(0,len(factors))\n",
    "    \n",
    "    for column in columns:\n",
    "        col_name = 'Class_' + str(factors[column])\n",
    "        data[col_name] = Pclass_columns.loc[:,factors[column]].astype(float)\n",
    "        \n",
    "    data.drop(\"Pclass\", axis = 1)\n",
    "    return data\n",
    "    "
   ]
  },
  {
   "cell_type": "code",
   "execution_count": 48,
   "id": "cf6ab358",
   "metadata": {
    "execution": {
     "iopub.execute_input": "2022-12-06T16:08:48.600043Z",
     "iopub.status.busy": "2022-12-06T16:08:48.599626Z",
     "iopub.status.idle": "2022-12-06T16:08:48.641234Z",
     "shell.execute_reply": "2022-12-06T16:08:48.639990Z"
    },
    "papermill": {
     "duration": 0.073004,
     "end_time": "2022-12-06T16:08:48.643754",
     "exception": false,
     "start_time": "2022-12-06T16:08:48.570750",
     "status": "completed"
    },
    "tags": []
   },
   "outputs": [
    {
     "data": {
      "text/html": [
       "<div>\n",
       "<style scoped>\n",
       "    .dataframe tbody tr th:only-of-type {\n",
       "        vertical-align: middle;\n",
       "    }\n",
       "\n",
       "    .dataframe tbody tr th {\n",
       "        vertical-align: top;\n",
       "    }\n",
       "\n",
       "    .dataframe thead th {\n",
       "        text-align: right;\n",
       "    }\n",
       "</style>\n",
       "<table border=\"1\" class=\"dataframe\">\n",
       "  <thead>\n",
       "    <tr style=\"text-align: right;\">\n",
       "      <th></th>\n",
       "      <th>PassengerId</th>\n",
       "      <th>Parch</th>\n",
       "      <th>Ticket</th>\n",
       "      <th>Fare</th>\n",
       "      <th>Embarked</th>\n",
       "      <th>Survived</th>\n",
       "      <th>sib_0</th>\n",
       "      <th>Sib_Unknown</th>\n",
       "      <th>sib_2</th>\n",
       "      <th>sib_3</th>\n",
       "      <th>...</th>\n",
       "      <th>age_0-9</th>\n",
       "      <th>age_10-19</th>\n",
       "      <th>age_60-69</th>\n",
       "      <th>age_40-49</th>\n",
       "      <th>age_70-79</th>\n",
       "      <th>male</th>\n",
       "      <th>female</th>\n",
       "      <th>Class_3</th>\n",
       "      <th>Class_1</th>\n",
       "      <th>Class_2</th>\n",
       "    </tr>\n",
       "  </thead>\n",
       "  <tbody>\n",
       "    <tr>\n",
       "      <th>0</th>\n",
       "      <td>1.0</td>\n",
       "      <td>0</td>\n",
       "      <td>A/5 21171</td>\n",
       "      <td>7.2500</td>\n",
       "      <td>S</td>\n",
       "      <td>0</td>\n",
       "      <td>1.0</td>\n",
       "      <td>0.0</td>\n",
       "      <td>0.0</td>\n",
       "      <td>0.0</td>\n",
       "      <td>...</td>\n",
       "      <td>0.0</td>\n",
       "      <td>0.0</td>\n",
       "      <td>0.0</td>\n",
       "      <td>0.0</td>\n",
       "      <td>0.0</td>\n",
       "      <td>1.0</td>\n",
       "      <td>0.0</td>\n",
       "      <td>1.0</td>\n",
       "      <td>0.0</td>\n",
       "      <td>0.0</td>\n",
       "    </tr>\n",
       "    <tr>\n",
       "      <th>1</th>\n",
       "      <td>2.0</td>\n",
       "      <td>0</td>\n",
       "      <td>PC 17599</td>\n",
       "      <td>71.2833</td>\n",
       "      <td>C</td>\n",
       "      <td>1</td>\n",
       "      <td>1.0</td>\n",
       "      <td>0.0</td>\n",
       "      <td>0.0</td>\n",
       "      <td>0.0</td>\n",
       "      <td>...</td>\n",
       "      <td>0.0</td>\n",
       "      <td>0.0</td>\n",
       "      <td>0.0</td>\n",
       "      <td>0.0</td>\n",
       "      <td>0.0</td>\n",
       "      <td>0.0</td>\n",
       "      <td>1.0</td>\n",
       "      <td>0.0</td>\n",
       "      <td>1.0</td>\n",
       "      <td>0.0</td>\n",
       "    </tr>\n",
       "    <tr>\n",
       "      <th>2</th>\n",
       "      <td>3.0</td>\n",
       "      <td>0</td>\n",
       "      <td>STON/O2. 3101282</td>\n",
       "      <td>7.9250</td>\n",
       "      <td>S</td>\n",
       "      <td>1</td>\n",
       "      <td>0.0</td>\n",
       "      <td>1.0</td>\n",
       "      <td>0.0</td>\n",
       "      <td>0.0</td>\n",
       "      <td>...</td>\n",
       "      <td>0.0</td>\n",
       "      <td>0.0</td>\n",
       "      <td>0.0</td>\n",
       "      <td>0.0</td>\n",
       "      <td>0.0</td>\n",
       "      <td>0.0</td>\n",
       "      <td>1.0</td>\n",
       "      <td>1.0</td>\n",
       "      <td>0.0</td>\n",
       "      <td>0.0</td>\n",
       "    </tr>\n",
       "    <tr>\n",
       "      <th>3</th>\n",
       "      <td>4.0</td>\n",
       "      <td>0</td>\n",
       "      <td>113803</td>\n",
       "      <td>53.1000</td>\n",
       "      <td>S</td>\n",
       "      <td>1</td>\n",
       "      <td>1.0</td>\n",
       "      <td>0.0</td>\n",
       "      <td>0.0</td>\n",
       "      <td>0.0</td>\n",
       "      <td>...</td>\n",
       "      <td>0.0</td>\n",
       "      <td>0.0</td>\n",
       "      <td>0.0</td>\n",
       "      <td>0.0</td>\n",
       "      <td>0.0</td>\n",
       "      <td>0.0</td>\n",
       "      <td>1.0</td>\n",
       "      <td>0.0</td>\n",
       "      <td>1.0</td>\n",
       "      <td>0.0</td>\n",
       "    </tr>\n",
       "    <tr>\n",
       "      <th>4</th>\n",
       "      <td>5.0</td>\n",
       "      <td>0</td>\n",
       "      <td>373450</td>\n",
       "      <td>8.0500</td>\n",
       "      <td>S</td>\n",
       "      <td>0</td>\n",
       "      <td>0.0</td>\n",
       "      <td>1.0</td>\n",
       "      <td>0.0</td>\n",
       "      <td>0.0</td>\n",
       "      <td>...</td>\n",
       "      <td>0.0</td>\n",
       "      <td>0.0</td>\n",
       "      <td>0.0</td>\n",
       "      <td>0.0</td>\n",
       "      <td>0.0</td>\n",
       "      <td>1.0</td>\n",
       "      <td>0.0</td>\n",
       "      <td>1.0</td>\n",
       "      <td>0.0</td>\n",
       "      <td>0.0</td>\n",
       "    </tr>\n",
       "  </tbody>\n",
       "</table>\n",
       "<p>5 rows × 27 columns</p>\n",
       "</div>"
      ],
      "text/plain": [
       "   PassengerId  Parch            Ticket     Fare Embarked  Survived  sib_0  \\\n",
       "0          1.0      0         A/5 21171   7.2500        S         0    1.0   \n",
       "1          2.0      0          PC 17599  71.2833        C         1    1.0   \n",
       "2          3.0      0  STON/O2. 3101282   7.9250        S         1    0.0   \n",
       "3          4.0      0            113803  53.1000        S         1    1.0   \n",
       "4          5.0      0            373450   8.0500        S         0    0.0   \n",
       "\n",
       "   Sib_Unknown  sib_2  sib_3  ...  age_0-9  age_10-19  age_60-69  age_40-49  \\\n",
       "0          0.0    0.0    0.0  ...      0.0        0.0        0.0        0.0   \n",
       "1          0.0    0.0    0.0  ...      0.0        0.0        0.0        0.0   \n",
       "2          1.0    0.0    0.0  ...      0.0        0.0        0.0        0.0   \n",
       "3          0.0    0.0    0.0  ...      0.0        0.0        0.0        0.0   \n",
       "4          1.0    0.0    0.0  ...      0.0        0.0        0.0        0.0   \n",
       "\n",
       "   age_70-79  male  female  Class_3  Class_1  Class_2  \n",
       "0        0.0   1.0     0.0      1.0      0.0      0.0  \n",
       "1        0.0   0.0     1.0      0.0      1.0      0.0  \n",
       "2        0.0   0.0     1.0      1.0      0.0      0.0  \n",
       "3        0.0   0.0     1.0      0.0      1.0      0.0  \n",
       "4        0.0   1.0     0.0      1.0      0.0      0.0  \n",
       "\n",
       "[5 rows x 27 columns]"
      ]
     },
     "execution_count": 48,
     "metadata": {},
     "output_type": "execute_result"
    }
   ],
   "source": [
    "titanic_train = transform_Pclass(titanic_train)\n",
    "titanic_train.drop(\"Pclass\", axis = 1, inplace = True)\n",
    "titanic_train.drop(\"Cabin\", axis = 1, inplace = True)\n",
    "titanic_train.head()"
   ]
  },
  {
   "cell_type": "code",
   "execution_count": 49,
   "id": "c9cf1bdd",
   "metadata": {
    "execution": {
     "iopub.execute_input": "2022-12-06T16:08:48.701583Z",
     "iopub.status.busy": "2022-12-06T16:08:48.701170Z",
     "iopub.status.idle": "2022-12-06T16:08:48.744669Z",
     "shell.execute_reply": "2022-12-06T16:08:48.743309Z"
    },
    "papermill": {
     "duration": 0.075621,
     "end_time": "2022-12-06T16:08:48.747350",
     "exception": false,
     "start_time": "2022-12-06T16:08:48.671729",
     "status": "completed"
    },
    "tags": []
   },
   "outputs": [
    {
     "data": {
      "text/html": [
       "<div>\n",
       "<style scoped>\n",
       "    .dataframe tbody tr th:only-of-type {\n",
       "        vertical-align: middle;\n",
       "    }\n",
       "\n",
       "    .dataframe tbody tr th {\n",
       "        vertical-align: top;\n",
       "    }\n",
       "\n",
       "    .dataframe thead th {\n",
       "        text-align: right;\n",
       "    }\n",
       "</style>\n",
       "<table border=\"1\" class=\"dataframe\">\n",
       "  <thead>\n",
       "    <tr style=\"text-align: right;\">\n",
       "      <th></th>\n",
       "      <th>PassengerId</th>\n",
       "      <th>Parch</th>\n",
       "      <th>Ticket</th>\n",
       "      <th>Fare</th>\n",
       "      <th>Embarked</th>\n",
       "      <th>Sib_Unknown</th>\n",
       "      <th>sib_0</th>\n",
       "      <th>sib_1</th>\n",
       "      <th>sib_2</th>\n",
       "      <th>sib_3</th>\n",
       "      <th>...</th>\n",
       "      <th>age_10-19</th>\n",
       "      <th>Age_Unknown</th>\n",
       "      <th>age_50-59</th>\n",
       "      <th>age_0-9</th>\n",
       "      <th>age_70-79</th>\n",
       "      <th>male</th>\n",
       "      <th>female</th>\n",
       "      <th>Class_3</th>\n",
       "      <th>Class_2</th>\n",
       "      <th>Class_1</th>\n",
       "    </tr>\n",
       "  </thead>\n",
       "  <tbody>\n",
       "    <tr>\n",
       "      <th>0</th>\n",
       "      <td>892.0</td>\n",
       "      <td>0</td>\n",
       "      <td>330911</td>\n",
       "      <td>7.8292</td>\n",
       "      <td>Q</td>\n",
       "      <td>1.0</td>\n",
       "      <td>0.0</td>\n",
       "      <td>0.0</td>\n",
       "      <td>0.0</td>\n",
       "      <td>0.0</td>\n",
       "      <td>...</td>\n",
       "      <td>0.0</td>\n",
       "      <td>0.0</td>\n",
       "      <td>0.0</td>\n",
       "      <td>0.0</td>\n",
       "      <td>0.0</td>\n",
       "      <td>1.0</td>\n",
       "      <td>0.0</td>\n",
       "      <td>1.0</td>\n",
       "      <td>0.0</td>\n",
       "      <td>0.0</td>\n",
       "    </tr>\n",
       "    <tr>\n",
       "      <th>1</th>\n",
       "      <td>893.0</td>\n",
       "      <td>0</td>\n",
       "      <td>363272</td>\n",
       "      <td>7.0000</td>\n",
       "      <td>S</td>\n",
       "      <td>0.0</td>\n",
       "      <td>1.0</td>\n",
       "      <td>0.0</td>\n",
       "      <td>0.0</td>\n",
       "      <td>0.0</td>\n",
       "      <td>...</td>\n",
       "      <td>0.0</td>\n",
       "      <td>0.0</td>\n",
       "      <td>0.0</td>\n",
       "      <td>0.0</td>\n",
       "      <td>0.0</td>\n",
       "      <td>0.0</td>\n",
       "      <td>1.0</td>\n",
       "      <td>1.0</td>\n",
       "      <td>0.0</td>\n",
       "      <td>0.0</td>\n",
       "    </tr>\n",
       "    <tr>\n",
       "      <th>2</th>\n",
       "      <td>894.0</td>\n",
       "      <td>0</td>\n",
       "      <td>240276</td>\n",
       "      <td>9.6875</td>\n",
       "      <td>Q</td>\n",
       "      <td>1.0</td>\n",
       "      <td>0.0</td>\n",
       "      <td>0.0</td>\n",
       "      <td>0.0</td>\n",
       "      <td>0.0</td>\n",
       "      <td>...</td>\n",
       "      <td>0.0</td>\n",
       "      <td>0.0</td>\n",
       "      <td>0.0</td>\n",
       "      <td>0.0</td>\n",
       "      <td>0.0</td>\n",
       "      <td>1.0</td>\n",
       "      <td>0.0</td>\n",
       "      <td>0.0</td>\n",
       "      <td>1.0</td>\n",
       "      <td>0.0</td>\n",
       "    </tr>\n",
       "    <tr>\n",
       "      <th>3</th>\n",
       "      <td>895.0</td>\n",
       "      <td>0</td>\n",
       "      <td>315154</td>\n",
       "      <td>8.6625</td>\n",
       "      <td>S</td>\n",
       "      <td>1.0</td>\n",
       "      <td>0.0</td>\n",
       "      <td>0.0</td>\n",
       "      <td>0.0</td>\n",
       "      <td>0.0</td>\n",
       "      <td>...</td>\n",
       "      <td>0.0</td>\n",
       "      <td>0.0</td>\n",
       "      <td>0.0</td>\n",
       "      <td>0.0</td>\n",
       "      <td>0.0</td>\n",
       "      <td>1.0</td>\n",
       "      <td>0.0</td>\n",
       "      <td>1.0</td>\n",
       "      <td>0.0</td>\n",
       "      <td>0.0</td>\n",
       "    </tr>\n",
       "    <tr>\n",
       "      <th>4</th>\n",
       "      <td>896.0</td>\n",
       "      <td>1</td>\n",
       "      <td>3101298</td>\n",
       "      <td>12.2875</td>\n",
       "      <td>S</td>\n",
       "      <td>0.0</td>\n",
       "      <td>1.0</td>\n",
       "      <td>0.0</td>\n",
       "      <td>0.0</td>\n",
       "      <td>0.0</td>\n",
       "      <td>...</td>\n",
       "      <td>0.0</td>\n",
       "      <td>0.0</td>\n",
       "      <td>0.0</td>\n",
       "      <td>0.0</td>\n",
       "      <td>0.0</td>\n",
       "      <td>0.0</td>\n",
       "      <td>1.0</td>\n",
       "      <td>1.0</td>\n",
       "      <td>0.0</td>\n",
       "      <td>0.0</td>\n",
       "    </tr>\n",
       "  </tbody>\n",
       "</table>\n",
       "<p>5 rows × 26 columns</p>\n",
       "</div>"
      ],
      "text/plain": [
       "   PassengerId  Parch   Ticket     Fare Embarked  Sib_Unknown  sib_0  sib_1  \\\n",
       "0        892.0      0   330911   7.8292        Q          1.0    0.0    0.0   \n",
       "1        893.0      0   363272   7.0000        S          0.0    1.0    0.0   \n",
       "2        894.0      0   240276   9.6875        Q          1.0    0.0    0.0   \n",
       "3        895.0      0   315154   8.6625        S          1.0    0.0    0.0   \n",
       "4        896.0      1  3101298  12.2875        S          0.0    1.0    0.0   \n",
       "\n",
       "   sib_2  sib_3  ...  age_10-19  Age_Unknown  age_50-59  age_0-9  age_70-79  \\\n",
       "0    0.0    0.0  ...        0.0          0.0        0.0      0.0        0.0   \n",
       "1    0.0    0.0  ...        0.0          0.0        0.0      0.0        0.0   \n",
       "2    0.0    0.0  ...        0.0          0.0        0.0      0.0        0.0   \n",
       "3    0.0    0.0  ...        0.0          0.0        0.0      0.0        0.0   \n",
       "4    0.0    0.0  ...        0.0          0.0        0.0      0.0        0.0   \n",
       "\n",
       "   male  female  Class_3  Class_2  Class_1  \n",
       "0   1.0     0.0      1.0      0.0      0.0  \n",
       "1   0.0     1.0      1.0      0.0      0.0  \n",
       "2   1.0     0.0      0.0      1.0      0.0  \n",
       "3   1.0     0.0      1.0      0.0      0.0  \n",
       "4   0.0     1.0      1.0      0.0      0.0  \n",
       "\n",
       "[5 rows x 26 columns]"
      ]
     },
     "execution_count": 49,
     "metadata": {},
     "output_type": "execute_result"
    }
   ],
   "source": [
    "titanic_test = transform_Pclass(titanic_test)\n",
    "titanic_test.drop(\"Pclass\", axis = 1, inplace = True)\n",
    "titanic_test.drop(\"Cabin\", axis = 1, inplace = True)\n",
    "titanic_test.head()"
   ]
  },
  {
   "cell_type": "markdown",
   "id": "44c167dd",
   "metadata": {
    "papermill": {
     "duration": 0.027083,
     "end_time": "2022-12-06T16:08:48.802266",
     "exception": false,
     "start_time": "2022-12-06T16:08:48.775183",
     "status": "completed"
    },
    "tags": []
   },
   "source": [
    "# Tickets and Fare\n",
    "We remove the tickets, as it brings no additional characteristic for the prediction.\n",
    "\n",
    "Old version: We reduce the complexity of the Fare by using the log.\n",
    "New version: The price appears to be dependent on the class, so we drop the price."
   ]
  },
  {
   "cell_type": "code",
   "execution_count": 50,
   "id": "3eb4a9f1",
   "metadata": {
    "execution": {
     "iopub.execute_input": "2022-12-06T16:08:48.859541Z",
     "iopub.status.busy": "2022-12-06T16:08:48.859115Z",
     "iopub.status.idle": "2022-12-06T16:08:48.866750Z",
     "shell.execute_reply": "2022-12-06T16:08:48.865417Z"
    },
    "papermill": {
     "duration": 0.039647,
     "end_time": "2022-12-06T16:08:48.869320",
     "exception": false,
     "start_time": "2022-12-06T16:08:48.829673",
     "status": "completed"
    },
    "tags": []
   },
   "outputs": [],
   "source": [
    "titanic_train.drop(\"Ticket\", axis = 1, inplace = True)\n",
    "titanic_test.drop(\"Ticket\", axis = 1, inplace = True)"
   ]
  },
  {
   "cell_type": "code",
   "execution_count": 51,
   "id": "83ada3c4",
   "metadata": {
    "execution": {
     "iopub.execute_input": "2022-12-06T16:08:48.927317Z",
     "iopub.status.busy": "2022-12-06T16:08:48.926176Z",
     "iopub.status.idle": "2022-12-06T16:08:48.941603Z",
     "shell.execute_reply": "2022-12-06T16:08:48.940408Z"
    },
    "papermill": {
     "duration": 0.046991,
     "end_time": "2022-12-06T16:08:48.944324",
     "exception": false,
     "start_time": "2022-12-06T16:08:48.897333",
     "status": "completed"
    },
    "tags": []
   },
   "outputs": [
    {
     "data": {
      "text/plain": [
       "count    891.000000\n",
       "mean       1.256781\n",
       "std        0.435553\n",
       "min        0.000000\n",
       "25%        0.898198\n",
       "50%        1.159994\n",
       "75%        1.491362\n",
       "max        2.709549\n",
       "Name: Fare, dtype: float64"
      ]
     },
     "execution_count": 51,
     "metadata": {},
     "output_type": "execute_result"
    }
   ],
   "source": [
    "log_10_values = np.log10(titanic_train.loc[titanic_train['Fare'] > 0,'Fare'])\n",
    "titanic_train.loc[titanic_train['Fare'] > 0,'Fare'] = log_10_values\n",
    "titanic_train.Fare.describe()\n"
   ]
  },
  {
   "cell_type": "code",
   "execution_count": 52,
   "id": "e4bf87f6",
   "metadata": {
    "execution": {
     "iopub.execute_input": "2022-12-06T16:08:49.004220Z",
     "iopub.status.busy": "2022-12-06T16:08:49.003787Z",
     "iopub.status.idle": "2022-12-06T16:08:49.020752Z",
     "shell.execute_reply": "2022-12-06T16:08:49.019464Z"
    },
    "papermill": {
     "duration": 0.049521,
     "end_time": "2022-12-06T16:08:49.023374",
     "exception": false,
     "start_time": "2022-12-06T16:08:48.973853",
     "status": "completed"
    },
    "tags": []
   },
   "outputs": [
    {
     "data": {
      "text/plain": [
       "count    417.000000\n",
       "mean       1.279591\n",
       "std        0.437507\n",
       "min        0.000000\n",
       "25%        0.897396\n",
       "50%        1.159994\n",
       "75%        1.498311\n",
       "max        2.709549\n",
       "Name: Fare, dtype: float64"
      ]
     },
     "execution_count": 52,
     "metadata": {},
     "output_type": "execute_result"
    }
   ],
   "source": [
    "log_10_values = np.log10(titanic_test.loc[titanic_test['Fare'] > 0,'Fare'])\n",
    "titanic_test.loc[titanic_test['Fare'] > 0,'Fare'] = log_10_values\n",
    "titanic_test.Fare.describe()"
   ]
  },
  {
   "cell_type": "code",
   "execution_count": 53,
   "id": "431d90ca",
   "metadata": {
    "execution": {
     "iopub.execute_input": "2022-12-06T16:08:49.083451Z",
     "iopub.status.busy": "2022-12-06T16:08:49.082986Z",
     "iopub.status.idle": "2022-12-06T16:08:49.090968Z",
     "shell.execute_reply": "2022-12-06T16:08:49.090060Z"
    },
    "papermill": {
     "duration": 0.039746,
     "end_time": "2022-12-06T16:08:49.093103",
     "exception": false,
     "start_time": "2022-12-06T16:08:49.053357",
     "status": "completed"
    },
    "tags": []
   },
   "outputs": [],
   "source": [
    "titanic_train.drop(\"Fare\", axis = 1, inplace = True)\n",
    "titanic_test.drop(\"Fare\", axis = 1, inplace = True)"
   ]
  },
  {
   "cell_type": "markdown",
   "id": "8f96d5ef",
   "metadata": {
    "papermill": {
     "duration": 0.027391,
     "end_time": "2022-12-06T16:08:49.149403",
     "exception": false,
     "start_time": "2022-12-06T16:08:49.122012",
     "status": "completed"
    },
    "tags": []
   },
   "source": [
    "# Embarked \n",
    "Embarked has three values \"S\", 'C', 'Q' and some values unknown. So, we replace the unknown values with U. A hot-encoding transforms the values into columns. \n",
    "\n",
    "The test datasets has no unknown values; so we had a column 'U' for consistency with hot-encoding. \n"
   ]
  },
  {
   "cell_type": "code",
   "execution_count": 54,
   "id": "64da32dc",
   "metadata": {
    "execution": {
     "iopub.execute_input": "2022-12-06T16:08:49.208865Z",
     "iopub.status.busy": "2022-12-06T16:08:49.208445Z",
     "iopub.status.idle": "2022-12-06T16:08:49.215804Z",
     "shell.execute_reply": "2022-12-06T16:08:49.214923Z"
    },
    "papermill": {
     "duration": 0.040278,
     "end_time": "2022-12-06T16:08:49.217847",
     "exception": false,
     "start_time": "2022-12-06T16:08:49.177569",
     "status": "completed"
    },
    "tags": []
   },
   "outputs": [
    {
     "data": {
      "text/plain": [
       "array(['S', 'C', 'Q', nan], dtype=object)"
      ]
     },
     "execution_count": 54,
     "metadata": {},
     "output_type": "execute_result"
    }
   ],
   "source": [
    "titanic_train.Embarked.unique()"
   ]
  },
  {
   "cell_type": "code",
   "execution_count": 55,
   "id": "a3f7bf0e",
   "metadata": {
    "execution": {
     "iopub.execute_input": "2022-12-06T16:08:49.276107Z",
     "iopub.status.busy": "2022-12-06T16:08:49.275650Z",
     "iopub.status.idle": "2022-12-06T16:08:49.286058Z",
     "shell.execute_reply": "2022-12-06T16:08:49.284580Z"
    },
    "papermill": {
     "duration": 0.042319,
     "end_time": "2022-12-06T16:08:49.288556",
     "exception": false,
     "start_time": "2022-12-06T16:08:49.246237",
     "status": "completed"
    },
    "tags": []
   },
   "outputs": [
    {
     "data": {
      "text/plain": [
       "array(['S', 'C', 'Q', 'U'], dtype=object)"
      ]
     },
     "execution_count": 55,
     "metadata": {},
     "output_type": "execute_result"
    }
   ],
   "source": [
    "titanic_train.loc[titanic_train['Embarked'].isna(),'Embarked'] = 'U'\n",
    "titanic_train.Embarked.unique()"
   ]
  },
  {
   "cell_type": "code",
   "execution_count": 56,
   "id": "72a1e37f",
   "metadata": {
    "execution": {
     "iopub.execute_input": "2022-12-06T16:08:49.347051Z",
     "iopub.status.busy": "2022-12-06T16:08:49.346634Z",
     "iopub.status.idle": "2022-12-06T16:08:49.356152Z",
     "shell.execute_reply": "2022-12-06T16:08:49.354834Z"
    },
    "papermill": {
     "duration": 0.04156,
     "end_time": "2022-12-06T16:08:49.358525",
     "exception": false,
     "start_time": "2022-12-06T16:08:49.316965",
     "status": "completed"
    },
    "tags": []
   },
   "outputs": [
    {
     "data": {
      "text/plain": [
       "array(['Q', 'S', 'C'], dtype=object)"
      ]
     },
     "execution_count": 56,
     "metadata": {},
     "output_type": "execute_result"
    }
   ],
   "source": [
    "titanic_test.loc[titanic_test['Embarked'].isna(),'Embarked'] = 'U'\n",
    "titanic_test.Embarked.unique()"
   ]
  },
  {
   "cell_type": "code",
   "execution_count": 57,
   "id": "743432fd",
   "metadata": {
    "execution": {
     "iopub.execute_input": "2022-12-06T16:08:49.417394Z",
     "iopub.status.busy": "2022-12-06T16:08:49.416916Z",
     "iopub.status.idle": "2022-12-06T16:08:49.423827Z",
     "shell.execute_reply": "2022-12-06T16:08:49.422483Z"
    },
    "papermill": {
     "duration": 0.039444,
     "end_time": "2022-12-06T16:08:49.426694",
     "exception": false,
     "start_time": "2022-12-06T16:08:49.387250",
     "status": "completed"
    },
    "tags": []
   },
   "outputs": [],
   "source": [
    "def transform_embarked(data):\n",
    "    factors = data['Embarked'].unique()\n",
    "    gender_columns = pd.get_dummies(data['Embarked'])\n",
    "    columns = range(0,len(factors))\n",
    "    \n",
    "    for column in columns:\n",
    "        data[factors[column]] = gender_columns.loc[:,factors[column]].astype(float)\n",
    "        \n",
    "    return data\n",
    "    "
   ]
  },
  {
   "cell_type": "code",
   "execution_count": 58,
   "id": "a96a3d19",
   "metadata": {
    "execution": {
     "iopub.execute_input": "2022-12-06T16:08:49.484996Z",
     "iopub.status.busy": "2022-12-06T16:08:49.484592Z",
     "iopub.status.idle": "2022-12-06T16:08:49.501359Z",
     "shell.execute_reply": "2022-12-06T16:08:49.499899Z"
    },
    "papermill": {
     "duration": 0.049327,
     "end_time": "2022-12-06T16:08:49.504230",
     "exception": false,
     "start_time": "2022-12-06T16:08:49.454903",
     "status": "completed"
    },
    "tags": []
   },
   "outputs": [],
   "source": [
    "titanic_train = transform_embarked(titanic_train)\n",
    "titanic_train.drop(\"Embarked\", axis = 1, inplace = True)\n",
    "titanic_test  = transform_embarked(titanic_test)\n",
    "titanic_test.drop(\"Embarked\", axis = 1, inplace = True)\n"
   ]
  },
  {
   "cell_type": "code",
   "execution_count": 59,
   "id": "7eb4a321",
   "metadata": {
    "execution": {
     "iopub.execute_input": "2022-12-06T16:08:49.563548Z",
     "iopub.status.busy": "2022-12-06T16:08:49.563121Z",
     "iopub.status.idle": "2022-12-06T16:08:49.571102Z",
     "shell.execute_reply": "2022-12-06T16:08:49.569926Z"
    },
    "papermill": {
     "duration": 0.040127,
     "end_time": "2022-12-06T16:08:49.573401",
     "exception": false,
     "start_time": "2022-12-06T16:08:49.533274",
     "status": "completed"
    },
    "tags": []
   },
   "outputs": [],
   "source": [
    "indices       = range(0, titanic_test.shape[0])\n",
    "titanic_test['U'] = [0 for i in indices]\n",
    "titanic_test['U'] = titanic_test['U'].astype(float)"
   ]
  },
  {
   "cell_type": "markdown",
   "id": "21f596bd",
   "metadata": {
    "papermill": {
     "duration": 0.028403,
     "end_time": "2022-12-06T16:08:49.630699",
     "exception": false,
     "start_time": "2022-12-06T16:08:49.602296",
     "status": "completed"
    },
    "tags": []
   },
   "source": [
    "# Outcome of data preparations"
   ]
  },
  {
   "cell_type": "code",
   "execution_count": 60,
   "id": "bd35cf43",
   "metadata": {
    "execution": {
     "iopub.execute_input": "2022-12-06T16:08:49.689066Z",
     "iopub.status.busy": "2022-12-06T16:08:49.688611Z",
     "iopub.status.idle": "2022-12-06T16:08:49.699055Z",
     "shell.execute_reply": "2022-12-06T16:08:49.697488Z"
    },
    "papermill": {
     "duration": 0.043522,
     "end_time": "2022-12-06T16:08:49.702481",
     "exception": false,
     "start_time": "2022-12-06T16:08:49.658959",
     "status": "completed"
    },
    "tags": []
   },
   "outputs": [
    {
     "name": "stdout",
     "output_type": "stream",
     "text": [
      "training datasets :  (891, 28)\n"
     ]
    },
    {
     "data": {
      "text/plain": [
       "PassengerId    float64\n",
       "Parch            int64\n",
       "Survived         int64\n",
       "sib_0          float64\n",
       "Sib_Unknown    float64\n",
       "sib_2          float64\n",
       "sib_3          float64\n",
       "sib_1          float64\n",
       "sib_4          float64\n",
       "sib_7          float64\n",
       "age_20-29      float64\n",
       "age_30-39      float64\n",
       "Age_Unknown    float64\n",
       "age_50-59      float64\n",
       "age_0-9        float64\n",
       "age_10-19      float64\n",
       "age_60-69      float64\n",
       "age_40-49      float64\n",
       "age_70-79      float64\n",
       "male           float64\n",
       "female         float64\n",
       "Class_3        float64\n",
       "Class_1        float64\n",
       "Class_2        float64\n",
       "S              float64\n",
       "C              float64\n",
       "Q              float64\n",
       "U              float64\n",
       "dtype: object"
      ]
     },
     "execution_count": 60,
     "metadata": {},
     "output_type": "execute_result"
    }
   ],
   "source": [
    "\n",
    "print(\"training datasets : \" , titanic_train.shape)\n",
    "titanic_train.dtypes"
   ]
  },
  {
   "cell_type": "code",
   "execution_count": 61,
   "id": "c42536ee",
   "metadata": {
    "execution": {
     "iopub.execute_input": "2022-12-06T16:08:49.763372Z",
     "iopub.status.busy": "2022-12-06T16:08:49.762931Z",
     "iopub.status.idle": "2022-12-06T16:08:49.772929Z",
     "shell.execute_reply": "2022-12-06T16:08:49.771630Z"
    },
    "papermill": {
     "duration": 0.043788,
     "end_time": "2022-12-06T16:08:49.775382",
     "exception": false,
     "start_time": "2022-12-06T16:08:49.731594",
     "status": "completed"
    },
    "tags": []
   },
   "outputs": [
    {
     "name": "stdout",
     "output_type": "stream",
     "text": [
      "testing datasets :  (418, 27)\n"
     ]
    },
    {
     "data": {
      "text/plain": [
       "PassengerId    float64\n",
       "Parch            int64\n",
       "Sib_Unknown    float64\n",
       "sib_0          float64\n",
       "sib_1          float64\n",
       "sib_2          float64\n",
       "sib_3          float64\n",
       "sib_4          float64\n",
       "sib_7          float64\n",
       "age_30-39      float64\n",
       "age_40-49      float64\n",
       "age_60-69      float64\n",
       "age_20-29      float64\n",
       "age_10-19      float64\n",
       "Age_Unknown    float64\n",
       "age_50-59      float64\n",
       "age_0-9        float64\n",
       "age_70-79      float64\n",
       "male           float64\n",
       "female         float64\n",
       "Class_3        float64\n",
       "Class_2        float64\n",
       "Class_1        float64\n",
       "Q              float64\n",
       "S              float64\n",
       "C              float64\n",
       "U              float64\n",
       "dtype: object"
      ]
     },
     "execution_count": 61,
     "metadata": {},
     "output_type": "execute_result"
    }
   ],
   "source": [
    "print(\"testing datasets : \" , titanic_test.shape)\n",
    "titanic_test.dtypes"
   ]
  },
  {
   "cell_type": "code",
   "execution_count": 62,
   "id": "c008d10d",
   "metadata": {
    "execution": {
     "iopub.execute_input": "2022-12-06T16:08:49.836257Z",
     "iopub.status.busy": "2022-12-06T16:08:49.835771Z",
     "iopub.status.idle": "2022-12-06T16:08:49.849396Z",
     "shell.execute_reply": "2022-12-06T16:08:49.848062Z"
    },
    "papermill": {
     "duration": 0.04653,
     "end_time": "2022-12-06T16:08:49.851953",
     "exception": false,
     "start_time": "2022-12-06T16:08:49.805423",
     "status": "completed"
    },
    "tags": []
   },
   "outputs": [
    {
     "data": {
      "text/plain": [
       "Index(['Survived'], dtype='object')"
      ]
     },
     "execution_count": 62,
     "metadata": {},
     "output_type": "execute_result"
    }
   ],
   "source": [
    "train_cols = titanic_train.columns\n",
    "test_cols = titanic_test.columns\n",
    "\n",
    "common_cols = train_cols.intersection(test_cols)\n",
    "train_not_test = train_cols.difference(test_cols)\n",
    "train_not_test"
   ]
  },
  {
   "cell_type": "code",
   "execution_count": 63,
   "id": "eb4dbce2",
   "metadata": {
    "execution": {
     "iopub.execute_input": "2022-12-06T16:08:49.912115Z",
     "iopub.status.busy": "2022-12-06T16:08:49.911700Z",
     "iopub.status.idle": "2022-12-06T16:08:49.919655Z",
     "shell.execute_reply": "2022-12-06T16:08:49.918350Z"
    },
    "papermill": {
     "duration": 0.040428,
     "end_time": "2022-12-06T16:08:49.922011",
     "exception": false,
     "start_time": "2022-12-06T16:08:49.881583",
     "status": "completed"
    },
    "tags": []
   },
   "outputs": [
    {
     "data": {
      "text/plain": [
       "Index(['PassengerId', 'Parch', 'Sib_Unknown', 'sib_0', 'sib_1', 'sib_2',\n",
       "       'sib_3', 'sib_4', 'sib_7', 'age_30-39', 'age_40-49', 'age_60-69',\n",
       "       'age_20-29', 'age_10-19', 'Age_Unknown', 'age_50-59', 'age_0-9',\n",
       "       'age_70-79', 'male', 'female', 'Class_3', 'Class_2', 'Class_1', 'Q',\n",
       "       'S', 'C', 'U'],\n",
       "      dtype='object')"
      ]
     },
     "execution_count": 63,
     "metadata": {},
     "output_type": "execute_result"
    }
   ],
   "source": [
    "titanic_test.columns"
   ]
  },
  {
   "cell_type": "markdown",
   "id": "22ee21b3",
   "metadata": {
    "papermill": {
     "duration": 0.029068,
     "end_time": "2022-12-06T16:08:49.981264",
     "exception": false,
     "start_time": "2022-12-06T16:08:49.952196",
     "status": "completed"
    },
    "tags": []
   },
   "source": [
    "# Cross validation preparation\n",
    "We use a stratified sampling for the training into a train and test dataset. "
   ]
  },
  {
   "cell_type": "code",
   "execution_count": 64,
   "id": "868d14fd",
   "metadata": {
    "execution": {
     "iopub.execute_input": "2022-12-06T16:08:50.042724Z",
     "iopub.status.busy": "2022-12-06T16:08:50.042302Z",
     "iopub.status.idle": "2022-12-06T16:08:50.069512Z",
     "shell.execute_reply": "2022-12-06T16:08:50.068267Z"
    },
    "papermill": {
     "duration": 0.061332,
     "end_time": "2022-12-06T16:08:50.072282",
     "exception": false,
     "start_time": "2022-12-06T16:08:50.010950",
     "status": "completed"
    },
    "tags": []
   },
   "outputs": [
    {
     "name": "stdout",
     "output_type": "stream",
     "text": [
      "0    0.616105\n",
      "1    0.383895\n",
      "Name: Survived, dtype: float64 \n",
      "\n",
      "\n",
      "0    0.616246\n",
      "1    0.383754\n",
      "Name: Survived, dtype: float64\n"
     ]
    }
   ],
   "source": [
    "x_cols = ['Parch', 'Sib_Unknown', 'sib_0', 'sib_1', 'sib_2', 'sib_3', 'sib_4', 'sib_7', 'age_30-39', 'age_40-49', 'age_60-69', 'age_20-29', 'age_10-19', 'Age_Unknown', 'age_50-59',\n",
    "       'age_0-9', 'age_70-79', 'male', 'female', 'Class_3', 'Class_2',\n",
    "       'Class_1', 'Q', 'S', 'C', 'U']\n",
    "y_col = 'Survived'\n",
    "X = titanic_train.copy(deep = True)\n",
    "X = X[x_cols]\n",
    "X = X.apply(pd.to_numeric)\n",
    "y = titanic_train[y_col].apply(pd.to_numeric)\n",
    "\n",
    "split = StratifiedShuffleSplit(n_splits=1, test_size=0.4, random_state=42)\n",
    "for train_index, test_valid_index in split.split(X, y):\n",
    "    X_train = X.iloc[train_index]\n",
    "    y_train = y.iloc[train_index]\n",
    "    X_test  = X.iloc[test_valid_index]\n",
    "    y_test  = y.iloc[test_valid_index]\n",
    "\n",
    "# we see our training set follows the same distribution\n",
    "print(y_train.value_counts(normalize=True), '\\n\\n')\n",
    "\n",
    "# we see our test set follows the same distribution\n",
    "print(y_test.value_counts(normalize=True))"
   ]
  },
  {
   "cell_type": "code",
   "execution_count": 65,
   "id": "75588887",
   "metadata": {
    "execution": {
     "iopub.execute_input": "2022-12-06T16:08:50.133380Z",
     "iopub.status.busy": "2022-12-06T16:08:50.132664Z",
     "iopub.status.idle": "2022-12-06T16:08:50.139663Z",
     "shell.execute_reply": "2022-12-06T16:08:50.138699Z"
    },
    "papermill": {
     "duration": 0.040467,
     "end_time": "2022-12-06T16:08:50.141874",
     "exception": false,
     "start_time": "2022-12-06T16:08:50.101407",
     "status": "completed"
    },
    "tags": []
   },
   "outputs": [
    {
     "data": {
      "text/plain": [
       "(534, 26)"
      ]
     },
     "execution_count": 65,
     "metadata": {},
     "output_type": "execute_result"
    }
   ],
   "source": [
    "X_train.shape"
   ]
  },
  {
   "cell_type": "code",
   "execution_count": 66,
   "id": "501283a8",
   "metadata": {
    "execution": {
     "iopub.execute_input": "2022-12-06T16:08:50.202471Z",
     "iopub.status.busy": "2022-12-06T16:08:50.201734Z",
     "iopub.status.idle": "2022-12-06T16:08:50.210144Z",
     "shell.execute_reply": "2022-12-06T16:08:50.208694Z"
    },
    "papermill": {
     "duration": 0.041857,
     "end_time": "2022-12-06T16:08:50.212657",
     "exception": false,
     "start_time": "2022-12-06T16:08:50.170800",
     "status": "completed"
    },
    "tags": []
   },
   "outputs": [
    {
     "data": {
      "text/plain": [
       "(357, 26)"
      ]
     },
     "execution_count": 66,
     "metadata": {},
     "output_type": "execute_result"
    }
   ],
   "source": [
    "X_test.shape"
   ]
  },
  {
   "cell_type": "code",
   "execution_count": 67,
   "id": "cdd21e16",
   "metadata": {
    "execution": {
     "iopub.execute_input": "2022-12-06T16:08:50.273999Z",
     "iopub.status.busy": "2022-12-06T16:08:50.273553Z",
     "iopub.status.idle": "2022-12-06T16:08:50.281883Z",
     "shell.execute_reply": "2022-12-06T16:08:50.280314Z"
    },
    "papermill": {
     "duration": 0.042479,
     "end_time": "2022-12-06T16:08:50.284868",
     "exception": false,
     "start_time": "2022-12-06T16:08:50.242389",
     "status": "completed"
    },
    "tags": []
   },
   "outputs": [],
   "source": [
    "y_train_encode=pd.get_dummies(y_train)\n",
    "y_test_encode=pd.get_dummies(y_test)\n"
   ]
  },
  {
   "cell_type": "code",
   "execution_count": 68,
   "id": "3bfb29a5",
   "metadata": {
    "execution": {
     "iopub.execute_input": "2022-12-06T16:08:50.346522Z",
     "iopub.status.busy": "2022-12-06T16:08:50.346072Z",
     "iopub.status.idle": "2022-12-06T16:08:50.355286Z",
     "shell.execute_reply": "2022-12-06T16:08:50.354124Z"
    },
    "papermill": {
     "duration": 0.042314,
     "end_time": "2022-12-06T16:08:50.357661",
     "exception": false,
     "start_time": "2022-12-06T16:08:50.315347",
     "status": "completed"
    },
    "tags": []
   },
   "outputs": [
    {
     "data": {
      "text/plain": [
       "Index([], dtype='object')"
      ]
     },
     "execution_count": 68,
     "metadata": {},
     "output_type": "execute_result"
    }
   ],
   "source": [
    "train_cols = X_train.columns\n",
    "test_cols = titanic_test.columns\n",
    "\n",
    "common_cols = train_cols.intersection(test_cols)\n",
    "train_not_test = train_cols.difference(test_cols)\n",
    "train_not_test"
   ]
  },
  {
   "cell_type": "code",
   "execution_count": 69,
   "id": "7c32e3b4",
   "metadata": {
    "execution": {
     "iopub.execute_input": "2022-12-06T16:08:50.419027Z",
     "iopub.status.busy": "2022-12-06T16:08:50.418580Z",
     "iopub.status.idle": "2022-12-06T16:08:50.615963Z",
     "shell.execute_reply": "2022-12-06T16:08:50.614270Z"
    },
    "papermill": {
     "duration": 0.232879,
     "end_time": "2022-12-06T16:08:50.620336",
     "exception": false,
     "start_time": "2022-12-06T16:08:50.387457",
     "status": "completed"
    },
    "tags": []
   },
   "outputs": [
    {
     "name": "stderr",
     "output_type": "stream",
     "text": [
      "2022-12-06 16:08:50.471800: I tensorflow/core/common_runtime/process_util.cc:146] Creating new thread pool with default inter op setting: 2. Tune using inter_op_parallelism_threads for best performance.\n"
     ]
    }
   ],
   "source": [
    "\n",
    "\n",
    "no_columns = X_train.shape[1]\n",
    "model = tf.keras.Sequential()\n",
    "model.add(tf.keras.layers.Flatten(input_shape=(no_columns,)))\n",
    "model.add(tf.keras.layers.Dense(52, activation=\"relu\"))\n",
    "model.add(tf.keras.layers.Dense(104, activation=\"sigmoid\"))\n",
    "model.add(tf.keras.layers.Dense(104, activation=\"sigmoid\"))\n",
    "model.add(tf.keras.layers.Dense(104, activation=\"sigmoid\"))\n",
    "model.add(tf.keras.layers.Dense(64, activation=\"sigmoid\"))\n",
    "model.add(tf.keras.layers.Dense(2, activation=\"softmax\"))\n"
   ]
  },
  {
   "cell_type": "markdown",
   "id": "ccfec245",
   "metadata": {
    "papermill": {
     "duration": 0.029891,
     "end_time": "2022-12-06T16:08:50.681237",
     "exception": false,
     "start_time": "2022-12-06T16:08:50.651346",
     "status": "completed"
    },
    "tags": []
   },
   "source": [
    "version_1\n",
    "model = tf.keras.Sequential()\n",
    "model.add(tf.keras.layers.Flatten(input_shape=(X_train.shape[1],)))\n",
    "model.add(tf.keras.layers.Dense(560, activation=\"sigmoid\"))\n",
    "model.add(tf.keras.layers.Dense(1120, activation=\"sigmoid\"))\n",
    "model.add(tf.keras.layers.Dense(1120, activation=\"sigmoid\"))\n",
    "model.add(tf.keras.layers.Dense(560, activation=\"sigmoid\"))\n",
    "model.add(tf.keras.layers.Dense(560, activation=\"sigmoid\"))\n",
    "model.add(tf.keras.layers.Dense(2, activation=\"softmax\"))"
   ]
  },
  {
   "cell_type": "code",
   "execution_count": 70,
   "id": "b32f7147",
   "metadata": {
    "execution": {
     "iopub.execute_input": "2022-12-06T16:08:50.743313Z",
     "iopub.status.busy": "2022-12-06T16:08:50.742871Z",
     "iopub.status.idle": "2022-12-06T16:08:50.749358Z",
     "shell.execute_reply": "2022-12-06T16:08:50.748290Z"
    },
    "papermill": {
     "duration": 0.042076,
     "end_time": "2022-12-06T16:08:50.752912",
     "exception": false,
     "start_time": "2022-12-06T16:08:50.710836",
     "status": "completed"
    },
    "tags": []
   },
   "outputs": [
    {
     "name": "stdout",
     "output_type": "stream",
     "text": [
      "Model: \"sequential\"\n",
      "_________________________________________________________________\n",
      "Layer (type)                 Output Shape              Param #   \n",
      "=================================================================\n",
      "flatten (Flatten)            (None, 26)                0         \n",
      "_________________________________________________________________\n",
      "dense (Dense)                (None, 52)                1404      \n",
      "_________________________________________________________________\n",
      "dense_1 (Dense)              (None, 104)               5512      \n",
      "_________________________________________________________________\n",
      "dense_2 (Dense)              (None, 104)               10920     \n",
      "_________________________________________________________________\n",
      "dense_3 (Dense)              (None, 104)               10920     \n",
      "_________________________________________________________________\n",
      "dense_4 (Dense)              (None, 64)                6720      \n",
      "_________________________________________________________________\n",
      "dense_5 (Dense)              (None, 2)                 130       \n",
      "=================================================================\n",
      "Total params: 35,606\n",
      "Trainable params: 35,606\n",
      "Non-trainable params: 0\n",
      "_________________________________________________________________\n"
     ]
    }
   ],
   "source": [
    "model.summary()"
   ]
  },
  {
   "cell_type": "code",
   "execution_count": 71,
   "id": "056e827d",
   "metadata": {
    "execution": {
     "iopub.execute_input": "2022-12-06T16:08:50.816523Z",
     "iopub.status.busy": "2022-12-06T16:08:50.815595Z",
     "iopub.status.idle": "2022-12-06T16:09:12.602848Z",
     "shell.execute_reply": "2022-12-06T16:09:12.601272Z"
    },
    "papermill": {
     "duration": 21.821127,
     "end_time": "2022-12-06T16:09:12.606011",
     "exception": false,
     "start_time": "2022-12-06T16:08:50.784884",
     "status": "completed"
    },
    "tags": []
   },
   "outputs": [
    {
     "name": "stderr",
     "output_type": "stream",
     "text": [
      "2022-12-06 16:08:50.953404: I tensorflow/compiler/mlir/mlir_graph_optimization_pass.cc:185] None of the MLIR Optimization Passes are enabled (registered 2)\n"
     ]
    },
    {
     "name": "stdout",
     "output_type": "stream",
     "text": [
      "Epoch 1/150\n",
      "17/17 [==============================] - 1s 24ms/step - loss: 0.6750 - accuracy: 0.6161 - val_loss: 0.6678 - val_accuracy: 0.6162\n",
      "Epoch 2/150\n",
      "17/17 [==============================] - 0s 8ms/step - loss: 0.6672 - accuracy: 0.6161 - val_loss: 0.6658 - val_accuracy: 0.6162\n",
      "Epoch 3/150\n",
      "17/17 [==============================] - 0s 8ms/step - loss: 0.6661 - accuracy: 0.6161 - val_loss: 0.6657 - val_accuracy: 0.6162\n",
      "Epoch 4/150\n",
      "17/17 [==============================] - 0s 8ms/step - loss: 0.6661 - accuracy: 0.6161 - val_loss: 0.6656 - val_accuracy: 0.6162\n",
      "Epoch 5/150\n",
      "17/17 [==============================] - 0s 8ms/step - loss: 0.6666 - accuracy: 0.6161 - val_loss: 0.6656 - val_accuracy: 0.6162\n",
      "Epoch 6/150\n",
      "17/17 [==============================] - 0s 9ms/step - loss: 0.6662 - accuracy: 0.6161 - val_loss: 0.6655 - val_accuracy: 0.6162\n",
      "Epoch 7/150\n",
      "17/17 [==============================] - 0s 12ms/step - loss: 0.6655 - accuracy: 0.6161 - val_loss: 0.6652 - val_accuracy: 0.6162\n",
      "Epoch 8/150\n",
      "17/17 [==============================] - 0s 7ms/step - loss: 0.6654 - accuracy: 0.6161 - val_loss: 0.6650 - val_accuracy: 0.6162\n",
      "Epoch 9/150\n",
      "17/17 [==============================] - 0s 8ms/step - loss: 0.6651 - accuracy: 0.6161 - val_loss: 0.6648 - val_accuracy: 0.6162\n",
      "Epoch 10/150\n",
      "17/17 [==============================] - 0s 8ms/step - loss: 0.6648 - accuracy: 0.6161 - val_loss: 0.6646 - val_accuracy: 0.6162\n",
      "Epoch 11/150\n",
      "17/17 [==============================] - 0s 8ms/step - loss: 0.6664 - accuracy: 0.6161 - val_loss: 0.6642 - val_accuracy: 0.6162\n",
      "Epoch 12/150\n",
      "17/17 [==============================] - 0s 8ms/step - loss: 0.6642 - accuracy: 0.6161 - val_loss: 0.6637 - val_accuracy: 0.6162\n",
      "Epoch 13/150\n",
      "17/17 [==============================] - 0s 8ms/step - loss: 0.6647 - accuracy: 0.6161 - val_loss: 0.6630 - val_accuracy: 0.6162\n",
      "Epoch 14/150\n",
      "17/17 [==============================] - 0s 8ms/step - loss: 0.6625 - accuracy: 0.6161 - val_loss: 0.6622 - val_accuracy: 0.6162\n",
      "Epoch 15/150\n",
      "17/17 [==============================] - 0s 8ms/step - loss: 0.6622 - accuracy: 0.6161 - val_loss: 0.6609 - val_accuracy: 0.6162\n",
      "Epoch 16/150\n",
      "17/17 [==============================] - 0s 8ms/step - loss: 0.6606 - accuracy: 0.6161 - val_loss: 0.6594 - val_accuracy: 0.6162\n",
      "Epoch 17/150\n",
      "17/17 [==============================] - 0s 8ms/step - loss: 0.6585 - accuracy: 0.6161 - val_loss: 0.6572 - val_accuracy: 0.6162\n",
      "Epoch 18/150\n",
      "17/17 [==============================] - 0s 8ms/step - loss: 0.6560 - accuracy: 0.6161 - val_loss: 0.6540 - val_accuracy: 0.6162\n",
      "Epoch 19/150\n",
      "17/17 [==============================] - 0s 8ms/step - loss: 0.6523 - accuracy: 0.6161 - val_loss: 0.6495 - val_accuracy: 0.6162\n",
      "Epoch 20/150\n",
      "17/17 [==============================] - 0s 8ms/step - loss: 0.6468 - accuracy: 0.6161 - val_loss: 0.6428 - val_accuracy: 0.6162\n",
      "Epoch 21/150\n",
      "17/17 [==============================] - 0s 8ms/step - loss: 0.6387 - accuracy: 0.6161 - val_loss: 0.6332 - val_accuracy: 0.6162\n",
      "Epoch 22/150\n",
      "17/17 [==============================] - 0s 8ms/step - loss: 0.6273 - accuracy: 0.6161 - val_loss: 0.6193 - val_accuracy: 0.6162\n",
      "Epoch 23/150\n",
      "17/17 [==============================] - 0s 8ms/step - loss: 0.6112 - accuracy: 0.6161 - val_loss: 0.6005 - val_accuracy: 0.6162\n",
      "Epoch 24/150\n",
      "17/17 [==============================] - 0s 8ms/step - loss: 0.5908 - accuracy: 0.6667 - val_loss: 0.5777 - val_accuracy: 0.7115\n",
      "Epoch 25/150\n",
      "17/17 [==============================] - 0s 8ms/step - loss: 0.5673 - accuracy: 0.7491 - val_loss: 0.5525 - val_accuracy: 0.7675\n",
      "Epoch 26/150\n",
      "17/17 [==============================] - 0s 8ms/step - loss: 0.5434 - accuracy: 0.7772 - val_loss: 0.5276 - val_accuracy: 0.7983\n",
      "Epoch 27/150\n",
      "17/17 [==============================] - 0s 8ms/step - loss: 0.5228 - accuracy: 0.7959 - val_loss: 0.5072 - val_accuracy: 0.7983\n",
      "Epoch 28/150\n",
      "17/17 [==============================] - 0s 9ms/step - loss: 0.5068 - accuracy: 0.7846 - val_loss: 0.4928 - val_accuracy: 0.8011\n",
      "Epoch 29/150\n",
      "17/17 [==============================] - 0s 8ms/step - loss: 0.4946 - accuracy: 0.7828 - val_loss: 0.4828 - val_accuracy: 0.7983\n",
      "Epoch 30/150\n",
      "17/17 [==============================] - 0s 8ms/step - loss: 0.4872 - accuracy: 0.7884 - val_loss: 0.4754 - val_accuracy: 0.7983\n",
      "Epoch 31/150\n",
      "17/17 [==============================] - 0s 8ms/step - loss: 0.4821 - accuracy: 0.7865 - val_loss: 0.4698 - val_accuracy: 0.8067\n",
      "Epoch 32/150\n",
      "17/17 [==============================] - 0s 8ms/step - loss: 0.4782 - accuracy: 0.7884 - val_loss: 0.4657 - val_accuracy: 0.8067\n",
      "Epoch 33/150\n",
      "17/17 [==============================] - 0s 8ms/step - loss: 0.4749 - accuracy: 0.7884 - val_loss: 0.4626 - val_accuracy: 0.8011\n",
      "Epoch 34/150\n",
      "17/17 [==============================] - 0s 8ms/step - loss: 0.4723 - accuracy: 0.7959 - val_loss: 0.4584 - val_accuracy: 0.8151\n",
      "Epoch 35/150\n",
      "17/17 [==============================] - 0s 8ms/step - loss: 0.4682 - accuracy: 0.7940 - val_loss: 0.4560 - val_accuracy: 0.7955\n",
      "Epoch 36/150\n",
      "17/17 [==============================] - 0s 8ms/step - loss: 0.4656 - accuracy: 0.8015 - val_loss: 0.4530 - val_accuracy: 0.8039\n",
      "Epoch 37/150\n",
      "17/17 [==============================] - 0s 8ms/step - loss: 0.4633 - accuracy: 0.8052 - val_loss: 0.4511 - val_accuracy: 0.7955\n",
      "Epoch 38/150\n",
      "17/17 [==============================] - 0s 8ms/step - loss: 0.4609 - accuracy: 0.8071 - val_loss: 0.4481 - val_accuracy: 0.8039\n",
      "Epoch 39/150\n",
      "17/17 [==============================] - 0s 8ms/step - loss: 0.4577 - accuracy: 0.8071 - val_loss: 0.4455 - val_accuracy: 0.8039\n",
      "Epoch 40/150\n",
      "17/17 [==============================] - 0s 7ms/step - loss: 0.4549 - accuracy: 0.8052 - val_loss: 0.4417 - val_accuracy: 0.8095\n",
      "Epoch 41/150\n",
      "17/17 [==============================] - 0s 8ms/step - loss: 0.4507 - accuracy: 0.8127 - val_loss: 0.4402 - val_accuracy: 0.8095\n",
      "Epoch 42/150\n",
      "17/17 [==============================] - 0s 8ms/step - loss: 0.4483 - accuracy: 0.8184 - val_loss: 0.4383 - val_accuracy: 0.8095\n",
      "Epoch 43/150\n",
      "17/17 [==============================] - 0s 8ms/step - loss: 0.4480 - accuracy: 0.8127 - val_loss: 0.4338 - val_accuracy: 0.8123\n",
      "Epoch 44/150\n",
      "17/17 [==============================] - 0s 8ms/step - loss: 0.4420 - accuracy: 0.8221 - val_loss: 0.4337 - val_accuracy: 0.8151\n",
      "Epoch 45/150\n",
      "17/17 [==============================] - 0s 8ms/step - loss: 0.4399 - accuracy: 0.8258 - val_loss: 0.4303 - val_accuracy: 0.8151\n",
      "Epoch 46/150\n",
      "17/17 [==============================] - 0s 8ms/step - loss: 0.4372 - accuracy: 0.8240 - val_loss: 0.4283 - val_accuracy: 0.8151\n",
      "Epoch 47/150\n",
      "17/17 [==============================] - 0s 8ms/step - loss: 0.4353 - accuracy: 0.8240 - val_loss: 0.4268 - val_accuracy: 0.8179\n",
      "Epoch 48/150\n",
      "17/17 [==============================] - 0s 8ms/step - loss: 0.4331 - accuracy: 0.8240 - val_loss: 0.4253 - val_accuracy: 0.8179\n",
      "Epoch 49/150\n",
      "17/17 [==============================] - 0s 8ms/step - loss: 0.4326 - accuracy: 0.8296 - val_loss: 0.4254 - val_accuracy: 0.8179\n",
      "Epoch 50/150\n",
      "17/17 [==============================] - 0s 8ms/step - loss: 0.4300 - accuracy: 0.8258 - val_loss: 0.4233 - val_accuracy: 0.8179\n",
      "Epoch 51/150\n",
      "17/17 [==============================] - 0s 9ms/step - loss: 0.4300 - accuracy: 0.8240 - val_loss: 0.4226 - val_accuracy: 0.8179\n",
      "Epoch 52/150\n",
      "17/17 [==============================] - 0s 8ms/step - loss: 0.4267 - accuracy: 0.8258 - val_loss: 0.4225 - val_accuracy: 0.8207\n",
      "Epoch 53/150\n",
      "17/17 [==============================] - 0s 9ms/step - loss: 0.4264 - accuracy: 0.8240 - val_loss: 0.4210 - val_accuracy: 0.8179\n",
      "Epoch 54/150\n",
      "17/17 [==============================] - 0s 8ms/step - loss: 0.4248 - accuracy: 0.8277 - val_loss: 0.4220 - val_accuracy: 0.8179\n",
      "Epoch 55/150\n",
      "17/17 [==============================] - 0s 9ms/step - loss: 0.4245 - accuracy: 0.8258 - val_loss: 0.4193 - val_accuracy: 0.8151\n",
      "Epoch 56/150\n",
      "17/17 [==============================] - 0s 8ms/step - loss: 0.4233 - accuracy: 0.8240 - val_loss: 0.4210 - val_accuracy: 0.8179\n",
      "Epoch 57/150\n",
      "17/17 [==============================] - 0s 8ms/step - loss: 0.4222 - accuracy: 0.8221 - val_loss: 0.4180 - val_accuracy: 0.8179\n",
      "Epoch 58/150\n",
      "17/17 [==============================] - 0s 8ms/step - loss: 0.4207 - accuracy: 0.8240 - val_loss: 0.4181 - val_accuracy: 0.8179\n",
      "Epoch 59/150\n",
      "17/17 [==============================] - 0s 8ms/step - loss: 0.4201 - accuracy: 0.8258 - val_loss: 0.4188 - val_accuracy: 0.8207\n",
      "Epoch 60/150\n",
      "17/17 [==============================] - 0s 8ms/step - loss: 0.4184 - accuracy: 0.8296 - val_loss: 0.4191 - val_accuracy: 0.8179\n",
      "Epoch 61/150\n",
      "17/17 [==============================] - 0s 8ms/step - loss: 0.4172 - accuracy: 0.8333 - val_loss: 0.4170 - val_accuracy: 0.8207\n",
      "Epoch 62/150\n",
      "17/17 [==============================] - 0s 8ms/step - loss: 0.4167 - accuracy: 0.8296 - val_loss: 0.4167 - val_accuracy: 0.8207\n",
      "Epoch 63/150\n",
      "17/17 [==============================] - 0s 8ms/step - loss: 0.4170 - accuracy: 0.8202 - val_loss: 0.4171 - val_accuracy: 0.8207\n",
      "Epoch 64/150\n",
      "17/17 [==============================] - 0s 8ms/step - loss: 0.4168 - accuracy: 0.8258 - val_loss: 0.4157 - val_accuracy: 0.8207\n",
      "Epoch 65/150\n",
      "17/17 [==============================] - 0s 8ms/step - loss: 0.4166 - accuracy: 0.8296 - val_loss: 0.4180 - val_accuracy: 0.8179\n",
      "Epoch 66/150\n",
      "17/17 [==============================] - 0s 8ms/step - loss: 0.4151 - accuracy: 0.8333 - val_loss: 0.4156 - val_accuracy: 0.8207\n",
      "Epoch 67/150\n",
      "17/17 [==============================] - 0s 8ms/step - loss: 0.4148 - accuracy: 0.8315 - val_loss: 0.4161 - val_accuracy: 0.8207\n",
      "Epoch 68/150\n",
      "17/17 [==============================] - 0s 8ms/step - loss: 0.4147 - accuracy: 0.8352 - val_loss: 0.4179 - val_accuracy: 0.8179\n",
      "Epoch 69/150\n",
      "17/17 [==============================] - 0s 8ms/step - loss: 0.4115 - accuracy: 0.8333 - val_loss: 0.4154 - val_accuracy: 0.8207\n",
      "Epoch 70/150\n",
      "17/17 [==============================] - 0s 8ms/step - loss: 0.4122 - accuracy: 0.8296 - val_loss: 0.4166 - val_accuracy: 0.8207\n",
      "Epoch 71/150\n",
      "17/17 [==============================] - 0s 8ms/step - loss: 0.4116 - accuracy: 0.8315 - val_loss: 0.4159 - val_accuracy: 0.8207\n",
      "Epoch 72/150\n",
      "17/17 [==============================] - 0s 8ms/step - loss: 0.4093 - accuracy: 0.8352 - val_loss: 0.4164 - val_accuracy: 0.8151\n",
      "Epoch 73/150\n",
      "17/17 [==============================] - 0s 8ms/step - loss: 0.4092 - accuracy: 0.8390 - val_loss: 0.4168 - val_accuracy: 0.8123\n",
      "Epoch 74/150\n",
      "17/17 [==============================] - 0s 8ms/step - loss: 0.4092 - accuracy: 0.8371 - val_loss: 0.4149 - val_accuracy: 0.8207\n",
      "Epoch 75/150\n",
      "17/17 [==============================] - 0s 8ms/step - loss: 0.4099 - accuracy: 0.8352 - val_loss: 0.4174 - val_accuracy: 0.8123\n",
      "Epoch 76/150\n",
      "17/17 [==============================] - 0s 8ms/step - loss: 0.4072 - accuracy: 0.8408 - val_loss: 0.4149 - val_accuracy: 0.8263\n",
      "Epoch 77/150\n",
      "17/17 [==============================] - 0s 8ms/step - loss: 0.4075 - accuracy: 0.8333 - val_loss: 0.4154 - val_accuracy: 0.8123\n",
      "Epoch 78/150\n",
      "17/17 [==============================] - 0s 8ms/step - loss: 0.4067 - accuracy: 0.8371 - val_loss: 0.4158 - val_accuracy: 0.8123\n",
      "Epoch 79/150\n",
      "17/17 [==============================] - 0s 8ms/step - loss: 0.4060 - accuracy: 0.8427 - val_loss: 0.4149 - val_accuracy: 0.8151\n",
      "Epoch 80/150\n",
      "17/17 [==============================] - 0s 8ms/step - loss: 0.4054 - accuracy: 0.8371 - val_loss: 0.4156 - val_accuracy: 0.8123\n",
      "Epoch 81/150\n",
      "17/17 [==============================] - 0s 8ms/step - loss: 0.4053 - accuracy: 0.8371 - val_loss: 0.4173 - val_accuracy: 0.8123\n",
      "Epoch 82/150\n",
      "17/17 [==============================] - 0s 8ms/step - loss: 0.4044 - accuracy: 0.8427 - val_loss: 0.4151 - val_accuracy: 0.8207\n",
      "Epoch 83/150\n",
      "17/17 [==============================] - 0s 7ms/step - loss: 0.4048 - accuracy: 0.8408 - val_loss: 0.4166 - val_accuracy: 0.8123\n",
      "Epoch 84/150\n",
      "17/17 [==============================] - 0s 8ms/step - loss: 0.4045 - accuracy: 0.8408 - val_loss: 0.4158 - val_accuracy: 0.8207\n",
      "Epoch 85/150\n",
      "17/17 [==============================] - 0s 9ms/step - loss: 0.4031 - accuracy: 0.8371 - val_loss: 0.4166 - val_accuracy: 0.8151\n",
      "Epoch 86/150\n",
      "17/17 [==============================] - 0s 8ms/step - loss: 0.4026 - accuracy: 0.8408 - val_loss: 0.4170 - val_accuracy: 0.8151\n",
      "Epoch 87/150\n",
      "17/17 [==============================] - 0s 9ms/step - loss: 0.4017 - accuracy: 0.8408 - val_loss: 0.4156 - val_accuracy: 0.8207\n",
      "Epoch 88/150\n",
      "17/17 [==============================] - 0s 11ms/step - loss: 0.4026 - accuracy: 0.8408 - val_loss: 0.4159 - val_accuracy: 0.8207\n",
      "Epoch 89/150\n",
      "17/17 [==============================] - 0s 8ms/step - loss: 0.4010 - accuracy: 0.8408 - val_loss: 0.4178 - val_accuracy: 0.8151\n",
      "Epoch 90/150\n",
      "17/17 [==============================] - 0s 8ms/step - loss: 0.4014 - accuracy: 0.8408 - val_loss: 0.4159 - val_accuracy: 0.8207\n",
      "Epoch 91/150\n",
      "17/17 [==============================] - 0s 8ms/step - loss: 0.4005 - accuracy: 0.8371 - val_loss: 0.4173 - val_accuracy: 0.8151\n",
      "Epoch 92/150\n",
      "17/17 [==============================] - 0s 7ms/step - loss: 0.3996 - accuracy: 0.8446 - val_loss: 0.4155 - val_accuracy: 0.8235\n",
      "Epoch 93/150\n",
      "17/17 [==============================] - 0s 8ms/step - loss: 0.3989 - accuracy: 0.8408 - val_loss: 0.4163 - val_accuracy: 0.8151\n",
      "Epoch 94/150\n",
      "17/17 [==============================] - 0s 8ms/step - loss: 0.3988 - accuracy: 0.8390 - val_loss: 0.4183 - val_accuracy: 0.8179\n",
      "Epoch 95/150\n",
      "17/17 [==============================] - 0s 8ms/step - loss: 0.3993 - accuracy: 0.8390 - val_loss: 0.4159 - val_accuracy: 0.8235\n",
      "Epoch 96/150\n",
      "17/17 [==============================] - 0s 8ms/step - loss: 0.3976 - accuracy: 0.8446 - val_loss: 0.4177 - val_accuracy: 0.8151\n",
      "Epoch 97/150\n",
      "17/17 [==============================] - 0s 8ms/step - loss: 0.3974 - accuracy: 0.8464 - val_loss: 0.4165 - val_accuracy: 0.8235\n",
      "Epoch 98/150\n",
      "17/17 [==============================] - 0s 8ms/step - loss: 0.3970 - accuracy: 0.8464 - val_loss: 0.4166 - val_accuracy: 0.8235\n",
      "Epoch 99/150\n",
      "17/17 [==============================] - 0s 8ms/step - loss: 0.3965 - accuracy: 0.8464 - val_loss: 0.4169 - val_accuracy: 0.8235\n",
      "Epoch 100/150\n",
      "17/17 [==============================] - 0s 8ms/step - loss: 0.3968 - accuracy: 0.8427 - val_loss: 0.4171 - val_accuracy: 0.8235\n",
      "Epoch 101/150\n",
      "17/17 [==============================] - 0s 8ms/step - loss: 0.3963 - accuracy: 0.8464 - val_loss: 0.4161 - val_accuracy: 0.8235\n",
      "Epoch 102/150\n",
      "17/17 [==============================] - 0s 8ms/step - loss: 0.3978 - accuracy: 0.8352 - val_loss: 0.4196 - val_accuracy: 0.8207\n",
      "Epoch 103/150\n",
      "17/17 [==============================] - 0s 8ms/step - loss: 0.3965 - accuracy: 0.8502 - val_loss: 0.4164 - val_accuracy: 0.8235\n",
      "Epoch 104/150\n",
      "17/17 [==============================] - 0s 7ms/step - loss: 0.3952 - accuracy: 0.8483 - val_loss: 0.4182 - val_accuracy: 0.8263\n",
      "Epoch 105/150\n",
      "17/17 [==============================] - 0s 7ms/step - loss: 0.3953 - accuracy: 0.8427 - val_loss: 0.4167 - val_accuracy: 0.8235\n",
      "Epoch 106/150\n",
      "17/17 [==============================] - 0s 8ms/step - loss: 0.3956 - accuracy: 0.8558 - val_loss: 0.4166 - val_accuracy: 0.8291\n",
      "Epoch 107/150\n",
      "17/17 [==============================] - 0s 8ms/step - loss: 0.3948 - accuracy: 0.8446 - val_loss: 0.4198 - val_accuracy: 0.8235\n",
      "Epoch 108/150\n",
      "17/17 [==============================] - 0s 7ms/step - loss: 0.3926 - accuracy: 0.8464 - val_loss: 0.4170 - val_accuracy: 0.8291\n",
      "Epoch 109/150\n",
      "17/17 [==============================] - 0s 7ms/step - loss: 0.3939 - accuracy: 0.8558 - val_loss: 0.4167 - val_accuracy: 0.8291\n",
      "Epoch 110/150\n",
      "17/17 [==============================] - 0s 7ms/step - loss: 0.3930 - accuracy: 0.8427 - val_loss: 0.4181 - val_accuracy: 0.8291\n",
      "Epoch 111/150\n",
      "17/17 [==============================] - 0s 7ms/step - loss: 0.3923 - accuracy: 0.8464 - val_loss: 0.4179 - val_accuracy: 0.8263\n",
      "Epoch 112/150\n",
      "17/17 [==============================] - 0s 7ms/step - loss: 0.3915 - accuracy: 0.8521 - val_loss: 0.4178 - val_accuracy: 0.8291\n",
      "Epoch 113/150\n",
      "17/17 [==============================] - 0s 8ms/step - loss: 0.3915 - accuracy: 0.8539 - val_loss: 0.4183 - val_accuracy: 0.8291\n",
      "Epoch 114/150\n",
      "17/17 [==============================] - 0s 8ms/step - loss: 0.3915 - accuracy: 0.8521 - val_loss: 0.4195 - val_accuracy: 0.8263\n",
      "Epoch 115/150\n",
      "17/17 [==============================] - 0s 7ms/step - loss: 0.3906 - accuracy: 0.8539 - val_loss: 0.4182 - val_accuracy: 0.8291\n",
      "Epoch 116/150\n",
      "17/17 [==============================] - 0s 7ms/step - loss: 0.3903 - accuracy: 0.8539 - val_loss: 0.4184 - val_accuracy: 0.8319\n",
      "Epoch 117/150\n",
      "17/17 [==============================] - 0s 7ms/step - loss: 0.3944 - accuracy: 0.8521 - val_loss: 0.4177 - val_accuracy: 0.8291\n",
      "Epoch 118/150\n",
      "17/17 [==============================] - 0s 8ms/step - loss: 0.3934 - accuracy: 0.8427 - val_loss: 0.4224 - val_accuracy: 0.8095\n",
      "Epoch 119/150\n",
      "17/17 [==============================] - 0s 7ms/step - loss: 0.3892 - accuracy: 0.8614 - val_loss: 0.4186 - val_accuracy: 0.8235\n",
      "Epoch 120/150\n",
      "17/17 [==============================] - 0s 8ms/step - loss: 0.3894 - accuracy: 0.8539 - val_loss: 0.4189 - val_accuracy: 0.8319\n",
      "Epoch 121/150\n",
      "17/17 [==============================] - 0s 8ms/step - loss: 0.3900 - accuracy: 0.8577 - val_loss: 0.4193 - val_accuracy: 0.8291\n",
      "Epoch 122/150\n",
      "17/17 [==============================] - 0s 8ms/step - loss: 0.3894 - accuracy: 0.8539 - val_loss: 0.4198 - val_accuracy: 0.8319\n",
      "Epoch 123/150\n",
      "17/17 [==============================] - 0s 8ms/step - loss: 0.3887 - accuracy: 0.8539 - val_loss: 0.4198 - val_accuracy: 0.8319\n",
      "Epoch 124/150\n",
      "17/17 [==============================] - 0s 8ms/step - loss: 0.3882 - accuracy: 0.8539 - val_loss: 0.4196 - val_accuracy: 0.8319\n",
      "Epoch 125/150\n",
      "17/17 [==============================] - 0s 8ms/step - loss: 0.3878 - accuracy: 0.8539 - val_loss: 0.4204 - val_accuracy: 0.8319\n",
      "Epoch 126/150\n",
      "17/17 [==============================] - 0s 8ms/step - loss: 0.3874 - accuracy: 0.8539 - val_loss: 0.4195 - val_accuracy: 0.8263\n",
      "Epoch 127/150\n",
      "17/17 [==============================] - 0s 8ms/step - loss: 0.3886 - accuracy: 0.8521 - val_loss: 0.4196 - val_accuracy: 0.8263\n",
      "Epoch 128/150\n",
      "17/17 [==============================] - 0s 8ms/step - loss: 0.3868 - accuracy: 0.8539 - val_loss: 0.4205 - val_accuracy: 0.8319\n",
      "Epoch 129/150\n",
      "17/17 [==============================] - 0s 8ms/step - loss: 0.3868 - accuracy: 0.8539 - val_loss: 0.4205 - val_accuracy: 0.8319\n",
      "Epoch 130/150\n",
      "17/17 [==============================] - 0s 8ms/step - loss: 0.3864 - accuracy: 0.8539 - val_loss: 0.4204 - val_accuracy: 0.8263\n",
      "Epoch 131/150\n",
      "17/17 [==============================] - 0s 8ms/step - loss: 0.3862 - accuracy: 0.8577 - val_loss: 0.4203 - val_accuracy: 0.8263\n",
      "Epoch 132/150\n",
      "17/17 [==============================] - 0s 8ms/step - loss: 0.3861 - accuracy: 0.8577 - val_loss: 0.4203 - val_accuracy: 0.8263\n",
      "Epoch 133/150\n",
      "17/17 [==============================] - 0s 8ms/step - loss: 0.3859 - accuracy: 0.8577 - val_loss: 0.4206 - val_accuracy: 0.8263\n",
      "Epoch 134/150\n",
      "17/17 [==============================] - 0s 8ms/step - loss: 0.3870 - accuracy: 0.8539 - val_loss: 0.4223 - val_accuracy: 0.8319\n",
      "Epoch 135/150\n",
      "17/17 [==============================] - 0s 8ms/step - loss: 0.3868 - accuracy: 0.8577 - val_loss: 0.4200 - val_accuracy: 0.8263\n",
      "Epoch 136/150\n",
      "17/17 [==============================] - 0s 7ms/step - loss: 0.3855 - accuracy: 0.8558 - val_loss: 0.4214 - val_accuracy: 0.8263\n",
      "Epoch 137/150\n",
      "17/17 [==============================] - 0s 8ms/step - loss: 0.3859 - accuracy: 0.8539 - val_loss: 0.4216 - val_accuracy: 0.8263\n",
      "Epoch 138/150\n",
      "17/17 [==============================] - 0s 8ms/step - loss: 0.3864 - accuracy: 0.8521 - val_loss: 0.4212 - val_accuracy: 0.8263\n",
      "Epoch 139/150\n",
      "17/17 [==============================] - 0s 8ms/step - loss: 0.3848 - accuracy: 0.8577 - val_loss: 0.4216 - val_accuracy: 0.8263\n",
      "Epoch 140/150\n",
      "17/17 [==============================] - 0s 8ms/step - loss: 0.3858 - accuracy: 0.8521 - val_loss: 0.4211 - val_accuracy: 0.8263\n",
      "Epoch 141/150\n",
      "17/17 [==============================] - 0s 8ms/step - loss: 0.3858 - accuracy: 0.8521 - val_loss: 0.4216 - val_accuracy: 0.8235\n",
      "Epoch 142/150\n",
      "17/17 [==============================] - 0s 8ms/step - loss: 0.3842 - accuracy: 0.8539 - val_loss: 0.4216 - val_accuracy: 0.8263\n",
      "Epoch 143/150\n",
      "17/17 [==============================] - 0s 7ms/step - loss: 0.3842 - accuracy: 0.8577 - val_loss: 0.4212 - val_accuracy: 0.8263\n",
      "Epoch 144/150\n",
      "17/17 [==============================] - 0s 8ms/step - loss: 0.3842 - accuracy: 0.8577 - val_loss: 0.4217 - val_accuracy: 0.8263\n",
      "Epoch 145/150\n",
      "17/17 [==============================] - 0s 8ms/step - loss: 0.3831 - accuracy: 0.8577 - val_loss: 0.4218 - val_accuracy: 0.8263\n",
      "Epoch 146/150\n",
      "17/17 [==============================] - 0s 8ms/step - loss: 0.3839 - accuracy: 0.8577 - val_loss: 0.4227 - val_accuracy: 0.8263\n",
      "Epoch 147/150\n",
      "17/17 [==============================] - 0s 8ms/step - loss: 0.3838 - accuracy: 0.8558 - val_loss: 0.4220 - val_accuracy: 0.8235\n",
      "Epoch 148/150\n",
      "17/17 [==============================] - 0s 8ms/step - loss: 0.3827 - accuracy: 0.8539 - val_loss: 0.4223 - val_accuracy: 0.8263\n",
      "Epoch 149/150\n",
      "17/17 [==============================] - 0s 9ms/step - loss: 0.3823 - accuracy: 0.8539 - val_loss: 0.4220 - val_accuracy: 0.8263\n",
      "Epoch 150/150\n",
      "17/17 [==============================] - 0s 8ms/step - loss: 0.3841 - accuracy: 0.8558 - val_loss: 0.4221 - val_accuracy: 0.8263\n"
     ]
    }
   ],
   "source": [
    "rate = 0.000199999999999998\n",
    "opt = tf.keras.optimizers.Adam(learning_rate = rate)\n",
    "model.compile(optimizer= opt, \n",
    "                  loss = \"binary_crossentropy\",\n",
    "                  metrics=[\"accuracy\"])\n",
    "\n",
    "history = model.fit(X_train,\n",
    "                        y_train_encode,\n",
    "                        validation_data=(X_test, y_test_encode),\n",
    "                        epochs = 150,\n",
    "                        verbose = True)\n"
   ]
  },
  {
   "cell_type": "code",
   "execution_count": 72,
   "id": "f575835a",
   "metadata": {
    "execution": {
     "iopub.execute_input": "2022-12-06T16:09:12.728988Z",
     "iopub.status.busy": "2022-12-06T16:09:12.728581Z",
     "iopub.status.idle": "2022-12-06T16:09:12.859317Z",
     "shell.execute_reply": "2022-12-06T16:09:12.857504Z"
    },
    "papermill": {
     "duration": 0.194582,
     "end_time": "2022-12-06T16:09:12.861834",
     "exception": false,
     "start_time": "2022-12-06T16:09:12.667252",
     "status": "completed"
    },
    "tags": []
   },
   "outputs": [
    {
     "name": "stdout",
     "output_type": "stream",
     "text": [
      "12/12 [==============================] - 0s 3ms/step - loss: 0.4221 - accuracy: 0.8263\n",
      "Accuracy: 82.6331\n"
     ]
    }
   ],
   "source": [
    "_, accuracy = model.evaluate(X_test, y_test_encode)\n",
    "print('Accuracy: %.4f' % (accuracy*100))"
   ]
  },
  {
   "cell_type": "code",
   "execution_count": 73,
   "id": "e9909149",
   "metadata": {
    "execution": {
     "iopub.execute_input": "2022-12-06T16:09:12.985316Z",
     "iopub.status.busy": "2022-12-06T16:09:12.984860Z",
     "iopub.status.idle": "2022-12-06T16:09:13.313233Z",
     "shell.execute_reply": "2022-12-06T16:09:13.311835Z"
    },
    "papermill": {
     "duration": 0.393563,
     "end_time": "2022-12-06T16:09:13.315940",
     "exception": false,
     "start_time": "2022-12-06T16:09:12.922377",
     "status": "completed"
    },
    "tags": []
   },
   "outputs": [
    {
     "data": {
      "text/plain": [
       "array([[201,  19],\n",
       "       [ 43,  94]])"
      ]
     },
     "execution_count": 73,
     "metadata": {},
     "output_type": "execute_result"
    }
   ],
   "source": [
    "\n",
    "y_pred = model.predict(X_test)\n",
    "Y_pred = np.argmax(model.predict(X_test),axis=1)\n",
    "cm = confusion_matrix(y_test, Y_pred)\n",
    "recall = cm[1][1]/(cm[0][1] + cm[1][1]) #TP/(TP+FN)\n",
    "cm"
   ]
  },
  {
   "cell_type": "code",
   "execution_count": null,
   "id": "4e844b6e",
   "metadata": {
    "papermill": {
     "duration": 0.059086,
     "end_time": "2022-12-06T16:09:13.433743",
     "exception": false,
     "start_time": "2022-12-06T16:09:13.374657",
     "status": "completed"
    },
    "tags": []
   },
   "outputs": [],
   "source": []
  },
  {
   "cell_type": "code",
   "execution_count": null,
   "id": "2360b363",
   "metadata": {
    "papermill": {
     "duration": 0.061194,
     "end_time": "2022-12-06T16:09:13.553728",
     "exception": false,
     "start_time": "2022-12-06T16:09:13.492534",
     "status": "completed"
    },
    "tags": []
   },
   "outputs": [],
   "source": []
  },
  {
   "cell_type": "code",
   "execution_count": null,
   "id": "b91e3c23",
   "metadata": {
    "papermill": {
     "duration": 0.057619,
     "end_time": "2022-12-06T16:09:13.669611",
     "exception": false,
     "start_time": "2022-12-06T16:09:13.611992",
     "status": "completed"
    },
    "tags": []
   },
   "outputs": [],
   "source": []
  },
  {
   "cell_type": "code",
   "execution_count": null,
   "id": "07a8abb9",
   "metadata": {
    "papermill": {
     "duration": 0.058155,
     "end_time": "2022-12-06T16:09:13.786902",
     "exception": false,
     "start_time": "2022-12-06T16:09:13.728747",
     "status": "completed"
    },
    "tags": []
   },
   "outputs": [],
   "source": []
  },
  {
   "cell_type": "code",
   "execution_count": null,
   "id": "cc39be9f",
   "metadata": {
    "papermill": {
     "duration": 0.059445,
     "end_time": "2022-12-06T16:09:13.905218",
     "exception": false,
     "start_time": "2022-12-06T16:09:13.845773",
     "status": "completed"
    },
    "tags": []
   },
   "outputs": [],
   "source": []
  },
  {
   "cell_type": "code",
   "execution_count": null,
   "id": "98133072",
   "metadata": {
    "papermill": {
     "duration": 0.132329,
     "end_time": "2022-12-06T16:09:14.096119",
     "exception": false,
     "start_time": "2022-12-06T16:09:13.963790",
     "status": "completed"
    },
    "tags": []
   },
   "outputs": [],
   "source": []
  }
 ],
 "metadata": {
  "kernelspec": {
   "display_name": "Python 3",
   "language": "python",
   "name": "python3"
  },
  "language_info": {
   "codemirror_mode": {
    "name": "ipython",
    "version": 3
   },
   "file_extension": ".py",
   "mimetype": "text/x-python",
   "name": "python",
   "nbconvert_exporter": "python",
   "pygments_lexer": "ipython3",
   "version": "3.7.12"
  },
  "papermill": {
   "default_parameters": {},
   "duration": 55.591948,
   "end_time": "2022-12-06T16:09:17.556855",
   "environment_variables": {},
   "exception": null,
   "input_path": "__notebook__.ipynb",
   "output_path": "__notebook__.ipynb",
   "parameters": {},
   "start_time": "2022-12-06T16:08:21.964907",
   "version": "2.3.4"
  }
 },
 "nbformat": 4,
 "nbformat_minor": 5
}
